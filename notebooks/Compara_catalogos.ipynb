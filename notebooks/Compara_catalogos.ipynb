{
 "cells": [
  {
   "cell_type": "markdown",
   "id": "radio-integral",
   "metadata": {},
   "source": [
    "# Compara catálogo"
   ]
  },
  {
   "cell_type": "markdown",
   "id": "retired-western",
   "metadata": {
    "heading_collapsed": true
   },
   "source": [
    "## Importar"
   ]
  },
  {
   "cell_type": "code",
   "execution_count": 1,
   "id": "human-couple",
   "metadata": {
    "ExecuteTime": {
     "end_time": "2021-02-12T00:26:03.717058Z",
     "start_time": "2021-02-12T00:26:02.923433Z"
    },
    "hidden": true
   },
   "outputs": [
    {
     "data": {
      "text/plain": [
       "['.DS_Store', 'product_branches_heb_chedraui.xlsx']"
      ]
     },
     "execution_count": 1,
     "metadata": {},
     "output_type": "execute_result"
    }
   ],
   "source": [
    "# %load basic\n",
    "import os\n",
    "import numpy as np\n",
    "import pandas as pd\n",
    "import matplotlib.pyplot as plt\n",
    "pd.set_option('display.max_columns',200)\n",
    "pd.options.display.float_format = '{:.2f}'.format\n",
    "liga = '/Users/efraflores/Desktop/EF/corner/data/'\n",
    "os.listdir(liga)"
   ]
  },
  {
   "cell_type": "code",
   "execution_count": 2,
   "id": "annoying-german",
   "metadata": {
    "ExecuteTime": {
     "end_time": "2021-02-12T00:26:14.684640Z",
     "start_time": "2021-02-12T00:26:03.719291Z"
    },
    "hidden": true
   },
   "outputs": [
    {
     "data": {
      "text/html": [
       "<div>\n",
       "<style scoped>\n",
       "    .dataframe tbody tr th:only-of-type {\n",
       "        vertical-align: middle;\n",
       "    }\n",
       "\n",
       "    .dataframe tbody tr th {\n",
       "        vertical-align: top;\n",
       "    }\n",
       "\n",
       "    .dataframe thead th {\n",
       "        text-align: right;\n",
       "    }\n",
       "</style>\n",
       "<table border=\"1\" class=\"dataframe\">\n",
       "  <thead>\n",
       "    <tr style=\"text-align: right;\">\n",
       "      <th></th>\n",
       "      <th>month</th>\n",
       "      <th>country</th>\n",
       "      <th>store</th>\n",
       "      <th>branch</th>\n",
       "      <th>product_name</th>\n",
       "      <th>product_id</th>\n",
       "      <th>sku</th>\n",
       "      <th>barcodes</th>\n",
       "      <th>category</th>\n",
       "      <th>brand</th>\n",
       "      <th>sales</th>\n",
       "      <th>orders</th>\n",
       "      <th>quantity_found</th>\n",
       "      <th>quantity_ordered</th>\n",
       "      <th>found_rate</th>\n",
       "      <th>branch_price_avg</th>\n",
       "      <th>cornershop_price_avg</th>\n",
       "      <th>city</th>\n",
       "    </tr>\n",
       "  </thead>\n",
       "  <tbody>\n",
       "    <tr>\n",
       "      <th>3476</th>\n",
       "      <td>Jan-21</td>\n",
       "      <td>MX</td>\n",
       "      <td>HEB</td>\n",
       "      <td>San Luis Potosí</td>\n",
       "      <td>refresco sin azucar sabor limon</td>\n",
       "      <td>318545</td>\n",
       "      <td>NaN</td>\n",
       "      <td>{7501055366316,7501055311453}</td>\n",
       "      <td>Gaseosas</td>\n",
       "      <td>Sprite</td>\n",
       "      <td>89</td>\n",
       "      <td>4</td>\n",
       "      <td>6</td>\n",
       "      <td>8</td>\n",
       "      <td>75</td>\n",
       "      <td>15</td>\n",
       "      <td>15</td>\n",
       "      <td>SLP</td>\n",
       "    </tr>\n",
       "    <tr>\n",
       "      <th>34810</th>\n",
       "      <td>Jan-21</td>\n",
       "      <td>MX</td>\n",
       "      <td>Chedraui</td>\n",
       "      <td>Chedraui Juriquilla Selecto</td>\n",
       "      <td>shampoo liquido para ropa delicada</td>\n",
       "      <td>212066</td>\n",
       "      <td>359708</td>\n",
       "      <td>{7509546070506}</td>\n",
       "      <td>Lavandería</td>\n",
       "      <td>Vel Rosita</td>\n",
       "      <td>72</td>\n",
       "      <td>1</td>\n",
       "      <td>1</td>\n",
       "      <td>1</td>\n",
       "      <td>100</td>\n",
       "      <td>72</td>\n",
       "      <td>72</td>\n",
       "      <td>QRO</td>\n",
       "    </tr>\n",
       "    <tr>\n",
       "      <th>9539</th>\n",
       "      <td>Jan-21</td>\n",
       "      <td>MX</td>\n",
       "      <td>HEB</td>\n",
       "      <td>Leon campestre</td>\n",
       "      <td>pechuga de pavo natural 1 kg</td>\n",
       "      <td>197092</td>\n",
       "      <td>394832</td>\n",
       "      <td>{2566191000000}</td>\n",
       "      <td>Jamón de pavo</td>\n",
       "      <td>San Rafael</td>\n",
       "      <td>2817</td>\n",
       "      <td>18</td>\n",
       "      <td>9</td>\n",
       "      <td>9</td>\n",
       "      <td>100</td>\n",
       "      <td>309</td>\n",
       "      <td>318</td>\n",
       "      <td>BJX</td>\n",
       "    </tr>\n",
       "    <tr>\n",
       "      <th>23281</th>\n",
       "      <td>Jan-21</td>\n",
       "      <td>MX</td>\n",
       "      <td>HEB</td>\n",
       "      <td>Refugio</td>\n",
       "      <td>tazon regalos siglo xxi avengers 1 pza</td>\n",
       "      <td>331698</td>\n",
       "      <td>NaN</td>\n",
       "      <td>{7501954005927}</td>\n",
       "      <td>Suministros de cocina</td>\n",
       "      <td>Generic from:  Cooking supplies</td>\n",
       "      <td>0</td>\n",
       "      <td>1</td>\n",
       "      <td>0</td>\n",
       "      <td>1</td>\n",
       "      <td>0</td>\n",
       "      <td>23</td>\n",
       "      <td>24</td>\n",
       "      <td>QRO</td>\n",
       "    </tr>\n",
       "  </tbody>\n",
       "</table>\n",
       "</div>"
      ],
      "text/plain": [
       "        month country     store                       branch  \\\n",
       "3476   Jan-21      MX       HEB              San Luis Potosí   \n",
       "34810  Jan-21      MX  Chedraui  Chedraui Juriquilla Selecto   \n",
       "9539   Jan-21      MX       HEB               Leon campestre   \n",
       "23281  Jan-21      MX       HEB                      Refugio   \n",
       "\n",
       "                                 product_name  product_id     sku  \\\n",
       "3476          refresco sin azucar sabor limon      318545     NaN   \n",
       "34810      shampoo liquido para ropa delicada      212066  359708   \n",
       "9539             pechuga de pavo natural 1 kg      197092  394832   \n",
       "23281  tazon regalos siglo xxi avengers 1 pza      331698     NaN   \n",
       "\n",
       "                            barcodes               category  \\\n",
       "3476   {7501055366316,7501055311453}               Gaseosas   \n",
       "34810                {7509546070506}             Lavandería   \n",
       "9539                 {2566191000000}          Jamón de pavo   \n",
       "23281                {7501954005927}  Suministros de cocina   \n",
       "\n",
       "                                 brand  sales  orders  quantity_found  \\\n",
       "3476                            Sprite     89       4               6   \n",
       "34810                       Vel Rosita     72       1               1   \n",
       "9539                        San Rafael   2817      18               9   \n",
       "23281  Generic from:  Cooking supplies      0       1               0   \n",
       "\n",
       "       quantity_ordered  found_rate  branch_price_avg  cornershop_price_avg  \\\n",
       "3476                  8          75                15                    15   \n",
       "34810                 1         100                72                    72   \n",
       "9539                  9         100               309                   318   \n",
       "23281                 1           0                23                    24   \n",
       "\n",
       "      city  \n",
       "3476   SLP  \n",
       "34810  QRO  \n",
       "9539   BJX  \n",
       "23281  QRO  "
      ]
     },
     "execution_count": 2,
     "metadata": {},
     "output_type": "execute_result"
    }
   ],
   "source": [
    "df = pd.read_excel(liga + 'product_branches_heb_chedraui.xlsx', index_col = 0)\n",
    "df.columns = [x.strip().replace(' ','_') for x in df.columns]\n",
    "df.sample(4)"
   ]
  },
  {
   "cell_type": "markdown",
   "id": "guided-figure",
   "metadata": {
    "heading_collapsed": true
   },
   "source": [
    "## Funciones"
   ]
  },
  {
   "cell_type": "code",
   "execution_count": 3,
   "id": "fitted-asset",
   "metadata": {
    "ExecuteTime": {
     "end_time": "2021-02-12T00:26:14.691852Z",
     "start_time": "2021-02-12T00:26:14.687179Z"
    },
    "hidden": true
   },
   "outputs": [],
   "source": [
    "import time\n",
    "import math\n",
    "\n",
    "start = time.time()\n",
    "\n",
    "def time_exp(x):\n",
    "    print(str(int(math.floor(x/60))\n",
    "             ) + \" minutos con \" + '{:.2f}'.format(60*(x/60 - math.floor(x/60))\n",
    "                                                  ) + \" segundos\")"
   ]
  },
  {
   "cell_type": "code",
   "execution_count": 4,
   "id": "tight-collar",
   "metadata": {
    "ExecuteTime": {
     "end_time": "2021-02-12T00:26:14.700507Z",
     "start_time": "2021-02-12T00:26:14.696007Z"
    },
    "hidden": true
   },
   "outputs": [],
   "source": [
    "#Tono para cuando termina el script\n",
    "from IPython.lib.display import Audio\n",
    "import numpy as np\n",
    "\n",
    "def tono(a = 1000, b = 700, play_time_seconds = 1, framerate = 4410,):\n",
    "    t = np.linspace(0, play_time_seconds, framerate*play_time_seconds)*np.pi\n",
    "    return Audio(np.sin(a*t) + np.sin(b*t), rate = framerate, autoplay=True)"
   ]
  },
  {
   "cell_type": "markdown",
   "id": "bacterial-given",
   "metadata": {
    "ExecuteTime": {
     "end_time": "2021-02-10T23:25:34.415216Z",
     "start_time": "2021-02-10T23:25:16.866709Z"
    },
    "hidden": true
   },
   "source": [
    "PARA BUG CON NLTK\n",
    "\n",
    "import nltk\n",
    "import ssl\n",
    "\n",
    "try:\n",
    "    _create_unverified_https_context = ssl._create_unverified_context\n",
    "except AttributeError:\n",
    "    pass\n",
    "else:\n",
    "    ssl._create_default_https_context = _create_unverified_https_context\n",
    "\n",
    "nltk.download()"
   ]
  },
  {
   "cell_type": "code",
   "execution_count": 5,
   "id": "charged-entertainment",
   "metadata": {
    "ExecuteTime": {
     "end_time": "2021-02-12T00:26:15.728907Z",
     "start_time": "2021-02-12T00:26:14.702839Z"
    },
    "hidden": true
   },
   "outputs": [],
   "source": [
    "import re\n",
    "import unicodedata\n",
    "from nltk.corpus import stopwords\n",
    "from nltk.stem import WordNetLemmatizer\n",
    "\n",
    "lem = WordNetLemmatizer()\n",
    "\n",
    "def clean_text(text,language = 'spanish',\n",
    "               add_stopwords = [], \n",
    "               pattern ='[^a-zA-Z0-9]'):\n",
    "    cleaned_text = unicodedata.normalize('NFD', str(text)).encode('ascii', 'ignore')\n",
    "    cleaned_text = re.sub(pattern, ' ', \n",
    "                          cleaned_text.decode('utf-8'), \n",
    "                          flags = re.UNICODE)\n",
    "    cleaned_text = ' '.join([lem.lemmatize(word) for word in \n",
    "                             cleaned_text.strip().lower().split() if word not in \n",
    "                             stopwords.words(language) + add_stopwords])\n",
    "    return cleaned_text"
   ]
  },
  {
   "cell_type": "code",
   "execution_count": 6,
   "id": "resident-nicaragua",
   "metadata": {
    "ExecuteTime": {
     "end_time": "2021-02-12T00:26:17.261040Z",
     "start_time": "2021-02-12T00:26:15.730759Z"
    },
    "hidden": true
   },
   "outputs": [
    {
     "data": {
      "text/plain": [
       "['nuevo', 'ano', 'feliz', 'jardoni']"
      ]
     },
     "execution_count": 6,
     "metadata": {},
     "output_type": "execute_result"
    }
   ],
   "source": [
    "aux = 'Jardoni, que tengas y un muy Feliz AÑo nuevo!!!!'\n",
    "aux = clean_text(aux).split()[::-1]\n",
    "aux"
   ]
  },
  {
   "cell_type": "code",
   "execution_count": 7,
   "id": "developed-bronze",
   "metadata": {
    "ExecuteTime": {
     "end_time": "2021-02-12T00:26:17.271773Z",
     "start_time": "2021-02-12T00:26:17.263007Z"
    },
    "hidden": true
   },
   "outputs": [],
   "source": [
    "import re\n",
    "from functools import reduce\n",
    "\n",
    "def busca_prod(tienda_uno, \n",
    "               tienda_dos,\n",
    "               id_col,\n",
    "               name_col, \n",
    "               price_col,\n",
    "               dif_price = True):\n",
    "    total = []\n",
    "    for i,prod_tienda_uno in zip(tienda_uno[id_col],tienda_uno[name_col]):\n",
    "        product = reduce(lambda x,y: x+'\\s[\\S\\s]*'+y,\n",
    "                         prod_tienda_uno.split())+'[\\S\\s]*'\n",
    "        inverse = reduce(lambda x,y: x+'\\s[\\S\\s]*'+y,\n",
    "                         prod_tienda_uno.split()[::-1])+'[\\S\\s]*'\n",
    "        lista = []        \n",
    "        for j,prod_tienda_dos in zip(tienda_dos[id_col],tienda_dos[name_col]):\n",
    "            aux = (re.findall(f'{product}',prod_tienda_dos) +\n",
    "                   re.findall(f'{inverse}', prod_tienda_dos))\n",
    "            if len(aux) > 0: lista.append(j)   \n",
    "                \n",
    "        if len(lista) > 0:\n",
    "            if dif_price:\n",
    "                min_price = pd.DataFrame(abs(tienda_uno.set_index(id_col).loc[i,price_col] -\n",
    "                                             tienda_dos.set_index(id_col).loc[lista,price_col]), \n",
    "                                         index = lista).idxmin()\n",
    "                total.append((i,min_price[0]))\n",
    "            else:\n",
    "                total.append((i,lista))\n",
    "    return total"
   ]
  },
  {
   "cell_type": "markdown",
   "id": "manufactured-statistics",
   "metadata": {
    "heading_collapsed": true
   },
   "source": [
    "## Limpieza"
   ]
  },
  {
   "cell_type": "code",
   "execution_count": 8,
   "id": "accepted-secret",
   "metadata": {
    "ExecuteTime": {
     "end_time": "2021-02-12T00:26:17.321399Z",
     "start_time": "2021-02-12T00:26:17.277511Z"
    },
    "hidden": true
   },
   "outputs": [
    {
     "data": {
      "text/html": [
       "<div>\n",
       "<style scoped>\n",
       "    .dataframe tbody tr th:only-of-type {\n",
       "        vertical-align: middle;\n",
       "    }\n",
       "\n",
       "    .dataframe tbody tr th {\n",
       "        vertical-align: top;\n",
       "    }\n",
       "\n",
       "    .dataframe thead th {\n",
       "        text-align: right;\n",
       "    }\n",
       "</style>\n",
       "<table border=\"1\" class=\"dataframe\">\n",
       "  <thead>\n",
       "    <tr style=\"text-align: right;\">\n",
       "      <th></th>\n",
       "      <th>prod_cat</th>\n",
       "    </tr>\n",
       "  </thead>\n",
       "  <tbody>\n",
       "    <tr>\n",
       "      <th>13482</th>\n",
       "      <td>barritas con relleno de fresa galletas dulces</td>\n",
       "    </tr>\n",
       "    <tr>\n",
       "      <th>33352</th>\n",
       "      <td>palomitas sal de mar palomitas saladas</td>\n",
       "    </tr>\n",
       "    <tr>\n",
       "      <th>26408</th>\n",
       "      <td>huevo blanco huevos</td>\n",
       "    </tr>\n",
       "    <tr>\n",
       "      <th>15185</th>\n",
       "      <td>chorizo de pavo premium reducido en grasa chor...</td>\n",
       "    </tr>\n",
       "    <tr>\n",
       "      <th>23890</th>\n",
       "      <td>totopo frito pan</td>\n",
       "    </tr>\n",
       "    <tr>\n",
       "      <th>7191</th>\n",
       "      <td>galletas sin azucar doradas al horno galletas ...</td>\n",
       "    </tr>\n",
       "    <tr>\n",
       "      <th>7965</th>\n",
       "      <td>jugos shot de manzana jugos y néctares</td>\n",
       "    </tr>\n",
       "    <tr>\n",
       "      <th>12648</th>\n",
       "      <td>alcohol en gel lociones y jabones</td>\n",
       "    </tr>\n",
       "    <tr>\n",
       "      <th>30793</th>\n",
       "      <td>chuleta de res para asar carne de res</td>\n",
       "    </tr>\n",
       "    <tr>\n",
       "      <th>8823</th>\n",
       "      <td>mousse rizos cuidado del cabello</td>\n",
       "    </tr>\n",
       "    <tr>\n",
       "      <th>8959</th>\n",
       "      <td>orejas feite pan dulce</td>\n",
       "    </tr>\n",
       "  </tbody>\n",
       "</table>\n",
       "</div>"
      ],
      "text/plain": [
       "                                                prod_cat\n",
       "13482      barritas con relleno de fresa galletas dulces\n",
       "33352             palomitas sal de mar palomitas saladas\n",
       "26408                                huevo blanco huevos\n",
       "15185  chorizo de pavo premium reducido en grasa chor...\n",
       "23890                                   totopo frito pan\n",
       "7191   galletas sin azucar doradas al horno galletas ...\n",
       "7965              jugos shot de manzana jugos y néctares\n",
       "12648                  alcohol en gel lociones y jabones\n",
       "30793              chuleta de res para asar carne de res\n",
       "8823                    mousse rizos cuidado del cabello\n",
       "8959                              orejas feite pan dulce"
      ]
     },
     "execution_count": 8,
     "metadata": {},
     "output_type": "execute_result"
    }
   ],
   "source": [
    "#Nombre unido con categoría para no confundir Nochebuena cerveza vs flores\n",
    "df['prod_cat'] = df['product_name'] + \" \" + df['category'].str.lower()\n",
    "df[['prod_cat']].sample(11)"
   ]
  },
  {
   "cell_type": "code",
   "execution_count": 9,
   "id": "conscious-seminar",
   "metadata": {
    "ExecuteTime": {
     "end_time": "2021-02-12T00:27:17.162779Z",
     "start_time": "2021-02-12T00:26:17.324990Z"
    },
    "hidden": true
   },
   "outputs": [],
   "source": [
    "import concurrent.futures\n",
    "\n",
    "texto = 'prod_cat'\n",
    "with concurrent.futures.ThreadPoolExecutor() as executor:\n",
    "    limpio = list(executor.map(clean_text, df[texto]))\n",
    "\n",
    "df[f'{texto}_limpio'] = list(map(lambda x:str(x),limpio))"
   ]
  },
  {
   "cell_type": "code",
   "execution_count": 10,
   "id": "threatened-commander",
   "metadata": {
    "ExecuteTime": {
     "end_time": "2021-02-12T00:27:17.190215Z",
     "start_time": "2021-02-12T00:27:17.164507Z"
    },
    "hidden": true
   },
   "outputs": [
    {
     "data": {
      "text/html": [
       "<div>\n",
       "<style scoped>\n",
       "    .dataframe tbody tr th:only-of-type {\n",
       "        vertical-align: middle;\n",
       "    }\n",
       "\n",
       "    .dataframe tbody tr th {\n",
       "        vertical-align: top;\n",
       "    }\n",
       "\n",
       "    .dataframe thead th {\n",
       "        text-align: right;\n",
       "    }\n",
       "</style>\n",
       "<table border=\"1\" class=\"dataframe\">\n",
       "  <thead>\n",
       "    <tr style=\"text-align: right;\">\n",
       "      <th></th>\n",
       "      <th>prod_cat</th>\n",
       "      <th>prod_cat_limpio</th>\n",
       "    </tr>\n",
       "  </thead>\n",
       "  <tbody>\n",
       "    <tr>\n",
       "      <th>30964</th>\n",
       "      <td>crayones twistables escritura</td>\n",
       "      <td>crayones twistables escritura</td>\n",
       "    </tr>\n",
       "    <tr>\n",
       "      <th>4529</th>\n",
       "      <td>antiacido con acido acetilsalicilico y cafeina...</td>\n",
       "      <td>antiacido acido acetilsalicilico cafeina antia...</td>\n",
       "    </tr>\n",
       "    <tr>\n",
       "      <th>22550</th>\n",
       "      <td>sazonador tipo consome de verduras natural esp...</td>\n",
       "      <td>sazonador tipo consome verduras natural especi...</td>\n",
       "    </tr>\n",
       "    <tr>\n",
       "      <th>2902</th>\n",
       "      <td>limpiador mascotas exteriores aseo de baño y c...</td>\n",
       "      <td>limpiador mascotas exteriores aseo bano cocina</td>\n",
       "    </tr>\n",
       "    <tr>\n",
       "      <th>11459</th>\n",
       "      <td>tomate verde organico verduras y frutas envasadas</td>\n",
       "      <td>tomate verde organico verduras frutas envasadas</td>\n",
       "    </tr>\n",
       "    <tr>\n",
       "      <th>4691</th>\n",
       "      <td>arroz para sushi calrose arroz y granos</td>\n",
       "      <td>arroz sushi calrose arroz granos</td>\n",
       "    </tr>\n",
       "    <tr>\n",
       "      <th>27713</th>\n",
       "      <td>crema reducida en grasa crema</td>\n",
       "      <td>crema reducida grasa crema</td>\n",
       "    </tr>\n",
       "    <tr>\n",
       "      <th>25882</th>\n",
       "      <td>aceite de oliva extra virgen aceites de oliva</td>\n",
       "      <td>aceite oliva extra virgen aceites oliva</td>\n",
       "    </tr>\n",
       "    <tr>\n",
       "      <th>16473</th>\n",
       "      <td>espejo w31 accesorios de belleza</td>\n",
       "      <td>espejo w31 accesorios belleza</td>\n",
       "    </tr>\n",
       "    <tr>\n",
       "      <th>32197</th>\n",
       "      <td>jabon dermatologico en barra lociones y jabones</td>\n",
       "      <td>jabon dermatologico barra lociones jabones</td>\n",
       "    </tr>\n",
       "    <tr>\n",
       "      <th>14426</th>\n",
       "      <td>cartuchos para afeitar afeitado</td>\n",
       "      <td>cartuchos afeitar afeitado</td>\n",
       "    </tr>\n",
       "  </tbody>\n",
       "</table>\n",
       "</div>"
      ],
      "text/plain": [
       "                                                prod_cat  \\\n",
       "30964                      crayones twistables escritura   \n",
       "4529   antiacido con acido acetilsalicilico y cafeina...   \n",
       "22550  sazonador tipo consome de verduras natural esp...   \n",
       "2902   limpiador mascotas exteriores aseo de baño y c...   \n",
       "11459  tomate verde organico verduras y frutas envasadas   \n",
       "4691             arroz para sushi calrose arroz y granos   \n",
       "27713                      crema reducida en grasa crema   \n",
       "25882      aceite de oliva extra virgen aceites de oliva   \n",
       "16473                   espejo w31 accesorios de belleza   \n",
       "32197    jabon dermatologico en barra lociones y jabones   \n",
       "14426                    cartuchos para afeitar afeitado   \n",
       "\n",
       "                                         prod_cat_limpio  \n",
       "30964                      crayones twistables escritura  \n",
       "4529   antiacido acido acetilsalicilico cafeina antia...  \n",
       "22550  sazonador tipo consome verduras natural especi...  \n",
       "2902      limpiador mascotas exteriores aseo bano cocina  \n",
       "11459    tomate verde organico verduras frutas envasadas  \n",
       "4691                    arroz sushi calrose arroz granos  \n",
       "27713                         crema reducida grasa crema  \n",
       "25882            aceite oliva extra virgen aceites oliva  \n",
       "16473                      espejo w31 accesorios belleza  \n",
       "32197         jabon dermatologico barra lociones jabones  \n",
       "14426                         cartuchos afeitar afeitado  "
      ]
     },
     "execution_count": 10,
     "metadata": {},
     "output_type": "execute_result"
    }
   ],
   "source": [
    "df[[texto,f'{texto}_limpio']].sample(11)"
   ]
  },
  {
   "cell_type": "code",
   "execution_count": 11,
   "id": "opponent-polyester",
   "metadata": {
    "ExecuteTime": {
     "end_time": "2021-02-12T00:27:17.201183Z",
     "start_time": "2021-02-12T00:27:17.192620Z"
    },
    "hidden": true
   },
   "outputs": [],
   "source": [
    "df.drop(columns = ['month', 'country','sku', 'barcodes','sales', \n",
    "                   'orders','quantity_found', 'quantity_ordered',\n",
    "                   'found_rate','cornershop_price_avg'], inplace = True)"
   ]
  },
  {
   "cell_type": "markdown",
   "id": "arabic-columbia",
   "metadata": {},
   "source": [
    "## Comparación"
   ]
  },
  {
   "cell_type": "code",
   "execution_count": 12,
   "id": "private-support",
   "metadata": {
    "ExecuteTime": {
     "end_time": "2021-02-12T00:27:17.229828Z",
     "start_time": "2021-02-12T00:27:17.202999Z"
    }
   },
   "outputs": [
    {
     "data": {
      "text/plain": [
       "HEB        0.82\n",
       "Chedraui   0.18\n",
       "Name: store, dtype: float64"
      ]
     },
     "execution_count": 12,
     "metadata": {},
     "output_type": "execute_result"
    }
   ],
   "source": [
    "#Qué tiendas venden de campestre/Campestre?\n",
    "df[df['branch'].str.contains('ampestre')]['store'].value_counts(1)"
   ]
  },
  {
   "cell_type": "code",
   "execution_count": 13,
   "id": "vital-sixth",
   "metadata": {
    "ExecuteTime": {
     "end_time": "2021-02-12T00:27:17.297048Z",
     "start_time": "2021-02-12T00:27:17.232156Z"
    }
   },
   "outputs": [
    {
     "data": {
      "text/html": [
       "<div>\n",
       "<style scoped>\n",
       "    .dataframe tbody tr th:only-of-type {\n",
       "        vertical-align: middle;\n",
       "    }\n",
       "\n",
       "    .dataframe tbody tr th {\n",
       "        vertical-align: top;\n",
       "    }\n",
       "\n",
       "    .dataframe thead th {\n",
       "        text-align: right;\n",
       "    }\n",
       "</style>\n",
       "<table border=\"1\" class=\"dataframe\">\n",
       "  <thead>\n",
       "    <tr style=\"text-align: right;\">\n",
       "      <th></th>\n",
       "      <th>store</th>\n",
       "      <th>branch</th>\n",
       "      <th>product_name</th>\n",
       "      <th>product_id</th>\n",
       "      <th>category</th>\n",
       "      <th>brand</th>\n",
       "      <th>branch_price_avg</th>\n",
       "      <th>city</th>\n",
       "      <th>prod_cat</th>\n",
       "      <th>prod_cat_limpio</th>\n",
       "    </tr>\n",
       "  </thead>\n",
       "  <tbody>\n",
       "    <tr>\n",
       "      <th>8526</th>\n",
       "      <td>HEB</td>\n",
       "      <td>Leon campestre</td>\n",
       "      <td>masa hojaldre</td>\n",
       "      <td>2361243</td>\n",
       "      <td>Panes y masas</td>\n",
       "      <td>HEB</td>\n",
       "      <td>54</td>\n",
       "      <td>BJX</td>\n",
       "      <td>masa hojaldre panes y masas</td>\n",
       "      <td>masa hojaldre pane masa</td>\n",
       "    </tr>\n",
       "  </tbody>\n",
       "</table>\n",
       "</div>"
      ],
      "text/plain": [
       "     store          branch   product_name  product_id       category brand  \\\n",
       "8526   HEB  Leon campestre  masa hojaldre     2361243  Panes y masas   HEB   \n",
       "\n",
       "      branch_price_avg city                     prod_cat  \\\n",
       "8526                54  BJX  masa hojaldre panes y masas   \n",
       "\n",
       "              prod_cat_limpio  \n",
       "8526  masa hojaldre pane masa  "
      ]
     },
     "metadata": {},
     "output_type": "display_data"
    },
    {
     "data": {
      "text/html": [
       "<div>\n",
       "<style scoped>\n",
       "    .dataframe tbody tr th:only-of-type {\n",
       "        vertical-align: middle;\n",
       "    }\n",
       "\n",
       "    .dataframe tbody tr th {\n",
       "        vertical-align: top;\n",
       "    }\n",
       "\n",
       "    .dataframe thead th {\n",
       "        text-align: right;\n",
       "    }\n",
       "</style>\n",
       "<table border=\"1\" class=\"dataframe\">\n",
       "  <thead>\n",
       "    <tr style=\"text-align: right;\">\n",
       "      <th></th>\n",
       "      <th>store</th>\n",
       "      <th>branch</th>\n",
       "      <th>product_name</th>\n",
       "      <th>product_id</th>\n",
       "      <th>category</th>\n",
       "      <th>brand</th>\n",
       "      <th>branch_price_avg</th>\n",
       "      <th>city</th>\n",
       "      <th>prod_cat</th>\n",
       "      <th>prod_cat_limpio</th>\n",
       "    </tr>\n",
       "  </thead>\n",
       "  <tbody>\n",
       "    <tr>\n",
       "      <th>28569</th>\n",
       "      <td>Chedraui</td>\n",
       "      <td>Campestre</td>\n",
       "      <td>refresco black</td>\n",
       "      <td>711814</td>\n",
       "      <td>Gaseosas</td>\n",
       "      <td>Pepsi</td>\n",
       "      <td>5</td>\n",
       "      <td>BJX</td>\n",
       "      <td>refresco black gaseosas</td>\n",
       "      <td>refresco black gaseosas</td>\n",
       "    </tr>\n",
       "  </tbody>\n",
       "</table>\n",
       "</div>"
      ],
      "text/plain": [
       "          store     branch    product_name  product_id  category  brand  \\\n",
       "28569  Chedraui  Campestre  refresco black      711814  Gaseosas  Pepsi   \n",
       "\n",
       "       branch_price_avg city                 prod_cat          prod_cat_limpio  \n",
       "28569                 5  BJX  refresco black gaseosas  refresco black gaseosas  "
      ]
     },
     "execution_count": 13,
     "metadata": {},
     "output_type": "execute_result"
    }
   ],
   "source": [
    "#Se separan en dos DataFrames\n",
    "heb = df[(df['branch'].str.contains('ampestre')) & (df['store'] == 'HEB')].copy()\n",
    "df = df[(df['branch'].str.contains('ampestre')) & (df['store'] == 'Chedraui')].copy()\n",
    "backup = df.copy()\n",
    "display(heb.sample())\n",
    "df.sample()"
   ]
  },
  {
   "cell_type": "code",
   "execution_count": 14,
   "id": "fatty-procurement",
   "metadata": {
    "ExecuteTime": {
     "end_time": "2021-02-12T00:27:17.327835Z",
     "start_time": "2021-02-12T00:27:17.298926Z"
    }
   },
   "outputs": [
    {
     "data": {
      "text/html": [
       "<div>\n",
       "<style scoped>\n",
       "    .dataframe tbody tr th:only-of-type {\n",
       "        vertical-align: middle;\n",
       "    }\n",
       "\n",
       "    .dataframe tbody tr th {\n",
       "        vertical-align: top;\n",
       "    }\n",
       "\n",
       "    .dataframe thead th {\n",
       "        text-align: right;\n",
       "    }\n",
       "</style>\n",
       "<table border=\"1\" class=\"dataframe\">\n",
       "  <thead>\n",
       "    <tr style=\"text-align: right;\">\n",
       "      <th></th>\n",
       "      <th>store_x</th>\n",
       "      <th>branch_x</th>\n",
       "      <th>product_name_x</th>\n",
       "      <th>product_id</th>\n",
       "      <th>category_x</th>\n",
       "      <th>brand_x</th>\n",
       "      <th>branch_price_avg_x</th>\n",
       "      <th>city_x</th>\n",
       "      <th>prod_cat_x</th>\n",
       "      <th>prod_cat_limpio_x</th>\n",
       "      <th>store_y</th>\n",
       "      <th>branch_y</th>\n",
       "      <th>product_name_y</th>\n",
       "      <th>category_y</th>\n",
       "      <th>brand_y</th>\n",
       "      <th>branch_price_avg_y</th>\n",
       "      <th>city_y</th>\n",
       "      <th>prod_cat_y</th>\n",
       "      <th>prod_cat_limpio_y</th>\n",
       "    </tr>\n",
       "  </thead>\n",
       "  <tbody>\n",
       "    <tr>\n",
       "      <th>153</th>\n",
       "      <td>Chedraui</td>\n",
       "      <td>Campestre</td>\n",
       "      <td>cereal corn flakes</td>\n",
       "      <td>1418534</td>\n",
       "      <td>Cereales</td>\n",
       "      <td>Kellogg's</td>\n",
       "      <td>44</td>\n",
       "      <td>BJX</td>\n",
       "      <td>cereal corn flakes cereales</td>\n",
       "      <td>cereal corn flake cereales</td>\n",
       "      <td>HEB</td>\n",
       "      <td>Leon campestre</td>\n",
       "      <td>cereal corn flakes</td>\n",
       "      <td>Cereales</td>\n",
       "      <td>Kellogg's</td>\n",
       "      <td>48</td>\n",
       "      <td>BJX</td>\n",
       "      <td>cereal corn flakes cereales</td>\n",
       "      <td>cereal corn flake cereales</td>\n",
       "    </tr>\n",
       "    <tr>\n",
       "      <th>869</th>\n",
       "      <td>Chedraui</td>\n",
       "      <td>Campestre</td>\n",
       "      <td>yoghurt natural sin azucar</td>\n",
       "      <td>1151715</td>\n",
       "      <td>Yoghurt</td>\n",
       "      <td>Santa Clara</td>\n",
       "      <td>26</td>\n",
       "      <td>BJX</td>\n",
       "      <td>yoghurt natural sin azucar yoghurt</td>\n",
       "      <td>yoghurt natural azucar yoghurt</td>\n",
       "      <td>HEB</td>\n",
       "      <td>Leon campestre</td>\n",
       "      <td>yoghurt natural sin azucar</td>\n",
       "      <td>Yoghurt</td>\n",
       "      <td>Santa Clara</td>\n",
       "      <td>23</td>\n",
       "      <td>BJX</td>\n",
       "      <td>yoghurt natural sin azucar yoghurt</td>\n",
       "      <td>yoghurt natural azucar yoghurt</td>\n",
       "    </tr>\n",
       "    <tr>\n",
       "      <th>330</th>\n",
       "      <td>Chedraui</td>\n",
       "      <td>Campestre</td>\n",
       "      <td>granos de elote</td>\n",
       "      <td>335666</td>\n",
       "      <td>Verduras en conserva</td>\n",
       "      <td>Herdez</td>\n",
       "      <td>9</td>\n",
       "      <td>BJX</td>\n",
       "      <td>granos de elote verduras en conserva</td>\n",
       "      <td>granos elote verduras conserva</td>\n",
       "      <td>HEB</td>\n",
       "      <td>Leon campestre</td>\n",
       "      <td>granos de elote</td>\n",
       "      <td>Verduras en conserva</td>\n",
       "      <td>Herdez</td>\n",
       "      <td>9</td>\n",
       "      <td>BJX</td>\n",
       "      <td>granos de elote verduras en conserva</td>\n",
       "      <td>granos elote verduras conserva</td>\n",
       "    </tr>\n",
       "    <tr>\n",
       "      <th>370</th>\n",
       "      <td>Chedraui</td>\n",
       "      <td>Campestre</td>\n",
       "      <td>jabon naturals lavanda</td>\n",
       "      <td>442906</td>\n",
       "      <td>Lociones y jabones</td>\n",
       "      <td>Palmolive</td>\n",
       "      <td>38</td>\n",
       "      <td>BJX</td>\n",
       "      <td>jabon naturals lavanda lociones y jabones</td>\n",
       "      <td>jabon natural lavanda lociones jabones</td>\n",
       "      <td>HEB</td>\n",
       "      <td>Leon campestre</td>\n",
       "      <td>jabon naturals lavanda</td>\n",
       "      <td>Lociones y jabones</td>\n",
       "      <td>Palmolive</td>\n",
       "      <td>60</td>\n",
       "      <td>BJX</td>\n",
       "      <td>jabon naturals lavanda lociones y jabones</td>\n",
       "      <td>jabon natural lavanda lociones jabones</td>\n",
       "    </tr>\n",
       "  </tbody>\n",
       "</table>\n",
       "</div>"
      ],
      "text/plain": [
       "      store_x   branch_x              product_name_x  product_id  \\\n",
       "153  Chedraui  Campestre          cereal corn flakes     1418534   \n",
       "869  Chedraui  Campestre  yoghurt natural sin azucar     1151715   \n",
       "330  Chedraui  Campestre             granos de elote      335666   \n",
       "370  Chedraui  Campestre      jabon naturals lavanda      442906   \n",
       "\n",
       "               category_x      brand_x  branch_price_avg_x city_x  \\\n",
       "153              Cereales    Kellogg's                  44    BJX   \n",
       "869               Yoghurt  Santa Clara                  26    BJX   \n",
       "330  Verduras en conserva       Herdez                   9    BJX   \n",
       "370    Lociones y jabones    Palmolive                  38    BJX   \n",
       "\n",
       "                                    prod_cat_x  \\\n",
       "153                cereal corn flakes cereales   \n",
       "869         yoghurt natural sin azucar yoghurt   \n",
       "330       granos de elote verduras en conserva   \n",
       "370  jabon naturals lavanda lociones y jabones   \n",
       "\n",
       "                          prod_cat_limpio_x store_y        branch_y  \\\n",
       "153              cereal corn flake cereales     HEB  Leon campestre   \n",
       "869          yoghurt natural azucar yoghurt     HEB  Leon campestre   \n",
       "330          granos elote verduras conserva     HEB  Leon campestre   \n",
       "370  jabon natural lavanda lociones jabones     HEB  Leon campestre   \n",
       "\n",
       "                 product_name_y            category_y      brand_y  \\\n",
       "153          cereal corn flakes              Cereales    Kellogg's   \n",
       "869  yoghurt natural sin azucar               Yoghurt  Santa Clara   \n",
       "330             granos de elote  Verduras en conserva       Herdez   \n",
       "370      jabon naturals lavanda    Lociones y jabones    Palmolive   \n",
       "\n",
       "     branch_price_avg_y city_y                                 prod_cat_y  \\\n",
       "153                  48    BJX                cereal corn flakes cereales   \n",
       "869                  23    BJX         yoghurt natural sin azucar yoghurt   \n",
       "330                   9    BJX       granos de elote verduras en conserva   \n",
       "370                  60    BJX  jabon naturals lavanda lociones y jabones   \n",
       "\n",
       "                          prod_cat_limpio_y  \n",
       "153              cereal corn flake cereales  \n",
       "869          yoghurt natural azucar yoghurt  \n",
       "330          granos elote verduras conserva  \n",
       "370  jabon natural lavanda lociones jabones  "
      ]
     },
     "execution_count": 14,
     "metadata": {},
     "output_type": "execute_result"
    }
   ],
   "source": [
    "#Se guardan los registros que coinciden\n",
    "same_prod_id = df.merge(heb, on = 'product_id')\n",
    "same_prod_id.sample(4)"
   ]
  },
  {
   "cell_type": "code",
   "execution_count": 15,
   "id": "given-camping",
   "metadata": {
    "ExecuteTime": {
     "end_time": "2021-02-12T00:27:17.356415Z",
     "start_time": "2021-02-12T00:27:17.331067Z"
    }
   },
   "outputs": [
    {
     "data": {
      "text/html": [
       "<div>\n",
       "<style scoped>\n",
       "    .dataframe tbody tr th:only-of-type {\n",
       "        vertical-align: middle;\n",
       "    }\n",
       "\n",
       "    .dataframe tbody tr th {\n",
       "        vertical-align: top;\n",
       "    }\n",
       "\n",
       "    .dataframe thead th {\n",
       "        text-align: right;\n",
       "    }\n",
       "</style>\n",
       "<table border=\"1\" class=\"dataframe\">\n",
       "  <thead>\n",
       "    <tr style=\"text-align: right;\">\n",
       "      <th></th>\n",
       "      <th>index_x</th>\n",
       "      <th>store_x</th>\n",
       "      <th>branch_x</th>\n",
       "      <th>product_name_x</th>\n",
       "      <th>product_id</th>\n",
       "      <th>category_x</th>\n",
       "      <th>brand_x</th>\n",
       "      <th>branch_price_avg_x</th>\n",
       "      <th>city_x</th>\n",
       "      <th>prod_cat_x</th>\n",
       "      <th>prod_cat_limpio_x</th>\n",
       "      <th>index_y</th>\n",
       "      <th>store_y</th>\n",
       "      <th>branch_y</th>\n",
       "      <th>product_name_y</th>\n",
       "      <th>category_y</th>\n",
       "      <th>brand_y</th>\n",
       "      <th>branch_price_avg_y</th>\n",
       "      <th>city_y</th>\n",
       "      <th>prod_cat_y</th>\n",
       "      <th>prod_cat_limpio_y</th>\n",
       "    </tr>\n",
       "  </thead>\n",
       "  <tbody>\n",
       "  </tbody>\n",
       "</table>\n",
       "</div>"
      ],
      "text/plain": [
       "Empty DataFrame\n",
       "Columns: [index_x, store_x, branch_x, product_name_x, product_id, category_x, brand_x, branch_price_avg_x, city_x, prod_cat_x, prod_cat_limpio_x, index_y, store_y, branch_y, product_name_y, category_y, brand_y, branch_price_avg_y, city_y, prod_cat_y, prod_cat_limpio_y]\n",
       "Index: []"
      ]
     },
     "execution_count": 15,
     "metadata": {},
     "output_type": "execute_result"
    }
   ],
   "source": [
    "# Se omiten los registros correctos de ambos DataFrames\n",
    "df = df[~df['product_id'].isin(same_prod_id['product_id'])]\n",
    "heb = heb[~heb['product_id'].isin(same_prod_id['product_id'])]\n",
    "\n",
    "#Si se re-intenta unirlos por product_id, no se obtendrá ningún match\n",
    "df.merge(heb, on = 'product_id')"
   ]
  },
  {
   "cell_type": "code",
   "execution_count": 16,
   "id": "sustained-contractor",
   "metadata": {
    "ExecuteTime": {
     "end_time": "2021-02-12T00:27:17.406271Z",
     "start_time": "2021-02-12T00:27:17.358210Z"
    }
   },
   "outputs": [
    {
     "data": {
      "text/html": [
       "<div>\n",
       "<style scoped>\n",
       "    .dataframe tbody tr th:only-of-type {\n",
       "        vertical-align: middle;\n",
       "    }\n",
       "\n",
       "    .dataframe tbody tr th {\n",
       "        vertical-align: top;\n",
       "    }\n",
       "\n",
       "    .dataframe thead th {\n",
       "        text-align: right;\n",
       "    }\n",
       "</style>\n",
       "<table border=\"1\" class=\"dataframe\">\n",
       "  <thead>\n",
       "    <tr style=\"text-align: right;\">\n",
       "      <th></th>\n",
       "      <th>store_x</th>\n",
       "      <th>branch_x</th>\n",
       "      <th>product_name_x</th>\n",
       "      <th>product_id_x</th>\n",
       "      <th>category_x</th>\n",
       "      <th>brand_x</th>\n",
       "      <th>branch_price_avg_x</th>\n",
       "      <th>city_x</th>\n",
       "      <th>prod_cat_x</th>\n",
       "      <th>prod_cat_limpio</th>\n",
       "      <th>store_y</th>\n",
       "      <th>branch_y</th>\n",
       "      <th>product_name_y</th>\n",
       "      <th>product_id_y</th>\n",
       "      <th>category_y</th>\n",
       "      <th>brand_y</th>\n",
       "      <th>branch_price_avg_y</th>\n",
       "      <th>city_y</th>\n",
       "      <th>prod_cat_y</th>\n",
       "    </tr>\n",
       "  </thead>\n",
       "  <tbody>\n",
       "    <tr>\n",
       "      <th>272</th>\n",
       "      <td>Chedraui</td>\n",
       "      <td>Campestre</td>\n",
       "      <td>pure de tomate condimentado</td>\n",
       "      <td>197468</td>\n",
       "      <td>Salsas para pasta</td>\n",
       "      <td>Herdez</td>\n",
       "      <td>5</td>\n",
       "      <td>BJX</td>\n",
       "      <td>pure de tomate condimentado salsas para pasta</td>\n",
       "      <td>pure tomate condimentado salsa pasta</td>\n",
       "      <td>HEB</td>\n",
       "      <td>Leon campestre</td>\n",
       "      <td>pure tomate condimentado</td>\n",
       "      <td>342956</td>\n",
       "      <td>Salsas para pasta</td>\n",
       "      <td>Del Monte</td>\n",
       "      <td>5</td>\n",
       "      <td>BJX</td>\n",
       "      <td>pure tomate condimentado salsas para pasta</td>\n",
       "    </tr>\n",
       "  </tbody>\n",
       "</table>\n",
       "</div>"
      ],
      "text/plain": [
       "      store_x   branch_x               product_name_x  product_id_x  \\\n",
       "272  Chedraui  Campestre  pure de tomate condimentado        197468   \n",
       "\n",
       "            category_x brand_x  branch_price_avg_x city_x  \\\n",
       "272  Salsas para pasta  Herdez                   5    BJX   \n",
       "\n",
       "                                        prod_cat_x  \\\n",
       "272  pure de tomate condimentado salsas para pasta   \n",
       "\n",
       "                          prod_cat_limpio store_y        branch_y  \\\n",
       "272  pure tomate condimentado salsa pasta     HEB  Leon campestre   \n",
       "\n",
       "               product_name_y  product_id_y         category_y    brand_y  \\\n",
       "272  pure tomate condimentado        342956  Salsas para pasta  Del Monte   \n",
       "\n",
       "     branch_price_avg_y city_y                                  prod_cat_y  \n",
       "272                   5    BJX  pure tomate condimentado salsas para pasta  "
      ]
     },
     "metadata": {},
     "output_type": "display_data"
    },
    {
     "data": {
      "text/html": [
       "<div>\n",
       "<style scoped>\n",
       "    .dataframe tbody tr th:only-of-type {\n",
       "        vertical-align: middle;\n",
       "    }\n",
       "\n",
       "    .dataframe tbody tr th {\n",
       "        vertical-align: top;\n",
       "    }\n",
       "\n",
       "    .dataframe thead th {\n",
       "        text-align: right;\n",
       "    }\n",
       "</style>\n",
       "<table border=\"1\" class=\"dataframe\">\n",
       "  <thead>\n",
       "    <tr style=\"text-align: right;\">\n",
       "      <th></th>\n",
       "      <th>store_x</th>\n",
       "      <th>branch_x</th>\n",
       "      <th>product_name_x</th>\n",
       "      <th>product_id_x</th>\n",
       "      <th>category_x</th>\n",
       "      <th>brand_x</th>\n",
       "      <th>branch_price_avg_x</th>\n",
       "      <th>city_x</th>\n",
       "      <th>prod_cat_x</th>\n",
       "      <th>prod_cat_limpio</th>\n",
       "      <th>store_y</th>\n",
       "      <th>branch_y</th>\n",
       "      <th>product_name_y</th>\n",
       "      <th>product_id_y</th>\n",
       "      <th>category_y</th>\n",
       "      <th>brand_y</th>\n",
       "      <th>branch_price_avg_y</th>\n",
       "      <th>city_y</th>\n",
       "      <th>prod_cat_y</th>\n",
       "    </tr>\n",
       "  </thead>\n",
       "  <tbody>\n",
       "  </tbody>\n",
       "</table>\n",
       "</div>"
      ],
      "text/plain": [
       "Empty DataFrame\n",
       "Columns: [store_x, branch_x, product_name_x, product_id_x, category_x, brand_x, branch_price_avg_x, city_x, prod_cat_x, prod_cat_limpio, store_y, branch_y, product_name_y, product_id_y, category_y, brand_y, branch_price_avg_y, city_y, prod_cat_y]\n",
       "Index: []"
      ]
     },
     "execution_count": 16,
     "metadata": {},
     "output_type": "execute_result"
    }
   ],
   "source": [
    "#Mismo caso para nombres exactamente iguales (limpios)\n",
    "same_prod_name = df.merge(heb, on = 'prod_cat_limpio')\n",
    "df = df[~df['prod_cat_limpio'].isin(same_prod_name['prod_cat_limpio'])]\n",
    "heb = heb[~heb['prod_cat_limpio'].isin(same_prod_name['prod_cat_limpio'])]\n",
    "\n",
    "display(same_prod_name.sample())\n",
    "df.merge(heb, on = 'prod_cat_limpio')"
   ]
  },
  {
   "cell_type": "markdown",
   "id": "distant-paraguay",
   "metadata": {
    "heading_collapsed": true
   },
   "source": [
    "## Resultado"
   ]
  },
  {
   "cell_type": "markdown",
   "id": "returning-weapon",
   "metadata": {
    "hidden": true
   },
   "source": [
    "La función opera de la siguiente manera:\n",
    "\n",
    "1. Itera sobre cada producto de la primera tabla\n",
    "2. Separa el producto en palabras\n",
    "3. Mediante regex, condiciona que cada palabra del producto aparecerá en la segunda tabla, puede haber (o no) una o más palabras entre las que va a buscar\n",
    "4. Repite la búsqueda pero con las palabras ordenadas inversamente\n",
    "5. El resultado serán pares: el índice de la primer tabla junto con la lista de todos los índices de la segunda tabla con productos con similitud en el nombre\n",
    "6. Compara el precio de cada producto en la lista (obtenida de la tabla dos) y se queda con el índice del producto con menor diferencia absoluta en el precio\n"
   ]
  },
  {
   "cell_type": "code",
   "execution_count": 17,
   "id": "personalized-correlation",
   "metadata": {
    "ExecuteTime": {
     "end_time": "2021-02-12T00:27:17.921886Z",
     "start_time": "2021-02-12T00:27:17.408533Z"
    },
    "hidden": true,
    "scrolled": false
   },
   "outputs": [
    {
     "name": "stdout",
     "output_type": "stream",
     "text": [
      "Producto: AGUA MINERAL SABOR FRESA\n",
      "\n",
      "Similares:\n",
      "\t- agua mineral light sabor fresa\n",
      "\t- agua mineral light sabor fresa\n",
      "-------------------------------------------------\n",
      "\n",
      "Producto: AGUACATE\n",
      "\n",
      "Similares:\n",
      "\t- aguacate primera\n",
      "\t- aguacate supremo\n",
      "-------------------------------------------------\n",
      "\n",
      "Producto: AJO\n",
      "\n",
      "Similares:\n",
      "\t- ajo supremo\n",
      "-------------------------------------------------\n",
      "\n",
      "Producto: ALCOHOL\n",
      "\n",
      "Similares:\n",
      "\t- alcohol desnaturalizado 125 ml spray dosificador\n",
      "\t- alcohol etilico\n",
      "\t- alcohol etilico\n",
      "\t- alcohol etilico\n",
      "-------------------------------------------------\n",
      "\n"
     ]
    }
   ],
   "source": [
    "for x,y in busca_prod(df.head(7),heb,'product_id','prod_cat','branch_price_avg',False):\n",
    "    print('Producto: ' + df.set_index('product_id').loc[x,'product_name'].upper())\n",
    "    print('\\nSimilares:' + '\\n\\t- ' + \n",
    "          '\\n\\t- '.join(heb.set_index('product_id').loc[y,'product_name']) + '\\n' +\n",
    "          '-'*49 + '\\n')"
   ]
  },
  {
   "cell_type": "code",
   "execution_count": 18,
   "id": "alike-nursing",
   "metadata": {
    "ExecuteTime": {
     "end_time": "2021-02-12T00:27:27.722223Z",
     "start_time": "2021-02-12T00:27:17.923468Z"
    },
    "hidden": true
   },
   "outputs": [
    {
     "data": {
      "text/plain": [
       "[(375277, 341460), (1298234, 318637), (167725, 1842146), (1071919, 216192)]"
      ]
     },
     "execution_count": 18,
     "metadata": {},
     "output_type": "execute_result"
    }
   ],
   "source": [
    "indices = busca_prod(df,heb,'product_id','prod_cat','branch_price_avg')\n",
    "indices[:4]"
   ]
  },
  {
   "cell_type": "code",
   "execution_count": 19,
   "id": "urban-eleven",
   "metadata": {
    "ExecuteTime": {
     "end_time": "2021-02-12T00:27:27.759769Z",
     "start_time": "2021-02-12T00:27:27.724185Z"
    },
    "hidden": true
   },
   "outputs": [
    {
     "name": "stdout",
     "output_type": "stream",
     "text": [
      "Producto: AGUA MINERAL SABOR FRESA\n",
      "Coincide: agua mineral light sabor fresa\n",
      "\n",
      "Producto: AGUACATE\n",
      "Coincide: aguacate primera\n",
      "\n",
      "Producto: AJO\n",
      "Coincide: ajo supremo\n",
      "\n",
      "Producto: ALCOHOL\n",
      "Coincide: alcohol etilico\n",
      "\n",
      "Producto: ARENA PARA GATOS\n",
      "Coincide: arena para gatos aglutinante clasica\n",
      "\n",
      "Producto: AVENA HOJUELAS\n",
      "Coincide: avena organica en hojuelas\n",
      "\n",
      "Producto: BACTERICIDA\n",
      "Coincide: bactericida para agua y alimentos\n",
      "\n",
      "Producto: BEBIDA EN POLVO SABOR LIMON\n",
      "Coincide: bebida light en polvo sabor limon\n",
      "\n",
      "Producto: BEBIDA PULPA DE GUAYABA\n",
      "Coincide: bebida tradicional de pulpa de guayaba\n",
      "\n"
     ]
    }
   ],
   "source": [
    "for x,y in indices[:9]:\n",
    "    print('Producto: ' + df.set_index('product_id').loc[x,'product_name'].upper())\n",
    "    print('Coincide: ' + heb.set_index('product_id').loc[y,'product_name'] +'\\n')"
   ]
  },
  {
   "cell_type": "code",
   "execution_count": 20,
   "id": "mental-attendance",
   "metadata": {
    "ExecuteTime": {
     "end_time": "2021-02-12T00:27:27.791160Z",
     "start_time": "2021-02-12T00:27:27.762483Z"
    },
    "hidden": true
   },
   "outputs": [
    {
     "data": {
      "text/html": [
       "<div>\n",
       "<style scoped>\n",
       "    .dataframe tbody tr th:only-of-type {\n",
       "        vertical-align: middle;\n",
       "    }\n",
       "\n",
       "    .dataframe tbody tr th {\n",
       "        vertical-align: top;\n",
       "    }\n",
       "\n",
       "    .dataframe thead th {\n",
       "        text-align: right;\n",
       "    }\n",
       "</style>\n",
       "<table border=\"1\" class=\"dataframe\">\n",
       "  <thead>\n",
       "    <tr style=\"text-align: right;\">\n",
       "      <th></th>\n",
       "      <th>store_x</th>\n",
       "      <th>branch_x</th>\n",
       "      <th>product_name_x</th>\n",
       "      <th>product_id_x</th>\n",
       "      <th>category_x</th>\n",
       "      <th>brand_x</th>\n",
       "      <th>branch_price_avg_x</th>\n",
       "      <th>city_x</th>\n",
       "      <th>prod_cat_x</th>\n",
       "      <th>prod_cat_limpio_x</th>\n",
       "      <th>store_y</th>\n",
       "      <th>branch_y</th>\n",
       "      <th>product_name_y</th>\n",
       "      <th>product_id_y</th>\n",
       "      <th>category_y</th>\n",
       "      <th>brand_y</th>\n",
       "      <th>branch_price_avg_y</th>\n",
       "      <th>city_y</th>\n",
       "      <th>prod_cat_y</th>\n",
       "      <th>prod_cat_limpio_y</th>\n",
       "    </tr>\n",
       "  </thead>\n",
       "  <tbody>\n",
       "    <tr>\n",
       "      <th>67</th>\n",
       "      <td>Chedraui</td>\n",
       "      <td>Campestre</td>\n",
       "      <td>servitoalla</td>\n",
       "      <td>336274</td>\n",
       "      <td>Productos de papel</td>\n",
       "      <td>Vogue</td>\n",
       "      <td>27</td>\n",
       "      <td>BJX</td>\n",
       "      <td>servitoalla productos de papel</td>\n",
       "      <td>servitoalla productos papel</td>\n",
       "      <td>HEB</td>\n",
       "      <td>Leon campestre</td>\n",
       "      <td>servitoalla jumbo de hoja doble</td>\n",
       "      <td>2521050</td>\n",
       "      <td>Productos de papel</td>\n",
       "      <td>Pétalo</td>\n",
       "      <td>24</td>\n",
       "      <td>BJX</td>\n",
       "      <td>servitoalla jumbo de hoja doble productos de p...</td>\n",
       "      <td>servitoalla jumbo hoja doble productos papel</td>\n",
       "    </tr>\n",
       "  </tbody>\n",
       "</table>\n",
       "</div>"
      ],
      "text/plain": [
       "     store_x   branch_x product_name_x  product_id_x          category_x  \\\n",
       "67  Chedraui  Campestre    servitoalla        336274  Productos de papel   \n",
       "\n",
       "   brand_x  branch_price_avg_x city_x                      prod_cat_x  \\\n",
       "67   Vogue                  27    BJX  servitoalla productos de papel   \n",
       "\n",
       "              prod_cat_limpio_x store_y        branch_y  \\\n",
       "67  servitoalla productos papel     HEB  Leon campestre   \n",
       "\n",
       "                     product_name_y  product_id_y          category_y brand_y  \\\n",
       "67  servitoalla jumbo de hoja doble       2521050  Productos de papel  Pétalo   \n",
       "\n",
       "    branch_price_avg_y city_y  \\\n",
       "67                  24    BJX   \n",
       "\n",
       "                                           prod_cat_y  \\\n",
       "67  servitoalla jumbo de hoja doble productos de p...   \n",
       "\n",
       "                               prod_cat_limpio_y  \n",
       "67  servitoalla jumbo hoja doble productos papel  "
      ]
     },
     "execution_count": 20,
     "metadata": {},
     "output_type": "execute_result"
    }
   ],
   "source": [
    "regex_price=pd.DataFrame(indices).merge(df,\n",
    "                                        left_on=0,\n",
    "                                        right_on='product_id').merge(heb,\n",
    "                                                                     left_on=1,\n",
    "                                                                     right_on='product_id').iloc[:,2:]\n",
    "regex_price.sample()"
   ]
  },
  {
   "cell_type": "markdown",
   "id": "nasty-stevens",
   "metadata": {
    "heading_collapsed": true
   },
   "source": [
    "## Evaluación"
   ]
  },
  {
   "cell_type": "code",
   "execution_count": 24,
   "id": "specified-breed",
   "metadata": {
    "ExecuteTime": {
     "end_time": "2021-02-12T00:27:27.855890Z",
     "start_time": "2021-02-12T00:27:27.821165Z"
    },
    "hidden": true
   },
   "outputs": [
    {
     "data": {
      "text/html": [
       "<div>\n",
       "<style scoped>\n",
       "    .dataframe tbody tr th:only-of-type {\n",
       "        vertical-align: middle;\n",
       "    }\n",
       "\n",
       "    .dataframe tbody tr th {\n",
       "        vertical-align: top;\n",
       "    }\n",
       "\n",
       "    .dataframe thead th {\n",
       "        text-align: right;\n",
       "    }\n",
       "</style>\n",
       "<table border=\"1\" class=\"dataframe\">\n",
       "  <thead>\n",
       "    <tr style=\"text-align: right;\">\n",
       "      <th></th>\n",
       "      <th>store_x</th>\n",
       "      <th>branch_x</th>\n",
       "      <th>product_id_x</th>\n",
       "      <th>product_name_x</th>\n",
       "      <th>branch_price_avg_x</th>\n",
       "      <th>store_y</th>\n",
       "      <th>branch_y</th>\n",
       "      <th>product_id_y</th>\n",
       "      <th>product_name_y</th>\n",
       "      <th>branch_price_avg_y</th>\n",
       "    </tr>\n",
       "  </thead>\n",
       "  <tbody>\n",
       "    <tr>\n",
       "      <th>704</th>\n",
       "      <td>Chedraui</td>\n",
       "      <td>Campestre</td>\n",
       "      <td>337328</td>\n",
       "      <td>salsa de guacamole</td>\n",
       "      <td>15</td>\n",
       "      <td>HEB</td>\n",
       "      <td>Leon campestre</td>\n",
       "      <td>337328</td>\n",
       "      <td>salsa de guacamole</td>\n",
       "      <td>24</td>\n",
       "    </tr>\n",
       "    <tr>\n",
       "      <th>889</th>\n",
       "      <td>Chedraui</td>\n",
       "      <td>Campestre</td>\n",
       "      <td>337987</td>\n",
       "      <td>agua natural</td>\n",
       "      <td>13</td>\n",
       "      <td>HEB</td>\n",
       "      <td>Leon campestre</td>\n",
       "      <td>335917</td>\n",
       "      <td>agua natural</td>\n",
       "      <td>33</td>\n",
       "    </tr>\n",
       "    <tr>\n",
       "      <th>701</th>\n",
       "      <td>Chedraui</td>\n",
       "      <td>Campestre</td>\n",
       "      <td>338227</td>\n",
       "      <td>salsa casera roja</td>\n",
       "      <td>10</td>\n",
       "      <td>HEB</td>\n",
       "      <td>Leon campestre</td>\n",
       "      <td>338227</td>\n",
       "      <td>salsa casera roja</td>\n",
       "      <td>11</td>\n",
       "    </tr>\n",
       "    <tr>\n",
       "      <th>347</th>\n",
       "      <td>Chedraui</td>\n",
       "      <td>Campestre</td>\n",
       "      <td>339260</td>\n",
       "      <td>harina para hot cakes tradicional</td>\n",
       "      <td>34</td>\n",
       "      <td>HEB</td>\n",
       "      <td>Leon campestre</td>\n",
       "      <td>339260</td>\n",
       "      <td>harina para hot cakes tradicional</td>\n",
       "      <td>40</td>\n",
       "    </tr>\n",
       "  </tbody>\n",
       "</table>\n",
       "</div>"
      ],
      "text/plain": [
       "      store_x   branch_x  product_id_x                     product_name_x  \\\n",
       "704  Chedraui  Campestre        337328                 salsa de guacamole   \n",
       "889  Chedraui  Campestre        337987                       agua natural   \n",
       "701  Chedraui  Campestre        338227                  salsa casera roja   \n",
       "347  Chedraui  Campestre        339260  harina para hot cakes tradicional   \n",
       "\n",
       "     branch_price_avg_x store_y        branch_y  product_id_y  \\\n",
       "704                  15     HEB  Leon campestre        337328   \n",
       "889                  13     HEB  Leon campestre        335917   \n",
       "701                  10     HEB  Leon campestre        338227   \n",
       "347                  34     HEB  Leon campestre        339260   \n",
       "\n",
       "                        product_name_y  branch_price_avg_y  \n",
       "704                 salsa de guacamole                  24  \n",
       "889                       agua natural                  33  \n",
       "701                  salsa casera roja                  11  \n",
       "347  harina para hot cakes tradicional                  40  "
      ]
     },
     "execution_count": 24,
     "metadata": {},
     "output_type": "execute_result"
    }
   ],
   "source": [
    "same_prod_id['product_id_x'] = same_prod_id['product_id']\n",
    "same_prod_id['product_id_y'] = same_prod_id['product_id']\n",
    "cols = ['store','branch','product_id','product_name','branch_price_avg']\n",
    "aux_x = [col+\"_x\" for col in cols]\n",
    "aux_y = [col+\"_y\" for col in cols]\n",
    "\n",
    "compara = reduce(lambda x,y: x[aux_x+aux_y].append(y[aux_x+aux_y], ignore_index = True),\n",
    "                 [same_prod_id,same_prod_name,regex_price])\n",
    "\n",
    "compara.sample(4)"
   ]
  },
  {
   "cell_type": "code",
   "execution_count": 25,
   "id": "filled-islam",
   "metadata": {
    "ExecuteTime": {
     "end_time": "2021-02-12T00:27:27.865168Z",
     "start_time": "2021-02-12T00:27:27.858322Z"
    },
    "hidden": true
   },
   "outputs": [
    {
     "data": {
      "text/plain": [
       "0.7968662562954673"
      ]
     },
     "execution_count": 25,
     "metadata": {},
     "output_type": "execute_result"
    }
   ],
   "source": [
    "len(compara) / len(backup)"
   ]
  },
  {
   "cell_type": "code",
   "execution_count": 26,
   "id": "chronic-rocket",
   "metadata": {
    "ExecuteTime": {
     "end_time": "2021-02-12T00:27:27.913889Z",
     "start_time": "2021-02-12T00:27:27.868546Z"
    },
    "hidden": true
   },
   "outputs": [
    {
     "data": {
      "text/html": [
       "<div>\n",
       "<style scoped>\n",
       "    .dataframe tbody tr th:only-of-type {\n",
       "        vertical-align: middle;\n",
       "    }\n",
       "\n",
       "    .dataframe tbody tr th {\n",
       "        vertical-align: top;\n",
       "    }\n",
       "\n",
       "    .dataframe thead th {\n",
       "        text-align: right;\n",
       "    }\n",
       "</style>\n",
       "<table border=\"1\" class=\"dataframe\">\n",
       "  <thead>\n",
       "    <tr style=\"text-align: right;\">\n",
       "      <th></th>\n",
       "      <th>store</th>\n",
       "      <th>branch</th>\n",
       "      <th>product_id</th>\n",
       "      <th>product_name</th>\n",
       "      <th>branch_price_avg</th>\n",
       "      <th>store_x</th>\n",
       "      <th>branch_x</th>\n",
       "      <th>product_id_x</th>\n",
       "      <th>product_name_x</th>\n",
       "      <th>branch_price_avg_x</th>\n",
       "      <th>store_y</th>\n",
       "      <th>branch_y</th>\n",
       "      <th>product_id_y</th>\n",
       "      <th>product_name_y</th>\n",
       "      <th>branch_price_avg_y</th>\n",
       "    </tr>\n",
       "  </thead>\n",
       "  <tbody>\n",
       "    <tr>\n",
       "      <th>1489</th>\n",
       "      <td>Chedraui</td>\n",
       "      <td>Campestre</td>\n",
       "      <td>335566</td>\n",
       "      <td>queso manchego rebanado</td>\n",
       "      <td>96</td>\n",
       "      <td>Chedraui</td>\n",
       "      <td>Campestre</td>\n",
       "      <td>335566.0</td>\n",
       "      <td>queso manchego rebanado</td>\n",
       "      <td>96.0</td>\n",
       "      <td>HEB</td>\n",
       "      <td>Leon campestre</td>\n",
       "      <td>335566.0</td>\n",
       "      <td>queso manchego rebanado</td>\n",
       "      <td>93.0</td>\n",
       "    </tr>\n",
       "    <tr>\n",
       "      <th>1182</th>\n",
       "      <td>Chedraui</td>\n",
       "      <td>Campestre</td>\n",
       "      <td>183710</td>\n",
       "      <td>nopal</td>\n",
       "      <td>30</td>\n",
       "      <td>Chedraui</td>\n",
       "      <td>Campestre</td>\n",
       "      <td>183710.0</td>\n",
       "      <td>nopal</td>\n",
       "      <td>30.0</td>\n",
       "      <td>HEB</td>\n",
       "      <td>Leon campestre</td>\n",
       "      <td>196324.0</td>\n",
       "      <td>nopal limpio</td>\n",
       "      <td>30.0</td>\n",
       "    </tr>\n",
       "    <tr>\n",
       "      <th>1940</th>\n",
       "      <td>Chedraui</td>\n",
       "      <td>Campestre</td>\n",
       "      <td>276424</td>\n",
       "      <td>uva globo emperador</td>\n",
       "      <td>69</td>\n",
       "      <td></td>\n",
       "      <td></td>\n",
       "      <td></td>\n",
       "      <td></td>\n",
       "      <td></td>\n",
       "      <td></td>\n",
       "      <td></td>\n",
       "      <td></td>\n",
       "      <td></td>\n",
       "      <td></td>\n",
       "    </tr>\n",
       "    <tr>\n",
       "      <th>203</th>\n",
       "      <td>Chedraui</td>\n",
       "      <td>Campestre</td>\n",
       "      <td>175082</td>\n",
       "      <td>baguette</td>\n",
       "      <td>14</td>\n",
       "      <td></td>\n",
       "      <td></td>\n",
       "      <td></td>\n",
       "      <td></td>\n",
       "      <td></td>\n",
       "      <td></td>\n",
       "      <td></td>\n",
       "      <td></td>\n",
       "      <td></td>\n",
       "      <td></td>\n",
       "    </tr>\n",
       "    <tr>\n",
       "      <th>1102</th>\n",
       "      <td>Chedraui</td>\n",
       "      <td>Campestre</td>\n",
       "      <td>340768</td>\n",
       "      <td>media crema</td>\n",
       "      <td>12</td>\n",
       "      <td>Chedraui</td>\n",
       "      <td>Campestre</td>\n",
       "      <td>340768.0</td>\n",
       "      <td>media crema</td>\n",
       "      <td>12.0</td>\n",
       "      <td>HEB</td>\n",
       "      <td>Leon campestre</td>\n",
       "      <td>340768.0</td>\n",
       "      <td>media crema</td>\n",
       "      <td>12.0</td>\n",
       "    </tr>\n",
       "    <tr>\n",
       "      <th>562</th>\n",
       "      <td>Chedraui</td>\n",
       "      <td>Campestre</td>\n",
       "      <td>342830</td>\n",
       "      <td>desodorante excite en aerosol para hombre</td>\n",
       "      <td>41</td>\n",
       "      <td></td>\n",
       "      <td></td>\n",
       "      <td></td>\n",
       "      <td></td>\n",
       "      <td></td>\n",
       "      <td></td>\n",
       "      <td></td>\n",
       "      <td></td>\n",
       "      <td></td>\n",
       "      <td></td>\n",
       "    </tr>\n",
       "    <tr>\n",
       "      <th>1288</th>\n",
       "      <td>Chedraui</td>\n",
       "      <td>Campestre</td>\n",
       "      <td>1001673</td>\n",
       "      <td>papel higienico ultra jumbo</td>\n",
       "      <td>53</td>\n",
       "      <td>Chedraui</td>\n",
       "      <td>Campestre</td>\n",
       "      <td>1001673.0</td>\n",
       "      <td>papel higienico ultra jumbo</td>\n",
       "      <td>53.0</td>\n",
       "      <td>HEB</td>\n",
       "      <td>Leon campestre</td>\n",
       "      <td>1001673.0</td>\n",
       "      <td>papel higienico ultra jumbo</td>\n",
       "      <td>62.0</td>\n",
       "    </tr>\n",
       "  </tbody>\n",
       "</table>\n",
       "</div>"
      ],
      "text/plain": [
       "         store     branch  product_id  \\\n",
       "1489  Chedraui  Campestre      335566   \n",
       "1182  Chedraui  Campestre      183710   \n",
       "1940  Chedraui  Campestre      276424   \n",
       "203   Chedraui  Campestre      175082   \n",
       "1102  Chedraui  Campestre      340768   \n",
       "562   Chedraui  Campestre      342830   \n",
       "1288  Chedraui  Campestre     1001673   \n",
       "\n",
       "                                   product_name  branch_price_avg   store_x  \\\n",
       "1489                    queso manchego rebanado                96  Chedraui   \n",
       "1182                                      nopal                30  Chedraui   \n",
       "1940                        uva globo emperador                69             \n",
       "203                                    baguette                14             \n",
       "1102                                media crema                12  Chedraui   \n",
       "562   desodorante excite en aerosol para hombre                41             \n",
       "1288                papel higienico ultra jumbo                53  Chedraui   \n",
       "\n",
       "       branch_x product_id_x               product_name_x branch_price_avg_x  \\\n",
       "1489  Campestre     335566.0      queso manchego rebanado               96.0   \n",
       "1182  Campestre     183710.0                        nopal               30.0   \n",
       "1940                                                                           \n",
       "203                                                                            \n",
       "1102  Campestre     340768.0                  media crema               12.0   \n",
       "562                                                                            \n",
       "1288  Campestre    1001673.0  papel higienico ultra jumbo               53.0   \n",
       "\n",
       "     store_y        branch_y product_id_y               product_name_y  \\\n",
       "1489     HEB  Leon campestre     335566.0      queso manchego rebanado   \n",
       "1182     HEB  Leon campestre     196324.0                 nopal limpio   \n",
       "1940                                                                     \n",
       "203                                                                      \n",
       "1102     HEB  Leon campestre     340768.0                  media crema   \n",
       "562                                                                      \n",
       "1288     HEB  Leon campestre    1001673.0  papel higienico ultra jumbo   \n",
       "\n",
       "     branch_price_avg_y  \n",
       "1489               93.0  \n",
       "1182               30.0  \n",
       "1940                     \n",
       "203                      \n",
       "1102               12.0  \n",
       "562                      \n",
       "1288               62.0  "
      ]
     },
     "execution_count": 26,
     "metadata": {},
     "output_type": "execute_result"
    }
   ],
   "source": [
    "final = backup[cols].merge(compara, \n",
    "                           left_on=cols, \n",
    "                           right_on=aux_x, \n",
    "                           how = 'left').fillna('')\n",
    "final.sample(7)"
   ]
  },
  {
   "cell_type": "code",
   "execution_count": 27,
   "id": "familiar-rochester",
   "metadata": {
    "ExecuteTime": {
     "end_time": "2021-02-12T00:27:27.945812Z",
     "start_time": "2021-02-12T00:27:27.917450Z"
    },
    "hidden": true
   },
   "outputs": [],
   "source": [
    "final.to_csv(liga + 'product_branches_heb_chedraui.csv', index = False)"
   ]
  },
  {
   "cell_type": "markdown",
   "id": "broke-vulnerability",
   "metadata": {},
   "source": [
    "## Fin"
   ]
  },
  {
   "cell_type": "code",
   "execution_count": 28,
   "id": "growing-asthma",
   "metadata": {
    "ExecuteTime": {
     "end_time": "2021-02-12T00:27:27.962953Z",
     "start_time": "2021-02-12T00:27:27.948631Z"
    }
   },
   "outputs": [
    {
     "name": "stdout",
     "output_type": "stream",
     "text": [
      "1 minutos con 13.26 segundos\n"
     ]
    },
    {
     "data": {
      "text/html": [
       "\n",
       "                <audio  controls=\"controls\" autoplay=\"autoplay\">\n",
       "                    <source src=\"data:audio/wav;base64,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\" type=\"audio/wav\" />\n",
       "                    Your browser does not support the audio element.\n",
       "                </audio>\n",
       "              "
      ],
      "text/plain": [
       "<IPython.lib.display.Audio object>"
      ]
     },
     "execution_count": 28,
     "metadata": {},
     "output_type": "execute_result"
    }
   ],
   "source": [
    "#Tiempo total para correr el notebook\n",
    "end = time.time()\n",
    "time_exp(end - start)\n",
    "tono()"
   ]
  }
 ],
 "metadata": {
  "kernelspec": {
   "display_name": "Python 3",
   "language": "python",
   "name": "python3"
  },
  "language_info": {
   "codemirror_mode": {
    "name": "ipython",
    "version": 3
   },
   "file_extension": ".py",
   "mimetype": "text/x-python",
   "name": "python",
   "nbconvert_exporter": "python",
   "pygments_lexer": "ipython3",
   "version": "3.9.1"
  },
  "toc": {
   "base_numbering": 1,
   "nav_menu": {},
   "number_sections": true,
   "sideBar": true,
   "skip_h1_title": true,
   "title_cell": "Table of Contents",
   "title_sidebar": "Contents",
   "toc_cell": false,
   "toc_position": {
    "height": "calc(100% - 180px)",
    "left": "10px",
    "top": "150px",
    "width": "254.653px"
   },
   "toc_section_display": true,
   "toc_window_display": true
  },
  "varInspector": {
   "cols": {
    "lenName": 16,
    "lenType": 16,
    "lenVar": 40
   },
   "kernels_config": {
    "python": {
     "delete_cmd_postfix": "",
     "delete_cmd_prefix": "del ",
     "library": "var_list.py",
     "varRefreshCmd": "print(var_dic_list())"
    },
    "r": {
     "delete_cmd_postfix": ") ",
     "delete_cmd_prefix": "rm(",
     "library": "var_list.r",
     "varRefreshCmd": "cat(var_dic_list()) "
    }
   },
   "types_to_exclude": [
    "module",
    "function",
    "builtin_function_or_method",
    "instance",
    "_Feature"
   ],
   "window_display": false
  }
 },
 "nbformat": 4,
 "nbformat_minor": 5
}

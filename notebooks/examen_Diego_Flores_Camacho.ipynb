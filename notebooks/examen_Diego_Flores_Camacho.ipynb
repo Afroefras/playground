{
 "cells": [
  {
   "cell_type": "markdown",
   "metadata": {},
   "source": [
    "# 0. Librerías"
   ]
  },
  {
   "cell_type": "code",
   "execution_count": 56,
   "metadata": {},
   "outputs": [
    {
     "data": {
      "text/html": [
       "        <script type=\"text/javascript\">\n",
       "        window.PlotlyConfig = {MathJaxConfig: 'local'};\n",
       "        if (window.MathJax) {MathJax.Hub.Config({SVG: {font: \"STIX-Web\"}});}\n",
       "        if (typeof require !== 'undefined') {\n",
       "        require.undef(\"plotly\");\n",
       "        requirejs.config({\n",
       "            paths: {\n",
       "                'plotly': ['https://cdn.plot.ly/plotly-2.4.2.min']\n",
       "            }\n",
       "        });\n",
       "        require(['plotly'], function(Plotly) {\n",
       "            window._Plotly = Plotly;\n",
       "        });\n",
       "        }\n",
       "        </script>\n",
       "        "
      ]
     },
     "metadata": {},
     "output_type": "display_data"
    }
   ],
   "source": [
    "import pandas as pd\n",
    "import numpy as np\n",
    "import cufflinks as cf\n",
    "from re import sub, UNICODE\n",
    "from unicodedata import normalize\n",
    "from emoji import demojize\n",
    "from nltk.corpus import stopwords\n",
    "cf.go_offline()"
   ]
  },
  {
   "cell_type": "markdown",
   "metadata": {},
   "source": [
    "# 1. Entendimiento del problema de negocio y de los datos"
   ]
  },
  {
   "cell_type": "markdown",
   "metadata": {},
   "source": [
    "## 1.1. Importación de Datos"
   ]
  },
  {
   "cell_type": "code",
   "execution_count": 23,
   "metadata": {},
   "outputs": [
    {
     "data": {
      "text/html": [
       "<div>\n",
       "<style scoped>\n",
       "    .dataframe tbody tr th:only-of-type {\n",
       "        vertical-align: middle;\n",
       "    }\n",
       "\n",
       "    .dataframe tbody tr th {\n",
       "        vertical-align: top;\n",
       "    }\n",
       "\n",
       "    .dataframe thead th {\n",
       "        text-align: right;\n",
       "    }\n",
       "</style>\n",
       "<table border=\"1\" class=\"dataframe\">\n",
       "  <thead>\n",
       "    <tr style=\"text-align: right;\">\n",
       "      <th></th>\n",
       "      <th>Unnamed: 0</th>\n",
       "      <th>at</th>\n",
       "      <th>content</th>\n",
       "      <th>reviewCreatedVersion</th>\n",
       "      <th>thumbsUpCount</th>\n",
       "      <th>content.1</th>\n",
       "      <th>topic</th>\n",
       "    </tr>\n",
       "  </thead>\n",
       "  <tbody>\n",
       "    <tr>\n",
       "      <th>0</th>\n",
       "      <td>6</td>\n",
       "      <td>2021-09-22 23:45:00</td>\n",
       "      <td>Que paso con la app, al abrir se cierra despué...</td>\n",
       "      <td>5.62</td>\n",
       "      <td>217</td>\n",
       "      <td>Que paso con la app, al abrir se cierra despué...</td>\n",
       "      <td>transferencias</td>\n",
       "    </tr>\n",
       "    <tr>\n",
       "      <th>1</th>\n",
       "      <td>9</td>\n",
       "      <td>2021-03-21 17:26:06</td>\n",
       "      <td>No funciona, después de más de una hora entre ...</td>\n",
       "      <td>5.59</td>\n",
       "      <td>201</td>\n",
       "      <td>No funciona, después de más de una hora entre ...</td>\n",
       "      <td>transferencias</td>\n",
       "    </tr>\n",
       "    <tr>\n",
       "      <th>2</th>\n",
       "      <td>10</td>\n",
       "      <td>2021-08-04 14:39:20</td>\n",
       "      <td>La app ha intentado mejorar desde el 2019, per...</td>\n",
       "      <td>5.60</td>\n",
       "      <td>185</td>\n",
       "      <td>La app ha intentado mejorar desde el 2019, per...</td>\n",
       "      <td>transferencias</td>\n",
       "    </tr>\n",
       "    <tr>\n",
       "      <th>3</th>\n",
       "      <td>19</td>\n",
       "      <td>2021-06-14 16:44:16</td>\n",
       "      <td>Poner una estrella es mucho, sólo porque lo pi...</td>\n",
       "      <td>5.59.2</td>\n",
       "      <td>131</td>\n",
       "      <td>Poner una estrella es mucho, sólo porque lo pi...</td>\n",
       "      <td>transferencias</td>\n",
       "    </tr>\n",
       "    <tr>\n",
       "      <th>4</th>\n",
       "      <td>24</td>\n",
       "      <td>2021-07-02 14:36:40</td>\n",
       "      <td>Esta aplicación no deja de presentar fallas de...</td>\n",
       "      <td>5.60</td>\n",
       "      <td>126</td>\n",
       "      <td>Esta aplicación no deja de presentar fallas de...</td>\n",
       "      <td>transferencias</td>\n",
       "    </tr>\n",
       "    <tr>\n",
       "      <th>...</th>\n",
       "      <td>...</td>\n",
       "      <td>...</td>\n",
       "      <td>...</td>\n",
       "      <td>...</td>\n",
       "      <td>...</td>\n",
       "      <td>...</td>\n",
       "      <td>...</td>\n",
       "    </tr>\n",
       "    <tr>\n",
       "      <th>7461</th>\n",
       "      <td>99794</td>\n",
       "      <td>2021-06-14 12:39:10</td>\n",
       "      <td>No puedo hacer transferencias, ni puedo consul...</td>\n",
       "      <td>5.59.2</td>\n",
       "      <td>0</td>\n",
       "      <td>No puedo hacer transferencias, ni puedo consul...</td>\n",
       "      <td>token</td>\n",
       "    </tr>\n",
       "    <tr>\n",
       "      <th>7462</th>\n",
       "      <td>99901</td>\n",
       "      <td>2021-06-15 18:09:27</td>\n",
       "      <td>Muchos problemas para activar el Token y probl...</td>\n",
       "      <td>5.59.2</td>\n",
       "      <td>0</td>\n",
       "      <td>Muchos problemas para activar el Token y probl...</td>\n",
       "      <td>token</td>\n",
       "    </tr>\n",
       "    <tr>\n",
       "      <th>7463</th>\n",
       "      <td>99921</td>\n",
       "      <td>2021-06-15 09:49:32</td>\n",
       "      <td>Quiero hacer trafercias a otros bancos y nisiq...</td>\n",
       "      <td>5.59.2</td>\n",
       "      <td>0</td>\n",
       "      <td>Quiero hacer trafercias a otros bancos y nisiq...</td>\n",
       "      <td>token</td>\n",
       "    </tr>\n",
       "    <tr>\n",
       "      <th>7464</th>\n",
       "      <td>99936</td>\n",
       "      <td>2021-06-15 00:44:27</td>\n",
       "      <td>4 estrellas por no poder dar d alta el token</td>\n",
       "      <td>NaN</td>\n",
       "      <td>0</td>\n",
       "      <td>4 estrellas por no poder dar d alta el token</td>\n",
       "      <td>token</td>\n",
       "    </tr>\n",
       "    <tr>\n",
       "      <th>7465</th>\n",
       "      <td>99938</td>\n",
       "      <td>2021-06-15 01:08:34</td>\n",
       "      <td>Mejoren el protocolo de SuperToken</td>\n",
       "      <td>5.59.2</td>\n",
       "      <td>0</td>\n",
       "      <td>Mejoren el protocolo de SuperToken</td>\n",
       "      <td>token</td>\n",
       "    </tr>\n",
       "  </tbody>\n",
       "</table>\n",
       "<p>7466 rows × 7 columns</p>\n",
       "</div>"
      ],
      "text/plain": [
       "      Unnamed: 0                   at  \\\n",
       "0              6  2021-09-22 23:45:00   \n",
       "1              9  2021-03-21 17:26:06   \n",
       "2             10  2021-08-04 14:39:20   \n",
       "3             19  2021-06-14 16:44:16   \n",
       "4             24  2021-07-02 14:36:40   \n",
       "...          ...                  ...   \n",
       "7461       99794  2021-06-14 12:39:10   \n",
       "7462       99901  2021-06-15 18:09:27   \n",
       "7463       99921  2021-06-15 09:49:32   \n",
       "7464       99936  2021-06-15 00:44:27   \n",
       "7465       99938  2021-06-15 01:08:34   \n",
       "\n",
       "                                                content reviewCreatedVersion  \\\n",
       "0     Que paso con la app, al abrir se cierra despué...                 5.62   \n",
       "1     No funciona, después de más de una hora entre ...                 5.59   \n",
       "2     La app ha intentado mejorar desde el 2019, per...                 5.60   \n",
       "3     Poner una estrella es mucho, sólo porque lo pi...               5.59.2   \n",
       "4     Esta aplicación no deja de presentar fallas de...                 5.60   \n",
       "...                                                 ...                  ...   \n",
       "7461  No puedo hacer transferencias, ni puedo consul...               5.59.2   \n",
       "7462  Muchos problemas para activar el Token y probl...               5.59.2   \n",
       "7463  Quiero hacer trafercias a otros bancos y nisiq...               5.59.2   \n",
       "7464       4 estrellas por no poder dar d alta el token                  NaN   \n",
       "7465                 Mejoren el protocolo de SuperToken               5.59.2   \n",
       "\n",
       "      thumbsUpCount                                          content.1  \\\n",
       "0               217  Que paso con la app, al abrir se cierra despué...   \n",
       "1               201  No funciona, después de más de una hora entre ...   \n",
       "2               185  La app ha intentado mejorar desde el 2019, per...   \n",
       "3               131  Poner una estrella es mucho, sólo porque lo pi...   \n",
       "4               126  Esta aplicación no deja de presentar fallas de...   \n",
       "...             ...                                                ...   \n",
       "7461              0  No puedo hacer transferencias, ni puedo consul...   \n",
       "7462              0  Muchos problemas para activar el Token y probl...   \n",
       "7463              0  Quiero hacer trafercias a otros bancos y nisiq...   \n",
       "7464              0       4 estrellas por no poder dar d alta el token   \n",
       "7465              0                 Mejoren el protocolo de SuperToken   \n",
       "\n",
       "               topic  \n",
       "0     transferencias  \n",
       "1     transferencias  \n",
       "2     transferencias  \n",
       "3     transferencias  \n",
       "4     transferencias  \n",
       "...              ...  \n",
       "7461           token  \n",
       "7462           token  \n",
       "7463           token  \n",
       "7464           token  \n",
       "7465           token  \n",
       "\n",
       "[7466 rows x 7 columns]"
      ]
     },
     "execution_count": 23,
     "metadata": {},
     "output_type": "execute_result"
    }
   ],
   "source": [
    "data = pd.read_csv('/Users/efraflores/Desktop/EF/EF/Practice/data_app_movil.csv')\n",
    "data"
   ]
  },
  {
   "cell_type": "code",
   "execution_count": 24,
   "metadata": {},
   "outputs": [
    {
     "data": {
      "text/plain": [
       "(1108, 7)"
      ]
     },
     "execution_count": 24,
     "metadata": {},
     "output_type": "execute_result"
    }
   ],
   "source": [
    "dupli = data[data['Unnamed: 0'].duplicated()]['Unnamed: 0'].tolist()\n",
    "dupli_df = data[data['Unnamed: 0'].isin(dupli)].copy()\n",
    "dupli_df.shape"
   ]
  },
  {
   "cell_type": "code",
   "execution_count": 28,
   "metadata": {},
   "outputs": [
    {
     "data": {
      "text/plain": [
       "(6358, 7)"
      ]
     },
     "execution_count": 28,
     "metadata": {},
     "output_type": "execute_result"
    }
   ],
   "source": [
    "df = data.loc[~data.index.isin(dupli_df.index),:].copy()\n",
    "df.shape"
   ]
  },
  {
   "cell_type": "code",
   "execution_count": 31,
   "metadata": {},
   "outputs": [
    {
     "data": {
      "text/html": [
       "<div>\n",
       "<style scoped>\n",
       "    .dataframe tbody tr th:only-of-type {\n",
       "        vertical-align: middle;\n",
       "    }\n",
       "\n",
       "    .dataframe tbody tr th {\n",
       "        vertical-align: top;\n",
       "    }\n",
       "\n",
       "    .dataframe thead th {\n",
       "        text-align: right;\n",
       "    }\n",
       "</style>\n",
       "<table border=\"1\" class=\"dataframe\">\n",
       "  <thead>\n",
       "    <tr style=\"text-align: right;\">\n",
       "      <th></th>\n",
       "      <th>Unnamed: 0</th>\n",
       "      <th>at</th>\n",
       "      <th>content</th>\n",
       "      <th>reviewCreatedVersion</th>\n",
       "      <th>thumbsUpCount</th>\n",
       "      <th>content.1</th>\n",
       "      <th>topic</th>\n",
       "    </tr>\n",
       "  </thead>\n",
       "  <tbody>\n",
       "  </tbody>\n",
       "</table>\n",
       "</div>"
      ],
      "text/plain": [
       "Empty DataFrame\n",
       "Columns: [Unnamed: 0, at, content, reviewCreatedVersion, thumbsUpCount, content.1, topic]\n",
       "Index: []"
      ]
     },
     "execution_count": 31,
     "metadata": {},
     "output_type": "execute_result"
    }
   ],
   "source": [
    "df[df['Unnamed: 0'].duplicated()]"
   ]
  },
  {
   "cell_type": "code",
   "execution_count": 30,
   "metadata": {},
   "outputs": [
    {
     "data": {
      "text/plain": [
       "7466"
      ]
     },
     "execution_count": 30,
     "metadata": {},
     "output_type": "execute_result"
    }
   ],
   "source": [
    "dupli_df.shape[0]+df.shape[0]"
   ]
  },
  {
   "cell_type": "markdown",
   "metadata": {},
   "source": [
    "## 1.2. Entendimiento del problema de negocio"
   ]
  },
  {
   "cell_type": "markdown",
   "metadata": {},
   "source": [
    "* Hacer análisis de texto del content\n",
    "* Poder analizar en el texto si el cliente se refirió a transferencia o token\n",
    "* Identificar los parecidos a transferencias para no disminuir los datos\n",
    "    * Ejemplos: SuperToken = token  ,  trasfercias = transferencias \n",
    "* Construir un Modelos de Aprendizaje Máquina para predecir de forma correcta el tópico de un texto y mandar con ello al equipo adecuado\n",
    "* Evaluar estos Modelos con un set de Test\n",
    "* Elegir a producción un Modelo de preferencia simple y con buen Trade off entre Sesgo y Varianza\n"
   ]
  },
  {
   "cell_type": "markdown",
   "metadata": {},
   "source": [
    "# 2. Exploración de datos"
   ]
  },
  {
   "cell_type": "markdown",
   "metadata": {},
   "source": [
    "* Nota: Se notó que content = content.1 por lo que solo usaremos 'content' como base y 'content.1' como copia de respaldo."
   ]
  },
  {
   "cell_type": "markdown",
   "metadata": {},
   "source": [
    "## 2.1. Exploración: Longitud, Tipo de datos, Identificación de Nulos e Identificación de Duplicados"
   ]
  },
  {
   "cell_type": "markdown",
   "metadata": {},
   "source": [
    "### Longitud:"
   ]
  },
  {
   "cell_type": "code",
   "execution_count": 24,
   "metadata": {},
   "outputs": [
    {
     "data": {
      "text/plain": [
       "(7466, 7)"
      ]
     },
     "execution_count": 24,
     "metadata": {},
     "output_type": "execute_result"
    }
   ],
   "source": [
    "data.shape"
   ]
  },
  {
   "cell_type": "markdown",
   "metadata": {},
   "source": [
    "### Tipo de datos:"
   ]
  },
  {
   "cell_type": "code",
   "execution_count": 25,
   "metadata": {},
   "outputs": [
    {
     "data": {
      "text/plain": [
       "Unnamed: 0               int64\n",
       "at                      object\n",
       "content                 object\n",
       "reviewCreatedVersion    object\n",
       "thumbsUpCount            int64\n",
       "content.1               object\n",
       "topic                   object\n",
       "dtype: object"
      ]
     },
     "execution_count": 25,
     "metadata": {},
     "output_type": "execute_result"
    }
   ],
   "source": [
    "data.dtypes\n",
    "# Aquí tenemos que corregir los tipos de datos\n",
    "# Y la variable Unnamed: 0 , paracería no ser informativa hasta el momento\n"
   ]
  },
  {
   "cell_type": "markdown",
   "metadata": {},
   "source": [
    "#### Tratamiento: Transformando los datos a su correspondiente tipo"
   ]
  },
  {
   "cell_type": "markdown",
   "metadata": {},
   "source": [
    "* La única variable que no esta en su correspondiente tipo es 'at' pues esta debe ser de tipo date. \n",
    "Las demás si deben ser str o int, cabe resaltar que 'reviewCreatedVersion' si debe ser de tipo object o str\n",
    "pues, existen versiones como por ejemplo la '5.59.2'"
   ]
  },
  {
   "cell_type": "code",
   "execution_count": 32,
   "metadata": {},
   "outputs": [],
   "source": [
    "#Transformando\n",
    "data['at'] = pd.to_datetime(data['at'], format=\"%Y-%m-%d %H:%M:%S\")"
   ]
  },
  {
   "cell_type": "code",
   "execution_count": 38,
   "metadata": {},
   "outputs": [
    {
     "data": {
      "text/plain": [
       "dtype('<M8[ns]')"
      ]
     },
     "execution_count": 38,
     "metadata": {},
     "output_type": "execute_result"
    }
   ],
   "source": [
    "#Comprobando\n",
    "data['at'].dtypes\n",
    "# este es un tipo de formato fecha"
   ]
  },
  {
   "cell_type": "markdown",
   "metadata": {},
   "source": [
    "### Identificación de Nulos:\n"
   ]
  },
  {
   "cell_type": "code",
   "execution_count": 27,
   "metadata": {},
   "outputs": [
    {
     "data": {
      "text/plain": [
       "Unnamed: 0              0.000000\n",
       "at                      0.000000\n",
       "content                 0.000000\n",
       "reviewCreatedVersion    0.052907\n",
       "thumbsUpCount           0.000000\n",
       "content.1               0.000000\n",
       "topic                   0.000000\n",
       "dtype: float64"
      ]
     },
     "execution_count": 27,
     "metadata": {},
     "output_type": "execute_result"
    }
   ],
   "source": [
    "data.isnull().sum()/len(data)\n",
    "# Se identifica que no hay muchos valores ausentes, lo que es bueno, y los pocos que hay son de la variable \n",
    "# \"reviewCreatedVersion\", su imputación se tratará en la sección \"3.2. Tratamiento de Nulos\""
   ]
  },
  {
   "cell_type": "markdown",
   "metadata": {},
   "source": [
    "### Identificación de Duplicados:"
   ]
  },
  {
   "cell_type": "markdown",
   "metadata": {},
   "source": [
    "* Unnamed: 0 resultó ser informativa, pues nos ayuda a identificar duplicados"
   ]
  },
  {
   "cell_type": "code",
   "execution_count": 57,
   "metadata": {},
   "outputs": [
    {
     "data": {
      "text/html": [
       "<div>\n",
       "<style scoped>\n",
       "    .dataframe tbody tr th:only-of-type {\n",
       "        vertical-align: middle;\n",
       "    }\n",
       "\n",
       "    .dataframe tbody tr th {\n",
       "        vertical-align: top;\n",
       "    }\n",
       "\n",
       "    .dataframe thead th {\n",
       "        text-align: right;\n",
       "    }\n",
       "</style>\n",
       "<table border=\"1\" class=\"dataframe\">\n",
       "  <thead>\n",
       "    <tr style=\"text-align: right;\">\n",
       "      <th></th>\n",
       "      <th>Unnamed: 0</th>\n",
       "      <th>at</th>\n",
       "      <th>content</th>\n",
       "      <th>reviewCreatedVersion</th>\n",
       "      <th>thumbsUpCount</th>\n",
       "      <th>content.1</th>\n",
       "      <th>topic</th>\n",
       "    </tr>\n",
       "  </thead>\n",
       "  <tbody>\n",
       "    <tr>\n",
       "      <th>8</th>\n",
       "      <td>33</td>\n",
       "      <td>2020-11-01 01:17:37</td>\n",
       "      <td>Muchos problemas con Super Token para el cambi...</td>\n",
       "      <td>5.58.1</td>\n",
       "      <td>108</td>\n",
       "      <td>Muchos problemas con Super Token para el cambi...</td>\n",
       "      <td>transferencias</td>\n",
       "    </tr>\n",
       "    <tr>\n",
       "      <th>4644</th>\n",
       "      <td>33</td>\n",
       "      <td>2020-11-01 01:17:37</td>\n",
       "      <td>Muchos problemas con Super Token para el cambi...</td>\n",
       "      <td>5.58.1</td>\n",
       "      <td>108</td>\n",
       "      <td>Muchos problemas con Super Token para el cambi...</td>\n",
       "      <td>token</td>\n",
       "    </tr>\n",
       "    <tr>\n",
       "      <th>4646</th>\n",
       "      <td>36</td>\n",
       "      <td>2021-09-13 12:05:26</td>\n",
       "      <td>Pésima app. Calidad muy mala. Se sale de la ap...</td>\n",
       "      <td>5.61</td>\n",
       "      <td>102</td>\n",
       "      <td>Pésima app. Calidad muy mala. Se sale de la ap...</td>\n",
       "      <td>token</td>\n",
       "    </tr>\n",
       "    <tr>\n",
       "      <th>9</th>\n",
       "      <td>36</td>\n",
       "      <td>2021-09-13 12:05:26</td>\n",
       "      <td>Pésima app. Calidad muy mala. Se sale de la ap...</td>\n",
       "      <td>5.61</td>\n",
       "      <td>102</td>\n",
       "      <td>Pésima app. Calidad muy mala. Se sale de la ap...</td>\n",
       "      <td>transferencias</td>\n",
       "    </tr>\n",
       "    <tr>\n",
       "      <th>11</th>\n",
       "      <td>39</td>\n",
       "      <td>2021-03-22 11:28:35</td>\n",
       "      <td>La aplicación funcionaba correctamente hasta q...</td>\n",
       "      <td>5.59</td>\n",
       "      <td>98</td>\n",
       "      <td>La aplicación funcionaba correctamente hasta q...</td>\n",
       "      <td>transferencias</td>\n",
       "    </tr>\n",
       "    <tr>\n",
       "      <th>4648</th>\n",
       "      <td>39</td>\n",
       "      <td>2021-03-22 11:28:35</td>\n",
       "      <td>La aplicación funcionaba correctamente hasta q...</td>\n",
       "      <td>5.59</td>\n",
       "      <td>98</td>\n",
       "      <td>La aplicación funcionaba correctamente hasta q...</td>\n",
       "      <td>token</td>\n",
       "    </tr>\n",
       "    <tr>\n",
       "      <th>17</th>\n",
       "      <td>63</td>\n",
       "      <td>2021-03-23 18:29:17</td>\n",
       "      <td>Es sencilla de usar, pero es fastidioso el hec...</td>\n",
       "      <td>5.59.1</td>\n",
       "      <td>77</td>\n",
       "      <td>Es sencilla de usar, pero es fastidioso el hec...</td>\n",
       "      <td>transferencias</td>\n",
       "    </tr>\n",
       "    <tr>\n",
       "      <th>4653</th>\n",
       "      <td>63</td>\n",
       "      <td>2021-03-23 18:29:17</td>\n",
       "      <td>Es sencilla de usar, pero es fastidioso el hec...</td>\n",
       "      <td>5.59.1</td>\n",
       "      <td>77</td>\n",
       "      <td>Es sencilla de usar, pero es fastidioso el hec...</td>\n",
       "      <td>token</td>\n",
       "    </tr>\n",
       "    <tr>\n",
       "      <th>21</th>\n",
       "      <td>78</td>\n",
       "      <td>2021-09-03 15:58:46</td>\n",
       "      <td>Se tarda mucho en cargar. Fallan mucho las tra...</td>\n",
       "      <td>5.60</td>\n",
       "      <td>68</td>\n",
       "      <td>Se tarda mucho en cargar. Fallan mucho las tra...</td>\n",
       "      <td>transferencias</td>\n",
       "    </tr>\n",
       "    <tr>\n",
       "      <th>4656</th>\n",
       "      <td>78</td>\n",
       "      <td>2021-09-03 15:58:46</td>\n",
       "      <td>Se tarda mucho en cargar. Fallan mucho las tra...</td>\n",
       "      <td>5.60</td>\n",
       "      <td>68</td>\n",
       "      <td>Se tarda mucho en cargar. Fallan mucho las tra...</td>\n",
       "      <td>token</td>\n",
       "    </tr>\n",
       "    <tr>\n",
       "      <th>4660</th>\n",
       "      <td>91</td>\n",
       "      <td>2021-09-03 17:15:02</td>\n",
       "      <td>Pésimo servicio. Para empezar tarda 5 minutos ...</td>\n",
       "      <td>5.61</td>\n",
       "      <td>62</td>\n",
       "      <td>Pésimo servicio. Para empezar tarda 5 minutos ...</td>\n",
       "      <td>token</td>\n",
       "    </tr>\n",
       "    <tr>\n",
       "      <th>26</th>\n",
       "      <td>91</td>\n",
       "      <td>2021-09-03 17:15:02</td>\n",
       "      <td>Pésimo servicio. Para empezar tarda 5 minutos ...</td>\n",
       "      <td>5.61</td>\n",
       "      <td>62</td>\n",
       "      <td>Pésimo servicio. Para empezar tarda 5 minutos ...</td>\n",
       "      <td>transferencias</td>\n",
       "    </tr>\n",
       "  </tbody>\n",
       "</table>\n",
       "</div>"
      ],
      "text/plain": [
       "      Unnamed: 0                  at  \\\n",
       "8             33 2020-11-01 01:17:37   \n",
       "4644          33 2020-11-01 01:17:37   \n",
       "4646          36 2021-09-13 12:05:26   \n",
       "9             36 2021-09-13 12:05:26   \n",
       "11            39 2021-03-22 11:28:35   \n",
       "4648          39 2021-03-22 11:28:35   \n",
       "17            63 2021-03-23 18:29:17   \n",
       "4653          63 2021-03-23 18:29:17   \n",
       "21            78 2021-09-03 15:58:46   \n",
       "4656          78 2021-09-03 15:58:46   \n",
       "4660          91 2021-09-03 17:15:02   \n",
       "26            91 2021-09-03 17:15:02   \n",
       "\n",
       "                                                content reviewCreatedVersion  \\\n",
       "8     Muchos problemas con Super Token para el cambi...               5.58.1   \n",
       "4644  Muchos problemas con Super Token para el cambi...               5.58.1   \n",
       "4646  Pésima app. Calidad muy mala. Se sale de la ap...                 5.61   \n",
       "9     Pésima app. Calidad muy mala. Se sale de la ap...                 5.61   \n",
       "11    La aplicación funcionaba correctamente hasta q...                 5.59   \n",
       "4648  La aplicación funcionaba correctamente hasta q...                 5.59   \n",
       "17    Es sencilla de usar, pero es fastidioso el hec...               5.59.1   \n",
       "4653  Es sencilla de usar, pero es fastidioso el hec...               5.59.1   \n",
       "21    Se tarda mucho en cargar. Fallan mucho las tra...                 5.60   \n",
       "4656  Se tarda mucho en cargar. Fallan mucho las tra...                 5.60   \n",
       "4660  Pésimo servicio. Para empezar tarda 5 minutos ...                 5.61   \n",
       "26    Pésimo servicio. Para empezar tarda 5 minutos ...                 5.61   \n",
       "\n",
       "      thumbsUpCount                                          content.1  \\\n",
       "8               108  Muchos problemas con Super Token para el cambi...   \n",
       "4644            108  Muchos problemas con Super Token para el cambi...   \n",
       "4646            102  Pésima app. Calidad muy mala. Se sale de la ap...   \n",
       "9               102  Pésima app. Calidad muy mala. Se sale de la ap...   \n",
       "11               98  La aplicación funcionaba correctamente hasta q...   \n",
       "4648             98  La aplicación funcionaba correctamente hasta q...   \n",
       "17               77  Es sencilla de usar, pero es fastidioso el hec...   \n",
       "4653             77  Es sencilla de usar, pero es fastidioso el hec...   \n",
       "21               68  Se tarda mucho en cargar. Fallan mucho las tra...   \n",
       "4656             68  Se tarda mucho en cargar. Fallan mucho las tra...   \n",
       "4660             62  Pésimo servicio. Para empezar tarda 5 minutos ...   \n",
       "26               62  Pésimo servicio. Para empezar tarda 5 minutos ...   \n",
       "\n",
       "               topic  \n",
       "8     transferencias  \n",
       "4644           token  \n",
       "4646           token  \n",
       "9     transferencias  \n",
       "11    transferencias  \n",
       "4648           token  \n",
       "17    transferencias  \n",
       "4653           token  \n",
       "21    transferencias  \n",
       "4656           token  \n",
       "4660           token  \n",
       "26    transferencias  "
      ]
     },
     "execution_count": 57,
     "metadata": {},
     "output_type": "execute_result"
    }
   ],
   "source": [
    "#Estos son algunos \"Duplicados\"\n",
    "data[data['Unnamed: 0'].duplicated(keep=False)].sort_values(by=['Unnamed: 0'])[0:12]"
   ]
  },
  {
   "cell_type": "code",
   "execution_count": 50,
   "metadata": {},
   "outputs": [
    {
     "data": {
      "text/plain": [
       "554.0"
      ]
     },
     "execution_count": 50,
     "metadata": {},
     "output_type": "execute_result"
    }
   ],
   "source": [
    "# Este es el número de duplicados\n",
    "data[data['Unnamed: 0'].duplicated(keep=False)].sort_values(by=['Unnamed: 0']).shape[0] / 2"
   ]
  },
  {
   "cell_type": "markdown",
   "metadata": {},
   "source": [
    "* Super Nota: Se encontró un \"patrón\" en los \"Duplicados\" tienen un sentido pues \n",
    "quieren decir que un mismo cliente tuvo ambos problemas, el problema del \"Token\" y de la \"Transferencia\"\n",
    "* Por tanto, NO se eliminan los Duplicados"
   ]
  },
  {
   "cell_type": "markdown",
   "metadata": {},
   "source": [
    "## 2.2. Visualización de Datos con la siguiente estructura: Pregunta, Conocimiento de los datos, Tabla y Gráfica "
   ]
  },
  {
   "cell_type": "markdown",
   "metadata": {},
   "source": [
    "### Pregunta 1. ¿En qué fecha escribieron más los clientes?"
   ]
  },
  {
   "cell_type": "markdown",
   "metadata": {},
   "source": [
    "* Conocimiento de los datos"
   ]
  },
  {
   "cell_type": "code",
   "execution_count": 62,
   "metadata": {},
   "outputs": [
    {
     "name": "stdout",
     "output_type": "stream",
     "text": [
      "Los datos van del:\n",
      "2021-10-22 23:16:15 al 2020-08-08 01:52:32\n"
     ]
    }
   ],
   "source": [
    "print('Los datos van del:')\n",
    "print(str(data['at'].max())+' al '+str(data['at'].min()))"
   ]
  },
  {
   "cell_type": "code",
   "execution_count": 37,
   "metadata": {},
   "outputs": [],
   "source": [
    "df['at'] = df['at'].map(pd.to_datetime)\n",
    "df['date'] = df['at'].dt.date"
   ]
  },
  {
   "cell_type": "code",
   "execution_count": 43,
   "metadata": {},
   "outputs": [
    {
     "data": {
      "application/vnd.plotly.v1+json": {
       "config": {
        "linkText": "Export to plot.ly",
        "plotlyServerURL": "https://plot.ly",
        "showLink": true
       },
       "data": [
        {
         "line": {
          "color": "rgba(255, 153, 51, 1.0)",
          "dash": "solid",
          "shape": "linear",
          "width": 1.3
         },
         "mode": "lines",
         "name": "n",
         "text": "",
         "type": "scatter",
         "x": [
          "2020-08-08",
          "2020-08-09",
          "2020-08-10",
          "2020-08-11",
          "2020-08-12",
          "2020-08-13",
          "2020-08-14",
          "2020-08-15",
          "2020-08-16",
          "2020-08-17",
          "2020-08-18",
          "2020-08-19",
          "2020-08-20",
          "2020-08-21",
          "2020-08-22",
          "2020-08-23",
          "2020-08-24",
          "2020-08-25",
          "2020-08-26",
          "2020-08-27",
          "2020-08-28",
          "2020-08-29",
          "2020-08-30",
          "2020-08-31",
          "2020-09-01",
          "2020-09-02",
          "2020-09-03",
          "2020-09-04",
          "2020-09-05",
          "2020-09-06",
          "2020-09-07",
          "2020-09-08",
          "2020-09-09",
          "2020-09-10",
          "2020-09-11",
          "2020-09-12",
          "2020-09-13",
          "2020-09-14",
          "2020-09-15",
          "2020-09-16",
          "2020-09-17",
          "2020-09-18",
          "2020-09-19",
          "2020-09-20",
          "2020-09-21",
          "2020-09-22",
          "2020-09-23",
          "2020-09-24",
          "2020-09-25",
          "2020-09-26",
          "2020-09-27",
          "2020-09-28",
          "2020-09-29",
          "2020-09-30",
          "2020-10-01",
          "2020-10-02",
          "2020-10-03",
          "2020-10-04",
          "2020-10-05",
          "2020-10-06",
          "2020-10-07",
          "2020-10-08",
          "2020-10-09",
          "2020-10-10",
          "2020-10-11",
          "2020-10-12",
          "2020-10-13",
          "2020-10-14",
          "2020-10-15",
          "2020-10-16",
          "2020-10-17",
          "2020-10-18",
          "2020-10-19",
          "2020-10-20",
          "2020-10-21",
          "2020-10-22",
          "2020-10-23",
          "2020-10-24",
          "2020-10-25",
          "2020-10-26",
          "2020-10-27",
          "2020-10-28",
          "2020-10-29",
          "2020-10-30",
          "2020-10-31",
          "2020-11-01",
          "2020-11-02",
          "2020-11-03",
          "2020-11-04",
          "2020-11-05",
          "2020-11-06",
          "2020-11-07",
          "2020-11-08",
          "2020-11-09",
          "2020-11-10",
          "2020-11-11",
          "2020-11-12",
          "2020-11-13",
          "2020-11-14",
          "2020-11-15",
          "2020-11-16",
          "2020-11-17",
          "2020-11-18",
          "2020-11-19",
          "2020-11-20",
          "2020-11-21",
          "2020-11-22",
          "2020-11-23",
          "2020-11-24",
          "2020-11-25",
          "2020-11-26",
          "2020-11-27",
          "2020-11-28",
          "2020-11-29",
          "2020-11-30",
          "2020-12-01",
          "2020-12-02",
          "2020-12-03",
          "2020-12-04",
          "2020-12-05",
          "2020-12-06",
          "2020-12-07",
          "2020-12-08",
          "2020-12-09",
          "2020-12-10",
          "2020-12-11",
          "2020-12-12",
          "2020-12-13",
          "2020-12-14",
          "2020-12-15",
          "2020-12-16",
          "2020-12-17",
          "2020-12-18",
          "2020-12-19",
          "2020-12-20",
          "2020-12-21",
          "2020-12-22",
          "2020-12-23",
          "2020-12-24",
          "2020-12-25",
          "2020-12-26",
          "2020-12-27",
          "2020-12-28",
          "2020-12-29",
          "2020-12-30",
          "2020-12-31",
          "2021-01-01",
          "2021-01-02",
          "2021-01-03",
          "2021-01-04",
          "2021-01-05",
          "2021-01-06",
          "2021-01-07",
          "2021-01-08",
          "2021-01-09",
          "2021-01-10",
          "2021-01-11",
          "2021-01-12",
          "2021-01-13",
          "2021-01-14",
          "2021-01-15",
          "2021-01-16",
          "2021-01-17",
          "2021-01-18",
          "2021-01-19",
          "2021-01-20",
          "2021-01-21",
          "2021-01-22",
          "2021-01-23",
          "2021-01-24",
          "2021-01-25",
          "2021-01-26",
          "2021-01-27",
          "2021-01-28",
          "2021-01-29",
          "2021-01-30",
          "2021-01-31",
          "2021-02-01",
          "2021-02-02",
          "2021-02-03",
          "2021-02-04",
          "2021-02-05",
          "2021-02-06",
          "2021-02-07",
          "2021-02-08",
          "2021-02-09",
          "2021-02-10",
          "2021-02-11",
          "2021-02-12",
          "2021-02-13",
          "2021-02-14",
          "2021-02-15",
          "2021-02-16",
          "2021-02-17",
          "2021-02-18",
          "2021-02-19",
          "2021-02-20",
          "2021-02-21",
          "2021-02-22",
          "2021-02-23",
          "2021-02-24",
          "2021-02-25",
          "2021-02-26",
          "2021-02-27",
          "2021-02-28",
          "2021-03-01",
          "2021-03-02",
          "2021-03-03",
          "2021-03-04",
          "2021-03-05",
          "2021-03-06",
          "2021-03-07",
          "2021-03-08",
          "2021-03-09",
          "2021-03-10",
          "2021-03-11",
          "2021-03-12",
          "2021-03-13",
          "2021-03-14",
          "2021-03-15",
          "2021-03-16",
          "2021-03-17",
          "2021-03-18",
          "2021-03-19",
          "2021-03-20",
          "2021-03-21",
          "2021-03-22",
          "2021-03-23",
          "2021-03-24",
          "2021-03-25",
          "2021-03-26",
          "2021-03-27",
          "2021-03-28",
          "2021-03-29",
          "2021-03-30",
          "2021-03-31",
          "2021-04-01",
          "2021-04-02",
          "2021-04-03",
          "2021-04-04",
          "2021-04-05",
          "2021-04-06",
          "2021-04-07",
          "2021-04-08",
          "2021-04-09",
          "2021-04-10",
          "2021-04-11",
          "2021-04-12",
          "2021-04-13",
          "2021-04-14",
          "2021-04-15",
          "2021-04-16",
          "2021-04-17",
          "2021-04-18",
          "2021-04-19",
          "2021-04-20",
          "2021-04-21",
          "2021-04-22",
          "2021-04-23",
          "2021-04-24",
          "2021-04-25",
          "2021-04-26",
          "2021-04-27",
          "2021-04-28",
          "2021-04-29",
          "2021-04-30",
          "2021-05-01",
          "2021-05-02",
          "2021-05-03",
          "2021-05-04",
          "2021-05-05",
          "2021-05-06",
          "2021-05-07",
          "2021-05-08",
          "2021-05-09",
          "2021-05-10",
          "2021-05-11",
          "2021-05-12",
          "2021-05-13",
          "2021-05-14",
          "2021-05-15",
          "2021-05-16",
          "2021-05-17",
          "2021-05-18",
          "2021-05-19",
          "2021-05-20",
          "2021-05-21",
          "2021-05-22",
          "2021-05-23",
          "2021-05-24",
          "2021-05-25",
          "2021-05-26",
          "2021-05-27",
          "2021-05-28",
          "2021-05-29",
          "2021-05-30",
          "2021-05-31",
          "2021-06-01",
          "2021-06-02",
          "2021-06-03",
          "2021-06-04",
          "2021-06-05",
          "2021-06-06",
          "2021-06-07",
          "2021-06-08",
          "2021-06-09",
          "2021-06-10",
          "2021-06-11",
          "2021-06-12",
          "2021-06-13",
          "2021-06-14",
          "2021-06-15",
          "2021-06-16",
          "2021-06-17",
          "2021-06-18",
          "2021-06-19",
          "2021-06-20",
          "2021-06-21",
          "2021-06-22",
          "2021-06-23",
          "2021-06-24",
          "2021-06-25",
          "2021-06-26",
          "2021-06-27",
          "2021-06-28",
          "2021-06-29",
          "2021-06-30",
          "2021-07-01",
          "2021-07-02",
          "2021-07-03",
          "2021-07-04",
          "2021-07-05",
          "2021-07-06",
          "2021-07-07",
          "2021-07-08",
          "2021-07-09",
          "2021-07-10",
          "2021-07-11",
          "2021-07-12",
          "2021-07-13",
          "2021-07-14",
          "2021-07-15",
          "2021-07-16",
          "2021-07-17",
          "2021-07-18",
          "2021-07-19",
          "2021-07-20",
          "2021-07-21",
          "2021-07-22",
          "2021-07-23",
          "2021-07-24",
          "2021-07-25",
          "2021-07-26",
          "2021-07-27",
          "2021-07-28",
          "2021-07-29",
          "2021-07-30",
          "2021-07-31",
          "2021-08-01",
          "2021-08-02",
          "2021-08-03",
          "2021-08-04",
          "2021-08-05",
          "2021-08-06",
          "2021-08-07",
          "2021-08-08",
          "2021-08-09",
          "2021-08-10",
          "2021-08-11",
          "2021-08-12",
          "2021-08-13",
          "2021-08-14",
          "2021-08-15",
          "2021-08-16",
          "2021-08-17",
          "2021-08-18",
          "2021-08-19",
          "2021-08-20",
          "2021-08-21",
          "2021-08-22",
          "2021-08-23",
          "2021-08-24",
          "2021-08-25",
          "2021-08-26",
          "2021-08-27",
          "2021-08-28",
          "2021-08-29",
          "2021-08-30",
          "2021-08-31",
          "2021-09-01",
          "2021-09-02",
          "2021-09-03",
          "2021-09-04",
          "2021-09-05",
          "2021-09-06",
          "2021-09-07",
          "2021-09-08",
          "2021-09-09",
          "2021-09-10",
          "2021-09-11",
          "2021-09-12",
          "2021-09-13",
          "2021-09-14",
          "2021-09-15",
          "2021-09-16",
          "2021-09-17",
          "2021-09-18",
          "2021-09-19",
          "2021-09-20",
          "2021-09-21",
          "2021-09-22",
          "2021-09-23",
          "2021-09-24",
          "2021-09-25",
          "2021-09-26",
          "2021-09-27",
          "2021-09-28",
          "2021-09-29",
          "2021-09-30",
          "2021-10-01",
          "2021-10-02",
          "2021-10-03",
          "2021-10-04",
          "2021-10-05",
          "2021-10-06",
          "2021-10-07",
          "2021-10-08",
          "2021-10-09",
          "2021-10-10",
          "2021-10-11",
          "2021-10-12",
          "2021-10-13",
          "2021-10-14",
          "2021-10-15",
          "2021-10-16",
          "2021-10-17",
          "2021-10-18",
          "2021-10-19",
          "2021-10-20",
          "2021-10-21",
          "2021-10-22"
         ],
         "y": [
          4,
          10,
          9,
          11,
          13,
          14,
          26,
          12,
          12,
          12,
          13,
          13,
          16,
          20,
          12,
          10,
          11,
          9,
          13,
          8,
          17,
          14,
          13,
          22,
          12,
          17,
          9,
          12,
          15,
          12,
          11,
          12,
          13,
          19,
          14,
          18,
          9,
          20,
          24,
          10,
          12,
          21,
          13,
          12,
          15,
          15,
          13,
          15,
          13,
          12,
          12,
          9,
          12,
          21,
          17,
          18,
          12,
          7,
          16,
          16,
          13,
          14,
          6,
          5,
          6,
          9,
          14,
          12,
          29,
          21,
          11,
          5,
          3,
          12,
          16,
          10,
          13,
          6,
          4,
          13,
          10,
          8,
          13,
          15,
          6,
          6,
          6,
          8,
          11,
          11,
          12,
          6,
          12,
          10,
          13,
          14,
          10,
          37,
          19,
          8,
          11,
          22,
          11,
          13,
          19,
          16,
          13,
          10,
          14,
          12,
          25,
          23,
          17,
          13,
          18,
          17,
          11,
          22,
          17,
          11,
          12,
          17,
          14,
          16,
          16,
          13,
          17,
          7,
          16,
          20,
          12,
          20,
          18,
          10,
          13,
          16,
          14,
          13,
          7,
          4,
          10,
          8,
          9,
          17,
          19,
          6,
          3,
          6,
          11,
          12,
          9,
          9,
          15,
          13,
          8,
          9,
          9,
          9,
          8,
          19,
          20,
          14,
          12,
          4,
          10,
          14,
          19,
          15,
          5,
          11,
          5,
          11,
          7,
          15,
          14,
          8,
          10,
          6,
          9,
          13,
          10,
          15,
          6,
          7,
          11,
          8,
          7,
          7,
          8,
          14,
          5,
          15,
          5,
          13,
          8,
          15,
          12,
          5,
          8,
          9,
          12,
          11,
          17,
          8,
          12,
          6,
          7,
          8,
          9,
          12,
          9,
          5,
          7,
          11,
          12,
          12,
          17,
          9,
          11,
          10,
          10,
          9,
          14,
          14,
          39,
          34,
          70,
          69,
          46,
          40,
          32,
          15,
          17,
          25,
          25,
          24,
          24,
          15,
          12,
          8,
          16,
          12,
          9,
          11,
          15,
          11,
          5,
          11,
          8,
          11,
          17,
          15,
          12,
          5,
          10,
          7,
          13,
          12,
          17,
          9,
          11,
          11,
          9,
          14,
          18,
          32,
          6,
          12,
          12,
          12,
          7,
          10,
          14,
          9,
          11,
          8,
          12,
          12,
          9,
          15,
          16,
          11,
          11,
          8,
          22,
          18,
          7,
          7,
          12,
          16,
          8,
          11,
          11,
          22,
          15,
          3,
          12,
          14,
          10,
          10,
          6,
          6,
          6,
          9,
          6,
          6,
          7,
          12,
          7,
          4,
          16,
          18,
          12,
          6,
          7,
          8,
          6,
          8,
          7,
          20,
          16,
          18,
          7,
          9,
          13,
          13,
          18,
          23,
          12,
          8,
          8,
          18,
          9,
          12,
          8,
          5,
          11,
          6,
          5,
          15,
          13,
          17,
          12,
          7,
          2,
          7,
          13,
          8,
          13,
          17,
          2,
          6,
          6,
          11,
          11,
          14,
          19,
          12,
          11,
          15,
          10,
          17,
          18,
          6,
          13,
          15,
          32,
          22,
          20,
          29,
          72,
          39,
          24,
          25,
          22,
          14,
          25,
          18,
          17,
          11,
          23,
          22,
          25,
          29,
          28,
          23,
          20,
          33,
          38,
          18,
          21,
          22,
          20,
          13,
          21,
          13,
          16,
          20,
          16,
          16,
          10,
          31,
          22,
          31,
          16,
          35,
          11,
          14,
          30,
          19,
          26,
          20,
          18,
          15,
          15,
          14,
          19,
          32,
          43,
          42,
          22,
          16,
          16,
          22,
          18,
          19,
          26,
          21,
          14,
          16,
          30,
          12,
          33,
          48,
          22,
          8,
          24,
          16,
          16,
          17,
          17
         ]
        }
       ],
       "layout": {
        "legend": {
         "bgcolor": "#F5F6F9",
         "font": {
          "color": "#4D5663"
         }
        },
        "paper_bgcolor": "#F5F6F9",
        "plot_bgcolor": "#F5F6F9",
        "template": {
         "data": {
          "bar": [
           {
            "error_x": {
             "color": "#2a3f5f"
            },
            "error_y": {
             "color": "#2a3f5f"
            },
            "marker": {
             "line": {
              "color": "#E5ECF6",
              "width": 0.5
             },
             "pattern": {
              "fillmode": "overlay",
              "size": 10,
              "solidity": 0.2
             }
            },
            "type": "bar"
           }
          ],
          "barpolar": [
           {
            "marker": {
             "line": {
              "color": "#E5ECF6",
              "width": 0.5
             },
             "pattern": {
              "fillmode": "overlay",
              "size": 10,
              "solidity": 0.2
             }
            },
            "type": "barpolar"
           }
          ],
          "carpet": [
           {
            "aaxis": {
             "endlinecolor": "#2a3f5f",
             "gridcolor": "white",
             "linecolor": "white",
             "minorgridcolor": "white",
             "startlinecolor": "#2a3f5f"
            },
            "baxis": {
             "endlinecolor": "#2a3f5f",
             "gridcolor": "white",
             "linecolor": "white",
             "minorgridcolor": "white",
             "startlinecolor": "#2a3f5f"
            },
            "type": "carpet"
           }
          ],
          "choropleth": [
           {
            "colorbar": {
             "outlinewidth": 0,
             "ticks": ""
            },
            "type": "choropleth"
           }
          ],
          "contour": [
           {
            "colorbar": {
             "outlinewidth": 0,
             "ticks": ""
            },
            "colorscale": [
             [
              0,
              "#0d0887"
             ],
             [
              0.1111111111111111,
              "#46039f"
             ],
             [
              0.2222222222222222,
              "#7201a8"
             ],
             [
              0.3333333333333333,
              "#9c179e"
             ],
             [
              0.4444444444444444,
              "#bd3786"
             ],
             [
              0.5555555555555556,
              "#d8576b"
             ],
             [
              0.6666666666666666,
              "#ed7953"
             ],
             [
              0.7777777777777778,
              "#fb9f3a"
             ],
             [
              0.8888888888888888,
              "#fdca26"
             ],
             [
              1,
              "#f0f921"
             ]
            ],
            "type": "contour"
           }
          ],
          "contourcarpet": [
           {
            "colorbar": {
             "outlinewidth": 0,
             "ticks": ""
            },
            "type": "contourcarpet"
           }
          ],
          "heatmap": [
           {
            "colorbar": {
             "outlinewidth": 0,
             "ticks": ""
            },
            "colorscale": [
             [
              0,
              "#0d0887"
             ],
             [
              0.1111111111111111,
              "#46039f"
             ],
             [
              0.2222222222222222,
              "#7201a8"
             ],
             [
              0.3333333333333333,
              "#9c179e"
             ],
             [
              0.4444444444444444,
              "#bd3786"
             ],
             [
              0.5555555555555556,
              "#d8576b"
             ],
             [
              0.6666666666666666,
              "#ed7953"
             ],
             [
              0.7777777777777778,
              "#fb9f3a"
             ],
             [
              0.8888888888888888,
              "#fdca26"
             ],
             [
              1,
              "#f0f921"
             ]
            ],
            "type": "heatmap"
           }
          ],
          "heatmapgl": [
           {
            "colorbar": {
             "outlinewidth": 0,
             "ticks": ""
            },
            "colorscale": [
             [
              0,
              "#0d0887"
             ],
             [
              0.1111111111111111,
              "#46039f"
             ],
             [
              0.2222222222222222,
              "#7201a8"
             ],
             [
              0.3333333333333333,
              "#9c179e"
             ],
             [
              0.4444444444444444,
              "#bd3786"
             ],
             [
              0.5555555555555556,
              "#d8576b"
             ],
             [
              0.6666666666666666,
              "#ed7953"
             ],
             [
              0.7777777777777778,
              "#fb9f3a"
             ],
             [
              0.8888888888888888,
              "#fdca26"
             ],
             [
              1,
              "#f0f921"
             ]
            ],
            "type": "heatmapgl"
           }
          ],
          "histogram": [
           {
            "marker": {
             "pattern": {
              "fillmode": "overlay",
              "size": 10,
              "solidity": 0.2
             }
            },
            "type": "histogram"
           }
          ],
          "histogram2d": [
           {
            "colorbar": {
             "outlinewidth": 0,
             "ticks": ""
            },
            "colorscale": [
             [
              0,
              "#0d0887"
             ],
             [
              0.1111111111111111,
              "#46039f"
             ],
             [
              0.2222222222222222,
              "#7201a8"
             ],
             [
              0.3333333333333333,
              "#9c179e"
             ],
             [
              0.4444444444444444,
              "#bd3786"
             ],
             [
              0.5555555555555556,
              "#d8576b"
             ],
             [
              0.6666666666666666,
              "#ed7953"
             ],
             [
              0.7777777777777778,
              "#fb9f3a"
             ],
             [
              0.8888888888888888,
              "#fdca26"
             ],
             [
              1,
              "#f0f921"
             ]
            ],
            "type": "histogram2d"
           }
          ],
          "histogram2dcontour": [
           {
            "colorbar": {
             "outlinewidth": 0,
             "ticks": ""
            },
            "colorscale": [
             [
              0,
              "#0d0887"
             ],
             [
              0.1111111111111111,
              "#46039f"
             ],
             [
              0.2222222222222222,
              "#7201a8"
             ],
             [
              0.3333333333333333,
              "#9c179e"
             ],
             [
              0.4444444444444444,
              "#bd3786"
             ],
             [
              0.5555555555555556,
              "#d8576b"
             ],
             [
              0.6666666666666666,
              "#ed7953"
             ],
             [
              0.7777777777777778,
              "#fb9f3a"
             ],
             [
              0.8888888888888888,
              "#fdca26"
             ],
             [
              1,
              "#f0f921"
             ]
            ],
            "type": "histogram2dcontour"
           }
          ],
          "mesh3d": [
           {
            "colorbar": {
             "outlinewidth": 0,
             "ticks": ""
            },
            "type": "mesh3d"
           }
          ],
          "parcoords": [
           {
            "line": {
             "colorbar": {
              "outlinewidth": 0,
              "ticks": ""
             }
            },
            "type": "parcoords"
           }
          ],
          "pie": [
           {
            "automargin": true,
            "type": "pie"
           }
          ],
          "scatter": [
           {
            "marker": {
             "colorbar": {
              "outlinewidth": 0,
              "ticks": ""
             }
            },
            "type": "scatter"
           }
          ],
          "scatter3d": [
           {
            "line": {
             "colorbar": {
              "outlinewidth": 0,
              "ticks": ""
             }
            },
            "marker": {
             "colorbar": {
              "outlinewidth": 0,
              "ticks": ""
             }
            },
            "type": "scatter3d"
           }
          ],
          "scattercarpet": [
           {
            "marker": {
             "colorbar": {
              "outlinewidth": 0,
              "ticks": ""
             }
            },
            "type": "scattercarpet"
           }
          ],
          "scattergeo": [
           {
            "marker": {
             "colorbar": {
              "outlinewidth": 0,
              "ticks": ""
             }
            },
            "type": "scattergeo"
           }
          ],
          "scattergl": [
           {
            "marker": {
             "colorbar": {
              "outlinewidth": 0,
              "ticks": ""
             }
            },
            "type": "scattergl"
           }
          ],
          "scattermapbox": [
           {
            "marker": {
             "colorbar": {
              "outlinewidth": 0,
              "ticks": ""
             }
            },
            "type": "scattermapbox"
           }
          ],
          "scatterpolar": [
           {
            "marker": {
             "colorbar": {
              "outlinewidth": 0,
              "ticks": ""
             }
            },
            "type": "scatterpolar"
           }
          ],
          "scatterpolargl": [
           {
            "marker": {
             "colorbar": {
              "outlinewidth": 0,
              "ticks": ""
             }
            },
            "type": "scatterpolargl"
           }
          ],
          "scatterternary": [
           {
            "marker": {
             "colorbar": {
              "outlinewidth": 0,
              "ticks": ""
             }
            },
            "type": "scatterternary"
           }
          ],
          "surface": [
           {
            "colorbar": {
             "outlinewidth": 0,
             "ticks": ""
            },
            "colorscale": [
             [
              0,
              "#0d0887"
             ],
             [
              0.1111111111111111,
              "#46039f"
             ],
             [
              0.2222222222222222,
              "#7201a8"
             ],
             [
              0.3333333333333333,
              "#9c179e"
             ],
             [
              0.4444444444444444,
              "#bd3786"
             ],
             [
              0.5555555555555556,
              "#d8576b"
             ],
             [
              0.6666666666666666,
              "#ed7953"
             ],
             [
              0.7777777777777778,
              "#fb9f3a"
             ],
             [
              0.8888888888888888,
              "#fdca26"
             ],
             [
              1,
              "#f0f921"
             ]
            ],
            "type": "surface"
           }
          ],
          "table": [
           {
            "cells": {
             "fill": {
              "color": "#EBF0F8"
             },
             "line": {
              "color": "white"
             }
            },
            "header": {
             "fill": {
              "color": "#C8D4E3"
             },
             "line": {
              "color": "white"
             }
            },
            "type": "table"
           }
          ]
         },
         "layout": {
          "annotationdefaults": {
           "arrowcolor": "#2a3f5f",
           "arrowhead": 0,
           "arrowwidth": 1
          },
          "autotypenumbers": "strict",
          "coloraxis": {
           "colorbar": {
            "outlinewidth": 0,
            "ticks": ""
           }
          },
          "colorscale": {
           "diverging": [
            [
             0,
             "#8e0152"
            ],
            [
             0.1,
             "#c51b7d"
            ],
            [
             0.2,
             "#de77ae"
            ],
            [
             0.3,
             "#f1b6da"
            ],
            [
             0.4,
             "#fde0ef"
            ],
            [
             0.5,
             "#f7f7f7"
            ],
            [
             0.6,
             "#e6f5d0"
            ],
            [
             0.7,
             "#b8e186"
            ],
            [
             0.8,
             "#7fbc41"
            ],
            [
             0.9,
             "#4d9221"
            ],
            [
             1,
             "#276419"
            ]
           ],
           "sequential": [
            [
             0,
             "#0d0887"
            ],
            [
             0.1111111111111111,
             "#46039f"
            ],
            [
             0.2222222222222222,
             "#7201a8"
            ],
            [
             0.3333333333333333,
             "#9c179e"
            ],
            [
             0.4444444444444444,
             "#bd3786"
            ],
            [
             0.5555555555555556,
             "#d8576b"
            ],
            [
             0.6666666666666666,
             "#ed7953"
            ],
            [
             0.7777777777777778,
             "#fb9f3a"
            ],
            [
             0.8888888888888888,
             "#fdca26"
            ],
            [
             1,
             "#f0f921"
            ]
           ],
           "sequentialminus": [
            [
             0,
             "#0d0887"
            ],
            [
             0.1111111111111111,
             "#46039f"
            ],
            [
             0.2222222222222222,
             "#7201a8"
            ],
            [
             0.3333333333333333,
             "#9c179e"
            ],
            [
             0.4444444444444444,
             "#bd3786"
            ],
            [
             0.5555555555555556,
             "#d8576b"
            ],
            [
             0.6666666666666666,
             "#ed7953"
            ],
            [
             0.7777777777777778,
             "#fb9f3a"
            ],
            [
             0.8888888888888888,
             "#fdca26"
            ],
            [
             1,
             "#f0f921"
            ]
           ]
          },
          "colorway": [
           "#636efa",
           "#EF553B",
           "#00cc96",
           "#ab63fa",
           "#FFA15A",
           "#19d3f3",
           "#FF6692",
           "#B6E880",
           "#FF97FF",
           "#FECB52"
          ],
          "font": {
           "color": "#2a3f5f"
          },
          "geo": {
           "bgcolor": "white",
           "lakecolor": "white",
           "landcolor": "#E5ECF6",
           "showlakes": true,
           "showland": true,
           "subunitcolor": "white"
          },
          "hoverlabel": {
           "align": "left"
          },
          "hovermode": "closest",
          "mapbox": {
           "style": "light"
          },
          "paper_bgcolor": "white",
          "plot_bgcolor": "#E5ECF6",
          "polar": {
           "angularaxis": {
            "gridcolor": "white",
            "linecolor": "white",
            "ticks": ""
           },
           "bgcolor": "#E5ECF6",
           "radialaxis": {
            "gridcolor": "white",
            "linecolor": "white",
            "ticks": ""
           }
          },
          "scene": {
           "xaxis": {
            "backgroundcolor": "#E5ECF6",
            "gridcolor": "white",
            "gridwidth": 2,
            "linecolor": "white",
            "showbackground": true,
            "ticks": "",
            "zerolinecolor": "white"
           },
           "yaxis": {
            "backgroundcolor": "#E5ECF6",
            "gridcolor": "white",
            "gridwidth": 2,
            "linecolor": "white",
            "showbackground": true,
            "ticks": "",
            "zerolinecolor": "white"
           },
           "zaxis": {
            "backgroundcolor": "#E5ECF6",
            "gridcolor": "white",
            "gridwidth": 2,
            "linecolor": "white",
            "showbackground": true,
            "ticks": "",
            "zerolinecolor": "white"
           }
          },
          "shapedefaults": {
           "line": {
            "color": "#2a3f5f"
           }
          },
          "ternary": {
           "aaxis": {
            "gridcolor": "white",
            "linecolor": "white",
            "ticks": ""
           },
           "baxis": {
            "gridcolor": "white",
            "linecolor": "white",
            "ticks": ""
           },
           "bgcolor": "#E5ECF6",
           "caxis": {
            "gridcolor": "white",
            "linecolor": "white",
            "ticks": ""
           }
          },
          "title": {
           "x": 0.05
          },
          "xaxis": {
           "automargin": true,
           "gridcolor": "white",
           "linecolor": "white",
           "ticks": "",
           "title": {
            "standoff": 15
           },
           "zerolinecolor": "white",
           "zerolinewidth": 2
          },
          "yaxis": {
           "automargin": true,
           "gridcolor": "white",
           "linecolor": "white",
           "ticks": "",
           "title": {
            "standoff": 15
           },
           "zerolinecolor": "white",
           "zerolinewidth": 2
          }
         }
        },
        "title": {
         "font": {
          "color": "#4D5663"
         }
        },
        "xaxis": {
         "gridcolor": "#E1E5ED",
         "showgrid": true,
         "tickfont": {
          "color": "#4D5663"
         },
         "title": {
          "font": {
           "color": "#4D5663"
          },
          "text": ""
         },
         "zerolinecolor": "#E1E5ED"
        },
        "yaxis": {
         "gridcolor": "#E1E5ED",
         "showgrid": true,
         "tickfont": {
          "color": "#4D5663"
         },
         "title": {
          "font": {
           "color": "#4D5663"
          },
          "text": ""
         },
         "zerolinecolor": "#E1E5ED"
        }
       }
      },
      "text/html": [
       "<div>                            <div id=\"df4b08cd-5cae-4ec3-97ee-19ef2c1e4b97\" class=\"plotly-graph-div\" style=\"height:525px; width:100%;\"></div>            <script type=\"text/javascript\">                require([\"plotly\"], function(Plotly) {                    window.PLOTLYENV=window.PLOTLYENV || {};\n",
       "                    window.PLOTLYENV.BASE_URL='https://plot.ly';                                    if (document.getElementById(\"df4b08cd-5cae-4ec3-97ee-19ef2c1e4b97\")) {                    Plotly.newPlot(                        \"df4b08cd-5cae-4ec3-97ee-19ef2c1e4b97\",                        [{\"line\":{\"color\":\"rgba(255, 153, 51, 1.0)\",\"dash\":\"solid\",\"shape\":\"linear\",\"width\":1.3},\"mode\":\"lines\",\"name\":\"n\",\"text\":\"\",\"type\":\"scatter\",\"x\":[\"2020-08-08\",\"2020-08-09\",\"2020-08-10\",\"2020-08-11\",\"2020-08-12\",\"2020-08-13\",\"2020-08-14\",\"2020-08-15\",\"2020-08-16\",\"2020-08-17\",\"2020-08-18\",\"2020-08-19\",\"2020-08-20\",\"2020-08-21\",\"2020-08-22\",\"2020-08-23\",\"2020-08-24\",\"2020-08-25\",\"2020-08-26\",\"2020-08-27\",\"2020-08-28\",\"2020-08-29\",\"2020-08-30\",\"2020-08-31\",\"2020-09-01\",\"2020-09-02\",\"2020-09-03\",\"2020-09-04\",\"2020-09-05\",\"2020-09-06\",\"2020-09-07\",\"2020-09-08\",\"2020-09-09\",\"2020-09-10\",\"2020-09-11\",\"2020-09-12\",\"2020-09-13\",\"2020-09-14\",\"2020-09-15\",\"2020-09-16\",\"2020-09-17\",\"2020-09-18\",\"2020-09-19\",\"2020-09-20\",\"2020-09-21\",\"2020-09-22\",\"2020-09-23\",\"2020-09-24\",\"2020-09-25\",\"2020-09-26\",\"2020-09-27\",\"2020-09-28\",\"2020-09-29\",\"2020-09-30\",\"2020-10-01\",\"2020-10-02\",\"2020-10-03\",\"2020-10-04\",\"2020-10-05\",\"2020-10-06\",\"2020-10-07\",\"2020-10-08\",\"2020-10-09\",\"2020-10-10\",\"2020-10-11\",\"2020-10-12\",\"2020-10-13\",\"2020-10-14\",\"2020-10-15\",\"2020-10-16\",\"2020-10-17\",\"2020-10-18\",\"2020-10-19\",\"2020-10-20\",\"2020-10-21\",\"2020-10-22\",\"2020-10-23\",\"2020-10-24\",\"2020-10-25\",\"2020-10-26\",\"2020-10-27\",\"2020-10-28\",\"2020-10-29\",\"2020-10-30\",\"2020-10-31\",\"2020-11-01\",\"2020-11-02\",\"2020-11-03\",\"2020-11-04\",\"2020-11-05\",\"2020-11-06\",\"2020-11-07\",\"2020-11-08\",\"2020-11-09\",\"2020-11-10\",\"2020-11-11\",\"2020-11-12\",\"2020-11-13\",\"2020-11-14\",\"2020-11-15\",\"2020-11-16\",\"2020-11-17\",\"2020-11-18\",\"2020-11-19\",\"2020-11-20\",\"2020-11-21\",\"2020-11-22\",\"2020-11-23\",\"2020-11-24\",\"2020-11-25\",\"2020-11-26\",\"2020-11-27\",\"2020-11-28\",\"2020-11-29\",\"2020-11-30\",\"2020-12-01\",\"2020-12-02\",\"2020-12-03\",\"2020-12-04\",\"2020-12-05\",\"2020-12-06\",\"2020-12-07\",\"2020-12-08\",\"2020-12-09\",\"2020-12-10\",\"2020-12-11\",\"2020-12-12\",\"2020-12-13\",\"2020-12-14\",\"2020-12-15\",\"2020-12-16\",\"2020-12-17\",\"2020-12-18\",\"2020-12-19\",\"2020-12-20\",\"2020-12-21\",\"2020-12-22\",\"2020-12-23\",\"2020-12-24\",\"2020-12-25\",\"2020-12-26\",\"2020-12-27\",\"2020-12-28\",\"2020-12-29\",\"2020-12-30\",\"2020-12-31\",\"2021-01-01\",\"2021-01-02\",\"2021-01-03\",\"2021-01-04\",\"2021-01-05\",\"2021-01-06\",\"2021-01-07\",\"2021-01-08\",\"2021-01-09\",\"2021-01-10\",\"2021-01-11\",\"2021-01-12\",\"2021-01-13\",\"2021-01-14\",\"2021-01-15\",\"2021-01-16\",\"2021-01-17\",\"2021-01-18\",\"2021-01-19\",\"2021-01-20\",\"2021-01-21\",\"2021-01-22\",\"2021-01-23\",\"2021-01-24\",\"2021-01-25\",\"2021-01-26\",\"2021-01-27\",\"2021-01-28\",\"2021-01-29\",\"2021-01-30\",\"2021-01-31\",\"2021-02-01\",\"2021-02-02\",\"2021-02-03\",\"2021-02-04\",\"2021-02-05\",\"2021-02-06\",\"2021-02-07\",\"2021-02-08\",\"2021-02-09\",\"2021-02-10\",\"2021-02-11\",\"2021-02-12\",\"2021-02-13\",\"2021-02-14\",\"2021-02-15\",\"2021-02-16\",\"2021-02-17\",\"2021-02-18\",\"2021-02-19\",\"2021-02-20\",\"2021-02-21\",\"2021-02-22\",\"2021-02-23\",\"2021-02-24\",\"2021-02-25\",\"2021-02-26\",\"2021-02-27\",\"2021-02-28\",\"2021-03-01\",\"2021-03-02\",\"2021-03-03\",\"2021-03-04\",\"2021-03-05\",\"2021-03-06\",\"2021-03-07\",\"2021-03-08\",\"2021-03-09\",\"2021-03-10\",\"2021-03-11\",\"2021-03-12\",\"2021-03-13\",\"2021-03-14\",\"2021-03-15\",\"2021-03-16\",\"2021-03-17\",\"2021-03-18\",\"2021-03-19\",\"2021-03-20\",\"2021-03-21\",\"2021-03-22\",\"2021-03-23\",\"2021-03-24\",\"2021-03-25\",\"2021-03-26\",\"2021-03-27\",\"2021-03-28\",\"2021-03-29\",\"2021-03-30\",\"2021-03-31\",\"2021-04-01\",\"2021-04-02\",\"2021-04-03\",\"2021-04-04\",\"2021-04-05\",\"2021-04-06\",\"2021-04-07\",\"2021-04-08\",\"2021-04-09\",\"2021-04-10\",\"2021-04-11\",\"2021-04-12\",\"2021-04-13\",\"2021-04-14\",\"2021-04-15\",\"2021-04-16\",\"2021-04-17\",\"2021-04-18\",\"2021-04-19\",\"2021-04-20\",\"2021-04-21\",\"2021-04-22\",\"2021-04-23\",\"2021-04-24\",\"2021-04-25\",\"2021-04-26\",\"2021-04-27\",\"2021-04-28\",\"2021-04-29\",\"2021-04-30\",\"2021-05-01\",\"2021-05-02\",\"2021-05-03\",\"2021-05-04\",\"2021-05-05\",\"2021-05-06\",\"2021-05-07\",\"2021-05-08\",\"2021-05-09\",\"2021-05-10\",\"2021-05-11\",\"2021-05-12\",\"2021-05-13\",\"2021-05-14\",\"2021-05-15\",\"2021-05-16\",\"2021-05-17\",\"2021-05-18\",\"2021-05-19\",\"2021-05-20\",\"2021-05-21\",\"2021-05-22\",\"2021-05-23\",\"2021-05-24\",\"2021-05-25\",\"2021-05-26\",\"2021-05-27\",\"2021-05-28\",\"2021-05-29\",\"2021-05-30\",\"2021-05-31\",\"2021-06-01\",\"2021-06-02\",\"2021-06-03\",\"2021-06-04\",\"2021-06-05\",\"2021-06-06\",\"2021-06-07\",\"2021-06-08\",\"2021-06-09\",\"2021-06-10\",\"2021-06-11\",\"2021-06-12\",\"2021-06-13\",\"2021-06-14\",\"2021-06-15\",\"2021-06-16\",\"2021-06-17\",\"2021-06-18\",\"2021-06-19\",\"2021-06-20\",\"2021-06-21\",\"2021-06-22\",\"2021-06-23\",\"2021-06-24\",\"2021-06-25\",\"2021-06-26\",\"2021-06-27\",\"2021-06-28\",\"2021-06-29\",\"2021-06-30\",\"2021-07-01\",\"2021-07-02\",\"2021-07-03\",\"2021-07-04\",\"2021-07-05\",\"2021-07-06\",\"2021-07-07\",\"2021-07-08\",\"2021-07-09\",\"2021-07-10\",\"2021-07-11\",\"2021-07-12\",\"2021-07-13\",\"2021-07-14\",\"2021-07-15\",\"2021-07-16\",\"2021-07-17\",\"2021-07-18\",\"2021-07-19\",\"2021-07-20\",\"2021-07-21\",\"2021-07-22\",\"2021-07-23\",\"2021-07-24\",\"2021-07-25\",\"2021-07-26\",\"2021-07-27\",\"2021-07-28\",\"2021-07-29\",\"2021-07-30\",\"2021-07-31\",\"2021-08-01\",\"2021-08-02\",\"2021-08-03\",\"2021-08-04\",\"2021-08-05\",\"2021-08-06\",\"2021-08-07\",\"2021-08-08\",\"2021-08-09\",\"2021-08-10\",\"2021-08-11\",\"2021-08-12\",\"2021-08-13\",\"2021-08-14\",\"2021-08-15\",\"2021-08-16\",\"2021-08-17\",\"2021-08-18\",\"2021-08-19\",\"2021-08-20\",\"2021-08-21\",\"2021-08-22\",\"2021-08-23\",\"2021-08-24\",\"2021-08-25\",\"2021-08-26\",\"2021-08-27\",\"2021-08-28\",\"2021-08-29\",\"2021-08-30\",\"2021-08-31\",\"2021-09-01\",\"2021-09-02\",\"2021-09-03\",\"2021-09-04\",\"2021-09-05\",\"2021-09-06\",\"2021-09-07\",\"2021-09-08\",\"2021-09-09\",\"2021-09-10\",\"2021-09-11\",\"2021-09-12\",\"2021-09-13\",\"2021-09-14\",\"2021-09-15\",\"2021-09-16\",\"2021-09-17\",\"2021-09-18\",\"2021-09-19\",\"2021-09-20\",\"2021-09-21\",\"2021-09-22\",\"2021-09-23\",\"2021-09-24\",\"2021-09-25\",\"2021-09-26\",\"2021-09-27\",\"2021-09-28\",\"2021-09-29\",\"2021-09-30\",\"2021-10-01\",\"2021-10-02\",\"2021-10-03\",\"2021-10-04\",\"2021-10-05\",\"2021-10-06\",\"2021-10-07\",\"2021-10-08\",\"2021-10-09\",\"2021-10-10\",\"2021-10-11\",\"2021-10-12\",\"2021-10-13\",\"2021-10-14\",\"2021-10-15\",\"2021-10-16\",\"2021-10-17\",\"2021-10-18\",\"2021-10-19\",\"2021-10-20\",\"2021-10-21\",\"2021-10-22\"],\"y\":[4,10,9,11,13,14,26,12,12,12,13,13,16,20,12,10,11,9,13,8,17,14,13,22,12,17,9,12,15,12,11,12,13,19,14,18,9,20,24,10,12,21,13,12,15,15,13,15,13,12,12,9,12,21,17,18,12,7,16,16,13,14,6,5,6,9,14,12,29,21,11,5,3,12,16,10,13,6,4,13,10,8,13,15,6,6,6,8,11,11,12,6,12,10,13,14,10,37,19,8,11,22,11,13,19,16,13,10,14,12,25,23,17,13,18,17,11,22,17,11,12,17,14,16,16,13,17,7,16,20,12,20,18,10,13,16,14,13,7,4,10,8,9,17,19,6,3,6,11,12,9,9,15,13,8,9,9,9,8,19,20,14,12,4,10,14,19,15,5,11,5,11,7,15,14,8,10,6,9,13,10,15,6,7,11,8,7,7,8,14,5,15,5,13,8,15,12,5,8,9,12,11,17,8,12,6,7,8,9,12,9,5,7,11,12,12,17,9,11,10,10,9,14,14,39,34,70,69,46,40,32,15,17,25,25,24,24,15,12,8,16,12,9,11,15,11,5,11,8,11,17,15,12,5,10,7,13,12,17,9,11,11,9,14,18,32,6,12,12,12,7,10,14,9,11,8,12,12,9,15,16,11,11,8,22,18,7,7,12,16,8,11,11,22,15,3,12,14,10,10,6,6,6,9,6,6,7,12,7,4,16,18,12,6,7,8,6,8,7,20,16,18,7,9,13,13,18,23,12,8,8,18,9,12,8,5,11,6,5,15,13,17,12,7,2,7,13,8,13,17,2,6,6,11,11,14,19,12,11,15,10,17,18,6,13,15,32,22,20,29,72,39,24,25,22,14,25,18,17,11,23,22,25,29,28,23,20,33,38,18,21,22,20,13,21,13,16,20,16,16,10,31,22,31,16,35,11,14,30,19,26,20,18,15,15,14,19,32,43,42,22,16,16,22,18,19,26,21,14,16,30,12,33,48,22,8,24,16,16,17,17]}],                        {\"legend\":{\"bgcolor\":\"#F5F6F9\",\"font\":{\"color\":\"#4D5663\"}},\"paper_bgcolor\":\"#F5F6F9\",\"plot_bgcolor\":\"#F5F6F9\",\"template\":{\"data\":{\"bar\":[{\"error_x\":{\"color\":\"#2a3f5f\"},\"error_y\":{\"color\":\"#2a3f5f\"},\"marker\":{\"line\":{\"color\":\"#E5ECF6\",\"width\":0.5},\"pattern\":{\"fillmode\":\"overlay\",\"size\":10,\"solidity\":0.2}},\"type\":\"bar\"}],\"barpolar\":[{\"marker\":{\"line\":{\"color\":\"#E5ECF6\",\"width\":0.5},\"pattern\":{\"fillmode\":\"overlay\",\"size\":10,\"solidity\":0.2}},\"type\":\"barpolar\"}],\"carpet\":[{\"aaxis\":{\"endlinecolor\":\"#2a3f5f\",\"gridcolor\":\"white\",\"linecolor\":\"white\",\"minorgridcolor\":\"white\",\"startlinecolor\":\"#2a3f5f\"},\"baxis\":{\"endlinecolor\":\"#2a3f5f\",\"gridcolor\":\"white\",\"linecolor\":\"white\",\"minorgridcolor\":\"white\",\"startlinecolor\":\"#2a3f5f\"},\"type\":\"carpet\"}],\"choropleth\":[{\"colorbar\":{\"outlinewidth\":0,\"ticks\":\"\"},\"type\":\"choropleth\"}],\"contour\":[{\"colorbar\":{\"outlinewidth\":0,\"ticks\":\"\"},\"colorscale\":[[0.0,\"#0d0887\"],[0.1111111111111111,\"#46039f\"],[0.2222222222222222,\"#7201a8\"],[0.3333333333333333,\"#9c179e\"],[0.4444444444444444,\"#bd3786\"],[0.5555555555555556,\"#d8576b\"],[0.6666666666666666,\"#ed7953\"],[0.7777777777777778,\"#fb9f3a\"],[0.8888888888888888,\"#fdca26\"],[1.0,\"#f0f921\"]],\"type\":\"contour\"}],\"contourcarpet\":[{\"colorbar\":{\"outlinewidth\":0,\"ticks\":\"\"},\"type\":\"contourcarpet\"}],\"heatmap\":[{\"colorbar\":{\"outlinewidth\":0,\"ticks\":\"\"},\"colorscale\":[[0.0,\"#0d0887\"],[0.1111111111111111,\"#46039f\"],[0.2222222222222222,\"#7201a8\"],[0.3333333333333333,\"#9c179e\"],[0.4444444444444444,\"#bd3786\"],[0.5555555555555556,\"#d8576b\"],[0.6666666666666666,\"#ed7953\"],[0.7777777777777778,\"#fb9f3a\"],[0.8888888888888888,\"#fdca26\"],[1.0,\"#f0f921\"]],\"type\":\"heatmap\"}],\"heatmapgl\":[{\"colorbar\":{\"outlinewidth\":0,\"ticks\":\"\"},\"colorscale\":[[0.0,\"#0d0887\"],[0.1111111111111111,\"#46039f\"],[0.2222222222222222,\"#7201a8\"],[0.3333333333333333,\"#9c179e\"],[0.4444444444444444,\"#bd3786\"],[0.5555555555555556,\"#d8576b\"],[0.6666666666666666,\"#ed7953\"],[0.7777777777777778,\"#fb9f3a\"],[0.8888888888888888,\"#fdca26\"],[1.0,\"#f0f921\"]],\"type\":\"heatmapgl\"}],\"histogram\":[{\"marker\":{\"pattern\":{\"fillmode\":\"overlay\",\"size\":10,\"solidity\":0.2}},\"type\":\"histogram\"}],\"histogram2d\":[{\"colorbar\":{\"outlinewidth\":0,\"ticks\":\"\"},\"colorscale\":[[0.0,\"#0d0887\"],[0.1111111111111111,\"#46039f\"],[0.2222222222222222,\"#7201a8\"],[0.3333333333333333,\"#9c179e\"],[0.4444444444444444,\"#bd3786\"],[0.5555555555555556,\"#d8576b\"],[0.6666666666666666,\"#ed7953\"],[0.7777777777777778,\"#fb9f3a\"],[0.8888888888888888,\"#fdca26\"],[1.0,\"#f0f921\"]],\"type\":\"histogram2d\"}],\"histogram2dcontour\":[{\"colorbar\":{\"outlinewidth\":0,\"ticks\":\"\"},\"colorscale\":[[0.0,\"#0d0887\"],[0.1111111111111111,\"#46039f\"],[0.2222222222222222,\"#7201a8\"],[0.3333333333333333,\"#9c179e\"],[0.4444444444444444,\"#bd3786\"],[0.5555555555555556,\"#d8576b\"],[0.6666666666666666,\"#ed7953\"],[0.7777777777777778,\"#fb9f3a\"],[0.8888888888888888,\"#fdca26\"],[1.0,\"#f0f921\"]],\"type\":\"histogram2dcontour\"}],\"mesh3d\":[{\"colorbar\":{\"outlinewidth\":0,\"ticks\":\"\"},\"type\":\"mesh3d\"}],\"parcoords\":[{\"line\":{\"colorbar\":{\"outlinewidth\":0,\"ticks\":\"\"}},\"type\":\"parcoords\"}],\"pie\":[{\"automargin\":true,\"type\":\"pie\"}],\"scatter\":[{\"marker\":{\"colorbar\":{\"outlinewidth\":0,\"ticks\":\"\"}},\"type\":\"scatter\"}],\"scatter3d\":[{\"line\":{\"colorbar\":{\"outlinewidth\":0,\"ticks\":\"\"}},\"marker\":{\"colorbar\":{\"outlinewidth\":0,\"ticks\":\"\"}},\"type\":\"scatter3d\"}],\"scattercarpet\":[{\"marker\":{\"colorbar\":{\"outlinewidth\":0,\"ticks\":\"\"}},\"type\":\"scattercarpet\"}],\"scattergeo\":[{\"marker\":{\"colorbar\":{\"outlinewidth\":0,\"ticks\":\"\"}},\"type\":\"scattergeo\"}],\"scattergl\":[{\"marker\":{\"colorbar\":{\"outlinewidth\":0,\"ticks\":\"\"}},\"type\":\"scattergl\"}],\"scattermapbox\":[{\"marker\":{\"colorbar\":{\"outlinewidth\":0,\"ticks\":\"\"}},\"type\":\"scattermapbox\"}],\"scatterpolar\":[{\"marker\":{\"colorbar\":{\"outlinewidth\":0,\"ticks\":\"\"}},\"type\":\"scatterpolar\"}],\"scatterpolargl\":[{\"marker\":{\"colorbar\":{\"outlinewidth\":0,\"ticks\":\"\"}},\"type\":\"scatterpolargl\"}],\"scatterternary\":[{\"marker\":{\"colorbar\":{\"outlinewidth\":0,\"ticks\":\"\"}},\"type\":\"scatterternary\"}],\"surface\":[{\"colorbar\":{\"outlinewidth\":0,\"ticks\":\"\"},\"colorscale\":[[0.0,\"#0d0887\"],[0.1111111111111111,\"#46039f\"],[0.2222222222222222,\"#7201a8\"],[0.3333333333333333,\"#9c179e\"],[0.4444444444444444,\"#bd3786\"],[0.5555555555555556,\"#d8576b\"],[0.6666666666666666,\"#ed7953\"],[0.7777777777777778,\"#fb9f3a\"],[0.8888888888888888,\"#fdca26\"],[1.0,\"#f0f921\"]],\"type\":\"surface\"}],\"table\":[{\"cells\":{\"fill\":{\"color\":\"#EBF0F8\"},\"line\":{\"color\":\"white\"}},\"header\":{\"fill\":{\"color\":\"#C8D4E3\"},\"line\":{\"color\":\"white\"}},\"type\":\"table\"}]},\"layout\":{\"annotationdefaults\":{\"arrowcolor\":\"#2a3f5f\",\"arrowhead\":0,\"arrowwidth\":1},\"autotypenumbers\":\"strict\",\"coloraxis\":{\"colorbar\":{\"outlinewidth\":0,\"ticks\":\"\"}},\"colorscale\":{\"diverging\":[[0,\"#8e0152\"],[0.1,\"#c51b7d\"],[0.2,\"#de77ae\"],[0.3,\"#f1b6da\"],[0.4,\"#fde0ef\"],[0.5,\"#f7f7f7\"],[0.6,\"#e6f5d0\"],[0.7,\"#b8e186\"],[0.8,\"#7fbc41\"],[0.9,\"#4d9221\"],[1,\"#276419\"]],\"sequential\":[[0.0,\"#0d0887\"],[0.1111111111111111,\"#46039f\"],[0.2222222222222222,\"#7201a8\"],[0.3333333333333333,\"#9c179e\"],[0.4444444444444444,\"#bd3786\"],[0.5555555555555556,\"#d8576b\"],[0.6666666666666666,\"#ed7953\"],[0.7777777777777778,\"#fb9f3a\"],[0.8888888888888888,\"#fdca26\"],[1.0,\"#f0f921\"]],\"sequentialminus\":[[0.0,\"#0d0887\"],[0.1111111111111111,\"#46039f\"],[0.2222222222222222,\"#7201a8\"],[0.3333333333333333,\"#9c179e\"],[0.4444444444444444,\"#bd3786\"],[0.5555555555555556,\"#d8576b\"],[0.6666666666666666,\"#ed7953\"],[0.7777777777777778,\"#fb9f3a\"],[0.8888888888888888,\"#fdca26\"],[1.0,\"#f0f921\"]]},\"colorway\":[\"#636efa\",\"#EF553B\",\"#00cc96\",\"#ab63fa\",\"#FFA15A\",\"#19d3f3\",\"#FF6692\",\"#B6E880\",\"#FF97FF\",\"#FECB52\"],\"font\":{\"color\":\"#2a3f5f\"},\"geo\":{\"bgcolor\":\"white\",\"lakecolor\":\"white\",\"landcolor\":\"#E5ECF6\",\"showlakes\":true,\"showland\":true,\"subunitcolor\":\"white\"},\"hoverlabel\":{\"align\":\"left\"},\"hovermode\":\"closest\",\"mapbox\":{\"style\":\"light\"},\"paper_bgcolor\":\"white\",\"plot_bgcolor\":\"#E5ECF6\",\"polar\":{\"angularaxis\":{\"gridcolor\":\"white\",\"linecolor\":\"white\",\"ticks\":\"\"},\"bgcolor\":\"#E5ECF6\",\"radialaxis\":{\"gridcolor\":\"white\",\"linecolor\":\"white\",\"ticks\":\"\"}},\"scene\":{\"xaxis\":{\"backgroundcolor\":\"#E5ECF6\",\"gridcolor\":\"white\",\"gridwidth\":2,\"linecolor\":\"white\",\"showbackground\":true,\"ticks\":\"\",\"zerolinecolor\":\"white\"},\"yaxis\":{\"backgroundcolor\":\"#E5ECF6\",\"gridcolor\":\"white\",\"gridwidth\":2,\"linecolor\":\"white\",\"showbackground\":true,\"ticks\":\"\",\"zerolinecolor\":\"white\"},\"zaxis\":{\"backgroundcolor\":\"#E5ECF6\",\"gridcolor\":\"white\",\"gridwidth\":2,\"linecolor\":\"white\",\"showbackground\":true,\"ticks\":\"\",\"zerolinecolor\":\"white\"}},\"shapedefaults\":{\"line\":{\"color\":\"#2a3f5f\"}},\"ternary\":{\"aaxis\":{\"gridcolor\":\"white\",\"linecolor\":\"white\",\"ticks\":\"\"},\"baxis\":{\"gridcolor\":\"white\",\"linecolor\":\"white\",\"ticks\":\"\"},\"bgcolor\":\"#E5ECF6\",\"caxis\":{\"gridcolor\":\"white\",\"linecolor\":\"white\",\"ticks\":\"\"}},\"title\":{\"x\":0.05},\"xaxis\":{\"automargin\":true,\"gridcolor\":\"white\",\"linecolor\":\"white\",\"ticks\":\"\",\"title\":{\"standoff\":15},\"zerolinecolor\":\"white\",\"zerolinewidth\":2},\"yaxis\":{\"automargin\":true,\"gridcolor\":\"white\",\"linecolor\":\"white\",\"ticks\":\"\",\"title\":{\"standoff\":15},\"zerolinecolor\":\"white\",\"zerolinewidth\":2}}},\"title\":{\"font\":{\"color\":\"#4D5663\"}},\"xaxis\":{\"gridcolor\":\"#E1E5ED\",\"showgrid\":true,\"tickfont\":{\"color\":\"#4D5663\"},\"title\":{\"font\":{\"color\":\"#4D5663\"},\"text\":\"\"},\"zerolinecolor\":\"#E1E5ED\"},\"yaxis\":{\"gridcolor\":\"#E1E5ED\",\"showgrid\":true,\"tickfont\":{\"color\":\"#4D5663\"},\"title\":{\"font\":{\"color\":\"#4D5663\"},\"text\":\"\"},\"zerolinecolor\":\"#E1E5ED\"}},                        {\"showLink\": true, \"linkText\": \"Export to plot.ly\", \"plotlyServerURL\": \"https://plot.ly\", \"responsive\": true}                    ).then(function(){\n",
       "                            \n",
       "var gd = document.getElementById('df4b08cd-5cae-4ec3-97ee-19ef2c1e4b97');\n",
       "var x = new MutationObserver(function (mutations, observer) {{\n",
       "        var display = window.getComputedStyle(gd).display;\n",
       "        if (!display || display === 'none') {{\n",
       "            console.log([gd, 'removed!']);\n",
       "            Plotly.purge(gd);\n",
       "            observer.disconnect();\n",
       "        }}\n",
       "}});\n",
       "\n",
       "// Listen for the removal of the full notebook cells\n",
       "var notebookContainer = gd.closest('#notebook-container');\n",
       "if (notebookContainer) {{\n",
       "    x.observe(notebookContainer, {childList: true});\n",
       "}}\n",
       "\n",
       "// Listen for the clearing of the current output cell\n",
       "var outputEl = gd.closest('.output');\n",
       "if (outputEl) {{\n",
       "    x.observe(outputEl, {childList: true});\n",
       "}}\n",
       "\n",
       "                        })                };                });            </script>        </div>"
      ]
     },
     "metadata": {},
     "output_type": "display_data"
    }
   ],
   "source": [
    "df.assign(n=1).pivot_table(index='date', values='n', aggfunc='count').iplot()"
   ]
  },
  {
   "cell_type": "markdown",
   "metadata": {},
   "source": [
    "* Tabla"
   ]
  },
  {
   "cell_type": "code",
   "execution_count": 88,
   "metadata": {},
   "outputs": [
    {
     "data": {
      "text/html": [
       "<div>\n",
       "<style scoped>\n",
       "    .dataframe tbody tr th:only-of-type {\n",
       "        vertical-align: middle;\n",
       "    }\n",
       "\n",
       "    .dataframe tbody tr th {\n",
       "        vertical-align: top;\n",
       "    }\n",
       "\n",
       "    .dataframe thead th {\n",
       "        text-align: right;\n",
       "    }\n",
       "</style>\n",
       "<table border=\"1\" class=\"dataframe\">\n",
       "  <thead>\n",
       "    <tr style=\"text-align: right;\">\n",
       "      <th></th>\n",
       "      <th>2020</th>\n",
       "      <th>2021</th>\n",
       "    </tr>\n",
       "  </thead>\n",
       "  <tbody>\n",
       "    <tr>\n",
       "      <th>Enero</th>\n",
       "      <td>0.0</td>\n",
       "      <td>402.0</td>\n",
       "    </tr>\n",
       "    <tr>\n",
       "      <th>Febrero</th>\n",
       "      <td>0.0</td>\n",
       "      <td>334.0</td>\n",
       "    </tr>\n",
       "    <tr>\n",
       "      <th>Marzo</th>\n",
       "      <td>0.0</td>\n",
       "      <td>762.0</td>\n",
       "    </tr>\n",
       "    <tr>\n",
       "      <th>Abril</th>\n",
       "      <td>0.0</td>\n",
       "      <td>440.0</td>\n",
       "    </tr>\n",
       "    <tr>\n",
       "      <th>Mayo</th>\n",
       "      <td>0.0</td>\n",
       "      <td>431.0</td>\n",
       "    </tr>\n",
       "    <tr>\n",
       "      <th>Junio</th>\n",
       "      <td>0.0</td>\n",
       "      <td>375.0</td>\n",
       "    </tr>\n",
       "    <tr>\n",
       "      <th>Julio</th>\n",
       "      <td>0.0</td>\n",
       "      <td>362.0</td>\n",
       "    </tr>\n",
       "    <tr>\n",
       "      <th>Agosto</th>\n",
       "      <td>366.0</td>\n",
       "      <td>842.0</td>\n",
       "    </tr>\n",
       "    <tr>\n",
       "      <th>Septiembre</th>\n",
       "      <td>466.0</td>\n",
       "      <td>735.0</td>\n",
       "    </tr>\n",
       "    <tr>\n",
       "      <th>Octubre</th>\n",
       "      <td>416.0</td>\n",
       "      <td>553.0</td>\n",
       "    </tr>\n",
       "    <tr>\n",
       "      <th>Noviembre</th>\n",
       "      <td>498.0</td>\n",
       "      <td>0.0</td>\n",
       "    </tr>\n",
       "    <tr>\n",
       "      <th>Diciembre</th>\n",
       "      <td>484.0</td>\n",
       "      <td>0.0</td>\n",
       "    </tr>\n",
       "  </tbody>\n",
       "</table>\n",
       "</div>"
      ],
      "text/plain": [
       "             2020   2021\n",
       "Enero         0.0  402.0\n",
       "Febrero       0.0  334.0\n",
       "Marzo         0.0  762.0\n",
       "Abril         0.0  440.0\n",
       "Mayo          0.0  431.0\n",
       "Junio         0.0  375.0\n",
       "Julio         0.0  362.0\n",
       "Agosto      366.0  842.0\n",
       "Septiembre  466.0  735.0\n",
       "Octubre     416.0  553.0\n",
       "Noviembre   498.0    0.0\n",
       "Diciembre   484.0    0.0"
      ]
     },
     "execution_count": 88,
     "metadata": {},
     "output_type": "execute_result"
    }
   ],
   "source": [
    "# Se filtrará por Mes y Año, y se mostrarán las frecuencias\n",
    "months = ['Enero','Febrero','Marzo','Abril','Mayo','Junio','Julio','Agosto','Septiembre','Octubre','Noviembre','Diciembre']\n",
    "years = ['2020','2021']\n",
    "table_date = pd.DataFrame(np.random.randn(12, 2),index=months,columns=years)\n",
    "for val in years:\n",
    "    for i in range(0,len(months)):\n",
    "        table_date[val][i] = data[(data['at'].dt.month == i+1) & (data['at'].dt.year == int(val))].shape[0] \n",
    "table_date\n",
    "\n",
    "#data[data['at'].dt.month == 11] "
   ]
  },
  {
   "cell_type": "code",
   "execution_count": 86,
   "metadata": {},
   "outputs": [
    {
     "data": {
      "text/plain": [
       "(366, 7)"
      ]
     },
     "execution_count": 86,
     "metadata": {},
     "output_type": "execute_result"
    }
   ],
   "source": [
    "data[(data['at'].dt.month == 8) & (data['at'].dt.year == 2020)].shape "
   ]
  },
  {
   "cell_type": "markdown",
   "metadata": {},
   "source": [
    "# 3. Preprocesamiento de Datos"
   ]
  },
  {
   "cell_type": "markdown",
   "metadata": {},
   "source": [
    "## 3.1. Transformar los tipos de datos a su correspondiente y eliminar variables no informativas"
   ]
  },
  {
   "cell_type": "markdown",
   "metadata": {},
   "source": [
    "* Nota: esta parte ya se trato en la sección \"2.1 - Tipo de Datos\" pues era necesario hacerlo desde antes para hacer una buena exploración de datos"
   ]
  },
  {
   "cell_type": "markdown",
   "metadata": {},
   "source": [
    "## 3.2. Nulos"
   ]
  },
  {
   "cell_type": "markdown",
   "metadata": {},
   "source": [
    "## 3.3. Texto"
   ]
  },
  {
   "cell_type": "markdown",
   "metadata": {},
   "source": [
    "### Limpieza"
   ]
  },
  {
   "cell_type": "code",
   "execution_count": 57,
   "metadata": {},
   "outputs": [],
   "source": [
    "def clean_text(text: str, pattern: str=\"[^a-zA-Z\\s]\", lower: bool=True, emoji: bool=True, to_singular: bool=True) -> str: \n",
    "    '''\n",
    "    Limpieza de texto\n",
    "    '''\n",
    "    # \"Traduce\" emojis, ej: 🇲🇽 --> :Mexico:\n",
    "    if emoji: text = demojize(text)\n",
    "    # Reemplazar acentos: áàäâã --> a\n",
    "    clean = normalize('NFD', str(text).replace('\\n', ' \\n ')).encode('ascii', 'ignore')\n",
    "    # Omitir caracteres especiales !\"#$%&/()=...\n",
    "    clean = sub(pattern, ' ', clean.decode('utf-8'), flags=UNICODE)\n",
    "    # Mantener sólo un espacio\n",
    "    clean = sub(r'\\s{2,}', ' ', clean.strip())\n",
    "    # Minúsculas si el parámetro lo indica\n",
    "    if lower: clean = clean.lower()\n",
    "    # Omitir la última \"s\" si el parámetro lo indica\n",
    "    if to_singular: clean = sub('s\\s',' ',clean+' ')\n",
    "    # Omitir las stopwords indicadas\n",
    "    clean = ' '.join([x for x in clean.split() if x not in stopwords.words('spanish')])\n",
    "    # Si el registro estaba vacío, indicar nulo\n",
    "    if clean in ('','nan'): clean = np.nan\n",
    "    return clean"
   ]
  },
  {
   "cell_type": "code",
   "execution_count": 58,
   "metadata": {},
   "outputs": [
    {
     "data": {
      "text/html": [
       "<div>\n",
       "<style scoped>\n",
       "    .dataframe tbody tr th:only-of-type {\n",
       "        vertical-align: middle;\n",
       "    }\n",
       "\n",
       "    .dataframe tbody tr th {\n",
       "        vertical-align: top;\n",
       "    }\n",
       "\n",
       "    .dataframe thead th {\n",
       "        text-align: right;\n",
       "    }\n",
       "</style>\n",
       "<table border=\"1\" class=\"dataframe\">\n",
       "  <thead>\n",
       "    <tr style=\"text-align: right;\">\n",
       "      <th></th>\n",
       "      <th>content</th>\n",
       "      <th>content_limpio</th>\n",
       "    </tr>\n",
       "  </thead>\n",
       "  <tbody>\n",
       "    <tr>\n",
       "      <th>1681</th>\n",
       "      <td>De repente se traba y no deja realizar transfe...</td>\n",
       "      <td>repente traba deja realizar transferencia visu...</td>\n",
       "    </tr>\n",
       "    <tr>\n",
       "      <th>1271</th>\n",
       "      <td>Solo a la hora de agregar una tarjeta o cuenta...</td>\n",
       "      <td>solo hora agregar tarjeta cuenta banco tarda m...</td>\n",
       "    </tr>\n",
       "    <tr>\n",
       "      <th>3519</th>\n",
       "      <td>Tengo días intentando transferir, sigo instruc...</td>\n",
       "      <td>dia intentando transferir sigo instruccione re...</td>\n",
       "    </tr>\n",
       "  </tbody>\n",
       "</table>\n",
       "</div>"
      ],
      "text/plain": [
       "                                                content  \\\n",
       "1681  De repente se traba y no deja realizar transfe...   \n",
       "1271  Solo a la hora de agregar una tarjeta o cuenta...   \n",
       "3519  Tengo días intentando transferir, sigo instruc...   \n",
       "\n",
       "                                         content_limpio  \n",
       "1681  repente traba deja realizar transferencia visu...  \n",
       "1271  solo hora agregar tarjeta cuenta banco tarda m...  \n",
       "3519  dia intentando transferir sigo instruccione re...  "
      ]
     },
     "execution_count": 58,
     "metadata": {},
     "output_type": "execute_result"
    }
   ],
   "source": [
    "df['content_limpio'] = df['content'].map(clean_text)\n",
    "df[['content','content_limpio']].sample(3)"
   ]
  },
  {
   "cell_type": "markdown",
   "metadata": {},
   "source": [
    "### Características del texto"
   ]
  },
  {
   "cell_type": "code",
   "execution_count": 72,
   "metadata": {},
   "outputs": [
    {
     "data": {
      "text/html": [
       "<div>\n",
       "<style scoped>\n",
       "    .dataframe tbody tr th:only-of-type {\n",
       "        vertical-align: middle;\n",
       "    }\n",
       "\n",
       "    .dataframe tbody tr th {\n",
       "        vertical-align: top;\n",
       "    }\n",
       "\n",
       "    .dataframe thead th {\n",
       "        text-align: right;\n",
       "    }\n",
       "</style>\n",
       "<table border=\"1\" class=\"dataframe\">\n",
       "  <thead>\n",
       "    <tr style=\"text-align: right;\">\n",
       "      <th></th>\n",
       "      <th>Unnamed: 0</th>\n",
       "      <th>at</th>\n",
       "      <th>content</th>\n",
       "      <th>reviewCreatedVersion</th>\n",
       "      <th>thumbsUpCount</th>\n",
       "      <th>content.1</th>\n",
       "      <th>topic</th>\n",
       "      <th>date</th>\n",
       "      <th>content_limpio</th>\n",
       "      <th>longitud</th>\n",
       "      <th>palabras</th>\n",
       "      <th>relevancia</th>\n",
       "      <th>is_transf</th>\n",
       "      <th>is_token</th>\n",
       "    </tr>\n",
       "  </thead>\n",
       "  <tbody>\n",
       "    <tr>\n",
       "      <th>7420</th>\n",
       "      <td>98245</td>\n",
       "      <td>2021-06-23 13:26:38</td>\n",
       "      <td>Cambie de equipo movil, más no de número y no ...</td>\n",
       "      <td>5.59.2</td>\n",
       "      <td>0</td>\n",
       "      <td>Cambie de equipo movil, más no de número y no ...</td>\n",
       "      <td>token</td>\n",
       "      <td>2021-06-23</td>\n",
       "      <td>cambie equipo movil ma numero deja activar sup...</td>\n",
       "      <td>76</td>\n",
       "      <td>12</td>\n",
       "      <td>0.730769</td>\n",
       "      <td>False</td>\n",
       "      <td>True</td>\n",
       "    </tr>\n",
       "  </tbody>\n",
       "</table>\n",
       "</div>"
      ],
      "text/plain": [
       "      Unnamed: 0                  at  \\\n",
       "7420       98245 2021-06-23 13:26:38   \n",
       "\n",
       "                                                content reviewCreatedVersion  \\\n",
       "7420  Cambie de equipo movil, más no de número y no ...               5.59.2   \n",
       "\n",
       "      thumbsUpCount                                          content.1  topic  \\\n",
       "7420              0  Cambie de equipo movil, más no de número y no ...  token   \n",
       "\n",
       "            date                                     content_limpio  longitud  \\\n",
       "7420  2021-06-23  cambie equipo movil ma numero deja activar sup...        76   \n",
       "\n",
       "      palabras  relevancia  is_transf  is_token  \n",
       "7420        12    0.730769      False      True  "
      ]
     },
     "execution_count": 72,
     "metadata": {},
     "output_type": "execute_result"
    }
   ],
   "source": [
    "df['longitud'] = df['content_limpio'].str.len()\n",
    "df['palabras'] = df['content_limpio'].str.split().str.len()\n",
    "df['relevancia'] = df['longitud'] / df['content'].str.len()\n",
    "df['is_transf'] = df['content_limpio'].map(lambda x: 'tra' in x)\n",
    "df['is_token'] = df['content_limpio'].map(lambda x: 'token' in x)\n",
    "df.sample()"
   ]
  },
  {
   "cell_type": "code",
   "execution_count": 78,
   "metadata": {},
   "outputs": [
    {
     "data": {
      "text/html": [
       "<div>\n",
       "<style scoped>\n",
       "    .dataframe tbody tr th:only-of-type {\n",
       "        vertical-align: middle;\n",
       "    }\n",
       "\n",
       "    .dataframe tbody tr th {\n",
       "        vertical-align: top;\n",
       "    }\n",
       "\n",
       "    .dataframe thead tr th {\n",
       "        text-align: left;\n",
       "    }\n",
       "\n",
       "    .dataframe thead tr:last-of-type th {\n",
       "        text-align: right;\n",
       "    }\n",
       "</style>\n",
       "<table border=\"1\" class=\"dataframe\">\n",
       "  <thead>\n",
       "    <tr>\n",
       "      <th></th>\n",
       "      <th colspan=\"2\" halign=\"left\">n</th>\n",
       "    </tr>\n",
       "    <tr>\n",
       "      <th>is_token</th>\n",
       "      <th>False</th>\n",
       "      <th>True</th>\n",
       "    </tr>\n",
       "    <tr>\n",
       "      <th>topic</th>\n",
       "      <th></th>\n",
       "      <th></th>\n",
       "    </tr>\n",
       "  </thead>\n",
       "  <tbody>\n",
       "    <tr>\n",
       "      <th>token</th>\n",
       "      <td>0.006606</td>\n",
       "      <td>0.350739</td>\n",
       "    </tr>\n",
       "    <tr>\n",
       "      <th>transferencias</th>\n",
       "      <td>0.640610</td>\n",
       "      <td>0.002045</td>\n",
       "    </tr>\n",
       "  </tbody>\n",
       "</table>\n",
       "</div>"
      ],
      "text/plain": [
       "                       n          \n",
       "is_token           False     True \n",
       "topic                             \n",
       "token           0.006606  0.350739\n",
       "transferencias  0.640610  0.002045"
      ]
     },
     "execution_count": 78,
     "metadata": {},
     "output_type": "execute_result"
    }
   ],
   "source": [
    "aux = df.assign(n=1).pivot_table(index='topic', columns='is_token', aggfunc={'n':'count'})\n",
    "aux /= aux.sum().sum()\n",
    "aux"
   ]
  },
  {
   "cell_type": "code",
   "execution_count": 90,
   "metadata": {},
   "outputs": [],
   "source": [
    "\n",
    "# Ingeniería de variables\n",
    "from numpy import array\n",
    "from pandas import DataFrame, options\n",
    "options.mode.chained_assignment = None\n",
    "\n",
    "# Modelos\n",
    "from sklearn.pipeline import Pipeline\n",
    "from sklearn.preprocessing import RobustScaler\n",
    "from sklearn.linear_model import LinearRegression\n",
    "from sklearn.model_selection import train_test_split\n",
    "\n",
    "def train_model(X: DataFrame, y: array, scaler=RobustScaler, model=LinearRegression, rem_outliers: bool=False, perc_outliers: float=0.03, **kwargs): \n",
    "        '''\n",
    "        Escala y entrena un modelo, devuelve el score, el objeto tipo Pipeline y la relevancia de cada variable\n",
    "        '''\n",
    "        if rem_outliers:\n",
    "            # Unir la tabla\n",
    "            df = X.join(DataFrame(y, index=X.index, columns=['real']))\n",
    "            # Y nuevamente separar la matriz X y el vector \"y\"\n",
    "            X = df[[x for x in df.columns if x not in ['real']]].copy()\n",
    "            y = df['real'].values\n",
    "\n",
    "        # Conjunto de entrenamiento y de test\n",
    "        X_train, X_test, y_train, y_test = train_test_split(X, y, train_size=0.85, random_state=7, shuffle=True)\n",
    "\n",
    "        # Define los pasos del flujo\n",
    "        pipe_obj = Pipeline(steps=[('prep', scaler()), ('model', model(**kwargs))])\n",
    "\n",
    "        # Entrena y guarda el score en test\n",
    "        test_score = pipe_obj.fit(X_train,y_train).score(X_test, y_test)\n",
    "        # Guarda el score en train, para revisar sobreajuste\n",
    "        train_score = pipe_obj.score(X_train,y_train)\n",
    "\n",
    "        # Imprime los scores\n",
    "        print(f\"Test score:\\t{'{:.2%}'.format(test_score)}\\nTrain score:\\t{'{:.2%}'.format(train_score)}\")\n",
    "\n",
    "        # Elige la forma de obtener las variables más representativas\n",
    "        # Ya sea por Regresión Lineal\n",
    "        try: most_important_features = pipe_obj[-1].coef_ \n",
    "        except: \n",
    "            # O por Árbol de decisión, Bosque Aleatorio, XGBoost\n",
    "            try: most_important_features = pipe_obj[-1].feature_importances_\n",
    "            # De otro modo, solamente asignar un vector de 0s a este objeto\n",
    "            except: most_important_features = [0]*len(X.columns)\n",
    "\n",
    "        # Las ordena descendentemente\n",
    "        coef_var = DataFrame(zip(X.columns, most_important_features)).sort_values(1, ascending=False).reset_index(drop=True)\n",
    "        coef_var = coef_var.rename(columns={0:'Variable',1:'Peso'}).set_index('Variable')\n",
    "\n",
    "        # Devuelve el objeto para clustering, la lista de scores tanto en train como en test y la relevancia de cada variable para el modelo \n",
    "        return pipe_obj, (test_score,train_score), coef_var"
   ]
  },
  {
   "cell_type": "code",
   "execution_count": 94,
   "metadata": {},
   "outputs": [],
   "source": [
    "X = df[['longitud', 'palabras','relevancia', 'is_transf', 'is_token']].copy()\n",
    "y = df['topic'].map(lambda x: x=='token').values"
   ]
  },
  {
   "cell_type": "code",
   "execution_count": 95,
   "metadata": {},
   "outputs": [
    {
     "name": "stdout",
     "output_type": "stream",
     "text": [
      "Test score:\t94.73%\n",
      "Train score:\t96.91%\n"
     ]
    }
   ],
   "source": [
    "model_linreg, scores_linreg, coef_linreg = train_model(X, y)"
   ]
  },
  {
   "cell_type": "code",
   "execution_count": 98,
   "metadata": {},
   "outputs": [
    {
     "data": {
      "text/html": [
       "<div>\n",
       "<style scoped>\n",
       "    .dataframe tbody tr th:only-of-type {\n",
       "        vertical-align: middle;\n",
       "    }\n",
       "\n",
       "    .dataframe tbody tr th {\n",
       "        vertical-align: top;\n",
       "    }\n",
       "\n",
       "    .dataframe thead th {\n",
       "        text-align: right;\n",
       "    }\n",
       "</style>\n",
       "<table border=\"1\" class=\"dataframe\">\n",
       "  <thead>\n",
       "    <tr style=\"text-align: right;\">\n",
       "      <th></th>\n",
       "      <th>Peso</th>\n",
       "    </tr>\n",
       "    <tr>\n",
       "      <th>Variable</th>\n",
       "      <th></th>\n",
       "    </tr>\n",
       "  </thead>\n",
       "  <tbody>\n",
       "    <tr>\n",
       "      <th>is_token</th>\n",
       "      <td>0.903332</td>\n",
       "    </tr>\n",
       "    <tr>\n",
       "      <th>palabras</th>\n",
       "      <td>0.018424</td>\n",
       "    </tr>\n",
       "    <tr>\n",
       "      <th>relevancia</th>\n",
       "      <td>-0.000492</td>\n",
       "    </tr>\n",
       "    <tr>\n",
       "      <th>longitud</th>\n",
       "      <td>-0.014927</td>\n",
       "    </tr>\n",
       "    <tr>\n",
       "      <th>is_transf</th>\n",
       "      <td>-0.102827</td>\n",
       "    </tr>\n",
       "  </tbody>\n",
       "</table>\n",
       "</div>"
      ],
      "text/plain": [
       "                Peso\n",
       "Variable            \n",
       "is_token    0.903332\n",
       "palabras    0.018424\n",
       "relevancia -0.000492\n",
       "longitud   -0.014927\n",
       "is_transf  -0.102827"
      ]
     },
     "execution_count": 98,
     "metadata": {},
     "output_type": "execute_result"
    }
   ],
   "source": [
    "coef_linreg"
   ]
  },
  {
   "cell_type": "code",
   "execution_count": 96,
   "metadata": {},
   "outputs": [
    {
     "name": "stdout",
     "output_type": "stream",
     "text": [
      "Test score:\t99.37%\n",
      "Train score:\t100.00%\n"
     ]
    }
   ],
   "source": [
    "from sklearn.ensemble import RandomForestClassifier\n",
    "\n",
    "model_forest, scores_forest, coef_forest = train_model(X, y, model=RandomForestClassifier)"
   ]
  },
  {
   "cell_type": "code",
   "execution_count": 97,
   "metadata": {},
   "outputs": [
    {
     "name": "stdout",
     "output_type": "stream",
     "text": [
      "Test score:\t99.37%\n",
      "Train score:\t99.69%\n"
     ]
    }
   ],
   "source": [
    "from sklearn.neural_network import MLPClassifier\n",
    "\n",
    "model_neural, scores_neural, coef_neural = train_model(X, y, model=MLPClassifier)"
   ]
  },
  {
   "cell_type": "markdown",
   "metadata": {},
   "source": [
    "# 4. Entrenamiento de modelos (al menos 3)"
   ]
  },
  {
   "cell_type": "markdown",
   "metadata": {},
   "source": [
    "# 5. Evaluación de los modelos"
   ]
  },
  {
   "cell_type": "markdown",
   "metadata": {},
   "source": [
    "# 6. Selección del mejor modelo"
   ]
  },
  {
   "cell_type": "code",
   "execution_count": null,
   "metadata": {},
   "outputs": [],
   "source": []
  }
 ],
 "metadata": {
  "interpreter": {
   "hash": "e9da409b09fcf58d374f833144450a689df151aea268a5cc94dcd9def686f626"
  },
  "kernelspec": {
   "display_name": "Python 3.9.5 64-bit ('venv': venv)",
   "name": "python3"
  },
  "language_info": {
   "codemirror_mode": {
    "name": "ipython",
    "version": 3
   },
   "file_extension": ".py",
   "mimetype": "text/x-python",
   "name": "python",
   "nbconvert_exporter": "python",
   "pygments_lexer": "ipython3",
   "version": "3.9.5"
  },
  "orig_nbformat": 4
 },
 "nbformat": 4,
 "nbformat_minor": 2
}

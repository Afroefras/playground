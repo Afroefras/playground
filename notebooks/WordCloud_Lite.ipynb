{
 "cells": [
  {
   "cell_type": "markdown",
   "metadata": {},
   "source": [
    "# WordPic"
   ]
  },
  {
   "cell_type": "markdown",
   "metadata": {},
   "source": [
    "## Importar"
   ]
  },
  {
   "cell_type": "code",
   "execution_count": 4,
   "metadata": {
    "ExecuteTime": {
     "end_time": "2021-01-31T19:27:26.262808Z",
     "start_time": "2021-01-31T19:27:25.161201Z"
    }
   },
   "outputs": [],
   "source": [
    "# %load basic\n",
    "import numpy as np\n",
    "import pandas as pd\n",
    "import matplotlib.pyplot as plt\n",
    "pd.set_option('display.max_columns',200)\n",
    "pd.options.display.float_format = '{:.2f}'.format\n",
    "liga = '/Users/efraflores/Downloads'\n",
    "file_name = 'words.txt'\n",
    "img_name = 'logo.png'"
   ]
  },
  {
   "cell_type": "code",
   "execution_count": 7,
   "metadata": {
    "ExecuteTime": {
     "end_time": "2021-01-31T19:27:26.310096Z",
     "start_time": "2021-01-31T19:27:26.297980Z"
    }
   },
   "outputs": [
    {
     "data": {
      "text/plain": [
       "\"[ ' b i e n ' ,   ' u n i c o ' ,   ' h a r i a ' ,   ' f a l t a ' ,   ' c r e o ' ,   ' e s t a r a n ' ,   ' a c u e r d o ' ,   ' p o d a m o s ' ,   ' e n t r a r ' ,   ' l e c t o r ' ,   ' h u e l l a ' ,   ' h u e \""
      ]
     },
     "execution_count": 7,
     "metadata": {},
     "output_type": "execute_result"
    }
   ],
   "source": [
    "from pathlib import Path\n",
    "\n",
    "BASE_DIR = Path(liga)\n",
    "\n",
    "##Veamos estructura del archivo (ej. para saber qué separador usar)\n",
    "with open(BASE_DIR.joinpath(file_name),'rb') as file:\n",
    "    file = file.read().decode(\"utf-8\") \n",
    "    \n",
    "file[:222]"
   ]
  },
  {
   "cell_type": "code",
   "execution_count": 12,
   "metadata": {
    "ExecuteTime": {
     "end_time": "2021-01-31T19:27:26.405704Z",
     "start_time": "2021-01-31T19:27:26.319635Z"
    }
   },
   "outputs": [
    {
     "data": {
      "text/plain": [
       "\"['bien unico haria falta creo estaran acuerdo podamos entrar lector huella huella cuestiones seguridad aparte contrasena opcional tambien hacer transferencias algun movimiento pida huella seguridad estaria super chevere po\""
      ]
     },
     "execution_count": 12,
     "metadata": {},
     "output_type": "execute_result"
    }
   ],
   "source": [
    "full_text = file.replace(' ','').replace(\"','\", ' ')\n",
    "full_text[:222]"
   ]
  },
  {
   "cell_type": "markdown",
   "metadata": {},
   "source": [
    "## Funciones"
   ]
  },
  {
   "cell_type": "code",
   "execution_count": 5,
   "metadata": {
    "ExecuteTime": {
     "end_time": "2021-01-31T19:27:27.610835Z",
     "start_time": "2021-01-31T19:27:26.409822Z"
    }
   },
   "outputs": [],
   "source": [
    "import re\n",
    "import nltk\n",
    "import unicodedata\n",
    "from nltk.corpus import stopwords\n",
    "\n",
    "def clean_text(text, language = 'spanish', add_stopwords = [], pattern='[^a-zA-Z]'):\n",
    "     cleaned_text = unicodedata.normalize('NFD', text).encode('ascii', 'ignore')\n",
    "     cleaned_text = re.sub(pattern, ' ', cleaned_text.decode('utf-8'), flags = re.UNICODE)\n",
    "     cleaned_text = ' '.join([x for x in \n",
    "                              cleaned_text.lower().split() if x not in \n",
    "                              stopwords.words(language) + add_stopwords])        \n",
    "     return cleaned_text"
   ]
  },
  {
   "cell_type": "code",
   "execution_count": 28,
   "metadata": {
    "ExecuteTime": {
     "end_time": "2021-01-31T19:27:27.640644Z",
     "start_time": "2021-01-31T19:27:27.614356Z"
    }
   },
   "outputs": [],
   "source": [
    "from PIL import Image\n",
    "from wordcloud import WordCloud\n",
    "from IPython.display import display\n",
    "\n",
    "def get_wordcloud(text, image_dir, image_name, n_title = 20,repeat = False):\n",
    "    #Sub-función para desplegar la imagen\n",
    "    def plot_data(data):\n",
    "      plt.imshow(data, interpolation='nearest')\n",
    "      plt.show()\n",
    "        \n",
    "    ##IMPORTAR    \n",
    "    orig = Image.open(image_dir + '/' + image_name)\n",
    "    plot_data(np.array(orig))\n",
    "    \n",
    "    #AJUSTAR\n",
    "    img = Image.new('RGB', orig.size, (255,255,255))\n",
    "    try:\n",
    "        img.paste(orig,orig) #ajusta la parte transparente pa que no se interprete como negro\n",
    "    except:\n",
    "        mask = np.array(orig)\n",
    "    else:\n",
    "        img.paste(orig,orig)\n",
    "        mask = np.array(img) #convierte la imagen a datos (# de color)\n",
    "    wordcloud = WordCloud(mask = mask, #lienzo para las palabras\n",
    "                          #dirección de fuente (tipo de letra)\n",
    "                          font_path = '/System/Library/Fonts/Supplemental/Impact.ttf',\n",
    "                          color_func = lambda *args, **kwargs: 'white', #letras blancas\n",
    "                          include_numbers = True,\n",
    "                          prefer_horizontal = 0.83, #porcentaje de palabras horizontales\n",
    "                          background_color = 'black', \n",
    "                          max_words = 10000,\n",
    "                          max_font_size = 73,\n",
    "                          repeat = repeat) #se repiten las palabras?\n",
    "    wordcloud.generate(text).to_file(image_dir +f'/WP_{image_name[:-4]}.png') #guarda como png\n",
    "    wordcloud = Image.open(image_dir +f'/WP_{image_name[:-4]}.png').convert('RGBA')\n",
    "    datas = wordcloud.getdata() #para obtener nuevamente la info en datos (RGBA contempla transparencia en el último elem)\n",
    "    wordcloud.putdata([(255,255,255,0) if x[0]==x[1]==x[2]!=255 else x for x in datas]) #si el color no es blanco (letras) vuelve transparente al pixelo\n",
    "    wordcloud.paste(orig, box = (0,0), mask = wordcloud) #se sobrepone contra la orignal\n",
    "    wordcloud.save(image_dir +f'/WP_{image_name[:-4]}.png') #guarda la nueva imagen como png\n",
    "    display(wordcloud)"
   ]
  },
  {
   "cell_type": "markdown",
   "metadata": {},
   "source": [
    "## WordPic"
   ]
  },
  {
   "cell_type": "code",
   "execution_count": 29,
   "metadata": {},
   "outputs": [],
   "source": [
    "import os"
   ]
  },
  {
   "cell_type": "code",
   "execution_count": 30,
   "metadata": {
    "ExecuteTime": {
     "end_time": "2021-01-31T19:28:20.833312Z",
     "start_time": "2021-01-31T19:27:31.621338Z"
    }
   },
   "outputs": [
    {
     "data": {
      "image/png": "[encoded data removed]",
      "text/plain": [
       "<Figure size 432x288 with 1 Axes>"
      ]
     },
     "metadata": {
      "needs_background": "light"
     },
     "output_type": "display_data"
    },
    {
     "data": {
      "image/png": "[encoded data removed]",
      "text/plain": [
       "<PIL.Image.Image image mode=RGBA size=1200x359 at 0x7FA808D53FD0>"
      ]
     },
     "metadata": {},
     "output_type": "display_data"
    }
   ],
   "source": [
    "get_wordcloud(full_text, liga, img_name)"
   ]
  },
  {
   "cell_type": "code",
   "execution_count": 31,
   "metadata": {},
   "outputs": [],
   "source": [
    "with open(BASE_DIR.joinpath('text.txt'), 'w') as f:\n",
    "    f.write(full_text)"
   ]
  }
 ],
 "metadata": {
  "interpreter": {
   "hash": "360795d863f880c11c20dc21746bd564b021649392743872e3e3d6d5856bcb66"
  },
  "kernelspec": {
   "display_name": "Python 3.9.1 64-bit ('venv': venv)",
   "name": "python3"
  },
  "language_info": {
   "codemirror_mode": {
    "name": "ipython",
    "version": 3
   },
   "file_extension": ".py",
   "mimetype": "text/x-python",
   "name": "python",
   "nbconvert_exporter": "python",
   "pygments_lexer": "ipython3",
   "version": "3.9.1"
  },
  "toc": {
   "base_numbering": 1,
   "nav_menu": {},
   "number_sections": true,
   "sideBar": true,
   "skip_h1_title": true,
   "title_cell": "Table of Contents",
   "title_sidebar": "Contents",
   "toc_cell": false,
   "toc_position": {},
   "toc_section_display": true,
   "toc_window_display": true
  },
  "varInspector": {
   "cols": {
    "lenName": 16,
    "lenType": 16,
    "lenVar": 40
   },
   "kernels_config": {
    "python": {
     "delete_cmd_postfix": "",
     "delete_cmd_prefix": "del ",
     "library": "var_list.py",
     "varRefreshCmd": "print(var_dic_list())"
    },
    "r": {
     "delete_cmd_postfix": ") ",
     "delete_cmd_prefix": "rm(",
     "library": "var_list.r",
     "varRefreshCmd": "cat(var_dic_list()) "
    }
   },
   "position": {
    "height": "423.496px",
    "left": "1947.5px",
    "right": "20px",
    "top": "120px",
    "width": "342.5px"
   },
   "types_to_exclude": [
    "module",
    "function",
    "builtin_function_or_method",
    "instance",
    "_Feature"
   ],
   "window_display": false
  }
 },
 "nbformat": 4,
 "nbformat_minor": 4
}

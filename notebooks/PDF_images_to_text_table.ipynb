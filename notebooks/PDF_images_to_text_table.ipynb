{
  "nbformat": 4,
  "nbformat_minor": 0,
  "metadata": {
    "colab": {
      "name": "Catalogo_info.ipynb",
      "provenance": [],
      "collapsed_sections": [
        "Zq-86btmd_RT",
        "w2PM2WpLeGl_",
        "VvZv_U0wmc3t",
        "CBUpThGCmfVm",
        "_DUQPvDHeJAI",
        "a6v9OVaNhD1z",
        "HDGWVR8vfGYZ",
        "YGegsOeyhX4g",
        "Yxi62DW5elKg",
        "WH9l31DmWV26",
        "kNN6RxvnYJV5",
        "RON8LfgBhegE"
      ]
    },
    "kernelspec": {
      "name": "python3",
      "display_name": "Python 3"
    },
    "language_info": {
      "name": "python"
    }
  },
  "cells": [
    {
      "cell_type": "markdown",
      "metadata": {
        "id": "PHJY57U0cfxl"
      },
      "source": [
        "# Información de catálogo"
      ]
    },
    {
      "cell_type": "markdown",
      "metadata": {
        "id": "LntwbI3MeR7s"
      },
      "source": [
        "## Parámetros"
      ]
    },
    {
      "cell_type": "code",
      "metadata": {
        "id": "0tqAupupeTcG"
      },
      "source": [
        "# Directorio base\n",
        "BASE_DIR = '/content/drive/MyDrive/catalogos/PDF'\n",
        "# Nombre del archivo PDF \n",
        "FILE_NAME = '2021_09.pdf'"
      ],
      "execution_count": null,
      "outputs": []
    },
    {
      "cell_type": "markdown",
      "metadata": {
        "id": "Zq-86btmd_RT"
      },
      "source": [
        "## Entorno"
      ]
    },
    {
      "cell_type": "markdown",
      "metadata": {
        "id": "w2PM2WpLeGl_"
      },
      "source": [
        "### Instalación"
      ]
    },
    {
      "cell_type": "markdown",
      "metadata": {
        "id": "VvZv_U0wmc3t"
      },
      "source": [
        "#### Para leer PDF"
      ]
    },
    {
      "cell_type": "code",
      "metadata": {
        "colab": {
          "base_uri": "https://localhost:8080/"
        },
        "id": "Q5LQE5eceBfY",
        "outputId": "e47616f6-767e-4c30-9f01-59b5515195c7"
      },
      "source": [
        "!apt-get install poppler-utils\n",
        "!pip install pdf2image"
      ],
      "execution_count": null,
      "outputs": [
        {
          "output_type": "stream",
          "text": [
            "Reading package lists... Done\n",
            "Building dependency tree       \n",
            "Reading state information... Done\n",
            "The following package was automatically installed and is no longer required:\n",
            "  libnvidia-common-460\n",
            "Use 'apt autoremove' to remove it.\n",
            "The following NEW packages will be installed:\n",
            "  poppler-utils\n",
            "0 upgraded, 1 newly installed, 0 to remove and 40 not upgraded.\n",
            "Need to get 154 kB of archives.\n",
            "After this operation, 613 kB of additional disk space will be used.\n",
            "Get:1 http://archive.ubuntu.com/ubuntu bionic-updates/main amd64 poppler-utils amd64 0.62.0-2ubuntu2.12 [154 kB]\n",
            "Fetched 154 kB in 0s (2,341 kB/s)\n",
            "Selecting previously unselected package poppler-utils.\n",
            "(Reading database ... 148489 files and directories currently installed.)\n",
            "Preparing to unpack .../poppler-utils_0.62.0-2ubuntu2.12_amd64.deb ...\n",
            "Unpacking poppler-utils (0.62.0-2ubuntu2.12) ...\n",
            "Setting up poppler-utils (0.62.0-2ubuntu2.12) ...\n",
            "Processing triggers for man-db (2.8.3-2ubuntu0.1) ...\n",
            "Collecting pdf2image\n",
            "  Downloading pdf2image-1.16.0-py3-none-any.whl (10 kB)\n",
            "Requirement already satisfied: pillow in /usr/local/lib/python3.7/dist-packages (from pdf2image) (7.1.2)\n",
            "Installing collected packages: pdf2image\n",
            "Successfully installed pdf2image-1.16.0\n"
          ],
          "name": "stdout"
        }
      ]
    },
    {
      "cell_type": "markdown",
      "metadata": {
        "id": "CBUpThGCmfVm"
      },
      "source": [
        "#### Para reconocer texto de imágenes"
      ]
    },
    {
      "cell_type": "code",
      "metadata": {
        "colab": {
          "base_uri": "https://localhost:8080/"
        },
        "id": "C572V3WfKMfH",
        "outputId": "79c75513-486c-4616-e0a1-73217c21778c"
      },
      "source": [
        "!pip install easyocr"
      ],
      "execution_count": null,
      "outputs": [
        {
          "output_type": "stream",
          "text": [
            "Collecting easyocr\n",
            "  Downloading easyocr-1.4-py3-none-any.whl (63.6 MB)\n",
            "\u001b[K     |████████████████████████████████| 63.6 MB 8.8 kB/s \n",
            "\u001b[?25hRequirement already satisfied: torch in /usr/local/lib/python3.7/dist-packages (from easyocr) (1.9.0+cu102)\n",
            "Requirement already satisfied: scikit-image in /usr/local/lib/python3.7/dist-packages (from easyocr) (0.16.2)\n",
            "Collecting python-bidi\n",
            "  Downloading python_bidi-0.4.2-py2.py3-none-any.whl (30 kB)\n",
            "Requirement already satisfied: opencv-python in /usr/local/lib/python3.7/dist-packages (from easyocr) (4.1.2.30)\n",
            "Requirement already satisfied: PyYAML in /usr/local/lib/python3.7/dist-packages (from easyocr) (3.13)\n",
            "Requirement already satisfied: scipy in /usr/local/lib/python3.7/dist-packages (from easyocr) (1.4.1)\n",
            "Requirement already satisfied: numpy in /usr/local/lib/python3.7/dist-packages (from easyocr) (1.19.5)\n",
            "Requirement already satisfied: Pillow in /usr/local/lib/python3.7/dist-packages (from easyocr) (7.1.2)\n",
            "Requirement already satisfied: torchvision>=0.5 in /usr/local/lib/python3.7/dist-packages (from easyocr) (0.10.0+cu102)\n",
            "Requirement already satisfied: typing-extensions in /usr/local/lib/python3.7/dist-packages (from torch->easyocr) (3.7.4.3)\n",
            "Requirement already satisfied: six in /usr/local/lib/python3.7/dist-packages (from python-bidi->easyocr) (1.15.0)\n",
            "Requirement already satisfied: networkx>=2.0 in /usr/local/lib/python3.7/dist-packages (from scikit-image->easyocr) (2.6.2)\n",
            "Requirement already satisfied: matplotlib!=3.0.0,>=2.0.0 in /usr/local/lib/python3.7/dist-packages (from scikit-image->easyocr) (3.2.2)\n",
            "Requirement already satisfied: PyWavelets>=0.4.0 in /usr/local/lib/python3.7/dist-packages (from scikit-image->easyocr) (1.1.1)\n",
            "Requirement already satisfied: imageio>=2.3.0 in /usr/local/lib/python3.7/dist-packages (from scikit-image->easyocr) (2.4.1)\n",
            "Requirement already satisfied: python-dateutil>=2.1 in /usr/local/lib/python3.7/dist-packages (from matplotlib!=3.0.0,>=2.0.0->scikit-image->easyocr) (2.8.2)\n",
            "Requirement already satisfied: pyparsing!=2.0.4,!=2.1.2,!=2.1.6,>=2.0.1 in /usr/local/lib/python3.7/dist-packages (from matplotlib!=3.0.0,>=2.0.0->scikit-image->easyocr) (2.4.7)\n",
            "Requirement already satisfied: kiwisolver>=1.0.1 in /usr/local/lib/python3.7/dist-packages (from matplotlib!=3.0.0,>=2.0.0->scikit-image->easyocr) (1.3.1)\n",
            "Requirement already satisfied: cycler>=0.10 in /usr/local/lib/python3.7/dist-packages (from matplotlib!=3.0.0,>=2.0.0->scikit-image->easyocr) (0.10.0)\n",
            "Installing collected packages: python-bidi, easyocr\n",
            "Successfully installed easyocr-1.4 python-bidi-0.4.2\n"
          ],
          "name": "stdout"
        }
      ]
    },
    {
      "cell_type": "markdown",
      "metadata": {
        "id": "_DUQPvDHeJAI"
      },
      "source": [
        "### Librerías"
      ]
    },
    {
      "cell_type": "code",
      "metadata": {
        "id": "AJ1UIx6qeD3c"
      },
      "source": [
        "import re\n",
        "import easyocr\n",
        "import numpy as np\n",
        "import pandas as pd\n",
        "from PIL import Image\n",
        "from pathlib import Path\n",
        "from pdf2image import convert_from_path"
      ],
      "execution_count": null,
      "outputs": []
    },
    {
      "cell_type": "markdown",
      "metadata": {
        "id": "P_SqJzGZeNul"
      },
      "source": [
        "## Transformar"
      ]
    },
    {
      "cell_type": "markdown",
      "metadata": {
        "id": "a6v9OVaNhD1z"
      },
      "source": [
        "### PDF a tabla"
      ]
    },
    {
      "cell_type": "markdown",
      "metadata": {
        "id": "HDGWVR8vfGYZ"
      },
      "source": [
        "#### Crear directorio para imágenes"
      ]
    },
    {
      "cell_type": "code",
      "metadata": {
        "id": "VBLMrXQMeOqb"
      },
      "source": [
        "BASE_DIR = Path(BASE_DIR)\n",
        "FOLDER_NAME = ''.join(FILE_NAME.split('.')[:-1])\n",
        "FOLDER_DIR = BASE_DIR.parent.joinpath('images',FOLDER_NAME)"
      ],
      "execution_count": null,
      "outputs": []
    },
    {
      "cell_type": "code",
      "metadata": {
        "id": "n-yPPF9VfPfB"
      },
      "source": [
        "try: FOLDER_DIR.mkdir(exist_ok=False)\n",
        "except FileExistsError: print('noooo!')"
      ],
      "execution_count": null,
      "outputs": []
    },
    {
      "cell_type": "markdown",
      "metadata": {
        "id": "YGegsOeyhX4g"
      },
      "source": [
        "#### Cada página = una imagen"
      ]
    },
    {
      "cell_type": "code",
      "metadata": {
        "id": "z6nuwEfieqH0"
      },
      "source": [
        "pages = convert_from_path(BASE_DIR.joinpath(FILE_NAME), dpi=300) #, first_page=2, last_page=5)\n",
        "for i,page in enumerate(pages):\n",
        "    page.save(FOLDER_DIR.joinpath(f'{FOLDER_NAME}_page{str(i).zfill(2)}.jpg'), 'JPEG')"
      ],
      "execution_count": null,
      "outputs": []
    },
    {
      "cell_type": "markdown",
      "metadata": {
        "id": "Yxi62DW5elKg"
      },
      "source": [
        "#### Cada imagen = 8 recuadros"
      ]
    },
    {
      "cell_type": "code",
      "metadata": {
        "id": "OTLd2KV9hsWc"
      },
      "source": [
        "def split_img(img, n_row, n_col, resize_to=None):\n",
        "    if resize_to != None: img = img.resize((int(x*resize_to) for x in img.size))\n",
        "    split_width = img.size[0]//n_col\n",
        "    split_height = img.size[1]//n_row\n",
        "    grid_imgs = []\n",
        "    for row in range(n_row):\n",
        "        for col in range(n_col):\n",
        "            grid_imgs.append(img.crop((col*split_width, row*split_height, (col+1)*split_width, (row+1)*split_height)))\n",
        "    return grid_imgs"
      ],
      "execution_count": null,
      "outputs": []
    },
    {
      "cell_type": "markdown",
      "metadata": {
        "id": "WH9l31DmWV26"
      },
      "source": [
        "#### Texto en imagen"
      ]
    },
    {
      "cell_type": "code",
      "metadata": {
        "colab": {
          "base_uri": "https://localhost:8080/"
        },
        "id": "xdQQJt37YH6K",
        "outputId": "09d253e6-4347-45f3-bc61-c09ce1dbc196"
      },
      "source": [
        "reader = easyocr.Reader(['en'])"
      ],
      "execution_count": null,
      "outputs": [
        {
          "output_type": "stream",
          "text": [
            "Downloading detection model, please wait. This may take several minutes depending upon your network connection.\n"
          ],
          "name": "stderr"
        },
        {
          "output_type": "stream",
          "text": [
            ""
          ],
          "name": "stdout"
        },
        {
          "output_type": "stream",
          "text": [
            "Downloading recognition model, please wait. This may take several minutes depending upon your network connection.\n"
          ],
          "name": "stderr"
        },
        {
          "output_type": "stream",
          "text": [
            ""
          ],
          "name": "stdout"
        }
      ]
    },
    {
      "cell_type": "markdown",
      "metadata": {
        "id": "kNN6RxvnYJV5"
      },
      "source": [
        "#### Imagen a lista"
      ]
    },
    {
      "cell_type": "code",
      "metadata": {
        "colab": {
          "base_uri": "https://localhost:8080/"
        },
        "id": "Q2atqr1nHWoX",
        "outputId": "f109ff4e-bd0f-4860-8d40-9c165f9bb146"
      },
      "source": [
        "image_files = [x for x in FOLDER_DIR.glob('*') if x.is_file() and str(x).split('.')[-1] in ('jpg','jpeg','png','tiff')]\n",
        "image_files[:3]"
      ],
      "execution_count": null,
      "outputs": [
        {
          "output_type": "execute_result",
          "data": {
            "text/plain": [
              "[PosixPath('/content/drive/MyDrive/catalogos/images/2021_09/2021_09_page00.jpg'),\n",
              " PosixPath('/content/drive/MyDrive/catalogos/images/2021_09/2021_09_page01.jpg'),\n",
              " PosixPath('/content/drive/MyDrive/catalogos/images/2021_09/2021_09_page02.jpg')]"
            ]
          },
          "metadata": {},
          "execution_count": 10
        }
      ]
    },
    {
      "cell_type": "code",
      "metadata": {
        "id": "U6kdWAGG-Spp"
      },
      "source": [
        "data = []\n",
        "for image_path in image_files:\n",
        "    image_file = Image.open(image_path)\n",
        "    file_name = ''.join(''.join(str(image_path).split('/')[-1]).split('.')[:-1])\n",
        "    grid = split_img(image_file, n_row=2, n_col=4, resize_to=0.44)\n",
        "    for i,box_img in enumerate(grid):\n",
        "        gray_image = box_img.convert('L')\n",
        "        image_text = reader.readtext(np.asarray(gray_image), detail=0)\n",
        "        data.append((file_name, i, image_text))"
      ],
      "execution_count": null,
      "outputs": []
    },
    {
      "cell_type": "code",
      "metadata": {
        "colab": {
          "base_uri": "https://localhost:8080/"
        },
        "id": "iQBaca9XObY0",
        "outputId": "3f3e1e17-ab8b-40b4-aad1-cb590de613b9"
      },
      "source": [
        "data = []\n",
        "for image_path in image_files:\n",
        "    image_file = Image.open(image_path)\n",
        "    file_name = ''.join(''.join(str(image_path).split('/')[-1]).split('.')[:-1])\n",
        "    grid = split_img(image_file, n_row=2, n_col=4, resize_to=0.44)\n",
        "    for i,box_img in enumerate(grid):\n",
        "        gray_image = box_img.convert('L')\n",
        "        image_text = reader.readtext(np.asarray(gray_image), detail=0)\n",
        "        data.append((file_name, i, image_text))"
      ],
      "execution_count": null,
      "outputs": [
        {
          "output_type": "stream",
          "text": [
            "/usr/local/lib/python3.7/dist-packages/torch/nn/functional.py:718: UserWarning: Named tensors and all their associated APIs are an experimental feature and subject to change. Please do not use them for anything important until they are released as stable. (Triggered internally at  /pytorch/c10/core/TensorImpl.h:1156.)\n",
            "  return torch.max_pool2d(input, kernel_size, stride, padding, dilation, ceil_mode)\n"
          ],
          "name": "stderr"
        }
      ]
    },
    {
      "cell_type": "markdown",
      "metadata": {
        "id": "rahQYnJQem2D"
      },
      "source": [
        "### Ingeniería"
      ]
    },
    {
      "cell_type": "markdown",
      "metadata": {
        "id": "WkSNXM7QGKXP"
      },
      "source": [
        "#### Lista a tabla"
      ]
    },
    {
      "cell_type": "code",
      "metadata": {
        "colab": {
          "base_uri": "https://localhost:8080/"
        },
        "id": "5eA8g0IaGMfn",
        "outputId": "67231756-9570-409b-9d5d-400e68347878"
      },
      "source": [
        "df = pd.DataFrame(data, columns=['file_name', 'n_box', 'text_list'])\n",
        "df.head()"
      ],
      "execution_count": null,
      "outputs": [
        {
          "output_type": "execute_result",
          "data": {
            "text/html": [
              "<div>\n",
              "<style scoped>\n",
              "    .dataframe tbody tr th:only-of-type {\n",
              "        vertical-align: middle;\n",
              "    }\n",
              "\n",
              "    .dataframe tbody tr th {\n",
              "        vertical-align: top;\n",
              "    }\n",
              "\n",
              "    .dataframe thead th {\n",
              "        text-align: right;\n",
              "    }\n",
              "</style>\n",
              "<table border=\"1\" class=\"dataframe\">\n",
              "  <thead>\n",
              "    <tr style=\"text-align: right;\">\n",
              "      <th></th>\n",
              "      <th>file_name</th>\n",
              "      <th>n_box</th>\n",
              "      <th>text_list</th>\n",
              "    </tr>\n",
              "  </thead>\n",
              "  <tbody>\n",
              "    <tr>\n",
              "      <th>0</th>\n",
              "      <td>2021_09_page00</td>\n",
              "      <td>0</td>\n",
              "      <td>[Be]</td>\n",
              "    </tr>\n",
              "    <tr>\n",
              "      <th>1</th>\n",
              "      <td>2021_09_page00</td>\n",
              "      <td>1</td>\n",
              "      <td>[tter]</td>\n",
              "    </tr>\n",
              "    <tr>\n",
              "      <th>2</th>\n",
              "      <td>2021_09_page00</td>\n",
              "      <td>2</td>\n",
              "      <td>[rWZ, iDe, si, Hogar e]</td>\n",
              "    </tr>\n",
              "    <tr>\n",
              "      <th>3</th>\n",
              "      <td>2021_09_page00</td>\n",
              "      <td>3</td>\n",
              "      <td>[n Armonia, re, liciosoy, 1aceitel, Better Fry...</td>\n",
              "    </tr>\n",
              "    <tr>\n",
              "      <th>4</th>\n",
              "      <td>2021_09_page00</td>\n",
              "      <td>4</td>\n",
              "      <td>[iAHORA, Catalogos, mensuales]</td>\n",
              "    </tr>\n",
              "  </tbody>\n",
              "</table>\n",
              "</div>"
            ],
            "text/plain": [
              "        file_name  n_box                                          text_list\n",
              "0  2021_09_page00      0                                               [Be]\n",
              "1  2021_09_page00      1                                             [tter]\n",
              "2  2021_09_page00      2                            [rWZ, iDe, si, Hogar e]\n",
              "3  2021_09_page00      3  [n Armonia, re, liciosoy, 1aceitel, Better Fry...\n",
              "4  2021_09_page00      4                     [iAHORA, Catalogos, mensuales]"
            ]
          },
          "metadata": {},
          "execution_count": 12
        }
      ]
    },
    {
      "cell_type": "markdown",
      "metadata": {
        "id": "RON8LfgBhegE"
      },
      "source": [
        "#### Separar nombre de archivo"
      ]
    },
    {
      "cell_type": "code",
      "metadata": {
        "colab": {
          "base_uri": "https://localhost:8080/"
        },
        "id": "HUeSh_bvb-g3",
        "outputId": "7192e155-6b9f-4867-e0ce-f441e6c152c2"
      },
      "source": [
        "df['text'] = df['text_list'].map(' '.join)\n",
        "df['catalog_id'] = df['file_name'].map(lambda x: '_'.join(x.split('_')[:-1]))\n",
        "df['page'] = df['file_name'].str.split('_').str[-1]\n",
        "df.head()"
      ],
      "execution_count": null,
      "outputs": [
        {
          "output_type": "execute_result",
          "data": {
            "text/html": [
              "<div>\n",
              "<style scoped>\n",
              "    .dataframe tbody tr th:only-of-type {\n",
              "        vertical-align: middle;\n",
              "    }\n",
              "\n",
              "    .dataframe tbody tr th {\n",
              "        vertical-align: top;\n",
              "    }\n",
              "\n",
              "    .dataframe thead th {\n",
              "        text-align: right;\n",
              "    }\n",
              "</style>\n",
              "<table border=\"1\" class=\"dataframe\">\n",
              "  <thead>\n",
              "    <tr style=\"text-align: right;\">\n",
              "      <th></th>\n",
              "      <th>file_name</th>\n",
              "      <th>n_box</th>\n",
              "      <th>text_list</th>\n",
              "      <th>text</th>\n",
              "      <th>catalog_id</th>\n",
              "      <th>page</th>\n",
              "    </tr>\n",
              "  </thead>\n",
              "  <tbody>\n",
              "    <tr>\n",
              "      <th>0</th>\n",
              "      <td>2021_09_page00</td>\n",
              "      <td>0</td>\n",
              "      <td>[Be]</td>\n",
              "      <td>Be</td>\n",
              "      <td>2021_09</td>\n",
              "      <td>page00</td>\n",
              "    </tr>\n",
              "    <tr>\n",
              "      <th>1</th>\n",
              "      <td>2021_09_page00</td>\n",
              "      <td>1</td>\n",
              "      <td>[tter]</td>\n",
              "      <td>tter</td>\n",
              "      <td>2021_09</td>\n",
              "      <td>page00</td>\n",
              "    </tr>\n",
              "    <tr>\n",
              "      <th>2</th>\n",
              "      <td>2021_09_page00</td>\n",
              "      <td>2</td>\n",
              "      <td>[rWZ, iDe, si, Hogar e]</td>\n",
              "      <td>rWZ iDe si Hogar e</td>\n",
              "      <td>2021_09</td>\n",
              "      <td>page00</td>\n",
              "    </tr>\n",
              "    <tr>\n",
              "      <th>3</th>\n",
              "      <td>2021_09_page00</td>\n",
              "      <td>3</td>\n",
              "      <td>[n Armonia, re, liciosoy, 1aceitel, Better Fry...</td>\n",
              "      <td>n Armonia re liciosoy 1aceitel Better Fryer {1...</td>\n",
              "      <td>2021_09</td>\n",
              "      <td>page00</td>\n",
              "    </tr>\n",
              "    <tr>\n",
              "      <th>4</th>\n",
              "      <td>2021_09_page00</td>\n",
              "      <td>4</td>\n",
              "      <td>[iAHORA, Catalogos, mensuales]</td>\n",
              "      <td>iAHORA Catalogos mensuales</td>\n",
              "      <td>2021_09</td>\n",
              "      <td>page00</td>\n",
              "    </tr>\n",
              "  </tbody>\n",
              "</table>\n",
              "</div>"
            ],
            "text/plain": [
              "        file_name  n_box  ... catalog_id    page\n",
              "0  2021_09_page00      0  ...    2021_09  page00\n",
              "1  2021_09_page00      1  ...    2021_09  page00\n",
              "2  2021_09_page00      2  ...    2021_09  page00\n",
              "3  2021_09_page00      3  ...    2021_09  page00\n",
              "4  2021_09_page00      4  ...    2021_09  page00\n",
              "\n",
              "[5 rows x 6 columns]"
            ]
          },
          "metadata": {},
          "execution_count": 13
        }
      ]
    },
    {
      "cell_type": "markdown",
      "metadata": {
        "id": "0zuR3eu8hhtU"
      },
      "source": [
        "#### Buscar info de producto"
      ]
    },
    {
      "cell_type": "code",
      "metadata": {
        "id": "K6V1sclmk9Pp"
      },
      "source": [
        "basic_pattern = r'(?P<product_id>\\d{4,})\\s(?P<product_name>[a-zA-Z\\s]+)(?=(?P<product_price>[sS\\$]\\d{2,}))[sS\\$]\\d{2,}(?=.*(?P<product_price_promo>[sS\\$5]\\d{2,}))'"
      ],
      "execution_count": null,
      "outputs": []
    },
    {
      "cell_type": "code",
      "metadata": {
        "colab": {
          "base_uri": "https://localhost:8080/"
        },
        "id": "lZx-I0l_lPWs",
        "outputId": "92c80a28-e514-49b6-d300-30a607944d34"
      },
      "source": [
        "null_dict = {'product_id':np.nan}\n",
        "found_basic = pd.DataFrame([re.search(basic_pattern,x).groupdict() if re.search(basic_pattern,x)!=None else null_dict for x in df['text']], index=df.index)\n",
        "df = df.join(found_basic)\n",
        "df[df['product_id'].notnull()][[x for x in df.columns if x not in ['text_list','text']]].head()"
      ],
      "execution_count": null,
      "outputs": [
        {
          "output_type": "execute_result",
          "data": {
            "text/html": [
              "<div>\n",
              "<style scoped>\n",
              "    .dataframe tbody tr th:only-of-type {\n",
              "        vertical-align: middle;\n",
              "    }\n",
              "\n",
              "    .dataframe tbody tr th {\n",
              "        vertical-align: top;\n",
              "    }\n",
              "\n",
              "    .dataframe thead th {\n",
              "        text-align: right;\n",
              "    }\n",
              "</style>\n",
              "<table border=\"1\" class=\"dataframe\">\n",
              "  <thead>\n",
              "    <tr style=\"text-align: right;\">\n",
              "      <th></th>\n",
              "      <th>file_name</th>\n",
              "      <th>n_box</th>\n",
              "      <th>catalog_id</th>\n",
              "      <th>page</th>\n",
              "      <th>product_id</th>\n",
              "      <th>product_name</th>\n",
              "      <th>product_price</th>\n",
              "      <th>product_price_promo</th>\n",
              "    </tr>\n",
              "  </thead>\n",
              "  <tbody>\n",
              "    <tr>\n",
              "      <th>8</th>\n",
              "      <td>2021_09_page01</td>\n",
              "      <td>0</td>\n",
              "      <td>2021_09</td>\n",
              "      <td>page01</td>\n",
              "      <td>21529</td>\n",
              "      <td>Cuchillos Che NUEVO</td>\n",
              "      <td>S799</td>\n",
              "      <td>$399</td>\n",
              "    </tr>\n",
              "    <tr>\n",
              "      <th>16</th>\n",
              "      <td>2021_09_page02</td>\n",
              "      <td>0</td>\n",
              "      <td>2021_09</td>\n",
              "      <td>page02</td>\n",
              "      <td>21725</td>\n",
              "      <td>Lampara Touc</td>\n",
              "      <td>$599</td>\n",
              "      <td>S379</td>\n",
              "    </tr>\n",
              "    <tr>\n",
              "      <th>24</th>\n",
              "      <td>2021_09_page03</td>\n",
              "      <td>0</td>\n",
              "      <td>2021_09</td>\n",
              "      <td>page03</td>\n",
              "      <td>21758</td>\n",
              "      <td>Asiento Memory Confort NUEVO</td>\n",
              "      <td>$699</td>\n",
              "      <td>S359</td>\n",
              "    </tr>\n",
              "    <tr>\n",
              "      <th>34</th>\n",
              "      <td>2021_09_page04</td>\n",
              "      <td>2</td>\n",
              "      <td>2021_09</td>\n",
              "      <td>page04</td>\n",
              "      <td>16315</td>\n",
              "      <td>Closet A Solutions A</td>\n",
              "      <td>s949</td>\n",
              "      <td>599</td>\n",
              "    </tr>\n",
              "    <tr>\n",
              "      <th>35</th>\n",
              "      <td>2021_09_page04</td>\n",
              "      <td>3</td>\n",
              "      <td>2021_09</td>\n",
              "      <td>page04</td>\n",
              "      <td>16316</td>\n",
              "      <td>Closet C Solutions A</td>\n",
              "      <td>s879</td>\n",
              "      <td>559</td>\n",
              "    </tr>\n",
              "  </tbody>\n",
              "</table>\n",
              "</div>"
            ],
            "text/plain": [
              "         file_name  n_box  ... product_price product_price_promo\n",
              "8   2021_09_page01      0  ...          S799                $399\n",
              "16  2021_09_page02      0  ...          $599                S379\n",
              "24  2021_09_page03      0  ...          $699                S359\n",
              "34  2021_09_page04      2  ...          s949                 599\n",
              "35  2021_09_page04      3  ...          s879                 559\n",
              "\n",
              "[5 rows x 8 columns]"
            ]
          },
          "metadata": {},
          "execution_count": 15
        }
      ]
    },
    {
      "cell_type": "markdown",
      "metadata": {
        "id": "T_qyMaAOFQnx"
      },
      "source": [
        "#### Ofertas"
      ]
    },
    {
      "cell_type": "code",
      "metadata": {
        "id": "ED94d7TcUCH4"
      },
      "source": [
        "promo_pattern = r'Oferta(?P<product_name>[a-zA-Z\\s]+)(?=(?P<product_price>[sS\\$5][\\d\\,]*\\d{2,3}))[sS\\$5][\\d\\,]*\\d{2,3}\\s*(?P<product_id>\\d+)\\s*(?P<product_price_promo>[sS\\$5][\\d\\,]*\\d{2,3})[^\\d]+\\s*(?P<product_id_H>\\d+)\\s*(?P<product_price_H>[sS\\$5][\\d\\,]*\\d{2,3})'"
      ],
      "execution_count": null,
      "outputs": []
    },
    {
      "cell_type": "code",
      "metadata": {
        "colab": {
          "base_uri": "https://localhost:8080/"
        },
        "id": "HpW8TtnOU-WT",
        "outputId": "be9eb2db-883f-4b4a-9a44-27ce3478eb19"
      },
      "source": [
        "promo_found = pd.DataFrame([re.search(promo_pattern,x).groupdict() if re.search(promo_pattern,x)!=None else null_dict for x in df['text']], index=df.index).dropna()\n",
        "df.loc[promo_found.index,promo_found.columns[:-2]] = promo_found.iloc[:,:-2]\n",
        "df = df.join(promo_found.iloc[:,-2:])\n",
        "\n",
        "df['is_product_H'] = df['text'].map(lambda x: re.search('oferta', x, re.I)!=None)\n",
        "df['text'] = df['text'].map(lambda x: re.sub('oferta', '', x, re.I))\n",
        "\n",
        "df[df['product_id'].notnull()][[x for x in df.columns if x not in ['text_list','text']]].head()"
      ],
      "execution_count": null,
      "outputs": [
        {
          "output_type": "execute_result",
          "data": {
            "text/html": [
              "<div>\n",
              "<style scoped>\n",
              "    .dataframe tbody tr th:only-of-type {\n",
              "        vertical-align: middle;\n",
              "    }\n",
              "\n",
              "    .dataframe tbody tr th {\n",
              "        vertical-align: top;\n",
              "    }\n",
              "\n",
              "    .dataframe thead th {\n",
              "        text-align: right;\n",
              "    }\n",
              "</style>\n",
              "<table border=\"1\" class=\"dataframe\">\n",
              "  <thead>\n",
              "    <tr style=\"text-align: right;\">\n",
              "      <th></th>\n",
              "      <th>file_name</th>\n",
              "      <th>n_box</th>\n",
              "      <th>catalog_id</th>\n",
              "      <th>page</th>\n",
              "      <th>product_id</th>\n",
              "      <th>product_name</th>\n",
              "      <th>product_price</th>\n",
              "      <th>product_price_promo</th>\n",
              "      <th>product_id_H</th>\n",
              "      <th>product_price_H</th>\n",
              "      <th>is_product_H</th>\n",
              "    </tr>\n",
              "  </thead>\n",
              "  <tbody>\n",
              "    <tr>\n",
              "      <th>8</th>\n",
              "      <td>2021_09_page01</td>\n",
              "      <td>0</td>\n",
              "      <td>2021_09</td>\n",
              "      <td>page01</td>\n",
              "      <td>21529</td>\n",
              "      <td>Cuchillos Che NUEVO</td>\n",
              "      <td>S799</td>\n",
              "      <td>$399</td>\n",
              "      <td>NaN</td>\n",
              "      <td>NaN</td>\n",
              "      <td>False</td>\n",
              "    </tr>\n",
              "    <tr>\n",
              "      <th>16</th>\n",
              "      <td>2021_09_page02</td>\n",
              "      <td>0</td>\n",
              "      <td>2021_09</td>\n",
              "      <td>page02</td>\n",
              "      <td>21725</td>\n",
              "      <td>Lampara Touc</td>\n",
              "      <td>$599</td>\n",
              "      <td>S379</td>\n",
              "      <td>NaN</td>\n",
              "      <td>NaN</td>\n",
              "      <td>False</td>\n",
              "    </tr>\n",
              "    <tr>\n",
              "      <th>24</th>\n",
              "      <td>2021_09_page03</td>\n",
              "      <td>0</td>\n",
              "      <td>2021_09</td>\n",
              "      <td>page03</td>\n",
              "      <td>21758</td>\n",
              "      <td>Asiento Memory Confort NUEVO</td>\n",
              "      <td>$699</td>\n",
              "      <td>S359</td>\n",
              "      <td>NaN</td>\n",
              "      <td>NaN</td>\n",
              "      <td>False</td>\n",
              "    </tr>\n",
              "    <tr>\n",
              "      <th>26</th>\n",
              "      <td>2021_09_page03</td>\n",
              "      <td>2</td>\n",
              "      <td>2021_09</td>\n",
              "      <td>page03</td>\n",
              "      <td>22942</td>\n",
              "      <td>Ventimax</td>\n",
              "      <td>s1,499</td>\n",
              "      <td>S1,099</td>\n",
              "      <td>21733</td>\n",
              "      <td>s899</td>\n",
              "      <td>True</td>\n",
              "    </tr>\n",
              "    <tr>\n",
              "      <th>34</th>\n",
              "      <td>2021_09_page04</td>\n",
              "      <td>2</td>\n",
              "      <td>2021_09</td>\n",
              "      <td>page04</td>\n",
              "      <td>16315</td>\n",
              "      <td>Closet A Solutions A</td>\n",
              "      <td>s949</td>\n",
              "      <td>599</td>\n",
              "      <td>NaN</td>\n",
              "      <td>NaN</td>\n",
              "      <td>False</td>\n",
              "    </tr>\n",
              "  </tbody>\n",
              "</table>\n",
              "</div>"
            ],
            "text/plain": [
              "         file_name  n_box catalog_id  ... product_id_H product_price_H is_product_H\n",
              "8   2021_09_page01      0    2021_09  ...          NaN             NaN        False\n",
              "16  2021_09_page02      0    2021_09  ...          NaN             NaN        False\n",
              "24  2021_09_page03      0    2021_09  ...          NaN             NaN        False\n",
              "26  2021_09_page03      2    2021_09  ...        21733            s899         True\n",
              "34  2021_09_page04      2    2021_09  ...          NaN             NaN        False\n",
              "\n",
              "[5 rows x 11 columns]"
            ]
          },
          "metadata": {},
          "execution_count": 17
        }
      ]
    },
    {
      "cell_type": "markdown",
      "metadata": {
        "id": "VC3pvVe_wfsi"
      },
      "source": [
        "#### Nuevo?"
      ]
    },
    {
      "cell_type": "code",
      "metadata": {
        "colab": {
          "base_uri": "https://localhost:8080/"
        },
        "id": "1KMDXrfXwkNi",
        "outputId": "3fa82062-52ef-45b1-f336-6991813c1c00"
      },
      "source": [
        "df['is_new'] = df['text'].map(lambda x: re.search('nuevo', x, re.I)!=None)\n",
        "df['product_name'] = df['product_name'].map(lambda x: re.sub('nuevo', '', str(x), flags=re.I)).str.strip()\n",
        "df[df['product_id'].notnull()][[x for x in df.columns if x not in ['text_list','text']]].head()"
      ],
      "execution_count": null,
      "outputs": [
        {
          "output_type": "execute_result",
          "data": {
            "text/html": [
              "<div>\n",
              "<style scoped>\n",
              "    .dataframe tbody tr th:only-of-type {\n",
              "        vertical-align: middle;\n",
              "    }\n",
              "\n",
              "    .dataframe tbody tr th {\n",
              "        vertical-align: top;\n",
              "    }\n",
              "\n",
              "    .dataframe thead th {\n",
              "        text-align: right;\n",
              "    }\n",
              "</style>\n",
              "<table border=\"1\" class=\"dataframe\">\n",
              "  <thead>\n",
              "    <tr style=\"text-align: right;\">\n",
              "      <th></th>\n",
              "      <th>file_name</th>\n",
              "      <th>n_box</th>\n",
              "      <th>catalog_id</th>\n",
              "      <th>page</th>\n",
              "      <th>product_id</th>\n",
              "      <th>product_name</th>\n",
              "      <th>product_price</th>\n",
              "      <th>product_price_promo</th>\n",
              "      <th>product_id_H</th>\n",
              "      <th>product_price_H</th>\n",
              "      <th>is_product_H</th>\n",
              "      <th>is_new</th>\n",
              "    </tr>\n",
              "  </thead>\n",
              "  <tbody>\n",
              "    <tr>\n",
              "      <th>8</th>\n",
              "      <td>2021_09_page01</td>\n",
              "      <td>0</td>\n",
              "      <td>2021_09</td>\n",
              "      <td>page01</td>\n",
              "      <td>21529</td>\n",
              "      <td>Cuchillos Che</td>\n",
              "      <td>S799</td>\n",
              "      <td>$399</td>\n",
              "      <td>NaN</td>\n",
              "      <td>NaN</td>\n",
              "      <td>False</td>\n",
              "      <td>True</td>\n",
              "    </tr>\n",
              "    <tr>\n",
              "      <th>16</th>\n",
              "      <td>2021_09_page02</td>\n",
              "      <td>0</td>\n",
              "      <td>2021_09</td>\n",
              "      <td>page02</td>\n",
              "      <td>21725</td>\n",
              "      <td>Lampara Touc</td>\n",
              "      <td>$599</td>\n",
              "      <td>S379</td>\n",
              "      <td>NaN</td>\n",
              "      <td>NaN</td>\n",
              "      <td>False</td>\n",
              "      <td>False</td>\n",
              "    </tr>\n",
              "    <tr>\n",
              "      <th>24</th>\n",
              "      <td>2021_09_page03</td>\n",
              "      <td>0</td>\n",
              "      <td>2021_09</td>\n",
              "      <td>page03</td>\n",
              "      <td>21758</td>\n",
              "      <td>Asiento Memory Confort</td>\n",
              "      <td>$699</td>\n",
              "      <td>S359</td>\n",
              "      <td>NaN</td>\n",
              "      <td>NaN</td>\n",
              "      <td>False</td>\n",
              "      <td>True</td>\n",
              "    </tr>\n",
              "    <tr>\n",
              "      <th>26</th>\n",
              "      <td>2021_09_page03</td>\n",
              "      <td>2</td>\n",
              "      <td>2021_09</td>\n",
              "      <td>page03</td>\n",
              "      <td>22942</td>\n",
              "      <td>Ventimax</td>\n",
              "      <td>s1,499</td>\n",
              "      <td>S1,099</td>\n",
              "      <td>21733</td>\n",
              "      <td>s899</td>\n",
              "      <td>True</td>\n",
              "      <td>False</td>\n",
              "    </tr>\n",
              "    <tr>\n",
              "      <th>34</th>\n",
              "      <td>2021_09_page04</td>\n",
              "      <td>2</td>\n",
              "      <td>2021_09</td>\n",
              "      <td>page04</td>\n",
              "      <td>16315</td>\n",
              "      <td>Closet A Solutions A</td>\n",
              "      <td>s949</td>\n",
              "      <td>599</td>\n",
              "      <td>NaN</td>\n",
              "      <td>NaN</td>\n",
              "      <td>False</td>\n",
              "      <td>False</td>\n",
              "    </tr>\n",
              "  </tbody>\n",
              "</table>\n",
              "</div>"
            ],
            "text/plain": [
              "         file_name  n_box catalog_id  ... product_price_H is_product_H is_new\n",
              "8   2021_09_page01      0    2021_09  ...             NaN        False   True\n",
              "16  2021_09_page02      0    2021_09  ...             NaN        False  False\n",
              "24  2021_09_page03      0    2021_09  ...             NaN        False   True\n",
              "26  2021_09_page03      2    2021_09  ...            s899         True  False\n",
              "34  2021_09_page04      2    2021_09  ...             NaN        False  False\n",
              "\n",
              "[5 rows x 12 columns]"
            ]
          },
          "metadata": {},
          "execution_count": 18
        }
      ]
    },
    {
      "cell_type": "markdown",
      "metadata": {
        "id": "cc3GnbDlEVHp"
      },
      "source": [
        "#### Corregir precios"
      ]
    },
    {
      "cell_type": "code",
      "metadata": {
        "id": "HcKNuywfbNzX"
      },
      "source": [
        "df = df.dropna(subset=['product_id']).reset_index(drop=True).drop(['text_list','text'], axis=1)"
      ],
      "execution_count": null,
      "outputs": []
    },
    {
      "cell_type": "code",
      "metadata": {
        "colab": {
          "base_uri": "https://localhost:8080/"
        },
        "id": "zX4dF32mdmas",
        "outputId": "d8f98edf-bec2-4154-c89a-a16476dd899c"
      },
      "source": [
        "for col in df.filter(like='price').head().columns:\n",
        "    df[col] = df[col].map(lambda x: re.sub(r'[sS\\$\\,]','',str(x))).replace('nan',np.nan).astype(float)\n",
        "\n",
        "correct_price_promo = []\n",
        "correct_price_H = []\n",
        "for x,y,z in zip(df['product_price'], df['product_price_promo'], df['product_price_H']):\n",
        "    if str(x)=='nan' or str(y)=='nan' or float(y) < float(x): correct_price_promo.append(y)\n",
        "    else: correct_price_promo.append(float(str(y)[1:]))\n",
        "    if str(y)=='nan' or str(z)=='nan' or float(z) < float(y): correct_price_H.append(z)\n",
        "    else: correct_price_H.append(float(str(z)[1:]))\n",
        "\n",
        "df['product_price_promo'] = correct_price_promo\n",
        "df['product_price_H'] = correct_price_H\n",
        "\n",
        "df.head()"
      ],
      "execution_count": null,
      "outputs": [
        {
          "output_type": "execute_result",
          "data": {
            "text/html": [
              "<div>\n",
              "<style scoped>\n",
              "    .dataframe tbody tr th:only-of-type {\n",
              "        vertical-align: middle;\n",
              "    }\n",
              "\n",
              "    .dataframe tbody tr th {\n",
              "        vertical-align: top;\n",
              "    }\n",
              "\n",
              "    .dataframe thead th {\n",
              "        text-align: right;\n",
              "    }\n",
              "</style>\n",
              "<table border=\"1\" class=\"dataframe\">\n",
              "  <thead>\n",
              "    <tr style=\"text-align: right;\">\n",
              "      <th></th>\n",
              "      <th>file_name</th>\n",
              "      <th>n_box</th>\n",
              "      <th>catalog_id</th>\n",
              "      <th>page</th>\n",
              "      <th>product_id</th>\n",
              "      <th>product_name</th>\n",
              "      <th>product_price</th>\n",
              "      <th>product_price_promo</th>\n",
              "      <th>product_id_H</th>\n",
              "      <th>product_price_H</th>\n",
              "      <th>is_product_H</th>\n",
              "      <th>is_new</th>\n",
              "    </tr>\n",
              "  </thead>\n",
              "  <tbody>\n",
              "    <tr>\n",
              "      <th>0</th>\n",
              "      <td>2021_09_page01</td>\n",
              "      <td>0</td>\n",
              "      <td>2021_09</td>\n",
              "      <td>page01</td>\n",
              "      <td>21529</td>\n",
              "      <td>Cuchillos Che</td>\n",
              "      <td>799.0</td>\n",
              "      <td>399.0</td>\n",
              "      <td>NaN</td>\n",
              "      <td>NaN</td>\n",
              "      <td>False</td>\n",
              "      <td>True</td>\n",
              "    </tr>\n",
              "    <tr>\n",
              "      <th>1</th>\n",
              "      <td>2021_09_page02</td>\n",
              "      <td>0</td>\n",
              "      <td>2021_09</td>\n",
              "      <td>page02</td>\n",
              "      <td>21725</td>\n",
              "      <td>Lampara Touc</td>\n",
              "      <td>599.0</td>\n",
              "      <td>379.0</td>\n",
              "      <td>NaN</td>\n",
              "      <td>NaN</td>\n",
              "      <td>False</td>\n",
              "      <td>False</td>\n",
              "    </tr>\n",
              "    <tr>\n",
              "      <th>2</th>\n",
              "      <td>2021_09_page03</td>\n",
              "      <td>0</td>\n",
              "      <td>2021_09</td>\n",
              "      <td>page03</td>\n",
              "      <td>21758</td>\n",
              "      <td>Asiento Memory Confort</td>\n",
              "      <td>699.0</td>\n",
              "      <td>359.0</td>\n",
              "      <td>NaN</td>\n",
              "      <td>NaN</td>\n",
              "      <td>False</td>\n",
              "      <td>True</td>\n",
              "    </tr>\n",
              "    <tr>\n",
              "      <th>3</th>\n",
              "      <td>2021_09_page03</td>\n",
              "      <td>2</td>\n",
              "      <td>2021_09</td>\n",
              "      <td>page03</td>\n",
              "      <td>22942</td>\n",
              "      <td>Ventimax</td>\n",
              "      <td>1499.0</td>\n",
              "      <td>1099.0</td>\n",
              "      <td>21733</td>\n",
              "      <td>899.0</td>\n",
              "      <td>True</td>\n",
              "      <td>False</td>\n",
              "    </tr>\n",
              "    <tr>\n",
              "      <th>4</th>\n",
              "      <td>2021_09_page04</td>\n",
              "      <td>2</td>\n",
              "      <td>2021_09</td>\n",
              "      <td>page04</td>\n",
              "      <td>16315</td>\n",
              "      <td>Closet A Solutions A</td>\n",
              "      <td>949.0</td>\n",
              "      <td>599.0</td>\n",
              "      <td>NaN</td>\n",
              "      <td>NaN</td>\n",
              "      <td>False</td>\n",
              "      <td>False</td>\n",
              "    </tr>\n",
              "  </tbody>\n",
              "</table>\n",
              "</div>"
            ],
            "text/plain": [
              "        file_name  n_box catalog_id  ... product_price_H is_product_H is_new\n",
              "0  2021_09_page01      0    2021_09  ...             NaN        False   True\n",
              "1  2021_09_page02      0    2021_09  ...             NaN        False  False\n",
              "2  2021_09_page03      0    2021_09  ...             NaN        False   True\n",
              "3  2021_09_page03      2    2021_09  ...           899.0         True  False\n",
              "4  2021_09_page04      2    2021_09  ...             NaN        False  False\n",
              "\n",
              "[5 rows x 12 columns]"
            ]
          },
          "metadata": {},
          "execution_count": 20
        }
      ]
    },
    {
      "cell_type": "markdown",
      "metadata": {
        "id": "agxskj04XwqG"
      },
      "source": [
        "## Exportar"
      ]
    },
    {
      "cell_type": "code",
      "metadata": {
        "colab": {
          "base_uri": "https://localhost:8080/"
        },
        "id": "78Qb2dgGh4kF",
        "outputId": "6b97e285-4b54-4950-983e-35912408b91a"
      },
      "source": [
        "EXPORT_NAME = f\"{''.join(FILE_NAME.split('.')[:-1])}.xlsx\"\n",
        "print(EXPORT_NAME)"
      ],
      "execution_count": null,
      "outputs": [
        {
          "output_type": "stream",
          "text": [
            "2021_09.xlsx\n"
          ],
          "name": "stdout"
        }
      ]
    },
    {
      "cell_type": "code",
      "metadata": {
        "colab": {
          "base_uri": "https://localhost:8080/",
          "height": 258
        },
        "id": "X-BKNwfniWL9",
        "outputId": "85b880eb-e3b3-49f8-c436-257aebc51500"
      },
      "source": [
        "export = df.sort_values(['page','n_box']).reset_index(drop=True).reset_index()\n",
        "export.head()"
      ],
      "execution_count": null,
      "outputs": [
        {
          "output_type": "execute_result",
          "data": {
            "text/html": [
              "<div>\n",
              "<style scoped>\n",
              "    .dataframe tbody tr th:only-of-type {\n",
              "        vertical-align: middle;\n",
              "    }\n",
              "\n",
              "    .dataframe tbody tr th {\n",
              "        vertical-align: top;\n",
              "    }\n",
              "\n",
              "    .dataframe thead th {\n",
              "        text-align: right;\n",
              "    }\n",
              "</style>\n",
              "<table border=\"1\" class=\"dataframe\">\n",
              "  <thead>\n",
              "    <tr style=\"text-align: right;\">\n",
              "      <th></th>\n",
              "      <th>index</th>\n",
              "      <th>file_name</th>\n",
              "      <th>n_box</th>\n",
              "      <th>catalog_id</th>\n",
              "      <th>page</th>\n",
              "      <th>product_id</th>\n",
              "      <th>product_name</th>\n",
              "      <th>product_price</th>\n",
              "      <th>product_price_promo</th>\n",
              "      <th>product_id_H</th>\n",
              "      <th>product_price_H</th>\n",
              "      <th>is_product_H</th>\n",
              "      <th>is_new</th>\n",
              "    </tr>\n",
              "  </thead>\n",
              "  <tbody>\n",
              "    <tr>\n",
              "      <th>0</th>\n",
              "      <td>0</td>\n",
              "      <td>2021_09_page01</td>\n",
              "      <td>0</td>\n",
              "      <td>2021_09</td>\n",
              "      <td>page01</td>\n",
              "      <td>21529</td>\n",
              "      <td>Cuchillos Che</td>\n",
              "      <td>799.0</td>\n",
              "      <td>399.0</td>\n",
              "      <td>NaN</td>\n",
              "      <td>NaN</td>\n",
              "      <td>False</td>\n",
              "      <td>True</td>\n",
              "    </tr>\n",
              "    <tr>\n",
              "      <th>1</th>\n",
              "      <td>1</td>\n",
              "      <td>2021_09_page02</td>\n",
              "      <td>0</td>\n",
              "      <td>2021_09</td>\n",
              "      <td>page02</td>\n",
              "      <td>21725</td>\n",
              "      <td>Lampara Touc</td>\n",
              "      <td>599.0</td>\n",
              "      <td>379.0</td>\n",
              "      <td>NaN</td>\n",
              "      <td>NaN</td>\n",
              "      <td>False</td>\n",
              "      <td>False</td>\n",
              "    </tr>\n",
              "    <tr>\n",
              "      <th>2</th>\n",
              "      <td>2</td>\n",
              "      <td>2021_09_page03</td>\n",
              "      <td>0</td>\n",
              "      <td>2021_09</td>\n",
              "      <td>page03</td>\n",
              "      <td>21758</td>\n",
              "      <td>Asiento Memory Confort</td>\n",
              "      <td>699.0</td>\n",
              "      <td>359.0</td>\n",
              "      <td>NaN</td>\n",
              "      <td>NaN</td>\n",
              "      <td>False</td>\n",
              "      <td>True</td>\n",
              "    </tr>\n",
              "    <tr>\n",
              "      <th>3</th>\n",
              "      <td>3</td>\n",
              "      <td>2021_09_page03</td>\n",
              "      <td>2</td>\n",
              "      <td>2021_09</td>\n",
              "      <td>page03</td>\n",
              "      <td>22942</td>\n",
              "      <td>Ventimax</td>\n",
              "      <td>1499.0</td>\n",
              "      <td>1099.0</td>\n",
              "      <td>21733</td>\n",
              "      <td>899.0</td>\n",
              "      <td>True</td>\n",
              "      <td>False</td>\n",
              "    </tr>\n",
              "    <tr>\n",
              "      <th>4</th>\n",
              "      <td>4</td>\n",
              "      <td>2021_09_page04</td>\n",
              "      <td>2</td>\n",
              "      <td>2021_09</td>\n",
              "      <td>page04</td>\n",
              "      <td>16315</td>\n",
              "      <td>Closet A Solutions A</td>\n",
              "      <td>949.0</td>\n",
              "      <td>599.0</td>\n",
              "      <td>NaN</td>\n",
              "      <td>NaN</td>\n",
              "      <td>False</td>\n",
              "      <td>False</td>\n",
              "    </tr>\n",
              "  </tbody>\n",
              "</table>\n",
              "</div>"
            ],
            "text/plain": [
              "   index       file_name  n_box  ... product_price_H is_product_H is_new\n",
              "0      0  2021_09_page01      0  ...             NaN        False   True\n",
              "1      1  2021_09_page02      0  ...             NaN        False  False\n",
              "2      2  2021_09_page03      0  ...             NaN        False   True\n",
              "3      3  2021_09_page03      2  ...           899.0         True  False\n",
              "4      4  2021_09_page04      2  ...             NaN        False  False\n",
              "\n",
              "[5 rows x 13 columns]"
            ]
          },
          "metadata": {},
          "execution_count": 22
        }
      ]
    },
    {
      "cell_type": "code",
      "metadata": {
        "id": "MDrAiIgMrwG4"
      },
      "source": [
        "export.to_excel(BASE_DIR.parent.joinpath(EXPORT_NAME), index=False)"
      ],
      "execution_count": null,
      "outputs": []
    }
  ]
}
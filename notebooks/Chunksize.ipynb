{
 "cells": [
  {
   "cell_type": "markdown",
   "id": "requested-candy",
   "metadata": {},
   "source": [
    "## Chunksize example"
   ]
  },
  {
   "cell_type": "code",
   "execution_count": 1,
   "id": "sharp-tuning",
   "metadata": {
    "ExecuteTime": {
     "end_time": "2021-05-07T22:50:28.691000Z",
     "start_time": "2021-05-07T22:50:10.492089Z"
    }
   },
   "outputs": [
    {
     "data": {
      "text/plain": [
       "Timestamp('2021-04-29 00:00:00')"
      ]
     },
     "execution_count": 1,
     "metadata": {},
     "output_type": "execute_result"
    }
   ],
   "source": [
    "import os\n",
    "import pandas as pd\n",
    "\n",
    "BASE_DIR = '/Users/efraflores/Downloads'\n",
    "FILE_NAME = 'YDRAY-Plu_Ultima_Venda.txt'\n",
    "DATE_COL = 'DAT_DIA_CALEND'\n",
    "CHUNKSIZE = 1e6\n",
    "\n",
    "def pre_filtering(df,date_col,date_format='%d/%m/%Y'):\n",
    "    df[date_col] = pd.to_datetime(df[date_col],format=date_format)\n",
    "    df.sort_values(by=date_col,ascending=False,inplace=True)\n",
    "    return df.head()\n",
    "\n",
    "chunks = pd.read_csv(os.path.join(BASE_DIR,FILE_NAME),sep='\\t',chunksize=CHUNKSIZE)\n",
    "\n",
    "df = pd.DataFrame()\n",
    "for chunk in chunks:\n",
    "    df = df.append(pre_filtering(chunk,date_col=DATE_COL),\n",
    "                   ignore_index=True)\n",
    "df[DATE_COL].max()"
   ]
  },
  {
   "cell_type": "code",
   "execution_count": 4,
   "id": "multiple-heater",
   "metadata": {
    "ExecuteTime": {
     "end_time": "2021-05-07T22:58:39.403660Z",
     "start_time": "2021-05-07T22:58:39.390539Z"
    }
   },
   "outputs": [
    {
     "name": "stdout",
     "output_type": "stream",
     "text": [
      "<class 'pandas.core.frame.DataFrame'>\n",
      "RangeIndex: 40 entries, 0 to 39\n",
      "Data columns (total 16 columns):\n",
      " #   Column          Non-Null Count  Dtype         \n",
      "---  ------          --------------  -----         \n",
      " 0   COD_PLU         40 non-null     int64         \n",
      " 1   COD_PROD        40 non-null     int64         \n",
      " 2   COD_DEPTO       40 non-null     int64         \n",
      " 3   NOM_DEPTO       40 non-null     object        \n",
      " 4   COD_CATEG       40 non-null     int64         \n",
      " 5   NOM_CATEG       40 non-null     object        \n",
      " 6   COD_SUBCATEG    40 non-null     int64         \n",
      " 7   NOM_SUBCATEG    40 non-null     object        \n",
      " 8   COD_GRUPO       40 non-null     int64         \n",
      " 9   NOM_GRUPO       40 non-null     object        \n",
      " 10  NOM_MARCA       40 non-null     object        \n",
      " 11  COD_LOCAL       40 non-null     int64         \n",
      " 12  NOM_LOCAL       40 non-null     object        \n",
      " 13  REGIONAL        40 non-null     object        \n",
      " 14  BANDEIRA        40 non-null     object        \n",
      " 15  DAT_DIA_CALEND  40 non-null     datetime64[ns]\n",
      "dtypes: datetime64[ns](1), int64(7), object(8)\n",
      "memory usage: 5.1+ KB\n"
     ]
    }
   ],
   "source": [
    "df.info()"
   ]
  },
  {
   "cell_type": "code",
   "execution_count": 5,
   "id": "polar-information",
   "metadata": {
    "ExecuteTime": {
     "end_time": "2021-05-07T22:58:45.426524Z",
     "start_time": "2021-05-07T22:58:45.412081Z"
    }
   },
   "outputs": [
    {
     "data": {
      "text/html": [
       "<div>\n",
       "<style scoped>\n",
       "    .dataframe tbody tr th:only-of-type {\n",
       "        vertical-align: middle;\n",
       "    }\n",
       "\n",
       "    .dataframe tbody tr th {\n",
       "        vertical-align: top;\n",
       "    }\n",
       "\n",
       "    .dataframe thead th {\n",
       "        text-align: right;\n",
       "    }\n",
       "</style>\n",
       "<table border=\"1\" class=\"dataframe\">\n",
       "  <thead>\n",
       "    <tr style=\"text-align: right;\">\n",
       "      <th></th>\n",
       "      <th>COD_PLU</th>\n",
       "      <th>COD_PROD</th>\n",
       "      <th>COD_DEPTO</th>\n",
       "      <th>NOM_DEPTO</th>\n",
       "      <th>COD_CATEG</th>\n",
       "      <th>NOM_CATEG</th>\n",
       "      <th>COD_SUBCATEG</th>\n",
       "      <th>NOM_SUBCATEG</th>\n",
       "      <th>COD_GRUPO</th>\n",
       "      <th>NOM_GRUPO</th>\n",
       "      <th>NOM_MARCA</th>\n",
       "      <th>COD_LOCAL</th>\n",
       "      <th>NOM_LOCAL</th>\n",
       "      <th>REGIONAL</th>\n",
       "      <th>BANDEIRA</th>\n",
       "      <th>DAT_DIA_CALEND</th>\n",
       "    </tr>\n",
       "  </thead>\n",
       "  <tbody>\n",
       "    <tr>\n",
       "      <th>21</th>\n",
       "      <td>5175239</td>\n",
       "      <td>1756274</td>\n",
       "      <td>1</td>\n",
       "      <td>MERCEARIA</td>\n",
       "      <td>1400</td>\n",
       "      <td>PERFUMARIA</td>\n",
       "      <td>1401</td>\n",
       "      <td>CUIDADO COM CORPO</td>\n",
       "      <td>15</td>\n",
       "      <td>SABONETE</td>\n",
       "      <td>REGULAR</td>\n",
       "      <td>5063</td>\n",
       "      <td>IRAJA</td>\n",
       "      <td>RJ</td>\n",
       "      <td>MERCADO EXTRA</td>\n",
       "      <td>2021-04-29</td>\n",
       "    </tr>\n",
       "  </tbody>\n",
       "</table>\n",
       "</div>"
      ],
      "text/plain": [
       "    COD_PLU  COD_PROD  COD_DEPTO  NOM_DEPTO  COD_CATEG   NOM_CATEG  \\\n",
       "21  5175239   1756274          1  MERCEARIA       1400  PERFUMARIA   \n",
       "\n",
       "    COD_SUBCATEG       NOM_SUBCATEG  COD_GRUPO NOM_GRUPO NOM_MARCA  COD_LOCAL  \\\n",
       "21          1401  CUIDADO COM CORPO         15  SABONETE   REGULAR       5063   \n",
       "\n",
       "   NOM_LOCAL REGIONAL       BANDEIRA DAT_DIA_CALEND  \n",
       "21     IRAJA       RJ  MERCADO EXTRA     2021-04-29  "
      ]
     },
     "execution_count": 5,
     "metadata": {},
     "output_type": "execute_result"
    }
   ],
   "source": [
    "df.sample()"
   ]
  }
 ],
 "metadata": {
  "kernelspec": {
   "display_name": "Python 3",
   "language": "python",
   "name": "python3"
  },
  "language_info": {
   "codemirror_mode": {
    "name": "ipython",
    "version": 3
   },
   "file_extension": ".py",
   "mimetype": "text/x-python",
   "name": "python",
   "nbconvert_exporter": "python",
   "pygments_lexer": "ipython3",
   "version": "3.9.1"
  },
  "toc": {
   "base_numbering": 1,
   "nav_menu": {},
   "number_sections": true,
   "sideBar": true,
   "skip_h1_title": true,
   "title_cell": "Table of Contents",
   "title_sidebar": "Contents",
   "toc_cell": false,
   "toc_position": {},
   "toc_section_display": true,
   "toc_window_display": false
  },
  "varInspector": {
   "cols": {
    "lenName": 16,
    "lenType": 16,
    "lenVar": 40
   },
   "kernels_config": {
    "python": {
     "delete_cmd_postfix": "",
     "delete_cmd_prefix": "del ",
     "library": "var_list.py",
     "varRefreshCmd": "print(var_dic_list())"
    },
    "r": {
     "delete_cmd_postfix": ") ",
     "delete_cmd_prefix": "rm(",
     "library": "var_list.r",
     "varRefreshCmd": "cat(var_dic_list()) "
    }
   },
   "types_to_exclude": [
    "module",
    "function",
    "builtin_function_or_method",
    "instance",
    "_Feature"
   ],
   "window_display": false
  }
 },
 "nbformat": 4,
 "nbformat_minor": 5
}

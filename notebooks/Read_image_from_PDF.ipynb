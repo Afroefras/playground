{
 "cells": [
  {
   "cell_type": "markdown",
   "metadata": {},
   "source": [
    "# Leer el texto de una imagen en un PDF"
   ]
  },
  {
   "cell_type": "markdown",
   "metadata": {},
   "source": [
    "## Parámetros"
   ]
  },
  {
   "cell_type": "code",
   "execution_count": 1,
   "metadata": {},
   "outputs": [],
   "source": [
    "BASE_DIR = '/Users/efraflores/Desktop/EF/EF/Practice'\n",
    "FILE_NAME = 'peritos.pdf'"
   ]
  },
  {
   "cell_type": "markdown",
   "metadata": {},
   "source": [
    "## Clases"
   ]
  },
  {
   "cell_type": "markdown",
   "metadata": {},
   "source": [
    "### Geolocalización"
   ]
  },
  {
   "cell_type": "code",
   "execution_count": 2,
   "metadata": {},
   "outputs": [],
   "source": [
    "# Control de datos\n",
    "from io import BytesIO\n",
    "from typing import Dict\n",
    "from zipfile import ZipFile\n",
    "from requests import get as get_req\n",
    "\n",
    "# Ingeniería de variables\n",
    "from pandas import DataFrame\n",
    "\n",
    "class GeoLoc:\n",
    "    def __init__(self, iso_country_code: str='MX') -> None:\n",
    "        '''\n",
    "        Obtiene las coordenadas por comunidad de algún país desde <http://download.geonames.org/export/zip>\n",
    "        '''\n",
    "        self.country = iso_country_code\n",
    "        self.zip_url = f'http://download.geonames.org/export/zip/{self.country}.zip'\n",
    "        self.cols = [\n",
    "            'country_code',\n",
    "            'postal_code',\n",
    "            'place_name',\n",
    "            'state_name',\n",
    "            'state_code',\n",
    "            'province_name',\n",
    "            'province_code',\n",
    "            'community_name',\n",
    "            'community_code',\n",
    "            'lat',\n",
    "            'lon',\n",
    "            'accuracy',\n",
    "        ]\n",
    "\n",
    "    def get_geodata(self, decode_to: str='utf-8', replace_dict: Dict={'México':'Estado de México','Distrito Federal':'Ciudad de México'}) -> DataFrame:\n",
    "        # Obtiene la información del request\n",
    "        req_data = get_req(self.zip_url).content\n",
    "\n",
    "        # Optimizando memoria, obtiene los datos del zip\n",
    "        zipfile = ZipFile(BytesIO(req_data))\n",
    "\n",
    "        # Lista vacía para agregar cada renglón del archivo de interés\n",
    "        data = []\n",
    "        # Para cada renglón del archivo txt con la información de interés\n",
    "        for line in zipfile.open(f'{self.country}.txt').readlines():\n",
    "            # Añadirlo a la lista ya decodificado\n",
    "            data.append(line.decode(decode_to))\n",
    "\n",
    "        # Estructurarlo en un DataFrame para manipulación posterior\n",
    "        df = DataFrame(map(lambda x: x.replace('\\n','').split('\\t'),data), columns=self.cols)\n",
    "        print(f'Códigos postales de {self.country} importados desde {self.zip_url}')\n",
    "\n",
    "        df = df.replace(replace_dict)\n",
    "        return df"
   ]
  },
  {
   "cell_type": "markdown",
   "metadata": {},
   "source": [
    "### Imagen desde PDF"
   ]
  },
  {
   "cell_type": "code",
   "execution_count": 3,
   "metadata": {},
   "outputs": [],
   "source": [
    "from PIL import Image\n",
    "from pathlib import Path\n",
    "from easyocr import Reader\n",
    "from pandas import DataFrame\n",
    "\n",
    "from re import findall\n",
    "from numpy import asarray\n",
    "from pdf2image import convert_from_path\n",
    "\n",
    "class ImageFromPDF(GeoLoc):\n",
    "    def __init__(self, base_dir: str, file_name:str) -> None:\n",
    "        super().__init__('MX')\n",
    "        self.base_dir = Path(base_dir)\n",
    "        self.file_name = file_name\n",
    "        self.file_path = self.base_dir.joinpath(self.file_name)\n",
    "        if not self.file_path.is_file():\n",
    "            print(f'There should be a file called: {self.file_name} at path:\\n{self.base_dir}\\n\\nAdd this file and try again!\\n')\n",
    "        self.just_name = ''.join(self.file_name.split('.')[:-1])\n",
    "        self.img_folder = self.base_dir.joinpath(f'{self.just_name}_images')\n",
    "        self.img_folder.mkdir(exist_ok=True)\n",
    "\n",
    "    def pages_to_img(self, **kwargs) -> None:\n",
    "        pages = convert_from_path(self.file_path, dpi=300, **kwargs)\n",
    "\n",
    "        self.images_list = []\n",
    "        for i,page in enumerate(pages):\n",
    "            img_path = self.img_folder.joinpath(f'{self.just_name}_page{str(i+1).zfill(2)}.jpg')\n",
    "            page.save(img_path, 'JPEG')\n",
    "            self.images_list.append(img_path)\n",
    "\n",
    "    def read_img(self, img_path: Path, reader_obj, resize_to: float=1.0) -> list:\n",
    "        img = Image.open(img_path)\n",
    "        gray_img = img.convert('L').resize((int(x*resize_to) for x in img.size))\n",
    "        img_text = reader_obj.readtext(asarray(gray_img), detail=0)\n",
    "        return img_text\n",
    "\n",
    "    def img_to_table(self, **kwargs) -> DataFrame:\n",
    "        data = []\n",
    "        for img in self.images_list:\n",
    "            img_text = self.read_img(img, **kwargs)\n",
    "            data.append((img, img_text))\n",
    "        df = DataFrame(data, columns=['path','text_list'])\n",
    "        df['text'] = df['text_list'].map(' _'.join)\n",
    "        return df\n",
    "\n",
    "    def full_pipeline(self, reader_obj, export_result: bool=True) -> DataFrame:\n",
    "        self.pages_to_img()\n",
    "        df = self.img_to_table(reader_obj=reader_obj, resize_to=0.3)\n",
    "        df['postal_code'] = df['text'].map(lambda x: ' - '.join(findall('ostal\\s(\\d+)', x)))\n",
    "        pc = df['postal_code'].str.split(' - ', expand=True).melt(value_name='postal_code').dropna().iloc[:,-1:]\n",
    "        geo = self.get_geodata().drop_duplicates('postal_code')\n",
    "        pc = pc.merge(geo, how='left')\n",
    "        if export_result: pc.to_csv(self.base_dir.joinpath(f'{self.just_name}_geoloc.csv'), index=False)\n",
    "        return pc\n",
    "\n",
    "ip = ImageFromPDF(BASE_DIR, FILE_NAME)"
   ]
  },
  {
   "cell_type": "markdown",
   "metadata": {},
   "source": [
    "## Transformar"
   ]
  },
  {
   "cell_type": "markdown",
   "metadata": {},
   "source": [
    "### Lector de texto en imágenes"
   ]
  },
  {
   "cell_type": "code",
   "execution_count": 4,
   "metadata": {},
   "outputs": [
    {
     "name": "stderr",
     "output_type": "stream",
     "text": [
      "CUDA not available - defaulting to CPU. Note: This module is much faster with a GPU.\n"
     ]
    }
   ],
   "source": [
    "reader = Reader(['es'])"
   ]
  },
  {
   "cell_type": "markdown",
   "metadata": {},
   "source": [
    "### Tabla final"
   ]
  },
  {
   "cell_type": "code",
   "execution_count": 5,
   "metadata": {},
   "outputs": [
    {
     "name": "stderr",
     "output_type": "stream",
     "text": [
      "/Users/efraflores/Desktop/hub/playground/venv/lib/python3.9/site-packages/torch/nn/functional.py:718: UserWarning: Named tensors and all their associated APIs are an experimental feature and subject to change. Please do not use them for anything important until they are released as stable. (Triggered internally at  ../c10/core/TensorImpl.h:1156.)\n",
      "  return torch.max_pool2d(input, kernel_size, stride, padding, dilation, ceil_mode)\n"
     ]
    },
    {
     "name": "stdout",
     "output_type": "stream",
     "text": [
      "Códigos postales de MX importados desde http://download.geonames.org/export/zip/MX.zip\n"
     ]
    }
   ],
   "source": [
    "df = ip.full_pipeline(reader)"
   ]
  },
  {
   "cell_type": "code",
   "execution_count": 6,
   "metadata": {},
   "outputs": [
    {
     "name": "stdout",
     "output_type": "stream",
     "text": [
      "(97, 12)\n"
     ]
    },
    {
     "data": {
      "text/html": [
       "<div>\n",
       "<style scoped>\n",
       "    .dataframe tbody tr th:only-of-type {\n",
       "        vertical-align: middle;\n",
       "    }\n",
       "\n",
       "    .dataframe tbody tr th {\n",
       "        vertical-align: top;\n",
       "    }\n",
       "\n",
       "    .dataframe thead th {\n",
       "        text-align: right;\n",
       "    }\n",
       "</style>\n",
       "<table border=\"1\" class=\"dataframe\">\n",
       "  <thead>\n",
       "    <tr style=\"text-align: right;\">\n",
       "      <th></th>\n",
       "      <th>postal_code</th>\n",
       "      <th>country_code</th>\n",
       "      <th>place_name</th>\n",
       "      <th>state_name</th>\n",
       "      <th>state_code</th>\n",
       "      <th>province_name</th>\n",
       "      <th>province_code</th>\n",
       "      <th>community_name</th>\n",
       "      <th>community_code</th>\n",
       "      <th>lat</th>\n",
       "      <th>lon</th>\n",
       "      <th>accuracy</th>\n",
       "    </tr>\n",
       "  </thead>\n",
       "  <tbody>\n",
       "    <tr>\n",
       "      <th>75</th>\n",
       "      <td>14269</td>\n",
       "      <td>MX</td>\n",
       "      <td>Barrio La Fama</td>\n",
       "      <td>Ciudad de México</td>\n",
       "      <td>09</td>\n",
       "      <td>Tlalpan</td>\n",
       "      <td>012</td>\n",
       "      <td>Ciudad de México</td>\n",
       "      <td>14</td>\n",
       "      <td>19.2852</td>\n",
       "      <td>-99.2091</td>\n",
       "      <td>1</td>\n",
       "    </tr>\n",
       "  </tbody>\n",
       "</table>\n",
       "</div>"
      ],
      "text/plain": [
       "   postal_code country_code      place_name        state_name state_code  \\\n",
       "75       14269           MX  Barrio La Fama  Ciudad de México         09   \n",
       "\n",
       "   province_name province_code    community_name community_code      lat  \\\n",
       "75       Tlalpan           012  Ciudad de México             14  19.2852   \n",
       "\n",
       "         lon accuracy  \n",
       "75  -99.2091        1  "
      ]
     },
     "execution_count": 6,
     "metadata": {},
     "output_type": "execute_result"
    }
   ],
   "source": [
    "print(df.shape)\n",
    "df.sample()"
   ]
  }
 ],
 "metadata": {
  "interpreter": {
   "hash": "360795d863f880c11c20dc21746bd564b021649392743872e3e3d6d5856bcb66"
  },
  "kernelspec": {
   "display_name": "Python 3.9.1 64-bit ('venv': venv)",
   "name": "python3"
  },
  "language_info": {
   "codemirror_mode": {
    "name": "ipython",
    "version": 3
   },
   "file_extension": ".py",
   "mimetype": "text/x-python",
   "name": "python",
   "nbconvert_exporter": "python",
   "pygments_lexer": "ipython3",
   "version": "3.9.1"
  },
  "orig_nbformat": 4
 },
 "nbformat": 4,
 "nbformat_minor": 2
}

{
 "cells": [
  {
   "cell_type": "markdown",
   "metadata": {},
   "source": [
    "# WEEKLY MARKUP ANALYSIS"
   ]
  },
  {
   "cell_type": "code",
   "execution_count": 1065,
   "metadata": {},
   "outputs": [],
   "source": [
    "#Paqueterias\n",
    "import pandas as pd\n",
    "import matplotlib.pyplot as plt\n",
    "import seaborn as sns\n",
    "import numpy as np\n",
    "import plotly.express as px\n",
    "import plotly.graph_objects as go\n",
    "\n",
    "pd.options.display.float_format = '{:,.2f}'.format\n",
    "input_path='/Users/ivanjardon/Downloads/pulsemarkupbystore/'\n",
    "output_path='/Users/ivanjardon/Documents/'"
   ]
  },
  {
   "cell_type": "code",
   "execution_count": 1066,
   "metadata": {},
   "outputs": [],
   "source": [
    "#Leer datos\n",
    "markup_mx=pd.read_excel(input_path+'markup_mx.xlsx')\n",
    "markup_cl=pd.read_excel(input_path+'markup_cl.xlsx')\n",
    "markup_br=pd.read_excel(input_path+'markup_br.xlsx')\n",
    "markup_ca=pd.read_excel(input_path+'markup_ca.xlsx')\n",
    "markup_co=pd.read_excel(input_path+'markup_co.xlsx')\n",
    "markup_pe=pd.read_excel(input_path+'markup_pe.xlsx')\n",
    "markup_cr=pd.read_excel(input_path+'markup_cr.xlsx')\n",
    "markup_us=pd.read_excel(input_path+'markup_us.xlsx')"
   ]
  },
  {
   "cell_type": "code",
   "execution_count": 1067,
   "metadata": {},
   "outputs": [
    {
     "data": {
      "text/html": [
       "<div>\n",
       "<style scoped>\n",
       "    .dataframe tbody tr th:only-of-type {\n",
       "        vertical-align: middle;\n",
       "    }\n",
       "\n",
       "    .dataframe tbody tr th {\n",
       "        vertical-align: top;\n",
       "    }\n",
       "\n",
       "    .dataframe thead th {\n",
       "        text-align: right;\n",
       "    }\n",
       "</style>\n",
       "<table border=\"1\" class=\"dataframe\">\n",
       "  <thead>\n",
       "    <tr style=\"text-align: right;\">\n",
       "      <th></th>\n",
       "      <th>week</th>\n",
       "      <th>country</th>\n",
       "      <th>is_longtail</th>\n",
       "      <th>store_id</th>\n",
       "      <th>store</th>\n",
       "      <th>orders</th>\n",
       "      <th>products_charged_local</th>\n",
       "      <th>total_receipt_local</th>\n",
       "      <th>markup_local</th>\n",
       "      <th>products_charged_usd</th>\n",
       "      <th>total_receipt_usd</th>\n",
       "      <th>markup_usd</th>\n",
       "      <th>markup_pctg</th>\n",
       "      <th>markup_kind</th>\n",
       "      <th>service_type</th>\n",
       "      <th>markup_by_order</th>\n",
       "      <th>avg_ticket</th>\n",
       "    </tr>\n",
       "  </thead>\n",
       "  <tbody>\n",
       "    <tr>\n",
       "      <th>0</th>\n",
       "      <td>2021-05</td>\n",
       "      <td>MX</td>\n",
       "      <td>True</td>\n",
       "      <td>59</td>\n",
       "      <td>Carnes Ramos</td>\n",
       "      <td>901</td>\n",
       "      <td>603,990.85</td>\n",
       "      <td>612,177.63</td>\n",
       "      <td>-8,186.78</td>\n",
       "      <td>30,059.54</td>\n",
       "      <td>30,466.98</td>\n",
       "      <td>-407.44</td>\n",
       "      <td>-1.34</td>\n",
       "      <td>markdown</td>\n",
       "      <td>Self service</td>\n",
       "      <td>-0.45</td>\n",
       "      <td>33.81</td>\n",
       "    </tr>\n",
       "    <tr>\n",
       "      <th>1</th>\n",
       "      <td>2021-05</td>\n",
       "      <td>MX</td>\n",
       "      <td>True</td>\n",
       "      <td>5177</td>\n",
       "      <td>La Castellana</td>\n",
       "      <td>17</td>\n",
       "      <td>20,605.28</td>\n",
       "      <td>23,335.65</td>\n",
       "      <td>-2,730.37</td>\n",
       "      <td>1,025.49</td>\n",
       "      <td>1,161.37</td>\n",
       "      <td>-135.89</td>\n",
       "      <td>-11.70</td>\n",
       "      <td>markdown</td>\n",
       "      <td>Self service</td>\n",
       "      <td>-7.99</td>\n",
       "      <td>68.32</td>\n",
       "    </tr>\n",
       "    <tr>\n",
       "      <th>2</th>\n",
       "      <td>2021-05</td>\n",
       "      <td>MX</td>\n",
       "      <td>False</td>\n",
       "      <td>4785</td>\n",
       "      <td>City Market Farmacia</td>\n",
       "      <td>96</td>\n",
       "      <td>67,205.95</td>\n",
       "      <td>68,817.83</td>\n",
       "      <td>-1,611.88</td>\n",
       "      <td>3,344.72</td>\n",
       "      <td>3,424.94</td>\n",
       "      <td>-80.22</td>\n",
       "      <td>-2.34</td>\n",
       "      <td>markdown</td>\n",
       "      <td>Full service</td>\n",
       "      <td>-0.84</td>\n",
       "      <td>35.68</td>\n",
       "    </tr>\n",
       "    <tr>\n",
       "      <th>3</th>\n",
       "      <td>2021-05</td>\n",
       "      <td>MX</td>\n",
       "      <td>True</td>\n",
       "      <td>490</td>\n",
       "      <td>Catabocata</td>\n",
       "      <td>13</td>\n",
       "      <td>12,796.00</td>\n",
       "      <td>14,252.00</td>\n",
       "      <td>-1,456.00</td>\n",
       "      <td>636.83</td>\n",
       "      <td>709.30</td>\n",
       "      <td>-72.46</td>\n",
       "      <td>-10.22</td>\n",
       "      <td>markdown</td>\n",
       "      <td>Self service</td>\n",
       "      <td>-5.57</td>\n",
       "      <td>54.56</td>\n",
       "    </tr>\n",
       "    <tr>\n",
       "      <th>4</th>\n",
       "      <td>2021-05</td>\n",
       "      <td>MX</td>\n",
       "      <td>False</td>\n",
       "      <td>9</td>\n",
       "      <td>City Market</td>\n",
       "      <td>10740</td>\n",
       "      <td>13,804,293.31</td>\n",
       "      <td>13,805,520.65</td>\n",
       "      <td>-1,227.34</td>\n",
       "      <td>687,014.86</td>\n",
       "      <td>687,075.94</td>\n",
       "      <td>-61.08</td>\n",
       "      <td>-0.01</td>\n",
       "      <td>no markup</td>\n",
       "      <td>Full service</td>\n",
       "      <td>-0.01</td>\n",
       "      <td>63.97</td>\n",
       "    </tr>\n",
       "  </tbody>\n",
       "</table>\n",
       "</div>"
      ],
      "text/plain": [
       "      week country  is_longtail  store_id                 store  orders  \\\n",
       "0  2021-05      MX         True        59          Carnes Ramos     901   \n",
       "1  2021-05      MX         True      5177         La Castellana      17   \n",
       "2  2021-05      MX        False      4785  City Market Farmacia      96   \n",
       "3  2021-05      MX         True       490            Catabocata      13   \n",
       "4  2021-05      MX        False         9           City Market   10740   \n",
       "\n",
       "   products_charged_local  total_receipt_local  markup_local  \\\n",
       "0              603,990.85           612,177.63     -8,186.78   \n",
       "1               20,605.28            23,335.65     -2,730.37   \n",
       "2               67,205.95            68,817.83     -1,611.88   \n",
       "3               12,796.00            14,252.00     -1,456.00   \n",
       "4           13,804,293.31        13,805,520.65     -1,227.34   \n",
       "\n",
       "   products_charged_usd  total_receipt_usd  markup_usd  markup_pctg  \\\n",
       "0             30,059.54          30,466.98     -407.44        -1.34   \n",
       "1              1,025.49           1,161.37     -135.89       -11.70   \n",
       "2              3,344.72           3,424.94      -80.22        -2.34   \n",
       "3                636.83             709.30      -72.46       -10.22   \n",
       "4            687,014.86         687,075.94      -61.08        -0.01   \n",
       "\n",
       "  markup_kind  service_type  markup_by_order  avg_ticket  \n",
       "0    markdown  Self service            -0.45       33.81  \n",
       "1    markdown  Self service            -7.99       68.32  \n",
       "2    markdown  Full service            -0.84       35.68  \n",
       "3    markdown  Self service            -5.57       54.56  \n",
       "4   no markup  Full service            -0.01       63.97  "
      ]
     },
     "metadata": {},
     "output_type": "display_data"
    }
   ],
   "source": [
    "#Append\n",
    "markup_cs = pd.concat([markup_mx,markup_cl,markup_br,markup_ca,markup_co,markup_pe,markup_cr,markup_us],\n",
    "                               ignore_index=True)\n",
    "#Add column markup_kind\n",
    "markup_cs['markup_kind'] = np.where(markup_cs['markup_pctg']>1, 'markup', np.where(markup_cs['markup_pctg']<-1,'markdown','no markup'))\n",
    "#Add column service type\n",
    "markup_cs['service_type'] = np.where(markup_cs['is_longtail']==False, 'Full service','Self service')\n",
    "#Add column markup by order\n",
    "markup_cs['markup_by_order'] = markup_cs['markup_usd']/markup_cs['orders']\n",
    "#Add column avg ticket\n",
    "markup_cs['avg_ticket'] = markup_cs['total_receipt_usd']/markup_cs['orders']\n",
    "#set_index\n",
    "markup_cs.set_index('store_id')\n",
    "\n",
    "#extract week\n",
    "week=markup_cs['week'].unique()\n",
    "\n",
    "                               \n",
    "display(markup_cs.head())"
   ]
  },
  {
   "cell_type": "code",
   "execution_count": 1081,
   "metadata": {},
   "outputs": [
    {
     "data": {
      "text/html": [
       "<div>\n",
       "<style scoped>\n",
       "    .dataframe tbody tr th:only-of-type {\n",
       "        vertical-align: middle;\n",
       "    }\n",
       "\n",
       "    .dataframe tbody tr th {\n",
       "        vertical-align: top;\n",
       "    }\n",
       "\n",
       "    .dataframe thead th {\n",
       "        text-align: right;\n",
       "    }\n",
       "</style>\n",
       "<table border=\"1\" class=\"dataframe\">\n",
       "  <thead>\n",
       "    <tr style=\"text-align: right;\">\n",
       "      <th></th>\n",
       "      <th>week</th>\n",
       "      <th>country</th>\n",
       "      <th>is_longtail</th>\n",
       "      <th>store_id</th>\n",
       "      <th>store</th>\n",
       "      <th>orders</th>\n",
       "      <th>products_charged_local</th>\n",
       "      <th>total_receipt_local</th>\n",
       "      <th>markup_local</th>\n",
       "      <th>products_charged_usd</th>\n",
       "      <th>total_receipt_usd</th>\n",
       "      <th>markup_usd</th>\n",
       "      <th>markup_pctg</th>\n",
       "      <th>markup_kind</th>\n",
       "      <th>service_type</th>\n",
       "      <th>markup_by_order</th>\n",
       "      <th>avg_ticket</th>\n",
       "    </tr>\n",
       "  </thead>\n",
       "  <tbody>\n",
       "    <tr>\n",
       "      <th>1406</th>\n",
       "      <td>2021-05</td>\n",
       "      <td>CL</td>\n",
       "      <td>False</td>\n",
       "      <td>4</td>\n",
       "      <td>Jumbo</td>\n",
       "      <td>71657</td>\n",
       "      <td>4,982,847,916.74</td>\n",
       "      <td>4,799,039,657.00</td>\n",
       "      <td>183,808,259.74</td>\n",
       "      <td>6,795,090.35</td>\n",
       "      <td>6,544,431.74</td>\n",
       "      <td>250,658.61</td>\n",
       "      <td>3.83</td>\n",
       "      <td>markup</td>\n",
       "      <td>Full service</td>\n",
       "      <td>3.50</td>\n",
       "      <td>91.33</td>\n",
       "    </tr>\n",
       "  </tbody>\n",
       "</table>\n",
       "</div>"
      ],
      "text/plain": [
       "         week country  is_longtail  store_id  store  orders  \\\n",
       "1406  2021-05      CL        False         4  Jumbo   71657   \n",
       "\n",
       "      products_charged_local  total_receipt_local   markup_local  \\\n",
       "1406        4,982,847,916.74     4,799,039,657.00 183,808,259.74   \n",
       "\n",
       "      products_charged_usd  total_receipt_usd  markup_usd  markup_pctg  \\\n",
       "1406          6,795,090.35       6,544,431.74  250,658.61         3.83   \n",
       "\n",
       "     markup_kind  service_type  markup_by_order  avg_ticket  \n",
       "1406      markup  Full service             3.50       91.33  "
      ]
     },
     "execution_count": 1081,
     "metadata": {},
     "output_type": "execute_result"
    }
   ],
   "source": [
    "#Cosulta tienda\n",
    "markup_cs.query('store_id==\"4\"')\n",
    "#markup_cs.query('country==\"CR\" and service_type==\"Self service\"')"
   ]
  },
  {
   "cell_type": "code",
   "execution_count": 1069,
   "metadata": {},
   "outputs": [
    {
     "data": {
      "text/html": [
       "<div>\n",
       "<style scoped>\n",
       "    .dataframe tbody tr th:only-of-type {\n",
       "        vertical-align: middle;\n",
       "    }\n",
       "\n",
       "    .dataframe tbody tr th {\n",
       "        vertical-align: top;\n",
       "    }\n",
       "\n",
       "    .dataframe thead th {\n",
       "        text-align: right;\n",
       "    }\n",
       "</style>\n",
       "<table border=\"1\" class=\"dataframe\">\n",
       "  <thead>\n",
       "    <tr style=\"text-align: right;\">\n",
       "      <th></th>\n",
       "      <th>orders</th>\n",
       "      <th>markup_usd</th>\n",
       "      <th>markup_pctg</th>\n",
       "    </tr>\n",
       "    <tr>\n",
       "      <th>week</th>\n",
       "      <th></th>\n",
       "      <th></th>\n",
       "      <th></th>\n",
       "    </tr>\n",
       "  </thead>\n",
       "  <tbody>\n",
       "    <tr>\n",
       "      <th>2021-05</th>\n",
       "      <td>366299</td>\n",
       "      <td>557,120.86</td>\n",
       "      <td>2.53</td>\n",
       "    </tr>\n",
       "  </tbody>\n",
       "</table>\n",
       "</div>"
      ],
      "text/plain": [
       "         orders  markup_usd  markup_pctg\n",
       "week                                    \n",
       "2021-05  366299  557,120.86         2.53"
      ]
     },
     "metadata": {},
     "output_type": "display_data"
    }
   ],
   "source": [
    "#MARKUP TOTAL CS\n",
    "markup_total_cs=markup_cs.groupby('week').agg({'products_charged_usd':'sum','total_receipt_usd':'sum','markup_usd':'sum','orders':'sum'})\n",
    "markup_total_cs['markup_pctg']=markup_total_cs['markup_usd']*100/markup_total_cs['total_receipt_usd']\n",
    "display(markup_total_cs[['orders','markup_usd','markup_pctg']])\n"
   ]
  },
  {
   "cell_type": "code",
   "execution_count": 1070,
   "metadata": {},
   "outputs": [
    {
     "data": {
      "text/html": [
       "<style  type=\"text/css\" >\n",
       "#T_3be07b8e_6bb8_11eb_8f8f_acde48001122row0_col3{\n",
       "            background-color:  #67001f;\n",
       "            color:  #f1f1f1;\n",
       "        }#T_3be07b8e_6bb8_11eb_8f8f_acde48001122row1_col3{\n",
       "            background-color:  #fcdfcf;\n",
       "            color:  #000000;\n",
       "        }#T_3be07b8e_6bb8_11eb_8f8f_acde48001122row2_col3{\n",
       "            background-color:  #0c3d73;\n",
       "            color:  #f1f1f1;\n",
       "        }#T_3be07b8e_6bb8_11eb_8f8f_acde48001122row3_col3{\n",
       "            background-color:  #053061;\n",
       "            color:  #f1f1f1;\n",
       "        }#T_3be07b8e_6bb8_11eb_8f8f_acde48001122row4_col3{\n",
       "            background-color:  #f5a886;\n",
       "            color:  #000000;\n",
       "        }#T_3be07b8e_6bb8_11eb_8f8f_acde48001122row5_col3{\n",
       "            background-color:  #7bb6d6;\n",
       "            color:  #000000;\n",
       "        }#T_3be07b8e_6bb8_11eb_8f8f_acde48001122row6_col3{\n",
       "            background-color:  #10457e;\n",
       "            color:  #f1f1f1;\n",
       "        }#T_3be07b8e_6bb8_11eb_8f8f_acde48001122row7_col3{\n",
       "            background-color:  #d5e7f1;\n",
       "            color:  #000000;\n",
       "        }</style><table id=\"T_3be07b8e_6bb8_11eb_8f8f_acde48001122\" ><thead>    <tr>        <th class=\"blank level0\" ></th>        <th class=\"col_heading level0 col0\" >orders</th>        <th class=\"col_heading level0 col1\" >markup_local</th>        <th class=\"col_heading level0 col2\" >markup_usd</th>        <th class=\"col_heading level0 col3\" >markup_pctg</th>    </tr>    <tr>        <th class=\"index_name level0\" >country</th>        <th class=\"blank\" ></th>        <th class=\"blank\" ></th>        <th class=\"blank\" ></th>        <th class=\"blank\" ></th>    </tr></thead><tbody>\n",
       "                <tr>\n",
       "                        <th id=\"T_3be07b8e_6bb8_11eb_8f8f_acde48001122level0_row0\" class=\"row_heading level0 row0\" >BR</th>\n",
       "                        <td id=\"T_3be07b8e_6bb8_11eb_8f8f_acde48001122row0_col0\" class=\"data row0 col0\" >47,621.00</td>\n",
       "                        <td id=\"T_3be07b8e_6bb8_11eb_8f8f_acde48001122row0_col1\" class=\"data row0 col1\" >77,381.32</td>\n",
       "                        <td id=\"T_3be07b8e_6bb8_11eb_8f8f_acde48001122row0_col2\" class=\"data row0 col2\" >14,276.30</td>\n",
       "                        <td id=\"T_3be07b8e_6bb8_11eb_8f8f_acde48001122row0_col3\" class=\"data row0 col3\" >0.71</td>\n",
       "            </tr>\n",
       "            <tr>\n",
       "                        <th id=\"T_3be07b8e_6bb8_11eb_8f8f_acde48001122level0_row1\" class=\"row_heading level0 row1\" >CA</th>\n",
       "                        <td id=\"T_3be07b8e_6bb8_11eb_8f8f_acde48001122row1_col0\" class=\"data row1 col0\" >36,345.00</td>\n",
       "                        <td id=\"T_3be07b8e_6bb8_11eb_8f8f_acde48001122row1_col1\" class=\"data row1 col1\" >46,460.13</td>\n",
       "                        <td id=\"T_3be07b8e_6bb8_11eb_8f8f_acde48001122row1_col2\" class=\"data row1 col2\" >36,445.58</td>\n",
       "                        <td id=\"T_3be07b8e_6bb8_11eb_8f8f_acde48001122row1_col3\" class=\"data row1 col3\" >1.72</td>\n",
       "            </tr>\n",
       "            <tr>\n",
       "                        <th id=\"T_3be07b8e_6bb8_11eb_8f8f_acde48001122level0_row2\" class=\"row_heading level0 row2\" >CL</th>\n",
       "                        <td id=\"T_3be07b8e_6bb8_11eb_8f8f_acde48001122row2_col0\" class=\"data row2 col0\" >136,875.00</td>\n",
       "                        <td id=\"T_3be07b8e_6bb8_11eb_8f8f_acde48001122row2_col1\" class=\"data row2 col1\" >215,421,902.39</td>\n",
       "                        <td id=\"T_3be07b8e_6bb8_11eb_8f8f_acde48001122row2_col2\" class=\"data row2 col2\" >293,770.01</td>\n",
       "                        <td id=\"T_3be07b8e_6bb8_11eb_8f8f_acde48001122row2_col3\" class=\"data row2 col3\" >3.08</td>\n",
       "            </tr>\n",
       "            <tr>\n",
       "                        <th id=\"T_3be07b8e_6bb8_11eb_8f8f_acde48001122level0_row3\" class=\"row_heading level0 row3\" >CO</th>\n",
       "                        <td id=\"T_3be07b8e_6bb8_11eb_8f8f_acde48001122row3_col0\" class=\"data row3 col0\" >3,825.00</td>\n",
       "                        <td id=\"T_3be07b8e_6bb8_11eb_8f8f_acde48001122row3_col1\" class=\"data row3 col1\" >27,374,233.87</td>\n",
       "                        <td id=\"T_3be07b8e_6bb8_11eb_8f8f_acde48001122row3_col2\" class=\"data row3 col2\" >7,671.83</td>\n",
       "                        <td id=\"T_3be07b8e_6bb8_11eb_8f8f_acde48001122row3_col3\" class=\"data row3 col3\" >3.14</td>\n",
       "            </tr>\n",
       "            <tr>\n",
       "                        <th id=\"T_3be07b8e_6bb8_11eb_8f8f_acde48001122level0_row4\" class=\"row_heading level0 row4\" >CR</th>\n",
       "                        <td id=\"T_3be07b8e_6bb8_11eb_8f8f_acde48001122row4_col0\" class=\"data row4 col0\" >749.00</td>\n",
       "                        <td id=\"T_3be07b8e_6bb8_11eb_8f8f_acde48001122row4_col1\" class=\"data row4 col1\" >268,332.06</td>\n",
       "                        <td id=\"T_3be07b8e_6bb8_11eb_8f8f_acde48001122row4_col2\" class=\"data row4 col2\" >438.25</td>\n",
       "                        <td id=\"T_3be07b8e_6bb8_11eb_8f8f_acde48001122row4_col3\" class=\"data row4 col3\" >1.45</td>\n",
       "            </tr>\n",
       "            <tr>\n",
       "                        <th id=\"T_3be07b8e_6bb8_11eb_8f8f_acde48001122level0_row5\" class=\"row_heading level0 row5\" >MX</th>\n",
       "                        <td id=\"T_3be07b8e_6bb8_11eb_8f8f_acde48001122row5_col0\" class=\"data row5 col0\" >117,940.00</td>\n",
       "                        <td id=\"T_3be07b8e_6bb8_11eb_8f8f_acde48001122row5_col1\" class=\"data row5 col1\" >3,406,355.26</td>\n",
       "                        <td id=\"T_3be07b8e_6bb8_11eb_8f8f_acde48001122row5_col2\" class=\"data row5 col2\" >169,528.18</td>\n",
       "                        <td id=\"T_3be07b8e_6bb8_11eb_8f8f_acde48001122row5_col3\" class=\"data row5 col3\" >2.47</td>\n",
       "            </tr>\n",
       "            <tr>\n",
       "                        <th id=\"T_3be07b8e_6bb8_11eb_8f8f_acde48001122level0_row6\" class=\"row_heading level0 row6\" >PE</th>\n",
       "                        <td id=\"T_3be07b8e_6bb8_11eb_8f8f_acde48001122row6_col0\" class=\"data row6 col0\" >14,945.00</td>\n",
       "                        <td id=\"T_3be07b8e_6bb8_11eb_8f8f_acde48001122row6_col1\" class=\"data row6 col1\" >97,964.19</td>\n",
       "                        <td id=\"T_3be07b8e_6bb8_11eb_8f8f_acde48001122row6_col2\" class=\"data row6 col2\" >26,898.46</td>\n",
       "                        <td id=\"T_3be07b8e_6bb8_11eb_8f8f_acde48001122row6_col3\" class=\"data row6 col3\" >3.04</td>\n",
       "            </tr>\n",
       "            <tr>\n",
       "                        <th id=\"T_3be07b8e_6bb8_11eb_8f8f_acde48001122level0_row7\" class=\"row_heading level0 row7\" >US</th>\n",
       "                        <td id=\"T_3be07b8e_6bb8_11eb_8f8f_acde48001122row7_col0\" class=\"data row7 col0\" >7,999.00</td>\n",
       "                        <td id=\"T_3be07b8e_6bb8_11eb_8f8f_acde48001122row7_col1\" class=\"data row7 col1\" >8,092.26</td>\n",
       "                        <td id=\"T_3be07b8e_6bb8_11eb_8f8f_acde48001122row7_col2\" class=\"data row7 col2\" >8,092.26</td>\n",
       "                        <td id=\"T_3be07b8e_6bb8_11eb_8f8f_acde48001122row7_col3\" class=\"data row7 col3\" >2.14</td>\n",
       "            </tr>\n",
       "    </tbody></table>"
      ],
      "text/plain": [
       "<pandas.io.formats.style.Styler at 0x7fce8212e6a0>"
      ]
     },
     "metadata": {},
     "output_type": "display_data"
    }
   ],
   "source": [
    "#MARKUP BY COUNTRY\n",
    "markup_by_country=markup_cs.groupby('country').agg({'products_charged_local':'sum','total_receipt_local':'sum','markup_local':'sum','markup_usd':'sum','orders':'sum'})\n",
    "markup_by_country['markup_pctg']=markup_by_country['markup_local']*100/markup_by_country['total_receipt_local']\n",
    "display(markup_by_country[['orders','markup_local','markup_usd','markup_pctg']].style.background_gradient(cmap='RdBu',subset=['markup_pctg']).format(\"{:,.2f}\"))\n",
    "\n",
    "#Exportar a excel\n",
    "markup_by_country.to_excel(output_path+'markup_by_country_'+str(week[0])+'.xlsx')"
   ]
  },
  {
   "cell_type": "code",
   "execution_count": 1071,
   "metadata": {},
   "outputs": [
    {
     "data": {
      "text/html": [
       "<style  type=\"text/css\" >\n",
       "#T_3be567a2_6bb8_11eb_8f8f_acde48001122row0_col3{\n",
       "            background-color:  #f9ebe3;\n",
       "            color:  #000000;\n",
       "        }#T_3be567a2_6bb8_11eb_8f8f_acde48001122row1_col3{\n",
       "            background-color:  #67001f;\n",
       "            color:  #f1f1f1;\n",
       "        }#T_3be567a2_6bb8_11eb_8f8f_acde48001122row2_col3{\n",
       "            background-color:  #b3d6e8;\n",
       "            color:  #000000;\n",
       "        }#T_3be567a2_6bb8_11eb_8f8f_acde48001122row3_col3{\n",
       "            background-color:  #f9f0eb;\n",
       "            color:  #000000;\n",
       "        }#T_3be567a2_6bb8_11eb_8f8f_acde48001122row4_col3{\n",
       "            background-color:  #053061;\n",
       "            color:  #f1f1f1;\n",
       "        }#T_3be567a2_6bb8_11eb_8f8f_acde48001122row5_col3{\n",
       "            background-color:  #f7b99c;\n",
       "            color:  #000000;\n",
       "        }#T_3be567a2_6bb8_11eb_8f8f_acde48001122row6_col3{\n",
       "            background-color:  #144e8a;\n",
       "            color:  #f1f1f1;\n",
       "        }#T_3be567a2_6bb8_11eb_8f8f_acde48001122row7_col3{\n",
       "            background-color:  #c84440;\n",
       "            color:  #f1f1f1;\n",
       "        }#T_3be567a2_6bb8_11eb_8f8f_acde48001122row8_col3{\n",
       "            background-color:  #d1e5f0;\n",
       "            color:  #000000;\n",
       "        }#T_3be567a2_6bb8_11eb_8f8f_acde48001122row9_col3{\n",
       "            background-color:  #fbd0b9;\n",
       "            color:  #000000;\n",
       "        }#T_3be567a2_6bb8_11eb_8f8f_acde48001122row10_col3{\n",
       "            background-color:  #3f8ec0;\n",
       "            color:  #000000;\n",
       "        }#T_3be567a2_6bb8_11eb_8f8f_acde48001122row11_col3{\n",
       "            background-color:  #de735c;\n",
       "            color:  #000000;\n",
       "        }#T_3be567a2_6bb8_11eb_8f8f_acde48001122row12_col3{\n",
       "            background-color:  #195696;\n",
       "            color:  #f1f1f1;\n",
       "        }#T_3be567a2_6bb8_11eb_8f8f_acde48001122row13_col3{\n",
       "            background-color:  #fce0d0;\n",
       "            color:  #000000;\n",
       "        }#T_3be567a2_6bb8_11eb_8f8f_acde48001122row14_col3{\n",
       "            background-color:  #4997c5;\n",
       "            color:  #000000;\n",
       "        }#T_3be567a2_6bb8_11eb_8f8f_acde48001122row15_col3{\n",
       "            background-color:  #f5aa89;\n",
       "            color:  #000000;\n",
       "        }</style><table id=\"T_3be567a2_6bb8_11eb_8f8f_acde48001122\" ><thead>    <tr>        <th class=\"blank\" ></th>        <th class=\"blank level0\" ></th>        <th class=\"col_heading level0 col0\" >orders</th>        <th class=\"col_heading level0 col1\" >markup_local</th>        <th class=\"col_heading level0 col2\" >markup_usd</th>        <th class=\"col_heading level0 col3\" >markup_pctg</th>    </tr>    <tr>        <th class=\"index_name level0\" >country</th>        <th class=\"index_name level1\" >is_longtail</th>        <th class=\"blank\" ></th>        <th class=\"blank\" ></th>        <th class=\"blank\" ></th>        <th class=\"blank\" ></th>    </tr></thead><tbody>\n",
       "                <tr>\n",
       "                        <th id=\"T_3be567a2_6bb8_11eb_8f8f_acde48001122level0_row0\" class=\"row_heading level0 row0\" rowspan=2>BR</th>\n",
       "                        <th id=\"T_3be567a2_6bb8_11eb_8f8f_acde48001122level1_row0\" class=\"row_heading level1 row0\" >False</th>\n",
       "                        <td id=\"T_3be567a2_6bb8_11eb_8f8f_acde48001122row0_col0\" class=\"data row0 col0\" >45,534.00</td>\n",
       "                        <td id=\"T_3be567a2_6bb8_11eb_8f8f_acde48001122row0_col1\" class=\"data row0 col1\" >81,819.59</td>\n",
       "                        <td id=\"T_3be567a2_6bb8_11eb_8f8f_acde48001122row0_col2\" class=\"data row0 col2\" >15,095.13</td>\n",
       "                        <td id=\"T_3be567a2_6bb8_11eb_8f8f_acde48001122row0_col3\" class=\"data row0 col3\" >0.77</td>\n",
       "            </tr>\n",
       "            <tr>\n",
       "                                <th id=\"T_3be567a2_6bb8_11eb_8f8f_acde48001122level1_row1\" class=\"row_heading level1 row1\" >True</th>\n",
       "                        <td id=\"T_3be567a2_6bb8_11eb_8f8f_acde48001122row1_col0\" class=\"data row1 col0\" >2,087.00</td>\n",
       "                        <td id=\"T_3be567a2_6bb8_11eb_8f8f_acde48001122row1_col1\" class=\"data row1 col1\" >-4,438.27</td>\n",
       "                        <td id=\"T_3be567a2_6bb8_11eb_8f8f_acde48001122row1_col2\" class=\"data row1 col2\" >-818.83</td>\n",
       "                        <td id=\"T_3be567a2_6bb8_11eb_8f8f_acde48001122row1_col3\" class=\"data row1 col3\" >-1.57</td>\n",
       "            </tr>\n",
       "            <tr>\n",
       "                        <th id=\"T_3be567a2_6bb8_11eb_8f8f_acde48001122level0_row2\" class=\"row_heading level0 row2\" rowspan=2>CA</th>\n",
       "                        <th id=\"T_3be567a2_6bb8_11eb_8f8f_acde48001122level1_row2\" class=\"row_heading level1 row2\" >False</th>\n",
       "                        <td id=\"T_3be567a2_6bb8_11eb_8f8f_acde48001122row2_col0\" class=\"data row2 col0\" >35,843.00</td>\n",
       "                        <td id=\"T_3be567a2_6bb8_11eb_8f8f_acde48001122row2_col1\" class=\"data row2 col1\" >46,149.28</td>\n",
       "                        <td id=\"T_3be567a2_6bb8_11eb_8f8f_acde48001122row2_col2\" class=\"data row2 col2\" >36,201.73</td>\n",
       "                        <td id=\"T_3be567a2_6bb8_11eb_8f8f_acde48001122row2_col3\" class=\"data row2 col3\" >1.73</td>\n",
       "            </tr>\n",
       "            <tr>\n",
       "                                <th id=\"T_3be567a2_6bb8_11eb_8f8f_acde48001122level1_row3\" class=\"row_heading level1 row3\" >True</th>\n",
       "                        <td id=\"T_3be567a2_6bb8_11eb_8f8f_acde48001122row3_col0\" class=\"data row3 col0\" >502.00</td>\n",
       "                        <td id=\"T_3be567a2_6bb8_11eb_8f8f_acde48001122row3_col1\" class=\"data row3 col1\" >310.85</td>\n",
       "                        <td id=\"T_3be567a2_6bb8_11eb_8f8f_acde48001122row3_col2\" class=\"data row3 col2\" >243.85</td>\n",
       "                        <td id=\"T_3be567a2_6bb8_11eb_8f8f_acde48001122row3_col3\" class=\"data row3 col3\" >0.85</td>\n",
       "            </tr>\n",
       "            <tr>\n",
       "                        <th id=\"T_3be567a2_6bb8_11eb_8f8f_acde48001122level0_row4\" class=\"row_heading level0 row4\" rowspan=2>CL</th>\n",
       "                        <th id=\"T_3be567a2_6bb8_11eb_8f8f_acde48001122level1_row4\" class=\"row_heading level1 row4\" >False</th>\n",
       "                        <td id=\"T_3be567a2_6bb8_11eb_8f8f_acde48001122row4_col0\" class=\"data row4 col0\" >102,488.00</td>\n",
       "                        <td id=\"T_3be567a2_6bb8_11eb_8f8f_acde48001122row4_col1\" class=\"data row4 col1\" >213,881,655.39</td>\n",
       "                        <td id=\"T_3be567a2_6bb8_11eb_8f8f_acde48001122row4_col2\" class=\"data row4 col2\" >291,669.58</td>\n",
       "                        <td id=\"T_3be567a2_6bb8_11eb_8f8f_acde48001122row4_col3\" class=\"data row4 col3\" >3.53</td>\n",
       "            </tr>\n",
       "            <tr>\n",
       "                                <th id=\"T_3be567a2_6bb8_11eb_8f8f_acde48001122level1_row5\" class=\"row_heading level1 row5\" >True</th>\n",
       "                        <td id=\"T_3be567a2_6bb8_11eb_8f8f_acde48001122row5_col0\" class=\"data row5 col0\" >34,387.00</td>\n",
       "                        <td id=\"T_3be567a2_6bb8_11eb_8f8f_acde48001122row5_col1\" class=\"data row5 col1\" >1,540,247.00</td>\n",
       "                        <td id=\"T_3be567a2_6bb8_11eb_8f8f_acde48001122row5_col2\" class=\"data row5 col2\" >2,100.43</td>\n",
       "                        <td id=\"T_3be567a2_6bb8_11eb_8f8f_acde48001122row5_col3\" class=\"data row5 col3\" >0.16</td>\n",
       "            </tr>\n",
       "            <tr>\n",
       "                        <th id=\"T_3be567a2_6bb8_11eb_8f8f_acde48001122level0_row6\" class=\"row_heading level0 row6\" rowspan=2>CO</th>\n",
       "                        <th id=\"T_3be567a2_6bb8_11eb_8f8f_acde48001122level1_row6\" class=\"row_heading level1 row6\" >False</th>\n",
       "                        <td id=\"T_3be567a2_6bb8_11eb_8f8f_acde48001122row6_col0\" class=\"data row6 col0\" >3,595.00</td>\n",
       "                        <td id=\"T_3be567a2_6bb8_11eb_8f8f_acde48001122row6_col1\" class=\"data row6 col1\" >27,547,494.34</td>\n",
       "                        <td id=\"T_3be567a2_6bb8_11eb_8f8f_acde48001122row6_col2\" class=\"data row6 col2\" >7,720.39</td>\n",
       "                        <td id=\"T_3be567a2_6bb8_11eb_8f8f_acde48001122row6_col3\" class=\"data row6 col3\" >3.24</td>\n",
       "            </tr>\n",
       "            <tr>\n",
       "                                <th id=\"T_3be567a2_6bb8_11eb_8f8f_acde48001122level1_row7\" class=\"row_heading level1 row7\" >True</th>\n",
       "                        <td id=\"T_3be567a2_6bb8_11eb_8f8f_acde48001122row7_col0\" class=\"data row7 col0\" >230.00</td>\n",
       "                        <td id=\"T_3be567a2_6bb8_11eb_8f8f_acde48001122row7_col1\" class=\"data row7 col1\" >-173,260.47</td>\n",
       "                        <td id=\"T_3be567a2_6bb8_11eb_8f8f_acde48001122row7_col2\" class=\"data row7 col2\" >-48.56</td>\n",
       "                        <td id=\"T_3be567a2_6bb8_11eb_8f8f_acde48001122row7_col3\" class=\"data row7 col3\" >-0.74</td>\n",
       "            </tr>\n",
       "            <tr>\n",
       "                        <th id=\"T_3be567a2_6bb8_11eb_8f8f_acde48001122level0_row8\" class=\"row_heading level0 row8\" rowspan=2>CR</th>\n",
       "                        <th id=\"T_3be567a2_6bb8_11eb_8f8f_acde48001122level1_row8\" class=\"row_heading level1 row8\" >False</th>\n",
       "                        <td id=\"T_3be567a2_6bb8_11eb_8f8f_acde48001122row8_col0\" class=\"data row8 col0\" >717.00</td>\n",
       "                        <td id=\"T_3be567a2_6bb8_11eb_8f8f_acde48001122row8_col1\" class=\"data row8 col1\" >265,643.46</td>\n",
       "                        <td id=\"T_3be567a2_6bb8_11eb_8f8f_acde48001122row8_col2\" class=\"data row8 col2\" >433.86</td>\n",
       "                        <td id=\"T_3be567a2_6bb8_11eb_8f8f_acde48001122row8_col3\" class=\"data row8 col3\" >1.50</td>\n",
       "            </tr>\n",
       "            <tr>\n",
       "                                <th id=\"T_3be567a2_6bb8_11eb_8f8f_acde48001122level1_row9\" class=\"row_heading level1 row9\" >True</th>\n",
       "                        <td id=\"T_3be567a2_6bb8_11eb_8f8f_acde48001122row9_col0\" class=\"data row9 col0\" >32.00</td>\n",
       "                        <td id=\"T_3be567a2_6bb8_11eb_8f8f_acde48001122row9_col1\" class=\"data row9 col1\" >2,688.60</td>\n",
       "                        <td id=\"T_3be567a2_6bb8_11eb_8f8f_acde48001122row9_col2\" class=\"data row9 col2\" >4.39</td>\n",
       "                        <td id=\"T_3be567a2_6bb8_11eb_8f8f_acde48001122row9_col3\" class=\"data row9 col3\" >0.38</td>\n",
       "            </tr>\n",
       "            <tr>\n",
       "                        <th id=\"T_3be567a2_6bb8_11eb_8f8f_acde48001122level0_row10\" class=\"row_heading level0 row10\" rowspan=2>MX</th>\n",
       "                        <th id=\"T_3be567a2_6bb8_11eb_8f8f_acde48001122level1_row10\" class=\"row_heading level1 row10\" >False</th>\n",
       "                        <td id=\"T_3be567a2_6bb8_11eb_8f8f_acde48001122row10_col0\" class=\"data row10 col0\" >110,164.00</td>\n",
       "                        <td id=\"T_3be567a2_6bb8_11eb_8f8f_acde48001122row10_col1\" class=\"data row10 col1\" >3,424,315.53</td>\n",
       "                        <td id=\"T_3be567a2_6bb8_11eb_8f8f_acde48001122row10_col2\" class=\"data row10 col2\" >170,422.03</td>\n",
       "                        <td id=\"T_3be567a2_6bb8_11eb_8f8f_acde48001122row10_col3\" class=\"data row10 col3\" >2.57</td>\n",
       "            </tr>\n",
       "            <tr>\n",
       "                                <th id=\"T_3be567a2_6bb8_11eb_8f8f_acde48001122level1_row11\" class=\"row_heading level1 row11\" >True</th>\n",
       "                        <td id=\"T_3be567a2_6bb8_11eb_8f8f_acde48001122row11_col0\" class=\"data row11 col0\" >7,776.00</td>\n",
       "                        <td id=\"T_3be567a2_6bb8_11eb_8f8f_acde48001122row11_col1\" class=\"data row11 col1\" >-17,960.27</td>\n",
       "                        <td id=\"T_3be567a2_6bb8_11eb_8f8f_acde48001122row11_col2\" class=\"data row11 col2\" >-893.85</td>\n",
       "                        <td id=\"T_3be567a2_6bb8_11eb_8f8f_acde48001122row11_col3\" class=\"data row11 col3\" >-0.40</td>\n",
       "            </tr>\n",
       "            <tr>\n",
       "                        <th id=\"T_3be567a2_6bb8_11eb_8f8f_acde48001122level0_row12\" class=\"row_heading level0 row12\" rowspan=2>PE</th>\n",
       "                        <th id=\"T_3be567a2_6bb8_11eb_8f8f_acde48001122level1_row12\" class=\"row_heading level1 row12\" >False</th>\n",
       "                        <td id=\"T_3be567a2_6bb8_11eb_8f8f_acde48001122row12_col0\" class=\"data row12 col0\" >13,617.00</td>\n",
       "                        <td id=\"T_3be567a2_6bb8_11eb_8f8f_acde48001122row12_col1\" class=\"data row12 col1\" >97,105.19</td>\n",
       "                        <td id=\"T_3be567a2_6bb8_11eb_8f8f_acde48001122row12_col2\" class=\"data row12 col2\" >26,662.60</td>\n",
       "                        <td id=\"T_3be567a2_6bb8_11eb_8f8f_acde48001122row12_col3\" class=\"data row12 col3\" >3.16</td>\n",
       "            </tr>\n",
       "            <tr>\n",
       "                                <th id=\"T_3be567a2_6bb8_11eb_8f8f_acde48001122level1_row13\" class=\"row_heading level1 row13\" >True</th>\n",
       "                        <td id=\"T_3be567a2_6bb8_11eb_8f8f_acde48001122row13_col0\" class=\"data row13 col0\" >1,328.00</td>\n",
       "                        <td id=\"T_3be567a2_6bb8_11eb_8f8f_acde48001122row13_col1\" class=\"data row13 col1\" >859.00</td>\n",
       "                        <td id=\"T_3be567a2_6bb8_11eb_8f8f_acde48001122row13_col2\" class=\"data row13 col2\" >235.86</td>\n",
       "                        <td id=\"T_3be567a2_6bb8_11eb_8f8f_acde48001122row13_col3\" class=\"data row13 col3\" >0.57</td>\n",
       "            </tr>\n",
       "            <tr>\n",
       "                        <th id=\"T_3be567a2_6bb8_11eb_8f8f_acde48001122level0_row14\" class=\"row_heading level0 row14\" rowspan=2>US</th>\n",
       "                        <th id=\"T_3be567a2_6bb8_11eb_8f8f_acde48001122level1_row14\" class=\"row_heading level1 row14\" >False</th>\n",
       "                        <td id=\"T_3be567a2_6bb8_11eb_8f8f_acde48001122row14_col0\" class=\"data row14 col0\" >6,983.00</td>\n",
       "                        <td id=\"T_3be567a2_6bb8_11eb_8f8f_acde48001122row14_col1\" class=\"data row14 col1\" >8,088.99</td>\n",
       "                        <td id=\"T_3be567a2_6bb8_11eb_8f8f_acde48001122row14_col2\" class=\"data row14 col2\" >8,088.99</td>\n",
       "                        <td id=\"T_3be567a2_6bb8_11eb_8f8f_acde48001122row14_col3\" class=\"data row14 col3\" >2.47</td>\n",
       "            </tr>\n",
       "            <tr>\n",
       "                                <th id=\"T_3be567a2_6bb8_11eb_8f8f_acde48001122level1_row15\" class=\"row_heading level1 row15\" >True</th>\n",
       "                        <td id=\"T_3be567a2_6bb8_11eb_8f8f_acde48001122row15_col0\" class=\"data row15 col0\" >1,016.00</td>\n",
       "                        <td id=\"T_3be567a2_6bb8_11eb_8f8f_acde48001122row15_col1\" class=\"data row15 col1\" >3.27</td>\n",
       "                        <td id=\"T_3be567a2_6bb8_11eb_8f8f_acde48001122row15_col2\" class=\"data row15 col2\" >3.27</td>\n",
       "                        <td id=\"T_3be567a2_6bb8_11eb_8f8f_acde48001122row15_col3\" class=\"data row15 col3\" >0.01</td>\n",
       "            </tr>\n",
       "    </tbody></table>"
      ],
      "text/plain": [
       "<pandas.io.formats.style.Styler at 0x7fce822b87c0>"
      ]
     },
     "metadata": {},
     "output_type": "display_data"
    }
   ],
   "source": [
    "#MARKUP BY SERVICE TYPE\n",
    "markup_by_service_type=markup_cs.groupby(['country','is_longtail']).agg({'products_charged_local':'sum','total_receipt_local':'sum','markup_local':'sum','markup_usd':'sum','orders':'sum'})\n",
    "markup_by_service_type['markup_pctg']=markup_by_service_type['markup_local']*100/markup_by_service_type['total_receipt_local']\n",
    "display(markup_by_service_type[['orders','markup_local','markup_usd','markup_pctg']].style.background_gradient(cmap='RdBu',subset=['markup_pctg']).format(\"{:,.2f}\"))\n",
    "\n",
    "#Exportar a excel\n",
    "markup_by_service_type.to_excel(output_path+'markup_by_service_type_'+str(week[0])+'.xlsx')"
   ]
  },
  {
   "cell_type": "code",
   "execution_count": 1072,
   "metadata": {},
   "outputs": [
    {
     "data": {
      "text/html": [
       "<div>\n",
       "<style scoped>\n",
       "    .dataframe tbody tr th:only-of-type {\n",
       "        vertical-align: middle;\n",
       "    }\n",
       "\n",
       "    .dataframe tbody tr th {\n",
       "        vertical-align: top;\n",
       "    }\n",
       "\n",
       "    .dataframe thead th {\n",
       "        text-align: right;\n",
       "    }\n",
       "</style>\n",
       "<table border=\"1\" class=\"dataframe\">\n",
       "  <thead>\n",
       "    <tr style=\"text-align: right;\">\n",
       "      <th></th>\n",
       "      <th></th>\n",
       "      <th>orders</th>\n",
       "      <th>markup_usd</th>\n",
       "      <th>markup_pctg</th>\n",
       "    </tr>\n",
       "    <tr>\n",
       "      <th>week</th>\n",
       "      <th>service_type</th>\n",
       "      <th></th>\n",
       "      <th></th>\n",
       "      <th></th>\n",
       "    </tr>\n",
       "  </thead>\n",
       "  <tbody>\n",
       "    <tr>\n",
       "      <th rowspan=\"2\" valign=\"top\">2021-05</th>\n",
       "      <th>Full service</th>\n",
       "      <td>318941</td>\n",
       "      <td>556,294.30</td>\n",
       "      <td>2.73</td>\n",
       "    </tr>\n",
       "    <tr>\n",
       "      <th>Self service</th>\n",
       "      <td>47358</td>\n",
       "      <td>826.56</td>\n",
       "      <td>0.05</td>\n",
       "    </tr>\n",
       "  </tbody>\n",
       "</table>\n",
       "</div>"
      ],
      "text/plain": [
       "                      orders  markup_usd  markup_pctg\n",
       "week    service_type                                 \n",
       "2021-05 Full service  318941  556,294.30         2.73\n",
       "        Self service   47358      826.56         0.05"
      ]
     },
     "metadata": {},
     "output_type": "display_data"
    }
   ],
   "source": [
    "#MARKUP TOTAL CS by service type\n",
    "markup_total_cs=markup_cs.groupby(['week','service_type']).agg({'products_charged_usd':'sum','total_receipt_usd':'sum','markup_usd':'sum','orders':'sum'})\n",
    "markup_total_cs['markup_pctg']=markup_total_cs['markup_usd']*100/markup_total_cs['total_receipt_usd']\n",
    "display(markup_total_cs[['orders','markup_usd','markup_pctg']])\n"
   ]
  },
  {
   "cell_type": "code",
   "execution_count": 1073,
   "metadata": {},
   "outputs": [
    {
     "data": {
      "text/html": [
       "<style  type=\"text/css\" >\n",
       "#T_3bedd342_6bb8_11eb_8f8f_acde48001122row0_col7,#T_3bedd342_6bb8_11eb_8f8f_acde48001122row3_col7{\n",
       "            background-color:  #fff5f0;\n",
       "            color:  #000000;\n",
       "        }#T_3bedd342_6bb8_11eb_8f8f_acde48001122row1_col7,#T_3bedd342_6bb8_11eb_8f8f_acde48001122row6_col7{\n",
       "            background-color:  #fee4d8;\n",
       "            color:  #000000;\n",
       "        }#T_3bedd342_6bb8_11eb_8f8f_acde48001122row2_col7{\n",
       "            background-color:  #fff1ea;\n",
       "            color:  #000000;\n",
       "        }#T_3bedd342_6bb8_11eb_8f8f_acde48001122row4_col7{\n",
       "            background-color:  #67000d;\n",
       "            color:  #f1f1f1;\n",
       "        }#T_3bedd342_6bb8_11eb_8f8f_acde48001122row5_col7{\n",
       "            background-color:  #fca588;\n",
       "            color:  #000000;\n",
       "        }#T_3bedd342_6bb8_11eb_8f8f_acde48001122row7_col7{\n",
       "            background-color:  #fff2ec;\n",
       "            color:  #000000;\n",
       "        }#T_3bedd342_6bb8_11eb_8f8f_acde48001122row8_col7{\n",
       "            background-color:  #fcc4ad;\n",
       "            color:  #000000;\n",
       "        }#T_3bedd342_6bb8_11eb_8f8f_acde48001122row9_col7{\n",
       "            background-color:  #fee7dc;\n",
       "            color:  #000000;\n",
       "        }</style><table id=\"T_3bedd342_6bb8_11eb_8f8f_acde48001122\" ><thead>    <tr>        <th class=\"blank level0\" ></th>        <th class=\"col_heading level0 col0\" >week</th>        <th class=\"col_heading level0 col1\" >country</th>        <th class=\"col_heading level0 col2\" >store</th>        <th class=\"col_heading level0 col3\" >service_type</th>        <th class=\"col_heading level0 col4\" >orders</th>        <th class=\"col_heading level0 col5\" >markup_local</th>        <th class=\"col_heading level0 col6\" >markup_usd</th>        <th class=\"col_heading level0 col7\" >markup_pctg</th>    </tr></thead><tbody>\n",
       "                <tr>\n",
       "                        <th id=\"T_3bedd342_6bb8_11eb_8f8f_acde48001122level0_row0\" class=\"row_heading level0 row0\" >1736</th>\n",
       "                        <td id=\"T_3bedd342_6bb8_11eb_8f8f_acde48001122row0_col0\" class=\"data row0 col0\" >2021-05</td>\n",
       "                        <td id=\"T_3bedd342_6bb8_11eb_8f8f_acde48001122row0_col1\" class=\"data row0 col1\" >CA</td>\n",
       "                        <td id=\"T_3bedd342_6bb8_11eb_8f8f_acde48001122row0_col2\" class=\"data row0 col2\" >Organic Garage</td>\n",
       "                        <td id=\"T_3bedd342_6bb8_11eb_8f8f_acde48001122row0_col3\" class=\"data row0 col3\" >Full service</td>\n",
       "                        <td id=\"T_3bedd342_6bb8_11eb_8f8f_acde48001122row0_col4\" class=\"data row0 col4\" >815</td>\n",
       "                        <td id=\"T_3bedd342_6bb8_11eb_8f8f_acde48001122row0_col5\" class=\"data row0 col5\" >-979.40</td>\n",
       "                        <td id=\"T_3bedd342_6bb8_11eb_8f8f_acde48001122row0_col6\" class=\"data row0 col6\" >-768.29</td>\n",
       "                        <td id=\"T_3bedd342_6bb8_11eb_8f8f_acde48001122row0_col7\" class=\"data row0 col7\" >-1.30</td>\n",
       "            </tr>\n",
       "            <tr>\n",
       "                        <th id=\"T_3bedd342_6bb8_11eb_8f8f_acde48001122level0_row1\" class=\"row_heading level0 row1\" >1407</th>\n",
       "                        <td id=\"T_3bedd342_6bb8_11eb_8f8f_acde48001122row1_col0\" class=\"data row1 col0\" >2021-05</td>\n",
       "                        <td id=\"T_3bedd342_6bb8_11eb_8f8f_acde48001122row1_col1\" class=\"data row1 col1\" >BR</td>\n",
       "                        <td id=\"T_3bedd342_6bb8_11eb_8f8f_acde48001122row1_col2\" class=\"data row1 col2\" >Cobasi</td>\n",
       "                        <td id=\"T_3bedd342_6bb8_11eb_8f8f_acde48001122row1_col3\" class=\"data row1 col3\" >Self service</td>\n",
       "                        <td id=\"T_3bedd342_6bb8_11eb_8f8f_acde48001122row1_col4\" class=\"data row1 col4\" >411</td>\n",
       "                        <td id=\"T_3bedd342_6bb8_11eb_8f8f_acde48001122row1_col5\" class=\"data row1 col5\" >-3,785.49</td>\n",
       "                        <td id=\"T_3bedd342_6bb8_11eb_8f8f_acde48001122row1_col6\" class=\"data row1 col6\" >-698.40</td>\n",
       "                        <td id=\"T_3bedd342_6bb8_11eb_8f8f_acde48001122row1_col7\" class=\"data row1 col7\" >-6.21</td>\n",
       "            </tr>\n",
       "            <tr>\n",
       "                        <th id=\"T_3bedd342_6bb8_11eb_8f8f_acde48001122level0_row2\" class=\"row_heading level0 row2\" >1989</th>\n",
       "                        <td id=\"T_3bedd342_6bb8_11eb_8f8f_acde48001122row2_col0\" class=\"data row2 col0\" >2021-05</td>\n",
       "                        <td id=\"T_3bedd342_6bb8_11eb_8f8f_acde48001122row2_col1\" class=\"data row2 col1\" >US</td>\n",
       "                        <td id=\"T_3bedd342_6bb8_11eb_8f8f_acde48001122row2_col2\" class=\"data row2 col2\" >Gristedes</td>\n",
       "                        <td id=\"T_3bedd342_6bb8_11eb_8f8f_acde48001122row2_col3\" class=\"data row2 col3\" >Full service</td>\n",
       "                        <td id=\"T_3bedd342_6bb8_11eb_8f8f_acde48001122row2_col4\" class=\"data row2 col4\" >356</td>\n",
       "                        <td id=\"T_3bedd342_6bb8_11eb_8f8f_acde48001122row2_col5\" class=\"data row2 col5\" >-581.20</td>\n",
       "                        <td id=\"T_3bedd342_6bb8_11eb_8f8f_acde48001122row2_col6\" class=\"data row2 col6\" >-581.20</td>\n",
       "                        <td id=\"T_3bedd342_6bb8_11eb_8f8f_acde48001122row2_col7\" class=\"data row2 col7\" >-2.56</td>\n",
       "            </tr>\n",
       "            <tr>\n",
       "                        <th id=\"T_3bedd342_6bb8_11eb_8f8f_acde48001122level0_row3\" class=\"row_heading level0 row3\" >0</th>\n",
       "                        <td id=\"T_3bedd342_6bb8_11eb_8f8f_acde48001122row3_col0\" class=\"data row3 col0\" >2021-05</td>\n",
       "                        <td id=\"T_3bedd342_6bb8_11eb_8f8f_acde48001122row3_col1\" class=\"data row3 col1\" >MX</td>\n",
       "                        <td id=\"T_3bedd342_6bb8_11eb_8f8f_acde48001122row3_col2\" class=\"data row3 col2\" >Carnes Ramos</td>\n",
       "                        <td id=\"T_3bedd342_6bb8_11eb_8f8f_acde48001122row3_col3\" class=\"data row3 col3\" >Self service</td>\n",
       "                        <td id=\"T_3bedd342_6bb8_11eb_8f8f_acde48001122row3_col4\" class=\"data row3 col4\" >901</td>\n",
       "                        <td id=\"T_3bedd342_6bb8_11eb_8f8f_acde48001122row3_col5\" class=\"data row3 col5\" >-8,186.78</td>\n",
       "                        <td id=\"T_3bedd342_6bb8_11eb_8f8f_acde48001122row3_col6\" class=\"data row3 col6\" >-407.44</td>\n",
       "                        <td id=\"T_3bedd342_6bb8_11eb_8f8f_acde48001122row3_col7\" class=\"data row3 col7\" >-1.34</td>\n",
       "            </tr>\n",
       "            <tr>\n",
       "                        <th id=\"T_3bedd342_6bb8_11eb_8f8f_acde48001122level0_row4\" class=\"row_heading level0 row4\" >1990</th>\n",
       "                        <td id=\"T_3bedd342_6bb8_11eb_8f8f_acde48001122row4_col0\" class=\"data row4 col0\" >2021-05</td>\n",
       "                        <td id=\"T_3bedd342_6bb8_11eb_8f8f_acde48001122row4_col1\" class=\"data row4 col1\" >US</td>\n",
       "                        <td id=\"T_3bedd342_6bb8_11eb_8f8f_acde48001122row4_col2\" class=\"data row4 col2\" >Sarah's Tent</td>\n",
       "                        <td id=\"T_3bedd342_6bb8_11eb_8f8f_acde48001122row4_col3\" class=\"data row4 col3\" >Self service</td>\n",
       "                        <td id=\"T_3bedd342_6bb8_11eb_8f8f_acde48001122row4_col4\" class=\"data row4 col4\" >9</td>\n",
       "                        <td id=\"T_3bedd342_6bb8_11eb_8f8f_acde48001122row4_col5\" class=\"data row4 col5\" >-267.05</td>\n",
       "                        <td id=\"T_3bedd342_6bb8_11eb_8f8f_acde48001122row4_col6\" class=\"data row4 col6\" >-267.05</td>\n",
       "                        <td id=\"T_3bedd342_6bb8_11eb_8f8f_acde48001122row4_col7\" class=\"data row4 col7\" >-48.35</td>\n",
       "            </tr>\n",
       "            <tr>\n",
       "                        <th id=\"T_3bedd342_6bb8_11eb_8f8f_acde48001122level0_row5\" class=\"row_heading level0 row5\" >1408</th>\n",
       "                        <td id=\"T_3bedd342_6bb8_11eb_8f8f_acde48001122row5_col0\" class=\"data row5 col0\" >2021-05</td>\n",
       "                        <td id=\"T_3bedd342_6bb8_11eb_8f8f_acde48001122row5_col1\" class=\"data row5 col1\" >BR</td>\n",
       "                        <td id=\"T_3bedd342_6bb8_11eb_8f8f_acde48001122row5_col2\" class=\"data row5 col2\" >Hippo</td>\n",
       "                        <td id=\"T_3bedd342_6bb8_11eb_8f8f_acde48001122row5_col3\" class=\"data row5 col3\" >Full service</td>\n",
       "                        <td id=\"T_3bedd342_6bb8_11eb_8f8f_acde48001122row5_col4\" class=\"data row5 col4\" >29</td>\n",
       "                        <td id=\"T_3bedd342_6bb8_11eb_8f8f_acde48001122row5_col5\" class=\"data row5 col5\" >-1,320.22</td>\n",
       "                        <td id=\"T_3bedd342_6bb8_11eb_8f8f_acde48001122row5_col6\" class=\"data row5 col6\" >-243.57</td>\n",
       "                        <td id=\"T_3bedd342_6bb8_11eb_8f8f_acde48001122row5_col7\" class=\"data row5 col7\" >-16.21</td>\n",
       "            </tr>\n",
       "            <tr>\n",
       "                        <th id=\"T_3bedd342_6bb8_11eb_8f8f_acde48001122level0_row6\" class=\"row_heading level0 row6\" >1410</th>\n",
       "                        <td id=\"T_3bedd342_6bb8_11eb_8f8f_acde48001122row6_col0\" class=\"data row6 col0\" >2021-05</td>\n",
       "                        <td id=\"T_3bedd342_6bb8_11eb_8f8f_acde48001122row6_col1\" class=\"data row6 col1\" >BR</td>\n",
       "                        <td id=\"T_3bedd342_6bb8_11eb_8f8f_acde48001122row6_col2\" class=\"data row6 col2\" >Akkí Atacadista</td>\n",
       "                        <td id=\"T_3bedd342_6bb8_11eb_8f8f_acde48001122row6_col3\" class=\"data row6 col3\" >Full service</td>\n",
       "                        <td id=\"T_3bedd342_6bb8_11eb_8f8f_acde48001122row6_col4\" class=\"data row6 col4\" >67</td>\n",
       "                        <td id=\"T_3bedd342_6bb8_11eb_8f8f_acde48001122row6_col5\" class=\"data row6 col5\" >-1,027.28</td>\n",
       "                        <td id=\"T_3bedd342_6bb8_11eb_8f8f_acde48001122row6_col6\" class=\"data row6 col6\" >-189.53</td>\n",
       "                        <td id=\"T_3bedd342_6bb8_11eb_8f8f_acde48001122row6_col7\" class=\"data row6 col7\" >-6.09</td>\n",
       "            </tr>\n",
       "            <tr>\n",
       "                        <th id=\"T_3bedd342_6bb8_11eb_8f8f_acde48001122level0_row7\" class=\"row_heading level0 row7\" >1411</th>\n",
       "                        <td id=\"T_3bedd342_6bb8_11eb_8f8f_acde48001122row7_col0\" class=\"data row7 col0\" >2021-05</td>\n",
       "                        <td id=\"T_3bedd342_6bb8_11eb_8f8f_acde48001122row7_col1\" class=\"data row7 col1\" >BR</td>\n",
       "                        <td id=\"T_3bedd342_6bb8_11eb_8f8f_acde48001122row7_col2\" class=\"data row7 col2\" >Supermercado Tatico</td>\n",
       "                        <td id=\"T_3bedd342_6bb8_11eb_8f8f_acde48001122row7_col3\" class=\"data row7 col3\" >Full service</td>\n",
       "                        <td id=\"T_3bedd342_6bb8_11eb_8f8f_acde48001122row7_col4\" class=\"data row7 col4\" >168</td>\n",
       "                        <td id=\"T_3bedd342_6bb8_11eb_8f8f_acde48001122row7_col5\" class=\"data row7 col5\" >-771.00</td>\n",
       "                        <td id=\"T_3bedd342_6bb8_11eb_8f8f_acde48001122row7_col6\" class=\"data row7 col6\" >-142.24</td>\n",
       "                        <td id=\"T_3bedd342_6bb8_11eb_8f8f_acde48001122row7_col7\" class=\"data row7 col7\" >-2.09</td>\n",
       "            </tr>\n",
       "            <tr>\n",
       "                        <th id=\"T_3bedd342_6bb8_11eb_8f8f_acde48001122level0_row8\" class=\"row_heading level0 row8\" >1</th>\n",
       "                        <td id=\"T_3bedd342_6bb8_11eb_8f8f_acde48001122row8_col0\" class=\"data row8 col0\" >2021-05</td>\n",
       "                        <td id=\"T_3bedd342_6bb8_11eb_8f8f_acde48001122row8_col1\" class=\"data row8 col1\" >MX</td>\n",
       "                        <td id=\"T_3bedd342_6bb8_11eb_8f8f_acde48001122row8_col2\" class=\"data row8 col2\" >La Castellana</td>\n",
       "                        <td id=\"T_3bedd342_6bb8_11eb_8f8f_acde48001122row8_col3\" class=\"data row8 col3\" >Self service</td>\n",
       "                        <td id=\"T_3bedd342_6bb8_11eb_8f8f_acde48001122row8_col4\" class=\"data row8 col4\" >17</td>\n",
       "                        <td id=\"T_3bedd342_6bb8_11eb_8f8f_acde48001122row8_col5\" class=\"data row8 col5\" >-2,730.37</td>\n",
       "                        <td id=\"T_3bedd342_6bb8_11eb_8f8f_acde48001122row8_col6\" class=\"data row8 col6\" >-135.89</td>\n",
       "                        <td id=\"T_3bedd342_6bb8_11eb_8f8f_acde48001122row8_col7\" class=\"data row8 col7\" >-11.70</td>\n",
       "            </tr>\n",
       "            <tr>\n",
       "                        <th id=\"T_3bedd342_6bb8_11eb_8f8f_acde48001122level0_row9\" class=\"row_heading level0 row9\" >457</th>\n",
       "                        <td id=\"T_3bedd342_6bb8_11eb_8f8f_acde48001122row9_col0\" class=\"data row9 col0\" >2021-05</td>\n",
       "                        <td id=\"T_3bedd342_6bb8_11eb_8f8f_acde48001122row9_col1\" class=\"data row9 col1\" >CL</td>\n",
       "                        <td id=\"T_3bedd342_6bb8_11eb_8f8f_acde48001122row9_col2\" class=\"data row9 col2\" >Mil sabores</td>\n",
       "                        <td id=\"T_3bedd342_6bb8_11eb_8f8f_acde48001122row9_col3\" class=\"data row9 col3\" >Self service</td>\n",
       "                        <td id=\"T_3bedd342_6bb8_11eb_8f8f_acde48001122row9_col4\" class=\"data row9 col4\" >47</td>\n",
       "                        <td id=\"T_3bedd342_6bb8_11eb_8f8f_acde48001122row9_col5\" class=\"data row9 col5\" >-86,756.00</td>\n",
       "                        <td id=\"T_3bedd342_6bb8_11eb_8f8f_acde48001122row9_col6\" class=\"data row9 col6\" >-118.31</td>\n",
       "                        <td id=\"T_3bedd342_6bb8_11eb_8f8f_acde48001122row9_col7\" class=\"data row9 col7\" >-5.33</td>\n",
       "            </tr>\n",
       "    </tbody></table>"
      ],
      "text/plain": [
       "<pandas.io.formats.style.Styler at 0x7fce81475fa0>"
      ]
     },
     "metadata": {},
     "output_type": "display_data"
    }
   ],
   "source": [
    "#TOP OFFENDERS MARKDOWN\n",
    "top_offenders=markup_cs.query('markup_pctg<-1').sort_values(by='markup_usd').iloc[0:10,:]\n",
    "display(top_offenders[['week','country','store','service_type','orders','markup_local','markup_usd','markup_pctg']].style.background_gradient(cmap='Reds_r',subset=['markup_pctg']).format(\"{:,.2f}\",subset=['markup_local','markup_usd','markup_pctg']))\n",
    "#Exportar a excel\n",
    "top_offenders.to_excel(output_path+'top_offenders_markdown_'+str(week[0])+'.xlsx')"
   ]
  },
  {
   "cell_type": "code",
   "execution_count": 1074,
   "metadata": {},
   "outputs": [
    {
     "data": {
      "text/html": [
       "<style  type=\"text/css\" >\n",
       "#T_3bf41bb2_6bb8_11eb_8f8f_acde48001122row0_col7{\n",
       "            background-color:  #94c4df;\n",
       "            color:  #000000;\n",
       "        }#T_3bf41bb2_6bb8_11eb_8f8f_acde48001122row1_col7{\n",
       "            background-color:  #08306b;\n",
       "            color:  #f1f1f1;\n",
       "        }#T_3bf41bb2_6bb8_11eb_8f8f_acde48001122row2_col7{\n",
       "            background-color:  #e7f0fa;\n",
       "            color:  #000000;\n",
       "        }#T_3bf41bb2_6bb8_11eb_8f8f_acde48001122row3_col7{\n",
       "            background-color:  #bcd7eb;\n",
       "            color:  #000000;\n",
       "        }#T_3bf41bb2_6bb8_11eb_8f8f_acde48001122row4_col7{\n",
       "            background-color:  #d6e6f4;\n",
       "            color:  #000000;\n",
       "        }#T_3bf41bb2_6bb8_11eb_8f8f_acde48001122row5_col7{\n",
       "            background-color:  #b2d2e8;\n",
       "            color:  #000000;\n",
       "        }#T_3bf41bb2_6bb8_11eb_8f8f_acde48001122row6_col7{\n",
       "            background-color:  #f7fbff;\n",
       "            color:  #000000;\n",
       "        }#T_3bf41bb2_6bb8_11eb_8f8f_acde48001122row7_col7{\n",
       "            background-color:  #c4daee;\n",
       "            color:  #000000;\n",
       "        }#T_3bf41bb2_6bb8_11eb_8f8f_acde48001122row8_col7{\n",
       "            background-color:  #f4f9fe;\n",
       "            color:  #000000;\n",
       "        }#T_3bf41bb2_6bb8_11eb_8f8f_acde48001122row9_col7{\n",
       "            background-color:  #66abd4;\n",
       "            color:  #000000;\n",
       "        }</style><table id=\"T_3bf41bb2_6bb8_11eb_8f8f_acde48001122\" ><thead>    <tr>        <th class=\"blank level0\" ></th>        <th class=\"col_heading level0 col0\" >week</th>        <th class=\"col_heading level0 col1\" >country</th>        <th class=\"col_heading level0 col2\" >store</th>        <th class=\"col_heading level0 col3\" >service_type</th>        <th class=\"col_heading level0 col4\" >orders</th>        <th class=\"col_heading level0 col5\" >markup_local</th>        <th class=\"col_heading level0 col6\" >markup_usd</th>        <th class=\"col_heading level0 col7\" >markup_pctg</th>    </tr></thead><tbody>\n",
       "                <tr>\n",
       "                        <th id=\"T_3bf41bb2_6bb8_11eb_8f8f_acde48001122level0_row0\" class=\"row_heading level0 row0\" >1406</th>\n",
       "                        <td id=\"T_3bf41bb2_6bb8_11eb_8f8f_acde48001122row0_col0\" class=\"data row0 col0\" >2021-05</td>\n",
       "                        <td id=\"T_3bf41bb2_6bb8_11eb_8f8f_acde48001122row0_col1\" class=\"data row0 col1\" >CL</td>\n",
       "                        <td id=\"T_3bf41bb2_6bb8_11eb_8f8f_acde48001122row0_col2\" class=\"data row0 col2\" >Jumbo</td>\n",
       "                        <td id=\"T_3bf41bb2_6bb8_11eb_8f8f_acde48001122row0_col3\" class=\"data row0 col3\" >Full service</td>\n",
       "                        <td id=\"T_3bf41bb2_6bb8_11eb_8f8f_acde48001122row0_col4\" class=\"data row0 col4\" >71657</td>\n",
       "                        <td id=\"T_3bf41bb2_6bb8_11eb_8f8f_acde48001122row0_col5\" class=\"data row0 col5\" >183,808,259.74</td>\n",
       "                        <td id=\"T_3bf41bb2_6bb8_11eb_8f8f_acde48001122row0_col6\" class=\"data row0 col6\" >250,658.61</td>\n",
       "                        <td id=\"T_3bf41bb2_6bb8_11eb_8f8f_acde48001122row0_col7\" class=\"data row0 col7\" >3.83</td>\n",
       "            </tr>\n",
       "            <tr>\n",
       "                        <th id=\"T_3bf41bb2_6bb8_11eb_8f8f_acde48001122level0_row1\" class=\"row_heading level0 row1\" >456</th>\n",
       "                        <td id=\"T_3bf41bb2_6bb8_11eb_8f8f_acde48001122row1_col0\" class=\"data row1 col0\" >2021-05</td>\n",
       "                        <td id=\"T_3bf41bb2_6bb8_11eb_8f8f_acde48001122row1_col1\" class=\"data row1 col1\" >MX</td>\n",
       "                        <td id=\"T_3bf41bb2_6bb8_11eb_8f8f_acde48001122row1_col2\" class=\"data row1 col2\" >HEB</td>\n",
       "                        <td id=\"T_3bf41bb2_6bb8_11eb_8f8f_acde48001122row1_col3\" class=\"data row1 col3\" >Full service</td>\n",
       "                        <td id=\"T_3bf41bb2_6bb8_11eb_8f8f_acde48001122row1_col4\" class=\"data row1 col4\" >19500</td>\n",
       "                        <td id=\"T_3bf41bb2_6bb8_11eb_8f8f_acde48001122row1_col5\" class=\"data row1 col5\" >1,945,757.48</td>\n",
       "                        <td id=\"T_3bf41bb2_6bb8_11eb_8f8f_acde48001122row1_col6\" class=\"data row1 col6\" >96,836.85</td>\n",
       "                        <td id=\"T_3bf41bb2_6bb8_11eb_8f8f_acde48001122row1_col7\" class=\"data row1 col7\" >7.65</td>\n",
       "            </tr>\n",
       "            <tr>\n",
       "                        <th id=\"T_3bf41bb2_6bb8_11eb_8f8f_acde48001122level0_row2\" class=\"row_heading level0 row2\" >455</th>\n",
       "                        <td id=\"T_3bf41bb2_6bb8_11eb_8f8f_acde48001122row2_col0\" class=\"data row2 col0\" >2021-05</td>\n",
       "                        <td id=\"T_3bf41bb2_6bb8_11eb_8f8f_acde48001122row2_col1\" class=\"data row2 col1\" >MX</td>\n",
       "                        <td id=\"T_3bf41bb2_6bb8_11eb_8f8f_acde48001122row2_col2\" class=\"data row2 col2\" >Chedraui</td>\n",
       "                        <td id=\"T_3bf41bb2_6bb8_11eb_8f8f_acde48001122row2_col3\" class=\"data row2 col3\" >Full service</td>\n",
       "                        <td id=\"T_3bf41bb2_6bb8_11eb_8f8f_acde48001122row2_col4\" class=\"data row2 col4\" >29349</td>\n",
       "                        <td id=\"T_3bf41bb2_6bb8_11eb_8f8f_acde48001122row2_col5\" class=\"data row2 col5\" >636,660.49</td>\n",
       "                        <td id=\"T_3bf41bb2_6bb8_11eb_8f8f_acde48001122row2_col6\" class=\"data row2 col6\" >31,685.45</td>\n",
       "                        <td id=\"T_3bf41bb2_6bb8_11eb_8f8f_acde48001122row2_col7\" class=\"data row2 col7\" >1.81</td>\n",
       "            </tr>\n",
       "            <tr>\n",
       "                        <th id=\"T_3bf41bb2_6bb8_11eb_8f8f_acde48001122level0_row3\" class=\"row_heading level0 row3\" >1801</th>\n",
       "                        <td id=\"T_3bf41bb2_6bb8_11eb_8f8f_acde48001122row3_col0\" class=\"data row3 col0\" >2021-05</td>\n",
       "                        <td id=\"T_3bf41bb2_6bb8_11eb_8f8f_acde48001122row3_col1\" class=\"data row3 col1\" >CA</td>\n",
       "                        <td id=\"T_3bf41bb2_6bb8_11eb_8f8f_acde48001122row3_col2\" class=\"data row3 col2\" >Metro</td>\n",
       "                        <td id=\"T_3bf41bb2_6bb8_11eb_8f8f_acde48001122row3_col3\" class=\"data row3 col3\" >Full service</td>\n",
       "                        <td id=\"T_3bf41bb2_6bb8_11eb_8f8f_acde48001122row3_col4\" class=\"data row3 col4\" >11875</td>\n",
       "                        <td id=\"T_3bf41bb2_6bb8_11eb_8f8f_acde48001122row3_col5\" class=\"data row3 col5\" >27,453.37</td>\n",
       "                        <td id=\"T_3bf41bb2_6bb8_11eb_8f8f_acde48001122row3_col6\" class=\"data row3 col6\" >21,535.76</td>\n",
       "                        <td id=\"T_3bf41bb2_6bb8_11eb_8f8f_acde48001122row3_col7\" class=\"data row3 col7\" >3.07</td>\n",
       "            </tr>\n",
       "            <tr>\n",
       "                        <th id=\"T_3bf41bb2_6bb8_11eb_8f8f_acde48001122level0_row4\" class=\"row_heading level0 row4\" >1405</th>\n",
       "                        <td id=\"T_3bf41bb2_6bb8_11eb_8f8f_acde48001122row4_col0\" class=\"data row4 col0\" >2021-05</td>\n",
       "                        <td id=\"T_3bf41bb2_6bb8_11eb_8f8f_acde48001122row4_col1\" class=\"data row4 col1\" >CL</td>\n",
       "                        <td id=\"T_3bf41bb2_6bb8_11eb_8f8f_acde48001122row4_col2\" class=\"data row4 col2\" >Lider</td>\n",
       "                        <td id=\"T_3bf41bb2_6bb8_11eb_8f8f_acde48001122row4_col3\" class=\"data row4 col3\" >Full service</td>\n",
       "                        <td id=\"T_3bf41bb2_6bb8_11eb_8f8f_acde48001122row4_col4\" class=\"data row4 col4\" >10926</td>\n",
       "                        <td id=\"T_3bf41bb2_6bb8_11eb_8f8f_acde48001122row4_col5\" class=\"data row4 col5\" >12,829,880.40</td>\n",
       "                        <td id=\"T_3bf41bb2_6bb8_11eb_8f8f_acde48001122row4_col6\" class=\"data row4 col6\" >17,496.06</td>\n",
       "                        <td id=\"T_3bf41bb2_6bb8_11eb_8f8f_acde48001122row4_col7\" class=\"data row4 col7\" >2.32</td>\n",
       "            </tr>\n",
       "            <tr>\n",
       "                        <th id=\"T_3bf41bb2_6bb8_11eb_8f8f_acde48001122level0_row5\" class=\"row_heading level0 row5\" >1964</th>\n",
       "                        <td id=\"T_3bf41bb2_6bb8_11eb_8f8f_acde48001122row5_col0\" class=\"data row5 col0\" >2021-05</td>\n",
       "                        <td id=\"T_3bf41bb2_6bb8_11eb_8f8f_acde48001122row5_col1\" class=\"data row5 col1\" >PE</td>\n",
       "                        <td id=\"T_3bf41bb2_6bb8_11eb_8f8f_acde48001122row5_col2\" class=\"data row5 col2\" >Wong</td>\n",
       "                        <td id=\"T_3bf41bb2_6bb8_11eb_8f8f_acde48001122row5_col3\" class=\"data row5 col3\" >Full service</td>\n",
       "                        <td id=\"T_3bf41bb2_6bb8_11eb_8f8f_acde48001122row5_col4\" class=\"data row5 col4\" >7092</td>\n",
       "                        <td id=\"T_3bf41bb2_6bb8_11eb_8f8f_acde48001122row5_col5\" class=\"data row5 col5\" >57,422.63</td>\n",
       "                        <td id=\"T_3bf41bb2_6bb8_11eb_8f8f_acde48001122row5_col6\" class=\"data row5 col6\" >15,766.79</td>\n",
       "                        <td id=\"T_3bf41bb2_6bb8_11eb_8f8f_acde48001122row5_col7\" class=\"data row5 col7\" >3.27</td>\n",
       "            </tr>\n",
       "            <tr>\n",
       "                        <th id=\"T_3bf41bb2_6bb8_11eb_8f8f_acde48001122level0_row6\" class=\"row_heading level0 row6\" >454</th>\n",
       "                        <td id=\"T_3bf41bb2_6bb8_11eb_8f8f_acde48001122row6_col0\" class=\"data row6 col0\" >2021-05</td>\n",
       "                        <td id=\"T_3bf41bb2_6bb8_11eb_8f8f_acde48001122row6_col1\" class=\"data row6 col1\" >MX</td>\n",
       "                        <td id=\"T_3bf41bb2_6bb8_11eb_8f8f_acde48001122row6_col2\" class=\"data row6 col2\" >Costco</td>\n",
       "                        <td id=\"T_3bf41bb2_6bb8_11eb_8f8f_acde48001122row6_col3\" class=\"data row6 col3\" >Full service</td>\n",
       "                        <td id=\"T_3bf41bb2_6bb8_11eb_8f8f_acde48001122row6_col4\" class=\"data row6 col4\" >15973</td>\n",
       "                        <td id=\"T_3bf41bb2_6bb8_11eb_8f8f_acde48001122row6_col5\" class=\"data row6 col5\" >315,666.09</td>\n",
       "                        <td id=\"T_3bf41bb2_6bb8_11eb_8f8f_acde48001122row6_col6\" class=\"data row6 col6\" >15,710.13</td>\n",
       "                        <td id=\"T_3bf41bb2_6bb8_11eb_8f8f_acde48001122row6_col7\" class=\"data row6 col7\" >1.27</td>\n",
       "            </tr>\n",
       "            <tr>\n",
       "                        <th id=\"T_3bf41bb2_6bb8_11eb_8f8f_acde48001122level0_row7\" class=\"row_heading level0 row7\" >453</th>\n",
       "                        <td id=\"T_3bf41bb2_6bb8_11eb_8f8f_acde48001122row7_col0\" class=\"data row7 col0\" >2021-05</td>\n",
       "                        <td id=\"T_3bf41bb2_6bb8_11eb_8f8f_acde48001122row7_col1\" class=\"data row7 col1\" >MX</td>\n",
       "                        <td id=\"T_3bf41bb2_6bb8_11eb_8f8f_acde48001122row7_col2\" class=\"data row7 col2\" >Soriana</td>\n",
       "                        <td id=\"T_3bf41bb2_6bb8_11eb_8f8f_acde48001122row7_col3\" class=\"data row7 col3\" >Full service</td>\n",
       "                        <td id=\"T_3bf41bb2_6bb8_11eb_8f8f_acde48001122row7_col4\" class=\"data row7 col4\" >11187</td>\n",
       "                        <td id=\"T_3bf41bb2_6bb8_11eb_8f8f_acde48001122row7_col5\" class=\"data row7 col5\" >313,081.75</td>\n",
       "                        <td id=\"T_3bf41bb2_6bb8_11eb_8f8f_acde48001122row7_col6\" class=\"data row7 col6\" >15,581.52</td>\n",
       "                        <td id=\"T_3bf41bb2_6bb8_11eb_8f8f_acde48001122row7_col7\" class=\"data row7 col7\" >2.90</td>\n",
       "            </tr>\n",
       "            <tr>\n",
       "                        <th id=\"T_3bf41bb2_6bb8_11eb_8f8f_acde48001122level0_row8\" class=\"row_heading level0 row8\" >1735</th>\n",
       "                        <td id=\"T_3bf41bb2_6bb8_11eb_8f8f_acde48001122row8_col0\" class=\"data row8 col0\" >2021-05</td>\n",
       "                        <td id=\"T_3bf41bb2_6bb8_11eb_8f8f_acde48001122row8_col1\" class=\"data row8 col1\" >BR</td>\n",
       "                        <td id=\"T_3bf41bb2_6bb8_11eb_8f8f_acde48001122row8_col2\" class=\"data row8 col2\" >Carrefour Hiper</td>\n",
       "                        <td id=\"T_3bf41bb2_6bb8_11eb_8f8f_acde48001122row8_col3\" class=\"data row8 col3\" >Full service</td>\n",
       "                        <td id=\"T_3bf41bb2_6bb8_11eb_8f8f_acde48001122row8_col4\" class=\"data row8 col4\" >13394</td>\n",
       "                        <td id=\"T_3bf41bb2_6bb8_11eb_8f8f_acde48001122row8_col5\" class=\"data row8 col5\" >42,117.17</td>\n",
       "                        <td id=\"T_3bf41bb2_6bb8_11eb_8f8f_acde48001122row8_col6\" class=\"data row8 col6\" >7,770.32</td>\n",
       "                        <td id=\"T_3bf41bb2_6bb8_11eb_8f8f_acde48001122row8_col7\" class=\"data row8 col7\" >1.37</td>\n",
       "            </tr>\n",
       "            <tr>\n",
       "                        <th id=\"T_3bf41bb2_6bb8_11eb_8f8f_acde48001122level0_row9\" class=\"row_heading level0 row9\" >1799</th>\n",
       "                        <td id=\"T_3bf41bb2_6bb8_11eb_8f8f_acde48001122row9_col0\" class=\"data row9 col0\" >2021-05</td>\n",
       "                        <td id=\"T_3bf41bb2_6bb8_11eb_8f8f_acde48001122row9_col1\" class=\"data row9 col1\" >CA</td>\n",
       "                        <td id=\"T_3bf41bb2_6bb8_11eb_8f8f_acde48001122row9_col2\" class=\"data row9 col2\" >Longo's</td>\n",
       "                        <td id=\"T_3bf41bb2_6bb8_11eb_8f8f_acde48001122row9_col3\" class=\"data row9 col3\" >Full service</td>\n",
       "                        <td id=\"T_3bf41bb2_6bb8_11eb_8f8f_acde48001122row9_col4\" class=\"data row9 col4\" >2078</td>\n",
       "                        <td id=\"T_3bf41bb2_6bb8_11eb_8f8f_acde48001122row9_col5\" class=\"data row9 col5\" >7,149.43</td>\n",
       "                        <td id=\"T_3bf41bb2_6bb8_11eb_8f8f_acde48001122row9_col6\" class=\"data row9 col6\" >5,608.36</td>\n",
       "                        <td id=\"T_3bf41bb2_6bb8_11eb_8f8f_acde48001122row9_col7\" class=\"data row9 col7\" >4.55</td>\n",
       "            </tr>\n",
       "    </tbody></table>"
      ],
      "text/plain": [
       "<pandas.io.formats.style.Styler at 0x7fce74080d00>"
      ]
     },
     "metadata": {},
     "output_type": "display_data"
    }
   ],
   "source": [
    "#TOP OFFENDERS MARKUP\n",
    "top_offenders=markup_cs.query('markup_pctg>1').sort_values(by='markup_usd',ascending=False).iloc[0:10,:]\n",
    "display(top_offenders[['week','country','store','service_type','orders','markup_local','markup_usd','markup_pctg']].style.background_gradient(cmap='Blues',subset=['markup_pctg']).format(\"{:,.2f}\",subset=['markup_local','markup_usd','markup_pctg']))\n",
    "\n",
    "#Exportar a excel\n",
    "top_offenders.to_excel(output_path+'top_offenders_markup_'+str(week[0])+'.xlsx')"
   ]
  },
  {
   "cell_type": "code",
   "execution_count": 1075,
   "metadata": {},
   "outputs": [
    {
     "data": {
      "text/html": [
       "<style  type=\"text/css\" >\n",
       "#T_3bfb434c_6bb8_11eb_8f8f_acde48001122row0_col0,#T_3bfb434c_6bb8_11eb_8f8f_acde48001122row7_col0{\n",
       "            background-color:  #f8f8f8;\n",
       "            color:  #000000;\n",
       "        }#T_3bfb434c_6bb8_11eb_8f8f_acde48001122row0_col1{\n",
       "            background-color:  #e7e7e7;\n",
       "            color:  #000000;\n",
       "        }#T_3bfb434c_6bb8_11eb_8f8f_acde48001122row0_col2,#T_3bfb434c_6bb8_11eb_8f8f_acde48001122row7_col1,#T_3bfb434c_6bb8_11eb_8f8f_acde48001122row10_col0{\n",
       "            background-color:  #fbfbfb;\n",
       "            color:  #000000;\n",
       "        }#T_3bfb434c_6bb8_11eb_8f8f_acde48001122row1_col0,#T_3bfb434c_6bb8_11eb_8f8f_acde48001122row1_col1{\n",
       "            background-color:  #484848;\n",
       "            color:  #f1f1f1;\n",
       "        }#T_3bfb434c_6bb8_11eb_8f8f_acde48001122row1_col2{\n",
       "            background-color:  #e1e1e1;\n",
       "            color:  #000000;\n",
       "        }#T_3bfb434c_6bb8_11eb_8f8f_acde48001122row2_col0,#T_3bfb434c_6bb8_11eb_8f8f_acde48001122row6_col0,#T_3bfb434c_6bb8_11eb_8f8f_acde48001122row8_col0,#T_3bfb434c_6bb8_11eb_8f8f_acde48001122row14_col0{\n",
       "            background-color:  #fcfcfc;\n",
       "            color:  #000000;\n",
       "        }#T_3bfb434c_6bb8_11eb_8f8f_acde48001122row2_col1,#T_3bfb434c_6bb8_11eb_8f8f_acde48001122row3_col0,#T_3bfb434c_6bb8_11eb_8f8f_acde48001122row4_col1{\n",
       "            background-color:  #efefef;\n",
       "            color:  #000000;\n",
       "        }#T_3bfb434c_6bb8_11eb_8f8f_acde48001122row2_col2,#T_3bfb434c_6bb8_11eb_8f8f_acde48001122row4_col0,#T_3bfb434c_6bb8_11eb_8f8f_acde48001122row4_col2,#T_3bfb434c_6bb8_11eb_8f8f_acde48001122row6_col2,#T_3bfb434c_6bb8_11eb_8f8f_acde48001122row8_col2,#T_3bfb434c_6bb8_11eb_8f8f_acde48001122row9_col0,#T_3bfb434c_6bb8_11eb_8f8f_acde48001122row9_col1,#T_3bfb434c_6bb8_11eb_8f8f_acde48001122row12_col0,#T_3bfb434c_6bb8_11eb_8f8f_acde48001122row12_col2,#T_3bfb434c_6bb8_11eb_8f8f_acde48001122row14_col2{\n",
       "            background-color:  #ffffff;\n",
       "            color:  #000000;\n",
       "        }#T_3bfb434c_6bb8_11eb_8f8f_acde48001122row3_col1{\n",
       "            background-color:  #d0d0d0;\n",
       "            color:  #000000;\n",
       "        }#T_3bfb434c_6bb8_11eb_8f8f_acde48001122row3_col2,#T_3bfb434c_6bb8_11eb_8f8f_acde48001122row10_col2{\n",
       "            background-color:  #fdfdfd;\n",
       "            color:  #000000;\n",
       "        }#T_3bfb434c_6bb8_11eb_8f8f_acde48001122row5_col0{\n",
       "            background-color:  #616161;\n",
       "            color:  #f1f1f1;\n",
       "        }#T_3bfb434c_6bb8_11eb_8f8f_acde48001122row5_col1,#T_3bfb434c_6bb8_11eb_8f8f_acde48001122row5_col2,#T_3bfb434c_6bb8_11eb_8f8f_acde48001122row11_col0{\n",
       "            background-color:  #000000;\n",
       "            color:  #f1f1f1;\n",
       "        }#T_3bfb434c_6bb8_11eb_8f8f_acde48001122row6_col1{\n",
       "            background-color:  #f6f6f6;\n",
       "            color:  #000000;\n",
       "        }#T_3bfb434c_6bb8_11eb_8f8f_acde48001122row7_col2{\n",
       "            background-color:  #fafafa;\n",
       "            color:  #000000;\n",
       "        }#T_3bfb434c_6bb8_11eb_8f8f_acde48001122row8_col1{\n",
       "            background-color:  #f9f9f9;\n",
       "            color:  #000000;\n",
       "        }#T_3bfb434c_6bb8_11eb_8f8f_acde48001122row9_col2{\n",
       "            background-color:  #fefefe;\n",
       "            color:  #000000;\n",
       "        }#T_3bfb434c_6bb8_11eb_8f8f_acde48001122row10_col1{\n",
       "            background-color:  #dbdbdb;\n",
       "            color:  #000000;\n",
       "        }#T_3bfb434c_6bb8_11eb_8f8f_acde48001122row11_col1{\n",
       "            background-color:  #585858;\n",
       "            color:  #f1f1f1;\n",
       "        }#T_3bfb434c_6bb8_11eb_8f8f_acde48001122row11_col2{\n",
       "            background-color:  #c3c3c3;\n",
       "            color:  #000000;\n",
       "        }#T_3bfb434c_6bb8_11eb_8f8f_acde48001122row12_col1,#T_3bfb434c_6bb8_11eb_8f8f_acde48001122row13_col0{\n",
       "            background-color:  #f4f4f4;\n",
       "            color:  #000000;\n",
       "        }#T_3bfb434c_6bb8_11eb_8f8f_acde48001122row13_col1{\n",
       "            background-color:  #f7f7f7;\n",
       "            color:  #000000;\n",
       "        }#T_3bfb434c_6bb8_11eb_8f8f_acde48001122row13_col2,#T_3bfb434c_6bb8_11eb_8f8f_acde48001122row15_col2{\n",
       "            background-color:  #f3f3f3;\n",
       "            color:  #000000;\n",
       "        }#T_3bfb434c_6bb8_11eb_8f8f_acde48001122row14_col1{\n",
       "            background-color:  #f2f2f2;\n",
       "            color:  #000000;\n",
       "        }#T_3bfb434c_6bb8_11eb_8f8f_acde48001122row15_col0{\n",
       "            background-color:  #949494;\n",
       "            color:  #000000;\n",
       "        }#T_3bfb434c_6bb8_11eb_8f8f_acde48001122row15_col1{\n",
       "            background-color:  #848484;\n",
       "            color:  #000000;\n",
       "        }</style><table id=\"T_3bfb434c_6bb8_11eb_8f8f_acde48001122\" ><thead>    <tr>        <th class=\"blank\" ></th>        <th class=\"index_name level0\" >markup_kind</th>        <th class=\"col_heading level0 col0\" >markdown</th>        <th class=\"col_heading level0 col1\" >markup</th>        <th class=\"col_heading level0 col2\" >no markup</th>    </tr>    <tr>        <th class=\"index_name level0\" >country</th>        <th class=\"index_name level1\" >service_type</th>        <th class=\"blank\" ></th>        <th class=\"blank\" ></th>        <th class=\"blank\" ></th>    </tr></thead><tbody>\n",
       "                <tr>\n",
       "                        <th id=\"T_3bfb434c_6bb8_11eb_8f8f_acde48001122level0_row0\" class=\"row_heading level0 row0\" rowspan=2>BR</th>\n",
       "                        <th id=\"T_3bfb434c_6bb8_11eb_8f8f_acde48001122level1_row0\" class=\"row_heading level1 row0\" >Full service</th>\n",
       "                        <td id=\"T_3bfb434c_6bb8_11eb_8f8f_acde48001122row0_col0\" class=\"data row0 col0\" >5</td>\n",
       "                        <td id=\"T_3bfb434c_6bb8_11eb_8f8f_acde48001122row0_col1\" class=\"data row0 col1\" >12</td>\n",
       "                        <td id=\"T_3bfb434c_6bb8_11eb_8f8f_acde48001122row0_col2\" class=\"data row0 col2\" >28</td>\n",
       "            </tr>\n",
       "            <tr>\n",
       "                                <th id=\"T_3bfb434c_6bb8_11eb_8f8f_acde48001122level1_row1\" class=\"row_heading level1 row1\" >Self service</th>\n",
       "                        <td id=\"T_3bfb434c_6bb8_11eb_8f8f_acde48001122row1_col0\" class=\"data row1 col0\" >66</td>\n",
       "                        <td id=\"T_3bfb434c_6bb8_11eb_8f8f_acde48001122row1_col1\" class=\"data row1 col1\" >49</td>\n",
       "                        <td id=\"T_3bfb434c_6bb8_11eb_8f8f_acde48001122row1_col2\" class=\"data row1 col2\" >169</td>\n",
       "            </tr>\n",
       "            <tr>\n",
       "                        <th id=\"T_3bfb434c_6bb8_11eb_8f8f_acde48001122level0_row2\" class=\"row_heading level0 row2\" rowspan=2>CA</th>\n",
       "                        <th id=\"T_3bfb434c_6bb8_11eb_8f8f_acde48001122level1_row2\" class=\"row_heading level1 row2\" >Full service</th>\n",
       "                        <td id=\"T_3bfb434c_6bb8_11eb_8f8f_acde48001122row2_col0\" class=\"data row2 col0\" >2</td>\n",
       "                        <td id=\"T_3bfb434c_6bb8_11eb_8f8f_acde48001122row2_col1\" class=\"data row2 col1\" >9</td>\n",
       "                        <td id=\"T_3bfb434c_6bb8_11eb_8f8f_acde48001122row2_col2\" class=\"data row2 col2\" >5</td>\n",
       "            </tr>\n",
       "            <tr>\n",
       "                                <th id=\"T_3bfb434c_6bb8_11eb_8f8f_acde48001122level1_row3\" class=\"row_heading level1 row3\" >Self service</th>\n",
       "                        <td id=\"T_3bfb434c_6bb8_11eb_8f8f_acde48001122row3_col0\" class=\"data row3 col0\" >11</td>\n",
       "                        <td id=\"T_3bfb434c_6bb8_11eb_8f8f_acde48001122row3_col1\" class=\"data row3 col1\" >19</td>\n",
       "                        <td id=\"T_3bfb434c_6bb8_11eb_8f8f_acde48001122row3_col2\" class=\"data row3 col2\" >20</td>\n",
       "            </tr>\n",
       "            <tr>\n",
       "                        <th id=\"T_3bfb434c_6bb8_11eb_8f8f_acde48001122level0_row4\" class=\"row_heading level0 row4\" rowspan=2>CL</th>\n",
       "                        <th id=\"T_3bfb434c_6bb8_11eb_8f8f_acde48001122level1_row4\" class=\"row_heading level1 row4\" >Full service</th>\n",
       "                        <td id=\"T_3bfb434c_6bb8_11eb_8f8f_acde48001122row4_col0\" class=\"data row4 col0\" >0</td>\n",
       "                        <td id=\"T_3bfb434c_6bb8_11eb_8f8f_acde48001122row4_col1\" class=\"data row4 col1\" >9</td>\n",
       "                        <td id=\"T_3bfb434c_6bb8_11eb_8f8f_acde48001122row4_col2\" class=\"data row4 col2\" >2</td>\n",
       "            </tr>\n",
       "            <tr>\n",
       "                                <th id=\"T_3bfb434c_6bb8_11eb_8f8f_acde48001122level1_row5\" class=\"row_heading level1 row5\" >Self service</th>\n",
       "                        <td id=\"T_3bfb434c_6bb8_11eb_8f8f_acde48001122row5_col0\" class=\"data row5 col0\" >59</td>\n",
       "                        <td id=\"T_3bfb434c_6bb8_11eb_8f8f_acde48001122row5_col1\" class=\"data row5 col1\" >63</td>\n",
       "                        <td id=\"T_3bfb434c_6bb8_11eb_8f8f_acde48001122row5_col2\" class=\"data row5 col2\" >817</td>\n",
       "            </tr>\n",
       "            <tr>\n",
       "                        <th id=\"T_3bfb434c_6bb8_11eb_8f8f_acde48001122level0_row6\" class=\"row_heading level0 row6\" rowspan=2>CO</th>\n",
       "                        <th id=\"T_3bfb434c_6bb8_11eb_8f8f_acde48001122level1_row6\" class=\"row_heading level1 row6\" >Full service</th>\n",
       "                        <td id=\"T_3bfb434c_6bb8_11eb_8f8f_acde48001122row6_col0\" class=\"data row6 col0\" >2</td>\n",
       "                        <td id=\"T_3bfb434c_6bb8_11eb_8f8f_acde48001122row6_col1\" class=\"data row6 col1\" >6</td>\n",
       "                        <td id=\"T_3bfb434c_6bb8_11eb_8f8f_acde48001122row6_col2\" class=\"data row6 col2\" >4</td>\n",
       "            </tr>\n",
       "            <tr>\n",
       "                                <th id=\"T_3bfb434c_6bb8_11eb_8f8f_acde48001122level1_row7\" class=\"row_heading level1 row7\" >Self service</th>\n",
       "                        <td id=\"T_3bfb434c_6bb8_11eb_8f8f_acde48001122row7_col0\" class=\"data row7 col0\" >5</td>\n",
       "                        <td id=\"T_3bfb434c_6bb8_11eb_8f8f_acde48001122row7_col1\" class=\"data row7 col1\" >3</td>\n",
       "                        <td id=\"T_3bfb434c_6bb8_11eb_8f8f_acde48001122row7_col2\" class=\"data row7 col2\" >36</td>\n",
       "            </tr>\n",
       "            <tr>\n",
       "                        <th id=\"T_3bfb434c_6bb8_11eb_8f8f_acde48001122level0_row8\" class=\"row_heading level0 row8\" rowspan=2>CR</th>\n",
       "                        <th id=\"T_3bfb434c_6bb8_11eb_8f8f_acde48001122level1_row8\" class=\"row_heading level1 row8\" >Full service</th>\n",
       "                        <td id=\"T_3bfb434c_6bb8_11eb_8f8f_acde48001122row8_col0\" class=\"data row8 col0\" >2</td>\n",
       "                        <td id=\"T_3bfb434c_6bb8_11eb_8f8f_acde48001122row8_col1\" class=\"data row8 col1\" >4</td>\n",
       "                        <td id=\"T_3bfb434c_6bb8_11eb_8f8f_acde48001122row8_col2\" class=\"data row8 col2\" >7</td>\n",
       "            </tr>\n",
       "            <tr>\n",
       "                                <th id=\"T_3bfb434c_6bb8_11eb_8f8f_acde48001122level1_row9\" class=\"row_heading level1 row9\" >Self service</th>\n",
       "                        <td id=\"T_3bfb434c_6bb8_11eb_8f8f_acde48001122row9_col0\" class=\"data row9 col0\" >0</td>\n",
       "                        <td id=\"T_3bfb434c_6bb8_11eb_8f8f_acde48001122row9_col1\" class=\"data row9 col1\" >1</td>\n",
       "                        <td id=\"T_3bfb434c_6bb8_11eb_8f8f_acde48001122row9_col2\" class=\"data row9 col2\" >10</td>\n",
       "            </tr>\n",
       "            <tr>\n",
       "                        <th id=\"T_3bfb434c_6bb8_11eb_8f8f_acde48001122level0_row10\" class=\"row_heading level0 row10\" rowspan=2>MX</th>\n",
       "                        <th id=\"T_3bfb434c_6bb8_11eb_8f8f_acde48001122level1_row10\" class=\"row_heading level1 row10\" >Full service</th>\n",
       "                        <td id=\"T_3bfb434c_6bb8_11eb_8f8f_acde48001122row10_col0\" class=\"data row10 col0\" >3</td>\n",
       "                        <td id=\"T_3bfb434c_6bb8_11eb_8f8f_acde48001122row10_col1\" class=\"data row10 col1\" >16</td>\n",
       "                        <td id=\"T_3bfb434c_6bb8_11eb_8f8f_acde48001122row10_col2\" class=\"data row10 col2\" >21</td>\n",
       "            </tr>\n",
       "            <tr>\n",
       "                                <th id=\"T_3bfb434c_6bb8_11eb_8f8f_acde48001122level1_row11\" class=\"row_heading level1 row11\" >Self service</th>\n",
       "                        <td id=\"T_3bfb434c_6bb8_11eb_8f8f_acde48001122row11_col0\" class=\"data row11 col0\" >85</td>\n",
       "                        <td id=\"T_3bfb434c_6bb8_11eb_8f8f_acde48001122row11_col1\" class=\"data row11 col1\" >46</td>\n",
       "                        <td id=\"T_3bfb434c_6bb8_11eb_8f8f_acde48001122row11_col2\" class=\"data row11 col2\" >286</td>\n",
       "            </tr>\n",
       "            <tr>\n",
       "                        <th id=\"T_3bfb434c_6bb8_11eb_8f8f_acde48001122level0_row12\" class=\"row_heading level0 row12\" rowspan=2>PE</th>\n",
       "                        <th id=\"T_3bfb434c_6bb8_11eb_8f8f_acde48001122level1_row12\" class=\"row_heading level1 row12\" >Full service</th>\n",
       "                        <td id=\"T_3bfb434c_6bb8_11eb_8f8f_acde48001122row12_col0\" class=\"data row12 col0\" >0</td>\n",
       "                        <td id=\"T_3bfb434c_6bb8_11eb_8f8f_acde48001122row12_col1\" class=\"data row12 col1\" >7</td>\n",
       "                        <td id=\"T_3bfb434c_6bb8_11eb_8f8f_acde48001122row12_col2\" class=\"data row12 col2\" >5</td>\n",
       "            </tr>\n",
       "            <tr>\n",
       "                                <th id=\"T_3bfb434c_6bb8_11eb_8f8f_acde48001122level1_row13\" class=\"row_heading level1 row13\" >Self service</th>\n",
       "                        <td id=\"T_3bfb434c_6bb8_11eb_8f8f_acde48001122row13_col0\" class=\"data row13 col0\" >8</td>\n",
       "                        <td id=\"T_3bfb434c_6bb8_11eb_8f8f_acde48001122row13_col1\" class=\"data row13 col1\" >5</td>\n",
       "                        <td id=\"T_3bfb434c_6bb8_11eb_8f8f_acde48001122row13_col2\" class=\"data row13 col2\" >82</td>\n",
       "            </tr>\n",
       "            <tr>\n",
       "                        <th id=\"T_3bfb434c_6bb8_11eb_8f8f_acde48001122level0_row14\" class=\"row_heading level0 row14\" rowspan=2>US</th>\n",
       "                        <th id=\"T_3bfb434c_6bb8_11eb_8f8f_acde48001122level1_row14\" class=\"row_heading level1 row14\" >Full service</th>\n",
       "                        <td id=\"T_3bfb434c_6bb8_11eb_8f8f_acde48001122row14_col0\" class=\"data row14 col0\" >2</td>\n",
       "                        <td id=\"T_3bfb434c_6bb8_11eb_8f8f_acde48001122row14_col1\" class=\"data row14 col1\" >8</td>\n",
       "                        <td id=\"T_3bfb434c_6bb8_11eb_8f8f_acde48001122row14_col2\" class=\"data row14 col2\" >3</td>\n",
       "            </tr>\n",
       "            <tr>\n",
       "                                <th id=\"T_3bfb434c_6bb8_11eb_8f8f_acde48001122level1_row15\" class=\"row_heading level1 row15\" >Self service</th>\n",
       "                        <td id=\"T_3bfb434c_6bb8_11eb_8f8f_acde48001122row15_col0\" class=\"data row15 col0\" >43</td>\n",
       "                        <td id=\"T_3bfb434c_6bb8_11eb_8f8f_acde48001122row15_col1\" class=\"data row15 col1\" >36</td>\n",
       "                        <td id=\"T_3bfb434c_6bb8_11eb_8f8f_acde48001122row15_col2\" class=\"data row15 col2\" >84</td>\n",
       "            </tr>\n",
       "    </tbody></table>"
      ],
      "text/plain": [
       "<pandas.io.formats.style.Styler at 0x7fce81eef190>"
      ]
     },
     "metadata": {},
     "output_type": "display_data"
    }
   ],
   "source": [
    "#Markup_kinds\n",
    "markup_cs_type=markup_cs.groupby(['country','service_type','markup_kind']).agg({'store':'count'}).reset_index()\n",
    "markup_cs_type=markup_cs_type.rename(columns = {'store': 'count'})\n",
    "\n",
    "#Pivot\n",
    "markup_cs_type_pivot = markup_cs_type.pivot_table(values=\"count\",index=['country','service_type'],columns=[\"markup_kind\"],aggfunc=np.sum,fill_value=0)\n",
    "display(markup_cs_type_pivot.style.background_gradient('Greys'))\n",
    "\n"
   ]
  },
  {
   "cell_type": "code",
   "execution_count": 1098,
   "metadata": {},
   "outputs": [
    {
     "data": {
      "application/vnd.plotly.v1+json": {
       "config": {
        "plotlyServerURL": "https://plot.ly"
       },
       "data": [
        {
         "alignmentgroup": "True",
         "customdata": [
          [
           28
          ],
          [
           5
          ],
          [
           2
          ],
          [
           4
          ],
          [
           7
          ],
          [
           21
          ],
          [
           5
          ],
          [
           3
          ]
         ],
         "hovertemplate": "Markup type=no markup<br>Type=Full service<br>Country=%{x}<br>Percentage %=%{text}<br>Number of Stores=%{customdata[0]}<extra></extra>",
         "legendgroup": "no markup",
         "marker": {
          "color": "green"
         },
         "name": "no markup",
         "offsetgroup": "no markup",
         "orientation": "v",
         "showlegend": true,
         "text": [
          62,
          31,
          18,
          33,
          54,
          52,
          42,
          23
         ],
         "textposition": "auto",
         "type": "bar",
         "x": [
          "BR",
          "CA",
          "CL",
          "CO",
          "CR",
          "MX",
          "PE",
          "US"
         ],
         "xaxis": "x2",
         "y": [
          62,
          31,
          18,
          33,
          54,
          52,
          42,
          23
         ],
         "yaxis": "y2"
        },
        {
         "alignmentgroup": "True",
         "customdata": [
          [
           169
          ],
          [
           20
          ],
          [
           817
          ],
          [
           36
          ],
          [
           10
          ],
          [
           286
          ],
          [
           82
          ],
          [
           84
          ]
         ],
         "hovertemplate": "Markup type=no markup<br>Type=Self service<br>Country=%{x}<br>Percentage %=%{text}<br>Number of Stores=%{customdata[0]}<extra></extra>",
         "legendgroup": "no markup",
         "marker": {
          "color": "green"
         },
         "name": "no markup",
         "offsetgroup": "no markup",
         "orientation": "v",
         "showlegend": false,
         "text": [
          60,
          40,
          87,
          82,
          91,
          69,
          86,
          52
         ],
         "textposition": "auto",
         "type": "bar",
         "x": [
          "BR",
          "CA",
          "CL",
          "CO",
          "CR",
          "MX",
          "PE",
          "US"
         ],
         "xaxis": "x",
         "y": [
          60,
          40,
          87,
          82,
          91,
          69,
          86,
          52
         ],
         "yaxis": "y"
        },
        {
         "alignmentgroup": "True",
         "customdata": [
          [
           12
          ],
          [
           9
          ],
          [
           9
          ],
          [
           6
          ],
          [
           4
          ],
          [
           16
          ],
          [
           7
          ],
          [
           8
          ]
         ],
         "hovertemplate": "Markup type=markup<br>Type=Full service<br>Country=%{x}<br>Percentage %=%{text}<br>Number of Stores=%{customdata[0]}<extra></extra>",
         "legendgroup": "markup",
         "marker": {
          "color": "blue"
         },
         "name": "markup",
         "offsetgroup": "markup",
         "orientation": "v",
         "showlegend": true,
         "text": [
          27,
          56,
          82,
          50,
          31,
          40,
          58,
          62
         ],
         "textposition": "auto",
         "type": "bar",
         "x": [
          "BR",
          "CA",
          "CL",
          "CO",
          "CR",
          "MX",
          "PE",
          "US"
         ],
         "xaxis": "x2",
         "y": [
          27,
          56,
          82,
          50,
          31,
          40,
          58,
          62
         ],
         "yaxis": "y2"
        },
        {
         "alignmentgroup": "True",
         "customdata": [
          [
           49
          ],
          [
           19
          ],
          [
           63
          ],
          [
           3
          ],
          [
           1
          ],
          [
           46
          ],
          [
           5
          ],
          [
           36
          ]
         ],
         "hovertemplate": "Markup type=markup<br>Type=Self service<br>Country=%{x}<br>Percentage %=%{text}<br>Number of Stores=%{customdata[0]}<extra></extra>",
         "legendgroup": "markup",
         "marker": {
          "color": "blue"
         },
         "name": "markup",
         "offsetgroup": "markup",
         "orientation": "v",
         "showlegend": false,
         "text": [
          17,
          38,
          7,
          7,
          9,
          11,
          5,
          22
         ],
         "textposition": "auto",
         "type": "bar",
         "x": [
          "BR",
          "CA",
          "CL",
          "CO",
          "CR",
          "MX",
          "PE",
          "US"
         ],
         "xaxis": "x",
         "y": [
          17,
          38,
          7,
          7,
          9,
          11,
          5,
          22
         ],
         "yaxis": "y"
        },
        {
         "alignmentgroup": "True",
         "customdata": [
          [
           5
          ],
          [
           2
          ],
          [
           2
          ],
          [
           2
          ],
          [
           3
          ],
          [
           2
          ]
         ],
         "hovertemplate": "Markup type=markdown<br>Type=Full service<br>Country=%{x}<br>Percentage %=%{text}<br>Number of Stores=%{customdata[0]}<extra></extra>",
         "legendgroup": "markdown",
         "marker": {
          "color": "red"
         },
         "name": "markdown",
         "offsetgroup": "markdown",
         "orientation": "v",
         "showlegend": true,
         "text": [
          11,
          12,
          17,
          15,
          8,
          15
         ],
         "textposition": "auto",
         "type": "bar",
         "x": [
          "BR",
          "CA",
          "CO",
          "CR",
          "MX",
          "US"
         ],
         "xaxis": "x2",
         "y": [
          11,
          12,
          17,
          15,
          8,
          15
         ],
         "yaxis": "y2"
        },
        {
         "alignmentgroup": "True",
         "customdata": [
          [
           66
          ],
          [
           11
          ],
          [
           59
          ],
          [
           5
          ],
          [
           85
          ],
          [
           8
          ],
          [
           43
          ]
         ],
         "hovertemplate": "Markup type=markdown<br>Type=Self service<br>Country=%{x}<br>Percentage %=%{text}<br>Number of Stores=%{customdata[0]}<extra></extra>",
         "legendgroup": "markdown",
         "marker": {
          "color": "red"
         },
         "name": "markdown",
         "offsetgroup": "markdown",
         "orientation": "v",
         "showlegend": false,
         "text": [
          23,
          22,
          6,
          11,
          20,
          8,
          26
         ],
         "textposition": "auto",
         "type": "bar",
         "x": [
          "BR",
          "CA",
          "CL",
          "CO",
          "MX",
          "PE",
          "US"
         ],
         "xaxis": "x",
         "y": [
          23,
          22,
          6,
          11,
          20,
          8,
          26
         ],
         "yaxis": "y"
        }
       ],
       "layout": {
        "annotations": [
         {
          "font": {},
          "showarrow": false,
          "text": "Type=Self service",
          "textangle": 90,
          "x": 0.98,
          "xanchor": "left",
          "xref": "paper",
          "y": 0.2425,
          "yanchor": "middle",
          "yref": "paper"
         },
         {
          "font": {},
          "showarrow": false,
          "text": "Type=Full service",
          "textangle": 90,
          "x": 0.98,
          "xanchor": "left",
          "xref": "paper",
          "y": 0.7575000000000001,
          "yanchor": "middle",
          "yref": "paper"
         }
        ],
        "barmode": "relative",
        "legend": {
         "title": {
          "text": "Markup type"
         },
         "tracegroupgap": 0
        },
        "template": {
         "data": {
          "bar": [
           {
            "error_x": {
             "color": "#2a3f5f"
            },
            "error_y": {
             "color": "#2a3f5f"
            },
            "marker": {
             "line": {
              "color": "#E5ECF6",
              "width": 0.5
             }
            },
            "type": "bar"
           }
          ],
          "barpolar": [
           {
            "marker": {
             "line": {
              "color": "#E5ECF6",
              "width": 0.5
             }
            },
            "type": "barpolar"
           }
          ],
          "carpet": [
           {
            "aaxis": {
             "endlinecolor": "#2a3f5f",
             "gridcolor": "white",
             "linecolor": "white",
             "minorgridcolor": "white",
             "startlinecolor": "#2a3f5f"
            },
            "baxis": {
             "endlinecolor": "#2a3f5f",
             "gridcolor": "white",
             "linecolor": "white",
             "minorgridcolor": "white",
             "startlinecolor": "#2a3f5f"
            },
            "type": "carpet"
           }
          ],
          "choropleth": [
           {
            "colorbar": {
             "outlinewidth": 0,
             "ticks": ""
            },
            "type": "choropleth"
           }
          ],
          "contour": [
           {
            "colorbar": {
             "outlinewidth": 0,
             "ticks": ""
            },
            "colorscale": [
             [
              0,
              "#0d0887"
             ],
             [
              0.1111111111111111,
              "#46039f"
             ],
             [
              0.2222222222222222,
              "#7201a8"
             ],
             [
              0.3333333333333333,
              "#9c179e"
             ],
             [
              0.4444444444444444,
              "#bd3786"
             ],
             [
              0.5555555555555556,
              "#d8576b"
             ],
             [
              0.6666666666666666,
              "#ed7953"
             ],
             [
              0.7777777777777778,
              "#fb9f3a"
             ],
             [
              0.8888888888888888,
              "#fdca26"
             ],
             [
              1,
              "#f0f921"
             ]
            ],
            "type": "contour"
           }
          ],
          "contourcarpet": [
           {
            "colorbar": {
             "outlinewidth": 0,
             "ticks": ""
            },
            "type": "contourcarpet"
           }
          ],
          "heatmap": [
           {
            "colorbar": {
             "outlinewidth": 0,
             "ticks": ""
            },
            "colorscale": [
             [
              0,
              "#0d0887"
             ],
             [
              0.1111111111111111,
              "#46039f"
             ],
             [
              0.2222222222222222,
              "#7201a8"
             ],
             [
              0.3333333333333333,
              "#9c179e"
             ],
             [
              0.4444444444444444,
              "#bd3786"
             ],
             [
              0.5555555555555556,
              "#d8576b"
             ],
             [
              0.6666666666666666,
              "#ed7953"
             ],
             [
              0.7777777777777778,
              "#fb9f3a"
             ],
             [
              0.8888888888888888,
              "#fdca26"
             ],
             [
              1,
              "#f0f921"
             ]
            ],
            "type": "heatmap"
           }
          ],
          "heatmapgl": [
           {
            "colorbar": {
             "outlinewidth": 0,
             "ticks": ""
            },
            "colorscale": [
             [
              0,
              "#0d0887"
             ],
             [
              0.1111111111111111,
              "#46039f"
             ],
             [
              0.2222222222222222,
              "#7201a8"
             ],
             [
              0.3333333333333333,
              "#9c179e"
             ],
             [
              0.4444444444444444,
              "#bd3786"
             ],
             [
              0.5555555555555556,
              "#d8576b"
             ],
             [
              0.6666666666666666,
              "#ed7953"
             ],
             [
              0.7777777777777778,
              "#fb9f3a"
             ],
             [
              0.8888888888888888,
              "#fdca26"
             ],
             [
              1,
              "#f0f921"
             ]
            ],
            "type": "heatmapgl"
           }
          ],
          "histogram": [
           {
            "marker": {
             "colorbar": {
              "outlinewidth": 0,
              "ticks": ""
             }
            },
            "type": "histogram"
           }
          ],
          "histogram2d": [
           {
            "colorbar": {
             "outlinewidth": 0,
             "ticks": ""
            },
            "colorscale": [
             [
              0,
              "#0d0887"
             ],
             [
              0.1111111111111111,
              "#46039f"
             ],
             [
              0.2222222222222222,
              "#7201a8"
             ],
             [
              0.3333333333333333,
              "#9c179e"
             ],
             [
              0.4444444444444444,
              "#bd3786"
             ],
             [
              0.5555555555555556,
              "#d8576b"
             ],
             [
              0.6666666666666666,
              "#ed7953"
             ],
             [
              0.7777777777777778,
              "#fb9f3a"
             ],
             [
              0.8888888888888888,
              "#fdca26"
             ],
             [
              1,
              "#f0f921"
             ]
            ],
            "type": "histogram2d"
           }
          ],
          "histogram2dcontour": [
           {
            "colorbar": {
             "outlinewidth": 0,
             "ticks": ""
            },
            "colorscale": [
             [
              0,
              "#0d0887"
             ],
             [
              0.1111111111111111,
              "#46039f"
             ],
             [
              0.2222222222222222,
              "#7201a8"
             ],
             [
              0.3333333333333333,
              "#9c179e"
             ],
             [
              0.4444444444444444,
              "#bd3786"
             ],
             [
              0.5555555555555556,
              "#d8576b"
             ],
             [
              0.6666666666666666,
              "#ed7953"
             ],
             [
              0.7777777777777778,
              "#fb9f3a"
             ],
             [
              0.8888888888888888,
              "#fdca26"
             ],
             [
              1,
              "#f0f921"
             ]
            ],
            "type": "histogram2dcontour"
           }
          ],
          "mesh3d": [
           {
            "colorbar": {
             "outlinewidth": 0,
             "ticks": ""
            },
            "type": "mesh3d"
           }
          ],
          "parcoords": [
           {
            "line": {
             "colorbar": {
              "outlinewidth": 0,
              "ticks": ""
             }
            },
            "type": "parcoords"
           }
          ],
          "pie": [
           {
            "automargin": true,
            "type": "pie"
           }
          ],
          "scatter": [
           {
            "marker": {
             "colorbar": {
              "outlinewidth": 0,
              "ticks": ""
             }
            },
            "type": "scatter"
           }
          ],
          "scatter3d": [
           {
            "line": {
             "colorbar": {
              "outlinewidth": 0,
              "ticks": ""
             }
            },
            "marker": {
             "colorbar": {
              "outlinewidth": 0,
              "ticks": ""
             }
            },
            "type": "scatter3d"
           }
          ],
          "scattercarpet": [
           {
            "marker": {
             "colorbar": {
              "outlinewidth": 0,
              "ticks": ""
             }
            },
            "type": "scattercarpet"
           }
          ],
          "scattergeo": [
           {
            "marker": {
             "colorbar": {
              "outlinewidth": 0,
              "ticks": ""
             }
            },
            "type": "scattergeo"
           }
          ],
          "scattergl": [
           {
            "marker": {
             "colorbar": {
              "outlinewidth": 0,
              "ticks": ""
             }
            },
            "type": "scattergl"
           }
          ],
          "scattermapbox": [
           {
            "marker": {
             "colorbar": {
              "outlinewidth": 0,
              "ticks": ""
             }
            },
            "type": "scattermapbox"
           }
          ],
          "scatterpolar": [
           {
            "marker": {
             "colorbar": {
              "outlinewidth": 0,
              "ticks": ""
             }
            },
            "type": "scatterpolar"
           }
          ],
          "scatterpolargl": [
           {
            "marker": {
             "colorbar": {
              "outlinewidth": 0,
              "ticks": ""
             }
            },
            "type": "scatterpolargl"
           }
          ],
          "scatterternary": [
           {
            "marker": {
             "colorbar": {
              "outlinewidth": 0,
              "ticks": ""
             }
            },
            "type": "scatterternary"
           }
          ],
          "surface": [
           {
            "colorbar": {
             "outlinewidth": 0,
             "ticks": ""
            },
            "colorscale": [
             [
              0,
              "#0d0887"
             ],
             [
              0.1111111111111111,
              "#46039f"
             ],
             [
              0.2222222222222222,
              "#7201a8"
             ],
             [
              0.3333333333333333,
              "#9c179e"
             ],
             [
              0.4444444444444444,
              "#bd3786"
             ],
             [
              0.5555555555555556,
              "#d8576b"
             ],
             [
              0.6666666666666666,
              "#ed7953"
             ],
             [
              0.7777777777777778,
              "#fb9f3a"
             ],
             [
              0.8888888888888888,
              "#fdca26"
             ],
             [
              1,
              "#f0f921"
             ]
            ],
            "type": "surface"
           }
          ],
          "table": [
           {
            "cells": {
             "fill": {
              "color": "#EBF0F8"
             },
             "line": {
              "color": "white"
             }
            },
            "header": {
             "fill": {
              "color": "#C8D4E3"
             },
             "line": {
              "color": "white"
             }
            },
            "type": "table"
           }
          ]
         },
         "layout": {
          "annotationdefaults": {
           "arrowcolor": "#2a3f5f",
           "arrowhead": 0,
           "arrowwidth": 1
          },
          "autotypenumbers": "strict",
          "coloraxis": {
           "colorbar": {
            "outlinewidth": 0,
            "ticks": ""
           }
          },
          "colorscale": {
           "diverging": [
            [
             0,
             "#8e0152"
            ],
            [
             0.1,
             "#c51b7d"
            ],
            [
             0.2,
             "#de77ae"
            ],
            [
             0.3,
             "#f1b6da"
            ],
            [
             0.4,
             "#fde0ef"
            ],
            [
             0.5,
             "#f7f7f7"
            ],
            [
             0.6,
             "#e6f5d0"
            ],
            [
             0.7,
             "#b8e186"
            ],
            [
             0.8,
             "#7fbc41"
            ],
            [
             0.9,
             "#4d9221"
            ],
            [
             1,
             "#276419"
            ]
           ],
           "sequential": [
            [
             0,
             "#0d0887"
            ],
            [
             0.1111111111111111,
             "#46039f"
            ],
            [
             0.2222222222222222,
             "#7201a8"
            ],
            [
             0.3333333333333333,
             "#9c179e"
            ],
            [
             0.4444444444444444,
             "#bd3786"
            ],
            [
             0.5555555555555556,
             "#d8576b"
            ],
            [
             0.6666666666666666,
             "#ed7953"
            ],
            [
             0.7777777777777778,
             "#fb9f3a"
            ],
            [
             0.8888888888888888,
             "#fdca26"
            ],
            [
             1,
             "#f0f921"
            ]
           ],
           "sequentialminus": [
            [
             0,
             "#0d0887"
            ],
            [
             0.1111111111111111,
             "#46039f"
            ],
            [
             0.2222222222222222,
             "#7201a8"
            ],
            [
             0.3333333333333333,
             "#9c179e"
            ],
            [
             0.4444444444444444,
             "#bd3786"
            ],
            [
             0.5555555555555556,
             "#d8576b"
            ],
            [
             0.6666666666666666,
             "#ed7953"
            ],
            [
             0.7777777777777778,
             "#fb9f3a"
            ],
            [
             0.8888888888888888,
             "#fdca26"
            ],
            [
             1,
             "#f0f921"
            ]
           ]
          },
          "colorway": [
           "#636efa",
           "#EF553B",
           "#00cc96",
           "#ab63fa",
           "#FFA15A",
           "#19d3f3",
           "#FF6692",
           "#B6E880",
           "#FF97FF",
           "#FECB52"
          ],
          "font": {
           "color": "#2a3f5f"
          },
          "geo": {
           "bgcolor": "white",
           "lakecolor": "white",
           "landcolor": "#E5ECF6",
           "showlakes": true,
           "showland": true,
           "subunitcolor": "white"
          },
          "hoverlabel": {
           "align": "left"
          },
          "hovermode": "closest",
          "mapbox": {
           "style": "light"
          },
          "paper_bgcolor": "white",
          "plot_bgcolor": "#E5ECF6",
          "polar": {
           "angularaxis": {
            "gridcolor": "white",
            "linecolor": "white",
            "ticks": ""
           },
           "bgcolor": "#E5ECF6",
           "radialaxis": {
            "gridcolor": "white",
            "linecolor": "white",
            "ticks": ""
           }
          },
          "scene": {
           "xaxis": {
            "backgroundcolor": "#E5ECF6",
            "gridcolor": "white",
            "gridwidth": 2,
            "linecolor": "white",
            "showbackground": true,
            "ticks": "",
            "zerolinecolor": "white"
           },
           "yaxis": {
            "backgroundcolor": "#E5ECF6",
            "gridcolor": "white",
            "gridwidth": 2,
            "linecolor": "white",
            "showbackground": true,
            "ticks": "",
            "zerolinecolor": "white"
           },
           "zaxis": {
            "backgroundcolor": "#E5ECF6",
            "gridcolor": "white",
            "gridwidth": 2,
            "linecolor": "white",
            "showbackground": true,
            "ticks": "",
            "zerolinecolor": "white"
           }
          },
          "shapedefaults": {
           "line": {
            "color": "#2a3f5f"
           }
          },
          "ternary": {
           "aaxis": {
            "gridcolor": "white",
            "linecolor": "white",
            "ticks": ""
           },
           "baxis": {
            "gridcolor": "white",
            "linecolor": "white",
            "ticks": ""
           },
           "bgcolor": "#E5ECF6",
           "caxis": {
            "gridcolor": "white",
            "linecolor": "white",
            "ticks": ""
           }
          },
          "title": {
           "x": 0.05
          },
          "xaxis": {
           "automargin": true,
           "gridcolor": "white",
           "linecolor": "white",
           "ticks": "",
           "title": {
            "standoff": 15
           },
           "zerolinecolor": "white",
           "zerolinewidth": 2
          },
          "yaxis": {
           "automargin": true,
           "gridcolor": "white",
           "linecolor": "white",
           "ticks": "",
           "title": {
            "standoff": 15
           },
           "zerolinecolor": "white",
           "zerolinewidth": 2
          }
         }
        },
        "title": {
         "text": "Stores markup kind by country and service type, week: 2021-05"
        },
        "xaxis": {
         "anchor": "y",
         "domain": [
          0,
          0.98
         ],
         "title": {
          "text": "Country"
         }
        },
        "xaxis2": {
         "anchor": "y2",
         "domain": [
          0,
          0.98
         ],
         "matches": "x",
         "showticklabels": false
        },
        "yaxis": {
         "anchor": "x",
         "domain": [
          0,
          0.485
         ],
         "range": [
          0,
          100
         ],
         "title": {
          "text": "Percentage %"
         }
        },
        "yaxis2": {
         "anchor": "x2",
         "domain": [
          0.515,
          1
         ],
         "range": [
          0,
          100
         ],
         "title": {
          "text": "Percentage %"
         }
        }
       }
      },
      "text/html": [
       "<div>                            <div id=\"dd99e788-adc8-4960-acc5-696a409c9e63\" class=\"plotly-graph-div\" style=\"height:525px; width:100%;\"></div>            <script type=\"text/javascript\">                require([\"plotly\"], function(Plotly) {                    window.PLOTLYENV=window.PLOTLYENV || {};                                    if (document.getElementById(\"dd99e788-adc8-4960-acc5-696a409c9e63\")) {                    Plotly.newPlot(                        \"dd99e788-adc8-4960-acc5-696a409c9e63\",                        [{\"alignmentgroup\": \"True\", \"customdata\": [[28], [5], [2], [4], [7], [21], [5], [3]], \"hovertemplate\": \"Markup type=no markup<br>Type=Full service<br>Country=%{x}<br>Percentage %=%{text}<br>Number of Stores=%{customdata[0]}<extra></extra>\", \"legendgroup\": \"no markup\", \"marker\": {\"color\": \"green\"}, \"name\": \"no markup\", \"offsetgroup\": \"no markup\", \"orientation\": \"v\", \"showlegend\": true, \"text\": [62.0, 31.0, 18.0, 33.0, 54.0, 52.0, 42.0, 23.0], \"textposition\": \"auto\", \"type\": \"bar\", \"x\": [\"BR\", \"CA\", \"CL\", \"CO\", \"CR\", \"MX\", \"PE\", \"US\"], \"xaxis\": \"x2\", \"y\": [62.0, 31.0, 18.0, 33.0, 54.0, 52.0, 42.0, 23.0], \"yaxis\": \"y2\"}, {\"alignmentgroup\": \"True\", \"customdata\": [[169], [20], [817], [36], [10], [286], [82], [84]], \"hovertemplate\": \"Markup type=no markup<br>Type=Self service<br>Country=%{x}<br>Percentage %=%{text}<br>Number of Stores=%{customdata[0]}<extra></extra>\", \"legendgroup\": \"no markup\", \"marker\": {\"color\": \"green\"}, \"name\": \"no markup\", \"offsetgroup\": \"no markup\", \"orientation\": \"v\", \"showlegend\": false, \"text\": [60.0, 40.0, 87.0, 82.0, 91.0, 69.0, 86.0, 52.0], \"textposition\": \"auto\", \"type\": \"bar\", \"x\": [\"BR\", \"CA\", \"CL\", \"CO\", \"CR\", \"MX\", \"PE\", \"US\"], \"xaxis\": \"x\", \"y\": [60.0, 40.0, 87.0, 82.0, 91.0, 69.0, 86.0, 52.0], \"yaxis\": \"y\"}, {\"alignmentgroup\": \"True\", \"customdata\": [[12], [9], [9], [6], [4], [16], [7], [8]], \"hovertemplate\": \"Markup type=markup<br>Type=Full service<br>Country=%{x}<br>Percentage %=%{text}<br>Number of Stores=%{customdata[0]}<extra></extra>\", \"legendgroup\": \"markup\", \"marker\": {\"color\": \"blue\"}, \"name\": \"markup\", \"offsetgroup\": \"markup\", \"orientation\": \"v\", \"showlegend\": true, \"text\": [27.0, 56.0, 82.0, 50.0, 31.0, 40.0, 58.0, 62.0], \"textposition\": \"auto\", \"type\": \"bar\", \"x\": [\"BR\", \"CA\", \"CL\", \"CO\", \"CR\", \"MX\", \"PE\", \"US\"], \"xaxis\": \"x2\", \"y\": [27.0, 56.0, 82.0, 50.0, 31.0, 40.0, 58.0, 62.0], \"yaxis\": \"y2\"}, {\"alignmentgroup\": \"True\", \"customdata\": [[49], [19], [63], [3], [1], [46], [5], [36]], \"hovertemplate\": \"Markup type=markup<br>Type=Self service<br>Country=%{x}<br>Percentage %=%{text}<br>Number of Stores=%{customdata[0]}<extra></extra>\", \"legendgroup\": \"markup\", \"marker\": {\"color\": \"blue\"}, \"name\": \"markup\", \"offsetgroup\": \"markup\", \"orientation\": \"v\", \"showlegend\": false, \"text\": [17.0, 38.0, 7.0, 7.0, 9.0, 11.0, 5.0, 22.0], \"textposition\": \"auto\", \"type\": \"bar\", \"x\": [\"BR\", \"CA\", \"CL\", \"CO\", \"CR\", \"MX\", \"PE\", \"US\"], \"xaxis\": \"x\", \"y\": [17.0, 38.0, 7.0, 7.0, 9.0, 11.0, 5.0, 22.0], \"yaxis\": \"y\"}, {\"alignmentgroup\": \"True\", \"customdata\": [[5], [2], [2], [2], [3], [2]], \"hovertemplate\": \"Markup type=markdown<br>Type=Full service<br>Country=%{x}<br>Percentage %=%{text}<br>Number of Stores=%{customdata[0]}<extra></extra>\", \"legendgroup\": \"markdown\", \"marker\": {\"color\": \"red\"}, \"name\": \"markdown\", \"offsetgroup\": \"markdown\", \"orientation\": \"v\", \"showlegend\": true, \"text\": [11.0, 12.0, 17.0, 15.0, 8.0, 15.0], \"textposition\": \"auto\", \"type\": \"bar\", \"x\": [\"BR\", \"CA\", \"CO\", \"CR\", \"MX\", \"US\"], \"xaxis\": \"x2\", \"y\": [11.0, 12.0, 17.0, 15.0, 8.0, 15.0], \"yaxis\": \"y2\"}, {\"alignmentgroup\": \"True\", \"customdata\": [[66], [11], [59], [5], [85], [8], [43]], \"hovertemplate\": \"Markup type=markdown<br>Type=Self service<br>Country=%{x}<br>Percentage %=%{text}<br>Number of Stores=%{customdata[0]}<extra></extra>\", \"legendgroup\": \"markdown\", \"marker\": {\"color\": \"red\"}, \"name\": \"markdown\", \"offsetgroup\": \"markdown\", \"orientation\": \"v\", \"showlegend\": false, \"text\": [23.0, 22.0, 6.0, 11.0, 20.0, 8.0, 26.0], \"textposition\": \"auto\", \"type\": \"bar\", \"x\": [\"BR\", \"CA\", \"CL\", \"CO\", \"MX\", \"PE\", \"US\"], \"xaxis\": \"x\", \"y\": [23.0, 22.0, 6.0, 11.0, 20.0, 8.0, 26.0], \"yaxis\": \"y\"}],                        {\"annotations\": [{\"font\": {}, \"showarrow\": false, \"text\": \"Type=Self service\", \"textangle\": 90, \"x\": 0.98, \"xanchor\": \"left\", \"xref\": \"paper\", \"y\": 0.2425, \"yanchor\": \"middle\", \"yref\": \"paper\"}, {\"font\": {}, \"showarrow\": false, \"text\": \"Type=Full service\", \"textangle\": 90, \"x\": 0.98, \"xanchor\": \"left\", \"xref\": \"paper\", \"y\": 0.7575000000000001, \"yanchor\": \"middle\", \"yref\": \"paper\"}], \"barmode\": \"relative\", \"legend\": {\"title\": {\"text\": \"Markup type\"}, \"tracegroupgap\": 0}, \"template\": {\"data\": {\"bar\": [{\"error_x\": {\"color\": \"#2a3f5f\"}, \"error_y\": {\"color\": \"#2a3f5f\"}, \"marker\": {\"line\": {\"color\": \"#E5ECF6\", \"width\": 0.5}}, \"type\": \"bar\"}], \"barpolar\": [{\"marker\": {\"line\": {\"color\": \"#E5ECF6\", \"width\": 0.5}}, \"type\": \"barpolar\"}], \"carpet\": [{\"aaxis\": {\"endlinecolor\": \"#2a3f5f\", \"gridcolor\": \"white\", \"linecolor\": \"white\", \"minorgridcolor\": \"white\", \"startlinecolor\": \"#2a3f5f\"}, \"baxis\": {\"endlinecolor\": \"#2a3f5f\", \"gridcolor\": \"white\", \"linecolor\": \"white\", \"minorgridcolor\": \"white\", \"startlinecolor\": \"#2a3f5f\"}, \"type\": \"carpet\"}], \"choropleth\": [{\"colorbar\": {\"outlinewidth\": 0, \"ticks\": \"\"}, \"type\": \"choropleth\"}], \"contour\": [{\"colorbar\": {\"outlinewidth\": 0, \"ticks\": \"\"}, \"colorscale\": [[0.0, \"#0d0887\"], [0.1111111111111111, \"#46039f\"], [0.2222222222222222, \"#7201a8\"], [0.3333333333333333, \"#9c179e\"], [0.4444444444444444, \"#bd3786\"], [0.5555555555555556, \"#d8576b\"], [0.6666666666666666, \"#ed7953\"], [0.7777777777777778, \"#fb9f3a\"], [0.8888888888888888, \"#fdca26\"], [1.0, \"#f0f921\"]], \"type\": \"contour\"}], \"contourcarpet\": [{\"colorbar\": {\"outlinewidth\": 0, \"ticks\": \"\"}, \"type\": \"contourcarpet\"}], \"heatmap\": [{\"colorbar\": {\"outlinewidth\": 0, \"ticks\": \"\"}, \"colorscale\": [[0.0, \"#0d0887\"], [0.1111111111111111, \"#46039f\"], [0.2222222222222222, \"#7201a8\"], [0.3333333333333333, \"#9c179e\"], [0.4444444444444444, \"#bd3786\"], [0.5555555555555556, \"#d8576b\"], [0.6666666666666666, \"#ed7953\"], [0.7777777777777778, \"#fb9f3a\"], [0.8888888888888888, \"#fdca26\"], [1.0, \"#f0f921\"]], \"type\": \"heatmap\"}], \"heatmapgl\": [{\"colorbar\": {\"outlinewidth\": 0, \"ticks\": \"\"}, \"colorscale\": [[0.0, \"#0d0887\"], [0.1111111111111111, \"#46039f\"], [0.2222222222222222, \"#7201a8\"], [0.3333333333333333, \"#9c179e\"], [0.4444444444444444, \"#bd3786\"], [0.5555555555555556, \"#d8576b\"], [0.6666666666666666, \"#ed7953\"], [0.7777777777777778, \"#fb9f3a\"], [0.8888888888888888, \"#fdca26\"], [1.0, \"#f0f921\"]], \"type\": \"heatmapgl\"}], \"histogram\": [{\"marker\": {\"colorbar\": {\"outlinewidth\": 0, \"ticks\": \"\"}}, \"type\": \"histogram\"}], \"histogram2d\": [{\"colorbar\": {\"outlinewidth\": 0, \"ticks\": \"\"}, \"colorscale\": [[0.0, \"#0d0887\"], [0.1111111111111111, \"#46039f\"], [0.2222222222222222, \"#7201a8\"], [0.3333333333333333, \"#9c179e\"], [0.4444444444444444, \"#bd3786\"], [0.5555555555555556, \"#d8576b\"], [0.6666666666666666, \"#ed7953\"], [0.7777777777777778, \"#fb9f3a\"], [0.8888888888888888, \"#fdca26\"], [1.0, \"#f0f921\"]], \"type\": \"histogram2d\"}], \"histogram2dcontour\": [{\"colorbar\": {\"outlinewidth\": 0, \"ticks\": \"\"}, \"colorscale\": [[0.0, \"#0d0887\"], [0.1111111111111111, \"#46039f\"], [0.2222222222222222, \"#7201a8\"], [0.3333333333333333, \"#9c179e\"], [0.4444444444444444, \"#bd3786\"], [0.5555555555555556, \"#d8576b\"], [0.6666666666666666, \"#ed7953\"], [0.7777777777777778, \"#fb9f3a\"], [0.8888888888888888, \"#fdca26\"], [1.0, \"#f0f921\"]], \"type\": \"histogram2dcontour\"}], \"mesh3d\": [{\"colorbar\": {\"outlinewidth\": 0, \"ticks\": \"\"}, \"type\": \"mesh3d\"}], \"parcoords\": [{\"line\": {\"colorbar\": {\"outlinewidth\": 0, \"ticks\": \"\"}}, \"type\": \"parcoords\"}], \"pie\": [{\"automargin\": true, \"type\": \"pie\"}], \"scatter\": [{\"marker\": {\"colorbar\": {\"outlinewidth\": 0, \"ticks\": \"\"}}, \"type\": \"scatter\"}], \"scatter3d\": [{\"line\": {\"colorbar\": {\"outlinewidth\": 0, \"ticks\": \"\"}}, \"marker\": {\"colorbar\": {\"outlinewidth\": 0, \"ticks\": \"\"}}, \"type\": \"scatter3d\"}], \"scattercarpet\": [{\"marker\": {\"colorbar\": {\"outlinewidth\": 0, \"ticks\": \"\"}}, \"type\": \"scattercarpet\"}], \"scattergeo\": [{\"marker\": {\"colorbar\": {\"outlinewidth\": 0, \"ticks\": \"\"}}, \"type\": \"scattergeo\"}], \"scattergl\": [{\"marker\": {\"colorbar\": {\"outlinewidth\": 0, \"ticks\": \"\"}}, \"type\": \"scattergl\"}], \"scattermapbox\": [{\"marker\": {\"colorbar\": {\"outlinewidth\": 0, \"ticks\": \"\"}}, \"type\": \"scattermapbox\"}], \"scatterpolar\": [{\"marker\": {\"colorbar\": {\"outlinewidth\": 0, \"ticks\": \"\"}}, \"type\": \"scatterpolar\"}], \"scatterpolargl\": [{\"marker\": {\"colorbar\": {\"outlinewidth\": 0, \"ticks\": \"\"}}, \"type\": \"scatterpolargl\"}], \"scatterternary\": [{\"marker\": {\"colorbar\": {\"outlinewidth\": 0, \"ticks\": \"\"}}, \"type\": \"scatterternary\"}], \"surface\": [{\"colorbar\": {\"outlinewidth\": 0, \"ticks\": \"\"}, \"colorscale\": [[0.0, \"#0d0887\"], [0.1111111111111111, \"#46039f\"], [0.2222222222222222, \"#7201a8\"], [0.3333333333333333, \"#9c179e\"], [0.4444444444444444, \"#bd3786\"], [0.5555555555555556, \"#d8576b\"], [0.6666666666666666, \"#ed7953\"], [0.7777777777777778, \"#fb9f3a\"], [0.8888888888888888, \"#fdca26\"], [1.0, \"#f0f921\"]], \"type\": \"surface\"}], \"table\": [{\"cells\": {\"fill\": {\"color\": \"#EBF0F8\"}, \"line\": {\"color\": \"white\"}}, \"header\": {\"fill\": {\"color\": \"#C8D4E3\"}, \"line\": {\"color\": \"white\"}}, \"type\": \"table\"}]}, \"layout\": {\"annotationdefaults\": {\"arrowcolor\": \"#2a3f5f\", \"arrowhead\": 0, \"arrowwidth\": 1}, \"autotypenumbers\": \"strict\", \"coloraxis\": {\"colorbar\": {\"outlinewidth\": 0, \"ticks\": \"\"}}, \"colorscale\": {\"diverging\": [[0, \"#8e0152\"], [0.1, \"#c51b7d\"], [0.2, \"#de77ae\"], [0.3, \"#f1b6da\"], [0.4, \"#fde0ef\"], [0.5, \"#f7f7f7\"], [0.6, \"#e6f5d0\"], [0.7, \"#b8e186\"], [0.8, \"#7fbc41\"], [0.9, \"#4d9221\"], [1, \"#276419\"]], \"sequential\": [[0.0, \"#0d0887\"], [0.1111111111111111, \"#46039f\"], [0.2222222222222222, \"#7201a8\"], [0.3333333333333333, \"#9c179e\"], [0.4444444444444444, \"#bd3786\"], [0.5555555555555556, \"#d8576b\"], [0.6666666666666666, \"#ed7953\"], [0.7777777777777778, \"#fb9f3a\"], [0.8888888888888888, \"#fdca26\"], [1.0, \"#f0f921\"]], \"sequentialminus\": [[0.0, \"#0d0887\"], [0.1111111111111111, \"#46039f\"], [0.2222222222222222, \"#7201a8\"], [0.3333333333333333, \"#9c179e\"], [0.4444444444444444, \"#bd3786\"], [0.5555555555555556, \"#d8576b\"], [0.6666666666666666, \"#ed7953\"], [0.7777777777777778, \"#fb9f3a\"], [0.8888888888888888, \"#fdca26\"], [1.0, \"#f0f921\"]]}, \"colorway\": [\"#636efa\", \"#EF553B\", \"#00cc96\", \"#ab63fa\", \"#FFA15A\", \"#19d3f3\", \"#FF6692\", \"#B6E880\", \"#FF97FF\", \"#FECB52\"], \"font\": {\"color\": \"#2a3f5f\"}, \"geo\": {\"bgcolor\": \"white\", \"lakecolor\": \"white\", \"landcolor\": \"#E5ECF6\", \"showlakes\": true, \"showland\": true, \"subunitcolor\": \"white\"}, \"hoverlabel\": {\"align\": \"left\"}, \"hovermode\": \"closest\", \"mapbox\": {\"style\": \"light\"}, \"paper_bgcolor\": \"white\", \"plot_bgcolor\": \"#E5ECF6\", \"polar\": {\"angularaxis\": {\"gridcolor\": \"white\", \"linecolor\": \"white\", \"ticks\": \"\"}, \"bgcolor\": \"#E5ECF6\", \"radialaxis\": {\"gridcolor\": \"white\", \"linecolor\": \"white\", \"ticks\": \"\"}}, \"scene\": {\"xaxis\": {\"backgroundcolor\": \"#E5ECF6\", \"gridcolor\": \"white\", \"gridwidth\": 2, \"linecolor\": \"white\", \"showbackground\": true, \"ticks\": \"\", \"zerolinecolor\": \"white\"}, \"yaxis\": {\"backgroundcolor\": \"#E5ECF6\", \"gridcolor\": \"white\", \"gridwidth\": 2, \"linecolor\": \"white\", \"showbackground\": true, \"ticks\": \"\", \"zerolinecolor\": \"white\"}, \"zaxis\": {\"backgroundcolor\": \"#E5ECF6\", \"gridcolor\": \"white\", \"gridwidth\": 2, \"linecolor\": \"white\", \"showbackground\": true, \"ticks\": \"\", \"zerolinecolor\": \"white\"}}, \"shapedefaults\": {\"line\": {\"color\": \"#2a3f5f\"}}, \"ternary\": {\"aaxis\": {\"gridcolor\": \"white\", \"linecolor\": \"white\", \"ticks\": \"\"}, \"baxis\": {\"gridcolor\": \"white\", \"linecolor\": \"white\", \"ticks\": \"\"}, \"bgcolor\": \"#E5ECF6\", \"caxis\": {\"gridcolor\": \"white\", \"linecolor\": \"white\", \"ticks\": \"\"}}, \"title\": {\"x\": 0.05}, \"xaxis\": {\"automargin\": true, \"gridcolor\": \"white\", \"linecolor\": \"white\", \"ticks\": \"\", \"title\": {\"standoff\": 15}, \"zerolinecolor\": \"white\", \"zerolinewidth\": 2}, \"yaxis\": {\"automargin\": true, \"gridcolor\": \"white\", \"linecolor\": \"white\", \"ticks\": \"\", \"title\": {\"standoff\": 15}, \"zerolinecolor\": \"white\", \"zerolinewidth\": 2}}}, \"title\": {\"text\": \"Stores markup kind by country and service type, week: 2021-05\"}, \"xaxis\": {\"anchor\": \"y\", \"domain\": [0.0, 0.98], \"title\": {\"text\": \"Country\"}}, \"xaxis2\": {\"anchor\": \"y2\", \"domain\": [0.0, 0.98], \"matches\": \"x\", \"showticklabels\": false}, \"yaxis\": {\"anchor\": \"x\", \"domain\": [0.0, 0.485], \"range\": [0, 100], \"title\": {\"text\": \"Percentage %\"}}, \"yaxis2\": {\"anchor\": \"x2\", \"domain\": [0.515, 1.0], \"range\": [0, 100], \"title\": {\"text\": \"Percentage %\"}}},                        {\"responsive\": true}                    ).then(function(){\n",
       "                            \n",
       "var gd = document.getElementById('dd99e788-adc8-4960-acc5-696a409c9e63');\n",
       "var x = new MutationObserver(function (mutations, observer) {{\n",
       "        var display = window.getComputedStyle(gd).display;\n",
       "        if (!display || display === 'none') {{\n",
       "            console.log([gd, 'removed!']);\n",
       "            Plotly.purge(gd);\n",
       "            observer.disconnect();\n",
       "        }}\n",
       "}});\n",
       "\n",
       "// Listen for the removal of the full notebook cells\n",
       "var notebookContainer = gd.closest('#notebook-container');\n",
       "if (notebookContainer) {{\n",
       "    x.observe(notebookContainer, {childList: true});\n",
       "}}\n",
       "\n",
       "// Listen for the clearing of the current output cell\n",
       "var outputEl = gd.closest('.output');\n",
       "if (outputEl) {{\n",
       "    x.observe(outputEl, {childList: true});\n",
       "}}\n",
       "\n",
       "                        })                };                });            </script>        </div>"
      ]
     },
     "metadata": {},
     "output_type": "display_data"
    }
   ],
   "source": [
    "#Gráfico \"Stores markup kind by country and service type\"\n",
    "\n",
    "markup_cs_type['percentage']=markup_cs.groupby(['country', 'service_type','markup_kind']).size().groupby(['country', 'service_type']).apply(lambda x: 100 * x / float(x.sum())).values.round(0)\n",
    "\n",
    "fig = px.bar(markup_cs_type, \n",
    "             x=\"country\",\n",
    "             y='percentage', \n",
    "             color='markup_kind',\n",
    "             hover_data=['count'],\n",
    "             color_discrete_sequence=['green','blue','red'],range_y=[0,100],\n",
    "             title=\"Stores markup kind by country and service type, week: \"+str(week[0]),\n",
    "             labels={'count':'Number of Stores','country':'Country','service_type':'Type','markup_kind':'Markup type','percentage':'Percentage %'}\n",
    "             ,facet_row=\"service_type\",\n",
    "             category_orders={\"service_type\": [\"Full service\", \"Self service\"],'markup_kind':['no markup','markup','markdown']},\n",
    "            text='percentage')\n",
    "fig.update_yaxes(matches=None)\n",
    "#fig.add_annotation(x='CO', y=1,\n",
    "           # text=\"Markup/markdown considers relative markup above 1% or below -1%\",showarrow=False)\n",
    "fig.show()\n"
   ]
  },
  {
   "cell_type": "code",
   "execution_count": 1077,
   "metadata": {},
   "outputs": [
    {
     "data": {
      "application/vnd.plotly.v1+json": {
       "config": {
        "plotlyServerURL": "https://plot.ly"
       },
       "data": [
        {
         "alignmentgroup": "True",
         "customdata": [
          [
           -407.44132167224586,
           901,
           -0.4522101239425592
          ],
          [
           -135.88560599579426,
           17,
           -7.993270940929074
          ],
          [
           -72.46250227254053,
           13,
           -5.574038636349272
          ],
          [
           -52.740856822307265,
           118,
           -0.44695641374836664
          ],
          [
           -48.5558487068554,
           81,
           -0.5994549223068568
          ],
          [
           -44.09462706969156,
           9,
           -4.899403007743507
          ],
          [
           -42.900190219045285,
           703,
           -0.06102445265867039
          ],
          [
           -34.13700519147046,
           38,
           -0.8983422418808015
          ],
          [
           -32.02285196582658,
           14,
           -2.287346568987613
          ],
          [
           -28.882478412669066,
           33,
           -0.8752266185657293
          ],
          [
           -27.994613687022014,
           20,
           -1.3997306843511006
          ],
          [
           -26.770315915109588,
           15,
           -1.7846877276739725
          ],
          [
           -25.630624086784596,
           40,
           -0.6407656021696149
          ],
          [
           -25.531087682564074,
           46,
           -0.5550236452731321
          ],
          [
           -23.452767562439572,
           14,
           -1.675197683031398
          ],
          [
           -22.070704589837593,
           55,
           -0.40128553799704714
          ],
          [
           -20.778224381034114,
           121,
           -0.1717208626531745
          ],
          [
           -18.537659922030148,
           13,
           -1.4259738401561652
          ],
          [
           -15.975592877393895,
           270,
           -0.05916886250886628
          ],
          [
           -15.129533441519452,
           20,
           -0.7564766720759726
          ],
          [
           -14.796584169401804,
           13,
           -1.1381987822616773
          ],
          [
           -14.420834243469349,
           50,
           -0.288416684869387
          ],
          [
           -14.034632995093702,
           36,
           -0.3898509165303806
          ],
          [
           -12.79042794233718,
           55,
           -0.23255323531522146
          ],
          [
           -12.185246604676388,
           10,
           -1.2185246604676387
          ],
          [
           -10.98234915967136,
           259,
           -0.04240289250838363
          ],
          [
           -10.931087911497807,
           8,
           -1.3663859889372258
          ],
          [
           -10.70016345370619,
           10,
           -1.070016345370619
          ],
          [
           -10.248268178545016,
           86,
           -0.11916590905284903
          ],
          [
           -9.11604158053657,
           22,
           -0.41436552638802593
          ],
          [
           -8.810464819579568,
           20,
           -0.44052324097897844
          ],
          [
           -8.46059435874443,
           28,
           -0.3021640842408725
          ],
          [
           -7.8633759334212945,
           36,
           -0.2184271092617026
          ],
          [
           -7.506537924290719,
           16,
           -0.46915862026816996
          ],
          [
           -7.067084699657112,
           8,
           -0.883385587457139
          ],
          [
           -6.967548295436587,
           9,
           -0.7741720328262874
          ],
          [
           -6.6405712075721715,
           28,
           -0.23716325741329183
          ],
          [
           -6.5982682357784554,
           22,
           -0.2999212834444753
          ],
          [
           -6.345445769058323,
           32,
           -0.19829518028307258
          ],
          [
           -5.412291979490923,
           8,
           -0.6765364974363653
          ],
          [
           -5.177883747551602,
           27,
           -0.19177347213154083
          ],
          [
           -4.230297179372215,
           10,
           -0.4230297179372215
          ],
          [
           -4.085969393252457,
           45,
           -0.0907993198500546
          ],
          [
           -4.044661785500935,
           12,
           -0.3370551487917446
          ],
          [
           -3.6330787540490803,
           15,
           -0.2422052502699387
          ],
          [
           -3.5643986351369144,
           8,
           -0.4455498293921143
          ],
          [
           -3.4544109084731995,
           20,
           -0.17272054542365997
          ],
          [
           -3.23344009110368,
           27,
           -0.1197570404112474
          ],
          [
           -2.9860921266156812,
           64,
           -0.04665768947837002
          ],
          [
           -2.8591832112345172,
           16,
           -0.17869895070215733
          ],
          [
           -2.7621352171194955,
           119,
           -0.023211220311928533
          ],
          [
           -2.5879465097335905,
           36,
           -0.07188740304815529
          ],
          [
           -2.5381783076233293,
           9,
           -0.2820198119581477
          ],
          [
           -2.4884101055130676,
           8,
           -0.31105126318913345
          ],
          [
           -2.470991234774481,
           10,
           -0.24709912347744808
          ],
          [
           -2.239569094961761,
           31,
           -0.0722441643536052
          ],
          [
           -2.114153225643903,
           21,
           -0.10067396312590014
          ],
          [
           -1.9409598823001928,
           35,
           -0.05545599663714836
          ],
          [
           -1.9160757812450622,
           34,
           -0.056355170036619474
          ],
          [
           -1.853865528607234,
           9,
           -0.2059850587341371
          ],
          [
           -1.4930460633078406,
           26,
           -0.0574248485887631
          ],
          [
           -1.4432778611975794,
           16,
           -0.09020486632484871
          ],
          [
           -1.393509659087318,
           8,
           -0.17418870738591474
          ],
          [
           -1.2939732548667953,
           25,
           -0.05175893019467181
          ],
          [
           -1.1446686485360076,
           11,
           -0.10406078623054614
          ],
          [
           -1.0685232993073124,
           11,
           -0.09713848175521021
          ],
          [
           -0.9022975042590347,
           80,
           -0.011278718803237933
          ],
          [
           -0.8072402382284348,
           16,
           -0.05045251488927718
          ],
          [
           -0.7947981877008755,
           62,
           -0.012819325608078637
          ],
          [
           -0.7281087968731262,
           10,
           -0.07281087968731262
          ],
          [
           -0.619614116272742,
           55,
           -0.011265711204958945
          ],
          [
           -0.4479138189923522,
           17,
           -0.026347871705432485
          ],
          [
           -0.4479138189923522,
           80,
           -0.005598922737404402
          ],
          [
           -0.4479138189923522,
           13,
           -0.034454909153257864
          ],
          [
           -0.3981456168820908,
           24,
           -0.01658940070342045
          ],
          [
           -0.3981456168820908,
           15,
           -0.026543041125472722
          ],
          [
           -0.3757499259324667,
           11,
           -0.03415908417567879
          ],
          [
           -0.29860921266156815,
           41,
           -0.00728315152833093
          ],
          [
           -0.25630624086784487,
           22,
           -0.01165028367581113
          ],
          [
           -0.24884101055130678,
           8,
           -0.031105126318913347
          ],
          [
           0,
           10,
           0
          ],
          [
           0,
           16,
           0
          ],
          [
           0,
           15,
           0
          ],
          [
           0,
           10,
           0
          ],
          [
           0,
           11,
           0
          ],
          [
           0,
           18,
           0
          ],
          [
           0,
           17,
           0
          ],
          [
           0,
           14,
           0
          ],
          [
           0,
           9,
           0
          ],
          [
           0,
           8,
           0
          ],
          [
           0,
           26,
           0
          ],
          [
           0,
           8,
           0
          ],
          [
           0,
           11,
           0
          ],
          [
           0,
           10,
           0
          ],
          [
           0,
           11,
           0
          ],
          [
           0,
           15,
           0
          ],
          [
           0,
           9,
           0
          ],
          [
           0,
           8,
           0
          ],
          [
           0,
           10,
           0
          ],
          [
           0,
           24,
           0
          ],
          [
           0,
           15,
           0
          ],
          [
           0,
           31,
           0
          ],
          [
           0,
           19,
           0
          ],
          [
           4.2434921377544036e-15,
           9,
           4.714991264171559e-16
          ],
          [
           0.04976820211026135,
           18,
           0.002764900117236742
          ],
          [
           0.23739432406594577,
           8,
           0.02967429050824322
          ],
          [
           0.24884101055130678,
           23,
           0.010819174371795947
          ],
          [
           0.40013634496649947,
           15,
           0.026675756331099965
          ],
          [
           0.49867738514481785,
           14,
           0.03561981322462985
          ],
          [
           0.696754829543659,
           20,
           0.03483774147718295
          ],
          [
           0.7505044878227461,
           11,
           0.06822768071115874
          ],
          [
           0.8958276379847044,
           17,
           0.05269574341086497
          ],
          [
           0.9953640422052271,
           11,
           0.09048764020047519
          ],
          [
           1.0451322443154885,
           33,
           0.03167067407016632
          ],
          [
           1.2442050527565338,
           16,
           0.07776281579728336
          ],
          [
           1.293475572845693,
           15,
           0.08623170485637953
          ],
          [
           1.3188573559219259,
           25,
           0.05275429423687703
          ],
          [
           1.4432778611975794,
           49,
           0.02945465022852203
          ],
          [
           1.5930801495494655,
           13,
           0.12254462688842042
          ],
          [
           1.7418870738591474,
           20,
           0.08709435369295737
          ],
          [
           1.7916552759694089,
           11,
           0.16287775236085536
          ],
          [
           2.1902985748726027,
           19,
           0.11527887236171593
          ],
          [
           2.316212126211569,
           9,
           0.25735690291239655
          ],
          [
           2.3391054991822835,
           33,
           0.07088198482370556
          ],
          [
           2.388873701292545,
           42,
           0.05687794526887012
          ],
          [
           2.9467752469485804,
           196,
           0.015034567586472349
          ],
          [
           2.9860921266156812,
           10,
           0.29860921266156815
          ],
          [
           3.9814561688209085,
           15,
           0.2654304112547272
          ],
          [
           4.130760775151693,
           9,
           0.45897341946129916
          ],
          [
           4.727979200474829,
           8,
           0.5909974000593536
          ],
          [
           5.160464876812994,
           45,
           0.11467699726251097
          ],
          [
           5.225661221577442,
           56,
           0.09331537895674004
          ],
          [
           5.607383331763151,
           32,
           0.17523072911759846
          ],
          [
           6.382274238619936,
           251,
           0.025427387404860304
          ],
          [
           6.881449305785839,
           57,
           0.12072718080326034
          ],
          [
           7.012339677335829,
           31,
           0.22620450572051062
          ],
          [
           7.216389305987897,
           13,
           0.5551068696913767
          ],
          [
           9.117534626599886,
           45,
           0.20261188059110857
          ],
          [
           9.844648059430796,
           16,
           0.6152905037144247
          ],
          [
           10.152713230493317,
           102,
           0.09953640422052272
          ],
          [
           12.043904910683247,
           20,
           0.6021952455341624
          ],
          [
           12.1897257428663,
           75,
           0.16252967657155065
          ],
          [
           12.714282593108488,
           14,
           0.908163042364892
          ],
          [
           14.836896413111123,
           24,
           0.6182040172129635
          ],
          [
           15.218120841275736,
           72,
           0.211362789462163
          ],
          [
           16.821652313268338,
           139,
           0.1210190813904197
          ],
          [
           17.790639208355127,
           9,
           1.9767376898172364
          ],
          [
           18.25298580595947,
           12,
           1.5210821504966223
          ],
          [
           18.4142347807967,
           51,
           0.3610634270744451
          ],
          [
           25.829696895225638,
           159,
           0.16245092386934362
          ],
          [
           26.849945038486002,
           85,
           0.3158817063351294
          ],
          [
           30.058998710555652,
           10,
           3.0058998710555653
          ],
          [
           30.119218235109116,
           172,
           0.175111733925053
          ],
          [
           48.739493372642265,
           29,
           1.6806721852635265
          ],
          [
           54.262270760817955,
           26,
           2.0870104138776138
          ],
          [
           117.5594609327327,
           78,
           1.5071725760606758
          ],
          [
           -118.30882027970387,
           47,
           -2.517208942121359
          ],
          [
           -64.10735443483884,
           116,
           -0.5526496071968865
          ],
          [
           -53.62734977983488,
           724,
           -0.07407092511026916
          ],
          [
           -51.67590063717896,
           251,
           -0.2058800822198365
          ],
          [
           -42.835058714161306,
           68,
           -0.6299273340317839
          ],
          [
           -41.19725967829146,
           148,
           -0.27835986269115853
          ],
          [
           -39.196717475442945,
           108,
           -0.3629325692170643
          ],
          [
           -33.12008758049205,
           62,
           -0.5341949609756782
          ],
          [
           -32.305960998964736,
           46,
           -0.7023034999774943
          ],
          [
           -29.6181159534198,
           943,
           -0.03140839443628823
          ],
          [
           -26.988909840882698,
           76,
           -0.3551172347484566
          ],
          [
           -26.451613570997,
           105,
           -0.2519201292475905
          ],
          [
           -26.371155500125795,
           109,
           -0.24193720642317243
          ],
          [
           -25.09200854288523,
           81,
           -0.3097778832454967
          ],
          [
           -20.98728323233716,
           100,
           -0.2098728323233716
          ],
          [
           -18.409897572225578,
           374,
           -0.04922432505942668
          ],
          [
           -17.91896697029956,
           9,
           -1.9909963300332845
          ],
          [
           -17.89169304797034,
           72,
           -0.2484957367773658
          ],
          [
           -17.098021908189946,
           31,
           -0.5515490938125789
          ],
          [
           -17.073475378093647,
           87,
           -0.19624684342636375
          ],
          [
           -16.942560550913377,
           64,
           -0.2647275086080215
          ],
          [
           -16.868920960624475,
           19,
           -0.887837945296025
          ],
          [
           -16.364353397533847,
           21,
           -0.7792549236920879
          ],
          [
           -15.682505339303269,
           31,
           -0.5058872690097829
          ],
          [
           -15.587046611150988,
           22,
           -0.7085021186886813
          ],
          [
           -15.273396504364923,
           13,
           -1.1748766541819171
          ],
          [
           -15.101570793690819,
           215,
           -0.07023986415670148
          ],
          [
           -14.727918057780462,
           233,
           -0.06320994874583889
          ],
          [
           -14.605185407298958,
           67,
           -0.21798784189998444
          ],
          [
           -14.455178834488231,
           8,
           -1.806897354311029
          ],
          [
           -14.182439611196001,
           19,
           -0.7464441900629474
          ],
          [
           -13.636961164611538,
           31,
           -0.4399019730519851
          ],
          [
           -13.20194210346043,
           45,
           -0.29337649118800957
          ],
          [
           -12.982387028710185,
           267,
           -0.04862317239217298
          ],
          [
           -11.318677766627577,
           399,
           -0.028367613450194427
          ],
          [
           -11.112759653041943,
           56,
           -0.19844213666146326
          ],
          [
           -11.058211808383497,
           42,
           -0.2632907573424642
          ],
          [
           -10.09135126181254,
           32,
           -0.31535472693164185
          ],
          [
           -9.924980335604278,
           192,
           -0.051692605914605616
          ],
          [
           -9.327681436594293,
           40,
           -0.23319203591485732
          ],
          [
           -9.254041846305391,
           27,
           -0.3427422906039034
          ],
          [
           -8.726291449234923,
           14,
           -0.6233065320882087
          ],
          [
           -8.724927753118463,
           46,
           -0.189672342459097
          ],
          [
           -8.182176698766924,
           82,
           -0.09978264266788932
          ],
          [
           -8.168539737602313,
           17,
           -0.4805023375060184
          ],
          [
           -8.003532507510512,
           32,
           -0.2501103908597035
          ],
          [
           -7.804432874507183,
           194,
           -0.040229035435604035
          ],
          [
           -7.4457807958779005,
           24,
           -0.3102408664949125
          ],
          [
           -7.363959028890231,
           23,
           -0.3201721316908796
          ],
          [
           -7.363959028890231,
           25,
           -0.29455836115560924
          ],
          [
           -7.254863339573339,
           31,
           -0.23402784966365608
          ],
          [
           -7.173041572585669,
           17,
           -0.42194362191680407
          ],
          [
           -6.818480582305769,
           28,
           -0.24351716365377746
          ],
          [
           -6.590743330856757,
           17,
           -0.38769078416804453
          ],
          [
           -6.5321043978489275,
           35,
           -0.18663155422425506
          ],
          [
           -6.409371747367423,
           97,
           -0.06607599739554045
          ],
          [
           -6.000262912429077,
           22,
           -0.27273922329223077
          ],
          [
           -5.917077449324947,
           22,
           -0.2689580658784067
          ],
          [
           -5.892530919228646,
           60,
           -0.09820884865381077
          ],
          [
           -5.88571243864634,
           65,
           -0.09054942213302063
          ],
          [
           -5.842074162919583,
           52,
           -0.11234758005614583
          ],
          [
           -5.693431286225318,
           65,
           -0.08759125055731258
          ],
          [
           -5.662066275546711,
           13,
           -0.4355435596574393
          ],
          [
           -5.522969271667673,
           18,
           -0.3068316262037596
          ],
          [
           -5.454784465844615,
           23,
           -0.23716454199324416
          ],
          [
           -5.454784465844615,
           45,
           -0.12121743257432478
          ],
          [
           -5.4275105435153925,
           35,
           -0.1550717298147255
          ],
          [
           -5.413873582350781,
           91,
           -0.05949311628956902
          ],
          [
           -5.3184148541985,
           16,
           -0.33240092838740626
          ],
          [
           -4.929761461007072,
           46,
           -0.1071687274131972
          ],
          [
           -4.861576655184013,
           48,
           -0.10128284698300027
          ],
          [
           -4.811119898874951,
           9,
           -0.5345688776527724
          ],
          [
           -4.772936407614038,
           9,
           -0.5303262675126709
          ],
          [
           -4.636566795967923,
           30,
           -0.1545522265322641
          ],
          [
           -4.474286958109046,
           27,
           -0.1657143317818165
          ],
          [
           -4.3992836717036825,
           366,
           -0.012019900742359788
          ],
          [
           -4.363827572675692,
           34,
           -0.12834786978457918
          ],
          [
           -4.166091635788825,
           133,
           -0.03132399726157011
          ],
          [
           -4.101997918315151,
           78,
           -0.05258971690147629
          ],
          [
           -4.091088349383462,
           28,
           -0.14611029819226648
          ],
          [
           -4.091088349383462,
           26,
           -0.15734955189936392
          ],
          [
           -4.091088349383462,
           20,
           -0.20455441746917308
          ],
          [
           -3.954718737737346,
           9,
           -0.43941319308192733
          ],
          [
           -3.819712822207692,
           70,
           -0.05456732603153846
          ],
          [
           -3.818349126091231,
           15,
           -0.2545566084060821
          ],
          [
           -3.6819795144451155,
           12,
           -0.30683162620375964
          ],
          [
           -3.613794708622058,
           8,
           -0.45172433857775723
          ],
          [
           -3.4065128989199622,
           356,
           -0.009568856457640343
          ],
          [
           -3.395603329988273,
           70,
           -0.04850861899983247
          ],
          [
           -3.0001314562145387,
           62,
           -0.048389217035718364
          ],
          [
           -2.9455836115560925,
           200,
           -0.014727918057780462
          ],
          [
           -2.922400777576253,
           125,
           -0.023379206220610023
          ],
          [
           -2.9101275125281023,
           11,
           -0.26455704659346385
          ],
          [
           -2.881489894082418,
           37,
           -0.07787810524547076
          ],
          [
           -2.8501248834038115,
           36,
           -0.07917013565010587
          ],
          [
           -2.8460337950544283,
           21,
           -0.13552541881211563
          ],
          [
           -2.8364879222392,
           47,
           -0.0603508068561532
          ],
          [
           -2.810577696026438,
           41,
           -0.06855067551283996
          ],
          [
           -2.7273922329223077,
           26,
           -0.10489970126624261
          ],
          [
           -2.7273922329223077,
           27,
           -0.10101452714527065
          ],
          [
           -2.7273922329223077,
           17,
           -0.160434837230724
          ],
          [
           -2.7273922329223077,
           19,
           -0.14354695962748987
          ],
          [
           -2.6987546144766235,
           19,
           -0.14203971655140124
          ],
          [
           -2.5719308756457364,
           28,
           -0.09185467413020487
          ],
          [
           -2.5364747766177462,
           10,
           -0.25364747766177465
          ],
          [
           -2.4614714902123827,
           23,
           -0.10702049957445142
          ],
          [
           -2.3714675465259467,
           63,
           -0.03764234200834836
          ],
          [
           -2.3182833979839614,
           15,
           -0.1545522265322641
          ],
          [
           -2.30464643681935,
           235,
           -0.009807006114124894
          ],
          [
           -2.241916415462137,
           8,
           -0.2802395519327671
          ],
          [
           -2.1832774824543075,
           34,
           -0.06421404360159728
          ],
          [
           -2.181913786337846,
           68,
           -0.032086967446144796
          ],
          [
           -2.1137289805147885,
           196,
           -0.010784331533238717
          ],
          [
           -1.9637224077040616,
           19,
           -0.10335381093179272
          ],
          [
           -1.9623587115876004,
           8,
           -0.24529483894845006
          ],
          [
           -1.827352796057946,
           85,
           -0.02149826818891701
          ],
          [
           -1.6364353397533846,
           24,
           -0.06818480582305769
          ],
          [
           -1.5737053183961716,
           30,
           -0.05245684394653905
          ],
          [
           -1.542340307717565,
           9,
           -0.17137114530195166
          ],
          [
           -1.3773330776257655,
           83,
           -0.01659437442922609
          ],
          [
           -1.3636961164611539,
           61,
           -0.022355674040346784
          ],
          [
           -1.3636961164611539,
           18,
           -0.07576089535895299
          ],
          [
           -1.3636961164611539,
           14,
           -0.09740686546151099
          ],
          [
           -1.3636961164611539,
           16,
           -0.08523100727882212
          ],
          [
           -1.3636961164611539,
           13,
           -0.10489970126624261
          ],
          [
           -1.3636961164611539,
           84,
           -0.0162344775769185
          ],
          [
           -1.3636961164611539,
           8,
           -0.17046201455764423
          ],
          [
           -1.3636961164611539,
           10,
           -0.13636961164611539
          ],
          [
           -1.3636961164611539,
           14,
           -0.09740686546151099
          ],
          [
           -1.3636961164611539,
           14,
           -0.09740686546151099
          ],
          [
           -1.3636961164611539,
           8,
           -0.17046201455764423
          ],
          [
           -1.3500591552965424,
           26,
           -0.05192535212679009
          ],
          [
           -1.3500591552965424,
           11,
           -0.12273265048150385
          ],
          [
           -1.3500591552965424,
           45,
           -0.030001314562145387
          ],
          [
           -1.3091482718027077,
           70,
           -0.01870211816861011
          ],
          [
           -1.2286902009314997,
           40,
           -0.030717255023287492
          ],
          [
           -1.1182308154981462,
           8,
           -0.13977885193726827
          ],
          [
           -1.090956893168923,
           21,
           -0.051950328246139196
          ],
          [
           -1.090956893168923,
           9,
           -0.12121743257432478
          ],
          [
           -1.0773199320043116,
           65,
           -0.016574152800066334
          ],
          [
           -1.0773199320043116,
           9,
           -0.11970221466714574
          ],
          [
           -1.0473186174421663,
           18,
           -0.0581843676356759
          ],
          [
           -0.9014031329808228,
           17,
           -0.05302371370475428
          ],
          [
           -0.8277635426919204,
           32,
           -0.025867610709122513
          ],
          [
           -0.8045807087120808,
           49,
           -0.01642001446351185
          ],
          [
           -0.8045807087120808,
           56,
           -0.014367512655572871
          ],
          [
           -0.7363959028890231,
           49,
           -0.015028487814061697
          ],
          [
           -0.6954850193951885,
           16,
           -0.04346781371219928
          ],
          [
           -0.6818480582305769,
           24,
           -0.028410335759607372
          ],
          [
           -0.5536606232832285,
           57,
           -0.009713344268126816
          ],
          [
           -0.5454784465844615,
           28,
           -0.019481373092302197
          ],
          [
           -0.5454784465844615,
           68,
           -0.008021741861536199
          ],
          [
           -0.5454784465844615,
           26,
           -0.020979940253248522
          ],
          [
           -0.40910883493834616,
           634,
           -0.0006452820740352463
          ],
          [
           -0.40910883493834616,
           15,
           -0.02727392232922308
          ],
          [
           -0.36819795144451156,
           8,
           -0.046024743930563945
          ],
          [
           -0.34092402911528846,
           11,
           -0.030993093555935314
          ],
          [
           -0.27273922329223077,
           22,
           -0.012397237422374125
          ],
          [
           -0.2713755271757696,
           23,
           -0.011798935964163896
          ],
          [
           -0.2591022621276192,
           13,
           -0.019930943240586092
          ],
          [
           -0.23182833979839615,
           94,
           -0.002466258934025491
          ],
          [
           -0.2072818097020954,
           100,
           -0.002072818097020954
          ],
          [
           -0.20455441746917308,
           186,
           -0.0010997549326299627
          ],
          [
           -0.1690983184411831,
           17,
           -0.009946959908304888
          ],
          [
           -0.16773462232472192,
           43,
           -0.0039008051703423702
          ],
          [
           -0.13636961164611539,
           8,
           -0.017046201455764423
          ],
          [
           -0.13636961164611539,
           12,
           -0.011364134303842949
          ],
          [
           -0.13636961164611539,
           93,
           -0.0014663399101732836
          ],
          [
           -0.12273265048150385,
           10,
           -0.012273265048150385
          ],
          [
           -0.12273265048150385,
           12,
           -0.010227720873458654
          ],
          [
           -0.12273265048150385,
           20,
           -0.0061366325240751925
          ],
          [
           -0.07363959028890231,
           49,
           -0.0015028487814061696
          ],
          [
           -0.06273002135721308,
           14,
           -0.004480715811229505
          ],
          [
           -0.05454784465844616,
           27,
           -0.002020290542905413
          ],
          [
           -0.035456099027990004,
           19,
           -0.0018661104751573686
          ],
          [
           -0.02727392232922308,
           303,
           -9.001294498093425e-05
          ],
          [
           -0.01363696116461154,
           20,
           -0.0006818480582305769
          ],
          [
           -0.01363696116461154,
           13,
           -0.001048997012662426
          ],
          [
           -0.01363696116461154,
           23,
           -0.0005929113549831104
          ],
          [
           -0.01363696116461154,
           23,
           -0.0005929113549831104
          ],
          [
           -0.012273265048150385,
           41,
           -0.00029934792800366793
          ],
          [
           -0.00681848058230577,
           11,
           -0.0006198618711187063
          ],
          [
           -0.004091088349383462,
           36,
           -0.0001136413430384295
          ],
          [
           -0.0013636961164611538,
           11,
           -0.00012397237422374127
          ],
          [
           0,
           134,
           0
          ],
          [
           0,
           47,
           0
          ],
          [
           0,
           10,
           0
          ],
          [
           0,
           52,
           0
          ],
          [
           0,
           18,
           0
          ],
          [
           0,
           14,
           0
          ],
          [
           0,
           8,
           0
          ],
          [
           0,
           8,
           0
          ],
          [
           0,
           22,
           0
          ],
          [
           0,
           14,
           0
          ],
          [
           0,
           9,
           0
          ],
          [
           0,
           19,
           0
          ],
          [
           0,
           14,
           0
          ],
          [
           0,
           75,
           0
          ],
          [
           0,
           42,
           0
          ],
          [
           0,
           9,
           0
          ],
          [
           0,
           11,
           0
          ],
          [
           0,
           50,
           0
          ],
          [
           0,
           8,
           0
          ],
          [
           0,
           175,
           0
          ],
          [
           0,
           9,
           0
          ],
          [
           0,
           27,
           0
          ],
          [
           0,
           13,
           0
          ],
          [
           0,
           31,
           0
          ],
          [
           0,
           10,
           0
          ],
          [
           0,
           59,
           0
          ],
          [
           0,
           57,
           0
          ],
          [
           0,
           40,
           0
          ],
          [
           0,
           23,
           0
          ],
          [
           0,
           8,
           0
          ],
          [
           0,
           11,
           0
          ],
          [
           0,
           10,
           0
          ],
          [
           0,
           11,
           0
          ],
          [
           0,
           11,
           0
          ],
          [
           0,
           39,
           0
          ],
          [
           0,
           12,
           0
          ],
          [
           0,
           112,
           0
          ],
          [
           0,
           57,
           0
          ],
          [
           0,
           46,
           0
          ],
          [
           0,
           10,
           0
          ],
          [
           0,
           83,
           0
          ],
          [
           0,
           27,
           0
          ],
          [
           0,
           25,
           0
          ],
          [
           0,
           19,
           0
          ],
          [
           0,
           30,
           0
          ],
          [
           0,
           23,
           0
          ],
          [
           0,
           13,
           0
          ],
          [
           0,
           11,
           0
          ],
          [
           0,
           22,
           0
          ],
          [
           0,
           8,
           0
          ],
          [
           0,
           9,
           0
          ],
          [
           0,
           22,
           0
          ],
          [
           0,
           12,
           0
          ],
          [
           0,
           86,
           0
          ],
          [
           0,
           18,
           0
          ],
          [
           0,
           14,
           0
          ],
          [
           0,
           11,
           0
          ],
          [
           0,
           30,
           0
          ],
          [
           0,
           9,
           0
          ],
          [
           0,
           13,
           0
          ],
          [
           0,
           31,
           0
          ],
          [
           0,
           9,
           0
          ],
          [
           0,
           12,
           0
          ],
          [
           0,
           10,
           0
          ],
          [
           0,
           9,
           0
          ],
          [
           0,
           37,
           0
          ],
          [
           0,
           17,
           0
          ],
          [
           0,
           11,
           0
          ],
          [
           0,
           17,
           0
          ],
          [
           0,
           13,
           0
          ],
          [
           0,
           32,
           0
          ],
          [
           0,
           54,
           0
          ],
          [
           0,
           16,
           0
          ],
          [
           0,
           38,
           0
          ],
          [
           0,
           26,
           0
          ],
          [
           0,
           24,
           0
          ],
          [
           0,
           14,
           0
          ],
          [
           0,
           60,
           0
          ],
          [
           0,
           9,
           0
          ],
          [
           0,
           14,
           0
          ],
          [
           0,
           23,
           0
          ],
          [
           0,
           33,
           0
          ],
          [
           0,
           13,
           0
          ],
          [
           0,
           105,
           0
          ],
          [
           0,
           17,
           0
          ],
          [
           0,
           44,
           0
          ],
          [
           0,
           20,
           0
          ],
          [
           0,
           23,
           0
          ],
          [
           0,
           9,
           0
          ],
          [
           0,
           57,
           0
          ],
          [
           0,
           29,
           0
          ],
          [
           0,
           17,
           0
          ],
          [
           0,
           9,
           0
          ],
          [
           0,
           28,
           0
          ],
          [
           0,
           60,
           0
          ],
          [
           0,
           10,
           0
          ],
          [
           0,
           9,
           0
          ],
          [
           0,
           39,
           0
          ],
          [
           0,
           8,
           0
          ],
          [
           0,
           16,
           0
          ],
          [
           0,
           15,
           0
          ],
          [
           0,
           49,
           0
          ],
          [
           0,
           10,
           0
          ],
          [
           0,
           13,
           0
          ],
          [
           0,
           25,
           0
          ],
          [
           0,
           14,
           0
          ],
          [
           0,
           15,
           0
          ],
          [
           0,
           8,
           0
          ],
          [
           0,
           63,
           0
          ],
          [
           0,
           11,
           0
          ],
          [
           0,
           11,
           0
          ],
          [
           0,
           21,
           0
          ],
          [
           0,
           8,
           0
          ],
          [
           0,
           38,
           0
          ],
          [
           0,
           29,
           0
          ],
          [
           0,
           9,
           0
          ],
          [
           0,
           8,
           0
          ],
          [
           0,
           33,
           0
          ],
          [
           0,
           32,
           0
          ],
          [
           0,
           11,
           0
          ],
          [
           0,
           9,
           0
          ],
          [
           0,
           31,
           0
          ],
          [
           0,
           17,
           0
          ],
          [
           0,
           22,
           0
          ],
          [
           0,
           17,
           0
          ],
          [
           0,
           62,
           0
          ],
          [
           0,
           10,
           0
          ],
          [
           0,
           39,
           0
          ],
          [
           0,
           9,
           0
          ],
          [
           0,
           18,
           0
          ],
          [
           0,
           57,
           0
          ],
          [
           0,
           21,
           0
          ],
          [
           0,
           12,
           0
          ],
          [
           0,
           14,
           0
          ],
          [
           0,
           8,
           0
          ],
          [
           0,
           8,
           0
          ],
          [
           0,
           9,
           0
          ],
          [
           0,
           11,
           0
          ],
          [
           0,
           80,
           0
          ],
          [
           0,
           23,
           0
          ],
          [
           0,
           21,
           0
          ],
          [
           0,
           17,
           0
          ],
          [
           0,
           25,
           0
          ],
          [
           0,
           21,
           0
          ],
          [
           0,
           11,
           0
          ],
          [
           0,
           12,
           0
          ],
          [
           0,
           8,
           0
          ],
          [
           0,
           10,
           0
          ],
          [
           0,
           15,
           0
          ],
          [
           0,
           8,
           0
          ],
          [
           0,
           14,
           0
          ],
          [
           0,
           40,
           0
          ],
          [
           0,
           9,
           0
          ],
          [
           0,
           11,
           0
          ],
          [
           0,
           22,
           0
          ],
          [
           0,
           11,
           0
          ],
          [
           0,
           22,
           0
          ],
          [
           0,
           8,
           0
          ],
          [
           0,
           13,
           0
          ],
          [
           0,
           33,
           0
          ],
          [
           0,
           45,
           0
          ],
          [
           0,
           20,
           0
          ],
          [
           0,
           17,
           0
          ],
          [
           0,
           8,
           0
          ],
          [
           0,
           9,
           0
          ],
          [
           0,
           9,
           0
          ],
          [
           0,
           12,
           0
          ],
          [
           0,
           26,
           0
          ],
          [
           0,
           40,
           0
          ],
          [
           0,
           9,
           0
          ],
          [
           0,
           10,
           0
          ],
          [
           0,
           18,
           0
          ],
          [
           0,
           16,
           0
          ],
          [
           0,
           19,
           0
          ],
          [
           0,
           61,
           0
          ],
          [
           0,
           18,
           0
          ],
          [
           0,
           10,
           0
          ],
          [
           0,
           33,
           0
          ],
          [
           0,
           9,
           0
          ],
          [
           0,
           32,
           0
          ],
          [
           0,
           10,
           0
          ],
          [
           0.0013636961164611538,
           10,
           0.00013636961164611538
          ],
          [
           0.0027273922329223077,
           24,
           0.00011364134303842948
          ],
          [
           0.0027273922329223077,
           10,
           0.00027273922329223077
          ],
          [
           0.008182176698766924,
           8,
           0.0010227720873458655
          ],
          [
           0.01090956893168923,
           25,
           0.0004363827572675692
          ],
          [
           0.01363696116461154,
           28,
           0.000487034327307555
          ],
          [
           0.01363696116461154,
           36,
           0.00037880447679476497
          ],
          [
           0.01363696116461154,
           63,
           0.00021645970102558
          ],
          [
           0.02727392232922308,
           10,
           0.0027273922329223077
          ],
          [
           0.028637618445684233,
           46,
           0.0006225569227322659
          ],
          [
           0.05454784465844616,
           33,
           0.0016529649896498836
          ],
          [
           0.05454784465844616,
           49,
           0.0011132213195601257
          ],
          [
           0.06818480582305769,
           25,
           0.0027273922329223077
          ],
          [
           0.12273265048150385,
           45,
           0.0027273922329223077
          ],
          [
           0.12273265048150385,
           17,
           0.007219567675382579
          ],
          [
           0.12273265048150385,
           8,
           0.015341581310187981
          ],
          [
           0.12546004271442615,
           70,
           0.001792286324491802
          ],
          [
           0.12682373883088732,
           22,
           0.005764715401403969
          ],
          [
           0.13500591552965424,
           16,
           0.00843786972060339
          ],
          [
           0.13636961164611539,
           30,
           0.004545653721537179
          ],
          [
           0.13636961164611539,
           17,
           0.008021741861536199
          ],
          [
           0.14182439611196002,
           13,
           0.010909568931689232
          ],
          [
           0.15000657281072693,
           44,
           0.003409240291152885
          ],
          [
           0.19909963300332847,
           79,
           0.0025202485190294745
          ],
          [
           0.21819137863378463,
           16,
           0.01363696116461154
          ],
          [
           0.21819137863378463,
           131,
           0.0016655830430059896
          ],
          [
           0.2454653009630077,
           11,
           0.022315027360273427
          ],
          [
           0.2591022621276192,
           18,
           0.014394570118201068
          ],
          [
           0.27273922329223077,
           17,
           0.016043483723072398
          ],
          [
           0.34092402911528846,
           107,
           0.003186205879582135
          ],
          [
           0.36819795144451156,
           12,
           0.030683162620375962
          ],
          [
           0.3818349126091231,
           103,
           0.0037071350738749815
          ],
          [
           0.44320123784987503,
           17,
           0.026070661049992647
          ],
          [
           0.5182045242552384,
           9,
           0.05757828047280427
          ],
          [
           0.5441147504680004,
           33,
           0.016488325771757587
          ],
          [
           0.5454784465844615,
           17,
           0.032086967446144796
          ],
          [
           0.5454784465844615,
           72,
           0.007576089535895299
          ],
          [
           0.5454784465844615,
           21,
           0.025975164123069598
          ],
          [
           0.5454784465844615,
           17,
           0.032086967446144796
          ],
          [
           0.5454784465844615,
           9,
           0.06060871628716239
          ],
          [
           0.5727523689136846,
           210,
           0.0027273922329223077
          ],
          [
           0.5741160650301458,
           19,
           0.030216635001586622
          ],
          [
           0.6095721640581357,
           98,
           0.006220124123042202
          ],
          [
           0.6545741359013538,
           16,
           0.040910883493834614
          ],
          [
           0.6818480582305769,
           19,
           0.03588673990687247
          ],
          [
           0.6818480582305769,
           10,
           0.06818480582305769
          ],
          [
           0.6818480582305769,
           26,
           0.026224925316560652
          ],
          [
           0.735032206772562,
           16,
           0.045939512923285124
          ],
          [
           0.7568513446359404,
           11,
           0.0688046676941764
          ],
          [
           0.7718520019170131,
           328,
           0.002353207322917723
          ],
          [
           0.7786704824993189,
           17,
           0.0458041460293717
          ],
          [
           0.8182176698766923,
           9,
           0.09091307443074359
          ],
          [
           0.8182176698766923,
           62,
           0.013197059191559554
          ],
          [
           1.090956893168923,
           19,
           0.05741878385099595
          ],
          [
           1.1045938543335347,
           25,
           0.04418375417334139
          ],
          [
           1.213689543650427,
           8,
           0.15171119295630336
          ],
          [
           1.24096346597965,
           53,
           0.023414405018483964
          ],
          [
           1.2546004271442617,
           20,
           0.06273002135721309
          ],
          [
           1.3064208795697854,
           183,
           0.007138911910217406
          ],
          [
           1.3500591552965424,
           13,
           0.10385070425358019
          ],
          [
           1.3500591552965424,
           41,
           0.03292827208040347
          ],
          [
           1.3514228514130036,
           52,
           0.025988900988711608
          ],
          [
           1.3636961164611539,
           15,
           0.09091307443074359
          ],
          [
           1.3636961164611539,
           89,
           0.015322428274844426
          ],
          [
           1.3636961164611539,
           12,
           0.11364134303842949
          ],
          [
           1.3636961164611539,
           33,
           0.04132412474124709
          ],
          [
           1.3636961164611539,
           15,
           0.09091307443074359
          ],
          [
           1.3636961164611539,
           31,
           0.043990197305198514
          ],
          [
           1.38278786209161,
           63,
           0.02194901368399381
          ],
          [
           1.4782465902438908,
           40,
           0.03695616475609727
          ],
          [
           1.5000657281072693,
           16,
           0.09375410800670433
          ],
          [
           1.5723416222797104,
           64,
           0.024567837848120475
          ],
          [
           1.7318940679056654,
           8,
           0.21648675848820817
          ],
          [
           1.9091745630456154,
           24,
           0.07954894012690064
          ],
          [
           1.922811524210227,
           19,
           0.10120060653738037
          ],
          [
           1.9364484853748385,
           42,
           0.046105916318448535
          ],
          [
           1.9855415455674401,
           17,
           0.11679656150396707
          ],
          [
           2.126002245562939,
           8,
           0.2657502806953674
          ],
          [
           2.172367913522618,
           9,
           0.2413742126136242
          ],
          [
           2.181913786337846,
           21,
           0.10390065649227839
          ],
          [
           2.3455573203131848,
           256,
           0.009162333282473378
          ],
          [
           2.3455573203131848,
           80,
           0.029319466503914808
          ],
          [
           2.454653009630077,
           148,
           0.01658549330831133
          ],
          [
           2.454653009630077,
           48,
           0.051138604367293276
          ],
          [
           2.454653009630077,
           31,
           0.07918235514935733
          ],
          [
           2.5092008542885234,
           12,
           0.20910007119071028
          ],
          [
           2.604659582440804,
           93,
           0.02800709228430972
          ],
          [
           2.65920742709925,
           10,
           0.265920742709925
          ],
          [
           2.7273922329223077,
           92,
           0.02964556774915552
          ],
          [
           2.7273922329223077,
           274,
           0.009953986251541268
          ],
          [
           2.754666155251531,
           20,
           0.13773330776257656
          ],
          [
           2.996040367865155,
           9,
           0.33289337420723947
          ],
          [
           3.01376841737915,
           9,
           0.33486315748657225
          ],
          [
           3.054679300872985,
           16,
           0.19091745630456156
          ],
          [
           3.065588869804674,
           23,
           0.1332864726002032
          ],
          [
           3.136501067860654,
           102,
           0.030750010469222096
          ],
          [
           3.136501067860654,
           106,
           0.029589632715666548
          ],
          [
           3.2728706795067692,
           11,
           0.297533698136979
          ],
          [
           3.2728706795067692,
           10,
           0.3272870679506769
          ],
          [
           3.2728706795067692,
           9,
           0.36365229772297436
          ],
          [
           3.6819795144451155,
           9,
           0.40910883493834616
          ],
          [
           3.6819795144451155,
           10,
           0.36819795144451156
          ],
          [
           3.8374408717216872,
           21,
           0.18273527960579464
          ],
          [
           3.8865339319142884,
           100,
           0.038865339319142884
          ],
          [
           3.9301722076410455,
           10,
           0.39301722076410456
          ],
          [
           3.954718737737346,
           50,
           0.07909437475474693
          ],
          [
           3.968355698901958,
           166,
           0.02390575722230095
          ],
          [
           4.07745138821885,
           9,
           0.4530501542465389
          ],
          [
           4.084269868801156,
           21,
           0.19448904137148362
          ],
          [
           4.091088349383462,
           48,
           0.08523100727882212
          ],
          [
           4.091088349383462,
           19,
           0.21532043944123483
          ],
          [
           4.091088349383462,
           25,
           0.16364353397533848
          ],
          [
           4.091088349383462,
           15,
           0.27273922329223077
          ],
          [
           4.227457961029577,
           26,
           0.16259453696267603
          ],
          [
           4.256095579475261,
           26,
           0.16369598382597156
          ],
          [
           4.363827572675692,
           16,
           0.27273922329223077
          ],
          [
           4.650203757132535,
           152,
           0.030593445770608782
          ],
          [
           5.127497397893938,
           8,
           0.6409371747367423
          ],
          [
           5.154771320223162,
           35,
           0.14727918057780462
          ],
          [
           5.277503970704665,
           13,
           0.4059618439003589
          ],
          [
           5.3184148541985,
           32,
           0.16620046419370313
          ],
          [
           5.3184148541985,
           21,
           0.2532578501999286
          ],
          [
           5.441147504680004,
           83,
           0.0655559940322892
          ],
          [
           5.454784465844615,
           22,
           0.24794474844748252
          ],
          [
           5.522969271667673,
           22,
           0.25104405780307604
          ],
          [
           5.57751711632612,
           16,
           0.3485948197703825
          ],
          [
           5.982534862915082,
           22,
           0.27193340285977646
          ],
          [
           6.10935860174597,
           153,
           0.03993044837742464
          ],
          [
           6.27572952795423,
           15,
           0.418381968530282
          ],
          [
           6.7980251405588525,
           117,
           0.05810277897913549
          ],
          [
           6.832117543470381,
           15,
           0.4554745028980254
          ],
          [
           6.941213232787273,
           9,
           0.7712459147541415
          ],
          [
           7.081673932782772,
           18,
           0.3934263295990429
          ],
          [
           7.200315494914893,
           26,
           0.2769352113428805
          ],
          [
           7.670790655093991,
           73,
           0.10507932404238343
          ],
          [
           7.90671008324177,
           32,
           0.24708469010130532
          ],
          [
           8.032170125956196,
           163,
           0.04927711733715457
          ],
          [
           8.180813002650462,
           14,
           0.5843437859036044
          ],
          [
           8.182176698766924,
           46,
           0.17787340649493313
          ],
          [
           9.072670262816057,
           24,
           0.3780279276173357
          ],
          [
           9.52541737348116,
           68,
           0.14007966725707588
          ],
          [
           10.088623869579616,
           47,
           0.2146515716931833
          ],
          [
           10.841384125866174,
           36,
           0.30114955905183816
          ],
          [
           10.882295009360009,
           38,
           0.2863761844568423
          ],
          [
           11.182308154981461,
           1389,
           0.008050617822160879
          ],
          [
           11.277766883133742,
           100,
           0.11277766883133741
          ],
          [
           11.502776742349832,
           18,
           0.6390431523527684
          ],
          [
           11.506867830699216,
           61,
           0.18863717755244616
          ],
          [
           12.273265048150385,
           100,
           0.12273265048150385
          ],
          [
           12.286902009314996,
           154,
           0.07978507798256491
          ],
          [
           12.318267019993604,
           264,
           0.04666010234846062
          ],
          [
           12.39599769863189,
           46,
           0.2694782108398237
          ],
          [
           13.368313029668691,
           52,
           0.25708294287824407
          ],
          [
           13.636961164611538,
           40,
           0.34092402911528846
          ],
          [
           13.964248232562216,
           224,
           0.06234039389536704
          ],
          [
           14.221986798573374,
           104,
           0.13674987306320552
          ],
          [
           14.268352466533052,
           55,
           0.25942459030060094
          ],
          [
           14.318809222842116,
           22,
           0.6508549646746417
          ],
          [
           14.365174890801795,
           86,
           0.16703691733490458
          ],
          [
           14.627004545162336,
           32,
           0.457093892036323
          ],
          [
           14.883379415057034,
           37,
           0.4022534977042442
          ],
          [
           14.973383358743469,
           41,
           0.3652044721644748
          ],
          [
           15.000657281072693,
           13,
           1.1538967139286687
          ],
          [
           15.587046611150988,
           143,
           0.10900032595210482
          ],
          [
           15.773872979106168,
           57,
           0.27673461366852925
          ],
          [
           16.188436598510357,
           123,
           0.131613305678946
          ],
          [
           17.452582898469846,
           78,
           0.22375106280089546
          ],
          [
           17.52894988099167,
           158,
           0.11094272076577007
          ],
          [
           17.850782164476506,
           60,
           0.29751303607460844
          ],
          [
           18.936284273179584,
           376,
           0.05036245817334996
          ],
          [
           19.173567397443822,
           129,
           0.14863230540654127
          ],
          [
           19.79541282655011,
           82,
           0.24140747349451352
          ],
          [
           23.1623785380927,
           67,
           0.34570714235959255
          ],
          [
           24.311974364269453,
           251,
           0.09686045563453966
          ],
          [
           24.399250915722966,
           276,
           0.08840308302798176
          ],
          [
           26.455704659346384,
           189,
           0.13997727332987506
          ],
          [
           27.069367911753904,
           89,
           0.30415020125566183
          ],
          [
           27.380290626307048,
           21,
           1.3038233631574785
          ],
          [
           28.746714135001124,
           75,
           0.38328952180001497
          ],
          [
           29.40265196701894,
           205,
           0.1434275705708241
          ],
          [
           32.019584814507894,
           28,
           1.143556600518139
          ],
          [
           34.692429202771756,
           37,
           0.937633221696534
          ],
          [
           35.01835257460597,
           65,
           0.5387438857631688
          ],
          [
           38.592600095850656,
           196,
           0.19690102089719722
          ],
          [
           38.9103412909861,
           169,
           0.23023870586382308
          ],
          [
           39.12171418903758,
           65,
           0.6018725259851936
          ],
          [
           40.569959464719325,
           63,
           0.6439676105511004
          ],
          [
           45.25425562476339,
           87,
           0.520163857755901
          ],
          [
           46.77204940238465,
           36,
           1.2992235945106847
          ],
          [
           49.770817162482736,
           113,
           0.4404497094025021
          ],
          [
           51.322703343015526,
           14,
           3.665907381643966
          ],
          [
           61.35268827958731,
           53,
           1.157597892067685
          ],
          [
           62.730021357213076,
           18,
           3.4850011865118375
          ],
          [
           64.03780593289933,
           274,
           0.23371462019306324
          ],
          [
           69.81033159387938,
           39,
           1.7900085024071637
          ],
          [
           73.85778166753609,
           80,
           0.923222270844201
          ],
          [
           74.66781716071402,
           90,
           0.8296424128968225
          ],
          [
           78.92254904407282,
           149,
           0.5296815372085424
          ],
          [
           86.75834692925861,
           341,
           0.2544233047778845
          ],
          [
           128.65109162694526,
           18,
           7.147282868163625
          ],
          [
           136.945091407262,
           563,
           0.24324172541254352
          ],
          [
           144.5490609526494,
           415,
           0.34831099024734796
          ],
          [
           190.47834615506105,
           700,
           0.2721119230786586
          ],
          [
           220.07464297061748,
           179,
           1.2294672791654608
          ],
          [
           347.277489321881,
           564,
           0.6157402292941152
          ],
          [
           358.80344889821066,
           169,
           2.123097330758643
          ],
          [
           -698.3957426035441,
           411,
           -1.6992597143638544
          ],
          [
           -29.72732882986348,
           20,
           -1.486366441493174
          ],
          [
           -24.076313611972825,
           36,
           -0.6687864892214673
          ],
          [
           -21.877159142588035,
           8,
           -2.7346448928235043
          ],
          [
           -13.842496630699763,
           55,
           -0.2516817569218139
          ],
          [
           -13.83696184596141,
           9,
           -1.5374402051068232
          ],
          [
           -13.397868923382896,
           35,
           -0.38279625495379704
          ],
          [
           -12.5012337955801,
           10,
           -1.25012337955801
          ],
          [
           -11.803850918728147,
           12,
           -0.9836542432273455
          ],
          [
           -10.374031527978794,
           10,
           -1.0374031527978793
          ],
          [
           -8.929452711260426,
           13,
           -0.6868809777892635
          ],
          [
           -7.086369393378365,
           11,
           -0.6442153993980332
          ],
          [
           -4.833712004855852,
           8,
           -0.6042140006069815
          ],
          [
           -4.756225018518452,
           124,
           -0.038356653375148805
          ],
          [
           -4.658443821473676,
           10,
           -0.46584438214736756
          ],
          [
           -4.427827790707648,
           15,
           -0.2951885193805099
          ],
          [
           -3.7138405594560484,
           9,
           -0.41264895105067206
          ],
          [
           -3.654802855579942,
           15,
           -0.24365352370532947
          ],
          [
           -3.394667972875862,
           10,
           -0.3394667972875862
          ],
          [
           -2.9481953373128498,
           9,
           -0.32757725970142776
          ],
          [
           -2.123512411293541,
           9,
           -0.23594582347706008
          ],
          [
           -1.737922407852753,
           8,
           -0.21724030098159414
          ],
          [
           -1.4888570946254474,
           10,
           -0.14888570946254473
          ],
          [
           -0.7250568007283711,
           22,
           -0.03295712730583505
          ],
          [
           -0.7029176617748425,
           8,
           -0.08786470772185531
          ],
          [
           -0.5719277562997394,
           11,
           -0.05199343239088539
          ],
          [
           -0.23430588725828957,
           10,
           -0.023430588725828958
          ],
          [
           -0.08855655581416029,
           11,
           -0.008050595983105481
          ],
          [
           -1.0487202906280047e-14,
           8,
           -1.310900363285006e-15
          ],
          [
           -1.0487202906280047e-14,
           8,
           -1.310900363285006e-15
          ],
          [
           0.45754220503979126,
           10,
           0.04575422050397913
          ],
          [
           0.7361263702051394,
           15,
           0.04907509134700929
          ],
          [
           1.0479192438008118,
           21,
           0.04990091637146723
          ],
          [
           1.1549250820762542,
           10,
           0.11549250820762542
          ],
          [
           1.8744470980662407,
           25,
           0.07497788392264963
          ],
          [
           2.331989303106028,
           21,
           0.11104710967171562
          ],
          [
           2.9703344762663817,
           13,
           0.22848726740510628
          ],
          [
           3.0478214626037663,
           8,
           0.3809776828254708
          ],
          [
           3.3466998384765323,
           10,
           0.33466998384765323
          ],
          [
           3.6787869227796075,
           11,
           0.33443517479814616
          ],
          [
           4.7211713818420336,
           15,
           0.3147447587894689
          ],
          [
           5.040343968422208,
           13,
           0.3877187668017083
          ],
          [
           5.817058760042173,
           22,
           0.26441176182009873
          ],
          [
           6.150990772591377,
           11,
           0.5591809793264888
          ],
          [
           6.521821350063125,
           54,
           0.12077446944561343
          ],
          [
           7.748698633738388,
           21,
           0.36898564922563754
          ],
          [
           8.652713474341207,
           8,
           1.0815891842926508
          ],
          [
           11.233768090674529,
           29,
           0.38737131347153547
          ],
          [
           14.932849224161568,
           40,
           0.3733212306040392
          ],
          [
           15.220658030557553,
           29,
           0.5248502769157777
          ],
          [
           16.838660102411975,
           52,
           0.3238203865848457
          ],
          [
           18.932653661767453,
           15,
           1.262176910784497
          ],
          [
           19.89570620624637,
           21,
           0.9474145812498271
          ],
          [
           25.20725462684944,
           37,
           0.6812771520770119
          ],
          [
           54.34605134619801,
           82,
           0.6627567237341221
          ],
          [
           -44.98576618258342,
           28,
           -1.6066345065208363
          ],
          [
           -20.390168978044073,
           8,
           -2.548771122255509
          ],
          [
           -8.045303467811312,
           21,
           -0.3831096889433958
          ],
          [
           2.432574693222008,
           101,
           0.024084897952693148
          ],
          [
           4.160714663930565,
           29,
           0.14347291944588156
          ],
          [
           6.203418469525374,
           16,
           0.3877136543453359
          ],
          [
           7.013753734955261,
           8,
           0.8767192168694077
          ],
          [
           8.45949225788584,
           10,
           0.845949225788584
          ],
          [
           9.376512514698623,
           16,
           0.586032032168664
          ],
          [
           14.840196080738577,
           11,
           1.3491087346125978
          ],
          [
           16.722087950793128,
           10,
           1.6722087950793127
          ],
          [
           21.528403702283,
           14,
           1.5377431215916428
          ],
          [
           21.95514366781434,
           13,
           1.6888572052164876
          ],
          [
           64.15533334745342,
           15,
           4.277022223163561
          ],
          [
           118.60939251526337,
           105,
           1.1296132620501274
          ],
          [
           -76.64517242828916,
           16,
           -4.790323276768072
          ],
          [
           -5.526533357622297,
           10,
           -0.5526533357622296
          ],
          [
           -3.4338522763897257,
           11,
           -0.3121683887627023
          ],
          [
           -1.1490548323360845,
           18,
           -0.06383637957422691
          ],
          [
           0,
           9,
           0
          ],
          [
           0,
           12,
           0
          ],
          [
           0.9809004666283648,
           12,
           0.08174170555236374
          ],
          [
           40.760057732998895,
           50,
           0.8152011546599779
          ],
          [
           -15.101592531576058,
           11,
           -1.3728720483250962
          ],
          [
           -10.450302031850637,
           53,
           -0.19717551003491768
          ],
          [
           -7.52883031301482,
           41,
           -0.18363000763450782
          ],
          [
           -6.630971993410216,
           8,
           -0.828871499176277
          ],
          [
           -5.411861614497523,
           13,
           -0.41629704726904027
          ],
          [
           -2.4684239428885304,
           70,
           -0.035263199184121866
          ],
          [
           -2.196595277320154,
           13,
           -0.16896886748616569
          ],
          [
           -1.2081274025260784,
           27,
           -0.04474545935281772
          ],
          [
           -1.098297638660077,
           8,
           -0.1372872048325096
          ],
          [
           -0.8237232289950577,
           31,
           -0.0265717170643567
          ],
          [
           -0.24711696869851107,
           21,
           -0.011767474699929099
          ],
          [
           -0.08237232289950597,
           25,
           -0.0032948929159802385
          ],
          [
           0,
           100,
           0
          ],
          [
           0,
           13,
           0
          ],
          [
           0,
           8,
           0
          ],
          [
           0,
           8,
           0
          ],
          [
           0,
           9,
           0
          ],
          [
           0,
           8,
           0
          ],
          [
           0,
           18,
           0
          ],
          [
           0,
           8,
           0
          ],
          [
           0,
           9,
           0
          ],
          [
           0,
           8,
           0
          ],
          [
           1.9509685221309725e-15,
           18,
           1.0838714011838736e-16
          ],
          [
           1.9509685221309725e-15,
           20,
           9.754842610654863e-17
          ],
          [
           3.901937044261945e-15,
           21,
           1.8580652591723548e-16
          ],
          [
           0.1372872048325096,
           15,
           0.009152480322167308
          ],
          [
           0.2745744096650182,
           21,
           0.013074971888810391
          ],
          [
           0.2745744096650192,
           128,
           0.0021451125755079627
          ],
          [
           1.6474464579901154,
           8,
           0.20593080724876442
          ],
          [
           2.114222954420649,
           10,
           0.2114222954420649
          ],
          [
           3.569467325645252,
           27,
           0.13220249354241675
          ],
          [
           5.016474464579839,
           137,
           0.0366166019312397
          ],
          [
           7.523338824821529,
           71,
           0.10596251865945816
          ],
          [
           8.649093904448106,
           13,
           0.6653149157267774
          ],
          [
           90.63152114222946,
           105,
           0.8631573442117091
          ],
          [
           192.35310269082922,
           24,
           8.014712612117885
          ],
          [
           -1.2204187602293606,
           8,
           -0.15255234502867007
          ],
          [
           -267.05000000000007,
           9,
           -29.67222222222223
          ],
          [
           -104.47,
           18,
           -5.803888888888888
          ],
          [
           -32.37000000000003,
           16,
           -2.023125000000002
          ],
          [
           -30.16999999999999,
           26,
           -1.1603846153846151
          ],
          [
           -21.33999999999995,
           18,
           -1.1855555555555528
          ],
          [
           -12.019999999999982,
           17,
           -0.7070588235294107
          ],
          [
           -11.620000000000008,
           12,
           -0.968333333333334
          ],
          [
           -9.939999999999973,
           47,
           -0.2114893617021271
          ],
          [
           -8.609999999999971,
           16,
           -0.5381249999999982
          ],
          [
           -5.82,
           18,
           -0.32333333333333336
          ],
          [
           -0.03999999999994586,
           17,
           -0.0023529411764674035
          ],
          [
           1.7763568394002505e-14,
           10,
           1.7763568394002505e-15
          ],
          [
           0.5899999999999999,
           21,
           0.02809523809523809
          ],
          [
           2.2799999999999727,
           10,
           0.22799999999999726
          ],
          [
           2.6700000000000053,
           13,
           0.20538461538461578
          ],
          [
           5.969999999999992,
           8,
           0.746249999999999
          ],
          [
           13.97999999999998,
           51,
           0.27411764705882313
          ],
          [
           15.67,
           14,
           1.1192857142857142
          ],
          [
           19.299999999999994,
           11,
           1.754545454545454
          ],
          [
           22.59,
           9,
           2.51
          ],
          [
           34.53000000000003,
           37,
           0.933243243243244
          ],
          [
           60.26999999999987,
           144,
           0.41854166666666576
          ],
          [
           60.78999999999999,
           81,
           0.7504938271604937
          ],
          [
           84.21000000000001,
           15,
           5.614000000000001
          ],
          [
           89.26999999999998,
           17,
           5.251176470588234
          ],
          [
           110.87000000000006,
           61,
           1.8175409836065584
          ],
          [
           130.01999999999992,
           35,
           3.7148571428571406
          ]
         ],
         "hovertemplate": "<b>%{hovertext}</b><br><br>Service type=Self service<br>Country=%{x}<br>Markup percentage (%)=%{y}<br>Markup (USD)=%{customdata[0]}<br>Total orders=%{customdata[1]}<br>Markup per order (USD)=%{customdata[2]}<extra></extra>",
         "hovertext": [
          "Carnes Ramos",
          "La Castellana",
          "Catabocata",
          "Sonora Beef",
          "Balderas Super Carnes",
          "Confetti Pastas Frescas",
          "Los Tulipanes",
          "Sinai",
          "Pardo",
          "Carnes selectas HB",
          "Punta del Cielo",
          "DICARSA",
          "Le Macaron Boutique",
          "Mallorca",
          "Rancho el 17",
          "Villa de Patos",
          "Tamalería María Candelaria",
          "Marca Diablo",
          "Pan Gabriel",
          "Pikabuu",
          "Tiendas Verum",
          "Granjas RYC",
          "Eat me",
          "Distribuidora La Victoria",
          "Empakatodo",
          "Green Republic",
          "Fruteria La Huerta",
          "Make a party",
          "Cremería W",
          "Petland",
          "D’Lagourmet",
          "Como Komo by Haloclina Catering",
          "QuitaKilos",
          "Distribuidora San Pedro Cholula",
          "La Carnicería Virtual",
          "Bendita Vaca",
          "Natural Farm",
          "El Más Pollo",
          "Pastelería Elizondo",
          "Mi Fiesta Shop",
          "Mundo Gourmet",
          "Venus Sexshop",
          "Chocolates Turin",
          "Smart Fish",
          "Ecoksa",
          "La Lecheria",
          "Raw Republic",
          "Erotika Love Store",
          "Da Silva",
          "Sabor y Sazón",
          "Farmasync",
          "Hamleys",
          "Serena Barra de Pan",
          "Unelefante",
          "Cuchillo y Carne",
          "Sanborns Panadería y Pastelería",
          "Tienda Key",
          "Dulce Noviembre",
          "Apetit Catering & Store",
          "El Lechón Tame",
          "Garabatos",
          "Central Dulcera",
          "Cosecha Natural",
          "La Manzana Sana",
          "Partyland",
          "Partyland",
          "Mora Market",
          "Gramelia",
          "La Casita del Pan",
          "Aquamart",
          "YEMA",
          "Landhaus La Pastelería Alemana",
          "Delicias del Contry",
          "MUAC’S",
          "Malva",
          "Ultramarinos Coliseo",
          "Slovensko",
          "ODARA",
          "Anforama",
          "La sopa italiana",
          "Super Limpio",
          "La Cheloteca",
          "Veterinaria Palo Verde",
          "Martha Falcón",
          "Catalina Fernandez",
          "Bottega Sartoria",
          "El Puro Cielo",
          "Homeopáticos Schüssler",
          "Mr. Croquet co",
          "L'Autrichienne",
          "Tails.Co",
          "Deperlas Colección",
          "Milagros de mi Tierra",
          "Yupick",
          "Deleite Shop",
          "Worldflex",
          "Dulce Tempo",
          "Le Chocolat",
          "Gant",
          "Bó Pastisseria",
          "Exgerm",
          "La Castaña",
          "Cinnabon",
          "Granel Interlomas",
          "Merak",
          "Mercadito Fresh Star",
          "The Confetti Party",
          "San Miguel del Valle",
          "Green & Yang Healthy Bakery",
          "The Secret Donut Society",
          "Molino de chiles Hércules",
          "Farmacias Dr. Montfort",
          "Velucca Good Healthy Food",
          "MUTT",
          "Gino's",
          "Pastelería Alcázar",
          "LICORIA",
          "Göffret",
          "Sösôland",
          "Guilt Free",
          "Mi Tierra Bendita",
          "Steren",
          "Redil Carnicería",
          "ANGELFOOD by Frozen Boutique",
          "Pastelería HADASA",
          "Granel Dulcerías",
          "Peel Health Bar",
          "Carissa Repostería",
          "Restaurante SAKS",
          "La Magia del Castillo",
          "Abasto Express",
          "L'Occitane México",
          "Librerías Porrúa",
          "Estado Natural",
          "Toyo Foods",
          "HomeFood",
          "Live Healthy",
          "Chilim Balam",
          "Salchichonería San Miguel",
          "BreAd",
          "Toks",
          "Empack",
          "Kurson Kosher",
          "La Central Delivery",
          "La frutería",
          "Healthy Boutique",
          "Sr. Ferretero",
          "Farmacias Botica Central",
          "Mr. Tofu",
          "The Green Corner",
          "Swarovski",
          "Ortopedix",
          "Party City",
          "Bellísima",
          "Farmacias Médicor",
          "Oasis",
          "Mil sabores",
          "Pet Happy",
          "Fortunata",
          "Campomarket",
          "Gourmeat",
          "Panadería Las Rosas chicas",
          "Globe Italia",
          "Opaline",
          "Librería Colón",
          "La Punta",
          "El único",
          "Donde Gilberto",
          "Baby Infanti",
          "Dulcería Puerto Varas",
          "Cambia tu nutrición",
          "Moulie",
          "Phanter",
          "Tavelli",
          "Benicio",
          "La Papelaria & Co",
          "Frutas y verduras Johnny",
          "Casastilo concept store",
          "Avent",
          "Kitchen corner",
          "Espesales",
          "La tienda de Carolina",
          "Adagio Teas",
          "Factory Nine",
          "TODOLICOR.CL",
          "Clínica veterinaria Gronemann",
          "Tienda Granata",
          "Mundo Churro",
          "Mercadito G&D",
          "Ferretería Rukafe",
          "PC Factory",
          "De costa a costa gourmet",
          "Emporio la plaza",
          "Mar azul",
          "Colloky",
          "Librería Universitas",
          "La huerta de Vitacura",
          "Frigosorno",
          "Free and lush",
          "Simple by puro",
          "3INA",
          "Friomarket",
          "MANOLO",
          "Costamai",
          "Lápiz papel",
          "Mi market",
          "Fabrics",
          "Mundo Piñata",
          "Multiservice",
          "La Vegana",
          "GAP",
          "Wenger Haus",
          "Juguetería Cachipún",
          "The Market",
          "Eliglu",
          "Pillin",
          "Verdulería Nacional",
          "Peces gordos",
          "Fish store",
          "Felipe Didier",
          "Bigotes pet store & coffee",
          "Aquarantus flores",
          "Coconut grove",
          "Buganvilla cafe",
          "New nuts",
          "Carnes Prontobeef",
          "Emporio Vitacura",
          "Bread factory",
          "Pastelería Tocas de Cachagua",
          "Indigo de papel",
          "Rumbo Verde",
          "AquaChile",
          "By Mascota",
          "Dellanatura",
          "Mascotitas",
          "SPORTIKA",
          "Peluquería Fernando Pavez",
          "Lovely gift",
          "Botillería Echeñique",
          "Born",
          "Marjano",
          "Tuyo print",
          "Manzo Cotillón",
          "Lo Saldes",
          "Ferretería Armaño",
          "Pet Kingdom",
          "Volka Chokolade",
          "La Pesca",
          "hbt",
          "Librería Luces",
          "Isadora",
          "Doral",
          "Fortunata sin gluten",
          "Denda",
          "Majen",
          "LAMY",
          "Biomed",
          "Tusmascotas",
          "Caleta Ñuñoa",
          "Emporio San Marco",
          "Pastelería La Tartine",
          "Patio sabroso",
          "Decatalogo",
          "Puro Antojo",
          "Puntomascotas",
          "Bahia mansa",
          "Boulangerie Panam",
          "Pepitas de oro",
          "Lush",
          "Deutschkind",
          "Panificadora La Reina",
          "Botillería lo Barnechea",
          "AMA",
          "Pucará",
          "Verdulería el imperio",
          "Huertos Alma",
          "Secretos de Amor",
          "Juguetería rincón infantil",
          "Paula",
          "Zoomarket",
          "Bigfix",
          "The Gift Shop",
          "Pastelería Biella",
          "Bon macaron",
          "Petsmann",
          "Planta home design",
          "Alpaka",
          "Club Animal",
          "Tai pet shop",
          "Coquinaria",
          "Granja Magdalena",
          "Verduleria San Roque",
          "Huertos del Golf",
          "Púrpura",
          "Liberté chocolat",
          "Dulcería El Ingenio",
          "Garage",
          "Albazar creativo",
          "Casa de mar",
          "Bili box",
          "Chocolatería Entrelagos",
          "Australis Retail",
          "Petshop online",
          "Hundshop",
          "Cotillón Festday",
          "Bros Librerías",
          "Clínica veterinaria Providencia",
          "Bread&cake",
          "Araf",
          "AM Dulcería",
          "Primal granel",
          "Mercato la pizza nostra",
          "Pastryhome jakimioto",
          "Flores Floramour",
          "Cuk",
          "Actitud Sana",
          "Milu pet",
          "Sano market",
          "Las Bezanilla",
          "Don camarón",
          "Milmaravillas",
          "Mokha Bunn",
          "La Rueda tostaduria",
          "L'Occitane",
          "CATDOGSHOP",
          "Autoplanet",
          "Cosmeticaval",
          "Bbz Barbizon",
          "Grido",
          "Santa salud",
          "Allfree",
          "Paula Benitez",
          "Tictactoys",
          "Bbpro store",
          "Erbi",
          "Upets",
          "Cafetano",
          "El Pescadero",
          "Blush-Bar",
          "Rocha",
          "Riesco Repostería",
          "Hirondelle Pastelería Francesa",
          "Monki Toys & Alex Toys",
          "Le Vice Chocolat",
          "Tro Deportes",
          "Emporio Bolena",
          "Pilgrim",
          "Vivero y Ferretería los Bórquez",
          "Feroz Chocolates",
          "La pasta divina",
          "Santiago Wine Club",
          "Alonso olive oil",
          "Wholeplanet Organic Foods",
          "La Ermita",
          "The Beauty Place",
          "Cecinas Bavaria",
          "La Carpintería",
          "Beefix",
          "Kaikai",
          "Juguetería Caramba",
          "María Pompón",
          "Mon site",
          "Leonidas chocolates",
          "Books and gifts",
          "Cap Dor",
          "Genial",
          "Naturbaby",
          "Dulcería Apoquindo",
          "Theodora",
          "W&M Divoom store",
          "Sanfesta",
          "Martino Phillippi",
          "Cakao",
          "Fresca mar",
          "Juguetería Lillifee",
          "COSTAVET",
          "Paper mill",
          "Mochileros pets",
          "Santa Ignacia",
          "TODOPIEL",
          "Kadó",
          "Musso Beauty Lounge",
          "Musso CE",
          "La Tranquera",
          "Mascotas Mias Pet Shop",
          "Estampa",
          "Algodones",
          "Fullerton",
          "Simonetti",
          "DRY FRUITS",
          "LOBOMAR",
          "Pequeña compañía",
          "Rosatel",
          "Piwén",
          "Revitalash",
          "Full Cell",
          "Masterwise",
          "Dulcería Coca",
          "Librería Periférica",
          "Kukinuts",
          "Amor nacional",
          "Mercury music",
          "Naturel organic",
          "Oh my lamb!",
          "Premium paper",
          "Little bee",
          "Anis tienda",
          "Qué Pachamama",
          "Candle store",
          "Erbario Toscano",
          "PSK Joyas",
          "Mercado Pasteur",
          "Cafetería La Cueva",
          "Harina gourmet",
          "Warmí",
          "Emporio Gorroño",
          "Patagonia Schokoland",
          "CONEKTA",
          "TOUS",
          "Vivo Nativo",
          "De Tartas & tortas",
          "Medela by Guven",
          "Animaluna",
          "Betterpet",
          "Motherna",
          "Pastelería Terra",
          "Ohana pet shop",
          "Pilpil",
          "Newscience",
          "VILAPERT",
          "Santillana",
          "Posta veterinaria",
          "Clínica veterinaria Colón",
          "The beauty day spa",
          "Délice",
          "Tío Polo",
          "Studio Valdes",
          "Propet",
          "Electromarket Luis Cortes",
          "Sabores sureños",
          "Doc popcorn",
          "Opera liquor store",
          "Picaflor",
          "Tabatiere petit magasin",
          "Ferretería multiferret",
          "La Chakra",
          "SM",
          "Tortilla factory",
          "Estilo colector",
          "Flowershop",
          "Yahooshop",
          "Dulces Vacarezza",
          "Amada pastelería",
          "Global ok",
          "La casa orgánica",
          "Jo Malone London",
          "Librería el caribe",
          "Dante store pets",
          "Mestiere",
          "Felipe Didier",
          "Chokko",
          "Botillería perro Pancho",
          "Luz Charme",
          "Tostaduría El Nogal",
          "Importadora MMM",
          "Deysa care",
          "Peacock",
          "Tienda de vinos La Reina",
          "Mist ice cream",
          "Marisquería Austral",
          "Ema",
          "Juguetería Shakira toys",
          "CASA TATETI",
          "Le Creuset",
          "Vida natura",
          "Gudfud",
          "Bobbi Brown",
          "Madremia",
          "MAC Cosmetics",
          "Flor de galgo",
          "Clinique",
          "Bruxelles Chocolaterie",
          "Panart",
          "Dulces ISSA",
          "Bien argento",
          "Tateti toys",
          "Déjate querer dulcería",
          "Maru peruano japonés",
          "Mercado premium",
          "Flores just flowers",
          "PHILIPS",
          "El florista",
          "Florexotica",
          "Mood aromaterapia",
          "Color animal",
          "Zigzaboo",
          "Maderitas",
          "AF Chile Spa",
          "Límite sur gifts",
          "Green dolphin",
          "TESSA",
          "Take care mask",
          "Kipling",
          "Sexo sexshop",
          "Braintoys",
          "Heima café",
          "Nicole&Cédric",
          "El taller",
          "HAVANNA",
          "The North Face",
          "Cotolino",
          "Caffesso",
          "Instore CL",
          "Lärrs",
          "Pastelería la Celeste",
          "Dog bark",
          "Vegan Panda",
          "Farmacias Natura",
          "Entremés",
          "Express pet",
          "Clínica veterinaria vets & friends",
          "CASA AMARILLA",
          "Movenpick",
          "EGLO",
          "Cousiño Macul",
          "Salmones Antártica",
          "Andrea Coggiola joyas",
          "Pichintun",
          "Smartfix",
          "Nutrición Santa Fe",
          "Whittard of Chelsea",
          "Thephonehouse",
          "VOPCAFE",
          "Veterinaria Cedilo",
          "Bikeman",
          "Bioser",
          "Salón de belleza Esther",
          "Ortopedias más vida",
          "La pescadería",
          "Cup and cake bakery",
          "Doc popcorn",
          "Farmacia Fracción",
          "Soler",
          "Copetexpress",
          "Tomás Moro",
          "Green conexion",
          "Pet Phone",
          "Belmio",
          "The candle shop",
          "Farmacia Weleda",
          "Dulcería Frutillar",
          "Nutrihouse",
          "Flores",
          "Nutrimedical",
          "GP Centro ahorro",
          "Finomarket",
          "Faunimals",
          "Cuncuna",
          "La carnicería store",
          "Cassis",
          "La casa del pañal",
          "Flores de Ocoa",
          "La Provincia",
          "Jugueterías Ansaldo",
          "Prana",
          "Be Feelosophy",
          "Insert coin bar",
          "Caramel",
          "Biancolatte",
          "Bottega Rivoli",
          "Galletería de Laura R",
          "Carnero",
          "Copreser",
          "Jardín Buenaventura",
          "La Tetería",
          "Gift shop Kawaii",
          "LAB Gourmet",
          "Tostaduria Maravilla",
          "Get it",
          "Dr. Pet",
          "Pastelería el quinto pecado",
          "Heladeria il maestrale",
          "Regalos Clicker",
          "YEPPO",
          "My Mix",
          "Juguetería Girasol",
          "La cocina de Angeles Alamos",
          "Four Sport",
          "Piscinas Oriente",
          "Digitek",
          "Serfrut",
          "Felipe Didier",
          "Emporio La Granjita",
          "Don Paolo verdulería",
          "Emporio La Rosa",
          "La Brunchería",
          "Corrales del sur",
          "Nacional outlet escolar",
          "El Hogar",
          "Marypez",
          "Prem de Bokato",
          "Mermoz",
          "Dulcería Montolín",
          "Etienne Marcel",
          "Dogat",
          "De Pura madre",
          "Rienda suelta carnicería",
          "Intertoys",
          "Village",
          "Moza Bonita",
          "The Body Shop",
          "Breti citymarket",
          "De la carne",
          "Santa tienda",
          "Librería Joyas",
          "Japi Jane",
          "Jacarandá Flores",
          "Damien Mercier",
          "Blanca y Augusto",
          "La mil hoja",
          "Brando",
          "Suk",
          "Pistacho pastelería",
          "Verdulería Fresh",
          "Detercenter",
          "Corral Osorno",
          "La fábrica de churros Boher",
          "Medical train",
          "Coffee Wings",
          "Sant ambrogio",
          "Samia",
          "Maidenform",
          "Kaya unite",
          "Moritz Eis",
          "Cory coffeehouse",
          "Premium Carnes",
          "Liga de las mascotas",
          "Tienda Urbano",
          "Full congelados",
          "Quererte cafetería",
          "Fresh market",
          "Simply Sweet la pastelería",
          "Pablo & Nicolás Pinto",
          "Hands and the city",
          "LAMA",
          "Felipe Didier",
          "Eco farmacias",
          "Yves Rocher",
          "Fiesta & Regalos",
          "Todomoda",
          "La Estación frutería",
          "Centralvet.cl",
          "Trial",
          "Andesgear",
          "Carnaval",
          "Camposorno",
          "Planta maestra",
          "Farmacia veterinaria Arkanet",
          "Smart concept",
          "Puravida Flores",
          "Verdulería Smilegreen",
          "EL VOLCAN",
          "Ando Creando",
          "El pan de cada día",
          "Medcare",
          "La Fête Chocolat",
          "Medisalud",
          "Verduleria Fredy Castillo",
          "Hands & company",
          "Mellow",
          "Bath & blanc",
          "Mercado Manquehue",
          "Papermark",
          "Saville Row",
          "Café diario",
          "DBS Beauty Store",
          "MeatMe",
          "Dónde Jorgito",
          "Pets Center",
          "Gourmitalia",
          "Jackie Guiloff gourmet",
          "Frustic Tac",
          "Q’Mascotas",
          "BLU STORE",
          "Cotillón Activarte",
          "Aldea nativa",
          "Anasac Jardín",
          "Monarch",
          "Dimeiggs",
          "Las Mellizas",
          "FORK",
          "Smartech",
          "Supermercado Versluys",
          "El Mundo del Vino",
          "Nacional",
          "Wua Wua",
          "Pet choice",
          "Veterinaria el Rodeo",
          "Amphora",
          "Mota",
          "Verdulería Panchito",
          "Prismology",
          "Caffarena",
          "Natura cosméticos",
          "Revesderecho",
          "Farmacias Knop",
          "Best for pets",
          "Juan Valdez Café",
          "Los Mezza",
          "CAV",
          "Flor de Loto",
          "Tua",
          "Mola",
          "Rupestre",
          "Verdulería Doña Amalia",
          "Clínica veterinaria Los Andes",
          "Librería Contrapunto",
          "Carne A Punto",
          "Bubba Bags",
          "Casa Royal",
          "The Garden",
          "Varsovienne Chocolatería",
          "Antártica libros",
          "Ok Market",
          "Preunic",
          "Lápiz López",
          "Lounge",
          "Cobasi",
          "Sonho dos Bichos",
          "Dr. Hato",
          "Go meat",
          "Armazém Cerealista",
          "Bicho Pet Store",
          "Breeds pet shop",
          "Cacau Show",
          "Imaginarium",
          "Petcamp",
          "Famiglia Franciulli do Glicério",
          "Rei dos Animais",
          "Mercado Brasco",
          "Casa Bueno",
          "Leblon 2 Carnes",
          "Rochinha",
          "Picanha Nobre Casa de Carnes e Mini Mercado",
          "To Go Congelados",
          "Savoyard Fromagerie",
          "Verdim hortifruti",
          "Casa de Carnes Rei",
          "Pet days",
          "La carne",
          "Grupo Hiper Boi",
          "Vigor",
          "Royal Bebidas",
          "Loja Natural",
          "Biamar",
          "Kibon sorvetes",
          "Uau My Dog",
          "Armazém Dona Idalina",
          "Empório dos grãos",
          "Pé de mato",
          "Delivery da terra",
          "Mundo Verde",
          "Kopenhagen",
          "Biovila",
          "Snack Frutas",
          "Estância casa de carnes",
          "Chocolates Brasil Cacau",
          "Padaria Kennedy",
          "Varejão Lopes",
          "Maxxi",
          "Bovino Nobre Casa de Carnes",
          "Hortifruti Morato",
          "Ofner",
          "Rações Renata",
          "Amo Orgânico Quitanda",
          "Xirata Feira Limpa",
          "Lindt",
          "Carnes Florida",
          "Loja das frutas",
          "Rede Varejão Cachambi",
          "Casa de Carnes Fradique Coutinho",
          "Granado Pharmácias",
          "Little Bear Animalerie",
          "Chez Latina",
          "Mizan Gourmet",
          "Eataly",
          "Menagerie Pet Shop",
          "Radical Road Brewing Co",
          "Town & Country Market",
          "Simi African Foods",
          "Serano Bakery Food Market",
          "Smyrna Laz Bakkal",
          "Le Gourmand",
          "apniroots",
          "Greenhouse Juice Co.",
          "Victoria Supermarket",
          "The Big Carrot",
          "La Canasta Campesina",
          "Laika",
          "PLAZ Express",
          "Puerto Market",
          "Terrafit",
          "Nicolukas",
          "La boutique de las carnes",
          "Gastronomy Market",
          "Hot Vape",
          "Mas Natural House",
          "Thika Thani",
          "Weleda",
          "TuSuper",
          "Normita",
          "Consumo Cuidado",
          "IL Pastificio",
          "Limapostre",
          "Anelare",
          "Almendariz",
          "Atelier Amore Gelato",
          "Dolce Capriccio",
          "Floreria San Borja",
          "DIA-D juegos",
          "AFIT",
          "SBS Librería Internacional",
          "Florever",
          "Tortas Gaby",
          "Pickadeli",
          "Quinoa",
          "Invita",
          "Usams",
          "Caramba",
          "Flores para tu casa",
          "Miss Cupcakes",
          "Central Party",
          "Maria Almenara",
          "La p'tite France",
          "Raíces mercado sostenible",
          "Patty Pastelería Artesanal",
          "Oregon Foods",
          "Canevaro 163",
          "Rosatel",
          "PetLover",
          "Plagio",
          "Verdulería Segura",
          "Sarah's Tent",
          "Wagshal's",
          "Bravo Supermarkets Weston",
          "Sub Hub Market Fresh",
          "Wine Bank",
          "Zubi Supermarket",
          "Amish Market West",
          "Jubilee Market Place",
          "Elm Wellness",
          "Graziano's",
          "Zerpa's Antojos Criollos",
          "Gramercy Wine",
          "Freshy's",
          "Dante's Cellar",
          "Farm2cook",
          "Dickson's Farmstand Meats",
          "Exito Fresh Market",
          "America's Food Basket",
          "India Bazaar",
          "Edy’s Grocer",
          "Key Food",
          "Morton Williams",
          "Met Fresh Supermarket",
          "Katagiri",
          "Mahfood Market",
          "Ideal Food Basket",
          "Meat N' Bone"
         ],
         "legendgroup": "Self service",
         "marker": {
          "color": "#636efa"
         },
         "name": "Self service",
         "notched": false,
         "offsetgroup": "Self service",
         "orientation": "v",
         "showlegend": true,
         "type": "box",
         "x": [
          "MX",
          "MX",
          "MX",
          "MX",
          "MX",
          "MX",
          "MX",
          "MX",
          "MX",
          "MX",
          "MX",
          "MX",
          "MX",
          "MX",
          "MX",
          "MX",
          "MX",
          "MX",
          "MX",
          "MX",
          "MX",
          "MX",
          "MX",
          "MX",
          "MX",
          "MX",
          "MX",
          "MX",
          "MX",
          "MX",
          "MX",
          "MX",
          "MX",
          "MX",
          "MX",
          "MX",
          "MX",
          "MX",
          "MX",
          "MX",
          "MX",
          "MX",
          "MX",
          "MX",
          "MX",
          "MX",
          "MX",
          "MX",
          "MX",
          "MX",
          "MX",
          "MX",
          "MX",
          "MX",
          "MX",
          "MX",
          "MX",
          "MX",
          "MX",
          "MX",
          "MX",
          "MX",
          "MX",
          "MX",
          "MX",
          "MX",
          "MX",
          "MX",
          "MX",
          "MX",
          "MX",
          "MX",
          "MX",
          "MX",
          "MX",
          "MX",
          "MX",
          "MX",
          "MX",
          "MX",
          "MX",
          "MX",
          "MX",
          "MX",
          "MX",
          "MX",
          "MX",
          "MX",
          "MX",
          "MX",
          "MX",
          "MX",
          "MX",
          "MX",
          "MX",
          "MX",
          "MX",
          "MX",
          "MX",
          "MX",
          "MX",
          "MX",
          "MX",
          "MX",
          "MX",
          "MX",
          "MX",
          "MX",
          "MX",
          "MX",
          "MX",
          "MX",
          "MX",
          "MX",
          "MX",
          "MX",
          "MX",
          "MX",
          "MX",
          "MX",
          "MX",
          "MX",
          "MX",
          "MX",
          "MX",
          "MX",
          "MX",
          "MX",
          "MX",
          "MX",
          "MX",
          "MX",
          "MX",
          "MX",
          "MX",
          "MX",
          "MX",
          "MX",
          "MX",
          "MX",
          "MX",
          "MX",
          "MX",
          "MX",
          "MX",
          "MX",
          "MX",
          "MX",
          "MX",
          "MX",
          "MX",
          "MX",
          "MX",
          "MX",
          "MX",
          "MX",
          "CL",
          "CL",
          "CL",
          "CL",
          "CL",
          "CL",
          "CL",
          "CL",
          "CL",
          "CL",
          "CL",
          "CL",
          "CL",
          "CL",
          "CL",
          "CL",
          "CL",
          "CL",
          "CL",
          "CL",
          "CL",
          "CL",
          "CL",
          "CL",
          "CL",
          "CL",
          "CL",
          "CL",
          "CL",
          "CL",
          "CL",
          "CL",
          "CL",
          "CL",
          "CL",
          "CL",
          "CL",
          "CL",
          "CL",
          "CL",
          "CL",
          "CL",
          "CL",
          "CL",
          "CL",
          "CL",
          "CL",
          "CL",
          "CL",
          "CL",
          "CL",
          "CL",
          "CL",
          "CL",
          "CL",
          "CL",
          "CL",
          "CL",
          "CL",
          "CL",
          "CL",
          "CL",
          "CL",
          "CL",
          "CL",
          "CL",
          "CL",
          "CL",
          "CL",
          "CL",
          "CL",
          "CL",
          "CL",
          "CL",
          "CL",
          "CL",
          "CL",
          "CL",
          "CL",
          "CL",
          "CL",
          "CL",
          "CL",
          "CL",
          "CL",
          "CL",
          "CL",
          "CL",
          "CL",
          "CL",
          "CL",
          "CL",
          "CL",
          "CL",
          "CL",
          "CL",
          "CL",
          "CL",
          "CL",
          "CL",
          "CL",
          "CL",
          "CL",
          "CL",
          "CL",
          "CL",
          "CL",
          "CL",
          "CL",
          "CL",
          "CL",
          "CL",
          "CL",
          "CL",
          "CL",
          "CL",
          "CL",
          "CL",
          "CL",
          "CL",
          "CL",
          "CL",
          "CL",
          "CL",
          "CL",
          "CL",
          "CL",
          "CL",
          "CL",
          "CL",
          "CL",
          "CL",
          "CL",
          "CL",
          "CL",
          "CL",
          "CL",
          "CL",
          "CL",
          "CL",
          "CL",
          "CL",
          "CL",
          "CL",
          "CL",
          "CL",
          "CL",
          "CL",
          "CL",
          "CL",
          "CL",
          "CL",
          "CL",
          "CL",
          "CL",
          "CL",
          "CL",
          "CL",
          "CL",
          "CL",
          "CL",
          "CL",
          "CL",
          "CL",
          "CL",
          "CL",
          "CL",
          "CL",
          "CL",
          "CL",
          "CL",
          "CL",
          "CL",
          "CL",
          "CL",
          "CL",
          "CL",
          "CL",
          "CL",
          "CL",
          "CL",
          "CL",
          "CL",
          "CL",
          "CL",
          "CL",
          "CL",
          "CL",
          "CL",
          "CL",
          "CL",
          "CL",
          "CL",
          "CL",
          "CL",
          "CL",
          "CL",
          "CL",
          "CL",
          "CL",
          "CL",
          "CL",
          "CL",
          "CL",
          "CL",
          "CL",
          "CL",
          "CL",
          "CL",
          "CL",
          "CL",
          "CL",
          "CL",
          "CL",
          "CL",
          "CL",
          "CL",
          "CL",
          "CL",
          "CL",
          "CL",
          "CL",
          "CL",
          "CL",
          "CL",
          "CL",
          "CL",
          "CL",
          "CL",
          "CL",
          "CL",
          "CL",
          "CL",
          "CL",
          "CL",
          "CL",
          "CL",
          "CL",
          "CL",
          "CL",
          "CL",
          "CL",
          "CL",
          "CL",
          "CL",
          "CL",
          "CL",
          "CL",
          "CL",
          "CL",
          "CL",
          "CL",
          "CL",
          "CL",
          "CL",
          "CL",
          "CL",
          "CL",
          "CL",
          "CL",
          "CL",
          "CL",
          "CL",
          "CL",
          "CL",
          "CL",
          "CL",
          "CL",
          "CL",
          "CL",
          "CL",
          "CL",
          "CL",
          "CL",
          "CL",
          "CL",
          "CL",
          "CL",
          "CL",
          "CL",
          "CL",
          "CL",
          "CL",
          "CL",
          "CL",
          "CL",
          "CL",
          "CL",
          "CL",
          "CL",
          "CL",
          "CL",
          "CL",
          "CL",
          "CL",
          "CL",
          "CL",
          "CL",
          "CL",
          "CL",
          "CL",
          "CL",
          "CL",
          "CL",
          "CL",
          "CL",
          "CL",
          "CL",
          "CL",
          "CL",
          "CL",
          "CL",
          "CL",
          "CL",
          "CL",
          "CL",
          "CL",
          "CL",
          "CL",
          "CL",
          "CL",
          "CL",
          "CL",
          "CL",
          "CL",
          "CL",
          "CL",
          "CL",
          "CL",
          "CL",
          "CL",
          "CL",
          "CL",
          "CL",
          "CL",
          "CL",
          "CL",
          "CL",
          "CL",
          "CL",
          "CL",
          "CL",
          "CL",
          "CL",
          "CL",
          "CL",
          "CL",
          "CL",
          "CL",
          "CL",
          "CL",
          "CL",
          "CL",
          "CL",
          "CL",
          "CL",
          "CL",
          "CL",
          "CL",
          "CL",
          "CL",
          "CL",
          "CL",
          "CL",
          "CL",
          "CL",
          "CL",
          "CL",
          "CL",
          "CL",
          "CL",
          "CL",
          "CL",
          "CL",
          "CL",
          "CL",
          "CL",
          "CL",
          "CL",
          "CL",
          "CL",
          "CL",
          "CL",
          "CL",
          "CL",
          "CL",
          "CL",
          "CL",
          "CL",
          "CL",
          "CL",
          "CL",
          "CL",
          "CL",
          "CL",
          "CL",
          "CL",
          "CL",
          "CL",
          "CL",
          "CL",
          "CL",
          "CL",
          "CL",
          "CL",
          "CL",
          "CL",
          "CL",
          "CL",
          "CL",
          "CL",
          "CL",
          "CL",
          "CL",
          "CL",
          "CL",
          "CL",
          "CL",
          "CL",
          "CL",
          "CL",
          "CL",
          "CL",
          "CL",
          "CL",
          "CL",
          "CL",
          "CL",
          "CL",
          "CL",
          "CL",
          "CL",
          "CL",
          "CL",
          "CL",
          "CL",
          "CL",
          "CL",
          "CL",
          "CL",
          "CL",
          "CL",
          "CL",
          "CL",
          "CL",
          "CL",
          "CL",
          "CL",
          "CL",
          "CL",
          "CL",
          "CL",
          "CL",
          "CL",
          "CL",
          "CL",
          "CL",
          "CL",
          "CL",
          "CL",
          "CL",
          "CL",
          "CL",
          "CL",
          "CL",
          "CL",
          "CL",
          "CL",
          "CL",
          "CL",
          "CL",
          "CL",
          "CL",
          "CL",
          "CL",
          "CL",
          "CL",
          "CL",
          "CL",
          "CL",
          "CL",
          "CL",
          "CL",
          "CL",
          "CL",
          "CL",
          "CL",
          "CL",
          "CL",
          "CL",
          "CL",
          "CL",
          "CL",
          "CL",
          "CL",
          "CL",
          "CL",
          "CL",
          "CL",
          "CL",
          "CL",
          "CL",
          "CL",
          "CL",
          "CL",
          "CL",
          "CL",
          "CL",
          "CL",
          "CL",
          "CL",
          "CL",
          "CL",
          "CL",
          "CL",
          "CL",
          "CL",
          "CL",
          "CL",
          "CL",
          "CL",
          "CL",
          "CL",
          "CL",
          "CL",
          "CL",
          "CL",
          "CL",
          "CL",
          "CL",
          "CL",
          "CL",
          "CL",
          "CL",
          "CL",
          "CL",
          "CL",
          "CL",
          "CL",
          "CL",
          "CL",
          "CL",
          "CL",
          "CL",
          "CL",
          "CL",
          "CL",
          "CL",
          "CL",
          "CL",
          "CL",
          "CL",
          "CL",
          "CL",
          "CL",
          "CL",
          "CL",
          "CL",
          "CL",
          "CL",
          "CL",
          "CL",
          "CL",
          "CL",
          "CL",
          "CL",
          "CL",
          "CL",
          "CL",
          "CL",
          "CL",
          "BR",
          "BR",
          "BR",
          "BR",
          "BR",
          "BR",
          "BR",
          "BR",
          "BR",
          "BR",
          "BR",
          "BR",
          "BR",
          "BR",
          "BR",
          "BR",
          "BR",
          "BR",
          "BR",
          "BR",
          "BR",
          "BR",
          "BR",
          "BR",
          "BR",
          "BR",
          "BR",
          "BR",
          "BR",
          "BR",
          "BR",
          "BR",
          "BR",
          "BR",
          "BR",
          "BR",
          "BR",
          "BR",
          "BR",
          "BR",
          "BR",
          "BR",
          "BR",
          "BR",
          "BR",
          "BR",
          "BR",
          "BR",
          "BR",
          "BR",
          "BR",
          "BR",
          "BR",
          "BR",
          "BR",
          "CA",
          "CA",
          "CA",
          "CA",
          "CA",
          "CA",
          "CA",
          "CA",
          "CA",
          "CA",
          "CA",
          "CA",
          "CA",
          "CA",
          "CA",
          "CO",
          "CO",
          "CO",
          "CO",
          "CO",
          "CO",
          "CO",
          "CO",
          "PE",
          "PE",
          "PE",
          "PE",
          "PE",
          "PE",
          "PE",
          "PE",
          "PE",
          "PE",
          "PE",
          "PE",
          "PE",
          "PE",
          "PE",
          "PE",
          "PE",
          "PE",
          "PE",
          "PE",
          "PE",
          "PE",
          "PE",
          "PE",
          "PE",
          "PE",
          "PE",
          "PE",
          "PE",
          "PE",
          "PE",
          "PE",
          "PE",
          "PE",
          "PE",
          "PE",
          "CR",
          "US",
          "US",
          "US",
          "US",
          "US",
          "US",
          "US",
          "US",
          "US",
          "US",
          "US",
          "US",
          "US",
          "US",
          "US",
          "US",
          "US",
          "US",
          "US",
          "US",
          "US",
          "US",
          "US",
          "US",
          "US",
          "US",
          "US"
         ],
         "x0": " ",
         "xaxis": "x",
         "y": [
          -1.34,
          -11.7,
          -10.22,
          -1.22,
          -1.89,
          -11.98,
          -0.39,
          -3.54,
          -5.27,
          -2.8,
          -5.95,
          -6.9,
          -3.23,
          -2.71,
          -3.28,
          -1.26,
          -0.78,
          -5.62,
          -0.28,
          -2.31,
          -4.27,
          -1.29,
          -1.36,
          -0.9,
          -9.71,
          -0.1,
          -6.44,
          -3.17,
          -0.58,
          -1.42,
          -1.99,
          -0.84,
          -1.05,
          -2.67,
          -2.7,
          -5.54,
          -0.78,
          -2.28,
          -1.38,
          -3.5,
          -0.32,
          -1.54,
          -0.33,
          -0.79,
          -1.12,
          -2.99,
          -0.33,
          -0.16,
          -0.26,
          -0.63,
          -0.08,
          -0.19,
          -2.13,
          -1.67,
          -0.53,
          -0.69,
          -0.24,
          -0.29,
          -0.21,
          -1,
          -0.27,
          -0.33,
          -2.11,
          -0.2,
          -0.4,
          -0.48,
          -0.04,
          -0.25,
          -0.08,
          -0.17,
          -0.04,
          -0.13,
          -0.03,
          -0.18,
          -0.05,
          -0.06,
          -0.15,
          -0.02,
          -0.06,
          -0.15,
          0,
          0,
          0,
          0,
          0,
          0,
          0,
          0,
          0,
          0,
          0,
          0,
          0,
          0,
          0,
          0,
          0,
          0,
          0,
          0,
          0,
          0,
          0,
          0,
          0,
          0.22,
          0.05,
          0.06,
          0.27,
          0.26,
          0.27,
          0.32,
          0.32,
          0.13,
          0.35,
          0.55,
          0.18,
          0.17,
          0.48,
          0.26,
          0.7,
          0.37,
          0.76,
          0.19,
          0.3,
          0.05,
          1.12,
          1.51,
          3.52,
          2.12,
          0.65,
          0.13,
          0.8,
          0.09,
          0.57,
          0.5,
          1.16,
          1.39,
          2.03,
          0.55,
          3.52,
          0.83,
          1.95,
          2.43,
          0.67,
          0.34,
          8.86,
          5.65,
          0.99,
          0.55,
          0.41,
          11.6,
          0.65,
          5.37,
          10.72,
          4.51,
          -5.33,
          -1.24,
          -0.21,
          -0.67,
          -1.02,
          -1.24,
          -0.78,
          -1.24,
          -2.06,
          -0.09,
          -0.86,
          -0.59,
          -0.65,
          -0.96,
          -0.43,
          -0.18,
          -7.01,
          -0.96,
          -1.39,
          -0.55,
          -0.64,
          -1.87,
          -2.16,
          -1.39,
          -1.96,
          -1.84,
          -0.22,
          -0.26,
          -0.43,
          -4.73,
          -1.49,
          -2.06,
          -0.95,
          -0.17,
          -0.03,
          -0.47,
          -0.4,
          -0.81,
          -0.13,
          -1.11,
          -0.99,
          -1.6,
          -0.4,
          -0.15,
          -0.96,
          -0.59,
          -0.13,
          -0.69,
          -1.02,
          -1.39,
          -0.25,
          -2.19,
          -1.01,
          -1.11,
          -0.32,
          -0.2,
          -0.7,
          -0.82,
          -0.23,
          -0.2,
          -0.28,
          -0.2,
          -1.18,
          -1.3,
          -0.42,
          -0.5,
          -0.31,
          -0.14,
          -0.89,
          -0.21,
          -0.17,
          -3.19,
          -2.06,
          -0.59,
          -0.41,
          -0.02,
          -0.32,
          -0.08,
          -0.13,
          -0.22,
          -0.19,
          -0.49,
          -1.31,
          -0.12,
          -0.55,
          -0.4,
          -1.51,
          -0.04,
          -0.2,
          -0.07,
          -0.04,
          -0.05,
          -0.45,
          -0.28,
          -0.3,
          -0.28,
          -0.2,
          -0.14,
          -0.28,
          -0.22,
          -0.4,
          -0.34,
          -0.43,
          -0.2,
          -1.2,
          -0.35,
          -0.09,
          -0.36,
          -0.02,
          -1.26,
          -0.56,
          -0.07,
          -0.03,
          -0.4,
          -5.32,
          -0.04,
          -0.25,
          -0.22,
          -0.42,
          -0.06,
          -0.04,
          -0.3,
          -0.44,
          -0.25,
          -0.32,
          -0.04,
          -0.73,
          -0.31,
          -0.3,
          -0.25,
          -1.25,
          -0.1,
          -0.27,
          -0.06,
          -0.03,
          -0.1,
          -0.28,
          -0.17,
          -0.46,
          -0.06,
          -0.25,
          -0.3,
          -0.13,
          -0.07,
          -0.07,
          -0.03,
          -0.03,
          -0.08,
          -0.15,
          -0.03,
          -0.05,
          -0.03,
          -0.05,
          0,
          -0.07,
          -0.16,
          -0.19,
          -0.02,
          -0.04,
          -0.08,
          -0.01,
          -0.01,
          0,
          -0.03,
          -0.02,
          -0.04,
          -0.04,
          0,
          -0.04,
          -0.03,
          -0.02,
          0,
          -0.02,
          -0.01,
          -0.01,
          0,
          0,
          0,
          0,
          0,
          0,
          0,
          0,
          0,
          0,
          0,
          0,
          0,
          0,
          0,
          0,
          0,
          0,
          0,
          0,
          0,
          0,
          0,
          0,
          0,
          0,
          0,
          0,
          0,
          0,
          0,
          0,
          0,
          0,
          0,
          0,
          0,
          0,
          0,
          0,
          0,
          0,
          0,
          0,
          0,
          0,
          0,
          0,
          0,
          0,
          0,
          0,
          0,
          0,
          0,
          0,
          0,
          0,
          0,
          0,
          0,
          0,
          0,
          0,
          0,
          0,
          0,
          0,
          0,
          0,
          0,
          0,
          0,
          0,
          0,
          0,
          0,
          0,
          0,
          0,
          0,
          0,
          0,
          0,
          0,
          0,
          0,
          0,
          0,
          0,
          0,
          0,
          0,
          0,
          0,
          0,
          0,
          0,
          0,
          0,
          0,
          0,
          0,
          0,
          0,
          0,
          0,
          0,
          0,
          0,
          0,
          0,
          0,
          0,
          0,
          0,
          0,
          0,
          0,
          0,
          0,
          0,
          0,
          0,
          0,
          0,
          0,
          0,
          0,
          0,
          0,
          0,
          0,
          0,
          0,
          0,
          0,
          0,
          0,
          0,
          0,
          0,
          0,
          0,
          0,
          0,
          0,
          0,
          0,
          0,
          0,
          0,
          0,
          0,
          0,
          0,
          0,
          0,
          0,
          0,
          0,
          0,
          0,
          0,
          0,
          0,
          0,
          0,
          0,
          0,
          0,
          0,
          0,
          0,
          0,
          0,
          0,
          0,
          0,
          0,
          0,
          0,
          0,
          0,
          0,
          0,
          0,
          0,
          0,
          0,
          0,
          0,
          0,
          0,
          0,
          0,
          0,
          0,
          0,
          0,
          0,
          0,
          0.01,
          0.01,
          0.03,
          0.04,
          0.01,
          0.01,
          0.03,
          0.03,
          0.03,
          0.02,
          0.01,
          0.01,
          0.05,
          0,
          0.06,
          0.04,
          0.04,
          0.01,
          0.07,
          0.01,
          0.06,
          0.25,
          0.06,
          0.09,
          0.02,
          0.04,
          0.08,
          0.2,
          0.01,
          0.1,
          0.02,
          0.15,
          0.11,
          0.24,
          0.09,
          0.14,
          0.17,
          0.01,
          0.09,
          0.32,
          0.05,
          0.17,
          0.2,
          0.37,
          0.07,
          0.25,
          0.02,
          0.41,
          0.12,
          0.09,
          0.19,
          0.05,
          0.4,
          0.05,
          0.42,
          0.12,
          0.07,
          0.1,
          0.25,
          0.08,
          1.03,
          0.39,
          0.33,
          0.08,
          0.42,
          0.43,
          0.79,
          0.38,
          0.02,
          0.1,
          0.06,
          0.11,
          0.51,
          0.49,
          0.09,
          1.69,
          0.04,
          0.03,
          0.57,
          0.62,
          0.76,
          1.02,
          0.25,
          0.11,
          0.08,
          0.68,
          1.17,
          1.44,
          1.51,
          1.67,
          0.63,
          0.13,
          0.82,
          0.32,
          0.05,
          0.8,
          0.51,
          0.25,
          0.29,
          0.35,
          0.79,
          0.59,
          0.33,
          0.7,
          0.07,
          2.49,
          0.55,
          1.15,
          0.51,
          0.82,
          0.11,
          1.17,
          0.55,
          1.19,
          0.63,
          0.17,
          2.58,
          0.15,
          0.97,
          2.21,
          1.2,
          1.21,
          0.15,
          0.88,
          0.11,
          1.09,
          0.46,
          1.2,
          0.33,
          0.57,
          2.08,
          0.84,
          0.03,
          0.43,
          2.02,
          0.68,
          0.48,
          0.21,
          0.13,
          0.86,
          0.53,
          1.05,
          0.18,
          0.21,
          0.95,
          2.01,
          0.38,
          1.06,
          1.65,
          0.73,
          0.94,
          0.4,
          0.65,
          0.43,
          0.67,
          0.33,
          0.65,
          0.17,
          0.46,
          0.85,
          0.64,
          0.35,
          0.17,
          0.34,
          0.62,
          3.67,
          1.23,
          0.41,
          2.4,
          3.24,
          1.6,
          0.53,
          0.61,
          1.08,
          1.52,
          1.77,
          3.05,
          1.37,
          8.65,
          3.67,
          8.42,
          0.62,
          3.21,
          2.8,
          1.14,
          1.47,
          0.79,
          19.87,
          0.82,
          1.06,
          0.82,
          4.06,
          1.78,
          6.54,
          -6.21,
          -6.53,
          -2.61,
          -4.81,
          -0.87,
          -4.6,
          -1.52,
          -6.79,
          -3.61,
          -3.83,
          -2.85,
          -2.55,
          -2.69,
          -0.14,
          -1.9,
          -1.33,
          -1.19,
          -1.15,
          -1.74,
          -1.54,
          -0.87,
          -0.86,
          -0.86,
          -0.11,
          -0.48,
          -0.17,
          -0.1,
          -0.04,
          0,
          0,
          0.36,
          0.19,
          0.22,
          0.75,
          0.28,
          0.46,
          1.29,
          2.85,
          1.02,
          3.03,
          1.56,
          2.22,
          1.51,
          1.45,
          0.48,
          1.96,
          4.98,
          2.22,
          1.32,
          1.93,
          0.78,
          6.41,
          6.39,
          1.79,
          2.37,
          -2.12,
          -8.78,
          -1.45,
          0.03,
          0.23,
          1.36,
          2.26,
          2.45,
          1.66,
          2.8,
          5.38,
          3.39,
          2.7,
          14.63,
          1.46,
          -18.24,
          -1.81,
          -1.13,
          -0.17,
          0,
          0,
          0.33,
          2.38,
          -2.72,
          -0.67,
          -0.82,
          -2.5,
          -1.41,
          -0.13,
          -0.34,
          -0.15,
          -0.82,
          -0.13,
          -0.02,
          -0.01,
          0,
          0,
          0,
          0,
          0,
          0,
          0,
          0,
          0,
          0,
          0,
          0,
          0,
          0.07,
          0.07,
          0.01,
          1.2,
          0.89,
          1.02,
          0.08,
          0.36,
          2.14,
          2.31,
          11.7,
          -0.37,
          -48.35,
          -11.36,
          -3.62,
          -2.82,
          -1.01,
          -2.19,
          -3,
          -0.5,
          -1.49,
          -0.45,
          0,
          0,
          0.08,
          0.23,
          0.74,
          1.3,
          0.52,
          5.2,
          5.23,
          5.69,
          2.45,
          0.7,
          1.86,
          12.95,
          10.05,
          4.85,
          4.37
         ],
         "y0": " ",
         "yaxis": "y"
        },
        {
         "alignmentgroup": "True",
         "customdata": [
          [
           -80.2203696174881,
           96,
           -0.8356288501821677
          ],
          [
           -61.08250517800818,
           10740,
           -0.0056873840947866084
          ],
          [
           -41.23245776633043,
           95,
           -0.4340258712245308
          ],
          [
           -2.685492185869702,
           8,
           -0.33568652323371273
          ],
          [
           -0.49768202110261356,
           34,
           -0.014637706503018046
          ],
          [
           0.6469866274333976,
           13,
           0.04976820211026135
          ],
          [
           1.6408576235753183,
           159,
           0.010319859267769297
          ],
          [
           2.1480676360030366,
           109,
           0.01970704253213795
          ],
          [
           2.4884101055130676,
           19,
           0.1309689529217404
          ],
          [
           4.110853494307587,
           44,
           0.09342848850699062
          ],
          [
           8.39937947014879,
           131,
           0.06411740053548695
          ],
          [
           13.751451925086304,
           259,
           0.0530944089771672
          ],
          [
           13.935096590873183,
           257,
           0.054222165723241955
          ],
          [
           14.239180305766912,
           872,
           0.016329335213035447
          ],
          [
           24.386916716049168,
           17,
           1.4345245127087747
          ],
          [
           27.592486613971094,
           179,
           0.15414796991045304
          ],
          [
           54.28416876974647,
           32,
           1.6963802740545773
          ],
          [
           55.995697240318464,
           437,
           0.1281366069572505
          ],
          [
           56.21766342173013,
           495,
           0.11357103721561643
          ],
          [
           59.95077626202084,
           475,
           0.12621216055162282
          ],
          [
           72.54412212400136,
           273,
           0.26572938506960203
          ],
          [
           73.71992730597411,
           42,
           1.755236364427955
          ],
          [
           82.86903333379631,
           1273,
           0.06509743388357919
          ],
          [
           89.21855104666326,
           101,
           0.8833519905610224
          ],
          [
           98.10777851093326,
           321,
           0.3056317087568014
          ],
          [
           98.70029842507032,
           376,
           0.26250079368369766
          ],
          [
           108.83310437471947,
           366,
           0.2973582086740969
          ],
          [
           116.06492182336116,
           977,
           0.11879725877519054
          ],
          [
           116.20228206118594,
           397,
           0.29270096237074544
          ],
          [
           158.49231412235943,
           806,
           0.19664058824114072
          ],
          [
           248.243792125984,
           743,
           0.33411008361505246
          ],
          [
           487.1455950338501,
           269,
           1.8109501674120823
          ],
          [
           1855.1923488754953,
           2181,
           0.850615474037366
          ],
          [
           2035.761339771943,
           3924,
           0.5187974871997816
          ],
          [
           4812.9136141961835,
           7634,
           0.6304576387472077
          ],
          [
           15581.515811034329,
           11187,
           1.392823438905366
          ],
          [
           15710.133831215191,
           15973,
           0.9835430934210976
          ],
          [
           31685.447941938295,
           29349,
           1.0796091158791883
          ],
          [
           96836.85150769685,
           19500,
           4.965992385010095
          ],
          [
           9.359728295331129,
           112,
           0.08356900263688508
          ],
          [
           116.58238099626405,
           1098,
           0.10617703187273593
          ],
          [
           1600.9925367625333,
           1884,
           0.849783724396249
          ],
          [
           1646.0725802084157,
           1638,
           1.004928315145553
          ],
          [
           1917.1276387968169,
           3574,
           0.5364095240058245
          ],
          [
           3697.979760979554,
           3383,
           1.0931066393672935
          ],
          [
           4526.482426966597,
           4107,
           1.1021384044233253
          ],
          [
           4732.791921337655,
           2485,
           1.904544032731451
          ],
          [
           5267.525806220519,
           1624,
           3.243550373288497
          ],
          [
           17496.0580761411,
           10926,
           1.6013232725737783
          ],
          [
           250658.60998364844,
           71657,
           3.4980338275904437
          ],
          [
           -243.57111690849072,
           29,
           -8.399004031327266
          ],
          [
           -193.85030063677675,
           875,
           -0.22154320072774486
          ],
          [
           -189.52578886069224,
           67,
           -2.8287431173237647
          ],
          [
           -142.24396776283075,
           168,
           -0.846690284302564
          ],
          [
           -48.565891136318925,
           108,
           -0.4496841771881382
          ],
          [
           -25.0615052821218,
           318,
           -0.07880976503811887
          ],
          [
           -23.788504795983215,
           108,
           -0.22026393329614088
          ],
          [
           -17.506524121975595,
           40,
           -0.4376631030493899
          ],
          [
           -14.836912921046947,
           691,
           -0.021471654010198186
          ],
          [
           -11.398618372958829,
           705,
           -0.01616825301128912
          ],
          [
           -9.267074576427461,
           81,
           -0.11440832810404274
          ],
          [
           -2.416856002243428,
           13,
           -0.18591200017257137
          ],
          [
           -0.9224641230640938,
           9,
           -0.10249601367378819
          ],
          [
           -0.643879956053814,
           46,
           -0.013997390348995956
          ],
          [
           1.9168804477271726,
           12,
           0.15974003731059772
          ],
          [
           2.4334603584879995,
           15,
           0.16223069056586664
          ],
          [
           3.394667982285059,
           130,
           0.026112830632961992
          ],
          [
           5.625186222444846,
           34,
           0.165446653601319
          ],
          [
           6.073503788467907,
           38,
           0.1598290470649449
          ],
          [
           8.827981667132569,
           100,
           0.08827981667132569
          ],
          [
           14.814773818438749,
           86,
           0.17226481184231102
          ],
          [
           22.53948840029045,
           192,
           0.11739316875151275
          ],
          [
           30.80476692744745,
           113,
           0.2726085568800659
          ],
          [
           46.385185966368816,
           70,
           0.6626455138052688
          ],
          [
           57.55807143451482,
           271,
           0.21239140750743477
          ],
          [
           64.13893054786084,
           675,
           0.09502063784868273
          ],
          [
           74.2509822183971,
           244,
           0.3043073041737586
          ],
          [
           81.33735159185012,
           287,
           0.28340540624338023
          ],
          [
           81.3521110205866,
           109,
           0.7463496423907028
          ],
          [
           118.59752246117114,
           332,
           0.3572214531962986
          ],
          [
           143.3158711356366,
           617,
           0.23227855937704472
          ],
          [
           144.02063371772473,
           689,
           0.20902849596186462
          ],
          [
           220.4338718232603,
           529,
           0.4166991905921745
          ],
          [
           239.46615158133432,
           642,
           0.3730002361079974
          ],
          [
           250.73497331348196,
           344,
           0.728880736376401
          ],
          [
           261.81007762424895,
           839,
           0.31205015211471865
          ],
          [
           293.44875207503696,
           568,
           0.5166351268926707
          ],
          [
           346.0716404970978,
           1368,
           0.2529763453926154
          ],
          [
           347.1177148556573,
           2288,
           0.1517122879613887
          ],
          [
           736.5876026600178,
           2791,
           0.2639153001289924
          ],
          [
           1400.9647135575685,
           7204,
           0.194470393331145
          ],
          [
           3239.8415953781246,
           8281,
           0.3912379658710451
          ],
          [
           7770.315659006786,
           13394,
           0.5801340644323417
          ],
          [
           -768.2856898557453,
           815,
           -0.9426818280438592
          ],
          [
           4.305053181683774,
           10,
           0.4305053181683774
          ],
          [
           6.063002194102373,
           11,
           0.5511820176456703
          ],
          [
           13.014000051773577,
           33,
           0.39436363793253265
          ],
          [
           18.355309657109768,
           17,
           1.0797240974770452
          ],
          [
           100.57335338383629,
           180,
           0.5587408521324239
          ],
          [
           255.5748791361035,
           392,
           0.6519767324900599
          ],
          [
           303.3791686572041,
           880,
           0.3447490552922774
          ],
          [
           508.2755390925969,
           232,
           2.190842840916366
          ],
          [
           1208.5824937773637,
           1198,
           1.0088334672599029
          ],
          [
           5608.356258839754,
           2078,
           2.6989202400576295
          ],
          [
           7415.125421543104,
           18115,
           0.4093362087520344
          ],
          [
           21535.75555330698,
           11875,
           1.8135373097521668
          ],
          [
           -69.48166416770596,
           36,
           -1.930046226880721
          ],
          [
           -25.42802292504519,
           16,
           -1.5892514328153244
          ],
          [
           6.3419419026666475,
           11,
           0.5765401729696952
          ],
          [
           10.327620755853873,
           149,
           0.06931289097888506
          ],
          [
           11.469024564550258,
           187,
           0.061331682163370364
          ],
          [
           11.6971539873604,
           38,
           0.3078198417726421
          ],
          [
           14.525005955467117,
           55,
           0.2640910173721294
          ],
          [
           65.04042711208889,
           24,
           2.7100177963370373
          ],
          [
           82.61227807126943,
           87,
           0.9495664146122923
          ],
          [
           174.24673149951656,
           149,
           1.1694411510034668
          ],
          [
           2057.4702016451106,
           708,
           2.906031358255806
          ],
          [
           5381.565032019393,
           2135,
           2.5206393592596688
          ],
          [
           -3.289401427786949,
           86,
           -0.038248853811476156
          ],
          [
           48.96485447556284,
           203,
           0.24120617968257554
          ],
          [
           80.64524986271269,
           299,
           0.2697165547247916
          ],
          [
           106.58704008786384,
           323,
           0.329990836185337
          ],
          [
           113.89346512904994,
           228,
           0.4995327417940787
          ],
          [
           140.09335529928615,
           22,
           6.367879786331188
          ],
          [
           2030.7852828116438,
           1144,
           1.7751619604996887
          ],
          [
           3157.2075782537086,
           1926,
           1.6392562711597656
          ],
          [
           5220.661724327285,
           2287,
           2.282755454450059
          ],
          [
           15766.786038570905,
           7092,
           2.2231790804527503
          ],
          [
           -13.760334214823116,
           32,
           -0.4300104442132224
          ],
          [
           -2.6767746947303657,
           10,
           -0.26767746947303656
          ],
          [
           -0.1286499461261235,
           11,
           -0.011695449647829408
          ],
          [
           3.292243092574156,
           96,
           0.03429419888098079
          ],
          [
           4.161597920852245,
           8,
           0.5201997401065306
          ],
          [
           32.53352493143517,
           36,
           0.9037090258731991
          ],
          [
           36.025480038891935,
           80,
           0.4503185004861492
          ],
          [
           54.37197169590126,
           94,
           0.5784252308074602
          ],
          [
           320.8933228832404,
           337,
           0.9522057058849863
          ],
          [
           -581.2,
           356,
           -1.6325842696629216
          ],
          [
           -70.26999999999991,
           153,
           -0.4592810457516334
          ],
          [
           -68.28,
           169,
           -0.40402366863905326
          ],
          [
           -63.93000000000003,
           78,
           -0.819615384615385
          ],
          [
           7.519999999999982,
           12,
           0.6266666666666652
          ],
          [
           13.91000000000001,
           23,
           0.6047826086956526
          ],
          [
           87.92000000000002,
           326,
           0.2696932515337424
          ],
          [
           344.15999999999957,
           438,
           0.7857534246575333
          ],
          [
           568.8599999999998,
           372,
           1.5291935483870962
          ],
          [
           636.1099999999996,
           609,
           1.0445155993431847
          ],
          [
           673.8700000000007,
           485,
           1.3894226804123726
          ],
          [
           1588.5099999999975,
           977,
           1.625905834186282
          ],
          [
           4951.81000000001,
           2985,
           1.6588978224455646
          ]
         ],
         "hovertemplate": "<b>%{hovertext}</b><br><br>Service type=Full service<br>Country=%{x}<br>Markup percentage (%)=%{y}<br>Markup (USD)=%{customdata[0]}<br>Total orders=%{customdata[1]}<br>Markup per order (USD)=%{customdata[2]}<extra></extra>",
         "hovertext": [
          "City Market Farmacia",
          "City Market",
          "Modelorama",
          "Farmacias Purex",
          "The Home Store",
          "K",
          "Maskota",
          "El Globo",
          "Innovasport",
          "Extra",
          "Steren",
          "Parisina",
          "Nespresso",
          "Fantasías Miguel",
          "GamePlanet",
          "Chedraui Farmacia",
          "Mixup",
          "Alsuper Plus",
          "Circle K",
          "Bed Bath and Beyond",
          "Bodegas Alianza",
          "HEB Home",
          "Fresh Market",
          "Juguetron",
          "Krispy Kreme",
          "Vinoteca",
          "Sumesa",
          "Alsuper",
          "OXXO",
          "Lumen",
          "OfficeMax",
          "Sanborns",
          "Petco",
          "Fresko",
          "La Comer",
          "Soriana",
          "Costco",
          "Chedraui",
          "HEB",
          "Liquimax",
          "Casaideas",
          "Unimarc",
          "Paris",
          "Easy",
          "Farmacias Ahumada",
          "Santa Isabel",
          "Salcobrand",
          "SPID 35",
          "Lider",
          "Jumbo",
          "Hippo",
          "Kalunga",
          "Akkí Atacadista",
          "Supermercado Tatico",
          "Mercantil Rodrigues",
          "Nacional",
          "Supermercado Violeta",
          "Casa do Sabão",
          "Carrefour Bairro",
          "Hirota Supermercados",
          "Varanda",
          "Callfarma",
          "Exclusiva Sex",
          "Muffato Gourmet",
          "Hirota Express",
          "Rede Big Market",
          "Mercadorama",
          "Poupafarma",
          "Gimba",
          "Public Superatacados",
          "Perini",
          "Bretas",
          "Bompreço",
          "Super Bompreço",
          "Muffato",
          "Emporium São Paulo",
          "GBarbosa",
          "Carrefour Drogaria",
          "Princesa Supermercados",
          "Barbosa Supermercados",
          "Roldão Atacadista",
          "BIG Bompreço",
          "Bem Barato Supermercados",
          "Droga Raia",
          "Super Nosso",
          "Carrefour Pamplona",
          "Drogasil",
          "Maxxi",
          "Prezunic",
          "Sam's Club",
          "Big",
          "Atacadão",
          "Carrefour Hiper",
          "Organic Garage",
          "Well.ca Pharmacy",
          "Brunet",
          "Canadian Tire",
          "The Body Shop",
          "Galleria Supermarket",
          "Jean Coutu",
          "Rexall",
          "H&M",
          "Costco",
          "Longo's",
          "Walmart",
          "Metro",
          "Locatel",
          "Puppis",
          "Metro",
          "Justo & Bueno",
          "Ara",
          "Farmatodo",
          "Surtifruver",
          "Easy",
          "Colsubsidio",
          "Euro",
          "Alkosto",
          "Jumbo",
          "Boticas Perú",
          "Tai Loy",
          "Inkafarma",
          "Flora & Fauna",
          "Casaideas",
          "Wong Gourmet",
          "Vivanda",
          "Makro",
          "Metro",
          "Wong",
          "Maxiconsumo",
          "Super Fácil",
          "Super Salón",
          "Fresh Market",
          "Fischel",
          "Mayca",
          "Saretto",
          "Super Compro",
          "Perimercado",
          "Gristedes",
          "D'Agostino",
          "Streets Market",
          "Aqui Market",
          "The Body Shop",
          "Cox Farms Market",
          "Westside Market",
          "Fiesta Mart",
          "Albertsons",
          "Randalls",
          "Fresco y Más",
          "Tom Thumb",
          "Winn-Dixie"
         ],
         "legendgroup": "Full service",
         "marker": {
          "color": "#EF553B"
         },
         "name": "Full service",
         "notched": false,
         "offsetgroup": "Full service",
         "orientation": "v",
         "showlegend": true,
         "type": "box",
         "x": [
          "MX",
          "MX",
          "MX",
          "MX",
          "MX",
          "MX",
          "MX",
          "MX",
          "MX",
          "MX",
          "MX",
          "MX",
          "MX",
          "MX",
          "MX",
          "MX",
          "MX",
          "MX",
          "MX",
          "MX",
          "MX",
          "MX",
          "MX",
          "MX",
          "MX",
          "MX",
          "MX",
          "MX",
          "MX",
          "MX",
          "MX",
          "MX",
          "MX",
          "MX",
          "MX",
          "MX",
          "MX",
          "MX",
          "MX",
          "CL",
          "CL",
          "CL",
          "CL",
          "CL",
          "CL",
          "CL",
          "CL",
          "CL",
          "CL",
          "CL",
          "BR",
          "BR",
          "BR",
          "BR",
          "BR",
          "BR",
          "BR",
          "BR",
          "BR",
          "BR",
          "BR",
          "BR",
          "BR",
          "BR",
          "BR",
          "BR",
          "BR",
          "BR",
          "BR",
          "BR",
          "BR",
          "BR",
          "BR",
          "BR",
          "BR",
          "BR",
          "BR",
          "BR",
          "BR",
          "BR",
          "BR",
          "BR",
          "BR",
          "BR",
          "BR",
          "BR",
          "BR",
          "BR",
          "BR",
          "BR",
          "BR",
          "BR",
          "BR",
          "CA",
          "CA",
          "CA",
          "CA",
          "CA",
          "CA",
          "CA",
          "CA",
          "CA",
          "CA",
          "CA",
          "CA",
          "CA",
          "CO",
          "CO",
          "CO",
          "CO",
          "CO",
          "CO",
          "CO",
          "CO",
          "CO",
          "CO",
          "CO",
          "CO",
          "PE",
          "PE",
          "PE",
          "PE",
          "PE",
          "PE",
          "PE",
          "PE",
          "PE",
          "PE",
          "CR",
          "CR",
          "CR",
          "CR",
          "CR",
          "CR",
          "CR",
          "CR",
          "CR",
          "US",
          "US",
          "US",
          "US",
          "US",
          "US",
          "US",
          "US",
          "US",
          "US",
          "US",
          "US",
          "US"
         ],
         "x0": " ",
         "xaxis": "x",
         "y": [
          -2.34,
          -0.01,
          -3.27,
          -5.24,
          -0.03,
          0.73,
          0.02,
          0.14,
          0.39,
          1.06,
          0.26,
          0.3,
          0.13,
          0.1,
          3.76,
          0.47,
          3.01,
          0.22,
          1.17,
          0.2,
          0.56,
          6.06,
          0.1,
          2.82,
          2.56,
          0.46,
          0.86,
          0.22,
          3.73,
          0.85,
          1.34,
          6.13,
          1.64,
          0.89,
          1.07,
          2.9,
          1.27,
          1.81,
          7.65,
          0.24,
          0.3,
          1.87,
          1.49,
          1.33,
          2.32,
          1.73,
          4.18,
          10.66,
          2.32,
          3.83,
          -16.21,
          -0.98,
          -6.09,
          -2.09,
          -1,
          -0.26,
          -0.67,
          -1.63,
          -0.06,
          -0.04,
          -0.27,
          -1.2,
          -0.47,
          -0.04,
          0.78,
          1.03,
          0.07,
          1.38,
          0.67,
          0.24,
          0.59,
          0.37,
          0.72,
          2.06,
          0.59,
          0.19,
          0.68,
          1.4,
          3.07,
          1.04,
          0.59,
          0.5,
          1.02,
          1.64,
          2.14,
          0.7,
          2.19,
          0.62,
          0.37,
          0.38,
          0.45,
          0.87,
          1.37,
          -1.3,
          1.42,
          2.33,
          0.91,
          2.19,
          1.24,
          2.06,
          0.9,
          3.55,
          1.36,
          4.55,
          0.71,
          3.07,
          -6.1,
          -4.21,
          2.15,
          0.24,
          0.17,
          0.74,
          0.92,
          8.36,
          1.79,
          2.28,
          3.19,
          3.73,
          -0.17,
          1.11,
          0.87,
          0.99,
          1.49,
          13.57,
          3.55,
          2.13,
          4.3,
          3.27,
          -1.21,
          -0.68,
          -0.02,
          0.12,
          3.1,
          2.58,
          0.92,
          1.27,
          2.3,
          -2.56,
          -0.77,
          -0.96,
          -1.68,
          1.3,
          1.77,
          0.51,
          2.06,
          3.83,
          2.7,
          2.72,
          3.78,
          3.43
         ],
         "y0": " ",
         "yaxis": "y"
        }
       ],
       "layout": {
        "annotations": [
         {
          "showarrow": false,
          "text": "Data from stores with at least 8 weekly orders",
          "x": "CR",
          "y": -6.5
         }
        ],
        "boxmode": "group",
        "legend": {
         "title": {
          "text": "Service type"
         },
         "tracegroupgap": 0
        },
        "template": {
         "data": {
          "bar": [
           {
            "error_x": {
             "color": "#2a3f5f"
            },
            "error_y": {
             "color": "#2a3f5f"
            },
            "marker": {
             "line": {
              "color": "#E5ECF6",
              "width": 0.5
             }
            },
            "type": "bar"
           }
          ],
          "barpolar": [
           {
            "marker": {
             "line": {
              "color": "#E5ECF6",
              "width": 0.5
             }
            },
            "type": "barpolar"
           }
          ],
          "carpet": [
           {
            "aaxis": {
             "endlinecolor": "#2a3f5f",
             "gridcolor": "white",
             "linecolor": "white",
             "minorgridcolor": "white",
             "startlinecolor": "#2a3f5f"
            },
            "baxis": {
             "endlinecolor": "#2a3f5f",
             "gridcolor": "white",
             "linecolor": "white",
             "minorgridcolor": "white",
             "startlinecolor": "#2a3f5f"
            },
            "type": "carpet"
           }
          ],
          "choropleth": [
           {
            "colorbar": {
             "outlinewidth": 0,
             "ticks": ""
            },
            "type": "choropleth"
           }
          ],
          "contour": [
           {
            "colorbar": {
             "outlinewidth": 0,
             "ticks": ""
            },
            "colorscale": [
             [
              0,
              "#0d0887"
             ],
             [
              0.1111111111111111,
              "#46039f"
             ],
             [
              0.2222222222222222,
              "#7201a8"
             ],
             [
              0.3333333333333333,
              "#9c179e"
             ],
             [
              0.4444444444444444,
              "#bd3786"
             ],
             [
              0.5555555555555556,
              "#d8576b"
             ],
             [
              0.6666666666666666,
              "#ed7953"
             ],
             [
              0.7777777777777778,
              "#fb9f3a"
             ],
             [
              0.8888888888888888,
              "#fdca26"
             ],
             [
              1,
              "#f0f921"
             ]
            ],
            "type": "contour"
           }
          ],
          "contourcarpet": [
           {
            "colorbar": {
             "outlinewidth": 0,
             "ticks": ""
            },
            "type": "contourcarpet"
           }
          ],
          "heatmap": [
           {
            "colorbar": {
             "outlinewidth": 0,
             "ticks": ""
            },
            "colorscale": [
             [
              0,
              "#0d0887"
             ],
             [
              0.1111111111111111,
              "#46039f"
             ],
             [
              0.2222222222222222,
              "#7201a8"
             ],
             [
              0.3333333333333333,
              "#9c179e"
             ],
             [
              0.4444444444444444,
              "#bd3786"
             ],
             [
              0.5555555555555556,
              "#d8576b"
             ],
             [
              0.6666666666666666,
              "#ed7953"
             ],
             [
              0.7777777777777778,
              "#fb9f3a"
             ],
             [
              0.8888888888888888,
              "#fdca26"
             ],
             [
              1,
              "#f0f921"
             ]
            ],
            "type": "heatmap"
           }
          ],
          "heatmapgl": [
           {
            "colorbar": {
             "outlinewidth": 0,
             "ticks": ""
            },
            "colorscale": [
             [
              0,
              "#0d0887"
             ],
             [
              0.1111111111111111,
              "#46039f"
             ],
             [
              0.2222222222222222,
              "#7201a8"
             ],
             [
              0.3333333333333333,
              "#9c179e"
             ],
             [
              0.4444444444444444,
              "#bd3786"
             ],
             [
              0.5555555555555556,
              "#d8576b"
             ],
             [
              0.6666666666666666,
              "#ed7953"
             ],
             [
              0.7777777777777778,
              "#fb9f3a"
             ],
             [
              0.8888888888888888,
              "#fdca26"
             ],
             [
              1,
              "#f0f921"
             ]
            ],
            "type": "heatmapgl"
           }
          ],
          "histogram": [
           {
            "marker": {
             "colorbar": {
              "outlinewidth": 0,
              "ticks": ""
             }
            },
            "type": "histogram"
           }
          ],
          "histogram2d": [
           {
            "colorbar": {
             "outlinewidth": 0,
             "ticks": ""
            },
            "colorscale": [
             [
              0,
              "#0d0887"
             ],
             [
              0.1111111111111111,
              "#46039f"
             ],
             [
              0.2222222222222222,
              "#7201a8"
             ],
             [
              0.3333333333333333,
              "#9c179e"
             ],
             [
              0.4444444444444444,
              "#bd3786"
             ],
             [
              0.5555555555555556,
              "#d8576b"
             ],
             [
              0.6666666666666666,
              "#ed7953"
             ],
             [
              0.7777777777777778,
              "#fb9f3a"
             ],
             [
              0.8888888888888888,
              "#fdca26"
             ],
             [
              1,
              "#f0f921"
             ]
            ],
            "type": "histogram2d"
           }
          ],
          "histogram2dcontour": [
           {
            "colorbar": {
             "outlinewidth": 0,
             "ticks": ""
            },
            "colorscale": [
             [
              0,
              "#0d0887"
             ],
             [
              0.1111111111111111,
              "#46039f"
             ],
             [
              0.2222222222222222,
              "#7201a8"
             ],
             [
              0.3333333333333333,
              "#9c179e"
             ],
             [
              0.4444444444444444,
              "#bd3786"
             ],
             [
              0.5555555555555556,
              "#d8576b"
             ],
             [
              0.6666666666666666,
              "#ed7953"
             ],
             [
              0.7777777777777778,
              "#fb9f3a"
             ],
             [
              0.8888888888888888,
              "#fdca26"
             ],
             [
              1,
              "#f0f921"
             ]
            ],
            "type": "histogram2dcontour"
           }
          ],
          "mesh3d": [
           {
            "colorbar": {
             "outlinewidth": 0,
             "ticks": ""
            },
            "type": "mesh3d"
           }
          ],
          "parcoords": [
           {
            "line": {
             "colorbar": {
              "outlinewidth": 0,
              "ticks": ""
             }
            },
            "type": "parcoords"
           }
          ],
          "pie": [
           {
            "automargin": true,
            "type": "pie"
           }
          ],
          "scatter": [
           {
            "marker": {
             "colorbar": {
              "outlinewidth": 0,
              "ticks": ""
             }
            },
            "type": "scatter"
           }
          ],
          "scatter3d": [
           {
            "line": {
             "colorbar": {
              "outlinewidth": 0,
              "ticks": ""
             }
            },
            "marker": {
             "colorbar": {
              "outlinewidth": 0,
              "ticks": ""
             }
            },
            "type": "scatter3d"
           }
          ],
          "scattercarpet": [
           {
            "marker": {
             "colorbar": {
              "outlinewidth": 0,
              "ticks": ""
             }
            },
            "type": "scattercarpet"
           }
          ],
          "scattergeo": [
           {
            "marker": {
             "colorbar": {
              "outlinewidth": 0,
              "ticks": ""
             }
            },
            "type": "scattergeo"
           }
          ],
          "scattergl": [
           {
            "marker": {
             "colorbar": {
              "outlinewidth": 0,
              "ticks": ""
             }
            },
            "type": "scattergl"
           }
          ],
          "scattermapbox": [
           {
            "marker": {
             "colorbar": {
              "outlinewidth": 0,
              "ticks": ""
             }
            },
            "type": "scattermapbox"
           }
          ],
          "scatterpolar": [
           {
            "marker": {
             "colorbar": {
              "outlinewidth": 0,
              "ticks": ""
             }
            },
            "type": "scatterpolar"
           }
          ],
          "scatterpolargl": [
           {
            "marker": {
             "colorbar": {
              "outlinewidth": 0,
              "ticks": ""
             }
            },
            "type": "scatterpolargl"
           }
          ],
          "scatterternary": [
           {
            "marker": {
             "colorbar": {
              "outlinewidth": 0,
              "ticks": ""
             }
            },
            "type": "scatterternary"
           }
          ],
          "surface": [
           {
            "colorbar": {
             "outlinewidth": 0,
             "ticks": ""
            },
            "colorscale": [
             [
              0,
              "#0d0887"
             ],
             [
              0.1111111111111111,
              "#46039f"
             ],
             [
              0.2222222222222222,
              "#7201a8"
             ],
             [
              0.3333333333333333,
              "#9c179e"
             ],
             [
              0.4444444444444444,
              "#bd3786"
             ],
             [
              0.5555555555555556,
              "#d8576b"
             ],
             [
              0.6666666666666666,
              "#ed7953"
             ],
             [
              0.7777777777777778,
              "#fb9f3a"
             ],
             [
              0.8888888888888888,
              "#fdca26"
             ],
             [
              1,
              "#f0f921"
             ]
            ],
            "type": "surface"
           }
          ],
          "table": [
           {
            "cells": {
             "fill": {
              "color": "#EBF0F8"
             },
             "line": {
              "color": "white"
             }
            },
            "header": {
             "fill": {
              "color": "#C8D4E3"
             },
             "line": {
              "color": "white"
             }
            },
            "type": "table"
           }
          ]
         },
         "layout": {
          "annotationdefaults": {
           "arrowcolor": "#2a3f5f",
           "arrowhead": 0,
           "arrowwidth": 1
          },
          "autotypenumbers": "strict",
          "coloraxis": {
           "colorbar": {
            "outlinewidth": 0,
            "ticks": ""
           }
          },
          "colorscale": {
           "diverging": [
            [
             0,
             "#8e0152"
            ],
            [
             0.1,
             "#c51b7d"
            ],
            [
             0.2,
             "#de77ae"
            ],
            [
             0.3,
             "#f1b6da"
            ],
            [
             0.4,
             "#fde0ef"
            ],
            [
             0.5,
             "#f7f7f7"
            ],
            [
             0.6,
             "#e6f5d0"
            ],
            [
             0.7,
             "#b8e186"
            ],
            [
             0.8,
             "#7fbc41"
            ],
            [
             0.9,
             "#4d9221"
            ],
            [
             1,
             "#276419"
            ]
           ],
           "sequential": [
            [
             0,
             "#0d0887"
            ],
            [
             0.1111111111111111,
             "#46039f"
            ],
            [
             0.2222222222222222,
             "#7201a8"
            ],
            [
             0.3333333333333333,
             "#9c179e"
            ],
            [
             0.4444444444444444,
             "#bd3786"
            ],
            [
             0.5555555555555556,
             "#d8576b"
            ],
            [
             0.6666666666666666,
             "#ed7953"
            ],
            [
             0.7777777777777778,
             "#fb9f3a"
            ],
            [
             0.8888888888888888,
             "#fdca26"
            ],
            [
             1,
             "#f0f921"
            ]
           ],
           "sequentialminus": [
            [
             0,
             "#0d0887"
            ],
            [
             0.1111111111111111,
             "#46039f"
            ],
            [
             0.2222222222222222,
             "#7201a8"
            ],
            [
             0.3333333333333333,
             "#9c179e"
            ],
            [
             0.4444444444444444,
             "#bd3786"
            ],
            [
             0.5555555555555556,
             "#d8576b"
            ],
            [
             0.6666666666666666,
             "#ed7953"
            ],
            [
             0.7777777777777778,
             "#fb9f3a"
            ],
            [
             0.8888888888888888,
             "#fdca26"
            ],
            [
             1,
             "#f0f921"
            ]
           ]
          },
          "colorway": [
           "#636efa",
           "#EF553B",
           "#00cc96",
           "#ab63fa",
           "#FFA15A",
           "#19d3f3",
           "#FF6692",
           "#B6E880",
           "#FF97FF",
           "#FECB52"
          ],
          "font": {
           "color": "#2a3f5f"
          },
          "geo": {
           "bgcolor": "white",
           "lakecolor": "white",
           "landcolor": "#E5ECF6",
           "showlakes": true,
           "showland": true,
           "subunitcolor": "white"
          },
          "hoverlabel": {
           "align": "left"
          },
          "hovermode": "closest",
          "mapbox": {
           "style": "light"
          },
          "paper_bgcolor": "white",
          "plot_bgcolor": "#E5ECF6",
          "polar": {
           "angularaxis": {
            "gridcolor": "white",
            "linecolor": "white",
            "ticks": ""
           },
           "bgcolor": "#E5ECF6",
           "radialaxis": {
            "gridcolor": "white",
            "linecolor": "white",
            "ticks": ""
           }
          },
          "scene": {
           "xaxis": {
            "backgroundcolor": "#E5ECF6",
            "gridcolor": "white",
            "gridwidth": 2,
            "linecolor": "white",
            "showbackground": true,
            "ticks": "",
            "zerolinecolor": "white"
           },
           "yaxis": {
            "backgroundcolor": "#E5ECF6",
            "gridcolor": "white",
            "gridwidth": 2,
            "linecolor": "white",
            "showbackground": true,
            "ticks": "",
            "zerolinecolor": "white"
           },
           "zaxis": {
            "backgroundcolor": "#E5ECF6",
            "gridcolor": "white",
            "gridwidth": 2,
            "linecolor": "white",
            "showbackground": true,
            "ticks": "",
            "zerolinecolor": "white"
           }
          },
          "shapedefaults": {
           "line": {
            "color": "#2a3f5f"
           }
          },
          "ternary": {
           "aaxis": {
            "gridcolor": "white",
            "linecolor": "white",
            "ticks": ""
           },
           "baxis": {
            "gridcolor": "white",
            "linecolor": "white",
            "ticks": ""
           },
           "bgcolor": "#E5ECF6",
           "caxis": {
            "gridcolor": "white",
            "linecolor": "white",
            "ticks": ""
           }
          },
          "title": {
           "x": 0.05
          },
          "xaxis": {
           "automargin": true,
           "gridcolor": "white",
           "linecolor": "white",
           "ticks": "",
           "title": {
            "standoff": 15
           },
           "zerolinecolor": "white",
           "zerolinewidth": 2
          },
          "yaxis": {
           "automargin": true,
           "gridcolor": "white",
           "linecolor": "white",
           "ticks": "",
           "title": {
            "standoff": 15
           },
           "zerolinecolor": "white",
           "zerolinewidth": 2
          }
         }
        },
        "title": {
         "text": "Markup percentage distributions by country and service type, week: 2021-05"
        },
        "xaxis": {
         "anchor": "y",
         "domain": [
          0,
          1
         ],
         "title": {
          "text": "Country"
         }
        },
        "yaxis": {
         "anchor": "x",
         "domain": [
          0,
          1
         ],
         "dtick": 2,
         "range": [
          -8,
          12
         ],
         "title": {
          "text": "Markup percentage (%)"
         }
        }
       }
      },
      "text/html": [
       "<div>                            <div id=\"0546d0ed-fa18-44b5-bf29-1dea35d36870\" class=\"plotly-graph-div\" style=\"height:525px; width:100%;\"></div>            <script type=\"text/javascript\">                require([\"plotly\"], function(Plotly) {                    window.PLOTLYENV=window.PLOTLYENV || {};                                    if (document.getElementById(\"0546d0ed-fa18-44b5-bf29-1dea35d36870\")) {                    Plotly.newPlot(                        \"0546d0ed-fa18-44b5-bf29-1dea35d36870\",                        [{\"alignmentgroup\": \"True\", \"customdata\": [[-407.44132167224586, 901.0, -0.4522101239425592], [-135.88560599579426, 17.0, -7.993270940929074], [-72.46250227254053, 13.0, -5.574038636349272], [-52.740856822307265, 118.0, -0.44695641374836664], [-48.5558487068554, 81.0, -0.5994549223068568], [-44.09462706969156, 9.0, -4.899403007743507], [-42.900190219045285, 703.0, -0.06102445265867039], [-34.13700519147046, 38.0, -0.8983422418808015], [-32.02285196582658, 14.0, -2.287346568987613], [-28.882478412669066, 33.0, -0.8752266185657293], [-27.994613687022014, 20.0, -1.3997306843511006], [-26.770315915109588, 15.0, -1.7846877276739725], [-25.630624086784596, 40.0, -0.6407656021696149], [-25.531087682564074, 46.0, -0.5550236452731321], [-23.452767562439572, 14.0, -1.675197683031398], [-22.070704589837593, 55.0, -0.40128553799704714], [-20.778224381034114, 121.0, -0.1717208626531745], [-18.537659922030148, 13.0, -1.4259738401561652], [-15.975592877393895, 270.0, -0.05916886250886628], [-15.129533441519452, 20.0, -0.7564766720759726], [-14.796584169401804, 13.0, -1.1381987822616773], [-14.420834243469349, 50.0, -0.288416684869387], [-14.034632995093702, 36.0, -0.3898509165303806], [-12.79042794233718, 55.0, -0.23255323531522146], [-12.185246604676388, 10.0, -1.2185246604676387], [-10.98234915967136, 259.0, -0.04240289250838363], [-10.931087911497807, 8.0, -1.3663859889372258], [-10.70016345370619, 10.0, -1.070016345370619], [-10.248268178545016, 86.0, -0.11916590905284903], [-9.11604158053657, 22.0, -0.41436552638802593], [-8.810464819579568, 20.0, -0.44052324097897844], [-8.46059435874443, 28.0, -0.3021640842408725], [-7.8633759334212945, 36.0, -0.2184271092617026], [-7.506537924290719, 16.0, -0.46915862026816996], [-7.067084699657112, 8.0, -0.883385587457139], [-6.967548295436587, 9.0, -0.7741720328262874], [-6.6405712075721715, 28.0, -0.23716325741329183], [-6.5982682357784554, 22.0, -0.2999212834444753], [-6.345445769058323, 32.0, -0.19829518028307258], [-5.412291979490923, 8.0, -0.6765364974363653], [-5.177883747551602, 27.0, -0.19177347213154083], [-4.230297179372215, 10.0, -0.4230297179372215], [-4.085969393252457, 45.0, -0.0907993198500546], [-4.044661785500935, 12.0, -0.3370551487917446], [-3.6330787540490803, 15.0, -0.2422052502699387], [-3.5643986351369144, 8.0, -0.4455498293921143], [-3.4544109084731995, 20.0, -0.17272054542365997], [-3.23344009110368, 27.0, -0.1197570404112474], [-2.9860921266156812, 64.0, -0.04665768947837002], [-2.8591832112345172, 16.0, -0.17869895070215733], [-2.7621352171194955, 119.0, -0.023211220311928533], [-2.5879465097335905, 36.0, -0.07188740304815529], [-2.5381783076233293, 9.0, -0.2820198119581477], [-2.4884101055130676, 8.0, -0.31105126318913345], [-2.470991234774481, 10.0, -0.24709912347744808], [-2.239569094961761, 31.0, -0.0722441643536052], [-2.114153225643903, 21.0, -0.10067396312590014], [-1.9409598823001928, 35.0, -0.05545599663714836], [-1.9160757812450622, 34.0, -0.056355170036619474], [-1.853865528607234, 9.0, -0.2059850587341371], [-1.4930460633078406, 26.0, -0.0574248485887631], [-1.4432778611975794, 16.0, -0.09020486632484871], [-1.393509659087318, 8.0, -0.17418870738591474], [-1.2939732548667953, 25.0, -0.05175893019467181], [-1.1446686485360076, 11.0, -0.10406078623054614], [-1.0685232993073124, 11.0, -0.09713848175521021], [-0.9022975042590347, 80.0, -0.011278718803237933], [-0.8072402382284348, 16.0, -0.05045251488927718], [-0.7947981877008755, 62.0, -0.012819325608078637], [-0.7281087968731262, 10.0, -0.07281087968731262], [-0.619614116272742, 55.0, -0.011265711204958945], [-0.4479138189923522, 17.0, -0.026347871705432485], [-0.4479138189923522, 80.0, -0.005598922737404402], [-0.4479138189923522, 13.0, -0.034454909153257864], [-0.3981456168820908, 24.0, -0.01658940070342045], [-0.3981456168820908, 15.0, -0.026543041125472722], [-0.3757499259324667, 11.0, -0.03415908417567879], [-0.29860921266156815, 41.0, -0.00728315152833093], [-0.25630624086784487, 22.0, -0.01165028367581113], [-0.24884101055130678, 8.0, -0.031105126318913347], [0.0, 10.0, 0.0], [0.0, 16.0, 0.0], [0.0, 15.0, 0.0], [0.0, 10.0, 0.0], [0.0, 11.0, 0.0], [0.0, 18.0, 0.0], [0.0, 17.0, 0.0], [0.0, 14.0, 0.0], [0.0, 9.0, 0.0], [0.0, 8.0, 0.0], [0.0, 26.0, 0.0], [0.0, 8.0, 0.0], [0.0, 11.0, 0.0], [0.0, 10.0, 0.0], [0.0, 11.0, 0.0], [0.0, 15.0, 0.0], [0.0, 9.0, 0.0], [0.0, 8.0, 0.0], [0.0, 10.0, 0.0], [0.0, 24.0, 0.0], [0.0, 15.0, 0.0], [0.0, 31.0, 0.0], [0.0, 19.0, 0.0], [4.2434921377544036e-15, 9.0, 4.714991264171559e-16], [0.04976820211026135, 18.0, 0.002764900117236742], [0.23739432406594577, 8.0, 0.02967429050824322], [0.24884101055130678, 23.0, 0.010819174371795947], [0.40013634496649947, 15.0, 0.026675756331099965], [0.49867738514481785, 14.0, 0.03561981322462985], [0.696754829543659, 20.0, 0.03483774147718295], [0.7505044878227461, 11.0, 0.06822768071115874], [0.8958276379847044, 17.0, 0.05269574341086497], [0.9953640422052271, 11.0, 0.09048764020047519], [1.0451322443154885, 33.0, 0.03167067407016632], [1.2442050527565338, 16.0, 0.07776281579728336], [1.293475572845693, 15.0, 0.08623170485637953], [1.3188573559219259, 25.0, 0.05275429423687703], [1.4432778611975794, 49.0, 0.02945465022852203], [1.5930801495494655, 13.0, 0.12254462688842042], [1.7418870738591474, 20.0, 0.08709435369295737], [1.7916552759694089, 11.0, 0.16287775236085536], [2.1902985748726027, 19.0, 0.11527887236171593], [2.316212126211569, 9.0, 0.25735690291239655], [2.3391054991822835, 33.0, 0.07088198482370556], [2.388873701292545, 42.0, 0.05687794526887012], [2.9467752469485804, 196.0, 0.015034567586472349], [2.9860921266156812, 10.0, 0.29860921266156815], [3.9814561688209085, 15.0, 0.2654304112547272], [4.130760775151693, 9.0, 0.45897341946129916], [4.727979200474829, 8.0, 0.5909974000593536], [5.160464876812994, 45.0, 0.11467699726251097], [5.225661221577442, 56.0, 0.09331537895674004], [5.607383331763151, 32.0, 0.17523072911759846], [6.382274238619936, 251.0, 0.025427387404860304], [6.881449305785839, 57.0, 0.12072718080326034], [7.012339677335829, 31.0, 0.22620450572051062], [7.216389305987897, 13.0, 0.5551068696913767], [9.117534626599886, 45.0, 0.20261188059110857], [9.844648059430796, 16.0, 0.6152905037144247], [10.152713230493317, 102.0, 0.09953640422052272], [12.043904910683247, 20.0, 0.6021952455341624], [12.1897257428663, 75.0, 0.16252967657155065], [12.714282593108488, 14.0, 0.908163042364892], [14.836896413111123, 24.0, 0.6182040172129635], [15.218120841275736, 72.0, 0.211362789462163], [16.821652313268338, 139.0, 0.1210190813904197], [17.790639208355127, 9.0, 1.9767376898172364], [18.25298580595947, 12.0, 1.5210821504966223], [18.4142347807967, 51.0, 0.3610634270744451], [25.829696895225638, 159.0, 0.16245092386934362], [26.849945038486002, 85.0, 0.3158817063351294], [30.058998710555652, 10.0, 3.0058998710555653], [30.119218235109116, 172.0, 0.175111733925053], [48.739493372642265, 29.0, 1.6806721852635265], [54.262270760817955, 26.0, 2.0870104138776138], [117.5594609327327, 78.0, 1.5071725760606758], [-118.30882027970387, 47.0, -2.517208942121359], [-64.10735443483884, 116.0, -0.5526496071968865], [-53.62734977983488, 724.0, -0.07407092511026916], [-51.67590063717896, 251.0, -0.2058800822198365], [-42.835058714161306, 68.0, -0.6299273340317839], [-41.19725967829146, 148.0, -0.27835986269115853], [-39.196717475442945, 108.0, -0.3629325692170643], [-33.12008758049205, 62.0, -0.5341949609756782], [-32.305960998964736, 46.0, -0.7023034999774943], [-29.6181159534198, 943.0, -0.03140839443628823], [-26.988909840882698, 76.0, -0.3551172347484566], [-26.451613570997, 105.0, -0.2519201292475905], [-26.371155500125795, 109.0, -0.24193720642317243], [-25.09200854288523, 81.0, -0.3097778832454967], [-20.98728323233716, 100.0, -0.2098728323233716], [-18.409897572225578, 374.0, -0.04922432505942668], [-17.91896697029956, 9.0, -1.9909963300332845], [-17.89169304797034, 72.0, -0.2484957367773658], [-17.098021908189946, 31.0, -0.5515490938125789], [-17.073475378093647, 87.0, -0.19624684342636375], [-16.942560550913377, 64.0, -0.2647275086080215], [-16.868920960624475, 19.0, -0.887837945296025], [-16.364353397533847, 21.0, -0.7792549236920879], [-15.682505339303269, 31.0, -0.5058872690097829], [-15.587046611150988, 22.0, -0.7085021186886813], [-15.273396504364923, 13.0, -1.1748766541819171], [-15.101570793690819, 215.0, -0.07023986415670148], [-14.727918057780462, 233.0, -0.06320994874583889], [-14.605185407298958, 67.0, -0.21798784189998444], [-14.455178834488231, 8.0, -1.806897354311029], [-14.182439611196001, 19.0, -0.7464441900629474], [-13.636961164611538, 31.0, -0.4399019730519851], [-13.20194210346043, 45.0, -0.29337649118800957], [-12.982387028710185, 267.0, -0.04862317239217298], [-11.318677766627577, 399.0, -0.028367613450194427], [-11.112759653041943, 56.0, -0.19844213666146326], [-11.058211808383497, 42.0, -0.2632907573424642], [-10.09135126181254, 32.0, -0.31535472693164185], [-9.924980335604278, 192.0, -0.051692605914605616], [-9.327681436594293, 40.0, -0.23319203591485732], [-9.254041846305391, 27.0, -0.3427422906039034], [-8.726291449234923, 14.0, -0.6233065320882087], [-8.724927753118463, 46.0, -0.189672342459097], [-8.182176698766924, 82.0, -0.09978264266788932], [-8.168539737602313, 17.0, -0.4805023375060184], [-8.003532507510512, 32.0, -0.2501103908597035], [-7.804432874507183, 194.0, -0.040229035435604035], [-7.4457807958779005, 24.0, -0.3102408664949125], [-7.363959028890231, 23.0, -0.3201721316908796], [-7.363959028890231, 25.0, -0.29455836115560924], [-7.254863339573339, 31.0, -0.23402784966365608], [-7.173041572585669, 17.0, -0.42194362191680407], [-6.818480582305769, 28.0, -0.24351716365377746], [-6.590743330856757, 17.0, -0.38769078416804453], [-6.5321043978489275, 35.0, -0.18663155422425506], [-6.409371747367423, 97.0, -0.06607599739554045], [-6.000262912429077, 22.0, -0.27273922329223077], [-5.917077449324947, 22.0, -0.2689580658784067], [-5.892530919228646, 60.0, -0.09820884865381077], [-5.88571243864634, 65.0, -0.09054942213302063], [-5.842074162919583, 52.0, -0.11234758005614583], [-5.693431286225318, 65.0, -0.08759125055731258], [-5.662066275546711, 13.0, -0.4355435596574393], [-5.522969271667673, 18.0, -0.3068316262037596], [-5.454784465844615, 23.0, -0.23716454199324416], [-5.454784465844615, 45.0, -0.12121743257432478], [-5.4275105435153925, 35.0, -0.1550717298147255], [-5.413873582350781, 91.0, -0.05949311628956902], [-5.3184148541985, 16.0, -0.33240092838740626], [-4.929761461007072, 46.0, -0.1071687274131972], [-4.861576655184013, 48.0, -0.10128284698300027], [-4.811119898874951, 9.0, -0.5345688776527724], [-4.772936407614038, 9.0, -0.5303262675126709], [-4.636566795967923, 30.0, -0.1545522265322641], [-4.474286958109046, 27.0, -0.1657143317818165], [-4.3992836717036825, 366.0, -0.012019900742359788], [-4.363827572675692, 34.0, -0.12834786978457918], [-4.166091635788825, 133.0, -0.03132399726157011], [-4.101997918315151, 78.0, -0.05258971690147629], [-4.091088349383462, 28.0, -0.14611029819226648], [-4.091088349383462, 26.0, -0.15734955189936392], [-4.091088349383462, 20.0, -0.20455441746917308], [-3.954718737737346, 9.0, -0.43941319308192733], [-3.819712822207692, 70.0, -0.05456732603153846], [-3.818349126091231, 15.0, -0.2545566084060821], [-3.6819795144451155, 12.0, -0.30683162620375964], [-3.613794708622058, 8.0, -0.45172433857775723], [-3.4065128989199622, 356.0, -0.009568856457640343], [-3.395603329988273, 70.0, -0.04850861899983247], [-3.0001314562145387, 62.0, -0.048389217035718364], [-2.9455836115560925, 200.0, -0.014727918057780462], [-2.922400777576253, 125.0, -0.023379206220610023], [-2.9101275125281023, 11.0, -0.26455704659346385], [-2.881489894082418, 37.0, -0.07787810524547076], [-2.8501248834038115, 36.0, -0.07917013565010587], [-2.8460337950544283, 21.0, -0.13552541881211563], [-2.8364879222392, 47.0, -0.0603508068561532], [-2.810577696026438, 41.0, -0.06855067551283996], [-2.7273922329223077, 26.0, -0.10489970126624261], [-2.7273922329223077, 27.0, -0.10101452714527065], [-2.7273922329223077, 17.0, -0.160434837230724], [-2.7273922329223077, 19.0, -0.14354695962748987], [-2.6987546144766235, 19.0, -0.14203971655140124], [-2.5719308756457364, 28.0, -0.09185467413020487], [-2.5364747766177462, 10.0, -0.25364747766177465], [-2.4614714902123827, 23.0, -0.10702049957445142], [-2.3714675465259467, 63.0, -0.03764234200834836], [-2.3182833979839614, 15.0, -0.1545522265322641], [-2.30464643681935, 235.0, -0.009807006114124894], [-2.241916415462137, 8.0, -0.2802395519327671], [-2.1832774824543075, 34.0, -0.06421404360159728], [-2.181913786337846, 68.0, -0.032086967446144796], [-2.1137289805147885, 196.0, -0.010784331533238717], [-1.9637224077040616, 19.0, -0.10335381093179272], [-1.9623587115876004, 8.0, -0.24529483894845006], [-1.827352796057946, 85.0, -0.02149826818891701], [-1.6364353397533846, 24.0, -0.06818480582305769], [-1.5737053183961716, 30.0, -0.05245684394653905], [-1.542340307717565, 9.0, -0.17137114530195166], [-1.3773330776257655, 83.0, -0.01659437442922609], [-1.3636961164611539, 61.0, -0.022355674040346784], [-1.3636961164611539, 18.0, -0.07576089535895299], [-1.3636961164611539, 14.0, -0.09740686546151099], [-1.3636961164611539, 16.0, -0.08523100727882212], [-1.3636961164611539, 13.0, -0.10489970126624261], [-1.3636961164611539, 84.0, -0.0162344775769185], [-1.3636961164611539, 8.0, -0.17046201455764423], [-1.3636961164611539, 10.0, -0.13636961164611539], [-1.3636961164611539, 14.0, -0.09740686546151099], [-1.3636961164611539, 14.0, -0.09740686546151099], [-1.3636961164611539, 8.0, -0.17046201455764423], [-1.3500591552965424, 26.0, -0.05192535212679009], [-1.3500591552965424, 11.0, -0.12273265048150385], [-1.3500591552965424, 45.0, -0.030001314562145387], [-1.3091482718027077, 70.0, -0.01870211816861011], [-1.2286902009314997, 40.0, -0.030717255023287492], [-1.1182308154981462, 8.0, -0.13977885193726827], [-1.090956893168923, 21.0, -0.051950328246139196], [-1.090956893168923, 9.0, -0.12121743257432478], [-1.0773199320043116, 65.0, -0.016574152800066334], [-1.0773199320043116, 9.0, -0.11970221466714574], [-1.0473186174421663, 18.0, -0.0581843676356759], [-0.9014031329808228, 17.0, -0.05302371370475428], [-0.8277635426919204, 32.0, -0.025867610709122513], [-0.8045807087120808, 49.0, -0.01642001446351185], [-0.8045807087120808, 56.0, -0.014367512655572871], [-0.7363959028890231, 49.0, -0.015028487814061697], [-0.6954850193951885, 16.0, -0.04346781371219928], [-0.6818480582305769, 24.0, -0.028410335759607372], [-0.5536606232832285, 57.0, -0.009713344268126816], [-0.5454784465844615, 28.0, -0.019481373092302197], [-0.5454784465844615, 68.0, -0.008021741861536199], [-0.5454784465844615, 26.0, -0.020979940253248522], [-0.40910883493834616, 634.0, -0.0006452820740352463], [-0.40910883493834616, 15.0, -0.02727392232922308], [-0.36819795144451156, 8.0, -0.046024743930563945], [-0.34092402911528846, 11.0, -0.030993093555935314], [-0.27273922329223077, 22.0, -0.012397237422374125], [-0.2713755271757696, 23.0, -0.011798935964163896], [-0.2591022621276192, 13.0, -0.019930943240586092], [-0.23182833979839615, 94.0, -0.002466258934025491], [-0.2072818097020954, 100.0, -0.002072818097020954], [-0.20455441746917308, 186.0, -0.0010997549326299627], [-0.1690983184411831, 17.0, -0.009946959908304888], [-0.16773462232472192, 43.0, -0.0039008051703423702], [-0.13636961164611539, 8.0, -0.017046201455764423], [-0.13636961164611539, 12.0, -0.011364134303842949], [-0.13636961164611539, 93.0, -0.0014663399101732836], [-0.12273265048150385, 10.0, -0.012273265048150385], [-0.12273265048150385, 12.0, -0.010227720873458654], [-0.12273265048150385, 20.0, -0.0061366325240751925], [-0.07363959028890231, 49.0, -0.0015028487814061696], [-0.06273002135721308, 14.0, -0.004480715811229505], [-0.05454784465844616, 27.0, -0.002020290542905413], [-0.035456099027990004, 19.0, -0.0018661104751573686], [-0.02727392232922308, 303.0, -9.001294498093425e-05], [-0.01363696116461154, 20.0, -0.0006818480582305769], [-0.01363696116461154, 13.0, -0.001048997012662426], [-0.01363696116461154, 23.0, -0.0005929113549831104], [-0.01363696116461154, 23.0, -0.0005929113549831104], [-0.012273265048150385, 41.0, -0.00029934792800366793], [-0.00681848058230577, 11.0, -0.0006198618711187063], [-0.004091088349383462, 36.0, -0.0001136413430384295], [-0.0013636961164611538, 11.0, -0.00012397237422374127], [0.0, 134.0, 0.0], [0.0, 47.0, 0.0], [0.0, 10.0, 0.0], [0.0, 52.0, 0.0], [0.0, 18.0, 0.0], [0.0, 14.0, 0.0], [0.0, 8.0, 0.0], [0.0, 8.0, 0.0], [0.0, 22.0, 0.0], [0.0, 14.0, 0.0], [0.0, 9.0, 0.0], [0.0, 19.0, 0.0], [0.0, 14.0, 0.0], [0.0, 75.0, 0.0], [0.0, 42.0, 0.0], [0.0, 9.0, 0.0], [0.0, 11.0, 0.0], [0.0, 50.0, 0.0], [0.0, 8.0, 0.0], [0.0, 175.0, 0.0], [0.0, 9.0, 0.0], [0.0, 27.0, 0.0], [0.0, 13.0, 0.0], [0.0, 31.0, 0.0], [0.0, 10.0, 0.0], [0.0, 59.0, 0.0], [0.0, 57.0, 0.0], [0.0, 40.0, 0.0], [0.0, 23.0, 0.0], [0.0, 8.0, 0.0], [0.0, 11.0, 0.0], [0.0, 10.0, 0.0], [0.0, 11.0, 0.0], [0.0, 11.0, 0.0], [0.0, 39.0, 0.0], [0.0, 12.0, 0.0], [0.0, 112.0, 0.0], [0.0, 57.0, 0.0], [0.0, 46.0, 0.0], [0.0, 10.0, 0.0], [0.0, 83.0, 0.0], [0.0, 27.0, 0.0], [0.0, 25.0, 0.0], [0.0, 19.0, 0.0], [0.0, 30.0, 0.0], [0.0, 23.0, 0.0], [0.0, 13.0, 0.0], [0.0, 11.0, 0.0], [0.0, 22.0, 0.0], [0.0, 8.0, 0.0], [0.0, 9.0, 0.0], [0.0, 22.0, 0.0], [0.0, 12.0, 0.0], [0.0, 86.0, 0.0], [0.0, 18.0, 0.0], [0.0, 14.0, 0.0], [0.0, 11.0, 0.0], [0.0, 30.0, 0.0], [0.0, 9.0, 0.0], [0.0, 13.0, 0.0], [0.0, 31.0, 0.0], [0.0, 9.0, 0.0], [0.0, 12.0, 0.0], [0.0, 10.0, 0.0], [0.0, 9.0, 0.0], [0.0, 37.0, 0.0], [0.0, 17.0, 0.0], [0.0, 11.0, 0.0], [0.0, 17.0, 0.0], [0.0, 13.0, 0.0], [0.0, 32.0, 0.0], [0.0, 54.0, 0.0], [0.0, 16.0, 0.0], [0.0, 38.0, 0.0], [0.0, 26.0, 0.0], [0.0, 24.0, 0.0], [0.0, 14.0, 0.0], [0.0, 60.0, 0.0], [0.0, 9.0, 0.0], [0.0, 14.0, 0.0], [0.0, 23.0, 0.0], [0.0, 33.0, 0.0], [0.0, 13.0, 0.0], [0.0, 105.0, 0.0], [0.0, 17.0, 0.0], [0.0, 44.0, 0.0], [0.0, 20.0, 0.0], [0.0, 23.0, 0.0], [0.0, 9.0, 0.0], [0.0, 57.0, 0.0], [0.0, 29.0, 0.0], [0.0, 17.0, 0.0], [0.0, 9.0, 0.0], [0.0, 28.0, 0.0], [0.0, 60.0, 0.0], [0.0, 10.0, 0.0], [0.0, 9.0, 0.0], [0.0, 39.0, 0.0], [0.0, 8.0, 0.0], [0.0, 16.0, 0.0], [0.0, 15.0, 0.0], [0.0, 49.0, 0.0], [0.0, 10.0, 0.0], [0.0, 13.0, 0.0], [0.0, 25.0, 0.0], [0.0, 14.0, 0.0], [0.0, 15.0, 0.0], [0.0, 8.0, 0.0], [0.0, 63.0, 0.0], [0.0, 11.0, 0.0], [0.0, 11.0, 0.0], [0.0, 21.0, 0.0], [0.0, 8.0, 0.0], [0.0, 38.0, 0.0], [0.0, 29.0, 0.0], [0.0, 9.0, 0.0], [0.0, 8.0, 0.0], [0.0, 33.0, 0.0], [0.0, 32.0, 0.0], [0.0, 11.0, 0.0], [0.0, 9.0, 0.0], [0.0, 31.0, 0.0], [0.0, 17.0, 0.0], [0.0, 22.0, 0.0], [0.0, 17.0, 0.0], [0.0, 62.0, 0.0], [0.0, 10.0, 0.0], [0.0, 39.0, 0.0], [0.0, 9.0, 0.0], [0.0, 18.0, 0.0], [0.0, 57.0, 0.0], [0.0, 21.0, 0.0], [0.0, 12.0, 0.0], [0.0, 14.0, 0.0], [0.0, 8.0, 0.0], [0.0, 8.0, 0.0], [0.0, 9.0, 0.0], [0.0, 11.0, 0.0], [0.0, 80.0, 0.0], [0.0, 23.0, 0.0], [0.0, 21.0, 0.0], [0.0, 17.0, 0.0], [0.0, 25.0, 0.0], [0.0, 21.0, 0.0], [0.0, 11.0, 0.0], [0.0, 12.0, 0.0], [0.0, 8.0, 0.0], [0.0, 10.0, 0.0], [0.0, 15.0, 0.0], [0.0, 8.0, 0.0], [0.0, 14.0, 0.0], [0.0, 40.0, 0.0], [0.0, 9.0, 0.0], [0.0, 11.0, 0.0], [0.0, 22.0, 0.0], [0.0, 11.0, 0.0], [0.0, 22.0, 0.0], [0.0, 8.0, 0.0], [0.0, 13.0, 0.0], [0.0, 33.0, 0.0], [0.0, 45.0, 0.0], [0.0, 20.0, 0.0], [0.0, 17.0, 0.0], [0.0, 8.0, 0.0], [0.0, 9.0, 0.0], [0.0, 9.0, 0.0], [0.0, 12.0, 0.0], [0.0, 26.0, 0.0], [0.0, 40.0, 0.0], [0.0, 9.0, 0.0], [0.0, 10.0, 0.0], [0.0, 18.0, 0.0], [0.0, 16.0, 0.0], [0.0, 19.0, 0.0], [0.0, 61.0, 0.0], [0.0, 18.0, 0.0], [0.0, 10.0, 0.0], [0.0, 33.0, 0.0], [0.0, 9.0, 0.0], [0.0, 32.0, 0.0], [0.0, 10.0, 0.0], [0.0013636961164611538, 10.0, 0.00013636961164611538], [0.0027273922329223077, 24.0, 0.00011364134303842948], [0.0027273922329223077, 10.0, 0.00027273922329223077], [0.008182176698766924, 8.0, 0.0010227720873458655], [0.01090956893168923, 25.0, 0.0004363827572675692], [0.01363696116461154, 28.0, 0.000487034327307555], [0.01363696116461154, 36.0, 0.00037880447679476497], [0.01363696116461154, 63.0, 0.00021645970102558], [0.02727392232922308, 10.0, 0.0027273922329223077], [0.028637618445684233, 46.0, 0.0006225569227322659], [0.05454784465844616, 33.0, 0.0016529649896498836], [0.05454784465844616, 49.0, 0.0011132213195601257], [0.06818480582305769, 25.0, 0.0027273922329223077], [0.12273265048150385, 45.0, 0.0027273922329223077], [0.12273265048150385, 17.0, 0.007219567675382579], [0.12273265048150385, 8.0, 0.015341581310187981], [0.12546004271442615, 70.0, 0.001792286324491802], [0.12682373883088732, 22.0, 0.005764715401403969], [0.13500591552965424, 16.0, 0.00843786972060339], [0.13636961164611539, 30.0, 0.004545653721537179], [0.13636961164611539, 17.0, 0.008021741861536199], [0.14182439611196002, 13.0, 0.010909568931689232], [0.15000657281072693, 44.0, 0.003409240291152885], [0.19909963300332847, 79.0, 0.0025202485190294745], [0.21819137863378463, 16.0, 0.01363696116461154], [0.21819137863378463, 131.0, 0.0016655830430059896], [0.2454653009630077, 11.0, 0.022315027360273427], [0.2591022621276192, 18.0, 0.014394570118201068], [0.27273922329223077, 17.0, 0.016043483723072398], [0.34092402911528846, 107.0, 0.003186205879582135], [0.36819795144451156, 12.0, 0.030683162620375962], [0.3818349126091231, 103.0, 0.0037071350738749815], [0.44320123784987503, 17.0, 0.026070661049992647], [0.5182045242552384, 9.0, 0.05757828047280427], [0.5441147504680004, 33.0, 0.016488325771757587], [0.5454784465844615, 17.0, 0.032086967446144796], [0.5454784465844615, 72.0, 0.007576089535895299], [0.5454784465844615, 21.0, 0.025975164123069598], [0.5454784465844615, 17.0, 0.032086967446144796], [0.5454784465844615, 9.0, 0.06060871628716239], [0.5727523689136846, 210.0, 0.0027273922329223077], [0.5741160650301458, 19.0, 0.030216635001586622], [0.6095721640581357, 98.0, 0.006220124123042202], [0.6545741359013538, 16.0, 0.040910883493834614], [0.6818480582305769, 19.0, 0.03588673990687247], [0.6818480582305769, 10.0, 0.06818480582305769], [0.6818480582305769, 26.0, 0.026224925316560652], [0.735032206772562, 16.0, 0.045939512923285124], [0.7568513446359404, 11.0, 0.0688046676941764], [0.7718520019170131, 328.0, 0.002353207322917723], [0.7786704824993189, 17.0, 0.0458041460293717], [0.8182176698766923, 9.0, 0.09091307443074359], [0.8182176698766923, 62.0, 0.013197059191559554], [1.090956893168923, 19.0, 0.05741878385099595], [1.1045938543335347, 25.0, 0.04418375417334139], [1.213689543650427, 8.0, 0.15171119295630336], [1.24096346597965, 53.0, 0.023414405018483964], [1.2546004271442617, 20.0, 0.06273002135721309], [1.3064208795697854, 183.0, 0.007138911910217406], [1.3500591552965424, 13.0, 0.10385070425358019], [1.3500591552965424, 41.0, 0.03292827208040347], [1.3514228514130036, 52.0, 0.025988900988711608], [1.3636961164611539, 15.0, 0.09091307443074359], [1.3636961164611539, 89.0, 0.015322428274844426], [1.3636961164611539, 12.0, 0.11364134303842949], [1.3636961164611539, 33.0, 0.04132412474124709], [1.3636961164611539, 15.0, 0.09091307443074359], [1.3636961164611539, 31.0, 0.043990197305198514], [1.38278786209161, 63.0, 0.02194901368399381], [1.4782465902438908, 40.0, 0.03695616475609727], [1.5000657281072693, 16.0, 0.09375410800670433], [1.5723416222797104, 64.0, 0.024567837848120475], [1.7318940679056654, 8.0, 0.21648675848820817], [1.9091745630456154, 24.0, 0.07954894012690064], [1.922811524210227, 19.0, 0.10120060653738037], [1.9364484853748385, 42.0, 0.046105916318448535], [1.9855415455674401, 17.0, 0.11679656150396707], [2.126002245562939, 8.0, 0.2657502806953674], [2.172367913522618, 9.0, 0.2413742126136242], [2.181913786337846, 21.0, 0.10390065649227839], [2.3455573203131848, 256.0, 0.009162333282473378], [2.3455573203131848, 80.0, 0.029319466503914808], [2.454653009630077, 148.0, 0.01658549330831133], [2.454653009630077, 48.0, 0.051138604367293276], [2.454653009630077, 31.0, 0.07918235514935733], [2.5092008542885234, 12.0, 0.20910007119071028], [2.604659582440804, 93.0, 0.02800709228430972], [2.65920742709925, 10.0, 0.265920742709925], [2.7273922329223077, 92.0, 0.02964556774915552], [2.7273922329223077, 274.0, 0.009953986251541268], [2.754666155251531, 20.0, 0.13773330776257656], [2.996040367865155, 9.0, 0.33289337420723947], [3.01376841737915, 9.0, 0.33486315748657225], [3.054679300872985, 16.0, 0.19091745630456156], [3.065588869804674, 23.0, 0.1332864726002032], [3.136501067860654, 102.0, 0.030750010469222096], [3.136501067860654, 106.0, 0.029589632715666548], [3.2728706795067692, 11.0, 0.297533698136979], [3.2728706795067692, 10.0, 0.3272870679506769], [3.2728706795067692, 9.0, 0.36365229772297436], [3.6819795144451155, 9.0, 0.40910883493834616], [3.6819795144451155, 10.0, 0.36819795144451156], [3.8374408717216872, 21.0, 0.18273527960579464], [3.8865339319142884, 100.0, 0.038865339319142884], [3.9301722076410455, 10.0, 0.39301722076410456], [3.954718737737346, 50.0, 0.07909437475474693], [3.968355698901958, 166.0, 0.02390575722230095], [4.07745138821885, 9.0, 0.4530501542465389], [4.084269868801156, 21.0, 0.19448904137148362], [4.091088349383462, 48.0, 0.08523100727882212], [4.091088349383462, 19.0, 0.21532043944123483], [4.091088349383462, 25.0, 0.16364353397533848], [4.091088349383462, 15.0, 0.27273922329223077], [4.227457961029577, 26.0, 0.16259453696267603], [4.256095579475261, 26.0, 0.16369598382597156], [4.363827572675692, 16.0, 0.27273922329223077], [4.650203757132535, 152.0, 0.030593445770608782], [5.127497397893938, 8.0, 0.6409371747367423], [5.154771320223162, 35.0, 0.14727918057780462], [5.277503970704665, 13.0, 0.4059618439003589], [5.3184148541985, 32.0, 0.16620046419370313], [5.3184148541985, 21.0, 0.2532578501999286], [5.441147504680004, 83.0, 0.0655559940322892], [5.454784465844615, 22.0, 0.24794474844748252], [5.522969271667673, 22.0, 0.25104405780307604], [5.57751711632612, 16.0, 0.3485948197703825], [5.982534862915082, 22.0, 0.27193340285977646], [6.10935860174597, 153.0, 0.03993044837742464], [6.27572952795423, 15.0, 0.418381968530282], [6.7980251405588525, 117.0, 0.05810277897913549], [6.832117543470381, 15.0, 0.4554745028980254], [6.941213232787273, 9.0, 0.7712459147541415], [7.081673932782772, 18.0, 0.3934263295990429], [7.200315494914893, 26.0, 0.2769352113428805], [7.670790655093991, 73.0, 0.10507932404238343], [7.90671008324177, 32.0, 0.24708469010130532], [8.032170125956196, 163.0, 0.04927711733715457], [8.180813002650462, 14.0, 0.5843437859036044], [8.182176698766924, 46.0, 0.17787340649493313], [9.072670262816057, 24.0, 0.3780279276173357], [9.52541737348116, 68.0, 0.14007966725707588], [10.088623869579616, 47.0, 0.2146515716931833], [10.841384125866174, 36.0, 0.30114955905183816], [10.882295009360009, 38.0, 0.2863761844568423], [11.182308154981461, 1389.0, 0.008050617822160879], [11.277766883133742, 100.0, 0.11277766883133741], [11.502776742349832, 18.0, 0.6390431523527684], [11.506867830699216, 61.0, 0.18863717755244616], [12.273265048150385, 100.0, 0.12273265048150385], [12.286902009314996, 154.0, 0.07978507798256491], [12.318267019993604, 264.0, 0.04666010234846062], [12.39599769863189, 46.0, 0.2694782108398237], [13.368313029668691, 52.0, 0.25708294287824407], [13.636961164611538, 40.0, 0.34092402911528846], [13.964248232562216, 224.0, 0.06234039389536704], [14.221986798573374, 104.0, 0.13674987306320552], [14.268352466533052, 55.0, 0.25942459030060094], [14.318809222842116, 22.0, 0.6508549646746417], [14.365174890801795, 86.0, 0.16703691733490458], [14.627004545162336, 32.0, 0.457093892036323], [14.883379415057034, 37.0, 0.4022534977042442], [14.973383358743469, 41.0, 0.3652044721644748], [15.000657281072693, 13.0, 1.1538967139286687], [15.587046611150988, 143.0, 0.10900032595210482], [15.773872979106168, 57.0, 0.27673461366852925], [16.188436598510357, 123.0, 0.131613305678946], [17.452582898469846, 78.0, 0.22375106280089546], [17.52894988099167, 158.0, 0.11094272076577007], [17.850782164476506, 60.0, 0.29751303607460844], [18.936284273179584, 376.0, 0.05036245817334996], [19.173567397443822, 129.0, 0.14863230540654127], [19.79541282655011, 82.0, 0.24140747349451352], [23.1623785380927, 67.0, 0.34570714235959255], [24.311974364269453, 251.0, 0.09686045563453966], [24.399250915722966, 276.0, 0.08840308302798176], [26.455704659346384, 189.0, 0.13997727332987506], [27.069367911753904, 89.0, 0.30415020125566183], [27.380290626307048, 21.0, 1.3038233631574785], [28.746714135001124, 75.0, 0.38328952180001497], [29.40265196701894, 205.0, 0.1434275705708241], [32.019584814507894, 28.0, 1.143556600518139], [34.692429202771756, 37.0, 0.937633221696534], [35.01835257460597, 65.0, 0.5387438857631688], [38.592600095850656, 196.0, 0.19690102089719722], [38.9103412909861, 169.0, 0.23023870586382308], [39.12171418903758, 65.0, 0.6018725259851936], [40.569959464719325, 63.0, 0.6439676105511004], [45.25425562476339, 87.0, 0.520163857755901], [46.77204940238465, 36.0, 1.2992235945106847], [49.770817162482736, 113.0, 0.4404497094025021], [51.322703343015526, 14.0, 3.665907381643966], [61.35268827958731, 53.0, 1.157597892067685], [62.730021357213076, 18.0, 3.4850011865118375], [64.03780593289933, 274.0, 0.23371462019306324], [69.81033159387938, 39.0, 1.7900085024071637], [73.85778166753609, 80.0, 0.923222270844201], [74.66781716071402, 90.0, 0.8296424128968225], [78.92254904407282, 149.0, 0.5296815372085424], [86.75834692925861, 341.0, 0.2544233047778845], [128.65109162694526, 18.0, 7.147282868163625], [136.945091407262, 563.0, 0.24324172541254352], [144.5490609526494, 415.0, 0.34831099024734796], [190.47834615506105, 700.0, 0.2721119230786586], [220.07464297061748, 179.0, 1.2294672791654608], [347.277489321881, 564.0, 0.6157402292941152], [358.80344889821066, 169.0, 2.123097330758643], [-698.3957426035441, 411.0, -1.6992597143638544], [-29.72732882986348, 20.0, -1.486366441493174], [-24.076313611972825, 36.0, -0.6687864892214673], [-21.877159142588035, 8.0, -2.7346448928235043], [-13.842496630699763, 55.0, -0.2516817569218139], [-13.83696184596141, 9.0, -1.5374402051068232], [-13.397868923382896, 35.0, -0.38279625495379704], [-12.5012337955801, 10.0, -1.25012337955801], [-11.803850918728147, 12.0, -0.9836542432273455], [-10.374031527978794, 10.0, -1.0374031527978793], [-8.929452711260426, 13.0, -0.6868809777892635], [-7.086369393378365, 11.0, -0.6442153993980332], [-4.833712004855852, 8.0, -0.6042140006069815], [-4.756225018518452, 124.0, -0.038356653375148805], [-4.658443821473676, 10.0, -0.46584438214736756], [-4.427827790707648, 15.0, -0.2951885193805099], [-3.7138405594560484, 9.0, -0.41264895105067206], [-3.654802855579942, 15.0, -0.24365352370532947], [-3.394667972875862, 10.0, -0.3394667972875862], [-2.9481953373128498, 9.0, -0.32757725970142776], [-2.123512411293541, 9.0, -0.23594582347706008], [-1.737922407852753, 8.0, -0.21724030098159414], [-1.4888570946254474, 10.0, -0.14888570946254473], [-0.7250568007283711, 22.0, -0.03295712730583505], [-0.7029176617748425, 8.0, -0.08786470772185531], [-0.5719277562997394, 11.0, -0.05199343239088539], [-0.23430588725828957, 10.0, -0.023430588725828958], [-0.08855655581416029, 11.0, -0.008050595983105481], [-1.0487202906280047e-14, 8.0, -1.310900363285006e-15], [-1.0487202906280047e-14, 8.0, -1.310900363285006e-15], [0.45754220503979126, 10.0, 0.04575422050397913], [0.7361263702051394, 15.0, 0.04907509134700929], [1.0479192438008118, 21.0, 0.04990091637146723], [1.1549250820762542, 10.0, 0.11549250820762542], [1.8744470980662407, 25.0, 0.07497788392264963], [2.331989303106028, 21.0, 0.11104710967171562], [2.9703344762663817, 13.0, 0.22848726740510628], [3.0478214626037663, 8.0, 0.3809776828254708], [3.3466998384765323, 10.0, 0.33466998384765323], [3.6787869227796075, 11.0, 0.33443517479814616], [4.7211713818420336, 15.0, 0.3147447587894689], [5.040343968422208, 13.0, 0.3877187668017083], [5.817058760042173, 22.0, 0.26441176182009873], [6.150990772591377, 11.0, 0.5591809793264888], [6.521821350063125, 54.0, 0.12077446944561343], [7.748698633738388, 21.0, 0.36898564922563754], [8.652713474341207, 8.0, 1.0815891842926508], [11.233768090674529, 29.0, 0.38737131347153547], [14.932849224161568, 40.0, 0.3733212306040392], [15.220658030557553, 29.0, 0.5248502769157777], [16.838660102411975, 52.0, 0.3238203865848457], [18.932653661767453, 15.0, 1.262176910784497], [19.89570620624637, 21.0, 0.9474145812498271], [25.20725462684944, 37.0, 0.6812771520770119], [54.34605134619801, 82.0, 0.6627567237341221], [-44.98576618258342, 28.0, -1.6066345065208363], [-20.390168978044073, 8.0, -2.548771122255509], [-8.045303467811312, 21.0, -0.3831096889433958], [2.432574693222008, 101.0, 0.024084897952693148], [4.160714663930565, 29.0, 0.14347291944588156], [6.203418469525374, 16.0, 0.3877136543453359], [7.013753734955261, 8.0, 0.8767192168694077], [8.45949225788584, 10.0, 0.845949225788584], [9.376512514698623, 16.0, 0.586032032168664], [14.840196080738577, 11.0, 1.3491087346125978], [16.722087950793128, 10.0, 1.6722087950793127], [21.528403702283, 14.0, 1.5377431215916428], [21.95514366781434, 13.0, 1.6888572052164876], [64.15533334745342, 15.0, 4.277022223163561], [118.60939251526337, 105.0, 1.1296132620501274], [-76.64517242828916, 16.0, -4.790323276768072], [-5.526533357622297, 10.0, -0.5526533357622296], [-3.4338522763897257, 11.0, -0.3121683887627023], [-1.1490548323360845, 18.0, -0.06383637957422691], [0.0, 9.0, 0.0], [0.0, 12.0, 0.0], [0.9809004666283648, 12.0, 0.08174170555236374], [40.760057732998895, 50.0, 0.8152011546599779], [-15.101592531576058, 11.0, -1.3728720483250962], [-10.450302031850637, 53.0, -0.19717551003491768], [-7.52883031301482, 41.0, -0.18363000763450782], [-6.630971993410216, 8.0, -0.828871499176277], [-5.411861614497523, 13.0, -0.41629704726904027], [-2.4684239428885304, 70.0, -0.035263199184121866], [-2.196595277320154, 13.0, -0.16896886748616569], [-1.2081274025260784, 27.0, -0.04474545935281772], [-1.098297638660077, 8.0, -0.1372872048325096], [-0.8237232289950577, 31.0, -0.0265717170643567], [-0.24711696869851107, 21.0, -0.011767474699929099], [-0.08237232289950597, 25.0, -0.0032948929159802385], [0.0, 100.0, 0.0], [0.0, 13.0, 0.0], [0.0, 8.0, 0.0], [0.0, 8.0, 0.0], [0.0, 9.0, 0.0], [0.0, 8.0, 0.0], [0.0, 18.0, 0.0], [0.0, 8.0, 0.0], [0.0, 9.0, 0.0], [0.0, 8.0, 0.0], [1.9509685221309725e-15, 18.0, 1.0838714011838736e-16], [1.9509685221309725e-15, 20.0, 9.754842610654863e-17], [3.901937044261945e-15, 21.0, 1.8580652591723548e-16], [0.1372872048325096, 15.0, 0.009152480322167308], [0.2745744096650182, 21.0, 0.013074971888810391], [0.2745744096650192, 128.0, 0.0021451125755079627], [1.6474464579901154, 8.0, 0.20593080724876442], [2.114222954420649, 10.0, 0.2114222954420649], [3.569467325645252, 27.0, 0.13220249354241675], [5.016474464579839, 137.0, 0.0366166019312397], [7.523338824821529, 71.0, 0.10596251865945816], [8.649093904448106, 13.0, 0.6653149157267774], [90.63152114222946, 105.0, 0.8631573442117091], [192.35310269082922, 24.0, 8.014712612117885], [-1.2204187602293606, 8.0, -0.15255234502867007], [-267.05000000000007, 9.0, -29.67222222222223], [-104.47, 18.0, -5.803888888888888], [-32.37000000000003, 16.0, -2.023125000000002], [-30.16999999999999, 26.0, -1.1603846153846151], [-21.33999999999995, 18.0, -1.1855555555555528], [-12.019999999999982, 17.0, -0.7070588235294107], [-11.620000000000008, 12.0, -0.968333333333334], [-9.939999999999973, 47.0, -0.2114893617021271], [-8.609999999999971, 16.0, -0.5381249999999982], [-5.82, 18.0, -0.32333333333333336], [-0.03999999999994586, 17.0, -0.0023529411764674035], [1.7763568394002505e-14, 10.0, 1.7763568394002505e-15], [0.5899999999999999, 21.0, 0.02809523809523809], [2.2799999999999727, 10.0, 0.22799999999999726], [2.6700000000000053, 13.0, 0.20538461538461578], [5.969999999999992, 8.0, 0.746249999999999], [13.97999999999998, 51.0, 0.27411764705882313], [15.67, 14.0, 1.1192857142857142], [19.299999999999994, 11.0, 1.754545454545454], [22.59, 9.0, 2.51], [34.53000000000003, 37.0, 0.933243243243244], [60.26999999999987, 144.0, 0.41854166666666576], [60.78999999999999, 81.0, 0.7504938271604937], [84.21000000000001, 15.0, 5.614000000000001], [89.26999999999998, 17.0, 5.251176470588234], [110.87000000000006, 61.0, 1.8175409836065584], [130.01999999999992, 35.0, 3.7148571428571406]], \"hovertemplate\": \"<b>%{hovertext}</b><br><br>Service type=Self service<br>Country=%{x}<br>Markup percentage (%)=%{y}<br>Markup (USD)=%{customdata[0]}<br>Total orders=%{customdata[1]}<br>Markup per order (USD)=%{customdata[2]}<extra></extra>\", \"hovertext\": [\"Carnes Ramos\", \"La Castellana\", \"Catabocata\", \"Sonora Beef\", \"Balderas Super Carnes\", \"Confetti Pastas Frescas\", \"Los Tulipanes\", \"Sinai\", \"Pardo\", \"Carnes selectas HB\", \"Punta del Cielo\", \"DICARSA\", \"Le Macaron Boutique\", \"Mallorca\", \"Rancho el 17\", \"Villa de Patos\", \"Tamaler\\u00eda Mar\\u00eda Candelaria\", \"Marca Diablo\", \"Pan Gabriel\", \"Pikabuu\", \"Tiendas Verum\", \"Granjas RYC\", \"Eat me\", \"Distribuidora La Victoria\", \"Empakatodo\", \"Green Republic\", \"Fruteria La Huerta\", \"Make a party\", \"Cremer\\u00eda W\", \"Petland\", \"D\\u2019Lagourmet\", \"Como Komo by Haloclina Catering\", \"QuitaKilos\", \"Distribuidora San Pedro Cholula\", \"La Carnicer\\u00eda Virtual\", \"Bendita Vaca\", \"Natural Farm\", \"El M\\u00e1s Pollo\", \"Pasteler\\u00eda Elizondo\", \"Mi Fiesta Shop\", \"Mundo Gourmet\", \"Venus Sexshop\", \"Chocolates Turin\", \"Smart Fish\", \"Ecoksa\", \"La Lecheria\", \"Raw Republic\", \"Erotika Love Store\", \"Da Silva\", \"Sabor y Saz\\u00f3n\", \"Farmasync\", \"Hamleys\", \"Serena Barra de Pan\", \"Unelefante\", \"Cuchillo y Carne\", \"Sanborns Panader\\u00eda y Pasteler\\u00eda\", \"Tienda Key\", \"Dulce Noviembre\", \"Apetit Catering & Store\", \"El Lech\\u00f3n Tame\", \"Garabatos\", \"Central Dulcera\", \"Cosecha Natural\", \"La Manzana Sana\", \"Partyland\", \"Partyland\", \"Mora Market\", \"Gramelia\", \"La Casita del Pan\", \"Aquamart\", \"YEMA\", \"Landhaus La Pasteler\\u00eda Alemana\", \"Delicias del Contry\", \"MUAC\\u2019S\", \"Malva\", \"Ultramarinos Coliseo\", \"Slovensko\", \"ODARA\", \"Anforama\", \"La sopa italiana\", \"Super Limpio\", \"La Cheloteca\", \"Veterinaria Palo Verde\", \"Martha Falc\\u00f3n\", \"Catalina Fernandez\", \"Bottega Sartoria\", \"El Puro Cielo\", \"Homeop\\u00e1ticos Sch\\u00fcssler\", \"Mr. Croquet co\", \"L'Autrichienne\", \"Tails.Co\", \"Deperlas Colecci\\u00f3n\", \"Milagros de mi Tierra\", \"Yupick\", \"Deleite Shop\", \"Worldflex\", \"Dulce Tempo\", \"Le Chocolat\", \"Gant\", \"B\\u00f3 Pastisseria\", \"Exgerm\", \"La Casta\\u00f1a\", \"Cinnabon\", \"Granel Interlomas\", \"Merak\", \"Mercadito Fresh Star\", \"The Confetti Party\", \"San Miguel del Valle\", \"Green & Yang Healthy Bakery\", \"The Secret Donut Society\", \"Molino de chiles H\\u00e9rcules\", \"Farmacias Dr. Montfort\", \"Velucca Good Healthy Food\", \"MUTT\", \"Gino's\", \"Pasteler\\u00eda Alc\\u00e1zar\", \"LICORIA\", \"G\\u00f6ffret\", \"S\\u00f6s\\u00f4land\", \"Guilt Free\", \"Mi Tierra Bendita\", \"Steren\", \"Redil Carnicer\\u00eda\", \"ANGELFOOD by Frozen Boutique\", \"Pasteler\\u00eda HADASA\", \"Granel Dulcer\\u00edas\", \"Peel Health Bar\", \"Carissa Reposter\\u00eda\", \"Restaurante SAKS\", \"La Magia del Castillo\", \"Abasto Express\", \"L'Occitane M\\u00e9xico\", \"Librer\\u00edas Porr\\u00faa\", \"Estado Natural\", \"Toyo Foods\", \"HomeFood\", \"Live Healthy\", \"Chilim Balam\", \"Salchichoner\\u00eda San Miguel\", \"BreAd\", \"Toks\", \"Empack\", \"Kurson Kosher\", \"La Central Delivery\", \"La fruter\\u00eda\", \"Healthy Boutique\", \"Sr. Ferretero\", \"Farmacias Botica Central\", \"Mr. Tofu\", \"The Green Corner\", \"Swarovski\", \"Ortopedix\", \"Party City\", \"Bell\\u00edsima\", \"Farmacias M\\u00e9dicor\", \"Oasis\", \"Mil sabores\", \"Pet Happy\", \"Fortunata\", \"Campomarket\", \"Gourmeat\", \"Panader\\u00eda Las Rosas chicas\", \"Globe Italia\", \"Opaline\", \"Librer\\u00eda Col\\u00f3n\", \"La Punta\", \"El \\u00fanico\", \"Donde Gilberto\", \"Baby Infanti\", \"Dulcer\\u00eda Puerto Varas\", \"Cambia tu nutrici\\u00f3n\", \"Moulie\", \"Phanter\", \"Tavelli\", \"Benicio\", \"La Papelaria & Co\", \"Frutas y verduras Johnny\", \"Casastilo concept store\", \"Avent\", \"Kitchen corner\", \"Espesales\", \"La tienda de Carolina\", \"Adagio Teas\", \"Factory Nine\", \"TODOLICOR.CL\", \"Cl\\u00ednica veterinaria Gronemann\", \"Tienda Granata\", \"Mundo Churro\", \"Mercadito G&D\", \"Ferreter\\u00eda Rukafe\", \"PC Factory\", \"De costa a costa gourmet\", \"Emporio la plaza\", \"Mar azul\", \"Colloky\", \"Librer\\u00eda Universitas\", \"La huerta de Vitacura\", \"Frigosorno\", \"Free and lush\", \"Simple by puro\", \"3INA\", \"Friomarket\", \"MANOLO\", \"Costamai\", \"L\\u00e1piz papel\", \"Mi market\", \"Fabrics\", \"Mundo Pi\\u00f1ata\", \"Multiservice\", \"La Vegana\", \"GAP\", \"Wenger Haus\", \"Jugueter\\u00eda Cachip\\u00fan\", \"The Market\", \"Eliglu\", \"Pillin\", \"Verduler\\u00eda Nacional\", \"Peces gordos\", \"Fish store\", \"Felipe Didier\", \"Bigotes pet store & coffee\", \"Aquarantus flores\", \"Coconut grove\", \"Buganvilla cafe\", \"New nuts\", \"Carnes Prontobeef\", \"Emporio Vitacura\", \"Bread factory\", \"Pasteler\\u00eda Tocas de Cachagua\", \"Indigo de papel\", \"Rumbo Verde\", \"AquaChile\", \"By Mascota\", \"Dellanatura\", \"Mascotitas\", \"SPORTIKA\", \"Peluquer\\u00eda Fernando Pavez\", \"Lovely gift\", \"Botiller\\u00eda Eche\\u00f1ique\", \"Born\", \"Marjano\", \"Tuyo print\", \"Manzo Cotill\\u00f3n\", \"Lo Saldes\", \"Ferreter\\u00eda Arma\\u00f1o\", \"Pet Kingdom\", \"Volka Chokolade\", \"La Pesca\", \"hbt\", \"Librer\\u00eda Luces\", \"Isadora\", \"Doral\", \"Fortunata sin gluten\", \"Denda\", \"Majen\", \"LAMY\", \"Biomed\", \"Tusmascotas\", \"Caleta \\u00d1u\\u00f1oa\", \"Emporio San Marco\", \"Pasteler\\u00eda La Tartine\", \"Patio sabroso\", \"Decatalogo\", \"Puro Antojo\", \"Puntomascotas\", \"Bahia mansa\", \"Boulangerie Panam\", \"Pepitas de oro\", \"Lush\", \"Deutschkind\", \"Panificadora La Reina\", \"Botiller\\u00eda lo Barnechea\", \"AMA\", \"Pucar\\u00e1\", \"Verduler\\u00eda el imperio\", \"Huertos Alma\", \"Secretos de Amor\", \"Jugueter\\u00eda rinc\\u00f3n infantil\", \"Paula\", \"Zoomarket\", \"Bigfix\", \"The Gift Shop\", \"Pasteler\\u00eda Biella\", \"Bon macaron\", \"Petsmann\", \"Planta home design\", \"Alpaka\", \"Club Animal\", \"Tai pet shop\", \"Coquinaria\", \"Granja Magdalena\", \"Verduleria San Roque\", \"Huertos del Golf\", \"P\\u00farpura\", \"Libert\\u00e9 chocolat\", \"Dulcer\\u00eda El Ingenio\", \"Garage\", \"Albazar creativo\", \"Casa de mar\", \"Bili box\", \"Chocolater\\u00eda Entrelagos\", \"Australis Retail\", \"Petshop online\", \"Hundshop\", \"Cotill\\u00f3n Festday\", \"Bros Librer\\u00edas\", \"Cl\\u00ednica veterinaria Providencia\", \"Bread&cake\", \"Araf\", \"AM Dulcer\\u00eda\", \"Primal granel\", \"Mercato la pizza nostra\", \"Pastryhome jakimioto\", \"Flores Floramour\", \"Cuk\", \"Actitud Sana\", \"Milu pet\", \"Sano market\", \"Las Bezanilla\", \"Don camar\\u00f3n\", \"Milmaravillas\", \"Mokha Bunn\", \"La Rueda tostaduria\", \"L'Occitane\", \"CATDOGSHOP\", \"Autoplanet\", \"Cosmeticaval\", \"Bbz Barbizon\", \"Grido\", \"Santa salud\", \"Allfree\", \"Paula Benitez\", \"Tictactoys\", \"Bbpro store\", \"Erbi\", \"Upets\", \"Cafetano\", \"El Pescadero\", \"Blush-Bar\", \"Rocha\", \"Riesco Reposter\\u00eda\", \"Hirondelle Pasteler\\u00eda Francesa\", \"Monki Toys & Alex Toys\", \"Le Vice Chocolat\", \"Tro Deportes\", \"Emporio Bolena\", \"Pilgrim\", \"Vivero y Ferreter\\u00eda los B\\u00f3rquez\", \"Feroz Chocolates\", \"La pasta divina\", \"Santiago Wine Club\", \"Alonso olive oil\", \"Wholeplanet Organic Foods\", \"La Ermita\", \"The Beauty Place\", \"Cecinas Bavaria\", \"La Carpinter\\u00eda\", \"Beefix\", \"Kaikai\", \"Jugueter\\u00eda Caramba\", \"Mar\\u00eda Pomp\\u00f3n\", \"Mon site\", \"Leonidas chocolates\", \"Books and gifts\", \"Cap Dor\", \"Genial\", \"Naturbaby\", \"Dulcer\\u00eda Apoquindo\", \"Theodora\", \"W&M Divoom store\", \"Sanfesta\", \"Martino Phillippi\", \"Cakao\", \"Fresca mar\", \"Jugueter\\u00eda Lillifee\", \"COSTAVET\", \"Paper mill\", \"Mochileros pets\", \"Santa Ignacia\", \"TODOPIEL\", \"Kad\\u00f3\", \"Musso Beauty Lounge\", \"Musso CE\", \"La Tranquera\", \"Mascotas Mias Pet Shop\", \"Estampa\", \"Algodones\", \"Fullerton\", \"Simonetti\", \"DRY FRUITS\", \"LOBOMAR\", \"Peque\\u00f1a compa\\u00f1\\u00eda\", \"Rosatel\", \"Piw\\u00e9n\", \"Revitalash\", \"Full Cell\", \"Masterwise\", \"Dulcer\\u00eda Coca\", \"Librer\\u00eda Perif\\u00e9rica\", \"Kukinuts\", \"Amor nacional\", \"Mercury music\", \"Naturel organic\", \"Oh my lamb!\", \"Premium paper\", \"Little bee\", \"Anis tienda\", \"Qu\\u00e9 Pachamama\", \"Candle store\", \"Erbario Toscano\", \"PSK Joyas\", \"Mercado Pasteur\", \"Cafeter\\u00eda La Cueva\", \"Harina gourmet\", \"Warm\\u00ed\", \"Emporio Gorro\\u00f1o\", \"Patagonia Schokoland\", \"CONEKTA\", \"TOUS\", \"Vivo Nativo\", \"De Tartas & tortas\", \"Medela by Guven\", \"Animaluna\", \"Betterpet\", \"Motherna\", \"Pasteler\\u00eda Terra\", \"Ohana pet shop\", \"Pilpil\", \"Newscience\", \"VILAPERT\", \"Santillana\", \"Posta veterinaria\", \"Cl\\u00ednica veterinaria Col\\u00f3n\", \"The beauty day spa\", \"D\\u00e9lice\", \"T\\u00edo Polo\", \"Studio Valdes\", \"Propet\", \"Electromarket Luis Cortes\", \"Sabores sure\\u00f1os\", \"Doc popcorn\", \"Opera liquor store\", \"Picaflor\", \"Tabatiere petit magasin\", \"Ferreter\\u00eda multiferret\", \"La Chakra\", \"SM\", \"Tortilla factory\", \"Estilo colector\", \"Flowershop\", \"Yahooshop\", \"Dulces Vacarezza\", \"Amada pasteler\\u00eda\", \"Global ok\", \"La casa org\\u00e1nica\", \"Jo Malone London\", \"Librer\\u00eda el caribe\", \"Dante store pets\", \"Mestiere\", \"Felipe Didier\", \"Chokko\", \"Botiller\\u00eda perro Pancho\", \"Luz Charme\", \"Tostadur\\u00eda El Nogal\", \"Importadora MMM\", \"Deysa care\", \"Peacock\", \"Tienda de vinos La Reina\", \"Mist ice cream\", \"Marisquer\\u00eda Austral\", \"Ema\", \"Jugueter\\u00eda Shakira toys\", \"CASA TATETI\", \"Le Creuset\", \"Vida natura\", \"Gudfud\", \"Bobbi Brown\", \"Madremia\", \"MAC Cosmetics\", \"Flor de galgo\", \"Clinique\", \"Bruxelles Chocolaterie\", \"Panart\", \"Dulces ISSA\", \"Bien argento\", \"Tateti toys\", \"D\\u00e9jate querer dulcer\\u00eda\", \"Maru peruano japon\\u00e9s\", \"Mercado premium\", \"Flores just flowers\", \"PHILIPS\", \"El florista\", \"Florexotica\", \"Mood aromaterapia\", \"Color animal\", \"Zigzaboo\", \"Maderitas\", \"AF Chile Spa\", \"L\\u00edmite sur gifts\", \"Green dolphin\", \"TESSA\", \"Take care mask\", \"Kipling\", \"Sexo sexshop\", \"Braintoys\", \"Heima caf\\u00e9\", \"Nicole&C\\u00e9dric\", \"El taller\", \"HAVANNA\", \"The North Face\", \"Cotolino\", \"Caffesso\", \"Instore CL\", \"L\\u00e4rrs\", \"Pasteler\\u00eda la Celeste\", \"Dog bark\", \"Vegan Panda\", \"Farmacias Natura\", \"Entrem\\u00e9s\", \"Express pet\", \"Cl\\u00ednica veterinaria vets & friends\", \"CASA AMARILLA\", \"Movenpick\", \"EGLO\", \"Cousi\\u00f1o Macul\", \"Salmones Ant\\u00e1rtica\", \"Andrea Coggiola joyas\", \"Pichintun\", \"Smartfix\", \"Nutrici\\u00f3n Santa Fe\", \"Whittard of Chelsea\", \"Thephonehouse\", \"VOPCAFE\", \"Veterinaria Cedilo\", \"Bikeman\", \"Bioser\", \"Sal\\u00f3n de belleza Esther\", \"Ortopedias m\\u00e1s vida\", \"La pescader\\u00eda\", \"Cup and cake bakery\", \"Doc popcorn\", \"Farmacia Fracci\\u00f3n\", \"Soler\", \"Copetexpress\", \"Tom\\u00e1s Moro\", \"Green conexion\", \"Pet Phone\", \"Belmio\", \"The candle shop\", \"Farmacia Weleda\", \"Dulcer\\u00eda Frutillar\", \"Nutrihouse\", \"Flores\", \"Nutrimedical\", \"GP Centro ahorro\", \"Finomarket\", \"Faunimals\", \"Cuncuna\", \"La carnicer\\u00eda store\", \"Cassis\", \"La casa del pa\\u00f1al\", \"Flores de Ocoa\", \"La Provincia\", \"Jugueter\\u00edas Ansaldo\", \"Prana\", \"Be Feelosophy\", \"Insert coin bar\", \"Caramel\", \"Biancolatte\", \"Bottega Rivoli\", \"Galleter\\u00eda de Laura R\", \"Carnero\", \"Copreser\", \"Jard\\u00edn Buenaventura\", \"La Teter\\u00eda\", \"Gift shop Kawaii\", \"LAB Gourmet\", \"Tostaduria Maravilla\", \"Get it\", \"Dr. Pet\", \"Pasteler\\u00eda el quinto pecado\", \"Heladeria il maestrale\", \"Regalos Clicker\", \"YEPPO\", \"My Mix\", \"Jugueter\\u00eda Girasol\", \"La cocina de Angeles Alamos\", \"Four Sport\", \"Piscinas Oriente\", \"Digitek\", \"Serfrut\", \"Felipe Didier\", \"Emporio La Granjita\", \"Don Paolo verduler\\u00eda\", \"Emporio La Rosa\", \"La Bruncher\\u00eda\", \"Corrales del sur\", \"Nacional outlet escolar\", \"El Hogar\", \"Marypez\", \"Prem de Bokato\", \"Mermoz\", \"Dulcer\\u00eda Montol\\u00edn\", \"Etienne Marcel\", \"Dogat\", \"De Pura madre\", \"Rienda suelta carnicer\\u00eda\", \"Intertoys\", \"Village\", \"Moza Bonita\", \"The Body Shop\", \"Breti citymarket\", \"De la carne\", \"Santa tienda\", \"Librer\\u00eda Joyas\", \"Japi Jane\", \"Jacarand\\u00e1 Flores\", \"Damien Mercier\", \"Blanca y Augusto\", \"La mil hoja\", \"Brando\", \"Suk\", \"Pistacho pasteler\\u00eda\", \"Verduler\\u00eda Fresh\", \"Detercenter\", \"Corral Osorno\", \"La f\\u00e1brica de churros Boher\", \"Medical train\", \"Coffee Wings\", \"Sant ambrogio\", \"Samia\", \"Maidenform\", \"Kaya unite\", \"Moritz Eis\", \"Cory coffeehouse\", \"Premium Carnes\", \"Liga de las mascotas\", \"Tienda Urbano\", \"Full congelados\", \"Quererte cafeter\\u00eda\", \"Fresh market\", \"Simply Sweet la pasteler\\u00eda\", \"Pablo & Nicol\\u00e1s Pinto\", \"Hands and the city\", \"LAMA\", \"Felipe Didier\", \"Eco farmacias\", \"Yves Rocher\", \"Fiesta & Regalos\", \"Todomoda\", \"La Estaci\\u00f3n fruter\\u00eda\", \"Centralvet.cl\", \"Trial\", \"Andesgear\", \"Carnaval\", \"Camposorno\", \"Planta maestra\", \"Farmacia veterinaria Arkanet\", \"Smart concept\", \"Puravida Flores\", \"Verduler\\u00eda Smilegreen\", \"EL VOLCAN\", \"Ando Creando\", \"El pan de cada d\\u00eda\", \"Medcare\", \"La F\\u00eate Chocolat\", \"Medisalud\", \"Verduleria Fredy Castillo\", \"Hands & company\", \"Mellow\", \"Bath & blanc\", \"Mercado Manquehue\", \"Papermark\", \"Saville Row\", \"Caf\\u00e9 diario\", \"DBS Beauty Store\", \"MeatMe\", \"D\\u00f3nde Jorgito\", \"Pets Center\", \"Gourmitalia\", \"Jackie Guiloff gourmet\", \"Frustic Tac\", \"Q\\u2019Mascotas\", \"BLU STORE\", \"Cotill\\u00f3n Activarte\", \"Aldea nativa\", \"Anasac Jard\\u00edn\", \"Monarch\", \"Dimeiggs\", \"Las Mellizas\", \"FORK\", \"Smartech\", \"Supermercado Versluys\", \"El Mundo del Vino\", \"Nacional\", \"Wua Wua\", \"Pet choice\", \"Veterinaria el Rodeo\", \"Amphora\", \"Mota\", \"Verduler\\u00eda Panchito\", \"Prismology\", \"Caffarena\", \"Natura cosm\\u00e9ticos\", \"Revesderecho\", \"Farmacias Knop\", \"Best for pets\", \"Juan Valdez Caf\\u00e9\", \"Los Mezza\", \"CAV\", \"Flor de Loto\", \"Tua\", \"Mola\", \"Rupestre\", \"Verduler\\u00eda Do\\u00f1a Amalia\", \"Cl\\u00ednica veterinaria Los Andes\", \"Librer\\u00eda Contrapunto\", \"Carne A Punto\", \"Bubba Bags\", \"Casa Royal\", \"The Garden\", \"Varsovienne Chocolater\\u00eda\", \"Ant\\u00e1rtica libros\", \"Ok Market\", \"Preunic\", \"L\\u00e1piz L\\u00f3pez\", \"Lounge\", \"Cobasi\", \"Sonho dos Bichos\", \"Dr. Hato\", \"Go meat\", \"Armaz\\u00e9m Cerealista\", \"Bicho Pet Store\", \"Breeds pet shop\", \"Cacau Show\", \"Imaginarium\", \"Petcamp\", \"Famiglia Franciulli do Glic\\u00e9rio\", \"Rei dos Animais\", \"Mercado Brasco\", \"Casa Bueno\", \"Leblon 2 Carnes\", \"Rochinha\", \"Picanha Nobre Casa de Carnes e Mini Mercado\", \"To Go Congelados\", \"Savoyard Fromagerie\", \"Verdim hortifruti\", \"Casa de Carnes Rei\", \"Pet days\", \"La carne\", \"Grupo Hiper Boi\", \"Vigor\", \"Royal Bebidas\", \"Loja Natural\", \"Biamar\", \"Kibon sorvetes\", \"Uau My Dog\", \"Armaz\\u00e9m Dona Idalina\", \"Emp\\u00f3rio dos gr\\u00e3os\", \"P\\u00e9 de mato\", \"Delivery da terra\", \"Mundo Verde\", \"Kopenhagen\", \"Biovila\", \"Snack Frutas\", \"Est\\u00e2ncia casa de carnes\", \"Chocolates Brasil Cacau\", \"Padaria Kennedy\", \"Varej\\u00e3o Lopes\", \"Maxxi\", \"Bovino Nobre Casa de Carnes\", \"Hortifruti Morato\", \"Ofner\", \"Ra\\u00e7\\u00f5es Renata\", \"Amo Org\\u00e2nico Quitanda\", \"Xirata Feira Limpa\", \"Lindt\", \"Carnes Florida\", \"Loja das frutas\", \"Rede Varej\\u00e3o Cachambi\", \"Casa de Carnes Fradique Coutinho\", \"Granado Pharm\\u00e1cias\", \"Little Bear Animalerie\", \"Chez Latina\", \"Mizan Gourmet\", \"Eataly\", \"Menagerie Pet Shop\", \"Radical Road Brewing Co\", \"Town & Country Market\", \"Simi African Foods\", \"Serano Bakery Food Market\", \"Smyrna Laz Bakkal\", \"Le Gourmand\", \"apniroots\", \"Greenhouse Juice Co.\", \"Victoria Supermarket\", \"The Big Carrot\", \"La Canasta Campesina\", \"Laika\", \"PLAZ Express\", \"Puerto Market\", \"Terrafit\", \"Nicolukas\", \"La boutique de las carnes\", \"Gastronomy Market\", \"Hot Vape\", \"Mas Natural House\", \"Thika Thani\", \"Weleda\", \"TuSuper\", \"Normita\", \"Consumo Cuidado\", \"IL Pastificio\", \"Limapostre\", \"Anelare\", \"Almendariz\", \"Atelier Amore Gelato\", \"Dolce Capriccio\", \"Floreria San Borja\", \"DIA-D juegos\", \"AFIT\", \"SBS Librer\\u00eda Internacional\", \"Florever\", \"Tortas Gaby\", \"Pickadeli\", \"Quinoa\", \"Invita\", \"Usams\", \"Caramba\", \"Flores para tu casa\", \"Miss Cupcakes\", \"Central Party\", \"Maria Almenara\", \"La p'tite France\", \"Ra\\u00edces mercado sostenible\", \"Patty Pasteler\\u00eda Artesanal\", \"Oregon Foods\", \"Canevaro 163\", \"Rosatel\", \"PetLover\", \"Plagio\", \"Verduler\\u00eda Segura\", \"Sarah's Tent\", \"Wagshal's\", \"Bravo Supermarkets Weston\", \"Sub Hub Market Fresh\", \"Wine Bank\", \"Zubi Supermarket\", \"Amish Market West\", \"Jubilee Market Place\", \"Elm Wellness\", \"Graziano's\", \"Zerpa's Antojos Criollos\", \"Gramercy Wine\", \"Freshy's\", \"Dante's Cellar\", \"Farm2cook\", \"Dickson's Farmstand Meats\", \"Exito Fresh Market\", \"America's Food Basket\", \"India Bazaar\", \"Edy\\u2019s Grocer\", \"Key Food\", \"Morton Williams\", \"Met Fresh Supermarket\", \"Katagiri\", \"Mahfood Market\", \"Ideal Food Basket\", \"Meat N' Bone\"], \"legendgroup\": \"Self service\", \"marker\": {\"color\": \"#636efa\"}, \"name\": \"Self service\", \"notched\": false, \"offsetgroup\": \"Self service\", \"orientation\": \"v\", \"showlegend\": true, \"type\": \"box\", \"x\": [\"MX\", \"MX\", \"MX\", \"MX\", \"MX\", \"MX\", \"MX\", \"MX\", \"MX\", \"MX\", \"MX\", \"MX\", \"MX\", \"MX\", \"MX\", \"MX\", \"MX\", \"MX\", \"MX\", \"MX\", \"MX\", \"MX\", \"MX\", \"MX\", \"MX\", \"MX\", \"MX\", \"MX\", \"MX\", \"MX\", \"MX\", \"MX\", \"MX\", \"MX\", \"MX\", \"MX\", \"MX\", \"MX\", \"MX\", \"MX\", \"MX\", \"MX\", \"MX\", \"MX\", \"MX\", \"MX\", \"MX\", \"MX\", \"MX\", \"MX\", \"MX\", \"MX\", \"MX\", \"MX\", \"MX\", \"MX\", \"MX\", \"MX\", \"MX\", \"MX\", \"MX\", \"MX\", \"MX\", \"MX\", \"MX\", \"MX\", \"MX\", \"MX\", \"MX\", \"MX\", \"MX\", \"MX\", \"MX\", \"MX\", \"MX\", \"MX\", \"MX\", \"MX\", \"MX\", \"MX\", \"MX\", \"MX\", \"MX\", \"MX\", \"MX\", \"MX\", \"MX\", \"MX\", \"MX\", \"MX\", \"MX\", \"MX\", \"MX\", \"MX\", \"MX\", \"MX\", \"MX\", \"MX\", \"MX\", \"MX\", \"MX\", \"MX\", \"MX\", \"MX\", \"MX\", \"MX\", \"MX\", \"MX\", \"MX\", \"MX\", \"MX\", \"MX\", \"MX\", \"MX\", \"MX\", \"MX\", \"MX\", \"MX\", \"MX\", \"MX\", \"MX\", \"MX\", \"MX\", \"MX\", \"MX\", \"MX\", \"MX\", \"MX\", \"MX\", \"MX\", \"MX\", \"MX\", \"MX\", \"MX\", \"MX\", \"MX\", \"MX\", \"MX\", \"MX\", \"MX\", \"MX\", \"MX\", \"MX\", \"MX\", \"MX\", \"MX\", \"MX\", \"MX\", \"MX\", \"MX\", \"MX\", \"MX\", \"MX\", \"MX\", \"MX\", \"MX\", \"CL\", \"CL\", \"CL\", \"CL\", \"CL\", \"CL\", \"CL\", \"CL\", \"CL\", \"CL\", \"CL\", \"CL\", \"CL\", \"CL\", \"CL\", \"CL\", \"CL\", \"CL\", \"CL\", \"CL\", \"CL\", \"CL\", \"CL\", \"CL\", \"CL\", \"CL\", \"CL\", \"CL\", \"CL\", \"CL\", \"CL\", \"CL\", \"CL\", \"CL\", \"CL\", \"CL\", \"CL\", \"CL\", \"CL\", \"CL\", \"CL\", \"CL\", \"CL\", \"CL\", \"CL\", \"CL\", \"CL\", \"CL\", \"CL\", \"CL\", \"CL\", \"CL\", \"CL\", \"CL\", \"CL\", \"CL\", \"CL\", \"CL\", \"CL\", \"CL\", \"CL\", \"CL\", \"CL\", \"CL\", \"CL\", \"CL\", \"CL\", \"CL\", \"CL\", \"CL\", \"CL\", \"CL\", \"CL\", \"CL\", \"CL\", \"CL\", \"CL\", \"CL\", \"CL\", \"CL\", \"CL\", \"CL\", \"CL\", \"CL\", \"CL\", \"CL\", \"CL\", \"CL\", \"CL\", \"CL\", \"CL\", \"CL\", \"CL\", \"CL\", \"CL\", \"CL\", \"CL\", \"CL\", \"CL\", \"CL\", \"CL\", \"CL\", \"CL\", \"CL\", \"CL\", \"CL\", \"CL\", \"CL\", \"CL\", \"CL\", \"CL\", \"CL\", \"CL\", \"CL\", \"CL\", \"CL\", \"CL\", \"CL\", \"CL\", \"CL\", \"CL\", \"CL\", \"CL\", \"CL\", \"CL\", \"CL\", \"CL\", \"CL\", \"CL\", \"CL\", \"CL\", \"CL\", \"CL\", \"CL\", \"CL\", \"CL\", \"CL\", \"CL\", \"CL\", \"CL\", \"CL\", \"CL\", \"CL\", \"CL\", \"CL\", \"CL\", \"CL\", \"CL\", \"CL\", \"CL\", \"CL\", \"CL\", \"CL\", \"CL\", \"CL\", \"CL\", \"CL\", \"CL\", \"CL\", \"CL\", \"CL\", \"CL\", \"CL\", \"CL\", \"CL\", \"CL\", \"CL\", \"CL\", \"CL\", \"CL\", \"CL\", \"CL\", \"CL\", \"CL\", \"CL\", \"CL\", \"CL\", \"CL\", \"CL\", \"CL\", \"CL\", \"CL\", \"CL\", \"CL\", \"CL\", \"CL\", \"CL\", \"CL\", \"CL\", \"CL\", \"CL\", \"CL\", \"CL\", \"CL\", \"CL\", \"CL\", \"CL\", \"CL\", \"CL\", \"CL\", \"CL\", \"CL\", \"CL\", \"CL\", \"CL\", \"CL\", \"CL\", \"CL\", \"CL\", \"CL\", \"CL\", \"CL\", \"CL\", \"CL\", \"CL\", \"CL\", \"CL\", \"CL\", \"CL\", \"CL\", \"CL\", \"CL\", \"CL\", \"CL\", \"CL\", \"CL\", \"CL\", \"CL\", \"CL\", \"CL\", \"CL\", \"CL\", \"CL\", \"CL\", \"CL\", \"CL\", \"CL\", \"CL\", \"CL\", \"CL\", \"CL\", \"CL\", \"CL\", \"CL\", \"CL\", \"CL\", \"CL\", \"CL\", \"CL\", \"CL\", \"CL\", \"CL\", \"CL\", \"CL\", \"CL\", \"CL\", \"CL\", \"CL\", \"CL\", \"CL\", \"CL\", \"CL\", \"CL\", \"CL\", \"CL\", \"CL\", \"CL\", \"CL\", \"CL\", \"CL\", \"CL\", \"CL\", \"CL\", \"CL\", \"CL\", \"CL\", \"CL\", \"CL\", \"CL\", \"CL\", \"CL\", \"CL\", \"CL\", \"CL\", \"CL\", \"CL\", \"CL\", \"CL\", \"CL\", \"CL\", \"CL\", \"CL\", \"CL\", \"CL\", \"CL\", \"CL\", \"CL\", \"CL\", \"CL\", \"CL\", \"CL\", \"CL\", \"CL\", \"CL\", \"CL\", \"CL\", \"CL\", \"CL\", \"CL\", \"CL\", \"CL\", \"CL\", \"CL\", \"CL\", \"CL\", \"CL\", \"CL\", \"CL\", \"CL\", \"CL\", \"CL\", \"CL\", \"CL\", \"CL\", \"CL\", \"CL\", \"CL\", \"CL\", \"CL\", \"CL\", \"CL\", \"CL\", \"CL\", \"CL\", \"CL\", \"CL\", \"CL\", \"CL\", \"CL\", \"CL\", \"CL\", \"CL\", \"CL\", \"CL\", \"CL\", \"CL\", \"CL\", \"CL\", \"CL\", \"CL\", \"CL\", \"CL\", \"CL\", \"CL\", \"CL\", \"CL\", \"CL\", \"CL\", \"CL\", \"CL\", \"CL\", \"CL\", \"CL\", \"CL\", \"CL\", \"CL\", \"CL\", \"CL\", \"CL\", \"CL\", \"CL\", \"CL\", \"CL\", \"CL\", \"CL\", \"CL\", \"CL\", \"CL\", \"CL\", \"CL\", \"CL\", \"CL\", \"CL\", \"CL\", \"CL\", \"CL\", \"CL\", \"CL\", \"CL\", \"CL\", \"CL\", \"CL\", \"CL\", \"CL\", \"CL\", \"CL\", \"CL\", \"CL\", \"CL\", \"CL\", \"CL\", \"CL\", \"CL\", \"CL\", \"CL\", \"CL\", \"CL\", \"CL\", \"CL\", \"CL\", \"CL\", \"CL\", \"CL\", \"CL\", \"CL\", \"CL\", \"CL\", \"CL\", \"CL\", \"CL\", \"CL\", \"CL\", \"CL\", \"CL\", \"CL\", \"CL\", \"CL\", \"CL\", \"CL\", \"CL\", \"CL\", \"CL\", \"CL\", \"CL\", \"CL\", \"CL\", \"CL\", \"CL\", \"CL\", \"CL\", \"CL\", \"CL\", \"CL\", \"CL\", \"CL\", \"CL\", \"CL\", \"CL\", \"CL\", \"CL\", \"CL\", \"CL\", \"CL\", \"CL\", \"CL\", \"CL\", \"CL\", \"CL\", \"CL\", \"CL\", \"CL\", \"CL\", \"CL\", \"CL\", \"CL\", \"CL\", \"CL\", \"CL\", \"CL\", \"CL\", \"CL\", \"CL\", \"CL\", \"CL\", \"CL\", \"CL\", \"CL\", \"CL\", \"CL\", \"CL\", \"CL\", \"CL\", \"CL\", \"CL\", \"CL\", \"CL\", \"CL\", \"CL\", \"CL\", \"CL\", \"CL\", \"CL\", \"CL\", \"CL\", \"CL\", \"CL\", \"CL\", \"CL\", \"CL\", \"CL\", \"CL\", \"CL\", \"CL\", \"CL\", \"CL\", \"CL\", \"CL\", \"CL\", \"CL\", \"CL\", \"CL\", \"CL\", \"CL\", \"CL\", \"CL\", \"CL\", \"CL\", \"CL\", \"CL\", \"CL\", \"CL\", \"CL\", \"CL\", \"CL\", \"CL\", \"CL\", \"CL\", \"CL\", \"CL\", \"CL\", \"CL\", \"CL\", \"CL\", \"CL\", \"CL\", \"CL\", \"CL\", \"CL\", \"CL\", \"CL\", \"CL\", \"CL\", \"CL\", \"CL\", \"CL\", \"CL\", \"CL\", \"CL\", \"CL\", \"CL\", \"CL\", \"CL\", \"CL\", \"CL\", \"CL\", \"CL\", \"CL\", \"CL\", \"CL\", \"CL\", \"CL\", \"CL\", \"CL\", \"CL\", \"CL\", \"CL\", \"CL\", \"CL\", \"CL\", \"CL\", \"CL\", \"BR\", \"BR\", \"BR\", \"BR\", \"BR\", \"BR\", \"BR\", \"BR\", \"BR\", \"BR\", \"BR\", \"BR\", \"BR\", \"BR\", \"BR\", \"BR\", \"BR\", \"BR\", \"BR\", \"BR\", \"BR\", \"BR\", \"BR\", \"BR\", \"BR\", \"BR\", \"BR\", \"BR\", \"BR\", \"BR\", \"BR\", \"BR\", \"BR\", \"BR\", \"BR\", \"BR\", \"BR\", \"BR\", \"BR\", \"BR\", \"BR\", \"BR\", \"BR\", \"BR\", \"BR\", \"BR\", \"BR\", \"BR\", \"BR\", \"BR\", \"BR\", \"BR\", \"BR\", \"BR\", \"BR\", \"CA\", \"CA\", \"CA\", \"CA\", \"CA\", \"CA\", \"CA\", \"CA\", \"CA\", \"CA\", \"CA\", \"CA\", \"CA\", \"CA\", \"CA\", \"CO\", \"CO\", \"CO\", \"CO\", \"CO\", \"CO\", \"CO\", \"CO\", \"PE\", \"PE\", \"PE\", \"PE\", \"PE\", \"PE\", \"PE\", \"PE\", \"PE\", \"PE\", \"PE\", \"PE\", \"PE\", \"PE\", \"PE\", \"PE\", \"PE\", \"PE\", \"PE\", \"PE\", \"PE\", \"PE\", \"PE\", \"PE\", \"PE\", \"PE\", \"PE\", \"PE\", \"PE\", \"PE\", \"PE\", \"PE\", \"PE\", \"PE\", \"PE\", \"PE\", \"CR\", \"US\", \"US\", \"US\", \"US\", \"US\", \"US\", \"US\", \"US\", \"US\", \"US\", \"US\", \"US\", \"US\", \"US\", \"US\", \"US\", \"US\", \"US\", \"US\", \"US\", \"US\", \"US\", \"US\", \"US\", \"US\", \"US\", \"US\"], \"x0\": \" \", \"xaxis\": \"x\", \"y\": [-1.34, -11.7, -10.22, -1.22, -1.89, -11.98, -0.39, -3.54, -5.27, -2.8, -5.95, -6.9, -3.23, -2.71, -3.28, -1.26, -0.78, -5.62, -0.28, -2.31, -4.27, -1.29, -1.36, -0.9, -9.71, -0.1, -6.44, -3.17, -0.58, -1.42, -1.99, -0.84, -1.05, -2.67, -2.7, -5.54, -0.78, -2.28, -1.38, -3.5, -0.32, -1.54, -0.33, -0.79, -1.12, -2.99, -0.33, -0.16, -0.26, -0.63, -0.08, -0.19, -2.13, -1.67, -0.53, -0.69, -0.24, -0.29, -0.21, -1.0, -0.27, -0.33, -2.11, -0.2, -0.4, -0.48, -0.04, -0.25, -0.08, -0.17, -0.04, -0.13, -0.03, -0.18, -0.05, -0.06, -0.15, -0.02, -0.06, -0.15, 0.0, 0.0, 0.0, 0.0, 0.0, 0.0, 0.0, 0.0, 0.0, 0.0, 0.0, 0.0, 0.0, 0.0, 0.0, 0.0, 0.0, 0.0, 0.0, 0.0, 0.0, 0.0, 0.0, 0.0, 0.0, 0.22, 0.05, 0.06, 0.27, 0.26, 0.27, 0.32, 0.32, 0.13, 0.35, 0.55, 0.18, 0.17, 0.48, 0.26, 0.7, 0.37, 0.76, 0.19, 0.3, 0.05, 1.12, 1.51, 3.52, 2.12, 0.65, 0.13, 0.8, 0.09, 0.57, 0.5, 1.16, 1.39, 2.03, 0.55, 3.52, 0.83, 1.95, 2.43, 0.67, 0.34, 8.86, 5.65, 0.99, 0.55, 0.41, 11.6, 0.65, 5.37, 10.72, 4.51, -5.33, -1.24, -0.21, -0.67, -1.02, -1.24, -0.78, -1.24, -2.06, -0.09, -0.86, -0.59, -0.65, -0.96, -0.43, -0.18, -7.01, -0.96, -1.39, -0.55, -0.64, -1.87, -2.16, -1.39, -1.96, -1.84, -0.22, -0.26, -0.43, -4.73, -1.49, -2.06, -0.95, -0.17, -0.03, -0.47, -0.4, -0.81, -0.13, -1.11, -0.99, -1.6, -0.4, -0.15, -0.96, -0.59, -0.13, -0.69, -1.02, -1.39, -0.25, -2.19, -1.01, -1.11, -0.32, -0.2, -0.7, -0.82, -0.23, -0.2, -0.28, -0.2, -1.18, -1.3, -0.42, -0.5, -0.31, -0.14, -0.89, -0.21, -0.17, -3.19, -2.06, -0.59, -0.41, -0.02, -0.32, -0.08, -0.13, -0.22, -0.19, -0.49, -1.31, -0.12, -0.55, -0.4, -1.51, -0.04, -0.2, -0.07, -0.04, -0.05, -0.45, -0.28, -0.3, -0.28, -0.2, -0.14, -0.28, -0.22, -0.4, -0.34, -0.43, -0.2, -1.2, -0.35, -0.09, -0.36, -0.02, -1.26, -0.56, -0.07, -0.03, -0.4, -5.32, -0.04, -0.25, -0.22, -0.42, -0.06, -0.04, -0.3, -0.44, -0.25, -0.32, -0.04, -0.73, -0.31, -0.3, -0.25, -1.25, -0.1, -0.27, -0.06, -0.03, -0.1, -0.28, -0.17, -0.46, -0.06, -0.25, -0.3, -0.13, -0.07, -0.07, -0.03, -0.03, -0.08, -0.15, -0.03, -0.05, -0.03, -0.05, 0.0, -0.07, -0.16, -0.19, -0.02, -0.04, -0.08, -0.01, -0.01, 0.0, -0.03, -0.02, -0.04, -0.04, 0.0, -0.04, -0.03, -0.02, 0.0, -0.02, -0.01, -0.01, 0.0, 0.0, 0.0, 0.0, 0.0, 0.0, 0.0, 0.0, 0.0, 0.0, 0.0, 0.0, 0.0, 0.0, 0.0, 0.0, 0.0, 0.0, 0.0, 0.0, 0.0, 0.0, 0.0, 0.0, 0.0, 0.0, 0.0, 0.0, 0.0, 0.0, 0.0, 0.0, 0.0, 0.0, 0.0, 0.0, 0.0, 0.0, 0.0, 0.0, 0.0, 0.0, 0.0, 0.0, 0.0, 0.0, 0.0, 0.0, 0.0, 0.0, 0.0, 0.0, 0.0, 0.0, 0.0, 0.0, 0.0, 0.0, 0.0, 0.0, 0.0, 0.0, 0.0, 0.0, 0.0, 0.0, 0.0, 0.0, 0.0, 0.0, 0.0, 0.0, 0.0, 0.0, 0.0, 0.0, 0.0, 0.0, 0.0, 0.0, 0.0, 0.0, 0.0, 0.0, 0.0, 0.0, 0.0, 0.0, 0.0, 0.0, 0.0, 0.0, 0.0, 0.0, 0.0, 0.0, 0.0, 0.0, 0.0, 0.0, 0.0, 0.0, 0.0, 0.0, 0.0, 0.0, 0.0, 0.0, 0.0, 0.0, 0.0, 0.0, 0.0, 0.0, 0.0, 0.0, 0.0, 0.0, 0.0, 0.0, 0.0, 0.0, 0.0, 0.0, 0.0, 0.0, 0.0, 0.0, 0.0, 0.0, 0.0, 0.0, 0.0, 0.0, 0.0, 0.0, 0.0, 0.0, 0.0, 0.0, 0.0, 0.0, 0.0, 0.0, 0.0, 0.0, 0.0, 0.0, 0.0, 0.0, 0.0, 0.0, 0.0, 0.0, 0.0, 0.0, 0.0, 0.0, 0.0, 0.0, 0.0, 0.0, 0.0, 0.0, 0.0, 0.0, 0.0, 0.0, 0.0, 0.0, 0.0, 0.0, 0.0, 0.0, 0.0, 0.0, 0.0, 0.0, 0.0, 0.0, 0.0, 0.0, 0.0, 0.0, 0.0, 0.0, 0.0, 0.0, 0.0, 0.0, 0.0, 0.0, 0.0, 0.0, 0.0, 0.0, 0.0, 0.0, 0.0, 0.0, 0.0, 0.0, 0.01, 0.01, 0.03, 0.04, 0.01, 0.01, 0.03, 0.03, 0.03, 0.02, 0.01, 0.01, 0.05, 0.0, 0.06, 0.04, 0.04, 0.01, 0.07, 0.01, 0.06, 0.25, 0.06, 0.09, 0.02, 0.04, 0.08, 0.2, 0.01, 0.1, 0.02, 0.15, 0.11, 0.24, 0.09, 0.14, 0.17, 0.01, 0.09, 0.32, 0.05, 0.17, 0.2, 0.37, 0.07, 0.25, 0.02, 0.41, 0.12, 0.09, 0.19, 0.05, 0.4, 0.05, 0.42, 0.12, 0.07, 0.1, 0.25, 0.08, 1.03, 0.39, 0.33, 0.08, 0.42, 0.43, 0.79, 0.38, 0.02, 0.1, 0.06, 0.11, 0.51, 0.49, 0.09, 1.69, 0.04, 0.03, 0.57, 0.62, 0.76, 1.02, 0.25, 0.11, 0.08, 0.68, 1.17, 1.44, 1.51, 1.67, 0.63, 0.13, 0.82, 0.32, 0.05, 0.8, 0.51, 0.25, 0.29, 0.35, 0.79, 0.59, 0.33, 0.7, 0.07, 2.49, 0.55, 1.15, 0.51, 0.82, 0.11, 1.17, 0.55, 1.19, 0.63, 0.17, 2.58, 0.15, 0.97, 2.21, 1.2, 1.21, 0.15, 0.88, 0.11, 1.09, 0.46, 1.2, 0.33, 0.57, 2.08, 0.84, 0.03, 0.43, 2.02, 0.68, 0.48, 0.21, 0.13, 0.86, 0.53, 1.05, 0.18, 0.21, 0.95, 2.01, 0.38, 1.06, 1.65, 0.73, 0.94, 0.4, 0.65, 0.43, 0.67, 0.33, 0.65, 0.17, 0.46, 0.85, 0.64, 0.35, 0.17, 0.34, 0.62, 3.67, 1.23, 0.41, 2.4, 3.24, 1.6, 0.53, 0.61, 1.08, 1.52, 1.77, 3.05, 1.37, 8.65, 3.67, 8.42, 0.62, 3.21, 2.8, 1.14, 1.47, 0.79, 19.87, 0.82, 1.06, 0.82, 4.06, 1.78, 6.54, -6.21, -6.53, -2.61, -4.81, -0.87, -4.6, -1.52, -6.79, -3.61, -3.83, -2.85, -2.55, -2.69, -0.14, -1.9, -1.33, -1.19, -1.15, -1.74, -1.54, -0.87, -0.86, -0.86, -0.11, -0.48, -0.17, -0.1, -0.04, 0.0, 0.0, 0.36, 0.19, 0.22, 0.75, 0.28, 0.46, 1.29, 2.85, 1.02, 3.03, 1.56, 2.22, 1.51, 1.45, 0.48, 1.96, 4.98, 2.22, 1.32, 1.93, 0.78, 6.41, 6.39, 1.79, 2.37, -2.12, -8.78, -1.45, 0.03, 0.23, 1.36, 2.26, 2.45, 1.66, 2.8, 5.38, 3.39, 2.7, 14.63, 1.46, -18.24, -1.81, -1.13, -0.17, 0.0, 0.0, 0.33, 2.38, -2.72, -0.67, -0.82, -2.5, -1.41, -0.13, -0.34, -0.15, -0.82, -0.13, -0.02, -0.01, 0.0, 0.0, 0.0, 0.0, 0.0, 0.0, 0.0, 0.0, 0.0, 0.0, 0.0, 0.0, 0.0, 0.07, 0.07, 0.01, 1.2, 0.89, 1.02, 0.08, 0.36, 2.14, 2.31, 11.7, -0.37, -48.35, -11.36, -3.62, -2.82, -1.01, -2.19, -3.0, -0.5, -1.49, -0.45, 0.0, 0.0, 0.08, 0.23, 0.74, 1.3, 0.52, 5.2, 5.23, 5.69, 2.45, 0.7, 1.86, 12.95, 10.05, 4.85, 4.37], \"y0\": \" \", \"yaxis\": \"y\"}, {\"alignmentgroup\": \"True\", \"customdata\": [[-80.2203696174881, 96.0, -0.8356288501821677], [-61.08250517800818, 10740.0, -0.0056873840947866084], [-41.23245776633043, 95.0, -0.4340258712245308], [-2.685492185869702, 8.0, -0.33568652323371273], [-0.49768202110261356, 34.0, -0.014637706503018046], [0.6469866274333976, 13.0, 0.04976820211026135], [1.6408576235753183, 159.0, 0.010319859267769297], [2.1480676360030366, 109.0, 0.01970704253213795], [2.4884101055130676, 19.0, 0.1309689529217404], [4.110853494307587, 44.0, 0.09342848850699062], [8.39937947014879, 131.0, 0.06411740053548695], [13.751451925086304, 259.0, 0.0530944089771672], [13.935096590873183, 257.0, 0.054222165723241955], [14.239180305766912, 872.0, 0.016329335213035447], [24.386916716049168, 17.0, 1.4345245127087747], [27.592486613971094, 179.0, 0.15414796991045304], [54.28416876974647, 32.0, 1.6963802740545773], [55.995697240318464, 437.0, 0.1281366069572505], [56.21766342173013, 495.0, 0.11357103721561643], [59.95077626202084, 475.0, 0.12621216055162282], [72.54412212400136, 273.0, 0.26572938506960203], [73.71992730597411, 42.0, 1.755236364427955], [82.86903333379631, 1273.0, 0.06509743388357919], [89.21855104666326, 101.0, 0.8833519905610224], [98.10777851093326, 321.0, 0.3056317087568014], [98.70029842507032, 376.0, 0.26250079368369766], [108.83310437471947, 366.0, 0.2973582086740969], [116.06492182336116, 977.0, 0.11879725877519054], [116.20228206118594, 397.0, 0.29270096237074544], [158.49231412235943, 806.0, 0.19664058824114072], [248.243792125984, 743.0, 0.33411008361505246], [487.1455950338501, 269.0, 1.8109501674120823], [1855.1923488754953, 2181.0, 0.850615474037366], [2035.761339771943, 3924.0, 0.5187974871997816], [4812.9136141961835, 7634.0, 0.6304576387472077], [15581.515811034329, 11187.0, 1.392823438905366], [15710.133831215191, 15973.0, 0.9835430934210976], [31685.447941938295, 29349.0, 1.0796091158791883], [96836.85150769685, 19500.0, 4.965992385010095], [9.359728295331129, 112.0, 0.08356900263688508], [116.58238099626405, 1098.0, 0.10617703187273593], [1600.9925367625333, 1884.0, 0.849783724396249], [1646.0725802084157, 1638.0, 1.004928315145553], [1917.1276387968169, 3574.0, 0.5364095240058245], [3697.979760979554, 3383.0, 1.0931066393672935], [4526.482426966597, 4107.0, 1.1021384044233253], [4732.791921337655, 2485.0, 1.904544032731451], [5267.525806220519, 1624.0, 3.243550373288497], [17496.0580761411, 10926.0, 1.6013232725737783], [250658.60998364844, 71657.0, 3.4980338275904437], [-243.57111690849072, 29.0, -8.399004031327266], [-193.85030063677675, 875.0, -0.22154320072774486], [-189.52578886069224, 67.0, -2.8287431173237647], [-142.24396776283075, 168.0, -0.846690284302564], [-48.565891136318925, 108.0, -0.4496841771881382], [-25.0615052821218, 318.0, -0.07880976503811887], [-23.788504795983215, 108.0, -0.22026393329614088], [-17.506524121975595, 40.0, -0.4376631030493899], [-14.836912921046947, 691.0, -0.021471654010198186], [-11.398618372958829, 705.0, -0.01616825301128912], [-9.267074576427461, 81.0, -0.11440832810404274], [-2.416856002243428, 13.0, -0.18591200017257137], [-0.9224641230640938, 9.0, -0.10249601367378819], [-0.643879956053814, 46.0, -0.013997390348995956], [1.9168804477271726, 12.0, 0.15974003731059772], [2.4334603584879995, 15.0, 0.16223069056586664], [3.394667982285059, 130.0, 0.026112830632961992], [5.625186222444846, 34.0, 0.165446653601319], [6.073503788467907, 38.0, 0.1598290470649449], [8.827981667132569, 100.0, 0.08827981667132569], [14.814773818438749, 86.0, 0.17226481184231102], [22.53948840029045, 192.0, 0.11739316875151275], [30.80476692744745, 113.0, 0.2726085568800659], [46.385185966368816, 70.0, 0.6626455138052688], [57.55807143451482, 271.0, 0.21239140750743477], [64.13893054786084, 675.0, 0.09502063784868273], [74.2509822183971, 244.0, 0.3043073041737586], [81.33735159185012, 287.0, 0.28340540624338023], [81.3521110205866, 109.0, 0.7463496423907028], [118.59752246117114, 332.0, 0.3572214531962986], [143.3158711356366, 617.0, 0.23227855937704472], [144.02063371772473, 689.0, 0.20902849596186462], [220.4338718232603, 529.0, 0.4166991905921745], [239.46615158133432, 642.0, 0.3730002361079974], [250.73497331348196, 344.0, 0.728880736376401], [261.81007762424895, 839.0, 0.31205015211471865], [293.44875207503696, 568.0, 0.5166351268926707], [346.0716404970978, 1368.0, 0.2529763453926154], [347.1177148556573, 2288.0, 0.1517122879613887], [736.5876026600178, 2791.0, 0.2639153001289924], [1400.9647135575685, 7204.0, 0.194470393331145], [3239.8415953781246, 8281.0, 0.3912379658710451], [7770.315659006786, 13394.0, 0.5801340644323417], [-768.2856898557453, 815.0, -0.9426818280438592], [4.305053181683774, 10.0, 0.4305053181683774], [6.063002194102373, 11.0, 0.5511820176456703], [13.014000051773577, 33.0, 0.39436363793253265], [18.355309657109768, 17.0, 1.0797240974770452], [100.57335338383629, 180.0, 0.5587408521324239], [255.5748791361035, 392.0, 0.6519767324900599], [303.3791686572041, 880.0, 0.3447490552922774], [508.2755390925969, 232.0, 2.190842840916366], [1208.5824937773637, 1198.0, 1.0088334672599029], [5608.356258839754, 2078.0, 2.6989202400576295], [7415.125421543104, 18115.0, 0.4093362087520344], [21535.75555330698, 11875.0, 1.8135373097521668], [-69.48166416770596, 36.0, -1.930046226880721], [-25.42802292504519, 16.0, -1.5892514328153244], [6.3419419026666475, 11.0, 0.5765401729696952], [10.327620755853873, 149.0, 0.06931289097888506], [11.469024564550258, 187.0, 0.061331682163370364], [11.6971539873604, 38.0, 0.3078198417726421], [14.525005955467117, 55.0, 0.2640910173721294], [65.04042711208889, 24.0, 2.7100177963370373], [82.61227807126943, 87.0, 0.9495664146122923], [174.24673149951656, 149.0, 1.1694411510034668], [2057.4702016451106, 708.0, 2.906031358255806], [5381.565032019393, 2135.0, 2.5206393592596688], [-3.289401427786949, 86.0, -0.038248853811476156], [48.96485447556284, 203.0, 0.24120617968257554], [80.64524986271269, 299.0, 0.2697165547247916], [106.58704008786384, 323.0, 0.329990836185337], [113.89346512904994, 228.0, 0.4995327417940787], [140.09335529928615, 22.0, 6.367879786331188], [2030.7852828116438, 1144.0, 1.7751619604996887], [3157.2075782537086, 1926.0, 1.6392562711597656], [5220.661724327285, 2287.0, 2.282755454450059], [15766.786038570905, 7092.0, 2.2231790804527503], [-13.760334214823116, 32.0, -0.4300104442132224], [-2.6767746947303657, 10.0, -0.26767746947303656], [-0.1286499461261235, 11.0, -0.011695449647829408], [3.292243092574156, 96.0, 0.03429419888098079], [4.161597920852245, 8.0, 0.5201997401065306], [32.53352493143517, 36.0, 0.9037090258731991], [36.025480038891935, 80.0, 0.4503185004861492], [54.37197169590126, 94.0, 0.5784252308074602], [320.8933228832404, 337.0, 0.9522057058849863], [-581.2, 356.0, -1.6325842696629216], [-70.26999999999991, 153.0, -0.4592810457516334], [-68.28, 169.0, -0.40402366863905326], [-63.93000000000003, 78.0, -0.819615384615385], [7.519999999999982, 12.0, 0.6266666666666652], [13.91000000000001, 23.0, 0.6047826086956526], [87.92000000000002, 326.0, 0.2696932515337424], [344.15999999999957, 438.0, 0.7857534246575333], [568.8599999999998, 372.0, 1.5291935483870962], [636.1099999999996, 609.0, 1.0445155993431847], [673.8700000000007, 485.0, 1.3894226804123726], [1588.5099999999975, 977.0, 1.625905834186282], [4951.81000000001, 2985.0, 1.6588978224455646]], \"hovertemplate\": \"<b>%{hovertext}</b><br><br>Service type=Full service<br>Country=%{x}<br>Markup percentage (%)=%{y}<br>Markup (USD)=%{customdata[0]}<br>Total orders=%{customdata[1]}<br>Markup per order (USD)=%{customdata[2]}<extra></extra>\", \"hovertext\": [\"City Market Farmacia\", \"City Market\", \"Modelorama\", \"Farmacias Purex\", \"The Home Store\", \"K\", \"Maskota\", \"El Globo\", \"Innovasport\", \"Extra\", \"Steren\", \"Parisina\", \"Nespresso\", \"Fantas\\u00edas Miguel\", \"GamePlanet\", \"Chedraui Farmacia\", \"Mixup\", \"Alsuper Plus\", \"Circle K\", \"Bed Bath and Beyond\", \"Bodegas Alianza\", \"HEB Home\", \"Fresh Market\", \"Juguetron\", \"Krispy Kreme\", \"Vinoteca\", \"Sumesa\", \"Alsuper\", \"OXXO\", \"Lumen\", \"OfficeMax\", \"Sanborns\", \"Petco\", \"Fresko\", \"La Comer\", \"Soriana\", \"Costco\", \"Chedraui\", \"HEB\", \"Liquimax\", \"Casaideas\", \"Unimarc\", \"Paris\", \"Easy\", \"Farmacias Ahumada\", \"Santa Isabel\", \"Salcobrand\", \"SPID 35\", \"Lider\", \"Jumbo\", \"Hippo\", \"Kalunga\", \"Akk\\u00ed Atacadista\", \"Supermercado Tatico\", \"Mercantil Rodrigues\", \"Nacional\", \"Supermercado Violeta\", \"Casa do Sab\\u00e3o\", \"Carrefour Bairro\", \"Hirota Supermercados\", \"Varanda\", \"Callfarma\", \"Exclusiva Sex\", \"Muffato Gourmet\", \"Hirota Express\", \"Rede Big Market\", \"Mercadorama\", \"Poupafarma\", \"Gimba\", \"Public Superatacados\", \"Perini\", \"Bretas\", \"Bompre\\u00e7o\", \"Super Bompre\\u00e7o\", \"Muffato\", \"Emporium S\\u00e3o Paulo\", \"GBarbosa\", \"Carrefour Drogaria\", \"Princesa Supermercados\", \"Barbosa Supermercados\", \"Rold\\u00e3o Atacadista\", \"BIG Bompre\\u00e7o\", \"Bem Barato Supermercados\", \"Droga Raia\", \"Super Nosso\", \"Carrefour Pamplona\", \"Drogasil\", \"Maxxi\", \"Prezunic\", \"Sam's Club\", \"Big\", \"Atacad\\u00e3o\", \"Carrefour Hiper\", \"Organic Garage\", \"Well.ca Pharmacy\", \"Brunet\", \"Canadian Tire\", \"The Body Shop\", \"Galleria Supermarket\", \"Jean Coutu\", \"Rexall\", \"H&M\", \"Costco\", \"Longo's\", \"Walmart\", \"Metro\", \"Locatel\", \"Puppis\", \"Metro\", \"Justo & Bueno\", \"Ara\", \"Farmatodo\", \"Surtifruver\", \"Easy\", \"Colsubsidio\", \"Euro\", \"Alkosto\", \"Jumbo\", \"Boticas Per\\u00fa\", \"Tai Loy\", \"Inkafarma\", \"Flora & Fauna\", \"Casaideas\", \"Wong Gourmet\", \"Vivanda\", \"Makro\", \"Metro\", \"Wong\", \"Maxiconsumo\", \"Super F\\u00e1cil\", \"Super Sal\\u00f3n\", \"Fresh Market\", \"Fischel\", \"Mayca\", \"Saretto\", \"Super Compro\", \"Perimercado\", \"Gristedes\", \"D'Agostino\", \"Streets Market\", \"Aqui Market\", \"The Body Shop\", \"Cox Farms Market\", \"Westside Market\", \"Fiesta Mart\", \"Albertsons\", \"Randalls\", \"Fresco y M\\u00e1s\", \"Tom Thumb\", \"Winn-Dixie\"], \"legendgroup\": \"Full service\", \"marker\": {\"color\": \"#EF553B\"}, \"name\": \"Full service\", \"notched\": false, \"offsetgroup\": \"Full service\", \"orientation\": \"v\", \"showlegend\": true, \"type\": \"box\", \"x\": [\"MX\", \"MX\", \"MX\", \"MX\", \"MX\", \"MX\", \"MX\", \"MX\", \"MX\", \"MX\", \"MX\", \"MX\", \"MX\", \"MX\", \"MX\", \"MX\", \"MX\", \"MX\", \"MX\", \"MX\", \"MX\", \"MX\", \"MX\", \"MX\", \"MX\", \"MX\", \"MX\", \"MX\", \"MX\", \"MX\", \"MX\", \"MX\", \"MX\", \"MX\", \"MX\", \"MX\", \"MX\", \"MX\", \"MX\", \"CL\", \"CL\", \"CL\", \"CL\", \"CL\", \"CL\", \"CL\", \"CL\", \"CL\", \"CL\", \"CL\", \"BR\", \"BR\", \"BR\", \"BR\", \"BR\", \"BR\", \"BR\", \"BR\", \"BR\", \"BR\", \"BR\", \"BR\", \"BR\", \"BR\", \"BR\", \"BR\", \"BR\", \"BR\", \"BR\", \"BR\", \"BR\", \"BR\", \"BR\", \"BR\", \"BR\", \"BR\", \"BR\", \"BR\", \"BR\", \"BR\", \"BR\", \"BR\", \"BR\", \"BR\", \"BR\", \"BR\", \"BR\", \"BR\", \"BR\", \"BR\", \"BR\", \"BR\", \"BR\", \"CA\", \"CA\", \"CA\", \"CA\", \"CA\", \"CA\", \"CA\", \"CA\", \"CA\", \"CA\", \"CA\", \"CA\", \"CA\", \"CO\", \"CO\", \"CO\", \"CO\", \"CO\", \"CO\", \"CO\", \"CO\", \"CO\", \"CO\", \"CO\", \"CO\", \"PE\", \"PE\", \"PE\", \"PE\", \"PE\", \"PE\", \"PE\", \"PE\", \"PE\", \"PE\", \"CR\", \"CR\", \"CR\", \"CR\", \"CR\", \"CR\", \"CR\", \"CR\", \"CR\", \"US\", \"US\", \"US\", \"US\", \"US\", \"US\", \"US\", \"US\", \"US\", \"US\", \"US\", \"US\", \"US\"], \"x0\": \" \", \"xaxis\": \"x\", \"y\": [-2.34, -0.01, -3.27, -5.24, -0.03, 0.73, 0.02, 0.14, 0.39, 1.06, 0.26, 0.3, 0.13, 0.1, 3.76, 0.47, 3.01, 0.22, 1.17, 0.2, 0.56, 6.06, 0.1, 2.82, 2.56, 0.46, 0.86, 0.22, 3.73, 0.85, 1.34, 6.13, 1.64, 0.89, 1.07, 2.9, 1.27, 1.81, 7.65, 0.24, 0.3, 1.87, 1.49, 1.33, 2.32, 1.73, 4.18, 10.66, 2.32, 3.83, -16.21, -0.98, -6.09, -2.09, -1.0, -0.26, -0.67, -1.63, -0.06, -0.04, -0.27, -1.2, -0.47, -0.04, 0.78, 1.03, 0.07, 1.38, 0.67, 0.24, 0.59, 0.37, 0.72, 2.06, 0.59, 0.19, 0.68, 1.4, 3.07, 1.04, 0.59, 0.5, 1.02, 1.64, 2.14, 0.7, 2.19, 0.62, 0.37, 0.38, 0.45, 0.87, 1.37, -1.3, 1.42, 2.33, 0.91, 2.19, 1.24, 2.06, 0.9, 3.55, 1.36, 4.55, 0.71, 3.07, -6.1, -4.21, 2.15, 0.24, 0.17, 0.74, 0.92, 8.36, 1.79, 2.28, 3.19, 3.73, -0.17, 1.11, 0.87, 0.99, 1.49, 13.57, 3.55, 2.13, 4.3, 3.27, -1.21, -0.68, -0.02, 0.12, 3.1, 2.58, 0.92, 1.27, 2.3, -2.56, -0.77, -0.96, -1.68, 1.3, 1.77, 0.51, 2.06, 3.83, 2.7, 2.72, 3.78, 3.43], \"y0\": \" \", \"yaxis\": \"y\"}],                        {\"annotations\": [{\"showarrow\": false, \"text\": \"Data from stores with at least 8 weekly orders\", \"x\": \"CR\", \"y\": -6.5}], \"boxmode\": \"group\", \"legend\": {\"title\": {\"text\": \"Service type\"}, \"tracegroupgap\": 0}, \"template\": {\"data\": {\"bar\": [{\"error_x\": {\"color\": \"#2a3f5f\"}, \"error_y\": {\"color\": \"#2a3f5f\"}, \"marker\": {\"line\": {\"color\": \"#E5ECF6\", \"width\": 0.5}}, \"type\": \"bar\"}], \"barpolar\": [{\"marker\": {\"line\": {\"color\": \"#E5ECF6\", \"width\": 0.5}}, \"type\": \"barpolar\"}], \"carpet\": [{\"aaxis\": {\"endlinecolor\": \"#2a3f5f\", \"gridcolor\": \"white\", \"linecolor\": \"white\", \"minorgridcolor\": \"white\", \"startlinecolor\": \"#2a3f5f\"}, \"baxis\": {\"endlinecolor\": \"#2a3f5f\", \"gridcolor\": \"white\", \"linecolor\": \"white\", \"minorgridcolor\": \"white\", \"startlinecolor\": \"#2a3f5f\"}, \"type\": \"carpet\"}], \"choropleth\": [{\"colorbar\": {\"outlinewidth\": 0, \"ticks\": \"\"}, \"type\": \"choropleth\"}], \"contour\": [{\"colorbar\": {\"outlinewidth\": 0, \"ticks\": \"\"}, \"colorscale\": [[0.0, \"#0d0887\"], [0.1111111111111111, \"#46039f\"], [0.2222222222222222, \"#7201a8\"], [0.3333333333333333, \"#9c179e\"], [0.4444444444444444, \"#bd3786\"], [0.5555555555555556, \"#d8576b\"], [0.6666666666666666, \"#ed7953\"], [0.7777777777777778, \"#fb9f3a\"], [0.8888888888888888, \"#fdca26\"], [1.0, \"#f0f921\"]], \"type\": \"contour\"}], \"contourcarpet\": [{\"colorbar\": {\"outlinewidth\": 0, \"ticks\": \"\"}, \"type\": \"contourcarpet\"}], \"heatmap\": [{\"colorbar\": {\"outlinewidth\": 0, \"ticks\": \"\"}, \"colorscale\": [[0.0, \"#0d0887\"], [0.1111111111111111, \"#46039f\"], [0.2222222222222222, \"#7201a8\"], [0.3333333333333333, \"#9c179e\"], [0.4444444444444444, \"#bd3786\"], [0.5555555555555556, \"#d8576b\"], [0.6666666666666666, \"#ed7953\"], [0.7777777777777778, \"#fb9f3a\"], [0.8888888888888888, \"#fdca26\"], [1.0, \"#f0f921\"]], \"type\": \"heatmap\"}], \"heatmapgl\": [{\"colorbar\": {\"outlinewidth\": 0, \"ticks\": \"\"}, \"colorscale\": [[0.0, \"#0d0887\"], [0.1111111111111111, \"#46039f\"], [0.2222222222222222, \"#7201a8\"], [0.3333333333333333, \"#9c179e\"], [0.4444444444444444, \"#bd3786\"], [0.5555555555555556, \"#d8576b\"], [0.6666666666666666, \"#ed7953\"], [0.7777777777777778, \"#fb9f3a\"], [0.8888888888888888, \"#fdca26\"], [1.0, \"#f0f921\"]], \"type\": \"heatmapgl\"}], \"histogram\": [{\"marker\": {\"colorbar\": {\"outlinewidth\": 0, \"ticks\": \"\"}}, \"type\": \"histogram\"}], \"histogram2d\": [{\"colorbar\": {\"outlinewidth\": 0, \"ticks\": \"\"}, \"colorscale\": [[0.0, \"#0d0887\"], [0.1111111111111111, \"#46039f\"], [0.2222222222222222, \"#7201a8\"], [0.3333333333333333, \"#9c179e\"], [0.4444444444444444, \"#bd3786\"], [0.5555555555555556, \"#d8576b\"], [0.6666666666666666, \"#ed7953\"], [0.7777777777777778, \"#fb9f3a\"], [0.8888888888888888, \"#fdca26\"], [1.0, \"#f0f921\"]], \"type\": \"histogram2d\"}], \"histogram2dcontour\": [{\"colorbar\": {\"outlinewidth\": 0, \"ticks\": \"\"}, \"colorscale\": [[0.0, \"#0d0887\"], [0.1111111111111111, \"#46039f\"], [0.2222222222222222, \"#7201a8\"], [0.3333333333333333, \"#9c179e\"], [0.4444444444444444, \"#bd3786\"], [0.5555555555555556, \"#d8576b\"], [0.6666666666666666, \"#ed7953\"], [0.7777777777777778, \"#fb9f3a\"], [0.8888888888888888, \"#fdca26\"], [1.0, \"#f0f921\"]], \"type\": \"histogram2dcontour\"}], \"mesh3d\": [{\"colorbar\": {\"outlinewidth\": 0, \"ticks\": \"\"}, \"type\": \"mesh3d\"}], \"parcoords\": [{\"line\": {\"colorbar\": {\"outlinewidth\": 0, \"ticks\": \"\"}}, \"type\": \"parcoords\"}], \"pie\": [{\"automargin\": true, \"type\": \"pie\"}], \"scatter\": [{\"marker\": {\"colorbar\": {\"outlinewidth\": 0, \"ticks\": \"\"}}, \"type\": \"scatter\"}], \"scatter3d\": [{\"line\": {\"colorbar\": {\"outlinewidth\": 0, \"ticks\": \"\"}}, \"marker\": {\"colorbar\": {\"outlinewidth\": 0, \"ticks\": \"\"}}, \"type\": \"scatter3d\"}], \"scattercarpet\": [{\"marker\": {\"colorbar\": {\"outlinewidth\": 0, \"ticks\": \"\"}}, \"type\": \"scattercarpet\"}], \"scattergeo\": [{\"marker\": {\"colorbar\": {\"outlinewidth\": 0, \"ticks\": \"\"}}, \"type\": \"scattergeo\"}], \"scattergl\": [{\"marker\": {\"colorbar\": {\"outlinewidth\": 0, \"ticks\": \"\"}}, \"type\": \"scattergl\"}], \"scattermapbox\": [{\"marker\": {\"colorbar\": {\"outlinewidth\": 0, \"ticks\": \"\"}}, \"type\": \"scattermapbox\"}], \"scatterpolar\": [{\"marker\": {\"colorbar\": {\"outlinewidth\": 0, \"ticks\": \"\"}}, \"type\": \"scatterpolar\"}], \"scatterpolargl\": [{\"marker\": {\"colorbar\": {\"outlinewidth\": 0, \"ticks\": \"\"}}, \"type\": \"scatterpolargl\"}], \"scatterternary\": [{\"marker\": {\"colorbar\": {\"outlinewidth\": 0, \"ticks\": \"\"}}, \"type\": \"scatterternary\"}], \"surface\": [{\"colorbar\": {\"outlinewidth\": 0, \"ticks\": \"\"}, \"colorscale\": [[0.0, \"#0d0887\"], [0.1111111111111111, \"#46039f\"], [0.2222222222222222, \"#7201a8\"], [0.3333333333333333, \"#9c179e\"], [0.4444444444444444, \"#bd3786\"], [0.5555555555555556, \"#d8576b\"], [0.6666666666666666, \"#ed7953\"], [0.7777777777777778, \"#fb9f3a\"], [0.8888888888888888, \"#fdca26\"], [1.0, \"#f0f921\"]], \"type\": \"surface\"}], \"table\": [{\"cells\": {\"fill\": {\"color\": \"#EBF0F8\"}, \"line\": {\"color\": \"white\"}}, \"header\": {\"fill\": {\"color\": \"#C8D4E3\"}, \"line\": {\"color\": \"white\"}}, \"type\": \"table\"}]}, \"layout\": {\"annotationdefaults\": {\"arrowcolor\": \"#2a3f5f\", \"arrowhead\": 0, \"arrowwidth\": 1}, \"autotypenumbers\": \"strict\", \"coloraxis\": {\"colorbar\": {\"outlinewidth\": 0, \"ticks\": \"\"}}, \"colorscale\": {\"diverging\": [[0, \"#8e0152\"], [0.1, \"#c51b7d\"], [0.2, \"#de77ae\"], [0.3, \"#f1b6da\"], [0.4, \"#fde0ef\"], [0.5, \"#f7f7f7\"], [0.6, \"#e6f5d0\"], [0.7, \"#b8e186\"], [0.8, \"#7fbc41\"], [0.9, \"#4d9221\"], [1, \"#276419\"]], \"sequential\": [[0.0, \"#0d0887\"], [0.1111111111111111, \"#46039f\"], [0.2222222222222222, \"#7201a8\"], [0.3333333333333333, \"#9c179e\"], [0.4444444444444444, \"#bd3786\"], [0.5555555555555556, \"#d8576b\"], [0.6666666666666666, \"#ed7953\"], [0.7777777777777778, \"#fb9f3a\"], [0.8888888888888888, \"#fdca26\"], [1.0, \"#f0f921\"]], \"sequentialminus\": [[0.0, \"#0d0887\"], [0.1111111111111111, \"#46039f\"], [0.2222222222222222, \"#7201a8\"], [0.3333333333333333, \"#9c179e\"], [0.4444444444444444, \"#bd3786\"], [0.5555555555555556, \"#d8576b\"], [0.6666666666666666, \"#ed7953\"], [0.7777777777777778, \"#fb9f3a\"], [0.8888888888888888, \"#fdca26\"], [1.0, \"#f0f921\"]]}, \"colorway\": [\"#636efa\", \"#EF553B\", \"#00cc96\", \"#ab63fa\", \"#FFA15A\", \"#19d3f3\", \"#FF6692\", \"#B6E880\", \"#FF97FF\", \"#FECB52\"], \"font\": {\"color\": \"#2a3f5f\"}, \"geo\": {\"bgcolor\": \"white\", \"lakecolor\": \"white\", \"landcolor\": \"#E5ECF6\", \"showlakes\": true, \"showland\": true, \"subunitcolor\": \"white\"}, \"hoverlabel\": {\"align\": \"left\"}, \"hovermode\": \"closest\", \"mapbox\": {\"style\": \"light\"}, \"paper_bgcolor\": \"white\", \"plot_bgcolor\": \"#E5ECF6\", \"polar\": {\"angularaxis\": {\"gridcolor\": \"white\", \"linecolor\": \"white\", \"ticks\": \"\"}, \"bgcolor\": \"#E5ECF6\", \"radialaxis\": {\"gridcolor\": \"white\", \"linecolor\": \"white\", \"ticks\": \"\"}}, \"scene\": {\"xaxis\": {\"backgroundcolor\": \"#E5ECF6\", \"gridcolor\": \"white\", \"gridwidth\": 2, \"linecolor\": \"white\", \"showbackground\": true, \"ticks\": \"\", \"zerolinecolor\": \"white\"}, \"yaxis\": {\"backgroundcolor\": \"#E5ECF6\", \"gridcolor\": \"white\", \"gridwidth\": 2, \"linecolor\": \"white\", \"showbackground\": true, \"ticks\": \"\", \"zerolinecolor\": \"white\"}, \"zaxis\": {\"backgroundcolor\": \"#E5ECF6\", \"gridcolor\": \"white\", \"gridwidth\": 2, \"linecolor\": \"white\", \"showbackground\": true, \"ticks\": \"\", \"zerolinecolor\": \"white\"}}, \"shapedefaults\": {\"line\": {\"color\": \"#2a3f5f\"}}, \"ternary\": {\"aaxis\": {\"gridcolor\": \"white\", \"linecolor\": \"white\", \"ticks\": \"\"}, \"baxis\": {\"gridcolor\": \"white\", \"linecolor\": \"white\", \"ticks\": \"\"}, \"bgcolor\": \"#E5ECF6\", \"caxis\": {\"gridcolor\": \"white\", \"linecolor\": \"white\", \"ticks\": \"\"}}, \"title\": {\"x\": 0.05}, \"xaxis\": {\"automargin\": true, \"gridcolor\": \"white\", \"linecolor\": \"white\", \"ticks\": \"\", \"title\": {\"standoff\": 15}, \"zerolinecolor\": \"white\", \"zerolinewidth\": 2}, \"yaxis\": {\"automargin\": true, \"gridcolor\": \"white\", \"linecolor\": \"white\", \"ticks\": \"\", \"title\": {\"standoff\": 15}, \"zerolinecolor\": \"white\", \"zerolinewidth\": 2}}}, \"title\": {\"text\": \"Markup percentage distributions by country and service type, week: 2021-05\"}, \"xaxis\": {\"anchor\": \"y\", \"domain\": [0.0, 1.0], \"title\": {\"text\": \"Country\"}}, \"yaxis\": {\"anchor\": \"x\", \"domain\": [0.0, 1.0], \"dtick\": 2, \"range\": [-8, 12], \"title\": {\"text\": \"Markup percentage (%)\"}}},                        {\"responsive\": true}                    ).then(function(){\n",
       "                            \n",
       "var gd = document.getElementById('0546d0ed-fa18-44b5-bf29-1dea35d36870');\n",
       "var x = new MutationObserver(function (mutations, observer) {{\n",
       "        var display = window.getComputedStyle(gd).display;\n",
       "        if (!display || display === 'none') {{\n",
       "            console.log([gd, 'removed!']);\n",
       "            Plotly.purge(gd);\n",
       "            observer.disconnect();\n",
       "        }}\n",
       "}});\n",
       "\n",
       "// Listen for the removal of the full notebook cells\n",
       "var notebookContainer = gd.closest('#notebook-container');\n",
       "if (notebookContainer) {{\n",
       "    x.observe(notebookContainer, {childList: true});\n",
       "}}\n",
       "\n",
       "// Listen for the clearing of the current output cell\n",
       "var outputEl = gd.closest('.output');\n",
       "if (outputEl) {{\n",
       "    x.observe(outputEl, {childList: true});\n",
       "}}\n",
       "\n",
       "                        })                };                });            </script>        </div>"
      ]
     },
     "metadata": {},
     "output_type": "display_data"
    }
   ],
   "source": [
    "#Gráfico\"Markup percentage distributions by country and service type\"\n",
    "fig = px.box(markup_cs.query('orders>7'), x=\"country\", y=\"markup_pctg\", \n",
    "             color=\"service_type\",hover_data=['markup_usd','orders','markup_by_order'],hover_name='store',range_y=[-8,12]\n",
    "             ,title=\"Markup percentage distributions by country and service type, week: \"+str(week[0]),\n",
    "             labels={'markup_pctg':'Markup percentage (%)','country':'Country','service_type':'Service type','markup_usd':'Markup (USD)','orders':'Total orders','markup_by_order':'Markup per order (USD)'}\n",
    "            )\n",
    "\n",
    "fig.update_yaxes(dtick=2)\n",
    "fig.add_annotation(x='CR', y=-6.5,\n",
    "            text=\"Data from stores with at least 8 weekly orders\",showarrow=False)\n",
    "          \n",
    "fig.show()"
   ]
  },
  {
   "cell_type": "code",
   "execution_count": 1078,
   "metadata": {},
   "outputs": [
    {
     "data": {
      "application/vnd.plotly.v1+json": {
       "config": {
        "plotlyServerURL": "https://plot.ly"
       },
       "data": [
        {
         "alignmentgroup": "True",
         "customdata": [
          [
           -407.44132167224586,
           901
          ],
          [
           -135.88560599579426,
           17
          ],
          [
           -72.46250227254053,
           13
          ],
          [
           -52.740856822307265,
           118
          ],
          [
           -48.5558487068554,
           81
          ],
          [
           -44.09462706969156,
           9
          ],
          [
           -42.900190219045285,
           703
          ],
          [
           -34.13700519147046,
           38
          ],
          [
           -32.02285196582658,
           14
          ],
          [
           -28.882478412669066,
           33
          ],
          [
           -27.994613687022014,
           20
          ],
          [
           -26.770315915109588,
           15
          ],
          [
           -25.630624086784596,
           40
          ],
          [
           -25.531087682564074,
           46
          ],
          [
           -23.452767562439572,
           14
          ],
          [
           -22.070704589837593,
           55
          ],
          [
           -20.778224381034114,
           121
          ],
          [
           -18.537659922030148,
           13
          ],
          [
           -15.975592877393895,
           270
          ],
          [
           -15.129533441519452,
           20
          ],
          [
           -14.796584169401804,
           13
          ],
          [
           -14.420834243469349,
           50
          ],
          [
           -14.034632995093702,
           36
          ],
          [
           -12.79042794233718,
           55
          ],
          [
           -12.185246604676388,
           10
          ],
          [
           -10.98234915967136,
           259
          ],
          [
           -10.931087911497807,
           8
          ],
          [
           -10.70016345370619,
           10
          ],
          [
           -10.248268178545016,
           86
          ],
          [
           -9.11604158053657,
           22
          ],
          [
           -8.810464819579568,
           20
          ],
          [
           -8.46059435874443,
           28
          ],
          [
           -7.8633759334212945,
           36
          ],
          [
           -7.506537924290719,
           16
          ],
          [
           -7.067084699657112,
           8
          ],
          [
           -6.967548295436587,
           9
          ],
          [
           -6.6405712075721715,
           28
          ],
          [
           -6.5982682357784554,
           22
          ],
          [
           -6.345445769058323,
           32
          ],
          [
           -5.412291979490923,
           8
          ],
          [
           -5.177883747551602,
           27
          ],
          [
           -4.230297179372215,
           10
          ],
          [
           -4.085969393252457,
           45
          ],
          [
           -4.044661785500935,
           12
          ],
          [
           -3.6330787540490803,
           15
          ],
          [
           -3.5643986351369144,
           8
          ],
          [
           -3.4544109084731995,
           20
          ],
          [
           -3.23344009110368,
           27
          ],
          [
           -2.9860921266156812,
           64
          ],
          [
           -2.8591832112345172,
           16
          ],
          [
           -2.7621352171194955,
           119
          ],
          [
           -2.5879465097335905,
           36
          ],
          [
           -2.5381783076233293,
           9
          ],
          [
           -2.4884101055130676,
           8
          ],
          [
           -2.470991234774481,
           10
          ],
          [
           -2.239569094961761,
           31
          ],
          [
           -2.114153225643903,
           21
          ],
          [
           -1.9409598823001928,
           35
          ],
          [
           -1.9160757812450622,
           34
          ],
          [
           -1.853865528607234,
           9
          ],
          [
           -1.4930460633078406,
           26
          ],
          [
           -1.4432778611975794,
           16
          ],
          [
           -1.393509659087318,
           8
          ],
          [
           -1.2939732548667953,
           25
          ],
          [
           -1.1446686485360076,
           11
          ],
          [
           -1.0685232993073124,
           11
          ],
          [
           -0.9022975042590347,
           80
          ],
          [
           -0.8072402382284348,
           16
          ],
          [
           -0.7947981877008755,
           62
          ],
          [
           -0.7281087968731262,
           10
          ],
          [
           -0.619614116272742,
           55
          ],
          [
           -0.4479138189923522,
           17
          ],
          [
           -0.4479138189923522,
           80
          ],
          [
           -0.4479138189923522,
           13
          ],
          [
           -0.3981456168820908,
           24
          ],
          [
           -0.3981456168820908,
           15
          ],
          [
           -0.3757499259324667,
           11
          ],
          [
           -0.29860921266156815,
           41
          ],
          [
           -0.25630624086784487,
           22
          ],
          [
           -0.24884101055130678,
           8
          ],
          [
           0,
           10
          ],
          [
           0,
           16
          ],
          [
           0,
           15
          ],
          [
           0,
           10
          ],
          [
           0,
           11
          ],
          [
           0,
           18
          ],
          [
           0,
           17
          ],
          [
           0,
           14
          ],
          [
           0,
           9
          ],
          [
           0,
           8
          ],
          [
           0,
           26
          ],
          [
           0,
           8
          ],
          [
           0,
           11
          ],
          [
           0,
           10
          ],
          [
           0,
           11
          ],
          [
           0,
           15
          ],
          [
           0,
           9
          ],
          [
           0,
           8
          ],
          [
           0,
           10
          ],
          [
           0,
           24
          ],
          [
           0,
           15
          ],
          [
           0,
           31
          ],
          [
           0,
           19
          ],
          [
           4.2434921377544036e-15,
           9
          ],
          [
           0.04976820211026135,
           18
          ],
          [
           0.23739432406594577,
           8
          ],
          [
           0.24884101055130678,
           23
          ],
          [
           0.40013634496649947,
           15
          ],
          [
           0.49867738514481785,
           14
          ],
          [
           0.696754829543659,
           20
          ],
          [
           0.7505044878227461,
           11
          ],
          [
           0.8958276379847044,
           17
          ],
          [
           0.9953640422052271,
           11
          ],
          [
           1.0451322443154885,
           33
          ],
          [
           1.2442050527565338,
           16
          ],
          [
           1.293475572845693,
           15
          ],
          [
           1.3188573559219259,
           25
          ],
          [
           1.4432778611975794,
           49
          ],
          [
           1.5930801495494655,
           13
          ],
          [
           1.7418870738591474,
           20
          ],
          [
           1.7916552759694089,
           11
          ],
          [
           2.1902985748726027,
           19
          ],
          [
           2.316212126211569,
           9
          ],
          [
           2.3391054991822835,
           33
          ],
          [
           2.388873701292545,
           42
          ],
          [
           2.9467752469485804,
           196
          ],
          [
           2.9860921266156812,
           10
          ],
          [
           3.9814561688209085,
           15
          ],
          [
           4.130760775151693,
           9
          ],
          [
           4.727979200474829,
           8
          ],
          [
           5.160464876812994,
           45
          ],
          [
           5.225661221577442,
           56
          ],
          [
           5.607383331763151,
           32
          ],
          [
           6.382274238619936,
           251
          ],
          [
           6.881449305785839,
           57
          ],
          [
           7.012339677335829,
           31
          ],
          [
           7.216389305987897,
           13
          ],
          [
           9.117534626599886,
           45
          ],
          [
           9.844648059430796,
           16
          ],
          [
           10.152713230493317,
           102
          ],
          [
           12.043904910683247,
           20
          ],
          [
           12.1897257428663,
           75
          ],
          [
           12.714282593108488,
           14
          ],
          [
           14.836896413111123,
           24
          ],
          [
           15.218120841275736,
           72
          ],
          [
           16.821652313268338,
           139
          ],
          [
           17.790639208355127,
           9
          ],
          [
           18.25298580595947,
           12
          ],
          [
           18.4142347807967,
           51
          ],
          [
           25.829696895225638,
           159
          ],
          [
           26.849945038486002,
           85
          ],
          [
           30.058998710555652,
           10
          ],
          [
           30.119218235109116,
           172
          ],
          [
           48.739493372642265,
           29
          ],
          [
           54.262270760817955,
           26
          ],
          [
           117.5594609327327,
           78
          ],
          [
           -118.30882027970387,
           47
          ],
          [
           -64.10735443483884,
           116
          ],
          [
           -53.62734977983488,
           724
          ],
          [
           -51.67590063717896,
           251
          ],
          [
           -42.835058714161306,
           68
          ],
          [
           -41.19725967829146,
           148
          ],
          [
           -39.196717475442945,
           108
          ],
          [
           -33.12008758049205,
           62
          ],
          [
           -32.305960998964736,
           46
          ],
          [
           -29.6181159534198,
           943
          ],
          [
           -26.988909840882698,
           76
          ],
          [
           -26.451613570997,
           105
          ],
          [
           -26.371155500125795,
           109
          ],
          [
           -25.09200854288523,
           81
          ],
          [
           -20.98728323233716,
           100
          ],
          [
           -18.409897572225578,
           374
          ],
          [
           -17.91896697029956,
           9
          ],
          [
           -17.89169304797034,
           72
          ],
          [
           -17.098021908189946,
           31
          ],
          [
           -17.073475378093647,
           87
          ],
          [
           -16.942560550913377,
           64
          ],
          [
           -16.868920960624475,
           19
          ],
          [
           -16.364353397533847,
           21
          ],
          [
           -15.682505339303269,
           31
          ],
          [
           -15.587046611150988,
           22
          ],
          [
           -15.273396504364923,
           13
          ],
          [
           -15.101570793690819,
           215
          ],
          [
           -14.727918057780462,
           233
          ],
          [
           -14.605185407298958,
           67
          ],
          [
           -14.455178834488231,
           8
          ],
          [
           -14.182439611196001,
           19
          ],
          [
           -13.636961164611538,
           31
          ],
          [
           -13.20194210346043,
           45
          ],
          [
           -12.982387028710185,
           267
          ],
          [
           -11.318677766627577,
           399
          ],
          [
           -11.112759653041943,
           56
          ],
          [
           -11.058211808383497,
           42
          ],
          [
           -10.09135126181254,
           32
          ],
          [
           -9.924980335604278,
           192
          ],
          [
           -9.327681436594293,
           40
          ],
          [
           -9.254041846305391,
           27
          ],
          [
           -8.726291449234923,
           14
          ],
          [
           -8.724927753118463,
           46
          ],
          [
           -8.182176698766924,
           82
          ],
          [
           -8.168539737602313,
           17
          ],
          [
           -8.003532507510512,
           32
          ],
          [
           -7.804432874507183,
           194
          ],
          [
           -7.4457807958779005,
           24
          ],
          [
           -7.363959028890231,
           23
          ],
          [
           -7.363959028890231,
           25
          ],
          [
           -7.254863339573339,
           31
          ],
          [
           -7.173041572585669,
           17
          ],
          [
           -6.818480582305769,
           28
          ],
          [
           -6.590743330856757,
           17
          ],
          [
           -6.5321043978489275,
           35
          ],
          [
           -6.409371747367423,
           97
          ],
          [
           -6.000262912429077,
           22
          ],
          [
           -5.917077449324947,
           22
          ],
          [
           -5.892530919228646,
           60
          ],
          [
           -5.88571243864634,
           65
          ],
          [
           -5.842074162919583,
           52
          ],
          [
           -5.693431286225318,
           65
          ],
          [
           -5.662066275546711,
           13
          ],
          [
           -5.522969271667673,
           18
          ],
          [
           -5.454784465844615,
           23
          ],
          [
           -5.454784465844615,
           45
          ],
          [
           -5.4275105435153925,
           35
          ],
          [
           -5.413873582350781,
           91
          ],
          [
           -5.3184148541985,
           16
          ],
          [
           -4.929761461007072,
           46
          ],
          [
           -4.861576655184013,
           48
          ],
          [
           -4.811119898874951,
           9
          ],
          [
           -4.772936407614038,
           9
          ],
          [
           -4.636566795967923,
           30
          ],
          [
           -4.474286958109046,
           27
          ],
          [
           -4.3992836717036825,
           366
          ],
          [
           -4.363827572675692,
           34
          ],
          [
           -4.166091635788825,
           133
          ],
          [
           -4.101997918315151,
           78
          ],
          [
           -4.091088349383462,
           28
          ],
          [
           -4.091088349383462,
           26
          ],
          [
           -4.091088349383462,
           20
          ],
          [
           -3.954718737737346,
           9
          ],
          [
           -3.819712822207692,
           70
          ],
          [
           -3.818349126091231,
           15
          ],
          [
           -3.6819795144451155,
           12
          ],
          [
           -3.613794708622058,
           8
          ],
          [
           -3.4065128989199622,
           356
          ],
          [
           -3.395603329988273,
           70
          ],
          [
           -3.0001314562145387,
           62
          ],
          [
           -2.9455836115560925,
           200
          ],
          [
           -2.922400777576253,
           125
          ],
          [
           -2.9101275125281023,
           11
          ],
          [
           -2.881489894082418,
           37
          ],
          [
           -2.8501248834038115,
           36
          ],
          [
           -2.8460337950544283,
           21
          ],
          [
           -2.8364879222392,
           47
          ],
          [
           -2.810577696026438,
           41
          ],
          [
           -2.7273922329223077,
           26
          ],
          [
           -2.7273922329223077,
           27
          ],
          [
           -2.7273922329223077,
           17
          ],
          [
           -2.7273922329223077,
           19
          ],
          [
           -2.6987546144766235,
           19
          ],
          [
           -2.5719308756457364,
           28
          ],
          [
           -2.5364747766177462,
           10
          ],
          [
           -2.4614714902123827,
           23
          ],
          [
           -2.3714675465259467,
           63
          ],
          [
           -2.3182833979839614,
           15
          ],
          [
           -2.30464643681935,
           235
          ],
          [
           -2.241916415462137,
           8
          ],
          [
           -2.1832774824543075,
           34
          ],
          [
           -2.181913786337846,
           68
          ],
          [
           -2.1137289805147885,
           196
          ],
          [
           -1.9637224077040616,
           19
          ],
          [
           -1.9623587115876004,
           8
          ],
          [
           -1.827352796057946,
           85
          ],
          [
           -1.6364353397533846,
           24
          ],
          [
           -1.5737053183961716,
           30
          ],
          [
           -1.542340307717565,
           9
          ],
          [
           -1.3773330776257655,
           83
          ],
          [
           -1.3636961164611539,
           61
          ],
          [
           -1.3636961164611539,
           18
          ],
          [
           -1.3636961164611539,
           14
          ],
          [
           -1.3636961164611539,
           16
          ],
          [
           -1.3636961164611539,
           13
          ],
          [
           -1.3636961164611539,
           84
          ],
          [
           -1.3636961164611539,
           8
          ],
          [
           -1.3636961164611539,
           10
          ],
          [
           -1.3636961164611539,
           14
          ],
          [
           -1.3636961164611539,
           14
          ],
          [
           -1.3636961164611539,
           8
          ],
          [
           -1.3500591552965424,
           26
          ],
          [
           -1.3500591552965424,
           11
          ],
          [
           -1.3500591552965424,
           45
          ],
          [
           -1.3091482718027077,
           70
          ],
          [
           -1.2286902009314997,
           40
          ],
          [
           -1.1182308154981462,
           8
          ],
          [
           -1.090956893168923,
           21
          ],
          [
           -1.090956893168923,
           9
          ],
          [
           -1.0773199320043116,
           65
          ],
          [
           -1.0773199320043116,
           9
          ],
          [
           -1.0473186174421663,
           18
          ],
          [
           -0.9014031329808228,
           17
          ],
          [
           -0.8277635426919204,
           32
          ],
          [
           -0.8045807087120808,
           49
          ],
          [
           -0.8045807087120808,
           56
          ],
          [
           -0.7363959028890231,
           49
          ],
          [
           -0.6954850193951885,
           16
          ],
          [
           -0.6818480582305769,
           24
          ],
          [
           -0.5536606232832285,
           57
          ],
          [
           -0.5454784465844615,
           28
          ],
          [
           -0.5454784465844615,
           68
          ],
          [
           -0.5454784465844615,
           26
          ],
          [
           -0.40910883493834616,
           634
          ],
          [
           -0.40910883493834616,
           15
          ],
          [
           -0.36819795144451156,
           8
          ],
          [
           -0.34092402911528846,
           11
          ],
          [
           -0.27273922329223077,
           22
          ],
          [
           -0.2713755271757696,
           23
          ],
          [
           -0.2591022621276192,
           13
          ],
          [
           -0.23182833979839615,
           94
          ],
          [
           -0.2072818097020954,
           100
          ],
          [
           -0.20455441746917308,
           186
          ],
          [
           -0.1690983184411831,
           17
          ],
          [
           -0.16773462232472192,
           43
          ],
          [
           -0.13636961164611539,
           8
          ],
          [
           -0.13636961164611539,
           12
          ],
          [
           -0.13636961164611539,
           93
          ],
          [
           -0.12273265048150385,
           10
          ],
          [
           -0.12273265048150385,
           12
          ],
          [
           -0.12273265048150385,
           20
          ],
          [
           -0.07363959028890231,
           49
          ],
          [
           -0.06273002135721308,
           14
          ],
          [
           -0.05454784465844616,
           27
          ],
          [
           -0.035456099027990004,
           19
          ],
          [
           -0.02727392232922308,
           303
          ],
          [
           -0.01363696116461154,
           20
          ],
          [
           -0.01363696116461154,
           13
          ],
          [
           -0.01363696116461154,
           23
          ],
          [
           -0.01363696116461154,
           23
          ],
          [
           -0.012273265048150385,
           41
          ],
          [
           -0.00681848058230577,
           11
          ],
          [
           -0.004091088349383462,
           36
          ],
          [
           -0.0013636961164611538,
           11
          ],
          [
           0,
           134
          ],
          [
           0,
           47
          ],
          [
           0,
           10
          ],
          [
           0,
           52
          ],
          [
           0,
           18
          ],
          [
           0,
           14
          ],
          [
           0,
           8
          ],
          [
           0,
           8
          ],
          [
           0,
           22
          ],
          [
           0,
           14
          ],
          [
           0,
           9
          ],
          [
           0,
           19
          ],
          [
           0,
           14
          ],
          [
           0,
           75
          ],
          [
           0,
           42
          ],
          [
           0,
           9
          ],
          [
           0,
           11
          ],
          [
           0,
           50
          ],
          [
           0,
           8
          ],
          [
           0,
           175
          ],
          [
           0,
           9
          ],
          [
           0,
           27
          ],
          [
           0,
           13
          ],
          [
           0,
           31
          ],
          [
           0,
           10
          ],
          [
           0,
           59
          ],
          [
           0,
           57
          ],
          [
           0,
           40
          ],
          [
           0,
           23
          ],
          [
           0,
           8
          ],
          [
           0,
           11
          ],
          [
           0,
           10
          ],
          [
           0,
           11
          ],
          [
           0,
           11
          ],
          [
           0,
           39
          ],
          [
           0,
           12
          ],
          [
           0,
           112
          ],
          [
           0,
           57
          ],
          [
           0,
           46
          ],
          [
           0,
           10
          ],
          [
           0,
           83
          ],
          [
           0,
           27
          ],
          [
           0,
           25
          ],
          [
           0,
           19
          ],
          [
           0,
           30
          ],
          [
           0,
           23
          ],
          [
           0,
           13
          ],
          [
           0,
           11
          ],
          [
           0,
           22
          ],
          [
           0,
           8
          ],
          [
           0,
           9
          ],
          [
           0,
           22
          ],
          [
           0,
           12
          ],
          [
           0,
           86
          ],
          [
           0,
           18
          ],
          [
           0,
           14
          ],
          [
           0,
           11
          ],
          [
           0,
           30
          ],
          [
           0,
           9
          ],
          [
           0,
           13
          ],
          [
           0,
           31
          ],
          [
           0,
           9
          ],
          [
           0,
           12
          ],
          [
           0,
           10
          ],
          [
           0,
           9
          ],
          [
           0,
           37
          ],
          [
           0,
           17
          ],
          [
           0,
           11
          ],
          [
           0,
           17
          ],
          [
           0,
           13
          ],
          [
           0,
           32
          ],
          [
           0,
           54
          ],
          [
           0,
           16
          ],
          [
           0,
           38
          ],
          [
           0,
           26
          ],
          [
           0,
           24
          ],
          [
           0,
           14
          ],
          [
           0,
           60
          ],
          [
           0,
           9
          ],
          [
           0,
           14
          ],
          [
           0,
           23
          ],
          [
           0,
           33
          ],
          [
           0,
           13
          ],
          [
           0,
           105
          ],
          [
           0,
           17
          ],
          [
           0,
           44
          ],
          [
           0,
           20
          ],
          [
           0,
           23
          ],
          [
           0,
           9
          ],
          [
           0,
           57
          ],
          [
           0,
           29
          ],
          [
           0,
           17
          ],
          [
           0,
           9
          ],
          [
           0,
           28
          ],
          [
           0,
           60
          ],
          [
           0,
           10
          ],
          [
           0,
           9
          ],
          [
           0,
           39
          ],
          [
           0,
           8
          ],
          [
           0,
           16
          ],
          [
           0,
           15
          ],
          [
           0,
           49
          ],
          [
           0,
           10
          ],
          [
           0,
           13
          ],
          [
           0,
           25
          ],
          [
           0,
           14
          ],
          [
           0,
           15
          ],
          [
           0,
           8
          ],
          [
           0,
           63
          ],
          [
           0,
           11
          ],
          [
           0,
           11
          ],
          [
           0,
           21
          ],
          [
           0,
           8
          ],
          [
           0,
           38
          ],
          [
           0,
           29
          ],
          [
           0,
           9
          ],
          [
           0,
           8
          ],
          [
           0,
           33
          ],
          [
           0,
           32
          ],
          [
           0,
           11
          ],
          [
           0,
           9
          ],
          [
           0,
           31
          ],
          [
           0,
           17
          ],
          [
           0,
           22
          ],
          [
           0,
           17
          ],
          [
           0,
           62
          ],
          [
           0,
           10
          ],
          [
           0,
           39
          ],
          [
           0,
           9
          ],
          [
           0,
           18
          ],
          [
           0,
           57
          ],
          [
           0,
           21
          ],
          [
           0,
           12
          ],
          [
           0,
           14
          ],
          [
           0,
           8
          ],
          [
           0,
           8
          ],
          [
           0,
           9
          ],
          [
           0,
           11
          ],
          [
           0,
           80
          ],
          [
           0,
           23
          ],
          [
           0,
           21
          ],
          [
           0,
           17
          ],
          [
           0,
           25
          ],
          [
           0,
           21
          ],
          [
           0,
           11
          ],
          [
           0,
           12
          ],
          [
           0,
           8
          ],
          [
           0,
           10
          ],
          [
           0,
           15
          ],
          [
           0,
           8
          ],
          [
           0,
           14
          ],
          [
           0,
           40
          ],
          [
           0,
           9
          ],
          [
           0,
           11
          ],
          [
           0,
           22
          ],
          [
           0,
           11
          ],
          [
           0,
           22
          ],
          [
           0,
           8
          ],
          [
           0,
           13
          ],
          [
           0,
           33
          ],
          [
           0,
           45
          ],
          [
           0,
           20
          ],
          [
           0,
           17
          ],
          [
           0,
           8
          ],
          [
           0,
           9
          ],
          [
           0,
           9
          ],
          [
           0,
           12
          ],
          [
           0,
           26
          ],
          [
           0,
           40
          ],
          [
           0,
           9
          ],
          [
           0,
           10
          ],
          [
           0,
           18
          ],
          [
           0,
           16
          ],
          [
           0,
           19
          ],
          [
           0,
           61
          ],
          [
           0,
           18
          ],
          [
           0,
           10
          ],
          [
           0,
           33
          ],
          [
           0,
           9
          ],
          [
           0,
           32
          ],
          [
           0,
           10
          ],
          [
           0.0013636961164611538,
           10
          ],
          [
           0.0027273922329223077,
           24
          ],
          [
           0.0027273922329223077,
           10
          ],
          [
           0.008182176698766924,
           8
          ],
          [
           0.01090956893168923,
           25
          ],
          [
           0.01363696116461154,
           28
          ],
          [
           0.01363696116461154,
           36
          ],
          [
           0.01363696116461154,
           63
          ],
          [
           0.02727392232922308,
           10
          ],
          [
           0.028637618445684233,
           46
          ],
          [
           0.05454784465844616,
           33
          ],
          [
           0.05454784465844616,
           49
          ],
          [
           0.06818480582305769,
           25
          ],
          [
           0.12273265048150385,
           45
          ],
          [
           0.12273265048150385,
           17
          ],
          [
           0.12273265048150385,
           8
          ],
          [
           0.12546004271442615,
           70
          ],
          [
           0.12682373883088732,
           22
          ],
          [
           0.13500591552965424,
           16
          ],
          [
           0.13636961164611539,
           30
          ],
          [
           0.13636961164611539,
           17
          ],
          [
           0.14182439611196002,
           13
          ],
          [
           0.15000657281072693,
           44
          ],
          [
           0.19909963300332847,
           79
          ],
          [
           0.21819137863378463,
           16
          ],
          [
           0.21819137863378463,
           131
          ],
          [
           0.2454653009630077,
           11
          ],
          [
           0.2591022621276192,
           18
          ],
          [
           0.27273922329223077,
           17
          ],
          [
           0.34092402911528846,
           107
          ],
          [
           0.36819795144451156,
           12
          ],
          [
           0.3818349126091231,
           103
          ],
          [
           0.44320123784987503,
           17
          ],
          [
           0.5182045242552384,
           9
          ],
          [
           0.5441147504680004,
           33
          ],
          [
           0.5454784465844615,
           17
          ],
          [
           0.5454784465844615,
           72
          ],
          [
           0.5454784465844615,
           21
          ],
          [
           0.5454784465844615,
           17
          ],
          [
           0.5454784465844615,
           9
          ],
          [
           0.5727523689136846,
           210
          ],
          [
           0.5741160650301458,
           19
          ],
          [
           0.6095721640581357,
           98
          ],
          [
           0.6545741359013538,
           16
          ],
          [
           0.6818480582305769,
           19
          ],
          [
           0.6818480582305769,
           10
          ],
          [
           0.6818480582305769,
           26
          ],
          [
           0.735032206772562,
           16
          ],
          [
           0.7568513446359404,
           11
          ],
          [
           0.7718520019170131,
           328
          ],
          [
           0.7786704824993189,
           17
          ],
          [
           0.8182176698766923,
           9
          ],
          [
           0.8182176698766923,
           62
          ],
          [
           1.090956893168923,
           19
          ],
          [
           1.1045938543335347,
           25
          ],
          [
           1.213689543650427,
           8
          ],
          [
           1.24096346597965,
           53
          ],
          [
           1.2546004271442617,
           20
          ],
          [
           1.3064208795697854,
           183
          ],
          [
           1.3500591552965424,
           13
          ],
          [
           1.3500591552965424,
           41
          ],
          [
           1.3514228514130036,
           52
          ],
          [
           1.3636961164611539,
           15
          ],
          [
           1.3636961164611539,
           89
          ],
          [
           1.3636961164611539,
           12
          ],
          [
           1.3636961164611539,
           33
          ],
          [
           1.3636961164611539,
           15
          ],
          [
           1.3636961164611539,
           31
          ],
          [
           1.38278786209161,
           63
          ],
          [
           1.4782465902438908,
           40
          ],
          [
           1.5000657281072693,
           16
          ],
          [
           1.5723416222797104,
           64
          ],
          [
           1.7318940679056654,
           8
          ],
          [
           1.9091745630456154,
           24
          ],
          [
           1.922811524210227,
           19
          ],
          [
           1.9364484853748385,
           42
          ],
          [
           1.9855415455674401,
           17
          ],
          [
           2.126002245562939,
           8
          ],
          [
           2.172367913522618,
           9
          ],
          [
           2.181913786337846,
           21
          ],
          [
           2.3455573203131848,
           256
          ],
          [
           2.3455573203131848,
           80
          ],
          [
           2.454653009630077,
           148
          ],
          [
           2.454653009630077,
           48
          ],
          [
           2.454653009630077,
           31
          ],
          [
           2.5092008542885234,
           12
          ],
          [
           2.604659582440804,
           93
          ],
          [
           2.65920742709925,
           10
          ],
          [
           2.7273922329223077,
           92
          ],
          [
           2.7273922329223077,
           274
          ],
          [
           2.754666155251531,
           20
          ],
          [
           2.996040367865155,
           9
          ],
          [
           3.01376841737915,
           9
          ],
          [
           3.054679300872985,
           16
          ],
          [
           3.065588869804674,
           23
          ],
          [
           3.136501067860654,
           102
          ],
          [
           3.136501067860654,
           106
          ],
          [
           3.2728706795067692,
           11
          ],
          [
           3.2728706795067692,
           10
          ],
          [
           3.2728706795067692,
           9
          ],
          [
           3.6819795144451155,
           9
          ],
          [
           3.6819795144451155,
           10
          ],
          [
           3.8374408717216872,
           21
          ],
          [
           3.8865339319142884,
           100
          ],
          [
           3.9301722076410455,
           10
          ],
          [
           3.954718737737346,
           50
          ],
          [
           3.968355698901958,
           166
          ],
          [
           4.07745138821885,
           9
          ],
          [
           4.084269868801156,
           21
          ],
          [
           4.091088349383462,
           48
          ],
          [
           4.091088349383462,
           19
          ],
          [
           4.091088349383462,
           25
          ],
          [
           4.091088349383462,
           15
          ],
          [
           4.227457961029577,
           26
          ],
          [
           4.256095579475261,
           26
          ],
          [
           4.363827572675692,
           16
          ],
          [
           4.650203757132535,
           152
          ],
          [
           5.127497397893938,
           8
          ],
          [
           5.154771320223162,
           35
          ],
          [
           5.277503970704665,
           13
          ],
          [
           5.3184148541985,
           32
          ],
          [
           5.3184148541985,
           21
          ],
          [
           5.441147504680004,
           83
          ],
          [
           5.454784465844615,
           22
          ],
          [
           5.522969271667673,
           22
          ],
          [
           5.57751711632612,
           16
          ],
          [
           5.982534862915082,
           22
          ],
          [
           6.10935860174597,
           153
          ],
          [
           6.27572952795423,
           15
          ],
          [
           6.7980251405588525,
           117
          ],
          [
           6.832117543470381,
           15
          ],
          [
           6.941213232787273,
           9
          ],
          [
           7.081673932782772,
           18
          ],
          [
           7.200315494914893,
           26
          ],
          [
           7.670790655093991,
           73
          ],
          [
           7.90671008324177,
           32
          ],
          [
           8.032170125956196,
           163
          ],
          [
           8.180813002650462,
           14
          ],
          [
           8.182176698766924,
           46
          ],
          [
           9.072670262816057,
           24
          ],
          [
           9.52541737348116,
           68
          ],
          [
           10.088623869579616,
           47
          ],
          [
           10.841384125866174,
           36
          ],
          [
           10.882295009360009,
           38
          ],
          [
           11.182308154981461,
           1389
          ],
          [
           11.277766883133742,
           100
          ],
          [
           11.502776742349832,
           18
          ],
          [
           11.506867830699216,
           61
          ],
          [
           12.273265048150385,
           100
          ],
          [
           12.286902009314996,
           154
          ],
          [
           12.318267019993604,
           264
          ],
          [
           12.39599769863189,
           46
          ],
          [
           13.368313029668691,
           52
          ],
          [
           13.636961164611538,
           40
          ],
          [
           13.964248232562216,
           224
          ],
          [
           14.221986798573374,
           104
          ],
          [
           14.268352466533052,
           55
          ],
          [
           14.318809222842116,
           22
          ],
          [
           14.365174890801795,
           86
          ],
          [
           14.627004545162336,
           32
          ],
          [
           14.883379415057034,
           37
          ],
          [
           14.973383358743469,
           41
          ],
          [
           15.000657281072693,
           13
          ],
          [
           15.587046611150988,
           143
          ],
          [
           15.773872979106168,
           57
          ],
          [
           16.188436598510357,
           123
          ],
          [
           17.452582898469846,
           78
          ],
          [
           17.52894988099167,
           158
          ],
          [
           17.850782164476506,
           60
          ],
          [
           18.936284273179584,
           376
          ],
          [
           19.173567397443822,
           129
          ],
          [
           19.79541282655011,
           82
          ],
          [
           23.1623785380927,
           67
          ],
          [
           24.311974364269453,
           251
          ],
          [
           24.399250915722966,
           276
          ],
          [
           26.455704659346384,
           189
          ],
          [
           27.069367911753904,
           89
          ],
          [
           27.380290626307048,
           21
          ],
          [
           28.746714135001124,
           75
          ],
          [
           29.40265196701894,
           205
          ],
          [
           32.019584814507894,
           28
          ],
          [
           34.692429202771756,
           37
          ],
          [
           35.01835257460597,
           65
          ],
          [
           38.592600095850656,
           196
          ],
          [
           38.9103412909861,
           169
          ],
          [
           39.12171418903758,
           65
          ],
          [
           40.569959464719325,
           63
          ],
          [
           45.25425562476339,
           87
          ],
          [
           46.77204940238465,
           36
          ],
          [
           49.770817162482736,
           113
          ],
          [
           51.322703343015526,
           14
          ],
          [
           61.35268827958731,
           53
          ],
          [
           62.730021357213076,
           18
          ],
          [
           64.03780593289933,
           274
          ],
          [
           69.81033159387938,
           39
          ],
          [
           73.85778166753609,
           80
          ],
          [
           74.66781716071402,
           90
          ],
          [
           78.92254904407282,
           149
          ],
          [
           86.75834692925861,
           341
          ],
          [
           128.65109162694526,
           18
          ],
          [
           136.945091407262,
           563
          ],
          [
           144.5490609526494,
           415
          ],
          [
           190.47834615506105,
           700
          ],
          [
           220.07464297061748,
           179
          ],
          [
           347.277489321881,
           564
          ],
          [
           358.80344889821066,
           169
          ],
          [
           -698.3957426035441,
           411
          ],
          [
           -29.72732882986348,
           20
          ],
          [
           -24.076313611972825,
           36
          ],
          [
           -21.877159142588035,
           8
          ],
          [
           -13.842496630699763,
           55
          ],
          [
           -13.83696184596141,
           9
          ],
          [
           -13.397868923382896,
           35
          ],
          [
           -12.5012337955801,
           10
          ],
          [
           -11.803850918728147,
           12
          ],
          [
           -10.374031527978794,
           10
          ],
          [
           -8.929452711260426,
           13
          ],
          [
           -7.086369393378365,
           11
          ],
          [
           -4.833712004855852,
           8
          ],
          [
           -4.756225018518452,
           124
          ],
          [
           -4.658443821473676,
           10
          ],
          [
           -4.427827790707648,
           15
          ],
          [
           -3.7138405594560484,
           9
          ],
          [
           -3.654802855579942,
           15
          ],
          [
           -3.394667972875862,
           10
          ],
          [
           -2.9481953373128498,
           9
          ],
          [
           -2.123512411293541,
           9
          ],
          [
           -1.737922407852753,
           8
          ],
          [
           -1.4888570946254474,
           10
          ],
          [
           -0.7250568007283711,
           22
          ],
          [
           -0.7029176617748425,
           8
          ],
          [
           -0.5719277562997394,
           11
          ],
          [
           -0.23430588725828957,
           10
          ],
          [
           -0.08855655581416029,
           11
          ],
          [
           -1.0487202906280047e-14,
           8
          ],
          [
           -1.0487202906280047e-14,
           8
          ],
          [
           0.45754220503979126,
           10
          ],
          [
           0.7361263702051394,
           15
          ],
          [
           1.0479192438008118,
           21
          ],
          [
           1.1549250820762542,
           10
          ],
          [
           1.8744470980662407,
           25
          ],
          [
           2.331989303106028,
           21
          ],
          [
           2.9703344762663817,
           13
          ],
          [
           3.0478214626037663,
           8
          ],
          [
           3.3466998384765323,
           10
          ],
          [
           3.6787869227796075,
           11
          ],
          [
           4.7211713818420336,
           15
          ],
          [
           5.040343968422208,
           13
          ],
          [
           5.817058760042173,
           22
          ],
          [
           6.150990772591377,
           11
          ],
          [
           6.521821350063125,
           54
          ],
          [
           7.748698633738388,
           21
          ],
          [
           8.652713474341207,
           8
          ],
          [
           11.233768090674529,
           29
          ],
          [
           14.932849224161568,
           40
          ],
          [
           15.220658030557553,
           29
          ],
          [
           16.838660102411975,
           52
          ],
          [
           18.932653661767453,
           15
          ],
          [
           19.89570620624637,
           21
          ],
          [
           25.20725462684944,
           37
          ],
          [
           54.34605134619801,
           82
          ],
          [
           -44.98576618258342,
           28
          ],
          [
           -20.390168978044073,
           8
          ],
          [
           -8.045303467811312,
           21
          ],
          [
           2.432574693222008,
           101
          ],
          [
           4.160714663930565,
           29
          ],
          [
           6.203418469525374,
           16
          ],
          [
           7.013753734955261,
           8
          ],
          [
           8.45949225788584,
           10
          ],
          [
           9.376512514698623,
           16
          ],
          [
           14.840196080738577,
           11
          ],
          [
           16.722087950793128,
           10
          ],
          [
           21.528403702283,
           14
          ],
          [
           21.95514366781434,
           13
          ],
          [
           64.15533334745342,
           15
          ],
          [
           118.60939251526337,
           105
          ],
          [
           -76.64517242828916,
           16
          ],
          [
           -5.526533357622297,
           10
          ],
          [
           -3.4338522763897257,
           11
          ],
          [
           -1.1490548323360845,
           18
          ],
          [
           0,
           9
          ],
          [
           0,
           12
          ],
          [
           0.9809004666283648,
           12
          ],
          [
           40.760057732998895,
           50
          ],
          [
           -15.101592531576058,
           11
          ],
          [
           -10.450302031850637,
           53
          ],
          [
           -7.52883031301482,
           41
          ],
          [
           -6.630971993410216,
           8
          ],
          [
           -5.411861614497523,
           13
          ],
          [
           -2.4684239428885304,
           70
          ],
          [
           -2.196595277320154,
           13
          ],
          [
           -1.2081274025260784,
           27
          ],
          [
           -1.098297638660077,
           8
          ],
          [
           -0.8237232289950577,
           31
          ],
          [
           -0.24711696869851107,
           21
          ],
          [
           -0.08237232289950597,
           25
          ],
          [
           0,
           100
          ],
          [
           0,
           13
          ],
          [
           0,
           8
          ],
          [
           0,
           8
          ],
          [
           0,
           9
          ],
          [
           0,
           8
          ],
          [
           0,
           18
          ],
          [
           0,
           8
          ],
          [
           0,
           9
          ],
          [
           0,
           8
          ],
          [
           1.9509685221309725e-15,
           18
          ],
          [
           1.9509685221309725e-15,
           20
          ],
          [
           3.901937044261945e-15,
           21
          ],
          [
           0.1372872048325096,
           15
          ],
          [
           0.2745744096650182,
           21
          ],
          [
           0.2745744096650192,
           128
          ],
          [
           1.6474464579901154,
           8
          ],
          [
           2.114222954420649,
           10
          ],
          [
           3.569467325645252,
           27
          ],
          [
           5.016474464579839,
           137
          ],
          [
           7.523338824821529,
           71
          ],
          [
           8.649093904448106,
           13
          ],
          [
           90.63152114222946,
           105
          ],
          [
           192.35310269082922,
           24
          ],
          [
           -1.2204187602293606,
           8
          ],
          [
           -267.05000000000007,
           9
          ],
          [
           -104.47,
           18
          ],
          [
           -32.37000000000003,
           16
          ],
          [
           -30.16999999999999,
           26
          ],
          [
           -21.33999999999995,
           18
          ],
          [
           -12.019999999999982,
           17
          ],
          [
           -11.620000000000008,
           12
          ],
          [
           -9.939999999999973,
           47
          ],
          [
           -8.609999999999971,
           16
          ],
          [
           -5.82,
           18
          ],
          [
           -0.03999999999994586,
           17
          ],
          [
           1.7763568394002505e-14,
           10
          ],
          [
           0.5899999999999999,
           21
          ],
          [
           2.2799999999999727,
           10
          ],
          [
           2.6700000000000053,
           13
          ],
          [
           5.969999999999992,
           8
          ],
          [
           13.97999999999998,
           51
          ],
          [
           15.67,
           14
          ],
          [
           19.299999999999994,
           11
          ],
          [
           22.59,
           9
          ],
          [
           34.53000000000003,
           37
          ],
          [
           60.26999999999987,
           144
          ],
          [
           60.78999999999999,
           81
          ],
          [
           84.21000000000001,
           15
          ],
          [
           89.26999999999998,
           17
          ],
          [
           110.87000000000006,
           61
          ],
          [
           130.01999999999992,
           35
          ]
         ],
         "hovertemplate": "<b>%{hovertext}</b><br><br>Service type=Self service<br>Country=%{x}<br>Markup per order (USD)=%{y}<br>Markup (USD)=%{customdata[0]}<br>Total orders=%{customdata[1]}<extra></extra>",
         "hovertext": [
          "Carnes Ramos",
          "La Castellana",
          "Catabocata",
          "Sonora Beef",
          "Balderas Super Carnes",
          "Confetti Pastas Frescas",
          "Los Tulipanes",
          "Sinai",
          "Pardo",
          "Carnes selectas HB",
          "Punta del Cielo",
          "DICARSA",
          "Le Macaron Boutique",
          "Mallorca",
          "Rancho el 17",
          "Villa de Patos",
          "Tamalería María Candelaria",
          "Marca Diablo",
          "Pan Gabriel",
          "Pikabuu",
          "Tiendas Verum",
          "Granjas RYC",
          "Eat me",
          "Distribuidora La Victoria",
          "Empakatodo",
          "Green Republic",
          "Fruteria La Huerta",
          "Make a party",
          "Cremería W",
          "Petland",
          "D’Lagourmet",
          "Como Komo by Haloclina Catering",
          "QuitaKilos",
          "Distribuidora San Pedro Cholula",
          "La Carnicería Virtual",
          "Bendita Vaca",
          "Natural Farm",
          "El Más Pollo",
          "Pastelería Elizondo",
          "Mi Fiesta Shop",
          "Mundo Gourmet",
          "Venus Sexshop",
          "Chocolates Turin",
          "Smart Fish",
          "Ecoksa",
          "La Lecheria",
          "Raw Republic",
          "Erotika Love Store",
          "Da Silva",
          "Sabor y Sazón",
          "Farmasync",
          "Hamleys",
          "Serena Barra de Pan",
          "Unelefante",
          "Cuchillo y Carne",
          "Sanborns Panadería y Pastelería",
          "Tienda Key",
          "Dulce Noviembre",
          "Apetit Catering & Store",
          "El Lechón Tame",
          "Garabatos",
          "Central Dulcera",
          "Cosecha Natural",
          "La Manzana Sana",
          "Partyland",
          "Partyland",
          "Mora Market",
          "Gramelia",
          "La Casita del Pan",
          "Aquamart",
          "YEMA",
          "Landhaus La Pastelería Alemana",
          "Delicias del Contry",
          "MUAC’S",
          "Malva",
          "Ultramarinos Coliseo",
          "Slovensko",
          "ODARA",
          "Anforama",
          "La sopa italiana",
          "Super Limpio",
          "La Cheloteca",
          "Veterinaria Palo Verde",
          "Martha Falcón",
          "Catalina Fernandez",
          "Bottega Sartoria",
          "El Puro Cielo",
          "Homeopáticos Schüssler",
          "Mr. Croquet co",
          "L'Autrichienne",
          "Tails.Co",
          "Deperlas Colección",
          "Milagros de mi Tierra",
          "Yupick",
          "Deleite Shop",
          "Worldflex",
          "Dulce Tempo",
          "Le Chocolat",
          "Gant",
          "Bó Pastisseria",
          "Exgerm",
          "La Castaña",
          "Cinnabon",
          "Granel Interlomas",
          "Merak",
          "Mercadito Fresh Star",
          "The Confetti Party",
          "San Miguel del Valle",
          "Green & Yang Healthy Bakery",
          "The Secret Donut Society",
          "Molino de chiles Hércules",
          "Farmacias Dr. Montfort",
          "Velucca Good Healthy Food",
          "MUTT",
          "Gino's",
          "Pastelería Alcázar",
          "LICORIA",
          "Göffret",
          "Sösôland",
          "Guilt Free",
          "Mi Tierra Bendita",
          "Steren",
          "Redil Carnicería",
          "ANGELFOOD by Frozen Boutique",
          "Pastelería HADASA",
          "Granel Dulcerías",
          "Peel Health Bar",
          "Carissa Repostería",
          "Restaurante SAKS",
          "La Magia del Castillo",
          "Abasto Express",
          "L'Occitane México",
          "Librerías Porrúa",
          "Estado Natural",
          "Toyo Foods",
          "HomeFood",
          "Live Healthy",
          "Chilim Balam",
          "Salchichonería San Miguel",
          "BreAd",
          "Toks",
          "Empack",
          "Kurson Kosher",
          "La Central Delivery",
          "La frutería",
          "Healthy Boutique",
          "Sr. Ferretero",
          "Farmacias Botica Central",
          "Mr. Tofu",
          "The Green Corner",
          "Swarovski",
          "Ortopedix",
          "Party City",
          "Bellísima",
          "Farmacias Médicor",
          "Oasis",
          "Mil sabores",
          "Pet Happy",
          "Fortunata",
          "Campomarket",
          "Gourmeat",
          "Panadería Las Rosas chicas",
          "Globe Italia",
          "Opaline",
          "Librería Colón",
          "La Punta",
          "El único",
          "Donde Gilberto",
          "Baby Infanti",
          "Dulcería Puerto Varas",
          "Cambia tu nutrición",
          "Moulie",
          "Phanter",
          "Tavelli",
          "Benicio",
          "La Papelaria & Co",
          "Frutas y verduras Johnny",
          "Casastilo concept store",
          "Avent",
          "Kitchen corner",
          "Espesales",
          "La tienda de Carolina",
          "Adagio Teas",
          "Factory Nine",
          "TODOLICOR.CL",
          "Clínica veterinaria Gronemann",
          "Tienda Granata",
          "Mundo Churro",
          "Mercadito G&D",
          "Ferretería Rukafe",
          "PC Factory",
          "De costa a costa gourmet",
          "Emporio la plaza",
          "Mar azul",
          "Colloky",
          "Librería Universitas",
          "La huerta de Vitacura",
          "Frigosorno",
          "Free and lush",
          "Simple by puro",
          "3INA",
          "Friomarket",
          "MANOLO",
          "Costamai",
          "Lápiz papel",
          "Mi market",
          "Fabrics",
          "Mundo Piñata",
          "Multiservice",
          "La Vegana",
          "GAP",
          "Wenger Haus",
          "Juguetería Cachipún",
          "The Market",
          "Eliglu",
          "Pillin",
          "Verdulería Nacional",
          "Peces gordos",
          "Fish store",
          "Felipe Didier",
          "Bigotes pet store & coffee",
          "Aquarantus flores",
          "Coconut grove",
          "Buganvilla cafe",
          "New nuts",
          "Carnes Prontobeef",
          "Emporio Vitacura",
          "Bread factory",
          "Pastelería Tocas de Cachagua",
          "Indigo de papel",
          "Rumbo Verde",
          "AquaChile",
          "By Mascota",
          "Dellanatura",
          "Mascotitas",
          "SPORTIKA",
          "Peluquería Fernando Pavez",
          "Lovely gift",
          "Botillería Echeñique",
          "Born",
          "Marjano",
          "Tuyo print",
          "Manzo Cotillón",
          "Lo Saldes",
          "Ferretería Armaño",
          "Pet Kingdom",
          "Volka Chokolade",
          "La Pesca",
          "hbt",
          "Librería Luces",
          "Isadora",
          "Doral",
          "Fortunata sin gluten",
          "Denda",
          "Majen",
          "LAMY",
          "Biomed",
          "Tusmascotas",
          "Caleta Ñuñoa",
          "Emporio San Marco",
          "Pastelería La Tartine",
          "Patio sabroso",
          "Decatalogo",
          "Puro Antojo",
          "Puntomascotas",
          "Bahia mansa",
          "Boulangerie Panam",
          "Pepitas de oro",
          "Lush",
          "Deutschkind",
          "Panificadora La Reina",
          "Botillería lo Barnechea",
          "AMA",
          "Pucará",
          "Verdulería el imperio",
          "Huertos Alma",
          "Secretos de Amor",
          "Juguetería rincón infantil",
          "Paula",
          "Zoomarket",
          "Bigfix",
          "The Gift Shop",
          "Pastelería Biella",
          "Bon macaron",
          "Petsmann",
          "Planta home design",
          "Alpaka",
          "Club Animal",
          "Tai pet shop",
          "Coquinaria",
          "Granja Magdalena",
          "Verduleria San Roque",
          "Huertos del Golf",
          "Púrpura",
          "Liberté chocolat",
          "Dulcería El Ingenio",
          "Garage",
          "Albazar creativo",
          "Casa de mar",
          "Bili box",
          "Chocolatería Entrelagos",
          "Australis Retail",
          "Petshop online",
          "Hundshop",
          "Cotillón Festday",
          "Bros Librerías",
          "Clínica veterinaria Providencia",
          "Bread&cake",
          "Araf",
          "AM Dulcería",
          "Primal granel",
          "Mercato la pizza nostra",
          "Pastryhome jakimioto",
          "Flores Floramour",
          "Cuk",
          "Actitud Sana",
          "Milu pet",
          "Sano market",
          "Las Bezanilla",
          "Don camarón",
          "Milmaravillas",
          "Mokha Bunn",
          "La Rueda tostaduria",
          "L'Occitane",
          "CATDOGSHOP",
          "Autoplanet",
          "Cosmeticaval",
          "Bbz Barbizon",
          "Grido",
          "Santa salud",
          "Allfree",
          "Paula Benitez",
          "Tictactoys",
          "Bbpro store",
          "Erbi",
          "Upets",
          "Cafetano",
          "El Pescadero",
          "Blush-Bar",
          "Rocha",
          "Riesco Repostería",
          "Hirondelle Pastelería Francesa",
          "Monki Toys & Alex Toys",
          "Le Vice Chocolat",
          "Tro Deportes",
          "Emporio Bolena",
          "Pilgrim",
          "Vivero y Ferretería los Bórquez",
          "Feroz Chocolates",
          "La pasta divina",
          "Santiago Wine Club",
          "Alonso olive oil",
          "Wholeplanet Organic Foods",
          "La Ermita",
          "The Beauty Place",
          "Cecinas Bavaria",
          "La Carpintería",
          "Beefix",
          "Kaikai",
          "Juguetería Caramba",
          "María Pompón",
          "Mon site",
          "Leonidas chocolates",
          "Books and gifts",
          "Cap Dor",
          "Genial",
          "Naturbaby",
          "Dulcería Apoquindo",
          "Theodora",
          "W&M Divoom store",
          "Sanfesta",
          "Martino Phillippi",
          "Cakao",
          "Fresca mar",
          "Juguetería Lillifee",
          "COSTAVET",
          "Paper mill",
          "Mochileros pets",
          "Santa Ignacia",
          "TODOPIEL",
          "Kadó",
          "Musso Beauty Lounge",
          "Musso CE",
          "La Tranquera",
          "Mascotas Mias Pet Shop",
          "Estampa",
          "Algodones",
          "Fullerton",
          "Simonetti",
          "DRY FRUITS",
          "LOBOMAR",
          "Pequeña compañía",
          "Rosatel",
          "Piwén",
          "Revitalash",
          "Full Cell",
          "Masterwise",
          "Dulcería Coca",
          "Librería Periférica",
          "Kukinuts",
          "Amor nacional",
          "Mercury music",
          "Naturel organic",
          "Oh my lamb!",
          "Premium paper",
          "Little bee",
          "Anis tienda",
          "Qué Pachamama",
          "Candle store",
          "Erbario Toscano",
          "PSK Joyas",
          "Mercado Pasteur",
          "Cafetería La Cueva",
          "Harina gourmet",
          "Warmí",
          "Emporio Gorroño",
          "Patagonia Schokoland",
          "CONEKTA",
          "TOUS",
          "Vivo Nativo",
          "De Tartas & tortas",
          "Medela by Guven",
          "Animaluna",
          "Betterpet",
          "Motherna",
          "Pastelería Terra",
          "Ohana pet shop",
          "Pilpil",
          "Newscience",
          "VILAPERT",
          "Santillana",
          "Posta veterinaria",
          "Clínica veterinaria Colón",
          "The beauty day spa",
          "Délice",
          "Tío Polo",
          "Studio Valdes",
          "Propet",
          "Electromarket Luis Cortes",
          "Sabores sureños",
          "Doc popcorn",
          "Opera liquor store",
          "Picaflor",
          "Tabatiere petit magasin",
          "Ferretería multiferret",
          "La Chakra",
          "SM",
          "Tortilla factory",
          "Estilo colector",
          "Flowershop",
          "Yahooshop",
          "Dulces Vacarezza",
          "Amada pastelería",
          "Global ok",
          "La casa orgánica",
          "Jo Malone London",
          "Librería el caribe",
          "Dante store pets",
          "Mestiere",
          "Felipe Didier",
          "Chokko",
          "Botillería perro Pancho",
          "Luz Charme",
          "Tostaduría El Nogal",
          "Importadora MMM",
          "Deysa care",
          "Peacock",
          "Tienda de vinos La Reina",
          "Mist ice cream",
          "Marisquería Austral",
          "Ema",
          "Juguetería Shakira toys",
          "CASA TATETI",
          "Le Creuset",
          "Vida natura",
          "Gudfud",
          "Bobbi Brown",
          "Madremia",
          "MAC Cosmetics",
          "Flor de galgo",
          "Clinique",
          "Bruxelles Chocolaterie",
          "Panart",
          "Dulces ISSA",
          "Bien argento",
          "Tateti toys",
          "Déjate querer dulcería",
          "Maru peruano japonés",
          "Mercado premium",
          "Flores just flowers",
          "PHILIPS",
          "El florista",
          "Florexotica",
          "Mood aromaterapia",
          "Color animal",
          "Zigzaboo",
          "Maderitas",
          "AF Chile Spa",
          "Límite sur gifts",
          "Green dolphin",
          "TESSA",
          "Take care mask",
          "Kipling",
          "Sexo sexshop",
          "Braintoys",
          "Heima café",
          "Nicole&Cédric",
          "El taller",
          "HAVANNA",
          "The North Face",
          "Cotolino",
          "Caffesso",
          "Instore CL",
          "Lärrs",
          "Pastelería la Celeste",
          "Dog bark",
          "Vegan Panda",
          "Farmacias Natura",
          "Entremés",
          "Express pet",
          "Clínica veterinaria vets & friends",
          "CASA AMARILLA",
          "Movenpick",
          "EGLO",
          "Cousiño Macul",
          "Salmones Antártica",
          "Andrea Coggiola joyas",
          "Pichintun",
          "Smartfix",
          "Nutrición Santa Fe",
          "Whittard of Chelsea",
          "Thephonehouse",
          "VOPCAFE",
          "Veterinaria Cedilo",
          "Bikeman",
          "Bioser",
          "Salón de belleza Esther",
          "Ortopedias más vida",
          "La pescadería",
          "Cup and cake bakery",
          "Doc popcorn",
          "Farmacia Fracción",
          "Soler",
          "Copetexpress",
          "Tomás Moro",
          "Green conexion",
          "Pet Phone",
          "Belmio",
          "The candle shop",
          "Farmacia Weleda",
          "Dulcería Frutillar",
          "Nutrihouse",
          "Flores",
          "Nutrimedical",
          "GP Centro ahorro",
          "Finomarket",
          "Faunimals",
          "Cuncuna",
          "La carnicería store",
          "Cassis",
          "La casa del pañal",
          "Flores de Ocoa",
          "La Provincia",
          "Jugueterías Ansaldo",
          "Prana",
          "Be Feelosophy",
          "Insert coin bar",
          "Caramel",
          "Biancolatte",
          "Bottega Rivoli",
          "Galletería de Laura R",
          "Carnero",
          "Copreser",
          "Jardín Buenaventura",
          "La Tetería",
          "Gift shop Kawaii",
          "LAB Gourmet",
          "Tostaduria Maravilla",
          "Get it",
          "Dr. Pet",
          "Pastelería el quinto pecado",
          "Heladeria il maestrale",
          "Regalos Clicker",
          "YEPPO",
          "My Mix",
          "Juguetería Girasol",
          "La cocina de Angeles Alamos",
          "Four Sport",
          "Piscinas Oriente",
          "Digitek",
          "Serfrut",
          "Felipe Didier",
          "Emporio La Granjita",
          "Don Paolo verdulería",
          "Emporio La Rosa",
          "La Brunchería",
          "Corrales del sur",
          "Nacional outlet escolar",
          "El Hogar",
          "Marypez",
          "Prem de Bokato",
          "Mermoz",
          "Dulcería Montolín",
          "Etienne Marcel",
          "Dogat",
          "De Pura madre",
          "Rienda suelta carnicería",
          "Intertoys",
          "Village",
          "Moza Bonita",
          "The Body Shop",
          "Breti citymarket",
          "De la carne",
          "Santa tienda",
          "Librería Joyas",
          "Japi Jane",
          "Jacarandá Flores",
          "Damien Mercier",
          "Blanca y Augusto",
          "La mil hoja",
          "Brando",
          "Suk",
          "Pistacho pastelería",
          "Verdulería Fresh",
          "Detercenter",
          "Corral Osorno",
          "La fábrica de churros Boher",
          "Medical train",
          "Coffee Wings",
          "Sant ambrogio",
          "Samia",
          "Maidenform",
          "Kaya unite",
          "Moritz Eis",
          "Cory coffeehouse",
          "Premium Carnes",
          "Liga de las mascotas",
          "Tienda Urbano",
          "Full congelados",
          "Quererte cafetería",
          "Fresh market",
          "Simply Sweet la pastelería",
          "Pablo & Nicolás Pinto",
          "Hands and the city",
          "LAMA",
          "Felipe Didier",
          "Eco farmacias",
          "Yves Rocher",
          "Fiesta & Regalos",
          "Todomoda",
          "La Estación frutería",
          "Centralvet.cl",
          "Trial",
          "Andesgear",
          "Carnaval",
          "Camposorno",
          "Planta maestra",
          "Farmacia veterinaria Arkanet",
          "Smart concept",
          "Puravida Flores",
          "Verdulería Smilegreen",
          "EL VOLCAN",
          "Ando Creando",
          "El pan de cada día",
          "Medcare",
          "La Fête Chocolat",
          "Medisalud",
          "Verduleria Fredy Castillo",
          "Hands & company",
          "Mellow",
          "Bath & blanc",
          "Mercado Manquehue",
          "Papermark",
          "Saville Row",
          "Café diario",
          "DBS Beauty Store",
          "MeatMe",
          "Dónde Jorgito",
          "Pets Center",
          "Gourmitalia",
          "Jackie Guiloff gourmet",
          "Frustic Tac",
          "Q’Mascotas",
          "BLU STORE",
          "Cotillón Activarte",
          "Aldea nativa",
          "Anasac Jardín",
          "Monarch",
          "Dimeiggs",
          "Las Mellizas",
          "FORK",
          "Smartech",
          "Supermercado Versluys",
          "El Mundo del Vino",
          "Nacional",
          "Wua Wua",
          "Pet choice",
          "Veterinaria el Rodeo",
          "Amphora",
          "Mota",
          "Verdulería Panchito",
          "Prismology",
          "Caffarena",
          "Natura cosméticos",
          "Revesderecho",
          "Farmacias Knop",
          "Best for pets",
          "Juan Valdez Café",
          "Los Mezza",
          "CAV",
          "Flor de Loto",
          "Tua",
          "Mola",
          "Rupestre",
          "Verdulería Doña Amalia",
          "Clínica veterinaria Los Andes",
          "Librería Contrapunto",
          "Carne A Punto",
          "Bubba Bags",
          "Casa Royal",
          "The Garden",
          "Varsovienne Chocolatería",
          "Antártica libros",
          "Ok Market",
          "Preunic",
          "Lápiz López",
          "Lounge",
          "Cobasi",
          "Sonho dos Bichos",
          "Dr. Hato",
          "Go meat",
          "Armazém Cerealista",
          "Bicho Pet Store",
          "Breeds pet shop",
          "Cacau Show",
          "Imaginarium",
          "Petcamp",
          "Famiglia Franciulli do Glicério",
          "Rei dos Animais",
          "Mercado Brasco",
          "Casa Bueno",
          "Leblon 2 Carnes",
          "Rochinha",
          "Picanha Nobre Casa de Carnes e Mini Mercado",
          "To Go Congelados",
          "Savoyard Fromagerie",
          "Verdim hortifruti",
          "Casa de Carnes Rei",
          "Pet days",
          "La carne",
          "Grupo Hiper Boi",
          "Vigor",
          "Royal Bebidas",
          "Loja Natural",
          "Biamar",
          "Kibon sorvetes",
          "Uau My Dog",
          "Armazém Dona Idalina",
          "Empório dos grãos",
          "Pé de mato",
          "Delivery da terra",
          "Mundo Verde",
          "Kopenhagen",
          "Biovila",
          "Snack Frutas",
          "Estância casa de carnes",
          "Chocolates Brasil Cacau",
          "Padaria Kennedy",
          "Varejão Lopes",
          "Maxxi",
          "Bovino Nobre Casa de Carnes",
          "Hortifruti Morato",
          "Ofner",
          "Rações Renata",
          "Amo Orgânico Quitanda",
          "Xirata Feira Limpa",
          "Lindt",
          "Carnes Florida",
          "Loja das frutas",
          "Rede Varejão Cachambi",
          "Casa de Carnes Fradique Coutinho",
          "Granado Pharmácias",
          "Little Bear Animalerie",
          "Chez Latina",
          "Mizan Gourmet",
          "Eataly",
          "Menagerie Pet Shop",
          "Radical Road Brewing Co",
          "Town & Country Market",
          "Simi African Foods",
          "Serano Bakery Food Market",
          "Smyrna Laz Bakkal",
          "Le Gourmand",
          "apniroots",
          "Greenhouse Juice Co.",
          "Victoria Supermarket",
          "The Big Carrot",
          "La Canasta Campesina",
          "Laika",
          "PLAZ Express",
          "Puerto Market",
          "Terrafit",
          "Nicolukas",
          "La boutique de las carnes",
          "Gastronomy Market",
          "Hot Vape",
          "Mas Natural House",
          "Thika Thani",
          "Weleda",
          "TuSuper",
          "Normita",
          "Consumo Cuidado",
          "IL Pastificio",
          "Limapostre",
          "Anelare",
          "Almendariz",
          "Atelier Amore Gelato",
          "Dolce Capriccio",
          "Floreria San Borja",
          "DIA-D juegos",
          "AFIT",
          "SBS Librería Internacional",
          "Florever",
          "Tortas Gaby",
          "Pickadeli",
          "Quinoa",
          "Invita",
          "Usams",
          "Caramba",
          "Flores para tu casa",
          "Miss Cupcakes",
          "Central Party",
          "Maria Almenara",
          "La p'tite France",
          "Raíces mercado sostenible",
          "Patty Pastelería Artesanal",
          "Oregon Foods",
          "Canevaro 163",
          "Rosatel",
          "PetLover",
          "Plagio",
          "Verdulería Segura",
          "Sarah's Tent",
          "Wagshal's",
          "Bravo Supermarkets Weston",
          "Sub Hub Market Fresh",
          "Wine Bank",
          "Zubi Supermarket",
          "Amish Market West",
          "Jubilee Market Place",
          "Elm Wellness",
          "Graziano's",
          "Zerpa's Antojos Criollos",
          "Gramercy Wine",
          "Freshy's",
          "Dante's Cellar",
          "Farm2cook",
          "Dickson's Farmstand Meats",
          "Exito Fresh Market",
          "America's Food Basket",
          "India Bazaar",
          "Edy’s Grocer",
          "Key Food",
          "Morton Williams",
          "Met Fresh Supermarket",
          "Katagiri",
          "Mahfood Market",
          "Ideal Food Basket",
          "Meat N' Bone"
         ],
         "legendgroup": "Self service",
         "marker": {
          "color": "#636efa"
         },
         "name": "Self service",
         "notched": false,
         "offsetgroup": "Self service",
         "orientation": "v",
         "showlegend": true,
         "type": "box",
         "x": [
          "MX",
          "MX",
          "MX",
          "MX",
          "MX",
          "MX",
          "MX",
          "MX",
          "MX",
          "MX",
          "MX",
          "MX",
          "MX",
          "MX",
          "MX",
          "MX",
          "MX",
          "MX",
          "MX",
          "MX",
          "MX",
          "MX",
          "MX",
          "MX",
          "MX",
          "MX",
          "MX",
          "MX",
          "MX",
          "MX",
          "MX",
          "MX",
          "MX",
          "MX",
          "MX",
          "MX",
          "MX",
          "MX",
          "MX",
          "MX",
          "MX",
          "MX",
          "MX",
          "MX",
          "MX",
          "MX",
          "MX",
          "MX",
          "MX",
          "MX",
          "MX",
          "MX",
          "MX",
          "MX",
          "MX",
          "MX",
          "MX",
          "MX",
          "MX",
          "MX",
          "MX",
          "MX",
          "MX",
          "MX",
          "MX",
          "MX",
          "MX",
          "MX",
          "MX",
          "MX",
          "MX",
          "MX",
          "MX",
          "MX",
          "MX",
          "MX",
          "MX",
          "MX",
          "MX",
          "MX",
          "MX",
          "MX",
          "MX",
          "MX",
          "MX",
          "MX",
          "MX",
          "MX",
          "MX",
          "MX",
          "MX",
          "MX",
          "MX",
          "MX",
          "MX",
          "MX",
          "MX",
          "MX",
          "MX",
          "MX",
          "MX",
          "MX",
          "MX",
          "MX",
          "MX",
          "MX",
          "MX",
          "MX",
          "MX",
          "MX",
          "MX",
          "MX",
          "MX",
          "MX",
          "MX",
          "MX",
          "MX",
          "MX",
          "MX",
          "MX",
          "MX",
          "MX",
          "MX",
          "MX",
          "MX",
          "MX",
          "MX",
          "MX",
          "MX",
          "MX",
          "MX",
          "MX",
          "MX",
          "MX",
          "MX",
          "MX",
          "MX",
          "MX",
          "MX",
          "MX",
          "MX",
          "MX",
          "MX",
          "MX",
          "MX",
          "MX",
          "MX",
          "MX",
          "MX",
          "MX",
          "MX",
          "MX",
          "MX",
          "MX",
          "MX",
          "MX",
          "CL",
          "CL",
          "CL",
          "CL",
          "CL",
          "CL",
          "CL",
          "CL",
          "CL",
          "CL",
          "CL",
          "CL",
          "CL",
          "CL",
          "CL",
          "CL",
          "CL",
          "CL",
          "CL",
          "CL",
          "CL",
          "CL",
          "CL",
          "CL",
          "CL",
          "CL",
          "CL",
          "CL",
          "CL",
          "CL",
          "CL",
          "CL",
          "CL",
          "CL",
          "CL",
          "CL",
          "CL",
          "CL",
          "CL",
          "CL",
          "CL",
          "CL",
          "CL",
          "CL",
          "CL",
          "CL",
          "CL",
          "CL",
          "CL",
          "CL",
          "CL",
          "CL",
          "CL",
          "CL",
          "CL",
          "CL",
          "CL",
          "CL",
          "CL",
          "CL",
          "CL",
          "CL",
          "CL",
          "CL",
          "CL",
          "CL",
          "CL",
          "CL",
          "CL",
          "CL",
          "CL",
          "CL",
          "CL",
          "CL",
          "CL",
          "CL",
          "CL",
          "CL",
          "CL",
          "CL",
          "CL",
          "CL",
          "CL",
          "CL",
          "CL",
          "CL",
          "CL",
          "CL",
          "CL",
          "CL",
          "CL",
          "CL",
          "CL",
          "CL",
          "CL",
          "CL",
          "CL",
          "CL",
          "CL",
          "CL",
          "CL",
          "CL",
          "CL",
          "CL",
          "CL",
          "CL",
          "CL",
          "CL",
          "CL",
          "CL",
          "CL",
          "CL",
          "CL",
          "CL",
          "CL",
          "CL",
          "CL",
          "CL",
          "CL",
          "CL",
          "CL",
          "CL",
          "CL",
          "CL",
          "CL",
          "CL",
          "CL",
          "CL",
          "CL",
          "CL",
          "CL",
          "CL",
          "CL",
          "CL",
          "CL",
          "CL",
          "CL",
          "CL",
          "CL",
          "CL",
          "CL",
          "CL",
          "CL",
          "CL",
          "CL",
          "CL",
          "CL",
          "CL",
          "CL",
          "CL",
          "CL",
          "CL",
          "CL",
          "CL",
          "CL",
          "CL",
          "CL",
          "CL",
          "CL",
          "CL",
          "CL",
          "CL",
          "CL",
          "CL",
          "CL",
          "CL",
          "CL",
          "CL",
          "CL",
          "CL",
          "CL",
          "CL",
          "CL",
          "CL",
          "CL",
          "CL",
          "CL",
          "CL",
          "CL",
          "CL",
          "CL",
          "CL",
          "CL",
          "CL",
          "CL",
          "CL",
          "CL",
          "CL",
          "CL",
          "CL",
          "CL",
          "CL",
          "CL",
          "CL",
          "CL",
          "CL",
          "CL",
          "CL",
          "CL",
          "CL",
          "CL",
          "CL",
          "CL",
          "CL",
          "CL",
          "CL",
          "CL",
          "CL",
          "CL",
          "CL",
          "CL",
          "CL",
          "CL",
          "CL",
          "CL",
          "CL",
          "CL",
          "CL",
          "CL",
          "CL",
          "CL",
          "CL",
          "CL",
          "CL",
          "CL",
          "CL",
          "CL",
          "CL",
          "CL",
          "CL",
          "CL",
          "CL",
          "CL",
          "CL",
          "CL",
          "CL",
          "CL",
          "CL",
          "CL",
          "CL",
          "CL",
          "CL",
          "CL",
          "CL",
          "CL",
          "CL",
          "CL",
          "CL",
          "CL",
          "CL",
          "CL",
          "CL",
          "CL",
          "CL",
          "CL",
          "CL",
          "CL",
          "CL",
          "CL",
          "CL",
          "CL",
          "CL",
          "CL",
          "CL",
          "CL",
          "CL",
          "CL",
          "CL",
          "CL",
          "CL",
          "CL",
          "CL",
          "CL",
          "CL",
          "CL",
          "CL",
          "CL",
          "CL",
          "CL",
          "CL",
          "CL",
          "CL",
          "CL",
          "CL",
          "CL",
          "CL",
          "CL",
          "CL",
          "CL",
          "CL",
          "CL",
          "CL",
          "CL",
          "CL",
          "CL",
          "CL",
          "CL",
          "CL",
          "CL",
          "CL",
          "CL",
          "CL",
          "CL",
          "CL",
          "CL",
          "CL",
          "CL",
          "CL",
          "CL",
          "CL",
          "CL",
          "CL",
          "CL",
          "CL",
          "CL",
          "CL",
          "CL",
          "CL",
          "CL",
          "CL",
          "CL",
          "CL",
          "CL",
          "CL",
          "CL",
          "CL",
          "CL",
          "CL",
          "CL",
          "CL",
          "CL",
          "CL",
          "CL",
          "CL",
          "CL",
          "CL",
          "CL",
          "CL",
          "CL",
          "CL",
          "CL",
          "CL",
          "CL",
          "CL",
          "CL",
          "CL",
          "CL",
          "CL",
          "CL",
          "CL",
          "CL",
          "CL",
          "CL",
          "CL",
          "CL",
          "CL",
          "CL",
          "CL",
          "CL",
          "CL",
          "CL",
          "CL",
          "CL",
          "CL",
          "CL",
          "CL",
          "CL",
          "CL",
          "CL",
          "CL",
          "CL",
          "CL",
          "CL",
          "CL",
          "CL",
          "CL",
          "CL",
          "CL",
          "CL",
          "CL",
          "CL",
          "CL",
          "CL",
          "CL",
          "CL",
          "CL",
          "CL",
          "CL",
          "CL",
          "CL",
          "CL",
          "CL",
          "CL",
          "CL",
          "CL",
          "CL",
          "CL",
          "CL",
          "CL",
          "CL",
          "CL",
          "CL",
          "CL",
          "CL",
          "CL",
          "CL",
          "CL",
          "CL",
          "CL",
          "CL",
          "CL",
          "CL",
          "CL",
          "CL",
          "CL",
          "CL",
          "CL",
          "CL",
          "CL",
          "CL",
          "CL",
          "CL",
          "CL",
          "CL",
          "CL",
          "CL",
          "CL",
          "CL",
          "CL",
          "CL",
          "CL",
          "CL",
          "CL",
          "CL",
          "CL",
          "CL",
          "CL",
          "CL",
          "CL",
          "CL",
          "CL",
          "CL",
          "CL",
          "CL",
          "CL",
          "CL",
          "CL",
          "CL",
          "CL",
          "CL",
          "CL",
          "CL",
          "CL",
          "CL",
          "CL",
          "CL",
          "CL",
          "CL",
          "CL",
          "CL",
          "CL",
          "CL",
          "CL",
          "CL",
          "CL",
          "CL",
          "CL",
          "CL",
          "CL",
          "CL",
          "CL",
          "CL",
          "CL",
          "CL",
          "CL",
          "CL",
          "CL",
          "CL",
          "CL",
          "CL",
          "CL",
          "CL",
          "CL",
          "CL",
          "CL",
          "CL",
          "CL",
          "CL",
          "CL",
          "CL",
          "CL",
          "CL",
          "CL",
          "CL",
          "CL",
          "CL",
          "CL",
          "CL",
          "CL",
          "CL",
          "CL",
          "CL",
          "CL",
          "CL",
          "CL",
          "CL",
          "CL",
          "CL",
          "CL",
          "CL",
          "CL",
          "CL",
          "CL",
          "CL",
          "CL",
          "CL",
          "CL",
          "CL",
          "CL",
          "CL",
          "CL",
          "CL",
          "CL",
          "CL",
          "CL",
          "CL",
          "CL",
          "CL",
          "CL",
          "CL",
          "CL",
          "CL",
          "CL",
          "CL",
          "CL",
          "CL",
          "CL",
          "CL",
          "CL",
          "CL",
          "CL",
          "CL",
          "CL",
          "CL",
          "CL",
          "CL",
          "CL",
          "CL",
          "CL",
          "CL",
          "CL",
          "CL",
          "CL",
          "CL",
          "CL",
          "CL",
          "CL",
          "CL",
          "CL",
          "CL",
          "CL",
          "CL",
          "CL",
          "CL",
          "CL",
          "CL",
          "CL",
          "CL",
          "CL",
          "CL",
          "CL",
          "BR",
          "BR",
          "BR",
          "BR",
          "BR",
          "BR",
          "BR",
          "BR",
          "BR",
          "BR",
          "BR",
          "BR",
          "BR",
          "BR",
          "BR",
          "BR",
          "BR",
          "BR",
          "BR",
          "BR",
          "BR",
          "BR",
          "BR",
          "BR",
          "BR",
          "BR",
          "BR",
          "BR",
          "BR",
          "BR",
          "BR",
          "BR",
          "BR",
          "BR",
          "BR",
          "BR",
          "BR",
          "BR",
          "BR",
          "BR",
          "BR",
          "BR",
          "BR",
          "BR",
          "BR",
          "BR",
          "BR",
          "BR",
          "BR",
          "BR",
          "BR",
          "BR",
          "BR",
          "BR",
          "BR",
          "CA",
          "CA",
          "CA",
          "CA",
          "CA",
          "CA",
          "CA",
          "CA",
          "CA",
          "CA",
          "CA",
          "CA",
          "CA",
          "CA",
          "CA",
          "CO",
          "CO",
          "CO",
          "CO",
          "CO",
          "CO",
          "CO",
          "CO",
          "PE",
          "PE",
          "PE",
          "PE",
          "PE",
          "PE",
          "PE",
          "PE",
          "PE",
          "PE",
          "PE",
          "PE",
          "PE",
          "PE",
          "PE",
          "PE",
          "PE",
          "PE",
          "PE",
          "PE",
          "PE",
          "PE",
          "PE",
          "PE",
          "PE",
          "PE",
          "PE",
          "PE",
          "PE",
          "PE",
          "PE",
          "PE",
          "PE",
          "PE",
          "PE",
          "PE",
          "CR",
          "US",
          "US",
          "US",
          "US",
          "US",
          "US",
          "US",
          "US",
          "US",
          "US",
          "US",
          "US",
          "US",
          "US",
          "US",
          "US",
          "US",
          "US",
          "US",
          "US",
          "US",
          "US",
          "US",
          "US",
          "US",
          "US",
          "US"
         ],
         "x0": " ",
         "xaxis": "x",
         "y": [
          -0.4522101239425592,
          -7.993270940929074,
          -5.574038636349272,
          -0.44695641374836664,
          -0.5994549223068568,
          -4.899403007743507,
          -0.06102445265867039,
          -0.8983422418808015,
          -2.287346568987613,
          -0.8752266185657293,
          -1.3997306843511006,
          -1.7846877276739725,
          -0.6407656021696149,
          -0.5550236452731321,
          -1.675197683031398,
          -0.40128553799704714,
          -0.1717208626531745,
          -1.4259738401561652,
          -0.05916886250886628,
          -0.7564766720759726,
          -1.1381987822616773,
          -0.288416684869387,
          -0.3898509165303806,
          -0.23255323531522146,
          -1.2185246604676387,
          -0.04240289250838363,
          -1.3663859889372258,
          -1.070016345370619,
          -0.11916590905284903,
          -0.41436552638802593,
          -0.44052324097897844,
          -0.3021640842408725,
          -0.2184271092617026,
          -0.46915862026816996,
          -0.883385587457139,
          -0.7741720328262874,
          -0.23716325741329183,
          -0.2999212834444753,
          -0.19829518028307258,
          -0.6765364974363653,
          -0.19177347213154083,
          -0.4230297179372215,
          -0.0907993198500546,
          -0.3370551487917446,
          -0.2422052502699387,
          -0.4455498293921143,
          -0.17272054542365997,
          -0.1197570404112474,
          -0.04665768947837002,
          -0.17869895070215733,
          -0.023211220311928533,
          -0.07188740304815529,
          -0.2820198119581477,
          -0.31105126318913345,
          -0.24709912347744808,
          -0.0722441643536052,
          -0.10067396312590014,
          -0.05545599663714836,
          -0.056355170036619474,
          -0.2059850587341371,
          -0.0574248485887631,
          -0.09020486632484871,
          -0.17418870738591474,
          -0.05175893019467181,
          -0.10406078623054614,
          -0.09713848175521021,
          -0.011278718803237933,
          -0.05045251488927718,
          -0.012819325608078637,
          -0.07281087968731262,
          -0.011265711204958945,
          -0.026347871705432485,
          -0.005598922737404402,
          -0.034454909153257864,
          -0.01658940070342045,
          -0.026543041125472722,
          -0.03415908417567879,
          -0.00728315152833093,
          -0.01165028367581113,
          -0.031105126318913347,
          0,
          0,
          0,
          0,
          0,
          0,
          0,
          0,
          0,
          0,
          0,
          0,
          0,
          0,
          0,
          0,
          0,
          0,
          0,
          0,
          0,
          0,
          0,
          4.714991264171559e-16,
          0.002764900117236742,
          0.02967429050824322,
          0.010819174371795947,
          0.026675756331099965,
          0.03561981322462985,
          0.03483774147718295,
          0.06822768071115874,
          0.05269574341086497,
          0.09048764020047519,
          0.03167067407016632,
          0.07776281579728336,
          0.08623170485637953,
          0.05275429423687703,
          0.02945465022852203,
          0.12254462688842042,
          0.08709435369295737,
          0.16287775236085536,
          0.11527887236171593,
          0.25735690291239655,
          0.07088198482370556,
          0.05687794526887012,
          0.015034567586472349,
          0.29860921266156815,
          0.2654304112547272,
          0.45897341946129916,
          0.5909974000593536,
          0.11467699726251097,
          0.09331537895674004,
          0.17523072911759846,
          0.025427387404860304,
          0.12072718080326034,
          0.22620450572051062,
          0.5551068696913767,
          0.20261188059110857,
          0.6152905037144247,
          0.09953640422052272,
          0.6021952455341624,
          0.16252967657155065,
          0.908163042364892,
          0.6182040172129635,
          0.211362789462163,
          0.1210190813904197,
          1.9767376898172364,
          1.5210821504966223,
          0.3610634270744451,
          0.16245092386934362,
          0.3158817063351294,
          3.0058998710555653,
          0.175111733925053,
          1.6806721852635265,
          2.0870104138776138,
          1.5071725760606758,
          -2.517208942121359,
          -0.5526496071968865,
          -0.07407092511026916,
          -0.2058800822198365,
          -0.6299273340317839,
          -0.27835986269115853,
          -0.3629325692170643,
          -0.5341949609756782,
          -0.7023034999774943,
          -0.03140839443628823,
          -0.3551172347484566,
          -0.2519201292475905,
          -0.24193720642317243,
          -0.3097778832454967,
          -0.2098728323233716,
          -0.04922432505942668,
          -1.9909963300332845,
          -0.2484957367773658,
          -0.5515490938125789,
          -0.19624684342636375,
          -0.2647275086080215,
          -0.887837945296025,
          -0.7792549236920879,
          -0.5058872690097829,
          -0.7085021186886813,
          -1.1748766541819171,
          -0.07023986415670148,
          -0.06320994874583889,
          -0.21798784189998444,
          -1.806897354311029,
          -0.7464441900629474,
          -0.4399019730519851,
          -0.29337649118800957,
          -0.04862317239217298,
          -0.028367613450194427,
          -0.19844213666146326,
          -0.2632907573424642,
          -0.31535472693164185,
          -0.051692605914605616,
          -0.23319203591485732,
          -0.3427422906039034,
          -0.6233065320882087,
          -0.189672342459097,
          -0.09978264266788932,
          -0.4805023375060184,
          -0.2501103908597035,
          -0.040229035435604035,
          -0.3102408664949125,
          -0.3201721316908796,
          -0.29455836115560924,
          -0.23402784966365608,
          -0.42194362191680407,
          -0.24351716365377746,
          -0.38769078416804453,
          -0.18663155422425506,
          -0.06607599739554045,
          -0.27273922329223077,
          -0.2689580658784067,
          -0.09820884865381077,
          -0.09054942213302063,
          -0.11234758005614583,
          -0.08759125055731258,
          -0.4355435596574393,
          -0.3068316262037596,
          -0.23716454199324416,
          -0.12121743257432478,
          -0.1550717298147255,
          -0.05949311628956902,
          -0.33240092838740626,
          -0.1071687274131972,
          -0.10128284698300027,
          -0.5345688776527724,
          -0.5303262675126709,
          -0.1545522265322641,
          -0.1657143317818165,
          -0.012019900742359788,
          -0.12834786978457918,
          -0.03132399726157011,
          -0.05258971690147629,
          -0.14611029819226648,
          -0.15734955189936392,
          -0.20455441746917308,
          -0.43941319308192733,
          -0.05456732603153846,
          -0.2545566084060821,
          -0.30683162620375964,
          -0.45172433857775723,
          -0.009568856457640343,
          -0.04850861899983247,
          -0.048389217035718364,
          -0.014727918057780462,
          -0.023379206220610023,
          -0.26455704659346385,
          -0.07787810524547076,
          -0.07917013565010587,
          -0.13552541881211563,
          -0.0603508068561532,
          -0.06855067551283996,
          -0.10489970126624261,
          -0.10101452714527065,
          -0.160434837230724,
          -0.14354695962748987,
          -0.14203971655140124,
          -0.09185467413020487,
          -0.25364747766177465,
          -0.10702049957445142,
          -0.03764234200834836,
          -0.1545522265322641,
          -0.009807006114124894,
          -0.2802395519327671,
          -0.06421404360159728,
          -0.032086967446144796,
          -0.010784331533238717,
          -0.10335381093179272,
          -0.24529483894845006,
          -0.02149826818891701,
          -0.06818480582305769,
          -0.05245684394653905,
          -0.17137114530195166,
          -0.01659437442922609,
          -0.022355674040346784,
          -0.07576089535895299,
          -0.09740686546151099,
          -0.08523100727882212,
          -0.10489970126624261,
          -0.0162344775769185,
          -0.17046201455764423,
          -0.13636961164611539,
          -0.09740686546151099,
          -0.09740686546151099,
          -0.17046201455764423,
          -0.05192535212679009,
          -0.12273265048150385,
          -0.030001314562145387,
          -0.01870211816861011,
          -0.030717255023287492,
          -0.13977885193726827,
          -0.051950328246139196,
          -0.12121743257432478,
          -0.016574152800066334,
          -0.11970221466714574,
          -0.0581843676356759,
          -0.05302371370475428,
          -0.025867610709122513,
          -0.01642001446351185,
          -0.014367512655572871,
          -0.015028487814061697,
          -0.04346781371219928,
          -0.028410335759607372,
          -0.009713344268126816,
          -0.019481373092302197,
          -0.008021741861536199,
          -0.020979940253248522,
          -0.0006452820740352463,
          -0.02727392232922308,
          -0.046024743930563945,
          -0.030993093555935314,
          -0.012397237422374125,
          -0.011798935964163896,
          -0.019930943240586092,
          -0.002466258934025491,
          -0.002072818097020954,
          -0.0010997549326299627,
          -0.009946959908304888,
          -0.0039008051703423702,
          -0.017046201455764423,
          -0.011364134303842949,
          -0.0014663399101732836,
          -0.012273265048150385,
          -0.010227720873458654,
          -0.0061366325240751925,
          -0.0015028487814061696,
          -0.004480715811229505,
          -0.002020290542905413,
          -0.0018661104751573686,
          -9.001294498093425e-05,
          -0.0006818480582305769,
          -0.001048997012662426,
          -0.0005929113549831104,
          -0.0005929113549831104,
          -0.00029934792800366793,
          -0.0006198618711187063,
          -0.0001136413430384295,
          -0.00012397237422374127,
          0,
          0,
          0,
          0,
          0,
          0,
          0,
          0,
          0,
          0,
          0,
          0,
          0,
          0,
          0,
          0,
          0,
          0,
          0,
          0,
          0,
          0,
          0,
          0,
          0,
          0,
          0,
          0,
          0,
          0,
          0,
          0,
          0,
          0,
          0,
          0,
          0,
          0,
          0,
          0,
          0,
          0,
          0,
          0,
          0,
          0,
          0,
          0,
          0,
          0,
          0,
          0,
          0,
          0,
          0,
          0,
          0,
          0,
          0,
          0,
          0,
          0,
          0,
          0,
          0,
          0,
          0,
          0,
          0,
          0,
          0,
          0,
          0,
          0,
          0,
          0,
          0,
          0,
          0,
          0,
          0,
          0,
          0,
          0,
          0,
          0,
          0,
          0,
          0,
          0,
          0,
          0,
          0,
          0,
          0,
          0,
          0,
          0,
          0,
          0,
          0,
          0,
          0,
          0,
          0,
          0,
          0,
          0,
          0,
          0,
          0,
          0,
          0,
          0,
          0,
          0,
          0,
          0,
          0,
          0,
          0,
          0,
          0,
          0,
          0,
          0,
          0,
          0,
          0,
          0,
          0,
          0,
          0,
          0,
          0,
          0,
          0,
          0,
          0,
          0,
          0,
          0,
          0,
          0,
          0,
          0,
          0,
          0,
          0,
          0,
          0,
          0,
          0,
          0,
          0,
          0,
          0,
          0,
          0,
          0,
          0,
          0,
          0,
          0,
          0,
          0,
          0,
          0,
          0,
          0,
          0,
          0,
          0,
          0,
          0,
          0,
          0,
          0,
          0,
          0,
          0,
          0.00013636961164611538,
          0.00011364134303842948,
          0.00027273922329223077,
          0.0010227720873458655,
          0.0004363827572675692,
          0.000487034327307555,
          0.00037880447679476497,
          0.00021645970102558,
          0.0027273922329223077,
          0.0006225569227322659,
          0.0016529649896498836,
          0.0011132213195601257,
          0.0027273922329223077,
          0.0027273922329223077,
          0.007219567675382579,
          0.015341581310187981,
          0.001792286324491802,
          0.005764715401403969,
          0.00843786972060339,
          0.004545653721537179,
          0.008021741861536199,
          0.010909568931689232,
          0.003409240291152885,
          0.0025202485190294745,
          0.01363696116461154,
          0.0016655830430059896,
          0.022315027360273427,
          0.014394570118201068,
          0.016043483723072398,
          0.003186205879582135,
          0.030683162620375962,
          0.0037071350738749815,
          0.026070661049992647,
          0.05757828047280427,
          0.016488325771757587,
          0.032086967446144796,
          0.007576089535895299,
          0.025975164123069598,
          0.032086967446144796,
          0.06060871628716239,
          0.0027273922329223077,
          0.030216635001586622,
          0.006220124123042202,
          0.040910883493834614,
          0.03588673990687247,
          0.06818480582305769,
          0.026224925316560652,
          0.045939512923285124,
          0.0688046676941764,
          0.002353207322917723,
          0.0458041460293717,
          0.09091307443074359,
          0.013197059191559554,
          0.05741878385099595,
          0.04418375417334139,
          0.15171119295630336,
          0.023414405018483964,
          0.06273002135721309,
          0.007138911910217406,
          0.10385070425358019,
          0.03292827208040347,
          0.025988900988711608,
          0.09091307443074359,
          0.015322428274844426,
          0.11364134303842949,
          0.04132412474124709,
          0.09091307443074359,
          0.043990197305198514,
          0.02194901368399381,
          0.03695616475609727,
          0.09375410800670433,
          0.024567837848120475,
          0.21648675848820817,
          0.07954894012690064,
          0.10120060653738037,
          0.046105916318448535,
          0.11679656150396707,
          0.2657502806953674,
          0.2413742126136242,
          0.10390065649227839,
          0.009162333282473378,
          0.029319466503914808,
          0.01658549330831133,
          0.051138604367293276,
          0.07918235514935733,
          0.20910007119071028,
          0.02800709228430972,
          0.265920742709925,
          0.02964556774915552,
          0.009953986251541268,
          0.13773330776257656,
          0.33289337420723947,
          0.33486315748657225,
          0.19091745630456156,
          0.1332864726002032,
          0.030750010469222096,
          0.029589632715666548,
          0.297533698136979,
          0.3272870679506769,
          0.36365229772297436,
          0.40910883493834616,
          0.36819795144451156,
          0.18273527960579464,
          0.038865339319142884,
          0.39301722076410456,
          0.07909437475474693,
          0.02390575722230095,
          0.4530501542465389,
          0.19448904137148362,
          0.08523100727882212,
          0.21532043944123483,
          0.16364353397533848,
          0.27273922329223077,
          0.16259453696267603,
          0.16369598382597156,
          0.27273922329223077,
          0.030593445770608782,
          0.6409371747367423,
          0.14727918057780462,
          0.4059618439003589,
          0.16620046419370313,
          0.2532578501999286,
          0.0655559940322892,
          0.24794474844748252,
          0.25104405780307604,
          0.3485948197703825,
          0.27193340285977646,
          0.03993044837742464,
          0.418381968530282,
          0.05810277897913549,
          0.4554745028980254,
          0.7712459147541415,
          0.3934263295990429,
          0.2769352113428805,
          0.10507932404238343,
          0.24708469010130532,
          0.04927711733715457,
          0.5843437859036044,
          0.17787340649493313,
          0.3780279276173357,
          0.14007966725707588,
          0.2146515716931833,
          0.30114955905183816,
          0.2863761844568423,
          0.008050617822160879,
          0.11277766883133741,
          0.6390431523527684,
          0.18863717755244616,
          0.12273265048150385,
          0.07978507798256491,
          0.04666010234846062,
          0.2694782108398237,
          0.25708294287824407,
          0.34092402911528846,
          0.06234039389536704,
          0.13674987306320552,
          0.25942459030060094,
          0.6508549646746417,
          0.16703691733490458,
          0.457093892036323,
          0.4022534977042442,
          0.3652044721644748,
          1.1538967139286687,
          0.10900032595210482,
          0.27673461366852925,
          0.131613305678946,
          0.22375106280089546,
          0.11094272076577007,
          0.29751303607460844,
          0.05036245817334996,
          0.14863230540654127,
          0.24140747349451352,
          0.34570714235959255,
          0.09686045563453966,
          0.08840308302798176,
          0.13997727332987506,
          0.30415020125566183,
          1.3038233631574785,
          0.38328952180001497,
          0.1434275705708241,
          1.143556600518139,
          0.937633221696534,
          0.5387438857631688,
          0.19690102089719722,
          0.23023870586382308,
          0.6018725259851936,
          0.6439676105511004,
          0.520163857755901,
          1.2992235945106847,
          0.4404497094025021,
          3.665907381643966,
          1.157597892067685,
          3.4850011865118375,
          0.23371462019306324,
          1.7900085024071637,
          0.923222270844201,
          0.8296424128968225,
          0.5296815372085424,
          0.2544233047778845,
          7.147282868163625,
          0.24324172541254352,
          0.34831099024734796,
          0.2721119230786586,
          1.2294672791654608,
          0.6157402292941152,
          2.123097330758643,
          -1.6992597143638544,
          -1.486366441493174,
          -0.6687864892214673,
          -2.7346448928235043,
          -0.2516817569218139,
          -1.5374402051068232,
          -0.38279625495379704,
          -1.25012337955801,
          -0.9836542432273455,
          -1.0374031527978793,
          -0.6868809777892635,
          -0.6442153993980332,
          -0.6042140006069815,
          -0.038356653375148805,
          -0.46584438214736756,
          -0.2951885193805099,
          -0.41264895105067206,
          -0.24365352370532947,
          -0.3394667972875862,
          -0.32757725970142776,
          -0.23594582347706008,
          -0.21724030098159414,
          -0.14888570946254473,
          -0.03295712730583505,
          -0.08786470772185531,
          -0.05199343239088539,
          -0.023430588725828958,
          -0.008050595983105481,
          -1.310900363285006e-15,
          -1.310900363285006e-15,
          0.04575422050397913,
          0.04907509134700929,
          0.04990091637146723,
          0.11549250820762542,
          0.07497788392264963,
          0.11104710967171562,
          0.22848726740510628,
          0.3809776828254708,
          0.33466998384765323,
          0.33443517479814616,
          0.3147447587894689,
          0.3877187668017083,
          0.26441176182009873,
          0.5591809793264888,
          0.12077446944561343,
          0.36898564922563754,
          1.0815891842926508,
          0.38737131347153547,
          0.3733212306040392,
          0.5248502769157777,
          0.3238203865848457,
          1.262176910784497,
          0.9474145812498271,
          0.6812771520770119,
          0.6627567237341221,
          -1.6066345065208363,
          -2.548771122255509,
          -0.3831096889433958,
          0.024084897952693148,
          0.14347291944588156,
          0.3877136543453359,
          0.8767192168694077,
          0.845949225788584,
          0.586032032168664,
          1.3491087346125978,
          1.6722087950793127,
          1.5377431215916428,
          1.6888572052164876,
          4.277022223163561,
          1.1296132620501274,
          -4.790323276768072,
          -0.5526533357622296,
          -0.3121683887627023,
          -0.06383637957422691,
          0,
          0,
          0.08174170555236374,
          0.8152011546599779,
          -1.3728720483250962,
          -0.19717551003491768,
          -0.18363000763450782,
          -0.828871499176277,
          -0.41629704726904027,
          -0.035263199184121866,
          -0.16896886748616569,
          -0.04474545935281772,
          -0.1372872048325096,
          -0.0265717170643567,
          -0.011767474699929099,
          -0.0032948929159802385,
          0,
          0,
          0,
          0,
          0,
          0,
          0,
          0,
          0,
          0,
          1.0838714011838736e-16,
          9.754842610654863e-17,
          1.8580652591723548e-16,
          0.009152480322167308,
          0.013074971888810391,
          0.0021451125755079627,
          0.20593080724876442,
          0.2114222954420649,
          0.13220249354241675,
          0.0366166019312397,
          0.10596251865945816,
          0.6653149157267774,
          0.8631573442117091,
          8.014712612117885,
          -0.15255234502867007,
          -29.67222222222223,
          -5.803888888888888,
          -2.023125000000002,
          -1.1603846153846151,
          -1.1855555555555528,
          -0.7070588235294107,
          -0.968333333333334,
          -0.2114893617021271,
          -0.5381249999999982,
          -0.32333333333333336,
          -0.0023529411764674035,
          1.7763568394002505e-15,
          0.02809523809523809,
          0.22799999999999726,
          0.20538461538461578,
          0.746249999999999,
          0.27411764705882313,
          1.1192857142857142,
          1.754545454545454,
          2.51,
          0.933243243243244,
          0.41854166666666576,
          0.7504938271604937,
          5.614000000000001,
          5.251176470588234,
          1.8175409836065584,
          3.7148571428571406
         ],
         "y0": " ",
         "yaxis": "y"
        },
        {
         "alignmentgroup": "True",
         "customdata": [
          [
           -80.2203696174881,
           96
          ],
          [
           -61.08250517800818,
           10740
          ],
          [
           -41.23245776633043,
           95
          ],
          [
           -2.685492185869702,
           8
          ],
          [
           -0.49768202110261356,
           34
          ],
          [
           0.6469866274333976,
           13
          ],
          [
           1.6408576235753183,
           159
          ],
          [
           2.1480676360030366,
           109
          ],
          [
           2.4884101055130676,
           19
          ],
          [
           4.110853494307587,
           44
          ],
          [
           8.39937947014879,
           131
          ],
          [
           13.751451925086304,
           259
          ],
          [
           13.935096590873183,
           257
          ],
          [
           14.239180305766912,
           872
          ],
          [
           24.386916716049168,
           17
          ],
          [
           27.592486613971094,
           179
          ],
          [
           54.28416876974647,
           32
          ],
          [
           55.995697240318464,
           437
          ],
          [
           56.21766342173013,
           495
          ],
          [
           59.95077626202084,
           475
          ],
          [
           72.54412212400136,
           273
          ],
          [
           73.71992730597411,
           42
          ],
          [
           82.86903333379631,
           1273
          ],
          [
           89.21855104666326,
           101
          ],
          [
           98.10777851093326,
           321
          ],
          [
           98.70029842507032,
           376
          ],
          [
           108.83310437471947,
           366
          ],
          [
           116.06492182336116,
           977
          ],
          [
           116.20228206118594,
           397
          ],
          [
           158.49231412235943,
           806
          ],
          [
           248.243792125984,
           743
          ],
          [
           487.1455950338501,
           269
          ],
          [
           1855.1923488754953,
           2181
          ],
          [
           2035.761339771943,
           3924
          ],
          [
           4812.9136141961835,
           7634
          ],
          [
           15581.515811034329,
           11187
          ],
          [
           15710.133831215191,
           15973
          ],
          [
           31685.447941938295,
           29349
          ],
          [
           96836.85150769685,
           19500
          ],
          [
           9.359728295331129,
           112
          ],
          [
           116.58238099626405,
           1098
          ],
          [
           1600.9925367625333,
           1884
          ],
          [
           1646.0725802084157,
           1638
          ],
          [
           1917.1276387968169,
           3574
          ],
          [
           3697.979760979554,
           3383
          ],
          [
           4526.482426966597,
           4107
          ],
          [
           4732.791921337655,
           2485
          ],
          [
           5267.525806220519,
           1624
          ],
          [
           17496.0580761411,
           10926
          ],
          [
           250658.60998364844,
           71657
          ],
          [
           -243.57111690849072,
           29
          ],
          [
           -193.85030063677675,
           875
          ],
          [
           -189.52578886069224,
           67
          ],
          [
           -142.24396776283075,
           168
          ],
          [
           -48.565891136318925,
           108
          ],
          [
           -25.0615052821218,
           318
          ],
          [
           -23.788504795983215,
           108
          ],
          [
           -17.506524121975595,
           40
          ],
          [
           -14.836912921046947,
           691
          ],
          [
           -11.398618372958829,
           705
          ],
          [
           -9.267074576427461,
           81
          ],
          [
           -2.416856002243428,
           13
          ],
          [
           -0.9224641230640938,
           9
          ],
          [
           -0.643879956053814,
           46
          ],
          [
           1.9168804477271726,
           12
          ],
          [
           2.4334603584879995,
           15
          ],
          [
           3.394667982285059,
           130
          ],
          [
           5.625186222444846,
           34
          ],
          [
           6.073503788467907,
           38
          ],
          [
           8.827981667132569,
           100
          ],
          [
           14.814773818438749,
           86
          ],
          [
           22.53948840029045,
           192
          ],
          [
           30.80476692744745,
           113
          ],
          [
           46.385185966368816,
           70
          ],
          [
           57.55807143451482,
           271
          ],
          [
           64.13893054786084,
           675
          ],
          [
           74.2509822183971,
           244
          ],
          [
           81.33735159185012,
           287
          ],
          [
           81.3521110205866,
           109
          ],
          [
           118.59752246117114,
           332
          ],
          [
           143.3158711356366,
           617
          ],
          [
           144.02063371772473,
           689
          ],
          [
           220.4338718232603,
           529
          ],
          [
           239.46615158133432,
           642
          ],
          [
           250.73497331348196,
           344
          ],
          [
           261.81007762424895,
           839
          ],
          [
           293.44875207503696,
           568
          ],
          [
           346.0716404970978,
           1368
          ],
          [
           347.1177148556573,
           2288
          ],
          [
           736.5876026600178,
           2791
          ],
          [
           1400.9647135575685,
           7204
          ],
          [
           3239.8415953781246,
           8281
          ],
          [
           7770.315659006786,
           13394
          ],
          [
           -768.2856898557453,
           815
          ],
          [
           4.305053181683774,
           10
          ],
          [
           6.063002194102373,
           11
          ],
          [
           13.014000051773577,
           33
          ],
          [
           18.355309657109768,
           17
          ],
          [
           100.57335338383629,
           180
          ],
          [
           255.5748791361035,
           392
          ],
          [
           303.3791686572041,
           880
          ],
          [
           508.2755390925969,
           232
          ],
          [
           1208.5824937773637,
           1198
          ],
          [
           5608.356258839754,
           2078
          ],
          [
           7415.125421543104,
           18115
          ],
          [
           21535.75555330698,
           11875
          ],
          [
           -69.48166416770596,
           36
          ],
          [
           -25.42802292504519,
           16
          ],
          [
           6.3419419026666475,
           11
          ],
          [
           10.327620755853873,
           149
          ],
          [
           11.469024564550258,
           187
          ],
          [
           11.6971539873604,
           38
          ],
          [
           14.525005955467117,
           55
          ],
          [
           65.04042711208889,
           24
          ],
          [
           82.61227807126943,
           87
          ],
          [
           174.24673149951656,
           149
          ],
          [
           2057.4702016451106,
           708
          ],
          [
           5381.565032019393,
           2135
          ],
          [
           -3.289401427786949,
           86
          ],
          [
           48.96485447556284,
           203
          ],
          [
           80.64524986271269,
           299
          ],
          [
           106.58704008786384,
           323
          ],
          [
           113.89346512904994,
           228
          ],
          [
           140.09335529928615,
           22
          ],
          [
           2030.7852828116438,
           1144
          ],
          [
           3157.2075782537086,
           1926
          ],
          [
           5220.661724327285,
           2287
          ],
          [
           15766.786038570905,
           7092
          ],
          [
           -13.760334214823116,
           32
          ],
          [
           -2.6767746947303657,
           10
          ],
          [
           -0.1286499461261235,
           11
          ],
          [
           3.292243092574156,
           96
          ],
          [
           4.161597920852245,
           8
          ],
          [
           32.53352493143517,
           36
          ],
          [
           36.025480038891935,
           80
          ],
          [
           54.37197169590126,
           94
          ],
          [
           320.8933228832404,
           337
          ],
          [
           -581.2,
           356
          ],
          [
           -70.26999999999991,
           153
          ],
          [
           -68.28,
           169
          ],
          [
           -63.93000000000003,
           78
          ],
          [
           7.519999999999982,
           12
          ],
          [
           13.91000000000001,
           23
          ],
          [
           87.92000000000002,
           326
          ],
          [
           344.15999999999957,
           438
          ],
          [
           568.8599999999998,
           372
          ],
          [
           636.1099999999996,
           609
          ],
          [
           673.8700000000007,
           485
          ],
          [
           1588.5099999999975,
           977
          ],
          [
           4951.81000000001,
           2985
          ]
         ],
         "hovertemplate": "<b>%{hovertext}</b><br><br>Service type=Full service<br>Country=%{x}<br>Markup per order (USD)=%{y}<br>Markup (USD)=%{customdata[0]}<br>Total orders=%{customdata[1]}<extra></extra>",
         "hovertext": [
          "City Market Farmacia",
          "City Market",
          "Modelorama",
          "Farmacias Purex",
          "The Home Store",
          "K",
          "Maskota",
          "El Globo",
          "Innovasport",
          "Extra",
          "Steren",
          "Parisina",
          "Nespresso",
          "Fantasías Miguel",
          "GamePlanet",
          "Chedraui Farmacia",
          "Mixup",
          "Alsuper Plus",
          "Circle K",
          "Bed Bath and Beyond",
          "Bodegas Alianza",
          "HEB Home",
          "Fresh Market",
          "Juguetron",
          "Krispy Kreme",
          "Vinoteca",
          "Sumesa",
          "Alsuper",
          "OXXO",
          "Lumen",
          "OfficeMax",
          "Sanborns",
          "Petco",
          "Fresko",
          "La Comer",
          "Soriana",
          "Costco",
          "Chedraui",
          "HEB",
          "Liquimax",
          "Casaideas",
          "Unimarc",
          "Paris",
          "Easy",
          "Farmacias Ahumada",
          "Santa Isabel",
          "Salcobrand",
          "SPID 35",
          "Lider",
          "Jumbo",
          "Hippo",
          "Kalunga",
          "Akkí Atacadista",
          "Supermercado Tatico",
          "Mercantil Rodrigues",
          "Nacional",
          "Supermercado Violeta",
          "Casa do Sabão",
          "Carrefour Bairro",
          "Hirota Supermercados",
          "Varanda",
          "Callfarma",
          "Exclusiva Sex",
          "Muffato Gourmet",
          "Hirota Express",
          "Rede Big Market",
          "Mercadorama",
          "Poupafarma",
          "Gimba",
          "Public Superatacados",
          "Perini",
          "Bretas",
          "Bompreço",
          "Super Bompreço",
          "Muffato",
          "Emporium São Paulo",
          "GBarbosa",
          "Carrefour Drogaria",
          "Princesa Supermercados",
          "Barbosa Supermercados",
          "Roldão Atacadista",
          "BIG Bompreço",
          "Bem Barato Supermercados",
          "Droga Raia",
          "Super Nosso",
          "Carrefour Pamplona",
          "Drogasil",
          "Maxxi",
          "Prezunic",
          "Sam's Club",
          "Big",
          "Atacadão",
          "Carrefour Hiper",
          "Organic Garage",
          "Well.ca Pharmacy",
          "Brunet",
          "Canadian Tire",
          "The Body Shop",
          "Galleria Supermarket",
          "Jean Coutu",
          "Rexall",
          "H&M",
          "Costco",
          "Longo's",
          "Walmart",
          "Metro",
          "Locatel",
          "Puppis",
          "Metro",
          "Justo & Bueno",
          "Ara",
          "Farmatodo",
          "Surtifruver",
          "Easy",
          "Colsubsidio",
          "Euro",
          "Alkosto",
          "Jumbo",
          "Boticas Perú",
          "Tai Loy",
          "Inkafarma",
          "Flora & Fauna",
          "Casaideas",
          "Wong Gourmet",
          "Vivanda",
          "Makro",
          "Metro",
          "Wong",
          "Maxiconsumo",
          "Super Fácil",
          "Super Salón",
          "Fresh Market",
          "Fischel",
          "Mayca",
          "Saretto",
          "Super Compro",
          "Perimercado",
          "Gristedes",
          "D'Agostino",
          "Streets Market",
          "Aqui Market",
          "The Body Shop",
          "Cox Farms Market",
          "Westside Market",
          "Fiesta Mart",
          "Albertsons",
          "Randalls",
          "Fresco y Más",
          "Tom Thumb",
          "Winn-Dixie"
         ],
         "legendgroup": "Full service",
         "marker": {
          "color": "#EF553B"
         },
         "name": "Full service",
         "notched": false,
         "offsetgroup": "Full service",
         "orientation": "v",
         "showlegend": true,
         "type": "box",
         "x": [
          "MX",
          "MX",
          "MX",
          "MX",
          "MX",
          "MX",
          "MX",
          "MX",
          "MX",
          "MX",
          "MX",
          "MX",
          "MX",
          "MX",
          "MX",
          "MX",
          "MX",
          "MX",
          "MX",
          "MX",
          "MX",
          "MX",
          "MX",
          "MX",
          "MX",
          "MX",
          "MX",
          "MX",
          "MX",
          "MX",
          "MX",
          "MX",
          "MX",
          "MX",
          "MX",
          "MX",
          "MX",
          "MX",
          "MX",
          "CL",
          "CL",
          "CL",
          "CL",
          "CL",
          "CL",
          "CL",
          "CL",
          "CL",
          "CL",
          "CL",
          "BR",
          "BR",
          "BR",
          "BR",
          "BR",
          "BR",
          "BR",
          "BR",
          "BR",
          "BR",
          "BR",
          "BR",
          "BR",
          "BR",
          "BR",
          "BR",
          "BR",
          "BR",
          "BR",
          "BR",
          "BR",
          "BR",
          "BR",
          "BR",
          "BR",
          "BR",
          "BR",
          "BR",
          "BR",
          "BR",
          "BR",
          "BR",
          "BR",
          "BR",
          "BR",
          "BR",
          "BR",
          "BR",
          "BR",
          "BR",
          "BR",
          "BR",
          "BR",
          "CA",
          "CA",
          "CA",
          "CA",
          "CA",
          "CA",
          "CA",
          "CA",
          "CA",
          "CA",
          "CA",
          "CA",
          "CA",
          "CO",
          "CO",
          "CO",
          "CO",
          "CO",
          "CO",
          "CO",
          "CO",
          "CO",
          "CO",
          "CO",
          "CO",
          "PE",
          "PE",
          "PE",
          "PE",
          "PE",
          "PE",
          "PE",
          "PE",
          "PE",
          "PE",
          "CR",
          "CR",
          "CR",
          "CR",
          "CR",
          "CR",
          "CR",
          "CR",
          "CR",
          "US",
          "US",
          "US",
          "US",
          "US",
          "US",
          "US",
          "US",
          "US",
          "US",
          "US",
          "US",
          "US"
         ],
         "x0": " ",
         "xaxis": "x",
         "y": [
          -0.8356288501821677,
          -0.0056873840947866084,
          -0.4340258712245308,
          -0.33568652323371273,
          -0.014637706503018046,
          0.04976820211026135,
          0.010319859267769297,
          0.01970704253213795,
          0.1309689529217404,
          0.09342848850699062,
          0.06411740053548695,
          0.0530944089771672,
          0.054222165723241955,
          0.016329335213035447,
          1.4345245127087747,
          0.15414796991045304,
          1.6963802740545773,
          0.1281366069572505,
          0.11357103721561643,
          0.12621216055162282,
          0.26572938506960203,
          1.755236364427955,
          0.06509743388357919,
          0.8833519905610224,
          0.3056317087568014,
          0.26250079368369766,
          0.2973582086740969,
          0.11879725877519054,
          0.29270096237074544,
          0.19664058824114072,
          0.33411008361505246,
          1.8109501674120823,
          0.850615474037366,
          0.5187974871997816,
          0.6304576387472077,
          1.392823438905366,
          0.9835430934210976,
          1.0796091158791883,
          4.965992385010095,
          0.08356900263688508,
          0.10617703187273593,
          0.849783724396249,
          1.004928315145553,
          0.5364095240058245,
          1.0931066393672935,
          1.1021384044233253,
          1.904544032731451,
          3.243550373288497,
          1.6013232725737783,
          3.4980338275904437,
          -8.399004031327266,
          -0.22154320072774486,
          -2.8287431173237647,
          -0.846690284302564,
          -0.4496841771881382,
          -0.07880976503811887,
          -0.22026393329614088,
          -0.4376631030493899,
          -0.021471654010198186,
          -0.01616825301128912,
          -0.11440832810404274,
          -0.18591200017257137,
          -0.10249601367378819,
          -0.013997390348995956,
          0.15974003731059772,
          0.16223069056586664,
          0.026112830632961992,
          0.165446653601319,
          0.1598290470649449,
          0.08827981667132569,
          0.17226481184231102,
          0.11739316875151275,
          0.2726085568800659,
          0.6626455138052688,
          0.21239140750743477,
          0.09502063784868273,
          0.3043073041737586,
          0.28340540624338023,
          0.7463496423907028,
          0.3572214531962986,
          0.23227855937704472,
          0.20902849596186462,
          0.4166991905921745,
          0.3730002361079974,
          0.728880736376401,
          0.31205015211471865,
          0.5166351268926707,
          0.2529763453926154,
          0.1517122879613887,
          0.2639153001289924,
          0.194470393331145,
          0.3912379658710451,
          0.5801340644323417,
          -0.9426818280438592,
          0.4305053181683774,
          0.5511820176456703,
          0.39436363793253265,
          1.0797240974770452,
          0.5587408521324239,
          0.6519767324900599,
          0.3447490552922774,
          2.190842840916366,
          1.0088334672599029,
          2.6989202400576295,
          0.4093362087520344,
          1.8135373097521668,
          -1.930046226880721,
          -1.5892514328153244,
          0.5765401729696952,
          0.06931289097888506,
          0.061331682163370364,
          0.3078198417726421,
          0.2640910173721294,
          2.7100177963370373,
          0.9495664146122923,
          1.1694411510034668,
          2.906031358255806,
          2.5206393592596688,
          -0.038248853811476156,
          0.24120617968257554,
          0.2697165547247916,
          0.329990836185337,
          0.4995327417940787,
          6.367879786331188,
          1.7751619604996887,
          1.6392562711597656,
          2.282755454450059,
          2.2231790804527503,
          -0.4300104442132224,
          -0.26767746947303656,
          -0.011695449647829408,
          0.03429419888098079,
          0.5201997401065306,
          0.9037090258731991,
          0.4503185004861492,
          0.5784252308074602,
          0.9522057058849863,
          -1.6325842696629216,
          -0.4592810457516334,
          -0.40402366863905326,
          -0.819615384615385,
          0.6266666666666652,
          0.6047826086956526,
          0.2696932515337424,
          0.7857534246575333,
          1.5291935483870962,
          1.0445155993431847,
          1.3894226804123726,
          1.625905834186282,
          1.6588978224455646
         ],
         "y0": " ",
         "yaxis": "y"
        }
       ],
       "layout": {
        "annotations": [
         {
          "showarrow": false,
          "text": "Data from stores with at least 8 weekly orders",
          "x": "CR",
          "y": -3.5
         }
        ],
        "boxmode": "group",
        "legend": {
         "title": {
          "text": "Service type"
         },
         "tracegroupgap": 0
        },
        "template": {
         "data": {
          "bar": [
           {
            "error_x": {
             "color": "#2a3f5f"
            },
            "error_y": {
             "color": "#2a3f5f"
            },
            "marker": {
             "line": {
              "color": "#E5ECF6",
              "width": 0.5
             }
            },
            "type": "bar"
           }
          ],
          "barpolar": [
           {
            "marker": {
             "line": {
              "color": "#E5ECF6",
              "width": 0.5
             }
            },
            "type": "barpolar"
           }
          ],
          "carpet": [
           {
            "aaxis": {
             "endlinecolor": "#2a3f5f",
             "gridcolor": "white",
             "linecolor": "white",
             "minorgridcolor": "white",
             "startlinecolor": "#2a3f5f"
            },
            "baxis": {
             "endlinecolor": "#2a3f5f",
             "gridcolor": "white",
             "linecolor": "white",
             "minorgridcolor": "white",
             "startlinecolor": "#2a3f5f"
            },
            "type": "carpet"
           }
          ],
          "choropleth": [
           {
            "colorbar": {
             "outlinewidth": 0,
             "ticks": ""
            },
            "type": "choropleth"
           }
          ],
          "contour": [
           {
            "colorbar": {
             "outlinewidth": 0,
             "ticks": ""
            },
            "colorscale": [
             [
              0,
              "#0d0887"
             ],
             [
              0.1111111111111111,
              "#46039f"
             ],
             [
              0.2222222222222222,
              "#7201a8"
             ],
             [
              0.3333333333333333,
              "#9c179e"
             ],
             [
              0.4444444444444444,
              "#bd3786"
             ],
             [
              0.5555555555555556,
              "#d8576b"
             ],
             [
              0.6666666666666666,
              "#ed7953"
             ],
             [
              0.7777777777777778,
              "#fb9f3a"
             ],
             [
              0.8888888888888888,
              "#fdca26"
             ],
             [
              1,
              "#f0f921"
             ]
            ],
            "type": "contour"
           }
          ],
          "contourcarpet": [
           {
            "colorbar": {
             "outlinewidth": 0,
             "ticks": ""
            },
            "type": "contourcarpet"
           }
          ],
          "heatmap": [
           {
            "colorbar": {
             "outlinewidth": 0,
             "ticks": ""
            },
            "colorscale": [
             [
              0,
              "#0d0887"
             ],
             [
              0.1111111111111111,
              "#46039f"
             ],
             [
              0.2222222222222222,
              "#7201a8"
             ],
             [
              0.3333333333333333,
              "#9c179e"
             ],
             [
              0.4444444444444444,
              "#bd3786"
             ],
             [
              0.5555555555555556,
              "#d8576b"
             ],
             [
              0.6666666666666666,
              "#ed7953"
             ],
             [
              0.7777777777777778,
              "#fb9f3a"
             ],
             [
              0.8888888888888888,
              "#fdca26"
             ],
             [
              1,
              "#f0f921"
             ]
            ],
            "type": "heatmap"
           }
          ],
          "heatmapgl": [
           {
            "colorbar": {
             "outlinewidth": 0,
             "ticks": ""
            },
            "colorscale": [
             [
              0,
              "#0d0887"
             ],
             [
              0.1111111111111111,
              "#46039f"
             ],
             [
              0.2222222222222222,
              "#7201a8"
             ],
             [
              0.3333333333333333,
              "#9c179e"
             ],
             [
              0.4444444444444444,
              "#bd3786"
             ],
             [
              0.5555555555555556,
              "#d8576b"
             ],
             [
              0.6666666666666666,
              "#ed7953"
             ],
             [
              0.7777777777777778,
              "#fb9f3a"
             ],
             [
              0.8888888888888888,
              "#fdca26"
             ],
             [
              1,
              "#f0f921"
             ]
            ],
            "type": "heatmapgl"
           }
          ],
          "histogram": [
           {
            "marker": {
             "colorbar": {
              "outlinewidth": 0,
              "ticks": ""
             }
            },
            "type": "histogram"
           }
          ],
          "histogram2d": [
           {
            "colorbar": {
             "outlinewidth": 0,
             "ticks": ""
            },
            "colorscale": [
             [
              0,
              "#0d0887"
             ],
             [
              0.1111111111111111,
              "#46039f"
             ],
             [
              0.2222222222222222,
              "#7201a8"
             ],
             [
              0.3333333333333333,
              "#9c179e"
             ],
             [
              0.4444444444444444,
              "#bd3786"
             ],
             [
              0.5555555555555556,
              "#d8576b"
             ],
             [
              0.6666666666666666,
              "#ed7953"
             ],
             [
              0.7777777777777778,
              "#fb9f3a"
             ],
             [
              0.8888888888888888,
              "#fdca26"
             ],
             [
              1,
              "#f0f921"
             ]
            ],
            "type": "histogram2d"
           }
          ],
          "histogram2dcontour": [
           {
            "colorbar": {
             "outlinewidth": 0,
             "ticks": ""
            },
            "colorscale": [
             [
              0,
              "#0d0887"
             ],
             [
              0.1111111111111111,
              "#46039f"
             ],
             [
              0.2222222222222222,
              "#7201a8"
             ],
             [
              0.3333333333333333,
              "#9c179e"
             ],
             [
              0.4444444444444444,
              "#bd3786"
             ],
             [
              0.5555555555555556,
              "#d8576b"
             ],
             [
              0.6666666666666666,
              "#ed7953"
             ],
             [
              0.7777777777777778,
              "#fb9f3a"
             ],
             [
              0.8888888888888888,
              "#fdca26"
             ],
             [
              1,
              "#f0f921"
             ]
            ],
            "type": "histogram2dcontour"
           }
          ],
          "mesh3d": [
           {
            "colorbar": {
             "outlinewidth": 0,
             "ticks": ""
            },
            "type": "mesh3d"
           }
          ],
          "parcoords": [
           {
            "line": {
             "colorbar": {
              "outlinewidth": 0,
              "ticks": ""
             }
            },
            "type": "parcoords"
           }
          ],
          "pie": [
           {
            "automargin": true,
            "type": "pie"
           }
          ],
          "scatter": [
           {
            "marker": {
             "colorbar": {
              "outlinewidth": 0,
              "ticks": ""
             }
            },
            "type": "scatter"
           }
          ],
          "scatter3d": [
           {
            "line": {
             "colorbar": {
              "outlinewidth": 0,
              "ticks": ""
             }
            },
            "marker": {
             "colorbar": {
              "outlinewidth": 0,
              "ticks": ""
             }
            },
            "type": "scatter3d"
           }
          ],
          "scattercarpet": [
           {
            "marker": {
             "colorbar": {
              "outlinewidth": 0,
              "ticks": ""
             }
            },
            "type": "scattercarpet"
           }
          ],
          "scattergeo": [
           {
            "marker": {
             "colorbar": {
              "outlinewidth": 0,
              "ticks": ""
             }
            },
            "type": "scattergeo"
           }
          ],
          "scattergl": [
           {
            "marker": {
             "colorbar": {
              "outlinewidth": 0,
              "ticks": ""
             }
            },
            "type": "scattergl"
           }
          ],
          "scattermapbox": [
           {
            "marker": {
             "colorbar": {
              "outlinewidth": 0,
              "ticks": ""
             }
            },
            "type": "scattermapbox"
           }
          ],
          "scatterpolar": [
           {
            "marker": {
             "colorbar": {
              "outlinewidth": 0,
              "ticks": ""
             }
            },
            "type": "scatterpolar"
           }
          ],
          "scatterpolargl": [
           {
            "marker": {
             "colorbar": {
              "outlinewidth": 0,
              "ticks": ""
             }
            },
            "type": "scatterpolargl"
           }
          ],
          "scatterternary": [
           {
            "marker": {
             "colorbar": {
              "outlinewidth": 0,
              "ticks": ""
             }
            },
            "type": "scatterternary"
           }
          ],
          "surface": [
           {
            "colorbar": {
             "outlinewidth": 0,
             "ticks": ""
            },
            "colorscale": [
             [
              0,
              "#0d0887"
             ],
             [
              0.1111111111111111,
              "#46039f"
             ],
             [
              0.2222222222222222,
              "#7201a8"
             ],
             [
              0.3333333333333333,
              "#9c179e"
             ],
             [
              0.4444444444444444,
              "#bd3786"
             ],
             [
              0.5555555555555556,
              "#d8576b"
             ],
             [
              0.6666666666666666,
              "#ed7953"
             ],
             [
              0.7777777777777778,
              "#fb9f3a"
             ],
             [
              0.8888888888888888,
              "#fdca26"
             ],
             [
              1,
              "#f0f921"
             ]
            ],
            "type": "surface"
           }
          ],
          "table": [
           {
            "cells": {
             "fill": {
              "color": "#EBF0F8"
             },
             "line": {
              "color": "white"
             }
            },
            "header": {
             "fill": {
              "color": "#C8D4E3"
             },
             "line": {
              "color": "white"
             }
            },
            "type": "table"
           }
          ]
         },
         "layout": {
          "annotationdefaults": {
           "arrowcolor": "#2a3f5f",
           "arrowhead": 0,
           "arrowwidth": 1
          },
          "autotypenumbers": "strict",
          "coloraxis": {
           "colorbar": {
            "outlinewidth": 0,
            "ticks": ""
           }
          },
          "colorscale": {
           "diverging": [
            [
             0,
             "#8e0152"
            ],
            [
             0.1,
             "#c51b7d"
            ],
            [
             0.2,
             "#de77ae"
            ],
            [
             0.3,
             "#f1b6da"
            ],
            [
             0.4,
             "#fde0ef"
            ],
            [
             0.5,
             "#f7f7f7"
            ],
            [
             0.6,
             "#e6f5d0"
            ],
            [
             0.7,
             "#b8e186"
            ],
            [
             0.8,
             "#7fbc41"
            ],
            [
             0.9,
             "#4d9221"
            ],
            [
             1,
             "#276419"
            ]
           ],
           "sequential": [
            [
             0,
             "#0d0887"
            ],
            [
             0.1111111111111111,
             "#46039f"
            ],
            [
             0.2222222222222222,
             "#7201a8"
            ],
            [
             0.3333333333333333,
             "#9c179e"
            ],
            [
             0.4444444444444444,
             "#bd3786"
            ],
            [
             0.5555555555555556,
             "#d8576b"
            ],
            [
             0.6666666666666666,
             "#ed7953"
            ],
            [
             0.7777777777777778,
             "#fb9f3a"
            ],
            [
             0.8888888888888888,
             "#fdca26"
            ],
            [
             1,
             "#f0f921"
            ]
           ],
           "sequentialminus": [
            [
             0,
             "#0d0887"
            ],
            [
             0.1111111111111111,
             "#46039f"
            ],
            [
             0.2222222222222222,
             "#7201a8"
            ],
            [
             0.3333333333333333,
             "#9c179e"
            ],
            [
             0.4444444444444444,
             "#bd3786"
            ],
            [
             0.5555555555555556,
             "#d8576b"
            ],
            [
             0.6666666666666666,
             "#ed7953"
            ],
            [
             0.7777777777777778,
             "#fb9f3a"
            ],
            [
             0.8888888888888888,
             "#fdca26"
            ],
            [
             1,
             "#f0f921"
            ]
           ]
          },
          "colorway": [
           "#636efa",
           "#EF553B",
           "#00cc96",
           "#ab63fa",
           "#FFA15A",
           "#19d3f3",
           "#FF6692",
           "#B6E880",
           "#FF97FF",
           "#FECB52"
          ],
          "font": {
           "color": "#2a3f5f"
          },
          "geo": {
           "bgcolor": "white",
           "lakecolor": "white",
           "landcolor": "#E5ECF6",
           "showlakes": true,
           "showland": true,
           "subunitcolor": "white"
          },
          "hoverlabel": {
           "align": "left"
          },
          "hovermode": "closest",
          "mapbox": {
           "style": "light"
          },
          "paper_bgcolor": "white",
          "plot_bgcolor": "#E5ECF6",
          "polar": {
           "angularaxis": {
            "gridcolor": "white",
            "linecolor": "white",
            "ticks": ""
           },
           "bgcolor": "#E5ECF6",
           "radialaxis": {
            "gridcolor": "white",
            "linecolor": "white",
            "ticks": ""
           }
          },
          "scene": {
           "xaxis": {
            "backgroundcolor": "#E5ECF6",
            "gridcolor": "white",
            "gridwidth": 2,
            "linecolor": "white",
            "showbackground": true,
            "ticks": "",
            "zerolinecolor": "white"
           },
           "yaxis": {
            "backgroundcolor": "#E5ECF6",
            "gridcolor": "white",
            "gridwidth": 2,
            "linecolor": "white",
            "showbackground": true,
            "ticks": "",
            "zerolinecolor": "white"
           },
           "zaxis": {
            "backgroundcolor": "#E5ECF6",
            "gridcolor": "white",
            "gridwidth": 2,
            "linecolor": "white",
            "showbackground": true,
            "ticks": "",
            "zerolinecolor": "white"
           }
          },
          "shapedefaults": {
           "line": {
            "color": "#2a3f5f"
           }
          },
          "ternary": {
           "aaxis": {
            "gridcolor": "white",
            "linecolor": "white",
            "ticks": ""
           },
           "baxis": {
            "gridcolor": "white",
            "linecolor": "white",
            "ticks": ""
           },
           "bgcolor": "#E5ECF6",
           "caxis": {
            "gridcolor": "white",
            "linecolor": "white",
            "ticks": ""
           }
          },
          "title": {
           "x": 0.05
          },
          "xaxis": {
           "automargin": true,
           "gridcolor": "white",
           "linecolor": "white",
           "ticks": "",
           "title": {
            "standoff": 15
           },
           "zerolinecolor": "white",
           "zerolinewidth": 2
          },
          "yaxis": {
           "automargin": true,
           "gridcolor": "white",
           "linecolor": "white",
           "ticks": "",
           "title": {
            "standoff": 15
           },
           "zerolinecolor": "white",
           "zerolinewidth": 2
          }
         }
        },
        "title": {
         "text": "Markup per order distributions by country and service type, week: 2021-05"
        },
        "xaxis": {
         "anchor": "y",
         "domain": [
          0,
          1
         ],
         "title": {
          "text": "Country"
         }
        },
        "yaxis": {
         "anchor": "x",
         "domain": [
          0,
          1
         ],
         "dtick": 1,
         "range": [
          -5,
          5
         ],
         "title": {
          "text": "Markup per order (USD)"
         }
        }
       }
      },
      "text/html": [
       "<div>                            <div id=\"fe9df104-e272-43e8-aca6-46d0a0628c75\" class=\"plotly-graph-div\" style=\"height:525px; width:100%;\"></div>            <script type=\"text/javascript\">                require([\"plotly\"], function(Plotly) {                    window.PLOTLYENV=window.PLOTLYENV || {};                                    if (document.getElementById(\"fe9df104-e272-43e8-aca6-46d0a0628c75\")) {                    Plotly.newPlot(                        \"fe9df104-e272-43e8-aca6-46d0a0628c75\",                        [{\"alignmentgroup\": \"True\", \"customdata\": [[-407.44132167224586, 901.0], [-135.88560599579426, 17.0], [-72.46250227254053, 13.0], [-52.740856822307265, 118.0], [-48.5558487068554, 81.0], [-44.09462706969156, 9.0], [-42.900190219045285, 703.0], [-34.13700519147046, 38.0], [-32.02285196582658, 14.0], [-28.882478412669066, 33.0], [-27.994613687022014, 20.0], [-26.770315915109588, 15.0], [-25.630624086784596, 40.0], [-25.531087682564074, 46.0], [-23.452767562439572, 14.0], [-22.070704589837593, 55.0], [-20.778224381034114, 121.0], [-18.537659922030148, 13.0], [-15.975592877393895, 270.0], [-15.129533441519452, 20.0], [-14.796584169401804, 13.0], [-14.420834243469349, 50.0], [-14.034632995093702, 36.0], [-12.79042794233718, 55.0], [-12.185246604676388, 10.0], [-10.98234915967136, 259.0], [-10.931087911497807, 8.0], [-10.70016345370619, 10.0], [-10.248268178545016, 86.0], [-9.11604158053657, 22.0], [-8.810464819579568, 20.0], [-8.46059435874443, 28.0], [-7.8633759334212945, 36.0], [-7.506537924290719, 16.0], [-7.067084699657112, 8.0], [-6.967548295436587, 9.0], [-6.6405712075721715, 28.0], [-6.5982682357784554, 22.0], [-6.345445769058323, 32.0], [-5.412291979490923, 8.0], [-5.177883747551602, 27.0], [-4.230297179372215, 10.0], [-4.085969393252457, 45.0], [-4.044661785500935, 12.0], [-3.6330787540490803, 15.0], [-3.5643986351369144, 8.0], [-3.4544109084731995, 20.0], [-3.23344009110368, 27.0], [-2.9860921266156812, 64.0], [-2.8591832112345172, 16.0], [-2.7621352171194955, 119.0], [-2.5879465097335905, 36.0], [-2.5381783076233293, 9.0], [-2.4884101055130676, 8.0], [-2.470991234774481, 10.0], [-2.239569094961761, 31.0], [-2.114153225643903, 21.0], [-1.9409598823001928, 35.0], [-1.9160757812450622, 34.0], [-1.853865528607234, 9.0], [-1.4930460633078406, 26.0], [-1.4432778611975794, 16.0], [-1.393509659087318, 8.0], [-1.2939732548667953, 25.0], [-1.1446686485360076, 11.0], [-1.0685232993073124, 11.0], [-0.9022975042590347, 80.0], [-0.8072402382284348, 16.0], [-0.7947981877008755, 62.0], [-0.7281087968731262, 10.0], [-0.619614116272742, 55.0], [-0.4479138189923522, 17.0], [-0.4479138189923522, 80.0], [-0.4479138189923522, 13.0], [-0.3981456168820908, 24.0], [-0.3981456168820908, 15.0], [-0.3757499259324667, 11.0], [-0.29860921266156815, 41.0], [-0.25630624086784487, 22.0], [-0.24884101055130678, 8.0], [0.0, 10.0], [0.0, 16.0], [0.0, 15.0], [0.0, 10.0], [0.0, 11.0], [0.0, 18.0], [0.0, 17.0], [0.0, 14.0], [0.0, 9.0], [0.0, 8.0], [0.0, 26.0], [0.0, 8.0], [0.0, 11.0], [0.0, 10.0], [0.0, 11.0], [0.0, 15.0], [0.0, 9.0], [0.0, 8.0], [0.0, 10.0], [0.0, 24.0], [0.0, 15.0], [0.0, 31.0], [0.0, 19.0], [4.2434921377544036e-15, 9.0], [0.04976820211026135, 18.0], [0.23739432406594577, 8.0], [0.24884101055130678, 23.0], [0.40013634496649947, 15.0], [0.49867738514481785, 14.0], [0.696754829543659, 20.0], [0.7505044878227461, 11.0], [0.8958276379847044, 17.0], [0.9953640422052271, 11.0], [1.0451322443154885, 33.0], [1.2442050527565338, 16.0], [1.293475572845693, 15.0], [1.3188573559219259, 25.0], [1.4432778611975794, 49.0], [1.5930801495494655, 13.0], [1.7418870738591474, 20.0], [1.7916552759694089, 11.0], [2.1902985748726027, 19.0], [2.316212126211569, 9.0], [2.3391054991822835, 33.0], [2.388873701292545, 42.0], [2.9467752469485804, 196.0], [2.9860921266156812, 10.0], [3.9814561688209085, 15.0], [4.130760775151693, 9.0], [4.727979200474829, 8.0], [5.160464876812994, 45.0], [5.225661221577442, 56.0], [5.607383331763151, 32.0], [6.382274238619936, 251.0], [6.881449305785839, 57.0], [7.012339677335829, 31.0], [7.216389305987897, 13.0], [9.117534626599886, 45.0], [9.844648059430796, 16.0], [10.152713230493317, 102.0], [12.043904910683247, 20.0], [12.1897257428663, 75.0], [12.714282593108488, 14.0], [14.836896413111123, 24.0], [15.218120841275736, 72.0], [16.821652313268338, 139.0], [17.790639208355127, 9.0], [18.25298580595947, 12.0], [18.4142347807967, 51.0], [25.829696895225638, 159.0], [26.849945038486002, 85.0], [30.058998710555652, 10.0], [30.119218235109116, 172.0], [48.739493372642265, 29.0], [54.262270760817955, 26.0], [117.5594609327327, 78.0], [-118.30882027970387, 47.0], [-64.10735443483884, 116.0], [-53.62734977983488, 724.0], [-51.67590063717896, 251.0], [-42.835058714161306, 68.0], [-41.19725967829146, 148.0], [-39.196717475442945, 108.0], [-33.12008758049205, 62.0], [-32.305960998964736, 46.0], [-29.6181159534198, 943.0], [-26.988909840882698, 76.0], [-26.451613570997, 105.0], [-26.371155500125795, 109.0], [-25.09200854288523, 81.0], [-20.98728323233716, 100.0], [-18.409897572225578, 374.0], [-17.91896697029956, 9.0], [-17.89169304797034, 72.0], [-17.098021908189946, 31.0], [-17.073475378093647, 87.0], [-16.942560550913377, 64.0], [-16.868920960624475, 19.0], [-16.364353397533847, 21.0], [-15.682505339303269, 31.0], [-15.587046611150988, 22.0], [-15.273396504364923, 13.0], [-15.101570793690819, 215.0], [-14.727918057780462, 233.0], [-14.605185407298958, 67.0], [-14.455178834488231, 8.0], [-14.182439611196001, 19.0], [-13.636961164611538, 31.0], [-13.20194210346043, 45.0], [-12.982387028710185, 267.0], [-11.318677766627577, 399.0], [-11.112759653041943, 56.0], [-11.058211808383497, 42.0], [-10.09135126181254, 32.0], [-9.924980335604278, 192.0], [-9.327681436594293, 40.0], [-9.254041846305391, 27.0], [-8.726291449234923, 14.0], [-8.724927753118463, 46.0], [-8.182176698766924, 82.0], [-8.168539737602313, 17.0], [-8.003532507510512, 32.0], [-7.804432874507183, 194.0], [-7.4457807958779005, 24.0], [-7.363959028890231, 23.0], [-7.363959028890231, 25.0], [-7.254863339573339, 31.0], [-7.173041572585669, 17.0], [-6.818480582305769, 28.0], [-6.590743330856757, 17.0], [-6.5321043978489275, 35.0], [-6.409371747367423, 97.0], [-6.000262912429077, 22.0], [-5.917077449324947, 22.0], [-5.892530919228646, 60.0], [-5.88571243864634, 65.0], [-5.842074162919583, 52.0], [-5.693431286225318, 65.0], [-5.662066275546711, 13.0], [-5.522969271667673, 18.0], [-5.454784465844615, 23.0], [-5.454784465844615, 45.0], [-5.4275105435153925, 35.0], [-5.413873582350781, 91.0], [-5.3184148541985, 16.0], [-4.929761461007072, 46.0], [-4.861576655184013, 48.0], [-4.811119898874951, 9.0], [-4.772936407614038, 9.0], [-4.636566795967923, 30.0], [-4.474286958109046, 27.0], [-4.3992836717036825, 366.0], [-4.363827572675692, 34.0], [-4.166091635788825, 133.0], [-4.101997918315151, 78.0], [-4.091088349383462, 28.0], [-4.091088349383462, 26.0], [-4.091088349383462, 20.0], [-3.954718737737346, 9.0], [-3.819712822207692, 70.0], [-3.818349126091231, 15.0], [-3.6819795144451155, 12.0], [-3.613794708622058, 8.0], [-3.4065128989199622, 356.0], [-3.395603329988273, 70.0], [-3.0001314562145387, 62.0], [-2.9455836115560925, 200.0], [-2.922400777576253, 125.0], [-2.9101275125281023, 11.0], [-2.881489894082418, 37.0], [-2.8501248834038115, 36.0], [-2.8460337950544283, 21.0], [-2.8364879222392, 47.0], [-2.810577696026438, 41.0], [-2.7273922329223077, 26.0], [-2.7273922329223077, 27.0], [-2.7273922329223077, 17.0], [-2.7273922329223077, 19.0], [-2.6987546144766235, 19.0], [-2.5719308756457364, 28.0], [-2.5364747766177462, 10.0], [-2.4614714902123827, 23.0], [-2.3714675465259467, 63.0], [-2.3182833979839614, 15.0], [-2.30464643681935, 235.0], [-2.241916415462137, 8.0], [-2.1832774824543075, 34.0], [-2.181913786337846, 68.0], [-2.1137289805147885, 196.0], [-1.9637224077040616, 19.0], [-1.9623587115876004, 8.0], [-1.827352796057946, 85.0], [-1.6364353397533846, 24.0], [-1.5737053183961716, 30.0], [-1.542340307717565, 9.0], [-1.3773330776257655, 83.0], [-1.3636961164611539, 61.0], [-1.3636961164611539, 18.0], [-1.3636961164611539, 14.0], [-1.3636961164611539, 16.0], [-1.3636961164611539, 13.0], [-1.3636961164611539, 84.0], [-1.3636961164611539, 8.0], [-1.3636961164611539, 10.0], [-1.3636961164611539, 14.0], [-1.3636961164611539, 14.0], [-1.3636961164611539, 8.0], [-1.3500591552965424, 26.0], [-1.3500591552965424, 11.0], [-1.3500591552965424, 45.0], [-1.3091482718027077, 70.0], [-1.2286902009314997, 40.0], [-1.1182308154981462, 8.0], [-1.090956893168923, 21.0], [-1.090956893168923, 9.0], [-1.0773199320043116, 65.0], [-1.0773199320043116, 9.0], [-1.0473186174421663, 18.0], [-0.9014031329808228, 17.0], [-0.8277635426919204, 32.0], [-0.8045807087120808, 49.0], [-0.8045807087120808, 56.0], [-0.7363959028890231, 49.0], [-0.6954850193951885, 16.0], [-0.6818480582305769, 24.0], [-0.5536606232832285, 57.0], [-0.5454784465844615, 28.0], [-0.5454784465844615, 68.0], [-0.5454784465844615, 26.0], [-0.40910883493834616, 634.0], [-0.40910883493834616, 15.0], [-0.36819795144451156, 8.0], [-0.34092402911528846, 11.0], [-0.27273922329223077, 22.0], [-0.2713755271757696, 23.0], [-0.2591022621276192, 13.0], [-0.23182833979839615, 94.0], [-0.2072818097020954, 100.0], [-0.20455441746917308, 186.0], [-0.1690983184411831, 17.0], [-0.16773462232472192, 43.0], [-0.13636961164611539, 8.0], [-0.13636961164611539, 12.0], [-0.13636961164611539, 93.0], [-0.12273265048150385, 10.0], [-0.12273265048150385, 12.0], [-0.12273265048150385, 20.0], [-0.07363959028890231, 49.0], [-0.06273002135721308, 14.0], [-0.05454784465844616, 27.0], [-0.035456099027990004, 19.0], [-0.02727392232922308, 303.0], [-0.01363696116461154, 20.0], [-0.01363696116461154, 13.0], [-0.01363696116461154, 23.0], [-0.01363696116461154, 23.0], [-0.012273265048150385, 41.0], [-0.00681848058230577, 11.0], [-0.004091088349383462, 36.0], [-0.0013636961164611538, 11.0], [0.0, 134.0], [0.0, 47.0], [0.0, 10.0], [0.0, 52.0], [0.0, 18.0], [0.0, 14.0], [0.0, 8.0], [0.0, 8.0], [0.0, 22.0], [0.0, 14.0], [0.0, 9.0], [0.0, 19.0], [0.0, 14.0], [0.0, 75.0], [0.0, 42.0], [0.0, 9.0], [0.0, 11.0], [0.0, 50.0], [0.0, 8.0], [0.0, 175.0], [0.0, 9.0], [0.0, 27.0], [0.0, 13.0], [0.0, 31.0], [0.0, 10.0], [0.0, 59.0], [0.0, 57.0], [0.0, 40.0], [0.0, 23.0], [0.0, 8.0], [0.0, 11.0], [0.0, 10.0], [0.0, 11.0], [0.0, 11.0], [0.0, 39.0], [0.0, 12.0], [0.0, 112.0], [0.0, 57.0], [0.0, 46.0], [0.0, 10.0], [0.0, 83.0], [0.0, 27.0], [0.0, 25.0], [0.0, 19.0], [0.0, 30.0], [0.0, 23.0], [0.0, 13.0], [0.0, 11.0], [0.0, 22.0], [0.0, 8.0], [0.0, 9.0], [0.0, 22.0], [0.0, 12.0], [0.0, 86.0], [0.0, 18.0], [0.0, 14.0], [0.0, 11.0], [0.0, 30.0], [0.0, 9.0], [0.0, 13.0], [0.0, 31.0], [0.0, 9.0], [0.0, 12.0], [0.0, 10.0], [0.0, 9.0], [0.0, 37.0], [0.0, 17.0], [0.0, 11.0], [0.0, 17.0], [0.0, 13.0], [0.0, 32.0], [0.0, 54.0], [0.0, 16.0], [0.0, 38.0], [0.0, 26.0], [0.0, 24.0], [0.0, 14.0], [0.0, 60.0], [0.0, 9.0], [0.0, 14.0], [0.0, 23.0], [0.0, 33.0], [0.0, 13.0], [0.0, 105.0], [0.0, 17.0], [0.0, 44.0], [0.0, 20.0], [0.0, 23.0], [0.0, 9.0], [0.0, 57.0], [0.0, 29.0], [0.0, 17.0], [0.0, 9.0], [0.0, 28.0], [0.0, 60.0], [0.0, 10.0], [0.0, 9.0], [0.0, 39.0], [0.0, 8.0], [0.0, 16.0], [0.0, 15.0], [0.0, 49.0], [0.0, 10.0], [0.0, 13.0], [0.0, 25.0], [0.0, 14.0], [0.0, 15.0], [0.0, 8.0], [0.0, 63.0], [0.0, 11.0], [0.0, 11.0], [0.0, 21.0], [0.0, 8.0], [0.0, 38.0], [0.0, 29.0], [0.0, 9.0], [0.0, 8.0], [0.0, 33.0], [0.0, 32.0], [0.0, 11.0], [0.0, 9.0], [0.0, 31.0], [0.0, 17.0], [0.0, 22.0], [0.0, 17.0], [0.0, 62.0], [0.0, 10.0], [0.0, 39.0], [0.0, 9.0], [0.0, 18.0], [0.0, 57.0], [0.0, 21.0], [0.0, 12.0], [0.0, 14.0], [0.0, 8.0], [0.0, 8.0], [0.0, 9.0], [0.0, 11.0], [0.0, 80.0], [0.0, 23.0], [0.0, 21.0], [0.0, 17.0], [0.0, 25.0], [0.0, 21.0], [0.0, 11.0], [0.0, 12.0], [0.0, 8.0], [0.0, 10.0], [0.0, 15.0], [0.0, 8.0], [0.0, 14.0], [0.0, 40.0], [0.0, 9.0], [0.0, 11.0], [0.0, 22.0], [0.0, 11.0], [0.0, 22.0], [0.0, 8.0], [0.0, 13.0], [0.0, 33.0], [0.0, 45.0], [0.0, 20.0], [0.0, 17.0], [0.0, 8.0], [0.0, 9.0], [0.0, 9.0], [0.0, 12.0], [0.0, 26.0], [0.0, 40.0], [0.0, 9.0], [0.0, 10.0], [0.0, 18.0], [0.0, 16.0], [0.0, 19.0], [0.0, 61.0], [0.0, 18.0], [0.0, 10.0], [0.0, 33.0], [0.0, 9.0], [0.0, 32.0], [0.0, 10.0], [0.0013636961164611538, 10.0], [0.0027273922329223077, 24.0], [0.0027273922329223077, 10.0], [0.008182176698766924, 8.0], [0.01090956893168923, 25.0], [0.01363696116461154, 28.0], [0.01363696116461154, 36.0], [0.01363696116461154, 63.0], [0.02727392232922308, 10.0], [0.028637618445684233, 46.0], [0.05454784465844616, 33.0], [0.05454784465844616, 49.0], [0.06818480582305769, 25.0], [0.12273265048150385, 45.0], [0.12273265048150385, 17.0], [0.12273265048150385, 8.0], [0.12546004271442615, 70.0], [0.12682373883088732, 22.0], [0.13500591552965424, 16.0], [0.13636961164611539, 30.0], [0.13636961164611539, 17.0], [0.14182439611196002, 13.0], [0.15000657281072693, 44.0], [0.19909963300332847, 79.0], [0.21819137863378463, 16.0], [0.21819137863378463, 131.0], [0.2454653009630077, 11.0], [0.2591022621276192, 18.0], [0.27273922329223077, 17.0], [0.34092402911528846, 107.0], [0.36819795144451156, 12.0], [0.3818349126091231, 103.0], [0.44320123784987503, 17.0], [0.5182045242552384, 9.0], [0.5441147504680004, 33.0], [0.5454784465844615, 17.0], [0.5454784465844615, 72.0], [0.5454784465844615, 21.0], [0.5454784465844615, 17.0], [0.5454784465844615, 9.0], [0.5727523689136846, 210.0], [0.5741160650301458, 19.0], [0.6095721640581357, 98.0], [0.6545741359013538, 16.0], [0.6818480582305769, 19.0], [0.6818480582305769, 10.0], [0.6818480582305769, 26.0], [0.735032206772562, 16.0], [0.7568513446359404, 11.0], [0.7718520019170131, 328.0], [0.7786704824993189, 17.0], [0.8182176698766923, 9.0], [0.8182176698766923, 62.0], [1.090956893168923, 19.0], [1.1045938543335347, 25.0], [1.213689543650427, 8.0], [1.24096346597965, 53.0], [1.2546004271442617, 20.0], [1.3064208795697854, 183.0], [1.3500591552965424, 13.0], [1.3500591552965424, 41.0], [1.3514228514130036, 52.0], [1.3636961164611539, 15.0], [1.3636961164611539, 89.0], [1.3636961164611539, 12.0], [1.3636961164611539, 33.0], [1.3636961164611539, 15.0], [1.3636961164611539, 31.0], [1.38278786209161, 63.0], [1.4782465902438908, 40.0], [1.5000657281072693, 16.0], [1.5723416222797104, 64.0], [1.7318940679056654, 8.0], [1.9091745630456154, 24.0], [1.922811524210227, 19.0], [1.9364484853748385, 42.0], [1.9855415455674401, 17.0], [2.126002245562939, 8.0], [2.172367913522618, 9.0], [2.181913786337846, 21.0], [2.3455573203131848, 256.0], [2.3455573203131848, 80.0], [2.454653009630077, 148.0], [2.454653009630077, 48.0], [2.454653009630077, 31.0], [2.5092008542885234, 12.0], [2.604659582440804, 93.0], [2.65920742709925, 10.0], [2.7273922329223077, 92.0], [2.7273922329223077, 274.0], [2.754666155251531, 20.0], [2.996040367865155, 9.0], [3.01376841737915, 9.0], [3.054679300872985, 16.0], [3.065588869804674, 23.0], [3.136501067860654, 102.0], [3.136501067860654, 106.0], [3.2728706795067692, 11.0], [3.2728706795067692, 10.0], [3.2728706795067692, 9.0], [3.6819795144451155, 9.0], [3.6819795144451155, 10.0], [3.8374408717216872, 21.0], [3.8865339319142884, 100.0], [3.9301722076410455, 10.0], [3.954718737737346, 50.0], [3.968355698901958, 166.0], [4.07745138821885, 9.0], [4.084269868801156, 21.0], [4.091088349383462, 48.0], [4.091088349383462, 19.0], [4.091088349383462, 25.0], [4.091088349383462, 15.0], [4.227457961029577, 26.0], [4.256095579475261, 26.0], [4.363827572675692, 16.0], [4.650203757132535, 152.0], [5.127497397893938, 8.0], [5.154771320223162, 35.0], [5.277503970704665, 13.0], [5.3184148541985, 32.0], [5.3184148541985, 21.0], [5.441147504680004, 83.0], [5.454784465844615, 22.0], [5.522969271667673, 22.0], [5.57751711632612, 16.0], [5.982534862915082, 22.0], [6.10935860174597, 153.0], [6.27572952795423, 15.0], [6.7980251405588525, 117.0], [6.832117543470381, 15.0], [6.941213232787273, 9.0], [7.081673932782772, 18.0], [7.200315494914893, 26.0], [7.670790655093991, 73.0], [7.90671008324177, 32.0], [8.032170125956196, 163.0], [8.180813002650462, 14.0], [8.182176698766924, 46.0], [9.072670262816057, 24.0], [9.52541737348116, 68.0], [10.088623869579616, 47.0], [10.841384125866174, 36.0], [10.882295009360009, 38.0], [11.182308154981461, 1389.0], [11.277766883133742, 100.0], [11.502776742349832, 18.0], [11.506867830699216, 61.0], [12.273265048150385, 100.0], [12.286902009314996, 154.0], [12.318267019993604, 264.0], [12.39599769863189, 46.0], [13.368313029668691, 52.0], [13.636961164611538, 40.0], [13.964248232562216, 224.0], [14.221986798573374, 104.0], [14.268352466533052, 55.0], [14.318809222842116, 22.0], [14.365174890801795, 86.0], [14.627004545162336, 32.0], [14.883379415057034, 37.0], [14.973383358743469, 41.0], [15.000657281072693, 13.0], [15.587046611150988, 143.0], [15.773872979106168, 57.0], [16.188436598510357, 123.0], [17.452582898469846, 78.0], [17.52894988099167, 158.0], [17.850782164476506, 60.0], [18.936284273179584, 376.0], [19.173567397443822, 129.0], [19.79541282655011, 82.0], [23.1623785380927, 67.0], [24.311974364269453, 251.0], [24.399250915722966, 276.0], [26.455704659346384, 189.0], [27.069367911753904, 89.0], [27.380290626307048, 21.0], [28.746714135001124, 75.0], [29.40265196701894, 205.0], [32.019584814507894, 28.0], [34.692429202771756, 37.0], [35.01835257460597, 65.0], [38.592600095850656, 196.0], [38.9103412909861, 169.0], [39.12171418903758, 65.0], [40.569959464719325, 63.0], [45.25425562476339, 87.0], [46.77204940238465, 36.0], [49.770817162482736, 113.0], [51.322703343015526, 14.0], [61.35268827958731, 53.0], [62.730021357213076, 18.0], [64.03780593289933, 274.0], [69.81033159387938, 39.0], [73.85778166753609, 80.0], [74.66781716071402, 90.0], [78.92254904407282, 149.0], [86.75834692925861, 341.0], [128.65109162694526, 18.0], [136.945091407262, 563.0], [144.5490609526494, 415.0], [190.47834615506105, 700.0], [220.07464297061748, 179.0], [347.277489321881, 564.0], [358.80344889821066, 169.0], [-698.3957426035441, 411.0], [-29.72732882986348, 20.0], [-24.076313611972825, 36.0], [-21.877159142588035, 8.0], [-13.842496630699763, 55.0], [-13.83696184596141, 9.0], [-13.397868923382896, 35.0], [-12.5012337955801, 10.0], [-11.803850918728147, 12.0], [-10.374031527978794, 10.0], [-8.929452711260426, 13.0], [-7.086369393378365, 11.0], [-4.833712004855852, 8.0], [-4.756225018518452, 124.0], [-4.658443821473676, 10.0], [-4.427827790707648, 15.0], [-3.7138405594560484, 9.0], [-3.654802855579942, 15.0], [-3.394667972875862, 10.0], [-2.9481953373128498, 9.0], [-2.123512411293541, 9.0], [-1.737922407852753, 8.0], [-1.4888570946254474, 10.0], [-0.7250568007283711, 22.0], [-0.7029176617748425, 8.0], [-0.5719277562997394, 11.0], [-0.23430588725828957, 10.0], [-0.08855655581416029, 11.0], [-1.0487202906280047e-14, 8.0], [-1.0487202906280047e-14, 8.0], [0.45754220503979126, 10.0], [0.7361263702051394, 15.0], [1.0479192438008118, 21.0], [1.1549250820762542, 10.0], [1.8744470980662407, 25.0], [2.331989303106028, 21.0], [2.9703344762663817, 13.0], [3.0478214626037663, 8.0], [3.3466998384765323, 10.0], [3.6787869227796075, 11.0], [4.7211713818420336, 15.0], [5.040343968422208, 13.0], [5.817058760042173, 22.0], [6.150990772591377, 11.0], [6.521821350063125, 54.0], [7.748698633738388, 21.0], [8.652713474341207, 8.0], [11.233768090674529, 29.0], [14.932849224161568, 40.0], [15.220658030557553, 29.0], [16.838660102411975, 52.0], [18.932653661767453, 15.0], [19.89570620624637, 21.0], [25.20725462684944, 37.0], [54.34605134619801, 82.0], [-44.98576618258342, 28.0], [-20.390168978044073, 8.0], [-8.045303467811312, 21.0], [2.432574693222008, 101.0], [4.160714663930565, 29.0], [6.203418469525374, 16.0], [7.013753734955261, 8.0], [8.45949225788584, 10.0], [9.376512514698623, 16.0], [14.840196080738577, 11.0], [16.722087950793128, 10.0], [21.528403702283, 14.0], [21.95514366781434, 13.0], [64.15533334745342, 15.0], [118.60939251526337, 105.0], [-76.64517242828916, 16.0], [-5.526533357622297, 10.0], [-3.4338522763897257, 11.0], [-1.1490548323360845, 18.0], [0.0, 9.0], [0.0, 12.0], [0.9809004666283648, 12.0], [40.760057732998895, 50.0], [-15.101592531576058, 11.0], [-10.450302031850637, 53.0], [-7.52883031301482, 41.0], [-6.630971993410216, 8.0], [-5.411861614497523, 13.0], [-2.4684239428885304, 70.0], [-2.196595277320154, 13.0], [-1.2081274025260784, 27.0], [-1.098297638660077, 8.0], [-0.8237232289950577, 31.0], [-0.24711696869851107, 21.0], [-0.08237232289950597, 25.0], [0.0, 100.0], [0.0, 13.0], [0.0, 8.0], [0.0, 8.0], [0.0, 9.0], [0.0, 8.0], [0.0, 18.0], [0.0, 8.0], [0.0, 9.0], [0.0, 8.0], [1.9509685221309725e-15, 18.0], [1.9509685221309725e-15, 20.0], [3.901937044261945e-15, 21.0], [0.1372872048325096, 15.0], [0.2745744096650182, 21.0], [0.2745744096650192, 128.0], [1.6474464579901154, 8.0], [2.114222954420649, 10.0], [3.569467325645252, 27.0], [5.016474464579839, 137.0], [7.523338824821529, 71.0], [8.649093904448106, 13.0], [90.63152114222946, 105.0], [192.35310269082922, 24.0], [-1.2204187602293606, 8.0], [-267.05000000000007, 9.0], [-104.47, 18.0], [-32.37000000000003, 16.0], [-30.16999999999999, 26.0], [-21.33999999999995, 18.0], [-12.019999999999982, 17.0], [-11.620000000000008, 12.0], [-9.939999999999973, 47.0], [-8.609999999999971, 16.0], [-5.82, 18.0], [-0.03999999999994586, 17.0], [1.7763568394002505e-14, 10.0], [0.5899999999999999, 21.0], [2.2799999999999727, 10.0], [2.6700000000000053, 13.0], [5.969999999999992, 8.0], [13.97999999999998, 51.0], [15.67, 14.0], [19.299999999999994, 11.0], [22.59, 9.0], [34.53000000000003, 37.0], [60.26999999999987, 144.0], [60.78999999999999, 81.0], [84.21000000000001, 15.0], [89.26999999999998, 17.0], [110.87000000000006, 61.0], [130.01999999999992, 35.0]], \"hovertemplate\": \"<b>%{hovertext}</b><br><br>Service type=Self service<br>Country=%{x}<br>Markup per order (USD)=%{y}<br>Markup (USD)=%{customdata[0]}<br>Total orders=%{customdata[1]}<extra></extra>\", \"hovertext\": [\"Carnes Ramos\", \"La Castellana\", \"Catabocata\", \"Sonora Beef\", \"Balderas Super Carnes\", \"Confetti Pastas Frescas\", \"Los Tulipanes\", \"Sinai\", \"Pardo\", \"Carnes selectas HB\", \"Punta del Cielo\", \"DICARSA\", \"Le Macaron Boutique\", \"Mallorca\", \"Rancho el 17\", \"Villa de Patos\", \"Tamaler\\u00eda Mar\\u00eda Candelaria\", \"Marca Diablo\", \"Pan Gabriel\", \"Pikabuu\", \"Tiendas Verum\", \"Granjas RYC\", \"Eat me\", \"Distribuidora La Victoria\", \"Empakatodo\", \"Green Republic\", \"Fruteria La Huerta\", \"Make a party\", \"Cremer\\u00eda W\", \"Petland\", \"D\\u2019Lagourmet\", \"Como Komo by Haloclina Catering\", \"QuitaKilos\", \"Distribuidora San Pedro Cholula\", \"La Carnicer\\u00eda Virtual\", \"Bendita Vaca\", \"Natural Farm\", \"El M\\u00e1s Pollo\", \"Pasteler\\u00eda Elizondo\", \"Mi Fiesta Shop\", \"Mundo Gourmet\", \"Venus Sexshop\", \"Chocolates Turin\", \"Smart Fish\", \"Ecoksa\", \"La Lecheria\", \"Raw Republic\", \"Erotika Love Store\", \"Da Silva\", \"Sabor y Saz\\u00f3n\", \"Farmasync\", \"Hamleys\", \"Serena Barra de Pan\", \"Unelefante\", \"Cuchillo y Carne\", \"Sanborns Panader\\u00eda y Pasteler\\u00eda\", \"Tienda Key\", \"Dulce Noviembre\", \"Apetit Catering & Store\", \"El Lech\\u00f3n Tame\", \"Garabatos\", \"Central Dulcera\", \"Cosecha Natural\", \"La Manzana Sana\", \"Partyland\", \"Partyland\", \"Mora Market\", \"Gramelia\", \"La Casita del Pan\", \"Aquamart\", \"YEMA\", \"Landhaus La Pasteler\\u00eda Alemana\", \"Delicias del Contry\", \"MUAC\\u2019S\", \"Malva\", \"Ultramarinos Coliseo\", \"Slovensko\", \"ODARA\", \"Anforama\", \"La sopa italiana\", \"Super Limpio\", \"La Cheloteca\", \"Veterinaria Palo Verde\", \"Martha Falc\\u00f3n\", \"Catalina Fernandez\", \"Bottega Sartoria\", \"El Puro Cielo\", \"Homeop\\u00e1ticos Sch\\u00fcssler\", \"Mr. Croquet co\", \"L'Autrichienne\", \"Tails.Co\", \"Deperlas Colecci\\u00f3n\", \"Milagros de mi Tierra\", \"Yupick\", \"Deleite Shop\", \"Worldflex\", \"Dulce Tempo\", \"Le Chocolat\", \"Gant\", \"B\\u00f3 Pastisseria\", \"Exgerm\", \"La Casta\\u00f1a\", \"Cinnabon\", \"Granel Interlomas\", \"Merak\", \"Mercadito Fresh Star\", \"The Confetti Party\", \"San Miguel del Valle\", \"Green & Yang Healthy Bakery\", \"The Secret Donut Society\", \"Molino de chiles H\\u00e9rcules\", \"Farmacias Dr. Montfort\", \"Velucca Good Healthy Food\", \"MUTT\", \"Gino's\", \"Pasteler\\u00eda Alc\\u00e1zar\", \"LICORIA\", \"G\\u00f6ffret\", \"S\\u00f6s\\u00f4land\", \"Guilt Free\", \"Mi Tierra Bendita\", \"Steren\", \"Redil Carnicer\\u00eda\", \"ANGELFOOD by Frozen Boutique\", \"Pasteler\\u00eda HADASA\", \"Granel Dulcer\\u00edas\", \"Peel Health Bar\", \"Carissa Reposter\\u00eda\", \"Restaurante SAKS\", \"La Magia del Castillo\", \"Abasto Express\", \"L'Occitane M\\u00e9xico\", \"Librer\\u00edas Porr\\u00faa\", \"Estado Natural\", \"Toyo Foods\", \"HomeFood\", \"Live Healthy\", \"Chilim Balam\", \"Salchichoner\\u00eda San Miguel\", \"BreAd\", \"Toks\", \"Empack\", \"Kurson Kosher\", \"La Central Delivery\", \"La fruter\\u00eda\", \"Healthy Boutique\", \"Sr. Ferretero\", \"Farmacias Botica Central\", \"Mr. Tofu\", \"The Green Corner\", \"Swarovski\", \"Ortopedix\", \"Party City\", \"Bell\\u00edsima\", \"Farmacias M\\u00e9dicor\", \"Oasis\", \"Mil sabores\", \"Pet Happy\", \"Fortunata\", \"Campomarket\", \"Gourmeat\", \"Panader\\u00eda Las Rosas chicas\", \"Globe Italia\", \"Opaline\", \"Librer\\u00eda Col\\u00f3n\", \"La Punta\", \"El \\u00fanico\", \"Donde Gilberto\", \"Baby Infanti\", \"Dulcer\\u00eda Puerto Varas\", \"Cambia tu nutrici\\u00f3n\", \"Moulie\", \"Phanter\", \"Tavelli\", \"Benicio\", \"La Papelaria & Co\", \"Frutas y verduras Johnny\", \"Casastilo concept store\", \"Avent\", \"Kitchen corner\", \"Espesales\", \"La tienda de Carolina\", \"Adagio Teas\", \"Factory Nine\", \"TODOLICOR.CL\", \"Cl\\u00ednica veterinaria Gronemann\", \"Tienda Granata\", \"Mundo Churro\", \"Mercadito G&D\", \"Ferreter\\u00eda Rukafe\", \"PC Factory\", \"De costa a costa gourmet\", \"Emporio la plaza\", \"Mar azul\", \"Colloky\", \"Librer\\u00eda Universitas\", \"La huerta de Vitacura\", \"Frigosorno\", \"Free and lush\", \"Simple by puro\", \"3INA\", \"Friomarket\", \"MANOLO\", \"Costamai\", \"L\\u00e1piz papel\", \"Mi market\", \"Fabrics\", \"Mundo Pi\\u00f1ata\", \"Multiservice\", \"La Vegana\", \"GAP\", \"Wenger Haus\", \"Jugueter\\u00eda Cachip\\u00fan\", \"The Market\", \"Eliglu\", \"Pillin\", \"Verduler\\u00eda Nacional\", \"Peces gordos\", \"Fish store\", \"Felipe Didier\", \"Bigotes pet store & coffee\", \"Aquarantus flores\", \"Coconut grove\", \"Buganvilla cafe\", \"New nuts\", \"Carnes Prontobeef\", \"Emporio Vitacura\", \"Bread factory\", \"Pasteler\\u00eda Tocas de Cachagua\", \"Indigo de papel\", \"Rumbo Verde\", \"AquaChile\", \"By Mascota\", \"Dellanatura\", \"Mascotitas\", \"SPORTIKA\", \"Peluquer\\u00eda Fernando Pavez\", \"Lovely gift\", \"Botiller\\u00eda Eche\\u00f1ique\", \"Born\", \"Marjano\", \"Tuyo print\", \"Manzo Cotill\\u00f3n\", \"Lo Saldes\", \"Ferreter\\u00eda Arma\\u00f1o\", \"Pet Kingdom\", \"Volka Chokolade\", \"La Pesca\", \"hbt\", \"Librer\\u00eda Luces\", \"Isadora\", \"Doral\", \"Fortunata sin gluten\", \"Denda\", \"Majen\", \"LAMY\", \"Biomed\", \"Tusmascotas\", \"Caleta \\u00d1u\\u00f1oa\", \"Emporio San Marco\", \"Pasteler\\u00eda La Tartine\", \"Patio sabroso\", \"Decatalogo\", \"Puro Antojo\", \"Puntomascotas\", \"Bahia mansa\", \"Boulangerie Panam\", \"Pepitas de oro\", \"Lush\", \"Deutschkind\", \"Panificadora La Reina\", \"Botiller\\u00eda lo Barnechea\", \"AMA\", \"Pucar\\u00e1\", \"Verduler\\u00eda el imperio\", \"Huertos Alma\", \"Secretos de Amor\", \"Jugueter\\u00eda rinc\\u00f3n infantil\", \"Paula\", \"Zoomarket\", \"Bigfix\", \"The Gift Shop\", \"Pasteler\\u00eda Biella\", \"Bon macaron\", \"Petsmann\", \"Planta home design\", \"Alpaka\", \"Club Animal\", \"Tai pet shop\", \"Coquinaria\", \"Granja Magdalena\", \"Verduleria San Roque\", \"Huertos del Golf\", \"P\\u00farpura\", \"Libert\\u00e9 chocolat\", \"Dulcer\\u00eda El Ingenio\", \"Garage\", \"Albazar creativo\", \"Casa de mar\", \"Bili box\", \"Chocolater\\u00eda Entrelagos\", \"Australis Retail\", \"Petshop online\", \"Hundshop\", \"Cotill\\u00f3n Festday\", \"Bros Librer\\u00edas\", \"Cl\\u00ednica veterinaria Providencia\", \"Bread&cake\", \"Araf\", \"AM Dulcer\\u00eda\", \"Primal granel\", \"Mercato la pizza nostra\", \"Pastryhome jakimioto\", \"Flores Floramour\", \"Cuk\", \"Actitud Sana\", \"Milu pet\", \"Sano market\", \"Las Bezanilla\", \"Don camar\\u00f3n\", \"Milmaravillas\", \"Mokha Bunn\", \"La Rueda tostaduria\", \"L'Occitane\", \"CATDOGSHOP\", \"Autoplanet\", \"Cosmeticaval\", \"Bbz Barbizon\", \"Grido\", \"Santa salud\", \"Allfree\", \"Paula Benitez\", \"Tictactoys\", \"Bbpro store\", \"Erbi\", \"Upets\", \"Cafetano\", \"El Pescadero\", \"Blush-Bar\", \"Rocha\", \"Riesco Reposter\\u00eda\", \"Hirondelle Pasteler\\u00eda Francesa\", \"Monki Toys & Alex Toys\", \"Le Vice Chocolat\", \"Tro Deportes\", \"Emporio Bolena\", \"Pilgrim\", \"Vivero y Ferreter\\u00eda los B\\u00f3rquez\", \"Feroz Chocolates\", \"La pasta divina\", \"Santiago Wine Club\", \"Alonso olive oil\", \"Wholeplanet Organic Foods\", \"La Ermita\", \"The Beauty Place\", \"Cecinas Bavaria\", \"La Carpinter\\u00eda\", \"Beefix\", \"Kaikai\", \"Jugueter\\u00eda Caramba\", \"Mar\\u00eda Pomp\\u00f3n\", \"Mon site\", \"Leonidas chocolates\", \"Books and gifts\", \"Cap Dor\", \"Genial\", \"Naturbaby\", \"Dulcer\\u00eda Apoquindo\", \"Theodora\", \"W&M Divoom store\", \"Sanfesta\", \"Martino Phillippi\", \"Cakao\", \"Fresca mar\", \"Jugueter\\u00eda Lillifee\", \"COSTAVET\", \"Paper mill\", \"Mochileros pets\", \"Santa Ignacia\", \"TODOPIEL\", \"Kad\\u00f3\", \"Musso Beauty Lounge\", \"Musso CE\", \"La Tranquera\", \"Mascotas Mias Pet Shop\", \"Estampa\", \"Algodones\", \"Fullerton\", \"Simonetti\", \"DRY FRUITS\", \"LOBOMAR\", \"Peque\\u00f1a compa\\u00f1\\u00eda\", \"Rosatel\", \"Piw\\u00e9n\", \"Revitalash\", \"Full Cell\", \"Masterwise\", \"Dulcer\\u00eda Coca\", \"Librer\\u00eda Perif\\u00e9rica\", \"Kukinuts\", \"Amor nacional\", \"Mercury music\", \"Naturel organic\", \"Oh my lamb!\", \"Premium paper\", \"Little bee\", \"Anis tienda\", \"Qu\\u00e9 Pachamama\", \"Candle store\", \"Erbario Toscano\", \"PSK Joyas\", \"Mercado Pasteur\", \"Cafeter\\u00eda La Cueva\", \"Harina gourmet\", \"Warm\\u00ed\", \"Emporio Gorro\\u00f1o\", \"Patagonia Schokoland\", \"CONEKTA\", \"TOUS\", \"Vivo Nativo\", \"De Tartas & tortas\", \"Medela by Guven\", \"Animaluna\", \"Betterpet\", \"Motherna\", \"Pasteler\\u00eda Terra\", \"Ohana pet shop\", \"Pilpil\", \"Newscience\", \"VILAPERT\", \"Santillana\", \"Posta veterinaria\", \"Cl\\u00ednica veterinaria Col\\u00f3n\", \"The beauty day spa\", \"D\\u00e9lice\", \"T\\u00edo Polo\", \"Studio Valdes\", \"Propet\", \"Electromarket Luis Cortes\", \"Sabores sure\\u00f1os\", \"Doc popcorn\", \"Opera liquor store\", \"Picaflor\", \"Tabatiere petit magasin\", \"Ferreter\\u00eda multiferret\", \"La Chakra\", \"SM\", \"Tortilla factory\", \"Estilo colector\", \"Flowershop\", \"Yahooshop\", \"Dulces Vacarezza\", \"Amada pasteler\\u00eda\", \"Global ok\", \"La casa org\\u00e1nica\", \"Jo Malone London\", \"Librer\\u00eda el caribe\", \"Dante store pets\", \"Mestiere\", \"Felipe Didier\", \"Chokko\", \"Botiller\\u00eda perro Pancho\", \"Luz Charme\", \"Tostadur\\u00eda El Nogal\", \"Importadora MMM\", \"Deysa care\", \"Peacock\", \"Tienda de vinos La Reina\", \"Mist ice cream\", \"Marisquer\\u00eda Austral\", \"Ema\", \"Jugueter\\u00eda Shakira toys\", \"CASA TATETI\", \"Le Creuset\", \"Vida natura\", \"Gudfud\", \"Bobbi Brown\", \"Madremia\", \"MAC Cosmetics\", \"Flor de galgo\", \"Clinique\", \"Bruxelles Chocolaterie\", \"Panart\", \"Dulces ISSA\", \"Bien argento\", \"Tateti toys\", \"D\\u00e9jate querer dulcer\\u00eda\", \"Maru peruano japon\\u00e9s\", \"Mercado premium\", \"Flores just flowers\", \"PHILIPS\", \"El florista\", \"Florexotica\", \"Mood aromaterapia\", \"Color animal\", \"Zigzaboo\", \"Maderitas\", \"AF Chile Spa\", \"L\\u00edmite sur gifts\", \"Green dolphin\", \"TESSA\", \"Take care mask\", \"Kipling\", \"Sexo sexshop\", \"Braintoys\", \"Heima caf\\u00e9\", \"Nicole&C\\u00e9dric\", \"El taller\", \"HAVANNA\", \"The North Face\", \"Cotolino\", \"Caffesso\", \"Instore CL\", \"L\\u00e4rrs\", \"Pasteler\\u00eda la Celeste\", \"Dog bark\", \"Vegan Panda\", \"Farmacias Natura\", \"Entrem\\u00e9s\", \"Express pet\", \"Cl\\u00ednica veterinaria vets & friends\", \"CASA AMARILLA\", \"Movenpick\", \"EGLO\", \"Cousi\\u00f1o Macul\", \"Salmones Ant\\u00e1rtica\", \"Andrea Coggiola joyas\", \"Pichintun\", \"Smartfix\", \"Nutrici\\u00f3n Santa Fe\", \"Whittard of Chelsea\", \"Thephonehouse\", \"VOPCAFE\", \"Veterinaria Cedilo\", \"Bikeman\", \"Bioser\", \"Sal\\u00f3n de belleza Esther\", \"Ortopedias m\\u00e1s vida\", \"La pescader\\u00eda\", \"Cup and cake bakery\", \"Doc popcorn\", \"Farmacia Fracci\\u00f3n\", \"Soler\", \"Copetexpress\", \"Tom\\u00e1s Moro\", \"Green conexion\", \"Pet Phone\", \"Belmio\", \"The candle shop\", \"Farmacia Weleda\", \"Dulcer\\u00eda Frutillar\", \"Nutrihouse\", \"Flores\", \"Nutrimedical\", \"GP Centro ahorro\", \"Finomarket\", \"Faunimals\", \"Cuncuna\", \"La carnicer\\u00eda store\", \"Cassis\", \"La casa del pa\\u00f1al\", \"Flores de Ocoa\", \"La Provincia\", \"Jugueter\\u00edas Ansaldo\", \"Prana\", \"Be Feelosophy\", \"Insert coin bar\", \"Caramel\", \"Biancolatte\", \"Bottega Rivoli\", \"Galleter\\u00eda de Laura R\", \"Carnero\", \"Copreser\", \"Jard\\u00edn Buenaventura\", \"La Teter\\u00eda\", \"Gift shop Kawaii\", \"LAB Gourmet\", \"Tostaduria Maravilla\", \"Get it\", \"Dr. Pet\", \"Pasteler\\u00eda el quinto pecado\", \"Heladeria il maestrale\", \"Regalos Clicker\", \"YEPPO\", \"My Mix\", \"Jugueter\\u00eda Girasol\", \"La cocina de Angeles Alamos\", \"Four Sport\", \"Piscinas Oriente\", \"Digitek\", \"Serfrut\", \"Felipe Didier\", \"Emporio La Granjita\", \"Don Paolo verduler\\u00eda\", \"Emporio La Rosa\", \"La Bruncher\\u00eda\", \"Corrales del sur\", \"Nacional outlet escolar\", \"El Hogar\", \"Marypez\", \"Prem de Bokato\", \"Mermoz\", \"Dulcer\\u00eda Montol\\u00edn\", \"Etienne Marcel\", \"Dogat\", \"De Pura madre\", \"Rienda suelta carnicer\\u00eda\", \"Intertoys\", \"Village\", \"Moza Bonita\", \"The Body Shop\", \"Breti citymarket\", \"De la carne\", \"Santa tienda\", \"Librer\\u00eda Joyas\", \"Japi Jane\", \"Jacarand\\u00e1 Flores\", \"Damien Mercier\", \"Blanca y Augusto\", \"La mil hoja\", \"Brando\", \"Suk\", \"Pistacho pasteler\\u00eda\", \"Verduler\\u00eda Fresh\", \"Detercenter\", \"Corral Osorno\", \"La f\\u00e1brica de churros Boher\", \"Medical train\", \"Coffee Wings\", \"Sant ambrogio\", \"Samia\", \"Maidenform\", \"Kaya unite\", \"Moritz Eis\", \"Cory coffeehouse\", \"Premium Carnes\", \"Liga de las mascotas\", \"Tienda Urbano\", \"Full congelados\", \"Quererte cafeter\\u00eda\", \"Fresh market\", \"Simply Sweet la pasteler\\u00eda\", \"Pablo & Nicol\\u00e1s Pinto\", \"Hands and the city\", \"LAMA\", \"Felipe Didier\", \"Eco farmacias\", \"Yves Rocher\", \"Fiesta & Regalos\", \"Todomoda\", \"La Estaci\\u00f3n fruter\\u00eda\", \"Centralvet.cl\", \"Trial\", \"Andesgear\", \"Carnaval\", \"Camposorno\", \"Planta maestra\", \"Farmacia veterinaria Arkanet\", \"Smart concept\", \"Puravida Flores\", \"Verduler\\u00eda Smilegreen\", \"EL VOLCAN\", \"Ando Creando\", \"El pan de cada d\\u00eda\", \"Medcare\", \"La F\\u00eate Chocolat\", \"Medisalud\", \"Verduleria Fredy Castillo\", \"Hands & company\", \"Mellow\", \"Bath & blanc\", \"Mercado Manquehue\", \"Papermark\", \"Saville Row\", \"Caf\\u00e9 diario\", \"DBS Beauty Store\", \"MeatMe\", \"D\\u00f3nde Jorgito\", \"Pets Center\", \"Gourmitalia\", \"Jackie Guiloff gourmet\", \"Frustic Tac\", \"Q\\u2019Mascotas\", \"BLU STORE\", \"Cotill\\u00f3n Activarte\", \"Aldea nativa\", \"Anasac Jard\\u00edn\", \"Monarch\", \"Dimeiggs\", \"Las Mellizas\", \"FORK\", \"Smartech\", \"Supermercado Versluys\", \"El Mundo del Vino\", \"Nacional\", \"Wua Wua\", \"Pet choice\", \"Veterinaria el Rodeo\", \"Amphora\", \"Mota\", \"Verduler\\u00eda Panchito\", \"Prismology\", \"Caffarena\", \"Natura cosm\\u00e9ticos\", \"Revesderecho\", \"Farmacias Knop\", \"Best for pets\", \"Juan Valdez Caf\\u00e9\", \"Los Mezza\", \"CAV\", \"Flor de Loto\", \"Tua\", \"Mola\", \"Rupestre\", \"Verduler\\u00eda Do\\u00f1a Amalia\", \"Cl\\u00ednica veterinaria Los Andes\", \"Librer\\u00eda Contrapunto\", \"Carne A Punto\", \"Bubba Bags\", \"Casa Royal\", \"The Garden\", \"Varsovienne Chocolater\\u00eda\", \"Ant\\u00e1rtica libros\", \"Ok Market\", \"Preunic\", \"L\\u00e1piz L\\u00f3pez\", \"Lounge\", \"Cobasi\", \"Sonho dos Bichos\", \"Dr. Hato\", \"Go meat\", \"Armaz\\u00e9m Cerealista\", \"Bicho Pet Store\", \"Breeds pet shop\", \"Cacau Show\", \"Imaginarium\", \"Petcamp\", \"Famiglia Franciulli do Glic\\u00e9rio\", \"Rei dos Animais\", \"Mercado Brasco\", \"Casa Bueno\", \"Leblon 2 Carnes\", \"Rochinha\", \"Picanha Nobre Casa de Carnes e Mini Mercado\", \"To Go Congelados\", \"Savoyard Fromagerie\", \"Verdim hortifruti\", \"Casa de Carnes Rei\", \"Pet days\", \"La carne\", \"Grupo Hiper Boi\", \"Vigor\", \"Royal Bebidas\", \"Loja Natural\", \"Biamar\", \"Kibon sorvetes\", \"Uau My Dog\", \"Armaz\\u00e9m Dona Idalina\", \"Emp\\u00f3rio dos gr\\u00e3os\", \"P\\u00e9 de mato\", \"Delivery da terra\", \"Mundo Verde\", \"Kopenhagen\", \"Biovila\", \"Snack Frutas\", \"Est\\u00e2ncia casa de carnes\", \"Chocolates Brasil Cacau\", \"Padaria Kennedy\", \"Varej\\u00e3o Lopes\", \"Maxxi\", \"Bovino Nobre Casa de Carnes\", \"Hortifruti Morato\", \"Ofner\", \"Ra\\u00e7\\u00f5es Renata\", \"Amo Org\\u00e2nico Quitanda\", \"Xirata Feira Limpa\", \"Lindt\", \"Carnes Florida\", \"Loja das frutas\", \"Rede Varej\\u00e3o Cachambi\", \"Casa de Carnes Fradique Coutinho\", \"Granado Pharm\\u00e1cias\", \"Little Bear Animalerie\", \"Chez Latina\", \"Mizan Gourmet\", \"Eataly\", \"Menagerie Pet Shop\", \"Radical Road Brewing Co\", \"Town & Country Market\", \"Simi African Foods\", \"Serano Bakery Food Market\", \"Smyrna Laz Bakkal\", \"Le Gourmand\", \"apniroots\", \"Greenhouse Juice Co.\", \"Victoria Supermarket\", \"The Big Carrot\", \"La Canasta Campesina\", \"Laika\", \"PLAZ Express\", \"Puerto Market\", \"Terrafit\", \"Nicolukas\", \"La boutique de las carnes\", \"Gastronomy Market\", \"Hot Vape\", \"Mas Natural House\", \"Thika Thani\", \"Weleda\", \"TuSuper\", \"Normita\", \"Consumo Cuidado\", \"IL Pastificio\", \"Limapostre\", \"Anelare\", \"Almendariz\", \"Atelier Amore Gelato\", \"Dolce Capriccio\", \"Floreria San Borja\", \"DIA-D juegos\", \"AFIT\", \"SBS Librer\\u00eda Internacional\", \"Florever\", \"Tortas Gaby\", \"Pickadeli\", \"Quinoa\", \"Invita\", \"Usams\", \"Caramba\", \"Flores para tu casa\", \"Miss Cupcakes\", \"Central Party\", \"Maria Almenara\", \"La p'tite France\", \"Ra\\u00edces mercado sostenible\", \"Patty Pasteler\\u00eda Artesanal\", \"Oregon Foods\", \"Canevaro 163\", \"Rosatel\", \"PetLover\", \"Plagio\", \"Verduler\\u00eda Segura\", \"Sarah's Tent\", \"Wagshal's\", \"Bravo Supermarkets Weston\", \"Sub Hub Market Fresh\", \"Wine Bank\", \"Zubi Supermarket\", \"Amish Market West\", \"Jubilee Market Place\", \"Elm Wellness\", \"Graziano's\", \"Zerpa's Antojos Criollos\", \"Gramercy Wine\", \"Freshy's\", \"Dante's Cellar\", \"Farm2cook\", \"Dickson's Farmstand Meats\", \"Exito Fresh Market\", \"America's Food Basket\", \"India Bazaar\", \"Edy\\u2019s Grocer\", \"Key Food\", \"Morton Williams\", \"Met Fresh Supermarket\", \"Katagiri\", \"Mahfood Market\", \"Ideal Food Basket\", \"Meat N' Bone\"], \"legendgroup\": \"Self service\", \"marker\": {\"color\": \"#636efa\"}, \"name\": \"Self service\", \"notched\": false, \"offsetgroup\": \"Self service\", \"orientation\": \"v\", \"showlegend\": true, \"type\": \"box\", \"x\": [\"MX\", \"MX\", \"MX\", \"MX\", \"MX\", \"MX\", \"MX\", \"MX\", \"MX\", \"MX\", \"MX\", \"MX\", \"MX\", \"MX\", \"MX\", \"MX\", \"MX\", \"MX\", \"MX\", \"MX\", \"MX\", \"MX\", \"MX\", \"MX\", \"MX\", \"MX\", \"MX\", \"MX\", \"MX\", \"MX\", \"MX\", \"MX\", \"MX\", \"MX\", \"MX\", \"MX\", \"MX\", \"MX\", \"MX\", \"MX\", \"MX\", \"MX\", \"MX\", \"MX\", \"MX\", \"MX\", \"MX\", \"MX\", \"MX\", \"MX\", \"MX\", \"MX\", \"MX\", \"MX\", \"MX\", \"MX\", \"MX\", \"MX\", \"MX\", \"MX\", \"MX\", \"MX\", \"MX\", \"MX\", \"MX\", \"MX\", \"MX\", \"MX\", \"MX\", \"MX\", \"MX\", \"MX\", \"MX\", \"MX\", \"MX\", \"MX\", \"MX\", \"MX\", \"MX\", \"MX\", \"MX\", \"MX\", \"MX\", \"MX\", \"MX\", \"MX\", \"MX\", \"MX\", \"MX\", \"MX\", \"MX\", \"MX\", \"MX\", \"MX\", \"MX\", \"MX\", \"MX\", \"MX\", \"MX\", \"MX\", \"MX\", \"MX\", \"MX\", \"MX\", \"MX\", \"MX\", \"MX\", \"MX\", \"MX\", \"MX\", \"MX\", \"MX\", \"MX\", \"MX\", \"MX\", \"MX\", \"MX\", \"MX\", \"MX\", \"MX\", \"MX\", \"MX\", \"MX\", \"MX\", \"MX\", \"MX\", \"MX\", \"MX\", \"MX\", \"MX\", \"MX\", \"MX\", \"MX\", \"MX\", \"MX\", \"MX\", \"MX\", \"MX\", \"MX\", \"MX\", \"MX\", \"MX\", \"MX\", \"MX\", \"MX\", \"MX\", \"MX\", \"MX\", \"MX\", \"MX\", \"MX\", \"MX\", \"MX\", \"MX\", \"MX\", \"MX\", \"CL\", \"CL\", \"CL\", \"CL\", \"CL\", \"CL\", \"CL\", \"CL\", \"CL\", \"CL\", \"CL\", \"CL\", \"CL\", \"CL\", \"CL\", \"CL\", \"CL\", \"CL\", \"CL\", \"CL\", \"CL\", \"CL\", \"CL\", \"CL\", \"CL\", \"CL\", \"CL\", \"CL\", \"CL\", \"CL\", \"CL\", \"CL\", \"CL\", \"CL\", \"CL\", \"CL\", \"CL\", \"CL\", \"CL\", \"CL\", \"CL\", \"CL\", \"CL\", \"CL\", \"CL\", \"CL\", \"CL\", \"CL\", \"CL\", \"CL\", \"CL\", \"CL\", \"CL\", \"CL\", \"CL\", \"CL\", \"CL\", \"CL\", \"CL\", \"CL\", \"CL\", \"CL\", \"CL\", \"CL\", \"CL\", \"CL\", \"CL\", \"CL\", \"CL\", \"CL\", \"CL\", \"CL\", \"CL\", \"CL\", \"CL\", \"CL\", \"CL\", \"CL\", \"CL\", \"CL\", \"CL\", \"CL\", \"CL\", \"CL\", \"CL\", \"CL\", \"CL\", \"CL\", \"CL\", \"CL\", \"CL\", \"CL\", \"CL\", \"CL\", \"CL\", \"CL\", \"CL\", \"CL\", \"CL\", \"CL\", \"CL\", \"CL\", \"CL\", \"CL\", \"CL\", \"CL\", \"CL\", \"CL\", \"CL\", \"CL\", \"CL\", \"CL\", \"CL\", \"CL\", \"CL\", \"CL\", \"CL\", \"CL\", \"CL\", \"CL\", \"CL\", \"CL\", \"CL\", \"CL\", \"CL\", \"CL\", \"CL\", \"CL\", \"CL\", \"CL\", \"CL\", \"CL\", \"CL\", \"CL\", \"CL\", \"CL\", \"CL\", \"CL\", \"CL\", \"CL\", \"CL\", \"CL\", \"CL\", \"CL\", \"CL\", \"CL\", \"CL\", \"CL\", \"CL\", \"CL\", \"CL\", \"CL\", \"CL\", \"CL\", \"CL\", \"CL\", \"CL\", \"CL\", \"CL\", \"CL\", \"CL\", \"CL\", \"CL\", \"CL\", \"CL\", \"CL\", \"CL\", \"CL\", \"CL\", \"CL\", \"CL\", \"CL\", \"CL\", \"CL\", \"CL\", \"CL\", \"CL\", \"CL\", \"CL\", \"CL\", \"CL\", \"CL\", \"CL\", \"CL\", \"CL\", \"CL\", \"CL\", \"CL\", \"CL\", \"CL\", \"CL\", \"CL\", \"CL\", \"CL\", \"CL\", \"CL\", \"CL\", \"CL\", \"CL\", \"CL\", \"CL\", \"CL\", \"CL\", \"CL\", \"CL\", \"CL\", \"CL\", \"CL\", \"CL\", \"CL\", \"CL\", \"CL\", \"CL\", \"CL\", \"CL\", \"CL\", \"CL\", \"CL\", \"CL\", \"CL\", \"CL\", \"CL\", \"CL\", \"CL\", \"CL\", \"CL\", \"CL\", \"CL\", \"CL\", \"CL\", \"CL\", \"CL\", \"CL\", \"CL\", \"CL\", \"CL\", \"CL\", \"CL\", \"CL\", \"CL\", \"CL\", \"CL\", \"CL\", \"CL\", \"CL\", \"CL\", \"CL\", \"CL\", \"CL\", \"CL\", \"CL\", \"CL\", \"CL\", \"CL\", \"CL\", \"CL\", \"CL\", \"CL\", \"CL\", \"CL\", \"CL\", \"CL\", \"CL\", \"CL\", \"CL\", \"CL\", \"CL\", \"CL\", \"CL\", \"CL\", \"CL\", \"CL\", \"CL\", \"CL\", \"CL\", \"CL\", \"CL\", \"CL\", \"CL\", \"CL\", \"CL\", \"CL\", \"CL\", \"CL\", \"CL\", \"CL\", \"CL\", \"CL\", \"CL\", \"CL\", \"CL\", \"CL\", \"CL\", \"CL\", \"CL\", \"CL\", \"CL\", \"CL\", \"CL\", \"CL\", \"CL\", \"CL\", \"CL\", \"CL\", \"CL\", \"CL\", \"CL\", \"CL\", \"CL\", \"CL\", \"CL\", \"CL\", \"CL\", \"CL\", \"CL\", \"CL\", \"CL\", \"CL\", \"CL\", \"CL\", \"CL\", \"CL\", \"CL\", \"CL\", \"CL\", \"CL\", \"CL\", \"CL\", \"CL\", \"CL\", \"CL\", \"CL\", \"CL\", \"CL\", \"CL\", \"CL\", \"CL\", \"CL\", \"CL\", \"CL\", \"CL\", \"CL\", \"CL\", \"CL\", \"CL\", \"CL\", \"CL\", \"CL\", \"CL\", \"CL\", \"CL\", \"CL\", \"CL\", \"CL\", \"CL\", \"CL\", \"CL\", \"CL\", \"CL\", \"CL\", \"CL\", \"CL\", \"CL\", \"CL\", \"CL\", \"CL\", \"CL\", \"CL\", \"CL\", \"CL\", \"CL\", \"CL\", \"CL\", \"CL\", \"CL\", \"CL\", \"CL\", \"CL\", \"CL\", \"CL\", \"CL\", \"CL\", \"CL\", \"CL\", \"CL\", \"CL\", \"CL\", \"CL\", \"CL\", \"CL\", \"CL\", \"CL\", \"CL\", \"CL\", \"CL\", \"CL\", \"CL\", \"CL\", \"CL\", \"CL\", \"CL\", \"CL\", \"CL\", \"CL\", \"CL\", \"CL\", \"CL\", \"CL\", \"CL\", \"CL\", \"CL\", \"CL\", \"CL\", \"CL\", \"CL\", \"CL\", \"CL\", \"CL\", \"CL\", \"CL\", \"CL\", \"CL\", \"CL\", \"CL\", \"CL\", \"CL\", \"CL\", \"CL\", \"CL\", \"CL\", \"CL\", \"CL\", \"CL\", \"CL\", \"CL\", \"CL\", \"CL\", \"CL\", \"CL\", \"CL\", \"CL\", \"CL\", \"CL\", \"CL\", \"CL\", \"CL\", \"CL\", \"CL\", \"CL\", \"CL\", \"CL\", \"CL\", \"CL\", \"CL\", \"CL\", \"CL\", \"CL\", \"CL\", \"CL\", \"CL\", \"CL\", \"CL\", \"CL\", \"CL\", \"CL\", \"CL\", \"CL\", \"CL\", \"CL\", \"CL\", \"CL\", \"CL\", \"CL\", \"CL\", \"CL\", \"CL\", \"CL\", \"CL\", \"CL\", \"CL\", \"CL\", \"CL\", \"CL\", \"CL\", \"CL\", \"CL\", \"CL\", \"CL\", \"CL\", \"CL\", \"CL\", \"CL\", \"CL\", \"CL\", \"CL\", \"CL\", \"CL\", \"CL\", \"CL\", \"CL\", \"CL\", \"CL\", \"CL\", \"CL\", \"CL\", \"CL\", \"CL\", \"CL\", \"CL\", \"CL\", \"CL\", \"CL\", \"CL\", \"CL\", \"CL\", \"CL\", \"CL\", \"CL\", \"CL\", \"CL\", \"CL\", \"CL\", \"CL\", \"CL\", \"CL\", \"CL\", \"CL\", \"CL\", \"CL\", \"CL\", \"CL\", \"CL\", \"CL\", \"CL\", \"CL\", \"CL\", \"CL\", \"CL\", \"CL\", \"CL\", \"CL\", \"CL\", \"CL\", \"CL\", \"CL\", \"CL\", \"CL\", \"CL\", \"CL\", \"CL\", \"CL\", \"CL\", \"CL\", \"CL\", \"CL\", \"CL\", \"CL\", \"CL\", \"CL\", \"CL\", \"CL\", \"CL\", \"CL\", \"CL\", \"CL\", \"CL\", \"CL\", \"CL\", \"CL\", \"CL\", \"CL\", \"BR\", \"BR\", \"BR\", \"BR\", \"BR\", \"BR\", \"BR\", \"BR\", \"BR\", \"BR\", \"BR\", \"BR\", \"BR\", \"BR\", \"BR\", \"BR\", \"BR\", \"BR\", \"BR\", \"BR\", \"BR\", \"BR\", \"BR\", \"BR\", \"BR\", \"BR\", \"BR\", \"BR\", \"BR\", \"BR\", \"BR\", \"BR\", \"BR\", \"BR\", \"BR\", \"BR\", \"BR\", \"BR\", \"BR\", \"BR\", \"BR\", \"BR\", \"BR\", \"BR\", \"BR\", \"BR\", \"BR\", \"BR\", \"BR\", \"BR\", \"BR\", \"BR\", \"BR\", \"BR\", \"BR\", \"CA\", \"CA\", \"CA\", \"CA\", \"CA\", \"CA\", \"CA\", \"CA\", \"CA\", \"CA\", \"CA\", \"CA\", \"CA\", \"CA\", \"CA\", \"CO\", \"CO\", \"CO\", \"CO\", \"CO\", \"CO\", \"CO\", \"CO\", \"PE\", \"PE\", \"PE\", \"PE\", \"PE\", \"PE\", \"PE\", \"PE\", \"PE\", \"PE\", \"PE\", \"PE\", \"PE\", \"PE\", \"PE\", \"PE\", \"PE\", \"PE\", \"PE\", \"PE\", \"PE\", \"PE\", \"PE\", \"PE\", \"PE\", \"PE\", \"PE\", \"PE\", \"PE\", \"PE\", \"PE\", \"PE\", \"PE\", \"PE\", \"PE\", \"PE\", \"CR\", \"US\", \"US\", \"US\", \"US\", \"US\", \"US\", \"US\", \"US\", \"US\", \"US\", \"US\", \"US\", \"US\", \"US\", \"US\", \"US\", \"US\", \"US\", \"US\", \"US\", \"US\", \"US\", \"US\", \"US\", \"US\", \"US\", \"US\"], \"x0\": \" \", \"xaxis\": \"x\", \"y\": [-0.4522101239425592, -7.993270940929074, -5.574038636349272, -0.44695641374836664, -0.5994549223068568, -4.899403007743507, -0.06102445265867039, -0.8983422418808015, -2.287346568987613, -0.8752266185657293, -1.3997306843511006, -1.7846877276739725, -0.6407656021696149, -0.5550236452731321, -1.675197683031398, -0.40128553799704714, -0.1717208626531745, -1.4259738401561652, -0.05916886250886628, -0.7564766720759726, -1.1381987822616773, -0.288416684869387, -0.3898509165303806, -0.23255323531522146, -1.2185246604676387, -0.04240289250838363, -1.3663859889372258, -1.070016345370619, -0.11916590905284903, -0.41436552638802593, -0.44052324097897844, -0.3021640842408725, -0.2184271092617026, -0.46915862026816996, -0.883385587457139, -0.7741720328262874, -0.23716325741329183, -0.2999212834444753, -0.19829518028307258, -0.6765364974363653, -0.19177347213154083, -0.4230297179372215, -0.0907993198500546, -0.3370551487917446, -0.2422052502699387, -0.4455498293921143, -0.17272054542365997, -0.1197570404112474, -0.04665768947837002, -0.17869895070215733, -0.023211220311928533, -0.07188740304815529, -0.2820198119581477, -0.31105126318913345, -0.24709912347744808, -0.0722441643536052, -0.10067396312590014, -0.05545599663714836, -0.056355170036619474, -0.2059850587341371, -0.0574248485887631, -0.09020486632484871, -0.17418870738591474, -0.05175893019467181, -0.10406078623054614, -0.09713848175521021, -0.011278718803237933, -0.05045251488927718, -0.012819325608078637, -0.07281087968731262, -0.011265711204958945, -0.026347871705432485, -0.005598922737404402, -0.034454909153257864, -0.01658940070342045, -0.026543041125472722, -0.03415908417567879, -0.00728315152833093, -0.01165028367581113, -0.031105126318913347, 0.0, 0.0, 0.0, 0.0, 0.0, 0.0, 0.0, 0.0, 0.0, 0.0, 0.0, 0.0, 0.0, 0.0, 0.0, 0.0, 0.0, 0.0, 0.0, 0.0, 0.0, 0.0, 0.0, 4.714991264171559e-16, 0.002764900117236742, 0.02967429050824322, 0.010819174371795947, 0.026675756331099965, 0.03561981322462985, 0.03483774147718295, 0.06822768071115874, 0.05269574341086497, 0.09048764020047519, 0.03167067407016632, 0.07776281579728336, 0.08623170485637953, 0.05275429423687703, 0.02945465022852203, 0.12254462688842042, 0.08709435369295737, 0.16287775236085536, 0.11527887236171593, 0.25735690291239655, 0.07088198482370556, 0.05687794526887012, 0.015034567586472349, 0.29860921266156815, 0.2654304112547272, 0.45897341946129916, 0.5909974000593536, 0.11467699726251097, 0.09331537895674004, 0.17523072911759846, 0.025427387404860304, 0.12072718080326034, 0.22620450572051062, 0.5551068696913767, 0.20261188059110857, 0.6152905037144247, 0.09953640422052272, 0.6021952455341624, 0.16252967657155065, 0.908163042364892, 0.6182040172129635, 0.211362789462163, 0.1210190813904197, 1.9767376898172364, 1.5210821504966223, 0.3610634270744451, 0.16245092386934362, 0.3158817063351294, 3.0058998710555653, 0.175111733925053, 1.6806721852635265, 2.0870104138776138, 1.5071725760606758, -2.517208942121359, -0.5526496071968865, -0.07407092511026916, -0.2058800822198365, -0.6299273340317839, -0.27835986269115853, -0.3629325692170643, -0.5341949609756782, -0.7023034999774943, -0.03140839443628823, -0.3551172347484566, -0.2519201292475905, -0.24193720642317243, -0.3097778832454967, -0.2098728323233716, -0.04922432505942668, -1.9909963300332845, -0.2484957367773658, -0.5515490938125789, -0.19624684342636375, -0.2647275086080215, -0.887837945296025, -0.7792549236920879, -0.5058872690097829, -0.7085021186886813, -1.1748766541819171, -0.07023986415670148, -0.06320994874583889, -0.21798784189998444, -1.806897354311029, -0.7464441900629474, -0.4399019730519851, -0.29337649118800957, -0.04862317239217298, -0.028367613450194427, -0.19844213666146326, -0.2632907573424642, -0.31535472693164185, -0.051692605914605616, -0.23319203591485732, -0.3427422906039034, -0.6233065320882087, -0.189672342459097, -0.09978264266788932, -0.4805023375060184, -0.2501103908597035, -0.040229035435604035, -0.3102408664949125, -0.3201721316908796, -0.29455836115560924, -0.23402784966365608, -0.42194362191680407, -0.24351716365377746, -0.38769078416804453, -0.18663155422425506, -0.06607599739554045, -0.27273922329223077, -0.2689580658784067, -0.09820884865381077, -0.09054942213302063, -0.11234758005614583, -0.08759125055731258, -0.4355435596574393, -0.3068316262037596, -0.23716454199324416, -0.12121743257432478, -0.1550717298147255, -0.05949311628956902, -0.33240092838740626, -0.1071687274131972, -0.10128284698300027, -0.5345688776527724, -0.5303262675126709, -0.1545522265322641, -0.1657143317818165, -0.012019900742359788, -0.12834786978457918, -0.03132399726157011, -0.05258971690147629, -0.14611029819226648, -0.15734955189936392, -0.20455441746917308, -0.43941319308192733, -0.05456732603153846, -0.2545566084060821, -0.30683162620375964, -0.45172433857775723, -0.009568856457640343, -0.04850861899983247, -0.048389217035718364, -0.014727918057780462, -0.023379206220610023, -0.26455704659346385, -0.07787810524547076, -0.07917013565010587, -0.13552541881211563, -0.0603508068561532, -0.06855067551283996, -0.10489970126624261, -0.10101452714527065, -0.160434837230724, -0.14354695962748987, -0.14203971655140124, -0.09185467413020487, -0.25364747766177465, -0.10702049957445142, -0.03764234200834836, -0.1545522265322641, -0.009807006114124894, -0.2802395519327671, -0.06421404360159728, -0.032086967446144796, -0.010784331533238717, -0.10335381093179272, -0.24529483894845006, -0.02149826818891701, -0.06818480582305769, -0.05245684394653905, -0.17137114530195166, -0.01659437442922609, -0.022355674040346784, -0.07576089535895299, -0.09740686546151099, -0.08523100727882212, -0.10489970126624261, -0.0162344775769185, -0.17046201455764423, -0.13636961164611539, -0.09740686546151099, -0.09740686546151099, -0.17046201455764423, -0.05192535212679009, -0.12273265048150385, -0.030001314562145387, -0.01870211816861011, -0.030717255023287492, -0.13977885193726827, -0.051950328246139196, -0.12121743257432478, -0.016574152800066334, -0.11970221466714574, -0.0581843676356759, -0.05302371370475428, -0.025867610709122513, -0.01642001446351185, -0.014367512655572871, -0.015028487814061697, -0.04346781371219928, -0.028410335759607372, -0.009713344268126816, -0.019481373092302197, -0.008021741861536199, -0.020979940253248522, -0.0006452820740352463, -0.02727392232922308, -0.046024743930563945, -0.030993093555935314, -0.012397237422374125, -0.011798935964163896, -0.019930943240586092, -0.002466258934025491, -0.002072818097020954, -0.0010997549326299627, -0.009946959908304888, -0.0039008051703423702, -0.017046201455764423, -0.011364134303842949, -0.0014663399101732836, -0.012273265048150385, -0.010227720873458654, -0.0061366325240751925, -0.0015028487814061696, -0.004480715811229505, -0.002020290542905413, -0.0018661104751573686, -9.001294498093425e-05, -0.0006818480582305769, -0.001048997012662426, -0.0005929113549831104, -0.0005929113549831104, -0.00029934792800366793, -0.0006198618711187063, -0.0001136413430384295, -0.00012397237422374127, 0.0, 0.0, 0.0, 0.0, 0.0, 0.0, 0.0, 0.0, 0.0, 0.0, 0.0, 0.0, 0.0, 0.0, 0.0, 0.0, 0.0, 0.0, 0.0, 0.0, 0.0, 0.0, 0.0, 0.0, 0.0, 0.0, 0.0, 0.0, 0.0, 0.0, 0.0, 0.0, 0.0, 0.0, 0.0, 0.0, 0.0, 0.0, 0.0, 0.0, 0.0, 0.0, 0.0, 0.0, 0.0, 0.0, 0.0, 0.0, 0.0, 0.0, 0.0, 0.0, 0.0, 0.0, 0.0, 0.0, 0.0, 0.0, 0.0, 0.0, 0.0, 0.0, 0.0, 0.0, 0.0, 0.0, 0.0, 0.0, 0.0, 0.0, 0.0, 0.0, 0.0, 0.0, 0.0, 0.0, 0.0, 0.0, 0.0, 0.0, 0.0, 0.0, 0.0, 0.0, 0.0, 0.0, 0.0, 0.0, 0.0, 0.0, 0.0, 0.0, 0.0, 0.0, 0.0, 0.0, 0.0, 0.0, 0.0, 0.0, 0.0, 0.0, 0.0, 0.0, 0.0, 0.0, 0.0, 0.0, 0.0, 0.0, 0.0, 0.0, 0.0, 0.0, 0.0, 0.0, 0.0, 0.0, 0.0, 0.0, 0.0, 0.0, 0.0, 0.0, 0.0, 0.0, 0.0, 0.0, 0.0, 0.0, 0.0, 0.0, 0.0, 0.0, 0.0, 0.0, 0.0, 0.0, 0.0, 0.0, 0.0, 0.0, 0.0, 0.0, 0.0, 0.0, 0.0, 0.0, 0.0, 0.0, 0.0, 0.0, 0.0, 0.0, 0.0, 0.0, 0.0, 0.0, 0.0, 0.0, 0.0, 0.0, 0.0, 0.0, 0.0, 0.0, 0.0, 0.0, 0.0, 0.0, 0.0, 0.0, 0.0, 0.0, 0.0, 0.0, 0.0, 0.0, 0.0, 0.0, 0.0, 0.00013636961164611538, 0.00011364134303842948, 0.00027273922329223077, 0.0010227720873458655, 0.0004363827572675692, 0.000487034327307555, 0.00037880447679476497, 0.00021645970102558, 0.0027273922329223077, 0.0006225569227322659, 0.0016529649896498836, 0.0011132213195601257, 0.0027273922329223077, 0.0027273922329223077, 0.007219567675382579, 0.015341581310187981, 0.001792286324491802, 0.005764715401403969, 0.00843786972060339, 0.004545653721537179, 0.008021741861536199, 0.010909568931689232, 0.003409240291152885, 0.0025202485190294745, 0.01363696116461154, 0.0016655830430059896, 0.022315027360273427, 0.014394570118201068, 0.016043483723072398, 0.003186205879582135, 0.030683162620375962, 0.0037071350738749815, 0.026070661049992647, 0.05757828047280427, 0.016488325771757587, 0.032086967446144796, 0.007576089535895299, 0.025975164123069598, 0.032086967446144796, 0.06060871628716239, 0.0027273922329223077, 0.030216635001586622, 0.006220124123042202, 0.040910883493834614, 0.03588673990687247, 0.06818480582305769, 0.026224925316560652, 0.045939512923285124, 0.0688046676941764, 0.002353207322917723, 0.0458041460293717, 0.09091307443074359, 0.013197059191559554, 0.05741878385099595, 0.04418375417334139, 0.15171119295630336, 0.023414405018483964, 0.06273002135721309, 0.007138911910217406, 0.10385070425358019, 0.03292827208040347, 0.025988900988711608, 0.09091307443074359, 0.015322428274844426, 0.11364134303842949, 0.04132412474124709, 0.09091307443074359, 0.043990197305198514, 0.02194901368399381, 0.03695616475609727, 0.09375410800670433, 0.024567837848120475, 0.21648675848820817, 0.07954894012690064, 0.10120060653738037, 0.046105916318448535, 0.11679656150396707, 0.2657502806953674, 0.2413742126136242, 0.10390065649227839, 0.009162333282473378, 0.029319466503914808, 0.01658549330831133, 0.051138604367293276, 0.07918235514935733, 0.20910007119071028, 0.02800709228430972, 0.265920742709925, 0.02964556774915552, 0.009953986251541268, 0.13773330776257656, 0.33289337420723947, 0.33486315748657225, 0.19091745630456156, 0.1332864726002032, 0.030750010469222096, 0.029589632715666548, 0.297533698136979, 0.3272870679506769, 0.36365229772297436, 0.40910883493834616, 0.36819795144451156, 0.18273527960579464, 0.038865339319142884, 0.39301722076410456, 0.07909437475474693, 0.02390575722230095, 0.4530501542465389, 0.19448904137148362, 0.08523100727882212, 0.21532043944123483, 0.16364353397533848, 0.27273922329223077, 0.16259453696267603, 0.16369598382597156, 0.27273922329223077, 0.030593445770608782, 0.6409371747367423, 0.14727918057780462, 0.4059618439003589, 0.16620046419370313, 0.2532578501999286, 0.0655559940322892, 0.24794474844748252, 0.25104405780307604, 0.3485948197703825, 0.27193340285977646, 0.03993044837742464, 0.418381968530282, 0.05810277897913549, 0.4554745028980254, 0.7712459147541415, 0.3934263295990429, 0.2769352113428805, 0.10507932404238343, 0.24708469010130532, 0.04927711733715457, 0.5843437859036044, 0.17787340649493313, 0.3780279276173357, 0.14007966725707588, 0.2146515716931833, 0.30114955905183816, 0.2863761844568423, 0.008050617822160879, 0.11277766883133741, 0.6390431523527684, 0.18863717755244616, 0.12273265048150385, 0.07978507798256491, 0.04666010234846062, 0.2694782108398237, 0.25708294287824407, 0.34092402911528846, 0.06234039389536704, 0.13674987306320552, 0.25942459030060094, 0.6508549646746417, 0.16703691733490458, 0.457093892036323, 0.4022534977042442, 0.3652044721644748, 1.1538967139286687, 0.10900032595210482, 0.27673461366852925, 0.131613305678946, 0.22375106280089546, 0.11094272076577007, 0.29751303607460844, 0.05036245817334996, 0.14863230540654127, 0.24140747349451352, 0.34570714235959255, 0.09686045563453966, 0.08840308302798176, 0.13997727332987506, 0.30415020125566183, 1.3038233631574785, 0.38328952180001497, 0.1434275705708241, 1.143556600518139, 0.937633221696534, 0.5387438857631688, 0.19690102089719722, 0.23023870586382308, 0.6018725259851936, 0.6439676105511004, 0.520163857755901, 1.2992235945106847, 0.4404497094025021, 3.665907381643966, 1.157597892067685, 3.4850011865118375, 0.23371462019306324, 1.7900085024071637, 0.923222270844201, 0.8296424128968225, 0.5296815372085424, 0.2544233047778845, 7.147282868163625, 0.24324172541254352, 0.34831099024734796, 0.2721119230786586, 1.2294672791654608, 0.6157402292941152, 2.123097330758643, -1.6992597143638544, -1.486366441493174, -0.6687864892214673, -2.7346448928235043, -0.2516817569218139, -1.5374402051068232, -0.38279625495379704, -1.25012337955801, -0.9836542432273455, -1.0374031527978793, -0.6868809777892635, -0.6442153993980332, -0.6042140006069815, -0.038356653375148805, -0.46584438214736756, -0.2951885193805099, -0.41264895105067206, -0.24365352370532947, -0.3394667972875862, -0.32757725970142776, -0.23594582347706008, -0.21724030098159414, -0.14888570946254473, -0.03295712730583505, -0.08786470772185531, -0.05199343239088539, -0.023430588725828958, -0.008050595983105481, -1.310900363285006e-15, -1.310900363285006e-15, 0.04575422050397913, 0.04907509134700929, 0.04990091637146723, 0.11549250820762542, 0.07497788392264963, 0.11104710967171562, 0.22848726740510628, 0.3809776828254708, 0.33466998384765323, 0.33443517479814616, 0.3147447587894689, 0.3877187668017083, 0.26441176182009873, 0.5591809793264888, 0.12077446944561343, 0.36898564922563754, 1.0815891842926508, 0.38737131347153547, 0.3733212306040392, 0.5248502769157777, 0.3238203865848457, 1.262176910784497, 0.9474145812498271, 0.6812771520770119, 0.6627567237341221, -1.6066345065208363, -2.548771122255509, -0.3831096889433958, 0.024084897952693148, 0.14347291944588156, 0.3877136543453359, 0.8767192168694077, 0.845949225788584, 0.586032032168664, 1.3491087346125978, 1.6722087950793127, 1.5377431215916428, 1.6888572052164876, 4.277022223163561, 1.1296132620501274, -4.790323276768072, -0.5526533357622296, -0.3121683887627023, -0.06383637957422691, 0.0, 0.0, 0.08174170555236374, 0.8152011546599779, -1.3728720483250962, -0.19717551003491768, -0.18363000763450782, -0.828871499176277, -0.41629704726904027, -0.035263199184121866, -0.16896886748616569, -0.04474545935281772, -0.1372872048325096, -0.0265717170643567, -0.011767474699929099, -0.0032948929159802385, 0.0, 0.0, 0.0, 0.0, 0.0, 0.0, 0.0, 0.0, 0.0, 0.0, 1.0838714011838736e-16, 9.754842610654863e-17, 1.8580652591723548e-16, 0.009152480322167308, 0.013074971888810391, 0.0021451125755079627, 0.20593080724876442, 0.2114222954420649, 0.13220249354241675, 0.0366166019312397, 0.10596251865945816, 0.6653149157267774, 0.8631573442117091, 8.014712612117885, -0.15255234502867007, -29.67222222222223, -5.803888888888888, -2.023125000000002, -1.1603846153846151, -1.1855555555555528, -0.7070588235294107, -0.968333333333334, -0.2114893617021271, -0.5381249999999982, -0.32333333333333336, -0.0023529411764674035, 1.7763568394002505e-15, 0.02809523809523809, 0.22799999999999726, 0.20538461538461578, 0.746249999999999, 0.27411764705882313, 1.1192857142857142, 1.754545454545454, 2.51, 0.933243243243244, 0.41854166666666576, 0.7504938271604937, 5.614000000000001, 5.251176470588234, 1.8175409836065584, 3.7148571428571406], \"y0\": \" \", \"yaxis\": \"y\"}, {\"alignmentgroup\": \"True\", \"customdata\": [[-80.2203696174881, 96.0], [-61.08250517800818, 10740.0], [-41.23245776633043, 95.0], [-2.685492185869702, 8.0], [-0.49768202110261356, 34.0], [0.6469866274333976, 13.0], [1.6408576235753183, 159.0], [2.1480676360030366, 109.0], [2.4884101055130676, 19.0], [4.110853494307587, 44.0], [8.39937947014879, 131.0], [13.751451925086304, 259.0], [13.935096590873183, 257.0], [14.239180305766912, 872.0], [24.386916716049168, 17.0], [27.592486613971094, 179.0], [54.28416876974647, 32.0], [55.995697240318464, 437.0], [56.21766342173013, 495.0], [59.95077626202084, 475.0], [72.54412212400136, 273.0], [73.71992730597411, 42.0], [82.86903333379631, 1273.0], [89.21855104666326, 101.0], [98.10777851093326, 321.0], [98.70029842507032, 376.0], [108.83310437471947, 366.0], [116.06492182336116, 977.0], [116.20228206118594, 397.0], [158.49231412235943, 806.0], [248.243792125984, 743.0], [487.1455950338501, 269.0], [1855.1923488754953, 2181.0], [2035.761339771943, 3924.0], [4812.9136141961835, 7634.0], [15581.515811034329, 11187.0], [15710.133831215191, 15973.0], [31685.447941938295, 29349.0], [96836.85150769685, 19500.0], [9.359728295331129, 112.0], [116.58238099626405, 1098.0], [1600.9925367625333, 1884.0], [1646.0725802084157, 1638.0], [1917.1276387968169, 3574.0], [3697.979760979554, 3383.0], [4526.482426966597, 4107.0], [4732.791921337655, 2485.0], [5267.525806220519, 1624.0], [17496.0580761411, 10926.0], [250658.60998364844, 71657.0], [-243.57111690849072, 29.0], [-193.85030063677675, 875.0], [-189.52578886069224, 67.0], [-142.24396776283075, 168.0], [-48.565891136318925, 108.0], [-25.0615052821218, 318.0], [-23.788504795983215, 108.0], [-17.506524121975595, 40.0], [-14.836912921046947, 691.0], [-11.398618372958829, 705.0], [-9.267074576427461, 81.0], [-2.416856002243428, 13.0], [-0.9224641230640938, 9.0], [-0.643879956053814, 46.0], [1.9168804477271726, 12.0], [2.4334603584879995, 15.0], [3.394667982285059, 130.0], [5.625186222444846, 34.0], [6.073503788467907, 38.0], [8.827981667132569, 100.0], [14.814773818438749, 86.0], [22.53948840029045, 192.0], [30.80476692744745, 113.0], [46.385185966368816, 70.0], [57.55807143451482, 271.0], [64.13893054786084, 675.0], [74.2509822183971, 244.0], [81.33735159185012, 287.0], [81.3521110205866, 109.0], [118.59752246117114, 332.0], [143.3158711356366, 617.0], [144.02063371772473, 689.0], [220.4338718232603, 529.0], [239.46615158133432, 642.0], [250.73497331348196, 344.0], [261.81007762424895, 839.0], [293.44875207503696, 568.0], [346.0716404970978, 1368.0], [347.1177148556573, 2288.0], [736.5876026600178, 2791.0], [1400.9647135575685, 7204.0], [3239.8415953781246, 8281.0], [7770.315659006786, 13394.0], [-768.2856898557453, 815.0], [4.305053181683774, 10.0], [6.063002194102373, 11.0], [13.014000051773577, 33.0], [18.355309657109768, 17.0], [100.57335338383629, 180.0], [255.5748791361035, 392.0], [303.3791686572041, 880.0], [508.2755390925969, 232.0], [1208.5824937773637, 1198.0], [5608.356258839754, 2078.0], [7415.125421543104, 18115.0], [21535.75555330698, 11875.0], [-69.48166416770596, 36.0], [-25.42802292504519, 16.0], [6.3419419026666475, 11.0], [10.327620755853873, 149.0], [11.469024564550258, 187.0], [11.6971539873604, 38.0], [14.525005955467117, 55.0], [65.04042711208889, 24.0], [82.61227807126943, 87.0], [174.24673149951656, 149.0], [2057.4702016451106, 708.0], [5381.565032019393, 2135.0], [-3.289401427786949, 86.0], [48.96485447556284, 203.0], [80.64524986271269, 299.0], [106.58704008786384, 323.0], [113.89346512904994, 228.0], [140.09335529928615, 22.0], [2030.7852828116438, 1144.0], [3157.2075782537086, 1926.0], [5220.661724327285, 2287.0], [15766.786038570905, 7092.0], [-13.760334214823116, 32.0], [-2.6767746947303657, 10.0], [-0.1286499461261235, 11.0], [3.292243092574156, 96.0], [4.161597920852245, 8.0], [32.53352493143517, 36.0], [36.025480038891935, 80.0], [54.37197169590126, 94.0], [320.8933228832404, 337.0], [-581.2, 356.0], [-70.26999999999991, 153.0], [-68.28, 169.0], [-63.93000000000003, 78.0], [7.519999999999982, 12.0], [13.91000000000001, 23.0], [87.92000000000002, 326.0], [344.15999999999957, 438.0], [568.8599999999998, 372.0], [636.1099999999996, 609.0], [673.8700000000007, 485.0], [1588.5099999999975, 977.0], [4951.81000000001, 2985.0]], \"hovertemplate\": \"<b>%{hovertext}</b><br><br>Service type=Full service<br>Country=%{x}<br>Markup per order (USD)=%{y}<br>Markup (USD)=%{customdata[0]}<br>Total orders=%{customdata[1]}<extra></extra>\", \"hovertext\": [\"City Market Farmacia\", \"City Market\", \"Modelorama\", \"Farmacias Purex\", \"The Home Store\", \"K\", \"Maskota\", \"El Globo\", \"Innovasport\", \"Extra\", \"Steren\", \"Parisina\", \"Nespresso\", \"Fantas\\u00edas Miguel\", \"GamePlanet\", \"Chedraui Farmacia\", \"Mixup\", \"Alsuper Plus\", \"Circle K\", \"Bed Bath and Beyond\", \"Bodegas Alianza\", \"HEB Home\", \"Fresh Market\", \"Juguetron\", \"Krispy Kreme\", \"Vinoteca\", \"Sumesa\", \"Alsuper\", \"OXXO\", \"Lumen\", \"OfficeMax\", \"Sanborns\", \"Petco\", \"Fresko\", \"La Comer\", \"Soriana\", \"Costco\", \"Chedraui\", \"HEB\", \"Liquimax\", \"Casaideas\", \"Unimarc\", \"Paris\", \"Easy\", \"Farmacias Ahumada\", \"Santa Isabel\", \"Salcobrand\", \"SPID 35\", \"Lider\", \"Jumbo\", \"Hippo\", \"Kalunga\", \"Akk\\u00ed Atacadista\", \"Supermercado Tatico\", \"Mercantil Rodrigues\", \"Nacional\", \"Supermercado Violeta\", \"Casa do Sab\\u00e3o\", \"Carrefour Bairro\", \"Hirota Supermercados\", \"Varanda\", \"Callfarma\", \"Exclusiva Sex\", \"Muffato Gourmet\", \"Hirota Express\", \"Rede Big Market\", \"Mercadorama\", \"Poupafarma\", \"Gimba\", \"Public Superatacados\", \"Perini\", \"Bretas\", \"Bompre\\u00e7o\", \"Super Bompre\\u00e7o\", \"Muffato\", \"Emporium S\\u00e3o Paulo\", \"GBarbosa\", \"Carrefour Drogaria\", \"Princesa Supermercados\", \"Barbosa Supermercados\", \"Rold\\u00e3o Atacadista\", \"BIG Bompre\\u00e7o\", \"Bem Barato Supermercados\", \"Droga Raia\", \"Super Nosso\", \"Carrefour Pamplona\", \"Drogasil\", \"Maxxi\", \"Prezunic\", \"Sam's Club\", \"Big\", \"Atacad\\u00e3o\", \"Carrefour Hiper\", \"Organic Garage\", \"Well.ca Pharmacy\", \"Brunet\", \"Canadian Tire\", \"The Body Shop\", \"Galleria Supermarket\", \"Jean Coutu\", \"Rexall\", \"H&M\", \"Costco\", \"Longo's\", \"Walmart\", \"Metro\", \"Locatel\", \"Puppis\", \"Metro\", \"Justo & Bueno\", \"Ara\", \"Farmatodo\", \"Surtifruver\", \"Easy\", \"Colsubsidio\", \"Euro\", \"Alkosto\", \"Jumbo\", \"Boticas Per\\u00fa\", \"Tai Loy\", \"Inkafarma\", \"Flora & Fauna\", \"Casaideas\", \"Wong Gourmet\", \"Vivanda\", \"Makro\", \"Metro\", \"Wong\", \"Maxiconsumo\", \"Super F\\u00e1cil\", \"Super Sal\\u00f3n\", \"Fresh Market\", \"Fischel\", \"Mayca\", \"Saretto\", \"Super Compro\", \"Perimercado\", \"Gristedes\", \"D'Agostino\", \"Streets Market\", \"Aqui Market\", \"The Body Shop\", \"Cox Farms Market\", \"Westside Market\", \"Fiesta Mart\", \"Albertsons\", \"Randalls\", \"Fresco y M\\u00e1s\", \"Tom Thumb\", \"Winn-Dixie\"], \"legendgroup\": \"Full service\", \"marker\": {\"color\": \"#EF553B\"}, \"name\": \"Full service\", \"notched\": false, \"offsetgroup\": \"Full service\", \"orientation\": \"v\", \"showlegend\": true, \"type\": \"box\", \"x\": [\"MX\", \"MX\", \"MX\", \"MX\", \"MX\", \"MX\", \"MX\", \"MX\", \"MX\", \"MX\", \"MX\", \"MX\", \"MX\", \"MX\", \"MX\", \"MX\", \"MX\", \"MX\", \"MX\", \"MX\", \"MX\", \"MX\", \"MX\", \"MX\", \"MX\", \"MX\", \"MX\", \"MX\", \"MX\", \"MX\", \"MX\", \"MX\", \"MX\", \"MX\", \"MX\", \"MX\", \"MX\", \"MX\", \"MX\", \"CL\", \"CL\", \"CL\", \"CL\", \"CL\", \"CL\", \"CL\", \"CL\", \"CL\", \"CL\", \"CL\", \"BR\", \"BR\", \"BR\", \"BR\", \"BR\", \"BR\", \"BR\", \"BR\", \"BR\", \"BR\", \"BR\", \"BR\", \"BR\", \"BR\", \"BR\", \"BR\", \"BR\", \"BR\", \"BR\", \"BR\", \"BR\", \"BR\", \"BR\", \"BR\", \"BR\", \"BR\", \"BR\", \"BR\", \"BR\", \"BR\", \"BR\", \"BR\", \"BR\", \"BR\", \"BR\", \"BR\", \"BR\", \"BR\", \"BR\", \"BR\", \"BR\", \"BR\", \"BR\", \"CA\", \"CA\", \"CA\", \"CA\", \"CA\", \"CA\", \"CA\", \"CA\", \"CA\", \"CA\", \"CA\", \"CA\", \"CA\", \"CO\", \"CO\", \"CO\", \"CO\", \"CO\", \"CO\", \"CO\", \"CO\", \"CO\", \"CO\", \"CO\", \"CO\", \"PE\", \"PE\", \"PE\", \"PE\", \"PE\", \"PE\", \"PE\", \"PE\", \"PE\", \"PE\", \"CR\", \"CR\", \"CR\", \"CR\", \"CR\", \"CR\", \"CR\", \"CR\", \"CR\", \"US\", \"US\", \"US\", \"US\", \"US\", \"US\", \"US\", \"US\", \"US\", \"US\", \"US\", \"US\", \"US\"], \"x0\": \" \", \"xaxis\": \"x\", \"y\": [-0.8356288501821677, -0.0056873840947866084, -0.4340258712245308, -0.33568652323371273, -0.014637706503018046, 0.04976820211026135, 0.010319859267769297, 0.01970704253213795, 0.1309689529217404, 0.09342848850699062, 0.06411740053548695, 0.0530944089771672, 0.054222165723241955, 0.016329335213035447, 1.4345245127087747, 0.15414796991045304, 1.6963802740545773, 0.1281366069572505, 0.11357103721561643, 0.12621216055162282, 0.26572938506960203, 1.755236364427955, 0.06509743388357919, 0.8833519905610224, 0.3056317087568014, 0.26250079368369766, 0.2973582086740969, 0.11879725877519054, 0.29270096237074544, 0.19664058824114072, 0.33411008361505246, 1.8109501674120823, 0.850615474037366, 0.5187974871997816, 0.6304576387472077, 1.392823438905366, 0.9835430934210976, 1.0796091158791883, 4.965992385010095, 0.08356900263688508, 0.10617703187273593, 0.849783724396249, 1.004928315145553, 0.5364095240058245, 1.0931066393672935, 1.1021384044233253, 1.904544032731451, 3.243550373288497, 1.6013232725737783, 3.4980338275904437, -8.399004031327266, -0.22154320072774486, -2.8287431173237647, -0.846690284302564, -0.4496841771881382, -0.07880976503811887, -0.22026393329614088, -0.4376631030493899, -0.021471654010198186, -0.01616825301128912, -0.11440832810404274, -0.18591200017257137, -0.10249601367378819, -0.013997390348995956, 0.15974003731059772, 0.16223069056586664, 0.026112830632961992, 0.165446653601319, 0.1598290470649449, 0.08827981667132569, 0.17226481184231102, 0.11739316875151275, 0.2726085568800659, 0.6626455138052688, 0.21239140750743477, 0.09502063784868273, 0.3043073041737586, 0.28340540624338023, 0.7463496423907028, 0.3572214531962986, 0.23227855937704472, 0.20902849596186462, 0.4166991905921745, 0.3730002361079974, 0.728880736376401, 0.31205015211471865, 0.5166351268926707, 0.2529763453926154, 0.1517122879613887, 0.2639153001289924, 0.194470393331145, 0.3912379658710451, 0.5801340644323417, -0.9426818280438592, 0.4305053181683774, 0.5511820176456703, 0.39436363793253265, 1.0797240974770452, 0.5587408521324239, 0.6519767324900599, 0.3447490552922774, 2.190842840916366, 1.0088334672599029, 2.6989202400576295, 0.4093362087520344, 1.8135373097521668, -1.930046226880721, -1.5892514328153244, 0.5765401729696952, 0.06931289097888506, 0.061331682163370364, 0.3078198417726421, 0.2640910173721294, 2.7100177963370373, 0.9495664146122923, 1.1694411510034668, 2.906031358255806, 2.5206393592596688, -0.038248853811476156, 0.24120617968257554, 0.2697165547247916, 0.329990836185337, 0.4995327417940787, 6.367879786331188, 1.7751619604996887, 1.6392562711597656, 2.282755454450059, 2.2231790804527503, -0.4300104442132224, -0.26767746947303656, -0.011695449647829408, 0.03429419888098079, 0.5201997401065306, 0.9037090258731991, 0.4503185004861492, 0.5784252308074602, 0.9522057058849863, -1.6325842696629216, -0.4592810457516334, -0.40402366863905326, -0.819615384615385, 0.6266666666666652, 0.6047826086956526, 0.2696932515337424, 0.7857534246575333, 1.5291935483870962, 1.0445155993431847, 1.3894226804123726, 1.625905834186282, 1.6588978224455646], \"y0\": \" \", \"yaxis\": \"y\"}],                        {\"annotations\": [{\"showarrow\": false, \"text\": \"Data from stores with at least 8 weekly orders\", \"x\": \"CR\", \"y\": -3.5}], \"boxmode\": \"group\", \"legend\": {\"title\": {\"text\": \"Service type\"}, \"tracegroupgap\": 0}, \"template\": {\"data\": {\"bar\": [{\"error_x\": {\"color\": \"#2a3f5f\"}, \"error_y\": {\"color\": \"#2a3f5f\"}, \"marker\": {\"line\": {\"color\": \"#E5ECF6\", \"width\": 0.5}}, \"type\": \"bar\"}], \"barpolar\": [{\"marker\": {\"line\": {\"color\": \"#E5ECF6\", \"width\": 0.5}}, \"type\": \"barpolar\"}], \"carpet\": [{\"aaxis\": {\"endlinecolor\": \"#2a3f5f\", \"gridcolor\": \"white\", \"linecolor\": \"white\", \"minorgridcolor\": \"white\", \"startlinecolor\": \"#2a3f5f\"}, \"baxis\": {\"endlinecolor\": \"#2a3f5f\", \"gridcolor\": \"white\", \"linecolor\": \"white\", \"minorgridcolor\": \"white\", \"startlinecolor\": \"#2a3f5f\"}, \"type\": \"carpet\"}], \"choropleth\": [{\"colorbar\": {\"outlinewidth\": 0, \"ticks\": \"\"}, \"type\": \"choropleth\"}], \"contour\": [{\"colorbar\": {\"outlinewidth\": 0, \"ticks\": \"\"}, \"colorscale\": [[0.0, \"#0d0887\"], [0.1111111111111111, \"#46039f\"], [0.2222222222222222, \"#7201a8\"], [0.3333333333333333, \"#9c179e\"], [0.4444444444444444, \"#bd3786\"], [0.5555555555555556, \"#d8576b\"], [0.6666666666666666, \"#ed7953\"], [0.7777777777777778, \"#fb9f3a\"], [0.8888888888888888, \"#fdca26\"], [1.0, \"#f0f921\"]], \"type\": \"contour\"}], \"contourcarpet\": [{\"colorbar\": {\"outlinewidth\": 0, \"ticks\": \"\"}, \"type\": \"contourcarpet\"}], \"heatmap\": [{\"colorbar\": {\"outlinewidth\": 0, \"ticks\": \"\"}, \"colorscale\": [[0.0, \"#0d0887\"], [0.1111111111111111, \"#46039f\"], [0.2222222222222222, \"#7201a8\"], [0.3333333333333333, \"#9c179e\"], [0.4444444444444444, \"#bd3786\"], [0.5555555555555556, \"#d8576b\"], [0.6666666666666666, \"#ed7953\"], [0.7777777777777778, \"#fb9f3a\"], [0.8888888888888888, \"#fdca26\"], [1.0, \"#f0f921\"]], \"type\": \"heatmap\"}], \"heatmapgl\": [{\"colorbar\": {\"outlinewidth\": 0, \"ticks\": \"\"}, \"colorscale\": [[0.0, \"#0d0887\"], [0.1111111111111111, \"#46039f\"], [0.2222222222222222, \"#7201a8\"], [0.3333333333333333, \"#9c179e\"], [0.4444444444444444, \"#bd3786\"], [0.5555555555555556, \"#d8576b\"], [0.6666666666666666, \"#ed7953\"], [0.7777777777777778, \"#fb9f3a\"], [0.8888888888888888, \"#fdca26\"], [1.0, \"#f0f921\"]], \"type\": \"heatmapgl\"}], \"histogram\": [{\"marker\": {\"colorbar\": {\"outlinewidth\": 0, \"ticks\": \"\"}}, \"type\": \"histogram\"}], \"histogram2d\": [{\"colorbar\": {\"outlinewidth\": 0, \"ticks\": \"\"}, \"colorscale\": [[0.0, \"#0d0887\"], [0.1111111111111111, \"#46039f\"], [0.2222222222222222, \"#7201a8\"], [0.3333333333333333, \"#9c179e\"], [0.4444444444444444, \"#bd3786\"], [0.5555555555555556, \"#d8576b\"], [0.6666666666666666, \"#ed7953\"], [0.7777777777777778, \"#fb9f3a\"], [0.8888888888888888, \"#fdca26\"], [1.0, \"#f0f921\"]], \"type\": \"histogram2d\"}], \"histogram2dcontour\": [{\"colorbar\": {\"outlinewidth\": 0, \"ticks\": \"\"}, \"colorscale\": [[0.0, \"#0d0887\"], [0.1111111111111111, \"#46039f\"], [0.2222222222222222, \"#7201a8\"], [0.3333333333333333, \"#9c179e\"], [0.4444444444444444, \"#bd3786\"], [0.5555555555555556, \"#d8576b\"], [0.6666666666666666, \"#ed7953\"], [0.7777777777777778, \"#fb9f3a\"], [0.8888888888888888, \"#fdca26\"], [1.0, \"#f0f921\"]], \"type\": \"histogram2dcontour\"}], \"mesh3d\": [{\"colorbar\": {\"outlinewidth\": 0, \"ticks\": \"\"}, \"type\": \"mesh3d\"}], \"parcoords\": [{\"line\": {\"colorbar\": {\"outlinewidth\": 0, \"ticks\": \"\"}}, \"type\": \"parcoords\"}], \"pie\": [{\"automargin\": true, \"type\": \"pie\"}], \"scatter\": [{\"marker\": {\"colorbar\": {\"outlinewidth\": 0, \"ticks\": \"\"}}, \"type\": \"scatter\"}], \"scatter3d\": [{\"line\": {\"colorbar\": {\"outlinewidth\": 0, \"ticks\": \"\"}}, \"marker\": {\"colorbar\": {\"outlinewidth\": 0, \"ticks\": \"\"}}, \"type\": \"scatter3d\"}], \"scattercarpet\": [{\"marker\": {\"colorbar\": {\"outlinewidth\": 0, \"ticks\": \"\"}}, \"type\": \"scattercarpet\"}], \"scattergeo\": [{\"marker\": {\"colorbar\": {\"outlinewidth\": 0, \"ticks\": \"\"}}, \"type\": \"scattergeo\"}], \"scattergl\": [{\"marker\": {\"colorbar\": {\"outlinewidth\": 0, \"ticks\": \"\"}}, \"type\": \"scattergl\"}], \"scattermapbox\": [{\"marker\": {\"colorbar\": {\"outlinewidth\": 0, \"ticks\": \"\"}}, \"type\": \"scattermapbox\"}], \"scatterpolar\": [{\"marker\": {\"colorbar\": {\"outlinewidth\": 0, \"ticks\": \"\"}}, \"type\": \"scatterpolar\"}], \"scatterpolargl\": [{\"marker\": {\"colorbar\": {\"outlinewidth\": 0, \"ticks\": \"\"}}, \"type\": \"scatterpolargl\"}], \"scatterternary\": [{\"marker\": {\"colorbar\": {\"outlinewidth\": 0, \"ticks\": \"\"}}, \"type\": \"scatterternary\"}], \"surface\": [{\"colorbar\": {\"outlinewidth\": 0, \"ticks\": \"\"}, \"colorscale\": [[0.0, \"#0d0887\"], [0.1111111111111111, \"#46039f\"], [0.2222222222222222, \"#7201a8\"], [0.3333333333333333, \"#9c179e\"], [0.4444444444444444, \"#bd3786\"], [0.5555555555555556, \"#d8576b\"], [0.6666666666666666, \"#ed7953\"], [0.7777777777777778, \"#fb9f3a\"], [0.8888888888888888, \"#fdca26\"], [1.0, \"#f0f921\"]], \"type\": \"surface\"}], \"table\": [{\"cells\": {\"fill\": {\"color\": \"#EBF0F8\"}, \"line\": {\"color\": \"white\"}}, \"header\": {\"fill\": {\"color\": \"#C8D4E3\"}, \"line\": {\"color\": \"white\"}}, \"type\": \"table\"}]}, \"layout\": {\"annotationdefaults\": {\"arrowcolor\": \"#2a3f5f\", \"arrowhead\": 0, \"arrowwidth\": 1}, \"autotypenumbers\": \"strict\", \"coloraxis\": {\"colorbar\": {\"outlinewidth\": 0, \"ticks\": \"\"}}, \"colorscale\": {\"diverging\": [[0, \"#8e0152\"], [0.1, \"#c51b7d\"], [0.2, \"#de77ae\"], [0.3, \"#f1b6da\"], [0.4, \"#fde0ef\"], [0.5, \"#f7f7f7\"], [0.6, \"#e6f5d0\"], [0.7, \"#b8e186\"], [0.8, \"#7fbc41\"], [0.9, \"#4d9221\"], [1, \"#276419\"]], \"sequential\": [[0.0, \"#0d0887\"], [0.1111111111111111, \"#46039f\"], [0.2222222222222222, \"#7201a8\"], [0.3333333333333333, \"#9c179e\"], [0.4444444444444444, \"#bd3786\"], [0.5555555555555556, \"#d8576b\"], [0.6666666666666666, \"#ed7953\"], [0.7777777777777778, \"#fb9f3a\"], [0.8888888888888888, \"#fdca26\"], [1.0, \"#f0f921\"]], \"sequentialminus\": [[0.0, \"#0d0887\"], [0.1111111111111111, \"#46039f\"], [0.2222222222222222, \"#7201a8\"], [0.3333333333333333, \"#9c179e\"], [0.4444444444444444, \"#bd3786\"], [0.5555555555555556, \"#d8576b\"], [0.6666666666666666, \"#ed7953\"], [0.7777777777777778, \"#fb9f3a\"], [0.8888888888888888, \"#fdca26\"], [1.0, \"#f0f921\"]]}, \"colorway\": [\"#636efa\", \"#EF553B\", \"#00cc96\", \"#ab63fa\", \"#FFA15A\", \"#19d3f3\", \"#FF6692\", \"#B6E880\", \"#FF97FF\", \"#FECB52\"], \"font\": {\"color\": \"#2a3f5f\"}, \"geo\": {\"bgcolor\": \"white\", \"lakecolor\": \"white\", \"landcolor\": \"#E5ECF6\", \"showlakes\": true, \"showland\": true, \"subunitcolor\": \"white\"}, \"hoverlabel\": {\"align\": \"left\"}, \"hovermode\": \"closest\", \"mapbox\": {\"style\": \"light\"}, \"paper_bgcolor\": \"white\", \"plot_bgcolor\": \"#E5ECF6\", \"polar\": {\"angularaxis\": {\"gridcolor\": \"white\", \"linecolor\": \"white\", \"ticks\": \"\"}, \"bgcolor\": \"#E5ECF6\", \"radialaxis\": {\"gridcolor\": \"white\", \"linecolor\": \"white\", \"ticks\": \"\"}}, \"scene\": {\"xaxis\": {\"backgroundcolor\": \"#E5ECF6\", \"gridcolor\": \"white\", \"gridwidth\": 2, \"linecolor\": \"white\", \"showbackground\": true, \"ticks\": \"\", \"zerolinecolor\": \"white\"}, \"yaxis\": {\"backgroundcolor\": \"#E5ECF6\", \"gridcolor\": \"white\", \"gridwidth\": 2, \"linecolor\": \"white\", \"showbackground\": true, \"ticks\": \"\", \"zerolinecolor\": \"white\"}, \"zaxis\": {\"backgroundcolor\": \"#E5ECF6\", \"gridcolor\": \"white\", \"gridwidth\": 2, \"linecolor\": \"white\", \"showbackground\": true, \"ticks\": \"\", \"zerolinecolor\": \"white\"}}, \"shapedefaults\": {\"line\": {\"color\": \"#2a3f5f\"}}, \"ternary\": {\"aaxis\": {\"gridcolor\": \"white\", \"linecolor\": \"white\", \"ticks\": \"\"}, \"baxis\": {\"gridcolor\": \"white\", \"linecolor\": \"white\", \"ticks\": \"\"}, \"bgcolor\": \"#E5ECF6\", \"caxis\": {\"gridcolor\": \"white\", \"linecolor\": \"white\", \"ticks\": \"\"}}, \"title\": {\"x\": 0.05}, \"xaxis\": {\"automargin\": true, \"gridcolor\": \"white\", \"linecolor\": \"white\", \"ticks\": \"\", \"title\": {\"standoff\": 15}, \"zerolinecolor\": \"white\", \"zerolinewidth\": 2}, \"yaxis\": {\"automargin\": true, \"gridcolor\": \"white\", \"linecolor\": \"white\", \"ticks\": \"\", \"title\": {\"standoff\": 15}, \"zerolinecolor\": \"white\", \"zerolinewidth\": 2}}}, \"title\": {\"text\": \"Markup per order distributions by country and service type, week: 2021-05\"}, \"xaxis\": {\"anchor\": \"y\", \"domain\": [0.0, 1.0], \"title\": {\"text\": \"Country\"}}, \"yaxis\": {\"anchor\": \"x\", \"domain\": [0.0, 1.0], \"dtick\": 1, \"range\": [-5, 5], \"title\": {\"text\": \"Markup per order (USD)\"}}},                        {\"responsive\": true}                    ).then(function(){\n",
       "                            \n",
       "var gd = document.getElementById('fe9df104-e272-43e8-aca6-46d0a0628c75');\n",
       "var x = new MutationObserver(function (mutations, observer) {{\n",
       "        var display = window.getComputedStyle(gd).display;\n",
       "        if (!display || display === 'none') {{\n",
       "            console.log([gd, 'removed!']);\n",
       "            Plotly.purge(gd);\n",
       "            observer.disconnect();\n",
       "        }}\n",
       "}});\n",
       "\n",
       "// Listen for the removal of the full notebook cells\n",
       "var notebookContainer = gd.closest('#notebook-container');\n",
       "if (notebookContainer) {{\n",
       "    x.observe(notebookContainer, {childList: true});\n",
       "}}\n",
       "\n",
       "// Listen for the clearing of the current output cell\n",
       "var outputEl = gd.closest('.output');\n",
       "if (outputEl) {{\n",
       "    x.observe(outputEl, {childList: true});\n",
       "}}\n",
       "\n",
       "                        })                };                });            </script>        </div>"
      ]
     },
     "metadata": {},
     "output_type": "display_data"
    }
   ],
   "source": [
    "#Gráfico\"Markup percentage distributions by country and service type\"\n",
    "fig = px.box(markup_cs.query('orders>7'), x=\"country\", y=\"markup_by_order\", \n",
    "             color=\"service_type\",hover_data=['markup_usd','orders'],hover_name='store',range_y=[-5,5]\n",
    "             ,title=\"Markup per order distributions by country and service type, week: \"+str(week[0]),\n",
    "             labels={'markup_by_order':'Markup per order (USD)','markup_usd':'Markup (USD)','country':'Country','service_type':'Service type','orders':'Total orders'}\n",
    "            )\n",
    "\n",
    "fig.update_yaxes(dtick=1)\n",
    "\n",
    "fig.add_annotation(x='CR', y=-3.5,\n",
    "            text=\"Data from stores with at least 8 weekly orders\",showarrow=False)\n",
    "          \n",
    "fig.show()"
   ]
  },
  {
   "cell_type": "code",
   "execution_count": 1079,
   "metadata": {},
   "outputs": [
    {
     "data": {
      "application/vnd.plotly.v1+json": {
       "config": {
        "plotlyServerURL": "https://plot.ly"
       },
       "data": [
        {
         "customdata": [
          [
           250658.60998364844,
           71657,
           91.32997115416453
          ],
          [
           17496.0580761411,
           10926,
           69.04933312029767
          ],
          [
           4526.482426966597,
           4107,
           63.696478804907635
          ],
          [
           1917.1276387968169,
           3574,
           40.42603725068675
          ],
          [
           3697.979760979554,
           3383,
           47.17358031143079
          ],
          [
           4732.791921337655,
           2485,
           45.58681912658118
          ],
          [
           1600.9925367625333,
           1884,
           45.528358544172086
          ],
          [
           1646.0725802084157,
           1638,
           67.34134562189217
          ],
          [
           5267.525806220519,
           1624,
           30.414019893676592
          ],
          [
           11.182308154981461,
           1389,
           30.357407133376817
          ],
          [
           116.58238099626405,
           1098,
           35.582023571931714
          ],
          [
           -29.6181159534198,
           943,
           36.407418066434126
          ],
          [
           -53.62734977983488,
           724,
           34.96467870093929
          ],
          [
           190.47834615506105,
           700,
           33.17162555300773
          ],
          [
           -0.40910883493834616,
           634,
           29.382682637767793
          ],
          [
           347.277489321881,
           564,
           34.65389028007623
          ],
          [
           136.945091407262,
           563,
           29.530832135379523
          ],
          [
           144.5490609526494,
           415,
           32.74270521785353
          ],
          [
           -11.318677766627577,
           399,
           82.13329806790843
          ],
          [
           18.936284273179584,
           376,
           29.957944673420272
          ],
          [
           -18.409897572225578,
           374,
           28.03343543365853
          ],
          [
           -4.3992836717036825,
           366,
           48.384012730955206
          ],
          [
           -3.4065128989199622,
           356,
           22.430732587968876
          ],
          [
           86.75834692925861,
           341,
           32.31623870869877
          ],
          [
           0.7718520019170131,
           328,
           25.227338752003554
          ],
          [
           -0.02727392232922308,
           303,
           34.68918873675244
          ],
          [
           24.399250915722966,
           276,
           53.576398930729994
          ],
          [
           64.03780593289933,
           274,
           37.663345709338024
          ],
          [
           2.7273922329223077,
           274,
           38.11475898584542
          ]
         ],
         "hovertemplate": "<b>%{hovertext}</b><br><br>Country=CL<br>Markup per order (USD)=%{x}<br>Markup percentage=%{y}<br>Total orders=%{customdata[1]}<br>Markup (USD)=%{customdata[0]}<br>Average ticket=%{customdata[2]}<extra></extra>",
         "hovertext": [
          "Jumbo",
          "Lider",
          "Santa Isabel",
          "Easy",
          "Farmacias Ahumada",
          "Salcobrand",
          "Unimarc",
          "Paris",
          "SPID 35",
          "La Fête Chocolat",
          "Casaideas",
          "La Punta",
          "Fortunata",
          "Ok Market",
          "AM Dulcería",
          "Lápiz López",
          "Varsovienne Chocolatería",
          "Antártica libros",
          "PC Factory",
          "FORK",
          "Moulie",
          "AquaChile",
          "Lo Saldes",
          "Casa Royal",
          "Galletería de Laura R",
          "Paula Benitez",
          "Wua Wua",
          "Verdulería Doña Amalia",
          "The Body Shop"
         ],
         "legendgroup": "CL",
         "marker": {
          "color": "#636efa",
          "opacity": 0.5,
          "size": [
           71657,
           10926,
           4107,
           3574,
           3383,
           2485,
           1884,
           1638,
           1624,
           1389,
           1098,
           943,
           724,
           700,
           634,
           564,
           563,
           415,
           399,
           376,
           374,
           366,
           356,
           341,
           328,
           303,
           276,
           274,
           274
          ],
          "sizemode": "area",
          "sizeref": 28.6628,
          "symbol": "circle"
         },
         "mode": "markers",
         "name": "CL",
         "orientation": "v",
         "showlegend": true,
         "textposition": "top center",
         "type": "scatter",
         "x": [
          3.4980338275904437,
          1.6013232725737783,
          1.1021384044233253,
          0.5364095240058245,
          1.0931066393672935,
          1.904544032731451,
          0.849783724396249,
          1.004928315145553,
          3.243550373288497,
          0.008050617822160879,
          0.10617703187273593,
          -0.03140839443628823,
          -0.07407092511026916,
          0.2721119230786586,
          -0.0006452820740352463,
          0.6157402292941152,
          0.24324172541254352,
          0.34831099024734796,
          -0.028367613450194427,
          0.05036245817334996,
          -0.04922432505942668,
          -0.012019900742359788,
          -0.009568856457640343,
          0.2544233047778845,
          0.002353207322917723,
          -9.001294498093425e-05,
          0.08840308302798176,
          0.23371462019306324,
          0.009953986251541268
         ],
         "xaxis": "x",
         "y": [
          3.83,
          2.32,
          1.73,
          1.33,
          2.32,
          4.18,
          1.87,
          1.49,
          10.66,
          0.03,
          0.3,
          -0.09,
          -0.21,
          0.82,
          0,
          1.78,
          0.82,
          1.06,
          -0.03,
          0.17,
          -0.18,
          -0.02,
          -0.04,
          0.79,
          0.01,
          0,
          0.17,
          0.62,
          0.03
         ],
         "yaxis": "y"
        },
        {
         "customdata": [
          [
           31685.447941938295,
           29349,
           59.76340851959909
          ],
          [
           96836.85150769685,
           19500,
           64.94924571753124
          ],
          [
           15710.133831215191,
           15973,
           77.50687858827258
          ],
          [
           15581.515811034329,
           11187,
           47.965695791373534
          ],
          [
           -61.08250517800818,
           10740,
           63.97355139167435
          ],
          [
           4812.9136141961835,
           7634,
           58.889435451750806
          ],
          [
           2035.761339771943,
           3924,
           58.5783008976512
          ],
          [
           1855.1923488754953,
           2181,
           51.73946514571992
          ],
          [
           82.86903333379631,
           1273,
           67.25137274045602
          ],
          [
           116.06492182336116,
           977,
           52.8188141008595
          ],
          [
           -407.44132167224586,
           901,
           33.814628210011975
          ],
          [
           14.239180305766912,
           872,
           16.334576284136066
          ],
          [
           158.49231412235943,
           806,
           23.00518903046637
          ],
          [
           248.243792125984,
           743,
           24.98558598828711
          ],
          [
           -42.900190219045285,
           703,
           15.561518604075378
          ],
          [
           56.21766342173013,
           495,
           9.67337104322289
          ],
          [
           59.95077626202084,
           475,
           63.701517523374804
          ],
          [
           55.995697240318464,
           437,
           57.099057142242444
          ],
          [
           116.20228206118594,
           397,
           7.843889864564829
          ],
          [
           98.70029842507032,
           376,
           56.59406721712648
          ],
          [
           108.83310437471947,
           366,
           34.75794917937339
          ],
          [
           98.10777851093326,
           321,
           11.96002766039773
          ],
          [
           72.54412212400136,
           273,
           47.78064788811733
          ],
          [
           -15.975592877393895,
           270,
           21.179134898033446
          ],
          [
           487.1455950338501,
           269,
           29.5626006720651
          ]
         ],
         "hovertemplate": "<b>%{hovertext}</b><br><br>Country=MX<br>Markup per order (USD)=%{x}<br>Markup percentage=%{y}<br>Total orders=%{customdata[1]}<br>Markup (USD)=%{customdata[0]}<br>Average ticket=%{customdata[2]}<extra></extra>",
         "hovertext": [
          "Chedraui",
          "HEB",
          "Costco",
          "Soriana",
          "City Market",
          "La Comer",
          "Fresko",
          "Petco",
          "Fresh Market",
          "Alsuper",
          "Carnes Ramos",
          "Fantasías Miguel",
          "Lumen",
          "OfficeMax",
          "Los Tulipanes",
          "Circle K",
          "Bed Bath and Beyond",
          "Alsuper Plus",
          "OXXO",
          "Vinoteca",
          "Sumesa",
          "Krispy Kreme",
          "Bodegas Alianza",
          "Pan Gabriel",
          "Sanborns"
         ],
         "legendgroup": "MX",
         "marker": {
          "color": "#EF553B",
          "opacity": 0.5,
          "size": [
           29349,
           19500,
           15973,
           11187,
           10740,
           7634,
           3924,
           2181,
           1273,
           977,
           901,
           872,
           806,
           743,
           703,
           495,
           475,
           437,
           397,
           376,
           366,
           321,
           273,
           270,
           269
          ],
          "sizemode": "area",
          "sizeref": 28.6628,
          "symbol": "circle"
         },
         "mode": "markers",
         "name": "MX",
         "orientation": "v",
         "showlegend": true,
         "textposition": "top center",
         "type": "scatter",
         "x": [
          1.0796091158791883,
          4.965992385010095,
          0.9835430934210976,
          1.392823438905366,
          -0.0056873840947866084,
          0.6304576387472077,
          0.5187974871997816,
          0.850615474037366,
          0.06509743388357919,
          0.11879725877519054,
          -0.4522101239425592,
          0.016329335213035447,
          0.19664058824114072,
          0.33411008361505246,
          -0.06102445265867039,
          0.11357103721561643,
          0.12621216055162282,
          0.1281366069572505,
          0.29270096237074544,
          0.26250079368369766,
          0.2973582086740969,
          0.3056317087568014,
          0.26572938506960203,
          -0.05916886250886628,
          1.8109501674120823
         ],
         "xaxis": "x",
         "y": [
          1.81,
          7.65,
          1.27,
          2.9,
          -0.01,
          1.07,
          0.89,
          1.64,
          0.1,
          0.22,
          -1.34,
          0.1,
          0.85,
          1.34,
          -0.39,
          1.17,
          0.2,
          0.22,
          3.73,
          0.46,
          0.86,
          2.56,
          0.56,
          -0.28,
          6.13
         ],
         "yaxis": "y"
        },
        {
         "customdata": [
          [
           7415.125421543104,
           18115,
           57.72491328971787
          ],
          [
           21535.75555330698,
           11875,
           59.057930404475115
          ],
          [
           5608.356258839754,
           2078,
           59.332042855961454
          ],
          [
           1208.5824937773637,
           1198,
           74.20173996982037
          ],
          [
           303.3791686572041,
           880,
           38.380576385633724
          ],
          [
           -768.2856898557453,
           815,
           72.32509943016656
          ],
          [
           255.5748791361035,
           392,
           31.67771002010765
          ]
         ],
         "hovertemplate": "<b>%{hovertext}</b><br><br>Country=CA<br>Markup per order (USD)=%{x}<br>Markup percentage=%{y}<br>Total orders=%{customdata[1]}<br>Markup (USD)=%{customdata[0]}<br>Average ticket=%{customdata[2]}<extra></extra>",
         "hovertext": [
          "Walmart",
          "Metro",
          "Longo's",
          "Costco",
          "Rexall",
          "Organic Garage",
          "Jean Coutu"
         ],
         "legendgroup": "CA",
         "marker": {
          "color": "#00cc96",
          "opacity": 0.5,
          "size": [
           18115,
           11875,
           2078,
           1198,
           880,
           815,
           392
          ],
          "sizemode": "area",
          "sizeref": 28.6628,
          "symbol": "circle"
         },
         "mode": "markers",
         "name": "CA",
         "orientation": "v",
         "showlegend": true,
         "textposition": "top center",
         "type": "scatter",
         "x": [
          0.4093362087520344,
          1.8135373097521668,
          2.6989202400576295,
          1.0088334672599029,
          0.3447490552922774,
          -0.9426818280438592,
          0.6519767324900599
         ],
         "xaxis": "x",
         "y": [
          0.71,
          3.07,
          4.55,
          1.36,
          0.9,
          -1.3,
          2.06
         ],
         "yaxis": "y"
        },
        {
         "customdata": [
          [
           7770.315659006786,
           13394,
           42.42683607517025
          ],
          [
           3239.8415953781246,
           8281,
           44.77390860106319
          ],
          [
           1400.9647135575685,
           7204,
           42.91543857988109
          ],
          [
           736.5876026600178,
           2791,
           69.13331847877677
          ],
          [
           347.1177148556573,
           2288,
           40.72787637999641
          ],
          [
           346.0716404970978,
           1368,
           40.54040472961287
          ],
          [
           -193.85030063677675,
           875,
           22.696467529019014
          ],
          [
           261.81007762424895,
           839,
           44.44044248200653
          ],
          [
           -11.398618372958829,
           705,
           38.478773442995035
          ],
          [
           -14.836912921046947,
           691,
           35.20296105692054
          ],
          [
           144.02063371772473,
           689,
           41.98655034717595
          ],
          [
           64.13893054786084,
           675,
           48.74592881552473
          ],
          [
           239.46615158133432,
           642,
           22.75248563630653
          ],
          [
           143.3158711356366,
           617,
           39.081689148227916
          ],
          [
           293.44875207503696,
           568,
           23.639234519468232
          ],
          [
           220.4338718232603,
           529,
           40.94080968489462
          ],
          [
           -698.3957426035441,
           411,
           27.35893473815377
          ],
          [
           250.73497331348196,
           344,
           34.03015200550083
          ],
          [
           118.59752246117114,
           332,
           34.27840560718432
          ],
          [
           -25.0615052821218,
           318,
           30.457659340536697
          ],
          [
           81.33735159185012,
           287,
           20.306880928902487
          ],
          [
           57.55807143451482,
           271,
           35.746104283340976
          ]
         ],
         "hovertemplate": "<b>%{hovertext}</b><br><br>Country=BR<br>Markup per order (USD)=%{x}<br>Markup percentage=%{y}<br>Total orders=%{customdata[1]}<br>Markup (USD)=%{customdata[0]}<br>Average ticket=%{customdata[2]}<extra></extra>",
         "hovertext": [
          "Carrefour Hiper",
          "Atacadão",
          "Big",
          "Sam's Club",
          "Prezunic",
          "Maxxi",
          "Kalunga",
          "Carrefour Pamplona",
          "Hirota Supermercados",
          "Carrefour Bairro",
          "BIG Bompreço",
          "Emporium São Paulo",
          "Droga Raia",
          "Roldão Atacadista",
          "Drogasil",
          "Bem Barato Supermercados",
          "Cobasi",
          "Super Nosso",
          "Barbosa Supermercados",
          "Nacional",
          "Carrefour Drogaria",
          "Muffato"
         ],
         "legendgroup": "BR",
         "marker": {
          "color": "#ab63fa",
          "opacity": 0.5,
          "size": [
           13394,
           8281,
           7204,
           2791,
           2288,
           1368,
           875,
           839,
           705,
           691,
           689,
           675,
           642,
           617,
           568,
           529,
           411,
           344,
           332,
           318,
           287,
           271
          ],
          "sizemode": "area",
          "sizeref": 28.6628,
          "symbol": "circle"
         },
         "mode": "markers",
         "name": "BR",
         "orientation": "v",
         "showlegend": true,
         "textposition": "top center",
         "type": "scatter",
         "x": [
          0.5801340644323417,
          0.3912379658710451,
          0.194470393331145,
          0.2639153001289924,
          0.1517122879613887,
          0.2529763453926154,
          -0.22154320072774486,
          0.31205015211471865,
          -0.01616825301128912,
          -0.021471654010198186,
          0.20902849596186462,
          0.09502063784868273,
          0.3730002361079974,
          0.23227855937704472,
          0.5166351268926707,
          0.4166991905921745,
          -1.6992597143638544,
          0.728880736376401,
          0.3572214531962986,
          -0.07880976503811887,
          0.28340540624338023,
          0.21239140750743477
         ],
         "xaxis": "x",
         "y": [
          1.37,
          0.87,
          0.45,
          0.38,
          0.37,
          0.62,
          -0.98,
          0.7,
          -0.04,
          -0.06,
          0.5,
          0.19,
          1.64,
          0.59,
          2.19,
          1.02,
          -6.21,
          2.14,
          1.04,
          -0.26,
          1.4,
          0.59
         ],
         "yaxis": "y"
        },
        {
         "customdata": [
          [
           15766.786038570905,
           7092,
           67.92154953814821
          ],
          [
           5220.661724327285,
           2287,
           53.09869527331035
          ],
          [
           3157.2075782537086,
           1926,
           76.8293641221631
          ],
          [
           2030.7852828116438,
           1144,
           49.98475439991092
          ],
          [
           106.58704008786384,
           323,
           33.31610230149461
          ],
          [
           80.64524986271269,
           299,
           31.073742054330854
          ]
         ],
         "hovertemplate": "<b>%{hovertext}</b><br><br>Country=PE<br>Markup per order (USD)=%{x}<br>Markup percentage=%{y}<br>Total orders=%{customdata[1]}<br>Markup (USD)=%{customdata[0]}<br>Average ticket=%{customdata[2]}<extra></extra>",
         "hovertext": [
          "Wong",
          "Metro",
          "Makro",
          "Vivanda",
          "Flora & Fauna",
          "Inkafarma"
         ],
         "legendgroup": "PE",
         "marker": {
          "color": "#FFA15A",
          "opacity": 0.5,
          "size": [
           7092,
           2287,
           1926,
           1144,
           323,
           299
          ],
          "sizemode": "area",
          "sizeref": 28.6628,
          "symbol": "circle"
         },
         "mode": "markers",
         "name": "PE",
         "orientation": "v",
         "showlegend": true,
         "textposition": "top center",
         "type": "scatter",
         "x": [
          2.2231790804527503,
          2.282755454450059,
          1.6392562711597656,
          1.7751619604996887,
          0.329990836185337,
          0.2697165547247916
         ],
         "xaxis": "x",
         "y": [
          3.27,
          4.3,
          2.13,
          3.55,
          0.99,
          0.87
         ],
         "yaxis": "y"
        },
        {
         "customdata": [
          [
           4951.81000000001,
           2985,
           48.383135678391945
          ],
          [
           1588.5099999999975,
           977,
           43.03018423746158
          ],
          [
           636.1099999999996,
           609,
           38.61428571428571
          ],
          [
           673.8700000000007,
           485,
           51.13983505154638
          ],
          [
           344.15999999999957,
           438,
           38.21881278538814
          ],
          [
           568.8599999999998,
           372,
           39.94373655913977
          ],
          [
           -581.2,
           356,
           63.657949438202195
          ],
          [
           87.92000000000002,
           326,
           52.47104294478528
          ]
         ],
         "hovertemplate": "<b>%{hovertext}</b><br><br>Country=US<br>Markup per order (USD)=%{x}<br>Markup percentage=%{y}<br>Total orders=%{customdata[1]}<br>Markup (USD)=%{customdata[0]}<br>Average ticket=%{customdata[2]}<extra></extra>",
         "hovertext": [
          "Winn-Dixie",
          "Tom Thumb",
          "Randalls",
          "Fresco y Más",
          "Fiesta Mart",
          "Albertsons",
          "Gristedes",
          "Westside Market"
         ],
         "legendgroup": "US",
         "marker": {
          "color": "#19d3f3",
          "opacity": 0.5,
          "size": [
           2985,
           977,
           609,
           485,
           438,
           372,
           356,
           326
          ],
          "sizemode": "area",
          "sizeref": 28.6628,
          "symbol": "circle"
         },
         "mode": "markers",
         "name": "US",
         "orientation": "v",
         "showlegend": true,
         "textposition": "top center",
         "type": "scatter",
         "x": [
          1.6588978224455646,
          1.625905834186282,
          1.0445155993431847,
          1.3894226804123726,
          0.7857534246575333,
          1.5291935483870962,
          -1.6325842696629216,
          0.2696932515337424
         ],
         "xaxis": "x",
         "y": [
          3.43,
          3.78,
          2.7,
          2.72,
          2.06,
          3.83,
          -2.56,
          0.51
         ],
         "yaxis": "y"
        },
        {
         "customdata": [
          [
           5381.565032019393,
           2135,
           67.51198387004516
          ],
          [
           2057.4702016451106,
           708,
           91.06443455204872
          ]
         ],
         "hovertemplate": "<b>%{hovertext}</b><br><br>Country=CO<br>Markup per order (USD)=%{x}<br>Markup percentage=%{y}<br>Total orders=%{customdata[1]}<br>Markup (USD)=%{customdata[0]}<br>Average ticket=%{customdata[2]}<extra></extra>",
         "hovertext": [
          "Jumbo",
          "Alkosto"
         ],
         "legendgroup": "CO",
         "marker": {
          "color": "#FF6692",
          "opacity": 0.5,
          "size": [
           2135,
           708
          ],
          "sizemode": "area",
          "sizeref": 28.6628,
          "symbol": "circle"
         },
         "mode": "markers",
         "name": "CO",
         "orientation": "v",
         "showlegend": true,
         "textposition": "top center",
         "type": "scatter",
         "x": [
          2.5206393592596688,
          2.906031358255806
         ],
         "xaxis": "x",
         "y": [
          3.73,
          3.19
         ],
         "yaxis": "y"
        },
        {
         "customdata": [
          [
           320.8933228832404,
           337,
           41.36475223767763
          ]
         ],
         "hovertemplate": "<b>%{hovertext}</b><br><br>Country=CR<br>Markup per order (USD)=%{x}<br>Markup percentage=%{y}<br>Total orders=%{customdata[1]}<br>Markup (USD)=%{customdata[0]}<br>Average ticket=%{customdata[2]}<extra></extra>",
         "hovertext": [
          "Perimercado"
         ],
         "legendgroup": "CR",
         "marker": {
          "color": "#B6E880",
          "opacity": 0.5,
          "size": [
           337
          ],
          "sizemode": "area",
          "sizeref": 28.6628,
          "symbol": "circle"
         },
         "mode": "markers",
         "name": "CR",
         "orientation": "v",
         "showlegend": true,
         "textposition": "top center",
         "type": "scatter",
         "x": [
          0.9522057058849863
         ],
         "xaxis": "x",
         "y": [
          2.3
         ],
         "yaxis": "y"
        }
       ],
       "layout": {
        "annotations": [
         {
          "showarrow": false,
          "text": "Jumbo CL",
          "x": 3.5,
          "y": 4
         }
        ],
        "legend": {
         "itemsizing": "constant",
         "title": {
          "text": "Country"
         },
         "tracegroupgap": 0
        },
        "template": {
         "data": {
          "bar": [
           {
            "error_x": {
             "color": "#2a3f5f"
            },
            "error_y": {
             "color": "#2a3f5f"
            },
            "marker": {
             "line": {
              "color": "#E5ECF6",
              "width": 0.5
             }
            },
            "type": "bar"
           }
          ],
          "barpolar": [
           {
            "marker": {
             "line": {
              "color": "#E5ECF6",
              "width": 0.5
             }
            },
            "type": "barpolar"
           }
          ],
          "carpet": [
           {
            "aaxis": {
             "endlinecolor": "#2a3f5f",
             "gridcolor": "white",
             "linecolor": "white",
             "minorgridcolor": "white",
             "startlinecolor": "#2a3f5f"
            },
            "baxis": {
             "endlinecolor": "#2a3f5f",
             "gridcolor": "white",
             "linecolor": "white",
             "minorgridcolor": "white",
             "startlinecolor": "#2a3f5f"
            },
            "type": "carpet"
           }
          ],
          "choropleth": [
           {
            "colorbar": {
             "outlinewidth": 0,
             "ticks": ""
            },
            "type": "choropleth"
           }
          ],
          "contour": [
           {
            "colorbar": {
             "outlinewidth": 0,
             "ticks": ""
            },
            "colorscale": [
             [
              0,
              "#0d0887"
             ],
             [
              0.1111111111111111,
              "#46039f"
             ],
             [
              0.2222222222222222,
              "#7201a8"
             ],
             [
              0.3333333333333333,
              "#9c179e"
             ],
             [
              0.4444444444444444,
              "#bd3786"
             ],
             [
              0.5555555555555556,
              "#d8576b"
             ],
             [
              0.6666666666666666,
              "#ed7953"
             ],
             [
              0.7777777777777778,
              "#fb9f3a"
             ],
             [
              0.8888888888888888,
              "#fdca26"
             ],
             [
              1,
              "#f0f921"
             ]
            ],
            "type": "contour"
           }
          ],
          "contourcarpet": [
           {
            "colorbar": {
             "outlinewidth": 0,
             "ticks": ""
            },
            "type": "contourcarpet"
           }
          ],
          "heatmap": [
           {
            "colorbar": {
             "outlinewidth": 0,
             "ticks": ""
            },
            "colorscale": [
             [
              0,
              "#0d0887"
             ],
             [
              0.1111111111111111,
              "#46039f"
             ],
             [
              0.2222222222222222,
              "#7201a8"
             ],
             [
              0.3333333333333333,
              "#9c179e"
             ],
             [
              0.4444444444444444,
              "#bd3786"
             ],
             [
              0.5555555555555556,
              "#d8576b"
             ],
             [
              0.6666666666666666,
              "#ed7953"
             ],
             [
              0.7777777777777778,
              "#fb9f3a"
             ],
             [
              0.8888888888888888,
              "#fdca26"
             ],
             [
              1,
              "#f0f921"
             ]
            ],
            "type": "heatmap"
           }
          ],
          "heatmapgl": [
           {
            "colorbar": {
             "outlinewidth": 0,
             "ticks": ""
            },
            "colorscale": [
             [
              0,
              "#0d0887"
             ],
             [
              0.1111111111111111,
              "#46039f"
             ],
             [
              0.2222222222222222,
              "#7201a8"
             ],
             [
              0.3333333333333333,
              "#9c179e"
             ],
             [
              0.4444444444444444,
              "#bd3786"
             ],
             [
              0.5555555555555556,
              "#d8576b"
             ],
             [
              0.6666666666666666,
              "#ed7953"
             ],
             [
              0.7777777777777778,
              "#fb9f3a"
             ],
             [
              0.8888888888888888,
              "#fdca26"
             ],
             [
              1,
              "#f0f921"
             ]
            ],
            "type": "heatmapgl"
           }
          ],
          "histogram": [
           {
            "marker": {
             "colorbar": {
              "outlinewidth": 0,
              "ticks": ""
             }
            },
            "type": "histogram"
           }
          ],
          "histogram2d": [
           {
            "colorbar": {
             "outlinewidth": 0,
             "ticks": ""
            },
            "colorscale": [
             [
              0,
              "#0d0887"
             ],
             [
              0.1111111111111111,
              "#46039f"
             ],
             [
              0.2222222222222222,
              "#7201a8"
             ],
             [
              0.3333333333333333,
              "#9c179e"
             ],
             [
              0.4444444444444444,
              "#bd3786"
             ],
             [
              0.5555555555555556,
              "#d8576b"
             ],
             [
              0.6666666666666666,
              "#ed7953"
             ],
             [
              0.7777777777777778,
              "#fb9f3a"
             ],
             [
              0.8888888888888888,
              "#fdca26"
             ],
             [
              1,
              "#f0f921"
             ]
            ],
            "type": "histogram2d"
           }
          ],
          "histogram2dcontour": [
           {
            "colorbar": {
             "outlinewidth": 0,
             "ticks": ""
            },
            "colorscale": [
             [
              0,
              "#0d0887"
             ],
             [
              0.1111111111111111,
              "#46039f"
             ],
             [
              0.2222222222222222,
              "#7201a8"
             ],
             [
              0.3333333333333333,
              "#9c179e"
             ],
             [
              0.4444444444444444,
              "#bd3786"
             ],
             [
              0.5555555555555556,
              "#d8576b"
             ],
             [
              0.6666666666666666,
              "#ed7953"
             ],
             [
              0.7777777777777778,
              "#fb9f3a"
             ],
             [
              0.8888888888888888,
              "#fdca26"
             ],
             [
              1,
              "#f0f921"
             ]
            ],
            "type": "histogram2dcontour"
           }
          ],
          "mesh3d": [
           {
            "colorbar": {
             "outlinewidth": 0,
             "ticks": ""
            },
            "type": "mesh3d"
           }
          ],
          "parcoords": [
           {
            "line": {
             "colorbar": {
              "outlinewidth": 0,
              "ticks": ""
             }
            },
            "type": "parcoords"
           }
          ],
          "pie": [
           {
            "automargin": true,
            "type": "pie"
           }
          ],
          "scatter": [
           {
            "marker": {
             "colorbar": {
              "outlinewidth": 0,
              "ticks": ""
             }
            },
            "type": "scatter"
           }
          ],
          "scatter3d": [
           {
            "line": {
             "colorbar": {
              "outlinewidth": 0,
              "ticks": ""
             }
            },
            "marker": {
             "colorbar": {
              "outlinewidth": 0,
              "ticks": ""
             }
            },
            "type": "scatter3d"
           }
          ],
          "scattercarpet": [
           {
            "marker": {
             "colorbar": {
              "outlinewidth": 0,
              "ticks": ""
             }
            },
            "type": "scattercarpet"
           }
          ],
          "scattergeo": [
           {
            "marker": {
             "colorbar": {
              "outlinewidth": 0,
              "ticks": ""
             }
            },
            "type": "scattergeo"
           }
          ],
          "scattergl": [
           {
            "marker": {
             "colorbar": {
              "outlinewidth": 0,
              "ticks": ""
             }
            },
            "type": "scattergl"
           }
          ],
          "scattermapbox": [
           {
            "marker": {
             "colorbar": {
              "outlinewidth": 0,
              "ticks": ""
             }
            },
            "type": "scattermapbox"
           }
          ],
          "scatterpolar": [
           {
            "marker": {
             "colorbar": {
              "outlinewidth": 0,
              "ticks": ""
             }
            },
            "type": "scatterpolar"
           }
          ],
          "scatterpolargl": [
           {
            "marker": {
             "colorbar": {
              "outlinewidth": 0,
              "ticks": ""
             }
            },
            "type": "scatterpolargl"
           }
          ],
          "scatterternary": [
           {
            "marker": {
             "colorbar": {
              "outlinewidth": 0,
              "ticks": ""
             }
            },
            "type": "scatterternary"
           }
          ],
          "surface": [
           {
            "colorbar": {
             "outlinewidth": 0,
             "ticks": ""
            },
            "colorscale": [
             [
              0,
              "#0d0887"
             ],
             [
              0.1111111111111111,
              "#46039f"
             ],
             [
              0.2222222222222222,
              "#7201a8"
             ],
             [
              0.3333333333333333,
              "#9c179e"
             ],
             [
              0.4444444444444444,
              "#bd3786"
             ],
             [
              0.5555555555555556,
              "#d8576b"
             ],
             [
              0.6666666666666666,
              "#ed7953"
             ],
             [
              0.7777777777777778,
              "#fb9f3a"
             ],
             [
              0.8888888888888888,
              "#fdca26"
             ],
             [
              1,
              "#f0f921"
             ]
            ],
            "type": "surface"
           }
          ],
          "table": [
           {
            "cells": {
             "fill": {
              "color": "#EBF0F8"
             },
             "line": {
              "color": "white"
             }
            },
            "header": {
             "fill": {
              "color": "#C8D4E3"
             },
             "line": {
              "color": "white"
             }
            },
            "type": "table"
           }
          ]
         },
         "layout": {
          "annotationdefaults": {
           "arrowcolor": "#2a3f5f",
           "arrowhead": 0,
           "arrowwidth": 1
          },
          "autotypenumbers": "strict",
          "coloraxis": {
           "colorbar": {
            "outlinewidth": 0,
            "ticks": ""
           }
          },
          "colorscale": {
           "diverging": [
            [
             0,
             "#8e0152"
            ],
            [
             0.1,
             "#c51b7d"
            ],
            [
             0.2,
             "#de77ae"
            ],
            [
             0.3,
             "#f1b6da"
            ],
            [
             0.4,
             "#fde0ef"
            ],
            [
             0.5,
             "#f7f7f7"
            ],
            [
             0.6,
             "#e6f5d0"
            ],
            [
             0.7,
             "#b8e186"
            ],
            [
             0.8,
             "#7fbc41"
            ],
            [
             0.9,
             "#4d9221"
            ],
            [
             1,
             "#276419"
            ]
           ],
           "sequential": [
            [
             0,
             "#0d0887"
            ],
            [
             0.1111111111111111,
             "#46039f"
            ],
            [
             0.2222222222222222,
             "#7201a8"
            ],
            [
             0.3333333333333333,
             "#9c179e"
            ],
            [
             0.4444444444444444,
             "#bd3786"
            ],
            [
             0.5555555555555556,
             "#d8576b"
            ],
            [
             0.6666666666666666,
             "#ed7953"
            ],
            [
             0.7777777777777778,
             "#fb9f3a"
            ],
            [
             0.8888888888888888,
             "#fdca26"
            ],
            [
             1,
             "#f0f921"
            ]
           ],
           "sequentialminus": [
            [
             0,
             "#0d0887"
            ],
            [
             0.1111111111111111,
             "#46039f"
            ],
            [
             0.2222222222222222,
             "#7201a8"
            ],
            [
             0.3333333333333333,
             "#9c179e"
            ],
            [
             0.4444444444444444,
             "#bd3786"
            ],
            [
             0.5555555555555556,
             "#d8576b"
            ],
            [
             0.6666666666666666,
             "#ed7953"
            ],
            [
             0.7777777777777778,
             "#fb9f3a"
            ],
            [
             0.8888888888888888,
             "#fdca26"
            ],
            [
             1,
             "#f0f921"
            ]
           ]
          },
          "colorway": [
           "#636efa",
           "#EF553B",
           "#00cc96",
           "#ab63fa",
           "#FFA15A",
           "#19d3f3",
           "#FF6692",
           "#B6E880",
           "#FF97FF",
           "#FECB52"
          ],
          "font": {
           "color": "#2a3f5f"
          },
          "geo": {
           "bgcolor": "white",
           "lakecolor": "white",
           "landcolor": "#E5ECF6",
           "showlakes": true,
           "showland": true,
           "subunitcolor": "white"
          },
          "hoverlabel": {
           "align": "left"
          },
          "hovermode": "closest",
          "mapbox": {
           "style": "light"
          },
          "paper_bgcolor": "white",
          "plot_bgcolor": "#E5ECF6",
          "polar": {
           "angularaxis": {
            "gridcolor": "white",
            "linecolor": "white",
            "ticks": ""
           },
           "bgcolor": "#E5ECF6",
           "radialaxis": {
            "gridcolor": "white",
            "linecolor": "white",
            "ticks": ""
           }
          },
          "scene": {
           "xaxis": {
            "backgroundcolor": "#E5ECF6",
            "gridcolor": "white",
            "gridwidth": 2,
            "linecolor": "white",
            "showbackground": true,
            "ticks": "",
            "zerolinecolor": "white"
           },
           "yaxis": {
            "backgroundcolor": "#E5ECF6",
            "gridcolor": "white",
            "gridwidth": 2,
            "linecolor": "white",
            "showbackground": true,
            "ticks": "",
            "zerolinecolor": "white"
           },
           "zaxis": {
            "backgroundcolor": "#E5ECF6",
            "gridcolor": "white",
            "gridwidth": 2,
            "linecolor": "white",
            "showbackground": true,
            "ticks": "",
            "zerolinecolor": "white"
           }
          },
          "shapedefaults": {
           "line": {
            "color": "#2a3f5f"
           }
          },
          "ternary": {
           "aaxis": {
            "gridcolor": "white",
            "linecolor": "white",
            "ticks": ""
           },
           "baxis": {
            "gridcolor": "white",
            "linecolor": "white",
            "ticks": ""
           },
           "bgcolor": "#E5ECF6",
           "caxis": {
            "gridcolor": "white",
            "linecolor": "white",
            "ticks": ""
           }
          },
          "title": {
           "x": 0.05
          },
          "xaxis": {
           "automargin": true,
           "gridcolor": "white",
           "linecolor": "white",
           "ticks": "",
           "title": {
            "standoff": 15
           },
           "zerolinecolor": "white",
           "zerolinewidth": 2
          },
          "yaxis": {
           "automargin": true,
           "gridcolor": "white",
           "linecolor": "white",
           "ticks": "",
           "title": {
            "standoff": 15
           },
           "zerolinecolor": "white",
           "zerolinewidth": 2
          }
         }
        },
        "title": {
         "text": "Top 100 grossing stores markup percentage vs markup per order, week: 2021-05"
        },
        "xaxis": {
         "anchor": "y",
         "domain": [
          0,
          1
         ],
         "title": {
          "text": "Markup per order (USD)"
         }
        },
        "yaxis": {
         "anchor": "x",
         "domain": [
          0,
          1
         ],
         "dtick": 2,
         "title": {
          "text": "Markup percentage"
         }
        }
       }
      },
      "text/html": [
       "<div>                            <div id=\"5260aee6-7257-414a-98f4-4f2a775d676b\" class=\"plotly-graph-div\" style=\"height:525px; width:100%;\"></div>            <script type=\"text/javascript\">                require([\"plotly\"], function(Plotly) {                    window.PLOTLYENV=window.PLOTLYENV || {};                                    if (document.getElementById(\"5260aee6-7257-414a-98f4-4f2a775d676b\")) {                    Plotly.newPlot(                        \"5260aee6-7257-414a-98f4-4f2a775d676b\",                        [{\"customdata\": [[250658.60998364844, 71657.0, 91.32997115416453], [17496.0580761411, 10926.0, 69.04933312029767], [4526.482426966597, 4107.0, 63.696478804907635], [1917.1276387968169, 3574.0, 40.42603725068675], [3697.979760979554, 3383.0, 47.17358031143079], [4732.791921337655, 2485.0, 45.58681912658118], [1600.9925367625333, 1884.0, 45.528358544172086], [1646.0725802084157, 1638.0, 67.34134562189217], [5267.525806220519, 1624.0, 30.414019893676592], [11.182308154981461, 1389.0, 30.357407133376817], [116.58238099626405, 1098.0, 35.582023571931714], [-29.6181159534198, 943.0, 36.407418066434126], [-53.62734977983488, 724.0, 34.96467870093929], [190.47834615506105, 700.0, 33.17162555300773], [-0.40910883493834616, 634.0, 29.382682637767793], [347.277489321881, 564.0, 34.65389028007623], [136.945091407262, 563.0, 29.530832135379523], [144.5490609526494, 415.0, 32.74270521785353], [-11.318677766627577, 399.0, 82.13329806790843], [18.936284273179584, 376.0, 29.957944673420272], [-18.409897572225578, 374.0, 28.03343543365853], [-4.3992836717036825, 366.0, 48.384012730955206], [-3.4065128989199622, 356.0, 22.430732587968876], [86.75834692925861, 341.0, 32.31623870869877], [0.7718520019170131, 328.0, 25.227338752003554], [-0.02727392232922308, 303.0, 34.68918873675244], [24.399250915722966, 276.0, 53.576398930729994], [64.03780593289933, 274.0, 37.663345709338024], [2.7273922329223077, 274.0, 38.11475898584542]], \"hovertemplate\": \"<b>%{hovertext}</b><br><br>Country=CL<br>Markup per order (USD)=%{x}<br>Markup percentage=%{y}<br>Total orders=%{customdata[1]}<br>Markup (USD)=%{customdata[0]}<br>Average ticket=%{customdata[2]}<extra></extra>\", \"hovertext\": [\"Jumbo\", \"Lider\", \"Santa Isabel\", \"Easy\", \"Farmacias Ahumada\", \"Salcobrand\", \"Unimarc\", \"Paris\", \"SPID 35\", \"La F\\u00eate Chocolat\", \"Casaideas\", \"La Punta\", \"Fortunata\", \"Ok Market\", \"AM Dulcer\\u00eda\", \"L\\u00e1piz L\\u00f3pez\", \"Varsovienne Chocolater\\u00eda\", \"Ant\\u00e1rtica libros\", \"PC Factory\", \"FORK\", \"Moulie\", \"AquaChile\", \"Lo Saldes\", \"Casa Royal\", \"Galleter\\u00eda de Laura R\", \"Paula Benitez\", \"Wua Wua\", \"Verduler\\u00eda Do\\u00f1a Amalia\", \"The Body Shop\"], \"legendgroup\": \"CL\", \"marker\": {\"color\": \"#636efa\", \"opacity\": 0.5, \"size\": [71657, 10926, 4107, 3574, 3383, 2485, 1884, 1638, 1624, 1389, 1098, 943, 724, 700, 634, 564, 563, 415, 399, 376, 374, 366, 356, 341, 328, 303, 276, 274, 274], \"sizemode\": \"area\", \"sizeref\": 28.6628, \"symbol\": \"circle\"}, \"mode\": \"markers\", \"name\": \"CL\", \"orientation\": \"v\", \"showlegend\": true, \"textposition\": \"top center\", \"type\": \"scatter\", \"x\": [3.4980338275904437, 1.6013232725737783, 1.1021384044233253, 0.5364095240058245, 1.0931066393672935, 1.904544032731451, 0.849783724396249, 1.004928315145553, 3.243550373288497, 0.008050617822160879, 0.10617703187273593, -0.03140839443628823, -0.07407092511026916, 0.2721119230786586, -0.0006452820740352463, 0.6157402292941152, 0.24324172541254352, 0.34831099024734796, -0.028367613450194427, 0.05036245817334996, -0.04922432505942668, -0.012019900742359788, -0.009568856457640343, 0.2544233047778845, 0.002353207322917723, -9.001294498093425e-05, 0.08840308302798176, 0.23371462019306324, 0.009953986251541268], \"xaxis\": \"x\", \"y\": [3.83, 2.32, 1.73, 1.33, 2.32, 4.18, 1.87, 1.49, 10.66, 0.03, 0.3, -0.09, -0.21, 0.82, 0.0, 1.78, 0.82, 1.06, -0.03, 0.17, -0.18, -0.02, -0.04, 0.79, 0.01, 0.0, 0.17, 0.62, 0.03], \"yaxis\": \"y\"}, {\"customdata\": [[31685.447941938295, 29349.0, 59.76340851959909], [96836.85150769685, 19500.0, 64.94924571753124], [15710.133831215191, 15973.0, 77.50687858827258], [15581.515811034329, 11187.0, 47.965695791373534], [-61.08250517800818, 10740.0, 63.97355139167435], [4812.9136141961835, 7634.0, 58.889435451750806], [2035.761339771943, 3924.0, 58.5783008976512], [1855.1923488754953, 2181.0, 51.73946514571992], [82.86903333379631, 1273.0, 67.25137274045602], [116.06492182336116, 977.0, 52.8188141008595], [-407.44132167224586, 901.0, 33.814628210011975], [14.239180305766912, 872.0, 16.334576284136066], [158.49231412235943, 806.0, 23.00518903046637], [248.243792125984, 743.0, 24.98558598828711], [-42.900190219045285, 703.0, 15.561518604075378], [56.21766342173013, 495.0, 9.67337104322289], [59.95077626202084, 475.0, 63.701517523374804], [55.995697240318464, 437.0, 57.099057142242444], [116.20228206118594, 397.0, 7.843889864564829], [98.70029842507032, 376.0, 56.59406721712648], [108.83310437471947, 366.0, 34.75794917937339], [98.10777851093326, 321.0, 11.96002766039773], [72.54412212400136, 273.0, 47.78064788811733], [-15.975592877393895, 270.0, 21.179134898033446], [487.1455950338501, 269.0, 29.5626006720651]], \"hovertemplate\": \"<b>%{hovertext}</b><br><br>Country=MX<br>Markup per order (USD)=%{x}<br>Markup percentage=%{y}<br>Total orders=%{customdata[1]}<br>Markup (USD)=%{customdata[0]}<br>Average ticket=%{customdata[2]}<extra></extra>\", \"hovertext\": [\"Chedraui\", \"HEB\", \"Costco\", \"Soriana\", \"City Market\", \"La Comer\", \"Fresko\", \"Petco\", \"Fresh Market\", \"Alsuper\", \"Carnes Ramos\", \"Fantas\\u00edas Miguel\", \"Lumen\", \"OfficeMax\", \"Los Tulipanes\", \"Circle K\", \"Bed Bath and Beyond\", \"Alsuper Plus\", \"OXXO\", \"Vinoteca\", \"Sumesa\", \"Krispy Kreme\", \"Bodegas Alianza\", \"Pan Gabriel\", \"Sanborns\"], \"legendgroup\": \"MX\", \"marker\": {\"color\": \"#EF553B\", \"opacity\": 0.5, \"size\": [29349, 19500, 15973, 11187, 10740, 7634, 3924, 2181, 1273, 977, 901, 872, 806, 743, 703, 495, 475, 437, 397, 376, 366, 321, 273, 270, 269], \"sizemode\": \"area\", \"sizeref\": 28.6628, \"symbol\": \"circle\"}, \"mode\": \"markers\", \"name\": \"MX\", \"orientation\": \"v\", \"showlegend\": true, \"textposition\": \"top center\", \"type\": \"scatter\", \"x\": [1.0796091158791883, 4.965992385010095, 0.9835430934210976, 1.392823438905366, -0.0056873840947866084, 0.6304576387472077, 0.5187974871997816, 0.850615474037366, 0.06509743388357919, 0.11879725877519054, -0.4522101239425592, 0.016329335213035447, 0.19664058824114072, 0.33411008361505246, -0.06102445265867039, 0.11357103721561643, 0.12621216055162282, 0.1281366069572505, 0.29270096237074544, 0.26250079368369766, 0.2973582086740969, 0.3056317087568014, 0.26572938506960203, -0.05916886250886628, 1.8109501674120823], \"xaxis\": \"x\", \"y\": [1.81, 7.65, 1.27, 2.9, -0.01, 1.07, 0.89, 1.64, 0.1, 0.22, -1.34, 0.1, 0.85, 1.34, -0.39, 1.17, 0.2, 0.22, 3.73, 0.46, 0.86, 2.56, 0.56, -0.28, 6.13], \"yaxis\": \"y\"}, {\"customdata\": [[7415.125421543104, 18115.0, 57.72491328971787], [21535.75555330698, 11875.0, 59.057930404475115], [5608.356258839754, 2078.0, 59.332042855961454], [1208.5824937773637, 1198.0, 74.20173996982037], [303.3791686572041, 880.0, 38.380576385633724], [-768.2856898557453, 815.0, 72.32509943016656], [255.5748791361035, 392.0, 31.67771002010765]], \"hovertemplate\": \"<b>%{hovertext}</b><br><br>Country=CA<br>Markup per order (USD)=%{x}<br>Markup percentage=%{y}<br>Total orders=%{customdata[1]}<br>Markup (USD)=%{customdata[0]}<br>Average ticket=%{customdata[2]}<extra></extra>\", \"hovertext\": [\"Walmart\", \"Metro\", \"Longo's\", \"Costco\", \"Rexall\", \"Organic Garage\", \"Jean Coutu\"], \"legendgroup\": \"CA\", \"marker\": {\"color\": \"#00cc96\", \"opacity\": 0.5, \"size\": [18115, 11875, 2078, 1198, 880, 815, 392], \"sizemode\": \"area\", \"sizeref\": 28.6628, \"symbol\": \"circle\"}, \"mode\": \"markers\", \"name\": \"CA\", \"orientation\": \"v\", \"showlegend\": true, \"textposition\": \"top center\", \"type\": \"scatter\", \"x\": [0.4093362087520344, 1.8135373097521668, 2.6989202400576295, 1.0088334672599029, 0.3447490552922774, -0.9426818280438592, 0.6519767324900599], \"xaxis\": \"x\", \"y\": [0.71, 3.07, 4.55, 1.36, 0.9, -1.3, 2.06], \"yaxis\": \"y\"}, {\"customdata\": [[7770.315659006786, 13394.0, 42.42683607517025], [3239.8415953781246, 8281.0, 44.77390860106319], [1400.9647135575685, 7204.0, 42.91543857988109], [736.5876026600178, 2791.0, 69.13331847877677], [347.1177148556573, 2288.0, 40.72787637999641], [346.0716404970978, 1368.0, 40.54040472961287], [-193.85030063677675, 875.0, 22.696467529019014], [261.81007762424895, 839.0, 44.44044248200653], [-11.398618372958829, 705.0, 38.478773442995035], [-14.836912921046947, 691.0, 35.20296105692054], [144.02063371772473, 689.0, 41.98655034717595], [64.13893054786084, 675.0, 48.74592881552473], [239.46615158133432, 642.0, 22.75248563630653], [143.3158711356366, 617.0, 39.081689148227916], [293.44875207503696, 568.0, 23.639234519468232], [220.4338718232603, 529.0, 40.94080968489462], [-698.3957426035441, 411.0, 27.35893473815377], [250.73497331348196, 344.0, 34.03015200550083], [118.59752246117114, 332.0, 34.27840560718432], [-25.0615052821218, 318.0, 30.457659340536697], [81.33735159185012, 287.0, 20.306880928902487], [57.55807143451482, 271.0, 35.746104283340976]], \"hovertemplate\": \"<b>%{hovertext}</b><br><br>Country=BR<br>Markup per order (USD)=%{x}<br>Markup percentage=%{y}<br>Total orders=%{customdata[1]}<br>Markup (USD)=%{customdata[0]}<br>Average ticket=%{customdata[2]}<extra></extra>\", \"hovertext\": [\"Carrefour Hiper\", \"Atacad\\u00e3o\", \"Big\", \"Sam's Club\", \"Prezunic\", \"Maxxi\", \"Kalunga\", \"Carrefour Pamplona\", \"Hirota Supermercados\", \"Carrefour Bairro\", \"BIG Bompre\\u00e7o\", \"Emporium S\\u00e3o Paulo\", \"Droga Raia\", \"Rold\\u00e3o Atacadista\", \"Drogasil\", \"Bem Barato Supermercados\", \"Cobasi\", \"Super Nosso\", \"Barbosa Supermercados\", \"Nacional\", \"Carrefour Drogaria\", \"Muffato\"], \"legendgroup\": \"BR\", \"marker\": {\"color\": \"#ab63fa\", \"opacity\": 0.5, \"size\": [13394, 8281, 7204, 2791, 2288, 1368, 875, 839, 705, 691, 689, 675, 642, 617, 568, 529, 411, 344, 332, 318, 287, 271], \"sizemode\": \"area\", \"sizeref\": 28.6628, \"symbol\": \"circle\"}, \"mode\": \"markers\", \"name\": \"BR\", \"orientation\": \"v\", \"showlegend\": true, \"textposition\": \"top center\", \"type\": \"scatter\", \"x\": [0.5801340644323417, 0.3912379658710451, 0.194470393331145, 0.2639153001289924, 0.1517122879613887, 0.2529763453926154, -0.22154320072774486, 0.31205015211471865, -0.01616825301128912, -0.021471654010198186, 0.20902849596186462, 0.09502063784868273, 0.3730002361079974, 0.23227855937704472, 0.5166351268926707, 0.4166991905921745, -1.6992597143638544, 0.728880736376401, 0.3572214531962986, -0.07880976503811887, 0.28340540624338023, 0.21239140750743477], \"xaxis\": \"x\", \"y\": [1.37, 0.87, 0.45, 0.38, 0.37, 0.62, -0.98, 0.7, -0.04, -0.06, 0.5, 0.19, 1.64, 0.59, 2.19, 1.02, -6.21, 2.14, 1.04, -0.26, 1.4, 0.59], \"yaxis\": \"y\"}, {\"customdata\": [[15766.786038570905, 7092.0, 67.92154953814821], [5220.661724327285, 2287.0, 53.09869527331035], [3157.2075782537086, 1926.0, 76.8293641221631], [2030.7852828116438, 1144.0, 49.98475439991092], [106.58704008786384, 323.0, 33.31610230149461], [80.64524986271269, 299.0, 31.073742054330854]], \"hovertemplate\": \"<b>%{hovertext}</b><br><br>Country=PE<br>Markup per order (USD)=%{x}<br>Markup percentage=%{y}<br>Total orders=%{customdata[1]}<br>Markup (USD)=%{customdata[0]}<br>Average ticket=%{customdata[2]}<extra></extra>\", \"hovertext\": [\"Wong\", \"Metro\", \"Makro\", \"Vivanda\", \"Flora & Fauna\", \"Inkafarma\"], \"legendgroup\": \"PE\", \"marker\": {\"color\": \"#FFA15A\", \"opacity\": 0.5, \"size\": [7092, 2287, 1926, 1144, 323, 299], \"sizemode\": \"area\", \"sizeref\": 28.6628, \"symbol\": \"circle\"}, \"mode\": \"markers\", \"name\": \"PE\", \"orientation\": \"v\", \"showlegend\": true, \"textposition\": \"top center\", \"type\": \"scatter\", \"x\": [2.2231790804527503, 2.282755454450059, 1.6392562711597656, 1.7751619604996887, 0.329990836185337, 0.2697165547247916], \"xaxis\": \"x\", \"y\": [3.27, 4.3, 2.13, 3.55, 0.99, 0.87], \"yaxis\": \"y\"}, {\"customdata\": [[4951.81000000001, 2985.0, 48.383135678391945], [1588.5099999999975, 977.0, 43.03018423746158], [636.1099999999996, 609.0, 38.61428571428571], [673.8700000000007, 485.0, 51.13983505154638], [344.15999999999957, 438.0, 38.21881278538814], [568.8599999999998, 372.0, 39.94373655913977], [-581.2, 356.0, 63.657949438202195], [87.92000000000002, 326.0, 52.47104294478528]], \"hovertemplate\": \"<b>%{hovertext}</b><br><br>Country=US<br>Markup per order (USD)=%{x}<br>Markup percentage=%{y}<br>Total orders=%{customdata[1]}<br>Markup (USD)=%{customdata[0]}<br>Average ticket=%{customdata[2]}<extra></extra>\", \"hovertext\": [\"Winn-Dixie\", \"Tom Thumb\", \"Randalls\", \"Fresco y M\\u00e1s\", \"Fiesta Mart\", \"Albertsons\", \"Gristedes\", \"Westside Market\"], \"legendgroup\": \"US\", \"marker\": {\"color\": \"#19d3f3\", \"opacity\": 0.5, \"size\": [2985, 977, 609, 485, 438, 372, 356, 326], \"sizemode\": \"area\", \"sizeref\": 28.6628, \"symbol\": \"circle\"}, \"mode\": \"markers\", \"name\": \"US\", \"orientation\": \"v\", \"showlegend\": true, \"textposition\": \"top center\", \"type\": \"scatter\", \"x\": [1.6588978224455646, 1.625905834186282, 1.0445155993431847, 1.3894226804123726, 0.7857534246575333, 1.5291935483870962, -1.6325842696629216, 0.2696932515337424], \"xaxis\": \"x\", \"y\": [3.43, 3.78, 2.7, 2.72, 2.06, 3.83, -2.56, 0.51], \"yaxis\": \"y\"}, {\"customdata\": [[5381.565032019393, 2135.0, 67.51198387004516], [2057.4702016451106, 708.0, 91.06443455204872]], \"hovertemplate\": \"<b>%{hovertext}</b><br><br>Country=CO<br>Markup per order (USD)=%{x}<br>Markup percentage=%{y}<br>Total orders=%{customdata[1]}<br>Markup (USD)=%{customdata[0]}<br>Average ticket=%{customdata[2]}<extra></extra>\", \"hovertext\": [\"Jumbo\", \"Alkosto\"], \"legendgroup\": \"CO\", \"marker\": {\"color\": \"#FF6692\", \"opacity\": 0.5, \"size\": [2135, 708], \"sizemode\": \"area\", \"sizeref\": 28.6628, \"symbol\": \"circle\"}, \"mode\": \"markers\", \"name\": \"CO\", \"orientation\": \"v\", \"showlegend\": true, \"textposition\": \"top center\", \"type\": \"scatter\", \"x\": [2.5206393592596688, 2.906031358255806], \"xaxis\": \"x\", \"y\": [3.73, 3.19], \"yaxis\": \"y\"}, {\"customdata\": [[320.8933228832404, 337.0, 41.36475223767763]], \"hovertemplate\": \"<b>%{hovertext}</b><br><br>Country=CR<br>Markup per order (USD)=%{x}<br>Markup percentage=%{y}<br>Total orders=%{customdata[1]}<br>Markup (USD)=%{customdata[0]}<br>Average ticket=%{customdata[2]}<extra></extra>\", \"hovertext\": [\"Perimercado\"], \"legendgroup\": \"CR\", \"marker\": {\"color\": \"#B6E880\", \"opacity\": 0.5, \"size\": [337], \"sizemode\": \"area\", \"sizeref\": 28.6628, \"symbol\": \"circle\"}, \"mode\": \"markers\", \"name\": \"CR\", \"orientation\": \"v\", \"showlegend\": true, \"textposition\": \"top center\", \"type\": \"scatter\", \"x\": [0.9522057058849863], \"xaxis\": \"x\", \"y\": [2.3], \"yaxis\": \"y\"}],                        {\"annotations\": [{\"showarrow\": false, \"text\": \"Jumbo CL\", \"x\": 3.5, \"y\": 4}], \"legend\": {\"itemsizing\": \"constant\", \"title\": {\"text\": \"Country\"}, \"tracegroupgap\": 0}, \"template\": {\"data\": {\"bar\": [{\"error_x\": {\"color\": \"#2a3f5f\"}, \"error_y\": {\"color\": \"#2a3f5f\"}, \"marker\": {\"line\": {\"color\": \"#E5ECF6\", \"width\": 0.5}}, \"type\": \"bar\"}], \"barpolar\": [{\"marker\": {\"line\": {\"color\": \"#E5ECF6\", \"width\": 0.5}}, \"type\": \"barpolar\"}], \"carpet\": [{\"aaxis\": {\"endlinecolor\": \"#2a3f5f\", \"gridcolor\": \"white\", \"linecolor\": \"white\", \"minorgridcolor\": \"white\", \"startlinecolor\": \"#2a3f5f\"}, \"baxis\": {\"endlinecolor\": \"#2a3f5f\", \"gridcolor\": \"white\", \"linecolor\": \"white\", \"minorgridcolor\": \"white\", \"startlinecolor\": \"#2a3f5f\"}, \"type\": \"carpet\"}], \"choropleth\": [{\"colorbar\": {\"outlinewidth\": 0, \"ticks\": \"\"}, \"type\": \"choropleth\"}], \"contour\": [{\"colorbar\": {\"outlinewidth\": 0, \"ticks\": \"\"}, \"colorscale\": [[0.0, \"#0d0887\"], [0.1111111111111111, \"#46039f\"], [0.2222222222222222, \"#7201a8\"], [0.3333333333333333, \"#9c179e\"], [0.4444444444444444, \"#bd3786\"], [0.5555555555555556, \"#d8576b\"], [0.6666666666666666, \"#ed7953\"], [0.7777777777777778, \"#fb9f3a\"], [0.8888888888888888, \"#fdca26\"], [1.0, \"#f0f921\"]], \"type\": \"contour\"}], \"contourcarpet\": [{\"colorbar\": {\"outlinewidth\": 0, \"ticks\": \"\"}, \"type\": \"contourcarpet\"}], \"heatmap\": [{\"colorbar\": {\"outlinewidth\": 0, \"ticks\": \"\"}, \"colorscale\": [[0.0, \"#0d0887\"], [0.1111111111111111, \"#46039f\"], [0.2222222222222222, \"#7201a8\"], [0.3333333333333333, \"#9c179e\"], [0.4444444444444444, \"#bd3786\"], [0.5555555555555556, \"#d8576b\"], [0.6666666666666666, \"#ed7953\"], [0.7777777777777778, \"#fb9f3a\"], [0.8888888888888888, \"#fdca26\"], [1.0, \"#f0f921\"]], \"type\": \"heatmap\"}], \"heatmapgl\": [{\"colorbar\": {\"outlinewidth\": 0, \"ticks\": \"\"}, \"colorscale\": [[0.0, \"#0d0887\"], [0.1111111111111111, \"#46039f\"], [0.2222222222222222, \"#7201a8\"], [0.3333333333333333, \"#9c179e\"], [0.4444444444444444, \"#bd3786\"], [0.5555555555555556, \"#d8576b\"], [0.6666666666666666, \"#ed7953\"], [0.7777777777777778, \"#fb9f3a\"], [0.8888888888888888, \"#fdca26\"], [1.0, \"#f0f921\"]], \"type\": \"heatmapgl\"}], \"histogram\": [{\"marker\": {\"colorbar\": {\"outlinewidth\": 0, \"ticks\": \"\"}}, \"type\": \"histogram\"}], \"histogram2d\": [{\"colorbar\": {\"outlinewidth\": 0, \"ticks\": \"\"}, \"colorscale\": [[0.0, \"#0d0887\"], [0.1111111111111111, \"#46039f\"], [0.2222222222222222, \"#7201a8\"], [0.3333333333333333, \"#9c179e\"], [0.4444444444444444, \"#bd3786\"], [0.5555555555555556, \"#d8576b\"], [0.6666666666666666, \"#ed7953\"], [0.7777777777777778, \"#fb9f3a\"], [0.8888888888888888, \"#fdca26\"], [1.0, \"#f0f921\"]], \"type\": \"histogram2d\"}], \"histogram2dcontour\": [{\"colorbar\": {\"outlinewidth\": 0, \"ticks\": \"\"}, \"colorscale\": [[0.0, \"#0d0887\"], [0.1111111111111111, \"#46039f\"], [0.2222222222222222, \"#7201a8\"], [0.3333333333333333, \"#9c179e\"], [0.4444444444444444, \"#bd3786\"], [0.5555555555555556, \"#d8576b\"], [0.6666666666666666, \"#ed7953\"], [0.7777777777777778, \"#fb9f3a\"], [0.8888888888888888, \"#fdca26\"], [1.0, \"#f0f921\"]], \"type\": \"histogram2dcontour\"}], \"mesh3d\": [{\"colorbar\": {\"outlinewidth\": 0, \"ticks\": \"\"}, \"type\": \"mesh3d\"}], \"parcoords\": [{\"line\": {\"colorbar\": {\"outlinewidth\": 0, \"ticks\": \"\"}}, \"type\": \"parcoords\"}], \"pie\": [{\"automargin\": true, \"type\": \"pie\"}], \"scatter\": [{\"marker\": {\"colorbar\": {\"outlinewidth\": 0, \"ticks\": \"\"}}, \"type\": \"scatter\"}], \"scatter3d\": [{\"line\": {\"colorbar\": {\"outlinewidth\": 0, \"ticks\": \"\"}}, \"marker\": {\"colorbar\": {\"outlinewidth\": 0, \"ticks\": \"\"}}, \"type\": \"scatter3d\"}], \"scattercarpet\": [{\"marker\": {\"colorbar\": {\"outlinewidth\": 0, \"ticks\": \"\"}}, \"type\": \"scattercarpet\"}], \"scattergeo\": [{\"marker\": {\"colorbar\": {\"outlinewidth\": 0, \"ticks\": \"\"}}, \"type\": \"scattergeo\"}], \"scattergl\": [{\"marker\": {\"colorbar\": {\"outlinewidth\": 0, \"ticks\": \"\"}}, \"type\": \"scattergl\"}], \"scattermapbox\": [{\"marker\": {\"colorbar\": {\"outlinewidth\": 0, \"ticks\": \"\"}}, \"type\": \"scattermapbox\"}], \"scatterpolar\": [{\"marker\": {\"colorbar\": {\"outlinewidth\": 0, \"ticks\": \"\"}}, \"type\": \"scatterpolar\"}], \"scatterpolargl\": [{\"marker\": {\"colorbar\": {\"outlinewidth\": 0, \"ticks\": \"\"}}, \"type\": \"scatterpolargl\"}], \"scatterternary\": [{\"marker\": {\"colorbar\": {\"outlinewidth\": 0, \"ticks\": \"\"}}, \"type\": \"scatterternary\"}], \"surface\": [{\"colorbar\": {\"outlinewidth\": 0, \"ticks\": \"\"}, \"colorscale\": [[0.0, \"#0d0887\"], [0.1111111111111111, \"#46039f\"], [0.2222222222222222, \"#7201a8\"], [0.3333333333333333, \"#9c179e\"], [0.4444444444444444, \"#bd3786\"], [0.5555555555555556, \"#d8576b\"], [0.6666666666666666, \"#ed7953\"], [0.7777777777777778, \"#fb9f3a\"], [0.8888888888888888, \"#fdca26\"], [1.0, \"#f0f921\"]], \"type\": \"surface\"}], \"table\": [{\"cells\": {\"fill\": {\"color\": \"#EBF0F8\"}, \"line\": {\"color\": \"white\"}}, \"header\": {\"fill\": {\"color\": \"#C8D4E3\"}, \"line\": {\"color\": \"white\"}}, \"type\": \"table\"}]}, \"layout\": {\"annotationdefaults\": {\"arrowcolor\": \"#2a3f5f\", \"arrowhead\": 0, \"arrowwidth\": 1}, \"autotypenumbers\": \"strict\", \"coloraxis\": {\"colorbar\": {\"outlinewidth\": 0, \"ticks\": \"\"}}, \"colorscale\": {\"diverging\": [[0, \"#8e0152\"], [0.1, \"#c51b7d\"], [0.2, \"#de77ae\"], [0.3, \"#f1b6da\"], [0.4, \"#fde0ef\"], [0.5, \"#f7f7f7\"], [0.6, \"#e6f5d0\"], [0.7, \"#b8e186\"], [0.8, \"#7fbc41\"], [0.9, \"#4d9221\"], [1, \"#276419\"]], \"sequential\": [[0.0, \"#0d0887\"], [0.1111111111111111, \"#46039f\"], [0.2222222222222222, \"#7201a8\"], [0.3333333333333333, \"#9c179e\"], [0.4444444444444444, \"#bd3786\"], [0.5555555555555556, \"#d8576b\"], [0.6666666666666666, \"#ed7953\"], [0.7777777777777778, \"#fb9f3a\"], [0.8888888888888888, \"#fdca26\"], [1.0, \"#f0f921\"]], \"sequentialminus\": [[0.0, \"#0d0887\"], [0.1111111111111111, \"#46039f\"], [0.2222222222222222, \"#7201a8\"], [0.3333333333333333, \"#9c179e\"], [0.4444444444444444, \"#bd3786\"], [0.5555555555555556, \"#d8576b\"], [0.6666666666666666, \"#ed7953\"], [0.7777777777777778, \"#fb9f3a\"], [0.8888888888888888, \"#fdca26\"], [1.0, \"#f0f921\"]]}, \"colorway\": [\"#636efa\", \"#EF553B\", \"#00cc96\", \"#ab63fa\", \"#FFA15A\", \"#19d3f3\", \"#FF6692\", \"#B6E880\", \"#FF97FF\", \"#FECB52\"], \"font\": {\"color\": \"#2a3f5f\"}, \"geo\": {\"bgcolor\": \"white\", \"lakecolor\": \"white\", \"landcolor\": \"#E5ECF6\", \"showlakes\": true, \"showland\": true, \"subunitcolor\": \"white\"}, \"hoverlabel\": {\"align\": \"left\"}, \"hovermode\": \"closest\", \"mapbox\": {\"style\": \"light\"}, \"paper_bgcolor\": \"white\", \"plot_bgcolor\": \"#E5ECF6\", \"polar\": {\"angularaxis\": {\"gridcolor\": \"white\", \"linecolor\": \"white\", \"ticks\": \"\"}, \"bgcolor\": \"#E5ECF6\", \"radialaxis\": {\"gridcolor\": \"white\", \"linecolor\": \"white\", \"ticks\": \"\"}}, \"scene\": {\"xaxis\": {\"backgroundcolor\": \"#E5ECF6\", \"gridcolor\": \"white\", \"gridwidth\": 2, \"linecolor\": \"white\", \"showbackground\": true, \"ticks\": \"\", \"zerolinecolor\": \"white\"}, \"yaxis\": {\"backgroundcolor\": \"#E5ECF6\", \"gridcolor\": \"white\", \"gridwidth\": 2, \"linecolor\": \"white\", \"showbackground\": true, \"ticks\": \"\", \"zerolinecolor\": \"white\"}, \"zaxis\": {\"backgroundcolor\": \"#E5ECF6\", \"gridcolor\": \"white\", \"gridwidth\": 2, \"linecolor\": \"white\", \"showbackground\": true, \"ticks\": \"\", \"zerolinecolor\": \"white\"}}, \"shapedefaults\": {\"line\": {\"color\": \"#2a3f5f\"}}, \"ternary\": {\"aaxis\": {\"gridcolor\": \"white\", \"linecolor\": \"white\", \"ticks\": \"\"}, \"baxis\": {\"gridcolor\": \"white\", \"linecolor\": \"white\", \"ticks\": \"\"}, \"bgcolor\": \"#E5ECF6\", \"caxis\": {\"gridcolor\": \"white\", \"linecolor\": \"white\", \"ticks\": \"\"}}, \"title\": {\"x\": 0.05}, \"xaxis\": {\"automargin\": true, \"gridcolor\": \"white\", \"linecolor\": \"white\", \"ticks\": \"\", \"title\": {\"standoff\": 15}, \"zerolinecolor\": \"white\", \"zerolinewidth\": 2}, \"yaxis\": {\"automargin\": true, \"gridcolor\": \"white\", \"linecolor\": \"white\", \"ticks\": \"\", \"title\": {\"standoff\": 15}, \"zerolinecolor\": \"white\", \"zerolinewidth\": 2}}}, \"title\": {\"text\": \"Top 100 grossing stores markup percentage vs markup per order, week: 2021-05\"}, \"xaxis\": {\"anchor\": \"y\", \"domain\": [0.0, 1.0], \"title\": {\"text\": \"Markup per order (USD)\"}}, \"yaxis\": {\"anchor\": \"x\", \"domain\": [0.0, 1.0], \"dtick\": 2, \"title\": {\"text\": \"Markup percentage\"}}},                        {\"responsive\": true}                    ).then(function(){\n",
       "                            \n",
       "var gd = document.getElementById('5260aee6-7257-414a-98f4-4f2a775d676b');\n",
       "var x = new MutationObserver(function (mutations, observer) {{\n",
       "        var display = window.getComputedStyle(gd).display;\n",
       "        if (!display || display === 'none') {{\n",
       "            console.log([gd, 'removed!']);\n",
       "            Plotly.purge(gd);\n",
       "            observer.disconnect();\n",
       "        }}\n",
       "}});\n",
       "\n",
       "// Listen for the removal of the full notebook cells\n",
       "var notebookContainer = gd.closest('#notebook-container');\n",
       "if (notebookContainer) {{\n",
       "    x.observe(notebookContainer, {childList: true});\n",
       "}}\n",
       "\n",
       "// Listen for the clearing of the current output cell\n",
       "var outputEl = gd.closest('.output');\n",
       "if (outputEl) {{\n",
       "    x.observe(outputEl, {childList: true});\n",
       "}}\n",
       "\n",
       "                        })                };                });            </script>        </div>"
      ]
     },
     "metadata": {},
     "output_type": "display_data"
    },
    {
     "data": {
      "text/html": [
       "<div>\n",
       "<style scoped>\n",
       "    .dataframe tbody tr th:only-of-type {\n",
       "        vertical-align: middle;\n",
       "    }\n",
       "\n",
       "    .dataframe tbody tr th {\n",
       "        vertical-align: top;\n",
       "    }\n",
       "\n",
       "    .dataframe thead th {\n",
       "        text-align: right;\n",
       "    }\n",
       "</style>\n",
       "<table border=\"1\" class=\"dataframe\">\n",
       "  <thead>\n",
       "    <tr style=\"text-align: right;\">\n",
       "      <th></th>\n",
       "      <th>week</th>\n",
       "      <th>country</th>\n",
       "      <th>is_longtail</th>\n",
       "      <th>store_id</th>\n",
       "      <th>store</th>\n",
       "      <th>orders</th>\n",
       "      <th>products_charged_local</th>\n",
       "      <th>total_receipt_local</th>\n",
       "      <th>markup_local</th>\n",
       "      <th>products_charged_usd</th>\n",
       "      <th>total_receipt_usd</th>\n",
       "      <th>markup_usd</th>\n",
       "      <th>markup_pctg</th>\n",
       "      <th>markup_kind</th>\n",
       "      <th>service_type</th>\n",
       "      <th>markup_by_order</th>\n",
       "      <th>avg_ticket</th>\n",
       "    </tr>\n",
       "  </thead>\n",
       "  <tbody>\n",
       "    <tr>\n",
       "      <th>1406</th>\n",
       "      <td>2021-05</td>\n",
       "      <td>CL</td>\n",
       "      <td>False</td>\n",
       "      <td>4</td>\n",
       "      <td>Jumbo</td>\n",
       "      <td>71657</td>\n",
       "      <td>4,982,847,916.74</td>\n",
       "      <td>4,799,039,657.00</td>\n",
       "      <td>183,808,259.74</td>\n",
       "      <td>6,795,090.35</td>\n",
       "      <td>6,544,431.74</td>\n",
       "      <td>250,658.61</td>\n",
       "      <td>3.83</td>\n",
       "      <td>markup</td>\n",
       "      <td>Full service</td>\n",
       "      <td>3.50</td>\n",
       "      <td>91.33</td>\n",
       "    </tr>\n",
       "    <tr>\n",
       "      <th>455</th>\n",
       "      <td>2021-05</td>\n",
       "      <td>MX</td>\n",
       "      <td>False</td>\n",
       "      <td>22</td>\n",
       "      <td>Chedraui</td>\n",
       "      <td>29349</td>\n",
       "      <td>35,879,972.53</td>\n",
       "      <td>35,243,312.04</td>\n",
       "      <td>636,660.49</td>\n",
       "      <td>1,785,681.72</td>\n",
       "      <td>1,753,996.28</td>\n",
       "      <td>31,685.45</td>\n",
       "      <td>1.81</td>\n",
       "      <td>markup</td>\n",
       "      <td>Full service</td>\n",
       "      <td>1.08</td>\n",
       "      <td>59.76</td>\n",
       "    </tr>\n",
       "    <tr>\n",
       "      <th>456</th>\n",
       "      <td>2021-05</td>\n",
       "      <td>MX</td>\n",
       "      <td>False</td>\n",
       "      <td>25</td>\n",
       "      <td>HEB</td>\n",
       "      <td>19500</td>\n",
       "      <td>27,393,940.01</td>\n",
       "      <td>25,448,182.53</td>\n",
       "      <td>1,945,757.48</td>\n",
       "      <td>1,363,347.14</td>\n",
       "      <td>1,266,510.29</td>\n",
       "      <td>96,836.85</td>\n",
       "      <td>7.65</td>\n",
       "      <td>markup</td>\n",
       "      <td>Full service</td>\n",
       "      <td>4.97</td>\n",
       "      <td>64.95</td>\n",
       "    </tr>\n",
       "    <tr>\n",
       "      <th>1800</th>\n",
       "      <td>2021-05</td>\n",
       "      <td>CA</td>\n",
       "      <td>False</td>\n",
       "      <td>537</td>\n",
       "      <td>Walmart</td>\n",
       "      <td>18115</td>\n",
       "      <td>1,342,474.33</td>\n",
       "      <td>1,333,021.67</td>\n",
       "      <td>9,452.66</td>\n",
       "      <td>1,053,101.93</td>\n",
       "      <td>1,045,686.80</td>\n",
       "      <td>7,415.13</td>\n",
       "      <td>0.71</td>\n",
       "      <td>no markup</td>\n",
       "      <td>Full service</td>\n",
       "      <td>0.41</td>\n",
       "      <td>57.72</td>\n",
       "    </tr>\n",
       "    <tr>\n",
       "      <th>454</th>\n",
       "      <td>2021-05</td>\n",
       "      <td>MX</td>\n",
       "      <td>False</td>\n",
       "      <td>7</td>\n",
       "      <td>Costco</td>\n",
       "      <td>15973</td>\n",
       "      <td>25,191,336.08</td>\n",
       "      <td>24,875,669.99</td>\n",
       "      <td>315,666.09</td>\n",
       "      <td>1,253,727.51</td>\n",
       "      <td>1,238,017.37</td>\n",
       "      <td>15,710.13</td>\n",
       "      <td>1.27</td>\n",
       "      <td>markup</td>\n",
       "      <td>Full service</td>\n",
       "      <td>0.98</td>\n",
       "      <td>77.51</td>\n",
       "    </tr>\n",
       "  </tbody>\n",
       "</table>\n",
       "</div>"
      ],
      "text/plain": [
       "         week country  is_longtail  store_id     store  orders  \\\n",
       "1406  2021-05      CL        False         4     Jumbo   71657   \n",
       "455   2021-05      MX        False        22  Chedraui   29349   \n",
       "456   2021-05      MX        False        25       HEB   19500   \n",
       "1800  2021-05      CA        False       537   Walmart   18115   \n",
       "454   2021-05      MX        False         7    Costco   15973   \n",
       "\n",
       "      products_charged_local  total_receipt_local   markup_local  \\\n",
       "1406        4,982,847,916.74     4,799,039,657.00 183,808,259.74   \n",
       "455            35,879,972.53        35,243,312.04     636,660.49   \n",
       "456            27,393,940.01        25,448,182.53   1,945,757.48   \n",
       "1800            1,342,474.33         1,333,021.67       9,452.66   \n",
       "454            25,191,336.08        24,875,669.99     315,666.09   \n",
       "\n",
       "      products_charged_usd  total_receipt_usd  markup_usd  markup_pctg  \\\n",
       "1406          6,795,090.35       6,544,431.74  250,658.61         3.83   \n",
       "455           1,785,681.72       1,753,996.28   31,685.45         1.81   \n",
       "456           1,363,347.14       1,266,510.29   96,836.85         7.65   \n",
       "1800          1,053,101.93       1,045,686.80    7,415.13         0.71   \n",
       "454           1,253,727.51       1,238,017.37   15,710.13         1.27   \n",
       "\n",
       "     markup_kind  service_type  markup_by_order  avg_ticket  \n",
       "1406      markup  Full service             3.50       91.33  \n",
       "455       markup  Full service             1.08       59.76  \n",
       "456       markup  Full service             4.97       64.95  \n",
       "1800   no markup  Full service             0.41       57.72  \n",
       "454       markup  Full service             0.98       77.51  "
      ]
     },
     "execution_count": 1079,
     "metadata": {},
     "output_type": "execute_result"
    }
   ],
   "source": [
    "#Gráfico\n",
    "top_grossing_stores=markup_cs.sort_values(by='orders',ascending=False).iloc[0:100,:]\n",
    "\n",
    "fig = px.scatter(top_grossing_stores, \n",
    "                 y=\"markup_pctg\", x=\"markup_by_order\",color='country',hover_data=['markup_usd','orders','avg_ticket']\n",
    "                 ,hover_name='store',opacity=0.5,title=\"Top 100 grossing stores markup percentage vs markup per order, week: \"+str(week[0]),size='orders',size_max=50\n",
    "                ,labels={'markup_by_order':'Markup per order (USD)','markup_usd':'Markup (USD)','country':'Country','service_type':'Service type','orders':'Total orders','markup_pctg':'Markup percentage','avg_ticket':'Average ticket'}\n",
    "                )\n",
    "\n",
    "fig.update_traces(textposition='top center')\n",
    "fig.update_yaxes(dtick=2)\n",
    "fig.add_annotation(x=3.5, y=4,\n",
    "            text=\"Jumbo CL\",showarrow=False)\n",
    "\n",
    "\n",
    "fig.show()\n",
    "top_grossing_stores.head()                                                              "
   ]
  }
 ],
 "metadata": {
  "kernelspec": {
   "display_name": "Python 3",
   "language": "python",
   "name": "python3"
  },
  "language_info": {
   "codemirror_mode": {
    "name": "ipython",
    "version": 3
   },
   "file_extension": ".py",
   "mimetype": "text/x-python",
   "name": "python",
   "nbconvert_exporter": "python",
   "pygments_lexer": "ipython3",
   "version": "3.8.5"
  }
 },
 "nbformat": 4,
 "nbformat_minor": 4
}

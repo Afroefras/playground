{
 "cells": [
  {
   "cell_type": "markdown",
   "source": [
    "# Examen 0101"
   ],
   "metadata": {}
  },
  {
   "cell_type": "markdown",
   "source": [
    "## Parámetros"
   ],
   "metadata": {}
  },
  {
   "cell_type": "code",
   "execution_count": 1,
   "source": [
    "BASE_DIR = '/Users/efraflores/Desktop/EF/Diplo/data/other/DiegoF/01'\n",
    "FILE_NAME = 'dataset_examen.csv'"
   ],
   "outputs": [],
   "metadata": {}
  },
  {
   "cell_type": "markdown",
   "source": [
    "## Funciones"
   ],
   "metadata": {}
  },
  {
   "cell_type": "markdown",
   "source": [
    "### Column vs target"
   ],
   "metadata": {}
  },
  {
   "cell_type": "code",
   "execution_count": 2,
   "source": [
    "def col_vs_tgt(data, col, target='loan_status'):\n",
    "    data['grouped'] = data[col]\n",
    "    vs = data.pivot_table(index='grouped', columns=target, aggfunc={'id':'count'})\n",
    "    vs = vs/vs.sum()\n",
    "    return vs.style.format(\"{:.1%}\").background_gradient('Blues')"
   ],
   "outputs": [],
   "metadata": {}
  },
  {
   "cell_type": "markdown",
   "source": [
    "### Group classes with low frequency"
   ],
   "metadata": {}
  },
  {
   "cell_type": "code",
   "execution_count": 3,
   "source": [
    "def group_lowfreq(df_col, p=0.05):\n",
    "    tot_freq = df_col.value_counts(1).to_frame()\n",
    "    tot_freq['group'] = [col if freq>p else 'other' for col,freq in zip(tot_freq.index,tot_freq.iloc[:,-1])]\n",
    "    return df_col.map(tot_freq.iloc[:,-1].to_dict())"
   ],
   "outputs": [],
   "metadata": {}
  },
  {
   "cell_type": "markdown",
   "source": [
    "### Replace top words"
   ],
   "metadata": {}
  },
  {
   "cell_type": "code",
   "execution_count": 4,
   "source": [
    "from sklearn.feature_extraction.text import CountVectorizer\n",
    "\n",
    "def replace_top_words(data, col, **kwargs):\n",
    "    df = data.copy()\n",
    "    cv = CountVectorizer(**kwargs)\n",
    "    cv.fit(df[col])\n",
    "\n",
    "    full = pd.DataFrame(cv.transform(df[col]).toarray(), index=zip(df.index,df[col].str.lower()), columns=cv.get_feature_names())\n",
    "    full['total'] = full.sum(axis=1)\n",
    "\n",
    "    replaced = []\n",
    "    for i, tot in enumerate(full['total']):\n",
    "        if tot==0: replaced.append('other')\n",
    "        else:\n",
    "            transposed = full.iloc[i,:-1].T.to_frame()\n",
    "            unique_col = transposed.columns[0]\n",
    "            filtered = transposed[transposed[unique_col]>0].sort_values(unique_col, ascending=False)\n",
    "            replaced.append(filtered.index[0]) \n",
    "    \n",
    "    return replaced, cv"
   ],
   "outputs": [],
   "metadata": {}
  },
  {
   "cell_type": "markdown",
   "source": [
    "## Importar"
   ],
   "metadata": {}
  },
  {
   "cell_type": "code",
   "execution_count": null,
   "source": [
    "import pandas as pd\n",
    "from pathlib import Path\n",
    "\n",
    "BASE_DIR = Path(BASE_DIR)\n",
    "df = pd.read_csv(BASE_DIR.joinpath(FILE_NAME), low_memory=False)\n",
    "print(df.shape)\n",
    "df.head()"
   ],
   "outputs": [],
   "metadata": {}
  },
  {
   "cell_type": "markdown",
   "source": [
    "## Transformar"
   ],
   "metadata": {}
  },
  {
   "cell_type": "markdown",
   "source": [
    "### Sólo dos estatus de préstamo"
   ],
   "metadata": {}
  },
  {
   "cell_type": "code",
   "execution_count": null,
   "source": [
    "df['loan_status'].value_counts()"
   ],
   "outputs": [],
   "metadata": {}
  },
  {
   "cell_type": "code",
   "execution_count": null,
   "source": [
    "df = df[df['loan_status'].isin(['Fully Paid','Charged Off'])]\n",
    "df['loan_status'].value_counts(1)"
   ],
   "outputs": [],
   "metadata": {}
  },
  {
   "cell_type": "markdown",
   "source": [
    "### Por variable"
   ],
   "metadata": {}
  },
  {
   "cell_type": "code",
   "execution_count": null,
   "source": [
    "vars_date = []\n",
    "vars_cat = []\n",
    "vars_bin = []\n",
    "vars_num = []\n",
    "df_replace = {}\n",
    "df_bins = {}\n",
    "count_v = {}"
   ],
   "outputs": [],
   "metadata": {}
  },
  {
   "cell_type": "markdown",
   "source": [
    "#### 1.\tacc now delinq: El número de cuentas en las que el prestatario está ahora en mora"
   ],
   "metadata": {}
  },
  {
   "cell_type": "code",
   "execution_count": null,
   "source": [
    "df['acc_now_delinq'].value_counts(dropna=False)"
   ],
   "outputs": [],
   "metadata": {}
  },
  {
   "cell_type": "code",
   "execution_count": null,
   "source": [
    "df['acc_now_delinq'] = (df['acc_now_delinq'] > 0)*1\n",
    "df['acc_now_delinq'].value_counts(1, dropna=False)"
   ],
   "outputs": [],
   "metadata": {}
  },
  {
   "cell_type": "code",
   "execution_count": null,
   "source": [
    "vars_bin.append('acc_now_delinq')\n",
    "col_vs_tgt(df,'acc_now_delinq')"
   ],
   "outputs": [],
   "metadata": {}
  },
  {
   "cell_type": "markdown",
   "source": [
    "#### 2.\taddr state: El estado proporcionado por el prestatario en la solicitud de préstamo"
   ],
   "metadata": {}
  },
  {
   "cell_type": "code",
   "execution_count": null,
   "source": [
    "df['addr_state'].value_counts(1, dropna=False)"
   ],
   "outputs": [],
   "metadata": {}
  },
  {
   "cell_type": "code",
   "execution_count": null,
   "source": [
    "df['addr_state'] = group_lowfreq(df['addr_state'])\n",
    "df['addr_state'].value_counts(1, dropna=False)"
   ],
   "outputs": [],
   "metadata": {}
  },
  {
   "cell_type": "code",
   "execution_count": null,
   "source": [
    "vars_cat.append('addr_state')\n",
    "col_vs_tgt(df,'addr_state')"
   ],
   "outputs": [],
   "metadata": {}
  },
  {
   "cell_type": "markdown",
   "source": [
    "#### 3.\tall util: Límite de saldo a crédito en todas las operaciones"
   ],
   "metadata": {}
  },
  {
   "cell_type": "code",
   "execution_count": null,
   "source": [
    "df['all_util'].hist()"
   ],
   "outputs": [],
   "metadata": {}
  },
  {
   "cell_type": "code",
   "execution_count": null,
   "source": [
    "df['all_util'].value_counts(1, dropna=False)"
   ],
   "outputs": [],
   "metadata": {}
  },
  {
   "cell_type": "code",
   "execution_count": null,
   "source": [
    "df['all_util'] = (df['all_util'].notnull())*1\n",
    "df['all_util'].value_counts(1, dropna=False)"
   ],
   "outputs": [],
   "metadata": {}
  },
  {
   "cell_type": "code",
   "execution_count": null,
   "source": [
    "vars_bin.append('all_util')\n",
    "col_vs_tgt(df, 'all_util')"
   ],
   "outputs": [],
   "metadata": {}
  },
  {
   "cell_type": "markdown",
   "source": [
    "#### 4.\tannual inc: Los ingresos anuales autoinformadas proporcionados por el prestatario durante el registro"
   ],
   "metadata": {}
  },
  {
   "cell_type": "code",
   "execution_count": null,
   "source": [
    "df['annual_inc'].isnull().sum()"
   ],
   "outputs": [],
   "metadata": {}
  },
  {
   "cell_type": "code",
   "execution_count": null,
   "source": [
    "df['annual_inc'].describe([i/10 for i in range(10)])"
   ],
   "outputs": [],
   "metadata": {}
  },
  {
   "cell_type": "code",
   "execution_count": null,
   "source": [
    "df['annual_inc'], df_bins['annual_inc'] = pd.qcut(df['annual_inc'], q=5, retbins=True)\n",
    "vars_cat.append('annual_inc')\n",
    "col_vs_tgt(df, 'annual_inc')"
   ],
   "outputs": [],
   "metadata": {}
  },
  {
   "cell_type": "markdown",
   "source": [
    "#### 5.\tannual inc joint: Los ingresos anuales autoinformadas combinados proporcionados por los co-prestatarios durante el registro"
   ],
   "metadata": {}
  },
  {
   "cell_type": "code",
   "execution_count": null,
   "source": [
    "df['annual_inc_joint'].isnull().mean()"
   ],
   "outputs": [],
   "metadata": {}
  },
  {
   "cell_type": "code",
   "execution_count": null,
   "source": [
    "df.drop('annual_inc_joint', axis=1, inplace=True)"
   ],
   "outputs": [],
   "metadata": {}
  },
  {
   "cell_type": "markdown",
   "source": [
    "#### 6.\tcollection recovery fee: cargo posterior a la tarifa de cobro.\n"
   ],
   "metadata": {}
  },
  {
   "cell_type": "code",
   "execution_count": null,
   "source": [
    "df['collection_recovery_fee'].isnull().sum()"
   ],
   "outputs": [],
   "metadata": {}
  },
  {
   "cell_type": "code",
   "execution_count": null,
   "source": [
    "df['collection_recovery_fee'] = (df['collection_recovery_fee']>0)*1\n",
    "df['collection_recovery_fee'].value_counts(1, dropna=False)"
   ],
   "outputs": [],
   "metadata": {}
  },
  {
   "cell_type": "code",
   "execution_count": null,
   "source": [
    "vars_bin.append('collection_recovery_fee')\n",
    "col_vs_tgt(df, 'collection_recovery_fee')"
   ],
   "outputs": [],
   "metadata": {}
  },
  {
   "cell_type": "markdown",
   "source": [
    "#### 7.\tcollections 12 mths ex med: Número de colecciones en 12 meses, excluidas las colecciones médicas.\n"
   ],
   "metadata": {}
  },
  {
   "cell_type": "code",
   "execution_count": null,
   "source": [
    "df['collections_12_mths_ex_med'].value_counts(1, dropna=False)"
   ],
   "outputs": [],
   "metadata": {}
  },
  {
   "cell_type": "code",
   "execution_count": null,
   "source": [
    "aux = df.copy()\n",
    "aux['g'] = (aux['collections_12_mths_ex_med']>0)*1\n",
    "col_vs_tgt(aux, 'g')"
   ],
   "outputs": [],
   "metadata": {}
  },
  {
   "cell_type": "code",
   "execution_count": null,
   "source": [
    "df.drop(columns=['collections_12_mths_ex_med'], inplace=True)"
   ],
   "outputs": [],
   "metadata": {}
  },
  {
   "cell_type": "markdown",
   "source": [
    "#### 8.\tdelinq 2yrs: El número de más de 30 días de incidencias vencidas de morosidad en el archivo de crédito del prestatario durante los últimos 2 años.\n"
   ],
   "metadata": {}
  },
  {
   "cell_type": "code",
   "execution_count": null,
   "source": [
    "df['delinq_2yrs'].value_counts(1, dropna=False)"
   ],
   "outputs": [],
   "metadata": {}
  },
  {
   "cell_type": "code",
   "execution_count": null,
   "source": [
    "df['delinq_2yrs'] = (df['delinq_2yrs']>0)*1\n",
    "df['delinq_2yrs'].value_counts(1, dropna=False)"
   ],
   "outputs": [],
   "metadata": {}
  },
  {
   "cell_type": "code",
   "execution_count": null,
   "source": [
    "vars_bin.append('delinq_2yrs')\n",
    "col_vs_tgt(df, 'delinq_2yrs')"
   ],
   "outputs": [],
   "metadata": {}
  },
  {
   "cell_type": "markdown",
   "source": [
    "#### 9.\tdesc: Descripción del préstamo proporcionada por el prestatario.\n"
   ],
   "metadata": {}
  },
  {
   "cell_type": "code",
   "execution_count": null,
   "source": [
    "df['desc'].astype(str).str.split().str[0].value_counts(1, dropna=False).to_frame().head(22)"
   ],
   "outputs": [],
   "metadata": {}
  },
  {
   "cell_type": "code",
   "execution_count": null,
   "source": [
    "df['desc'] = df['desc'].notnull()*1\n",
    "df['desc'].value_counts(1, dropna=False)"
   ],
   "outputs": [],
   "metadata": {}
  },
  {
   "cell_type": "code",
   "execution_count": null,
   "source": [
    "vars_bin.append('desc')\n",
    "col_vs_tgt(df, 'desc')"
   ],
   "outputs": [],
   "metadata": {}
  },
  {
   "cell_type": "markdown",
   "source": [
    "#### 10.\tdti: Una relación calculada utilizando los pagos mensuales totales de la deuda del prestatario sobre las obligaciones totales de la deuda, excluyendo la hipoteca y el préstamo LC solicitado, dividido por los ingresos mensuales autoinformadas del prestatario\n"
   ],
   "metadata": {}
  },
  {
   "cell_type": "code",
   "execution_count": null,
   "source": [
    "df['dti'].hist()"
   ],
   "outputs": [],
   "metadata": {}
  },
  {
   "cell_type": "code",
   "execution_count": null,
   "source": [
    "vars_num.append('dti')"
   ],
   "outputs": [],
   "metadata": {}
  },
  {
   "cell_type": "markdown",
   "source": [
    "#### 11.\tdti joint: Una relación calculada utilizando los pagos mensuales totales de los co-prestatarios sobre las obligaciones totales de deuda, excluyendo las hipotecas y el préstamo LC solicitado, dividido por los ingresos mensuales autoinformadas\n"
   ],
   "metadata": {}
  },
  {
   "cell_type": "code",
   "execution_count": null,
   "source": [
    "df['dti_joint'].value_counts(1, dropna=False)"
   ],
   "outputs": [],
   "metadata": {}
  },
  {
   "cell_type": "code",
   "execution_count": null,
   "source": [
    "df.drop('dti_joint', axis=1, inplace=True)"
   ],
   "outputs": [],
   "metadata": {}
  },
  {
   "cell_type": "markdown",
   "source": [
    "#### 12.\tearliest cr line: El mes en que se abrió la línea de crédito reportada más temprana del prestatario.\n"
   ],
   "metadata": {}
  },
  {
   "cell_type": "code",
   "execution_count": null,
   "source": [
    "df['earliest_cr_line'].value_counts(1, dropna=False)"
   ],
   "outputs": [],
   "metadata": {}
  },
  {
   "cell_type": "code",
   "execution_count": null,
   "source": [
    "df['earliest_cr_line'] = pd.to_datetime(df['earliest_cr_line'], format=r'%b-%Y')\n",
    "vars_date.append('earliest_cr_line')"
   ],
   "outputs": [],
   "metadata": {}
  },
  {
   "cell_type": "markdown",
   "source": [
    "#### 13.\temp length: Duración del empleo en años. Los valores posibles están entre 0 y 10, donde 0 significa menos de un año y 10 significa diez o más años.\n"
   ],
   "metadata": {}
  },
  {
   "cell_type": "code",
   "execution_count": null,
   "source": [
    "df['emp_length'].value_counts(0, dropna=False).sort_index()"
   ],
   "outputs": [],
   "metadata": {}
  },
  {
   "cell_type": "code",
   "execution_count": null,
   "source": [
    "import numpy as np\n",
    "\n",
    "df_replace['emp_length'] = {np.nan: '00-02',\n",
    "                            '< 1 year': '00-02',\n",
    "                            '1 year': '00-02',\n",
    "                            '2 years': '00-02',\n",
    "                            '3 years': '03-05',\n",
    "                            '4 years': '03-05',\n",
    "                            '5 years': '03-05',\n",
    "                            '6 years': '06-08',\n",
    "                            '7 years': '06-08',\n",
    "                            '8 years': '06-08',\n",
    "                            '9 years': '09-99',\n",
    "                            '10+ years': '09-99'}\n",
    "\n",
    "df['emp_length'] = df['emp_length'].map(df_replace['emp_length'])\n",
    "df['emp_length'].value_counts(1, dropna=False)"
   ],
   "outputs": [],
   "metadata": {}
  },
  {
   "cell_type": "code",
   "execution_count": null,
   "source": [
    "vars_cat.append('emp_length')\n",
    "col_vs_tgt(df, 'emp_length')"
   ],
   "outputs": [],
   "metadata": {}
  },
  {
   "cell_type": "markdown",
   "source": [
    "#### 14.\temp title: El título del trabajo proporcionado por el Prestatario al solicitar el préstamo.*\n"
   ],
   "metadata": {}
  },
  {
   "cell_type": "code",
   "execution_count": null,
   "source": [
    "df['emp_title'].fillna('unknown', inplace=True)\n",
    "df['emp_title'].value_counts(1, dropna=False)"
   ],
   "outputs": [],
   "metadata": {}
  },
  {
   "cell_type": "code",
   "execution_count": null,
   "source": [
    "df['emp_title'], count_v['emp_title'] = replace_top_words(df, 'emp_title', max_features=10, stop_words=['and','of','us','inc','the','city','county','country','group','center'])\n",
    "df['emp_title'].value_counts(1, dropna=False)"
   ],
   "outputs": [],
   "metadata": {}
  },
  {
   "cell_type": "code",
   "execution_count": null,
   "source": [
    "vars_cat.append('emp_title')\n",
    "col_vs_tgt(df, 'emp_title')"
   ],
   "outputs": [],
   "metadata": {}
  },
  {
   "cell_type": "markdown",
   "source": [
    "#### 15.\tfunded amnt: El importe total comprometido para ese préstamo en ese momento.\n"
   ],
   "metadata": {}
  },
  {
   "cell_type": "code",
   "execution_count": null,
   "source": [
    "df['funded_amnt'].isnull().sum()"
   ],
   "outputs": [],
   "metadata": {}
  },
  {
   "cell_type": "code",
   "execution_count": null,
   "source": [
    "df['funded_amnt'].hist()"
   ],
   "outputs": [],
   "metadata": {}
  },
  {
   "cell_type": "code",
   "execution_count": null,
   "source": [
    "vars_num.append('funded_amnt')"
   ],
   "outputs": [],
   "metadata": {}
  },
  {
   "cell_type": "markdown",
   "source": [
    "#### 16.\tfunded amnt inv: La cantidad total comprometida por los inversores para ese préstamo en ese momento.\n"
   ],
   "metadata": {}
  },
  {
   "cell_type": "code",
   "execution_count": null,
   "source": [
    "df['funded_amnt_inv'].isnull().sum()"
   ],
   "outputs": [],
   "metadata": {}
  },
  {
   "cell_type": "code",
   "execution_count": null,
   "source": [
    "df[['funded_amnt_inv','funded_amnt']].corr()"
   ],
   "outputs": [],
   "metadata": {}
  },
  {
   "cell_type": "code",
   "execution_count": null,
   "source": [
    "vars_num.append('funded_amnt_inv')"
   ],
   "outputs": [],
   "metadata": {}
  },
  {
   "cell_type": "markdown",
   "source": [
    "#### 17.\tgrade: LC asignó grado de préstamo.\n"
   ],
   "metadata": {}
  },
  {
   "cell_type": "code",
   "execution_count": null,
   "source": [
    "df['grade'].value_counts(1, dropna=False)"
   ],
   "outputs": [],
   "metadata": {}
  },
  {
   "cell_type": "code",
   "execution_count": null,
   "source": [
    "vars_cat.append('grade')\n",
    "col_vs_tgt(df, 'grade')"
   ],
   "outputs": [],
   "metadata": {}
  },
  {
   "cell_type": "markdown",
   "source": [
    "#### 18.\thome ownership: El estado de propiedad de la vivienda proporcionado por el prestatario durante el registro. Nuestros valores son: ALQUILER, PROPIO, HIPOTECA, OTRO.\n"
   ],
   "metadata": {}
  },
  {
   "cell_type": "code",
   "execution_count": null,
   "source": [
    "df['home_ownership'].value_counts(1, dropna=False)"
   ],
   "outputs": [],
   "metadata": {}
  },
  {
   "cell_type": "code",
   "execution_count": null,
   "source": [
    "df_replace['home_ownership'] = {'MORTGAGE': 'MORTGAGE',\n",
    "                                'RENT': 'RENT',\n",
    "                                'OWN': 'OTHER',\n",
    "                                'OTHER': 'OTHER',\n",
    "                                'NONE': 'OTHER',\n",
    "                                'ANY': 'OTHER'}\n",
    "                                \n",
    "df['home_ownership'] = df['home_ownership'].map(df_replace['home_ownership'])\n",
    "df['home_ownership'].value_counts(1, dropna=False)"
   ],
   "outputs": [],
   "metadata": {}
  },
  {
   "cell_type": "code",
   "execution_count": null,
   "source": [
    "vars_cat.append('home_ownership')\n",
    "col_vs_tgt(df, 'home_ownership')"
   ],
   "outputs": [],
   "metadata": {}
  },
  {
   "cell_type": "markdown",
   "source": [
    "#### 19.\tid: Una LC única asignada ID para el listado de préstamos.\n"
   ],
   "metadata": {}
  },
  {
   "cell_type": "code",
   "execution_count": null,
   "source": [
    "df['id'].isnull().sum()"
   ],
   "outputs": [],
   "metadata": {}
  },
  {
   "cell_type": "markdown",
   "source": [
    "#### 20.\til util: Relación entre el saldo corriente total y el límite de crédito/crédito alto en todos los valores de la instalación.\n"
   ],
   "metadata": {}
  },
  {
   "cell_type": "code",
   "execution_count": null,
   "source": [
    "df['il_util'].value_counts(1, dropna=False)"
   ],
   "outputs": [],
   "metadata": {}
  },
  {
   "cell_type": "code",
   "execution_count": null,
   "source": [
    "aux = df.copy()\n",
    "aux['grouped'] = (df['il_util'].notnull())*1\n",
    "col_vs_tgt(aux, 'grouped')"
   ],
   "outputs": [],
   "metadata": {}
  },
  {
   "cell_type": "code",
   "execution_count": null,
   "source": [
    "df.drop('il_util', axis=1, inplace=True)"
   ],
   "outputs": [],
   "metadata": {}
  },
  {
   "cell_type": "markdown",
   "source": [
    "#### 21.\tinitial list status: El estado de listado inicial del préstamo. Los valores posibles son – W, F.\n"
   ],
   "metadata": {}
  },
  {
   "cell_type": "code",
   "execution_count": null,
   "source": [
    "df['initial_list_status'].value_counts(1, dropna=False)"
   ],
   "outputs": [],
   "metadata": {}
  },
  {
   "cell_type": "code",
   "execution_count": null,
   "source": [
    "df_replace['initial_list_status'] = {'f':0, 'w':1}\n",
    "\n",
    "df['initial_list_status'] = df['initial_list_status'].map(df_replace['initial_list_status'])\n",
    "\n",
    "vars_bin.append('initial_list_status')\n",
    "col_vs_tgt(df, 'initial_list_status')"
   ],
   "outputs": [],
   "metadata": {}
  },
  {
   "cell_type": "markdown",
   "source": [
    "#### 22.\tinq fi: Número de consultas de finanzas personales.\n"
   ],
   "metadata": {}
  },
  {
   "cell_type": "code",
   "execution_count": null,
   "source": [
    "df['inq_fi'].value_counts(1, dropna=False)"
   ],
   "outputs": [],
   "metadata": {}
  },
  {
   "cell_type": "code",
   "execution_count": null,
   "source": [
    "aux = df.copy()\n",
    "aux['grouped'] = (df['inq_fi'].notnull())*1\n",
    "col_vs_tgt(aux, 'grouped')"
   ],
   "outputs": [],
   "metadata": {}
  },
  {
   "cell_type": "code",
   "execution_count": null,
   "source": [
    "df.drop('inq_fi', axis=1, inplace=True)"
   ],
   "outputs": [],
   "metadata": {}
  },
  {
   "cell_type": "markdown",
   "source": [
    "#### 23.\tinq last 12m: Número de consultas de crédito en los últimos 12 meses.\n"
   ],
   "metadata": {}
  },
  {
   "cell_type": "code",
   "execution_count": null,
   "source": [
    "df['inq_last_12m'].value_counts(1, dropna=False)"
   ],
   "outputs": [],
   "metadata": {}
  },
  {
   "cell_type": "code",
   "execution_count": null,
   "source": [
    "aux = df.copy()\n",
    "aux['aux'] = (aux['inq_last_12m'].notnull())*1\n",
    "col_vs_tgt(aux, 'aux')"
   ],
   "outputs": [],
   "metadata": {}
  },
  {
   "cell_type": "code",
   "execution_count": null,
   "source": [
    "df.drop('inq_last_12m', axis=1, inplace=True)"
   ],
   "outputs": [],
   "metadata": {}
  },
  {
   "cell_type": "markdown",
   "source": [
    "#### 24.\tinq last 6mths: El número de consultas en los últimos 6 meses (excluyendo las consultas de automóviles e hipotecas).\n"
   ],
   "metadata": {}
  },
  {
   "cell_type": "code",
   "execution_count": null,
   "source": [
    "df['inq_last_6mths'].value_counts(1, dropna=False)"
   ],
   "outputs": [],
   "metadata": {}
  },
  {
   "cell_type": "code",
   "execution_count": null,
   "source": [
    "df_replace['inq_last_6mths'] = {x:str(x) if x<3 else '>2' for x in range(11)}\n",
    "\n",
    "df['inq_last_6mths'] = df['inq_last_6mths'].map(df_replace['inq_last_6mths'])\n",
    "df['inq_last_6mths'].value_counts(1, dropna=False)"
   ],
   "outputs": [],
   "metadata": {}
  },
  {
   "cell_type": "code",
   "execution_count": null,
   "source": [
    "vars_cat.append('inq_last_6mths')\n",
    "col_vs_tgt(df, 'inq_last_6mths')"
   ],
   "outputs": [],
   "metadata": {}
  },
  {
   "cell_type": "markdown",
   "source": [
    "#### 25.\tinstallment: El pago mensual adeudado por el prestatario si el préstamo se origina.\n"
   ],
   "metadata": {}
  },
  {
   "cell_type": "code",
   "execution_count": null,
   "source": [
    "df['installment'].hist()"
   ],
   "outputs": [],
   "metadata": {}
  },
  {
   "cell_type": "code",
   "execution_count": null,
   "source": [
    "vars_num.append('installment')"
   ],
   "outputs": [],
   "metadata": {}
  },
  {
   "cell_type": "markdown",
   "source": [
    "#### 26.\tint rate: Tasa de interés del préstamo.\n"
   ],
   "metadata": {}
  },
  {
   "cell_type": "code",
   "execution_count": null,
   "source": [
    "df['int_rate'].hist()"
   ],
   "outputs": [],
   "metadata": {}
  },
  {
   "cell_type": "code",
   "execution_count": null,
   "source": [
    "vars_num.append('int_rate')"
   ],
   "outputs": [],
   "metadata": {}
  },
  {
   "cell_type": "markdown",
   "source": [
    "#### 27.\tissue d: El mes en que se financió el préstamo\n"
   ],
   "metadata": {}
  },
  {
   "cell_type": "code",
   "execution_count": null,
   "source": [
    "df['issue_d'].value_counts(1, dropna=False)"
   ],
   "outputs": [],
   "metadata": {}
  },
  {
   "cell_type": "code",
   "execution_count": null,
   "source": [
    "df['issue_d'] = pd.to_datetime(df['issue_d'], format=r'%b-%Y')\n",
    "vars_date.append('issue_d')"
   ],
   "outputs": [],
   "metadata": {}
  },
  {
   "cell_type": "markdown",
   "source": [
    "#### 28.\tlast credit pull d: El mes más reciente LC sacó crédito para este préstamo.\n"
   ],
   "metadata": {}
  },
  {
   "cell_type": "code",
   "execution_count": null,
   "source": [
    "df['last_credit_pull_d'].value_counts(1, dropna=False)"
   ],
   "outputs": [],
   "metadata": {}
  },
  {
   "cell_type": "code",
   "execution_count": null,
   "source": [
    "df['last_credit_pull_d'] = pd.to_datetime(df['last_credit_pull_d'], format=r'%b-%Y')\n",
    "vars_date.append('last_credit_pull_d')"
   ],
   "outputs": [],
   "metadata": {}
  },
  {
   "cell_type": "markdown",
   "source": [
    "#### 29.\tlast pymnt amnt: Último importe total de pago recibido.\n"
   ],
   "metadata": {}
  },
  {
   "cell_type": "code",
   "execution_count": null,
   "source": [
    "df['last_pymnt_amnt'].hist()"
   ],
   "outputs": [],
   "metadata": {}
  },
  {
   "cell_type": "code",
   "execution_count": null,
   "source": [
    "vars_num.append('last_pymnt_amnt')"
   ],
   "outputs": [],
   "metadata": {}
  },
  {
   "cell_type": "markdown",
   "source": [
    "#### 30.\tlast pymnt d: El mes pasado se recibió el pago.\n"
   ],
   "metadata": {}
  },
  {
   "cell_type": "code",
   "execution_count": null,
   "source": [
    "df['last_pymnt_d'].value_counts(1, dropna=False)"
   ],
   "outputs": [],
   "metadata": {}
  },
  {
   "cell_type": "code",
   "execution_count": null,
   "source": [
    "df['last_pymnt_d'] = pd.to_datetime(df['last_pymnt_d'], format=r'%b-%Y')\n",
    "vars_date.append('last_pymnt_d')"
   ],
   "outputs": [],
   "metadata": {}
  },
  {
   "cell_type": "markdown",
   "source": [
    "#### 31.\tloan amnt: El monto indicado del préstamo solicitado por el prestatario. Si en algún momento, el departamento de crédito reduce el monto del préstamo, entonces se reflejará en este valor.\n"
   ],
   "metadata": {}
  },
  {
   "cell_type": "code",
   "execution_count": null,
   "source": [
    "df['loan_amnt'].hist()"
   ],
   "outputs": [],
   "metadata": {}
  },
  {
   "cell_type": "code",
   "execution_count": null,
   "source": [
    "vars_num.append('loan_amnt')"
   ],
   "outputs": [],
   "metadata": {}
  },
  {
   "cell_type": "markdown",
   "source": [
    "#### 32.\tloan status: Estado actual del préstamo.\n"
   ],
   "metadata": {}
  },
  {
   "cell_type": "code",
   "execution_count": null,
   "source": [
    "df['loan_status'].value_counts(1, dropna=False)"
   ],
   "outputs": [],
   "metadata": {}
  },
  {
   "cell_type": "markdown",
   "source": [
    "#### 33.\tmax bal bc: Saldo corriente máximo adeudado en todas las cuentas rotativas.\n"
   ],
   "metadata": {}
  },
  {
   "cell_type": "code",
   "execution_count": null,
   "source": [
    "df['max_bal_bc'].value_counts(1, dropna=False)"
   ],
   "outputs": [],
   "metadata": {}
  },
  {
   "cell_type": "code",
   "execution_count": null,
   "source": [
    "aux = df.copy()\n",
    "aux['grouped'] = (df['max_bal_bc'].notnull())*1\n",
    "col_vs_tgt(aux, 'grouped')"
   ],
   "outputs": [],
   "metadata": {}
  },
  {
   "cell_type": "code",
   "execution_count": null,
   "source": [
    "df.drop('max_bal_bc', axis=1, inplace=True)"
   ],
   "outputs": [],
   "metadata": {}
  },
  {
   "cell_type": "markdown",
   "source": [
    "#### 34.\tmember id: Una LC única asignada id para el miembro prestatario.\n"
   ],
   "metadata": {}
  },
  {
   "cell_type": "code",
   "execution_count": null,
   "source": [
    "len(df) , len(df['member_id'].unique())"
   ],
   "outputs": [],
   "metadata": {}
  },
  {
   "cell_type": "markdown",
   "source": [
    "#### 35.\tmths since last delinq: El número de meses desde la última morosidad del prestatario.\n"
   ],
   "metadata": {}
  },
  {
   "cell_type": "code",
   "execution_count": null,
   "source": [
    "df['mths_since_last_delinq'].value_counts(1, dropna=False)"
   ],
   "outputs": [],
   "metadata": {}
  },
  {
   "cell_type": "code",
   "execution_count": null,
   "source": [
    "df['mths_since_last_delinq']= (df['mths_since_last_delinq'].notnull())*1\n",
    "vars_bin.append('mths_since_last_delinq')\n",
    "col_vs_tgt(df, 'mths_since_last_delinq')"
   ],
   "outputs": [],
   "metadata": {}
  },
  {
   "cell_type": "markdown",
   "source": [
    "#### 36.\tmths since last major derog: Meses desde la calificación más reciente de 90 días o peor.\n"
   ],
   "metadata": {}
  },
  {
   "cell_type": "code",
   "execution_count": null,
   "source": [
    "df['mths_since_last_major_derog'].value_counts(1, dropna=False)"
   ],
   "outputs": [],
   "metadata": {}
  },
  {
   "cell_type": "code",
   "execution_count": null,
   "source": [
    "df['mths_since_last_major_derog']= (df['mths_since_last_major_derog'].notnull())*1\n",
    "vars_bin.append('mths_since_last_major_derog')\n",
    "col_vs_tgt(df, 'mths_since_last_major_derog')"
   ],
   "outputs": [],
   "metadata": {}
  },
  {
   "cell_type": "markdown",
   "source": [
    "#### 37.\tmths since last record: El número de meses transcurridos desde el último registro público.\n"
   ],
   "metadata": {}
  },
  {
   "cell_type": "code",
   "execution_count": null,
   "source": [
    "df['mths_since_last_record'].value_counts(1, dropna=False)"
   ],
   "outputs": [],
   "metadata": {}
  },
  {
   "cell_type": "code",
   "execution_count": null,
   "source": [
    "df['mths_since_last_record']= (df['mths_since_last_record'].notnull())*1\n",
    "vars_bin.append('mths_since_last_record')\n",
    "col_vs_tgt(df, 'mths_since_last_record')"
   ],
   "outputs": [],
   "metadata": {}
  },
  {
   "cell_type": "markdown",
   "source": [
    "#### 38.\tmths since rcnt il: Meses desde que se abrieron las cuentas a plazos más recientes.\n"
   ],
   "metadata": {}
  },
  {
   "cell_type": "code",
   "execution_count": null,
   "source": [
    "df['mths_since_rcnt_il'].value_counts(1, dropna=False)"
   ],
   "outputs": [],
   "metadata": {}
  },
  {
   "cell_type": "code",
   "execution_count": null,
   "source": [
    "aux = df.copy()\n",
    "aux['aux'] = (aux['mths_since_rcnt_il'].notnull())*1\n",
    "col_vs_tgt(aux, 'aux')"
   ],
   "outputs": [],
   "metadata": {}
  },
  {
   "cell_type": "code",
   "execution_count": null,
   "source": [
    "df.drop('mths_since_rcnt_il', axis=1, inplace=True)"
   ],
   "outputs": [],
   "metadata": {}
  },
  {
   "cell_type": "markdown",
   "source": [
    "#### 39.\tnext pymnt d: Próxima fecha de pago programada.\n"
   ],
   "metadata": {}
  },
  {
   "cell_type": "code",
   "execution_count": null,
   "source": [
    "df['next_pymnt_d'].value_counts(1, dropna=False)"
   ],
   "outputs": [],
   "metadata": {}
  },
  {
   "cell_type": "code",
   "execution_count": null,
   "source": [
    "df.drop('next_pymnt_d', axis=1, inplace=True)"
   ],
   "outputs": [],
   "metadata": {}
  },
  {
   "cell_type": "markdown",
   "source": [
    "#### 40.\topen acc: El número de líneas de crédito abiertas en el archivo de crédito del prestatario.\n"
   ],
   "metadata": {}
  },
  {
   "cell_type": "code",
   "execution_count": null,
   "source": [
    "df['open_acc'].hist()"
   ],
   "outputs": [],
   "metadata": {}
  },
  {
   "cell_type": "code",
   "execution_count": null,
   "source": [
    "vars_num.append('open_acc')"
   ],
   "outputs": [],
   "metadata": {}
  },
  {
   "cell_type": "markdown",
   "source": [
    "#### 41.\topen acc 6m: Número de operaciones abiertas en los últimos 6 meses\n"
   ],
   "metadata": {}
  },
  {
   "cell_type": "code",
   "execution_count": null,
   "source": [
    "df['open_acc'].hist()"
   ],
   "outputs": [],
   "metadata": {}
  },
  {
   "cell_type": "code",
   "execution_count": null,
   "source": [
    "vars_num.append('open_acc')"
   ],
   "outputs": [],
   "metadata": {}
  },
  {
   "cell_type": "markdown",
   "source": [
    "#### 42.\topen il 12m: Número de cuentas a plazos abiertas en los últimos 12 meses.\n"
   ],
   "metadata": {}
  },
  {
   "cell_type": "code",
   "execution_count": null,
   "source": [
    "df['open_il_12m'].isnull().mean()"
   ],
   "outputs": [],
   "metadata": {}
  },
  {
   "cell_type": "code",
   "execution_count": null,
   "source": [
    "aux = df.copy()\n",
    "aux['aux'] = (aux['open_il_12m'].notnull())*1\n",
    "col_vs_tgt(aux, 'aux')"
   ],
   "outputs": [],
   "metadata": {}
  },
  {
   "cell_type": "code",
   "execution_count": null,
   "source": [
    "df.drop('open_il_12m', axis=1, inplace=True)"
   ],
   "outputs": [],
   "metadata": {}
  },
  {
   "cell_type": "markdown",
   "source": [
    "#### 43.\topen il 24m: Número de cuentas a plazos abiertas en los últimos 24 meses.\n"
   ],
   "metadata": {}
  },
  {
   "cell_type": "code",
   "execution_count": null,
   "source": [
    "df['open_il_24m'].value_counts(1, dropna=False)"
   ],
   "outputs": [],
   "metadata": {}
  },
  {
   "cell_type": "code",
   "execution_count": null,
   "source": [
    "aux = df.copy()\n",
    "aux['aux'] = (aux['open_il_24m'].notnull())*1\n",
    "col_vs_tgt(aux, 'aux')"
   ],
   "outputs": [],
   "metadata": {}
  },
  {
   "cell_type": "code",
   "execution_count": null,
   "source": [
    "df.drop('open_il_24m', axis=1, inplace=True)"
   ],
   "outputs": [],
   "metadata": {}
  },
  {
   "cell_type": "markdown",
   "source": [
    "#### 44.\topen il 6m: Número de operaciones a plazos actualmente activas.\n"
   ],
   "metadata": {}
  },
  {
   "cell_type": "code",
   "execution_count": null,
   "source": [
    "df['open_il_6m'].isnull().mean()"
   ],
   "outputs": [],
   "metadata": {}
  },
  {
   "cell_type": "code",
   "execution_count": null,
   "source": [
    "aux = df.copy()\n",
    "aux['aux'] = (aux['open_il_6m'].notnull())*1\n",
    "col_vs_tgt(aux, 'aux')"
   ],
   "outputs": [],
   "metadata": {}
  },
  {
   "cell_type": "code",
   "execution_count": null,
   "source": [
    "df.drop('open_il_6m', axis=1, inplace=True)"
   ],
   "outputs": [],
   "metadata": {}
  },
  {
   "cell_type": "markdown",
   "source": [
    "#### 45.\topen rv 12m: Número de operaciones rotativas abiertas en los últimos 12 meses.\n"
   ],
   "metadata": {}
  },
  {
   "cell_type": "code",
   "execution_count": null,
   "source": [
    "df['open_rv_12m'].isnull().mean()"
   ],
   "outputs": [],
   "metadata": {}
  },
  {
   "cell_type": "code",
   "execution_count": null,
   "source": [
    "aux = df.copy()\n",
    "aux['aux'] = (aux['open_rv_12m'].notnull())*1\n",
    "col_vs_tgt(aux, 'aux')"
   ],
   "outputs": [],
   "metadata": {}
  },
  {
   "cell_type": "code",
   "execution_count": null,
   "source": [
    "df.drop('open_rv_12m', axis=1, inplace=True)"
   ],
   "outputs": [],
   "metadata": {}
  },
  {
   "cell_type": "markdown",
   "source": [
    "#### 46.\topen rv 24m: Número de operaciones rotativas abiertas en los últimos 24 meses.\n"
   ],
   "metadata": {}
  },
  {
   "cell_type": "code",
   "execution_count": null,
   "source": [
    "df['open_rv_24m'].isnull().mean()"
   ],
   "outputs": [],
   "metadata": {}
  },
  {
   "cell_type": "code",
   "execution_count": null,
   "source": [
    "aux = df.copy()\n",
    "aux['aux'] = (aux['open_rv_24m'].notnull())*1\n",
    "col_vs_tgt(aux, 'aux')"
   ],
   "outputs": [],
   "metadata": {}
  },
  {
   "cell_type": "code",
   "execution_count": null,
   "source": [
    "df.drop('open_rv_24m', axis=1, inplace=True)"
   ],
   "outputs": [],
   "metadata": {}
  },
  {
   "cell_type": "markdown",
   "source": [
    "#### 47.\tout prncp: Capital pendiente restante para el monto total financiado.\n"
   ],
   "metadata": {}
  },
  {
   "cell_type": "code",
   "execution_count": null,
   "source": [
    "df['out_prncp'].value_counts(1, dropna=False)"
   ],
   "outputs": [],
   "metadata": {}
  },
  {
   "cell_type": "code",
   "execution_count": null,
   "source": [
    "df.drop('out_prncp', axis=1, inplace=True)"
   ],
   "outputs": [],
   "metadata": {}
  },
  {
   "cell_type": "markdown",
   "source": [
    "#### 48.\tout prncp inv: Capital pendiente restante por parte del importe total financiado por los inversores.\n"
   ],
   "metadata": {}
  },
  {
   "cell_type": "code",
   "execution_count": null,
   "source": [
    "df['out_prncp_inv'].value_counts(1, dropna=False)"
   ],
   "outputs": [],
   "metadata": {}
  },
  {
   "cell_type": "code",
   "execution_count": null,
   "source": [
    "df.drop('out_prncp_inv', axis=1, inplace=True)"
   ],
   "outputs": [],
   "metadata": {}
  },
  {
   "cell_type": "markdown",
   "source": [
    "#### 49.\tpolicy code: disponible públicamente policy code=1 nuevos productos no disponibles públicamente policy code=2.\n"
   ],
   "metadata": {}
  },
  {
   "cell_type": "code",
   "execution_count": null,
   "source": [
    "df['policy_code'].value_counts(1, dropna=False)"
   ],
   "outputs": [],
   "metadata": {}
  },
  {
   "cell_type": "code",
   "execution_count": null,
   "source": [
    "df.drop('policy_code', axis=1, inplace=True)"
   ],
   "outputs": [],
   "metadata": {}
  },
  {
   "cell_type": "markdown",
   "source": [
    "#### 50.\tpub rec: Número de registros públicos despectivos.\n"
   ],
   "metadata": {}
  },
  {
   "cell_type": "code",
   "execution_count": null,
   "source": [
    "df['pub_rec'].value_counts(1, dropna=False)"
   ],
   "outputs": [],
   "metadata": {}
  },
  {
   "cell_type": "code",
   "execution_count": null,
   "source": [
    "df['pub_rec'] = (df['pub_rec']>0)*1\n",
    "df['pub_rec'].value_counts(1, dropna=False)"
   ],
   "outputs": [],
   "metadata": {}
  },
  {
   "cell_type": "code",
   "execution_count": null,
   "source": [
    "vars_bin.append('pub_rec')\n",
    "col_vs_tgt(df, 'pub_rec')"
   ],
   "outputs": [],
   "metadata": {}
  },
  {
   "cell_type": "markdown",
   "source": [
    "#### 51.\tpurpose: Una categoría proporcionada por el prestatario para la solicitud de préstamo.\n"
   ],
   "metadata": {}
  },
  {
   "cell_type": "code",
   "execution_count": null,
   "source": [
    "df['purpose'].value_counts(1, dropna=False)"
   ],
   "outputs": [],
   "metadata": {}
  },
  {
   "cell_type": "code",
   "execution_count": null,
   "source": [
    "df['purpose'] = group_lowfreq(df['purpose'], p=0.022)\n",
    "df['purpose'].value_counts(1, dropna=False)"
   ],
   "outputs": [],
   "metadata": {}
  },
  {
   "cell_type": "code",
   "execution_count": null,
   "source": [
    "vars_cat.append('purpose')\n",
    "col_vs_tgt(df, 'purpose')"
   ],
   "outputs": [],
   "metadata": {}
  },
  {
   "cell_type": "markdown",
   "source": [
    "#### 52.\tpymnt plan: Indica si se ha establecido un plan de pago para el préstamo.\n"
   ],
   "metadata": {}
  },
  {
   "cell_type": "code",
   "execution_count": null,
   "source": [
    "df['pymnt_plan'].value_counts(1, dropna=False)"
   ],
   "outputs": [],
   "metadata": {}
  },
  {
   "cell_type": "code",
   "execution_count": null,
   "source": [
    "df.drop('pymnt_plan', axis=1, inplace=True)"
   ],
   "outputs": [],
   "metadata": {}
  },
  {
   "cell_type": "markdown",
   "source": [
    "#### 53.\trecoveries: cargo posterior a la recuperación bruta.\n"
   ],
   "metadata": {}
  },
  {
   "cell_type": "code",
   "execution_count": null,
   "source": [
    "df['recoveries'].value_counts(1, dropna=False)"
   ],
   "outputs": [],
   "metadata": {}
  },
  {
   "cell_type": "code",
   "execution_count": null,
   "source": [
    "df['recoveries'] = (df['recoveries']>0)*1\n",
    "df['recoveries'].value_counts(1, dropna=False)"
   ],
   "outputs": [],
   "metadata": {}
  },
  {
   "cell_type": "code",
   "execution_count": null,
   "source": [
    "vars_bin.append('recoveries')\n",
    "col_vs_tgt(df, 'recoveries')"
   ],
   "outputs": [],
   "metadata": {}
  },
  {
   "cell_type": "markdown",
   "source": [
    "#### 54.\trevol bal: Saldo rotatorio de crédito total.\n"
   ],
   "metadata": {}
  },
  {
   "cell_type": "code",
   "execution_count": null,
   "source": [
    "df['revol_bal'].describe([i/10 for i in range(10)])"
   ],
   "outputs": [],
   "metadata": {}
  },
  {
   "cell_type": "code",
   "execution_count": null,
   "source": [
    "df['revol_bal'], df_bins['revol_bal'] = pd.qcut(df['revol_bal'], q=5, retbins=True)\n",
    "vars_cat.append('revol_bal')\n",
    "col_vs_tgt(df, 'revol_bal')"
   ],
   "outputs": [],
   "metadata": {}
  },
  {
   "cell_type": "markdown",
   "source": [
    "#### 55.\trevol util: Tasa de utilización de la línea rotativa, o la cantidad de crédito que el prestatario está utilizando en relación con todo el crédito rotatorio disponible.\n"
   ],
   "metadata": {}
  },
  {
   "cell_type": "code",
   "execution_count": null,
   "source": [
    "df['revol_util'].isnull().mean()"
   ],
   "outputs": [],
   "metadata": {}
  },
  {
   "cell_type": "code",
   "execution_count": null,
   "source": [
    "df.dropna(subset=['revol_util'], inplace=True)\n",
    "df['revol_util'].describe([i/10 for i in range(10)])"
   ],
   "outputs": [],
   "metadata": {}
  },
  {
   "cell_type": "code",
   "execution_count": null,
   "source": [
    "df['revol_util'], df_bins['revol_util'] = pd.qcut(df['revol_util'], q=5, retbins=True)\n",
    "vars_cat.append('revol_util')\n",
    "col_vs_tgt(df, 'revol_util')"
   ],
   "outputs": [],
   "metadata": {}
  },
  {
   "cell_type": "markdown",
   "source": [
    "#### 56.\tsub grade: Subsuelo de préstamo asignado LC.\n"
   ],
   "metadata": {}
  },
  {
   "cell_type": "code",
   "execution_count": null,
   "source": [
    "df[['grade','sub_grade']].value_counts().to_frame().sort_index()"
   ],
   "outputs": [],
   "metadata": {}
  },
  {
   "cell_type": "code",
   "execution_count": null,
   "source": [
    "vars_cat.append('sub_grade')\n",
    "col_vs_tgt(df, 'sub_grade')"
   ],
   "outputs": [],
   "metadata": {}
  },
  {
   "cell_type": "markdown",
   "source": [
    "#### 57.\tterm: El número de pagos del préstamo. Los valores están en meses y pueden ser 36 o 60.\n"
   ],
   "metadata": {}
  },
  {
   "cell_type": "code",
   "execution_count": null,
   "source": [
    "df['term'].value_counts(1, dropna=False)"
   ],
   "outputs": [],
   "metadata": {}
  },
  {
   "cell_type": "code",
   "execution_count": null,
   "source": [
    "df_replace['term'] = {' 36 months':0, ' 60 months':1}\n",
    "df['term'] = df['term'].map(df_replace['term'])\n",
    "df['term'].value_counts(1, dropna=False)"
   ],
   "outputs": [],
   "metadata": {}
  },
  {
   "cell_type": "code",
   "execution_count": null,
   "source": [
    "vars_bin.append('term')\n",
    "col_vs_tgt(df, 'term')"
   ],
   "outputs": [],
   "metadata": {}
  },
  {
   "cell_type": "markdown",
   "source": [
    "#### 58.\ttitle: El título del préstamo proporcionado por el prestatario.\n"
   ],
   "metadata": {}
  },
  {
   "cell_type": "code",
   "execution_count": null,
   "source": [
    "df['title'].value_counts(1, dropna=False)"
   ],
   "outputs": [],
   "metadata": {}
  },
  {
   "cell_type": "code",
   "execution_count": null,
   "source": [
    "df['title'].fillna('unknown', inplace=True)\n",
    "df['title'], count_v['title'] = replace_top_words(df, 'title', max_features=10, stop_words=['and','of','us','the','to'])\n",
    "df['title'].value_counts(1, dropna=False)"
   ],
   "outputs": [],
   "metadata": {}
  },
  {
   "cell_type": "code",
   "execution_count": null,
   "source": [
    "df['title'].value_counts(1, dropna=False)"
   ],
   "outputs": [],
   "metadata": {}
  },
  {
   "cell_type": "code",
   "execution_count": null,
   "source": [
    "df_replace['title'] = {'consolidation': 'consolidation',\n",
    "                        'other': 'other',\n",
    "                        'card': 'credit',\n",
    "                        'loan': 'loan',\n",
    "                        'home': 'home',\n",
    "                        'debt': 'consolidation',\n",
    "                        'credit': 'credit',\n",
    "                        'payoff': 'consolidation',\n",
    "                        'improvement': 'home',\n",
    "                        'refinancing': 'loan'}\n",
    "df['title'] = df['title'].map(df_replace['title'])\n",
    "df['title'].value_counts(1, dropna=False)"
   ],
   "outputs": [],
   "metadata": {}
  },
  {
   "cell_type": "code",
   "execution_count": null,
   "source": [
    "vars_cat.append('title')\n",
    "col_vs_tgt(df, 'title')"
   ],
   "outputs": [],
   "metadata": {}
  },
  {
   "cell_type": "markdown",
   "source": [
    "#### 59.\ttot coll amt: Montos totales de cobro adeudados.\n"
   ],
   "metadata": {}
  },
  {
   "cell_type": "code",
   "execution_count": null,
   "source": [
    "df['tot_coll_amt'].value_counts(1, dropna=False)"
   ],
   "outputs": [],
   "metadata": {}
  },
  {
   "cell_type": "code",
   "execution_count": null,
   "source": [
    "import numpy as np\n",
    "\n",
    "df_replace['tot_coll_amt'] = {np.nan:'unknown', 0:'00'}\n",
    "df['tot_coll_amt'] = df['tot_coll_amt'].map(df_replace['tot_coll_amt']).fillna('>0')\n",
    "df['tot_coll_amt'].value_counts(1, dropna=False)"
   ],
   "outputs": [],
   "metadata": {}
  },
  {
   "cell_type": "code",
   "execution_count": null,
   "source": [
    "vars_cat.append('tot_coll_amt')\n",
    "col_vs_tgt(df, 'tot_coll_amt')"
   ],
   "outputs": [],
   "metadata": {}
  },
  {
   "cell_type": "markdown",
   "source": [
    "#### 60.\ttot cur bal: Saldo corriente total de todas las cuentas.\n"
   ],
   "metadata": {}
  },
  {
   "cell_type": "code",
   "execution_count": null,
   "source": [
    "df['tot_cur_bal'].value_counts(1, dropna=False)"
   ],
   "outputs": [],
   "metadata": {}
  },
  {
   "cell_type": "code",
   "execution_count": null,
   "source": [
    "df['tot_cur_bal'] = (df['tot_cur_bal'].notnull())*1\n",
    "vars_bin.append('tot_cur_bal')\n",
    "col_vs_tgt(df, 'tot_cur_bal')"
   ],
   "outputs": [],
   "metadata": {}
  },
  {
   "cell_type": "markdown",
   "source": [
    "#### 61.\ttotal bal il: Saldo actual total de todas las cuentas a plazos.\n"
   ],
   "metadata": {}
  },
  {
   "cell_type": "code",
   "execution_count": null,
   "source": [
    "df['total_bal_il'].value_counts(1, dropna=False)"
   ],
   "outputs": [],
   "metadata": {}
  },
  {
   "cell_type": "code",
   "execution_count": null,
   "source": [
    "aux = df.copy()\n",
    "aux['aux'] = (aux['total_bal_il'].notnull())*1\n",
    "col_vs_tgt(aux, 'aux')"
   ],
   "outputs": [],
   "metadata": {}
  },
  {
   "cell_type": "code",
   "execution_count": null,
   "source": [
    "df.drop('total_bal_il', axis=1, inplace=True)"
   ],
   "outputs": [],
   "metadata": {}
  },
  {
   "cell_type": "markdown",
   "source": [
    "#### 62.\ttotal cu tl: Número de operaciones financieras.\n"
   ],
   "metadata": {}
  },
  {
   "cell_type": "code",
   "execution_count": null,
   "source": [
    "df['total_cu_tl'].value_counts(1, dropna=False)"
   ],
   "outputs": [],
   "metadata": {}
  },
  {
   "cell_type": "code",
   "execution_count": null,
   "source": [
    "aux = df.copy()\n",
    "aux['aux'] = (aux['total_cu_tl'].notnull())*1\n",
    "col_vs_tgt(aux, 'aux')"
   ],
   "outputs": [],
   "metadata": {}
  },
  {
   "cell_type": "code",
   "execution_count": null,
   "source": [
    "df.drop('total_cu_tl', axis=1, inplace=True)"
   ],
   "outputs": [],
   "metadata": {}
  },
  {
   "cell_type": "markdown",
   "source": [
    "#### 63.\ttotal pymnt: Pagos recibidos hasta la fecha por el importe total financiado.\n"
   ],
   "metadata": {}
  },
  {
   "cell_type": "code",
   "execution_count": null,
   "source": [
    "df['total_pymnt'].hist()"
   ],
   "outputs": [],
   "metadata": {}
  },
  {
   "cell_type": "code",
   "execution_count": null,
   "source": [
    "vars_num.append('total_pymnt')"
   ],
   "outputs": [],
   "metadata": {}
  },
  {
   "cell_type": "markdown",
   "source": [
    "#### 64.\ttotal pymnt inv: Pagos recibidos hasta la fecha por una parte del importe total financiado por los inversores.\n"
   ],
   "metadata": {}
  },
  {
   "cell_type": "code",
   "execution_count": null,
   "source": [
    "df['total_pymnt_inv'].hist()"
   ],
   "outputs": [],
   "metadata": {}
  },
  {
   "cell_type": "code",
   "execution_count": null,
   "source": [
    "df[['total_pymnt_inv','total_pymnt']].corr()"
   ],
   "outputs": [],
   "metadata": {}
  },
  {
   "cell_type": "code",
   "execution_count": null,
   "source": [
    "vars_num.append('total_pymnt_inv')"
   ],
   "outputs": [],
   "metadata": {}
  },
  {
   "cell_type": "markdown",
   "source": [
    "#### 65.\ttotal rec int: Intereses recibidos hasta la fecha.\n"
   ],
   "metadata": {}
  },
  {
   "cell_type": "code",
   "execution_count": null,
   "source": [
    "df['total_rec_int'].hist()"
   ],
   "outputs": [],
   "metadata": {}
  },
  {
   "cell_type": "code",
   "execution_count": null,
   "source": [
    "df['total_rec_int'].describe()"
   ],
   "outputs": [],
   "metadata": {}
  },
  {
   "cell_type": "code",
   "execution_count": null,
   "source": [
    "df['total_rec_int'], df_bins['total_rec_int'] = pd.qcut(df['total_rec_int'], q=5, retbins=True)\n",
    "vars_cat.append('total_rec_int')\n",
    "col_vs_tgt(df, 'total_rec_int')"
   ],
   "outputs": [],
   "metadata": {}
  },
  {
   "cell_type": "markdown",
   "source": [
    "#### 66.\ttotal rec prncp: Principal recibido hasta la fecha.\n"
   ],
   "metadata": {}
  },
  {
   "cell_type": "code",
   "execution_count": null,
   "source": [
    "df['total_rec_prncp'].hist()"
   ],
   "outputs": [],
   "metadata": {}
  },
  {
   "cell_type": "code",
   "execution_count": null,
   "source": [
    "vars_num.append('total_rec_int')"
   ],
   "outputs": [],
   "metadata": {}
  },
  {
   "cell_type": "markdown",
   "source": [
    "#### 67.\ttotal rev hi lim: Límite de crédito/crédito revolving total alto.\n"
   ],
   "metadata": {}
  },
  {
   "cell_type": "code",
   "execution_count": null,
   "source": [
    "df['total_rev_hi_lim'].isnull().mean()"
   ],
   "outputs": [],
   "metadata": {}
  },
  {
   "cell_type": "code",
   "execution_count": null,
   "source": [
    "df['total_rev_hi_lim'].describe([i/10 for i in range(10)])"
   ],
   "outputs": [],
   "metadata": {}
  },
  {
   "cell_type": "code",
   "execution_count": null,
   "source": [
    "df['total_rev_hi_lim'], df_bins['total_rev_hi_lim'] = pd.qcut(df['total_rev_hi_lim'], q=5, retbins=True)\n",
    "vars_cat.append('total_rev_hi_lim')\n",
    "col_vs_tgt(df, 'total_rev_hi_lim')"
   ],
   "outputs": [],
   "metadata": {}
  },
  {
   "cell_type": "markdown",
   "source": [
    "#### 68.\turl: Dirección URL de la página lc con datos de listado.\n"
   ],
   "metadata": {}
  },
  {
   "cell_type": "code",
   "execution_count": null,
   "source": [
    "df['url'].str.split('/').str[-1].str.split('=').str[-1].value_counts(dropna=False)"
   ],
   "outputs": [],
   "metadata": {}
  },
  {
   "cell_type": "markdown",
   "source": [
    "#### 69.\tverification status: Indica si lc verificó los ingresos, no los verificó o si se verificó la fuente de ingresos.\n"
   ],
   "metadata": {}
  },
  {
   "cell_type": "code",
   "execution_count": null,
   "source": [
    "df['verification_status'].value_counts(1, dropna=False)"
   ],
   "outputs": [],
   "metadata": {}
  },
  {
   "cell_type": "code",
   "execution_count": null,
   "source": [
    "vars_cat.append('verification_status')"
   ],
   "outputs": [],
   "metadata": {}
  },
  {
   "cell_type": "markdown",
   "source": [
    "#### 70.\tverified status joint: Indica si los ingresos conjuntos de los co-prestatariosMfueron verificados por LC, no verificados, o si la fuente de ingresos fue verificada.\n"
   ],
   "metadata": {}
  },
  {
   "cell_type": "code",
   "execution_count": null,
   "source": [
    "df['verification_status_joint'].value_counts(1, dropna=False)"
   ],
   "outputs": [],
   "metadata": {}
  },
  {
   "cell_type": "code",
   "execution_count": null,
   "source": [
    "df.drop('verification_status_joint', axis=1, inplace=True)"
   ],
   "outputs": [],
   "metadata": {}
  },
  {
   "cell_type": "markdown",
   "source": [
    "#### 71.\tzip code: Los primeros 3 números del código postal proporcionado por el prestatario en la solicitud de préstamo"
   ],
   "metadata": {}
  },
  {
   "cell_type": "code",
   "execution_count": null,
   "source": [
    "df['zip_code'].value_counts(1, dropna=False).to_frame().sort_index()"
   ],
   "outputs": [],
   "metadata": {}
  },
  {
   "cell_type": "code",
   "execution_count": null,
   "source": [
    "df['zip_code'] = df['zip_code'].str[:1].str.zfill(2)\n",
    "df['zip_code'].value_counts(1, dropna=False)"
   ],
   "outputs": [],
   "metadata": {}
  },
  {
   "cell_type": "code",
   "execution_count": null,
   "source": [
    "vars_cat.append('zip_code')\n",
    "col_vs_tgt(df, 'zip_code')"
   ],
   "outputs": [],
   "metadata": {}
  },
  {
   "cell_type": "markdown",
   "source": [
    "## Ingeniería de variables"
   ],
   "metadata": {}
  },
  {
   "cell_type": "code",
   "execution_count": null,
   "source": [
    "df.to_csv(BASE_DIR.joinpath(f'checkpoint_{FILE_NAME}'), index=False)\n",
    "\n",
    "# import pandas as pd\n",
    "# from pathlib import Path\n",
    "# BASE_DIR = Path(BASE_DIR)\n",
    "# df = pd.read_csv(BASE_DIR.joinpath(f'checkpoint_{FILE_NAME}'), low_memory=False)"
   ],
   "outputs": [],
   "metadata": {}
  },
  {
   "cell_type": "markdown",
   "source": [
    "## Modelo"
   ],
   "metadata": {}
  },
  {
   "cell_type": "code",
   "execution_count": null,
   "source": [
    "df[vars_date+vars_bin+vars_cat+vars_num].sample()"
   ],
   "outputs": [],
   "metadata": {}
  },
  {
   "cell_type": "markdown",
   "source": [
    "### Pre-procesamiento"
   ],
   "metadata": {}
  },
  {
   "cell_type": "code",
   "execution_count": null,
   "source": [
    "from sklearn.preprocessing import MinMaxScaler\n",
    "from sklearn.model_selection import train_test_split\n",
    "\n",
    "X = df.iloc[:,:-1].copy()\n",
    "y = df.iloc[:,-1].values\n",
    "\n",
    "X_train, X_test, y_train, y_test = train_test_split(X,y,\n",
    "                                                    train_size=0.77,\n",
    "                                                    random_state=22)\n",
    "mm_x = MinMaxScaler()"
   ],
   "outputs": [],
   "metadata": {}
  },
  {
   "cell_type": "markdown",
   "source": [
    "### Arquitectura"
   ],
   "metadata": {}
  },
  {
   "cell_type": "code",
   "execution_count": null,
   "source": [
    "from sklearn.pipeline import Pipeline\n",
    "from sklearn.linear_model import LinearRegression\n",
    "\n",
    "linear_reg = LinearRegression()\n",
    "\n",
    "model_reg = Pipeline(steps=[('scaler', mm_x),\n",
    "                            ('model', linear_reg)])\n",
    "\n",
    "print(f\"Score: {'{:.2%}'.format(model_reg.fit(X_train,y_train).score(X_test,y_test))}\")\n",
    "print(f\"Training score: {'{:.2%}'.format(model_reg.score(X_train,y_train))}\")\n",
    "print(\"\\nThese are the most influential variables:\")\n",
    "coef = pd.DataFrame(zip(X.columns,model_reg[1].coef_)).sort_values(1,0,0).reset_index(drop=True)\n",
    "coef.head().append(coef.tail())"
   ],
   "outputs": [],
   "metadata": {}
  },
  {
   "cell_type": "markdown",
   "source": [
    "## Predicción"
   ],
   "metadata": {}
  },
  {
   "cell_type": "code",
   "execution_count": null,
   "source": [
    "import numpy as np\n",
    "val['2018_26'] = np.clip(model_reg.predict(val), 0, 1e10).round()\n",
    "val.head()"
   ],
   "outputs": [],
   "metadata": {}
  },
  {
   "cell_type": "code",
   "execution_count": null,
   "source": [
    "val[['2018_26']].to_csv(BASE_DIR.joinpath(f\"Bren_{VALID_NAME_SUB}_final.csv\"))"
   ],
   "outputs": [],
   "metadata": {}
  }
 ],
 "metadata": {
  "orig_nbformat": 4,
  "language_info": {
   "name": "python",
   "version": "3.9.1",
   "mimetype": "text/x-python",
   "codemirror_mode": {
    "name": "ipython",
    "version": 3
   },
   "pygments_lexer": "ipython3",
   "nbconvert_exporter": "python",
   "file_extension": ".py"
  },
  "kernelspec": {
   "name": "python3",
   "display_name": "Python 3.9.1 64-bit ('venv': venv)"
  },
  "interpreter": {
   "hash": "013d70d4f05822e765a66e6ee7180d5796e8d1da1ac4dcc2c5920d594c5a85a6"
  }
 },
 "nbformat": 4,
 "nbformat_minor": 2
}
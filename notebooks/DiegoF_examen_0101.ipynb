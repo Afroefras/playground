{
 "cells": [
  {
   "cell_type": "markdown",
   "source": [
    "# Examen 0101"
   ],
   "metadata": {}
  },
  {
   "cell_type": "markdown",
   "source": [
    "## Parámetros"
   ],
   "metadata": {}
  },
  {
   "cell_type": "code",
   "execution_count": 1,
   "source": [
    "BASE_DIR = '/Users/efraflores/Desktop/EF/Diplo/data/other/DiegoF/01'\n",
    "FILE_NAME = 'dataset_examen.csv'"
   ],
   "outputs": [],
   "metadata": {}
  },
  {
   "cell_type": "markdown",
   "source": [
    "## Funciones"
   ],
   "metadata": {}
  },
  {
   "cell_type": "markdown",
   "source": [
    "### Column vs target"
   ],
   "metadata": {}
  },
  {
   "cell_type": "code",
   "execution_count": 2,
   "source": [
    "def col_vs_tgt(data, col, target='loan_status'):\n",
    "    data['grouped'] = data[col]\n",
    "    vs = data.pivot_table(index='grouped', columns=target, aggfunc={'id':'count'})\n",
    "    vs = vs/vs.sum()\n",
    "    return vs.style.format(\"{:.1%}\").background_gradient('Blues')"
   ],
   "outputs": [],
   "metadata": {}
  },
  {
   "cell_type": "markdown",
   "source": [
    "### Group classes with low frequency"
   ],
   "metadata": {}
  },
  {
   "cell_type": "code",
   "execution_count": 3,
   "source": [
    "def group_lowfreq(df_col, p=0.05):\n",
    "    tot_freq = df_col.value_counts(1).to_frame()\n",
    "    tot_freq['group'] = [col if freq>p else 'other' for col,freq in zip(tot_freq.index,tot_freq.iloc[:,-1])]\n",
    "    return df_col.map(tot_freq.iloc[:,-1].to_dict())"
   ],
   "outputs": [],
   "metadata": {}
  },
  {
   "cell_type": "markdown",
   "source": [
    "### Replace top words"
   ],
   "metadata": {}
  },
  {
   "cell_type": "code",
   "execution_count": 4,
   "source": [
    "from sklearn.feature_extraction.text import CountVectorizer\n",
    "\n",
    "def replace_top_words(data, col, **kwargs):\n",
    "    df = data.copy()\n",
    "    cv = CountVectorizer(**kwargs)\n",
    "    cv.fit(df[col])\n",
    "\n",
    "    full = pd.DataFrame(cv.transform(df[col]).toarray(), index=zip(df.index,df[col].str.lower()), columns=cv.get_feature_names())\n",
    "    full['total'] = full.sum(axis=1)\n",
    "\n",
    "    replaced = []\n",
    "    for i, tot in enumerate(full['total']):\n",
    "        if tot==0: replaced.append('other')\n",
    "        else:\n",
    "            transposed = full.iloc[i,:-1].T.to_frame()\n",
    "            unique_col = transposed.columns[0]\n",
    "            filtered = transposed[transposed[unique_col]>0].sort_values(unique_col, ascending=False)\n",
    "            replaced.append(filtered.index[0]) \n",
    "    \n",
    "    return replaced, cv"
   ],
   "outputs": [],
   "metadata": {}
  },
  {
   "cell_type": "markdown",
   "source": [
    "## Importar"
   ],
   "metadata": {}
  },
  {
   "cell_type": "code",
   "execution_count": 5,
   "source": [
    "import pandas as pd\n",
    "from pathlib import Path\n",
    "\n",
    "BASE_DIR = Path(BASE_DIR)\n",
    "df = pd.read_csv(BASE_DIR.joinpath(FILE_NAME), low_memory=False)\n",
    "print(df.shape)\n",
    "df.head()"
   ],
   "outputs": [
    {
     "output_type": "stream",
     "name": "stdout",
     "text": [
      "(887379, 74)\n"
     ]
    },
    {
     "output_type": "execute_result",
     "data": {
      "text/html": [
       "<div>\n",
       "<style scoped>\n",
       "    .dataframe tbody tr th:only-of-type {\n",
       "        vertical-align: middle;\n",
       "    }\n",
       "\n",
       "    .dataframe tbody tr th {\n",
       "        vertical-align: top;\n",
       "    }\n",
       "\n",
       "    .dataframe thead th {\n",
       "        text-align: right;\n",
       "    }\n",
       "</style>\n",
       "<table border=\"1\" class=\"dataframe\">\n",
       "  <thead>\n",
       "    <tr style=\"text-align: right;\">\n",
       "      <th></th>\n",
       "      <th>id</th>\n",
       "      <th>member_id</th>\n",
       "      <th>loan_amnt</th>\n",
       "      <th>funded_amnt</th>\n",
       "      <th>funded_amnt_inv</th>\n",
       "      <th>term</th>\n",
       "      <th>int_rate</th>\n",
       "      <th>installment</th>\n",
       "      <th>grade</th>\n",
       "      <th>sub_grade</th>\n",
       "      <th>...</th>\n",
       "      <th>total_bal_il</th>\n",
       "      <th>il_util</th>\n",
       "      <th>open_rv_12m</th>\n",
       "      <th>open_rv_24m</th>\n",
       "      <th>max_bal_bc</th>\n",
       "      <th>all_util</th>\n",
       "      <th>total_rev_hi_lim</th>\n",
       "      <th>inq_fi</th>\n",
       "      <th>total_cu_tl</th>\n",
       "      <th>inq_last_12m</th>\n",
       "    </tr>\n",
       "  </thead>\n",
       "  <tbody>\n",
       "    <tr>\n",
       "      <th>0</th>\n",
       "      <td>1077501</td>\n",
       "      <td>1296599</td>\n",
       "      <td>5000.0</td>\n",
       "      <td>5000.0</td>\n",
       "      <td>4975.0</td>\n",
       "      <td>36 months</td>\n",
       "      <td>10.65</td>\n",
       "      <td>162.87</td>\n",
       "      <td>B</td>\n",
       "      <td>B2</td>\n",
       "      <td>...</td>\n",
       "      <td>NaN</td>\n",
       "      <td>NaN</td>\n",
       "      <td>NaN</td>\n",
       "      <td>NaN</td>\n",
       "      <td>NaN</td>\n",
       "      <td>NaN</td>\n",
       "      <td>NaN</td>\n",
       "      <td>NaN</td>\n",
       "      <td>NaN</td>\n",
       "      <td>NaN</td>\n",
       "    </tr>\n",
       "    <tr>\n",
       "      <th>1</th>\n",
       "      <td>1077430</td>\n",
       "      <td>1314167</td>\n",
       "      <td>2500.0</td>\n",
       "      <td>2500.0</td>\n",
       "      <td>2500.0</td>\n",
       "      <td>60 months</td>\n",
       "      <td>15.27</td>\n",
       "      <td>59.83</td>\n",
       "      <td>C</td>\n",
       "      <td>C4</td>\n",
       "      <td>...</td>\n",
       "      <td>NaN</td>\n",
       "      <td>NaN</td>\n",
       "      <td>NaN</td>\n",
       "      <td>NaN</td>\n",
       "      <td>NaN</td>\n",
       "      <td>NaN</td>\n",
       "      <td>NaN</td>\n",
       "      <td>NaN</td>\n",
       "      <td>NaN</td>\n",
       "      <td>NaN</td>\n",
       "    </tr>\n",
       "    <tr>\n",
       "      <th>2</th>\n",
       "      <td>1077175</td>\n",
       "      <td>1313524</td>\n",
       "      <td>2400.0</td>\n",
       "      <td>2400.0</td>\n",
       "      <td>2400.0</td>\n",
       "      <td>36 months</td>\n",
       "      <td>15.96</td>\n",
       "      <td>84.33</td>\n",
       "      <td>C</td>\n",
       "      <td>C5</td>\n",
       "      <td>...</td>\n",
       "      <td>NaN</td>\n",
       "      <td>NaN</td>\n",
       "      <td>NaN</td>\n",
       "      <td>NaN</td>\n",
       "      <td>NaN</td>\n",
       "      <td>NaN</td>\n",
       "      <td>NaN</td>\n",
       "      <td>NaN</td>\n",
       "      <td>NaN</td>\n",
       "      <td>NaN</td>\n",
       "    </tr>\n",
       "    <tr>\n",
       "      <th>3</th>\n",
       "      <td>1076863</td>\n",
       "      <td>1277178</td>\n",
       "      <td>10000.0</td>\n",
       "      <td>10000.0</td>\n",
       "      <td>10000.0</td>\n",
       "      <td>36 months</td>\n",
       "      <td>13.49</td>\n",
       "      <td>339.31</td>\n",
       "      <td>C</td>\n",
       "      <td>C1</td>\n",
       "      <td>...</td>\n",
       "      <td>NaN</td>\n",
       "      <td>NaN</td>\n",
       "      <td>NaN</td>\n",
       "      <td>NaN</td>\n",
       "      <td>NaN</td>\n",
       "      <td>NaN</td>\n",
       "      <td>NaN</td>\n",
       "      <td>NaN</td>\n",
       "      <td>NaN</td>\n",
       "      <td>NaN</td>\n",
       "    </tr>\n",
       "    <tr>\n",
       "      <th>4</th>\n",
       "      <td>1075358</td>\n",
       "      <td>1311748</td>\n",
       "      <td>3000.0</td>\n",
       "      <td>3000.0</td>\n",
       "      <td>3000.0</td>\n",
       "      <td>60 months</td>\n",
       "      <td>12.69</td>\n",
       "      <td>67.79</td>\n",
       "      <td>B</td>\n",
       "      <td>B5</td>\n",
       "      <td>...</td>\n",
       "      <td>NaN</td>\n",
       "      <td>NaN</td>\n",
       "      <td>NaN</td>\n",
       "      <td>NaN</td>\n",
       "      <td>NaN</td>\n",
       "      <td>NaN</td>\n",
       "      <td>NaN</td>\n",
       "      <td>NaN</td>\n",
       "      <td>NaN</td>\n",
       "      <td>NaN</td>\n",
       "    </tr>\n",
       "  </tbody>\n",
       "</table>\n",
       "<p>5 rows × 74 columns</p>\n",
       "</div>"
      ],
      "text/plain": [
       "        id  member_id  loan_amnt  funded_amnt  funded_amnt_inv        term  \\\n",
       "0  1077501    1296599     5000.0       5000.0           4975.0   36 months   \n",
       "1  1077430    1314167     2500.0       2500.0           2500.0   60 months   \n",
       "2  1077175    1313524     2400.0       2400.0           2400.0   36 months   \n",
       "3  1076863    1277178    10000.0      10000.0          10000.0   36 months   \n",
       "4  1075358    1311748     3000.0       3000.0           3000.0   60 months   \n",
       "\n",
       "   int_rate  installment grade sub_grade  ... total_bal_il il_util  \\\n",
       "0     10.65       162.87     B        B2  ...          NaN     NaN   \n",
       "1     15.27        59.83     C        C4  ...          NaN     NaN   \n",
       "2     15.96        84.33     C        C5  ...          NaN     NaN   \n",
       "3     13.49       339.31     C        C1  ...          NaN     NaN   \n",
       "4     12.69        67.79     B        B5  ...          NaN     NaN   \n",
       "\n",
       "  open_rv_12m  open_rv_24m max_bal_bc all_util total_rev_hi_lim inq_fi  \\\n",
       "0         NaN          NaN        NaN      NaN              NaN    NaN   \n",
       "1         NaN          NaN        NaN      NaN              NaN    NaN   \n",
       "2         NaN          NaN        NaN      NaN              NaN    NaN   \n",
       "3         NaN          NaN        NaN      NaN              NaN    NaN   \n",
       "4         NaN          NaN        NaN      NaN              NaN    NaN   \n",
       "\n",
       "  total_cu_tl inq_last_12m  \n",
       "0         NaN          NaN  \n",
       "1         NaN          NaN  \n",
       "2         NaN          NaN  \n",
       "3         NaN          NaN  \n",
       "4         NaN          NaN  \n",
       "\n",
       "[5 rows x 74 columns]"
      ]
     },
     "metadata": {},
     "execution_count": 5
    }
   ],
   "metadata": {}
  },
  {
   "cell_type": "markdown",
   "source": [
    "## Transformar"
   ],
   "metadata": {}
  },
  {
   "cell_type": "markdown",
   "source": [
    "### Sólo dos estatus de préstamo"
   ],
   "metadata": {}
  },
  {
   "cell_type": "code",
   "execution_count": 6,
   "source": [
    "df['loan_status'].value_counts()"
   ],
   "outputs": [
    {
     "output_type": "execute_result",
     "data": {
      "text/plain": [
       "Current                                                601779\n",
       "Fully Paid                                             207723\n",
       "Charged Off                                             45248\n",
       "Late (31-120 days)                                      11591\n",
       "Issued                                                   8460\n",
       "In Grace Period                                          6253\n",
       "Late (16-30 days)                                        2357\n",
       "Does not meet the credit policy. Status:Fully Paid       1988\n",
       "Default                                                  1219\n",
       "Does not meet the credit policy. Status:Charged Off       761\n",
       "Name: loan_status, dtype: int64"
      ]
     },
     "metadata": {},
     "execution_count": 6
    }
   ],
   "metadata": {}
  },
  {
   "cell_type": "code",
   "execution_count": 7,
   "source": [
    "df = df[df['loan_status'].isin(['Fully Paid','Charged Off'])]\n",
    "df['loan_status'].value_counts(1)"
   ],
   "outputs": [
    {
     "output_type": "execute_result",
     "data": {
      "text/plain": [
       "Fully Paid     0.821134\n",
       "Charged Off    0.178866\n",
       "Name: loan_status, dtype: float64"
      ]
     },
     "metadata": {},
     "execution_count": 7
    }
   ],
   "metadata": {}
  },
  {
   "cell_type": "markdown",
   "source": [
    "### Por variable"
   ],
   "metadata": {}
  },
  {
   "cell_type": "code",
   "execution_count": 8,
   "source": [
    "vars_date = []\n",
    "vars_cat = []\n",
    "vars_bin = []\n",
    "vars_num = []\n",
    "df_replace = {}\n",
    "df_bins = {}\n",
    "count_v = {}"
   ],
   "outputs": [],
   "metadata": {}
  },
  {
   "cell_type": "markdown",
   "source": [
    "#### 1.\tacc now delinq: El número de cuentas en las que el prestatario está ahora en mora"
   ],
   "metadata": {}
  },
  {
   "cell_type": "code",
   "execution_count": 9,
   "source": [
    "df['acc_now_delinq'].value_counts(dropna=False)"
   ],
   "outputs": [
    {
     "output_type": "execute_result",
     "data": {
      "text/plain": [
       "0.0    252236\n",
       "1.0       693\n",
       "2.0        36\n",
       "3.0         3\n",
       "5.0         2\n",
       "4.0         1\n",
       "Name: acc_now_delinq, dtype: int64"
      ]
     },
     "metadata": {},
     "execution_count": 9
    }
   ],
   "metadata": {}
  },
  {
   "cell_type": "code",
   "execution_count": 10,
   "source": [
    "df['acc_now_delinq'] = (df['acc_now_delinq'] > 0)*1\n",
    "df['acc_now_delinq'].value_counts(1, dropna=False)"
   ],
   "outputs": [
    {
     "output_type": "execute_result",
     "data": {
      "text/plain": [
       "0    0.997095\n",
       "1    0.002905\n",
       "Name: acc_now_delinq, dtype: float64"
      ]
     },
     "metadata": {},
     "execution_count": 10
    }
   ],
   "metadata": {}
  },
  {
   "cell_type": "code",
   "execution_count": 11,
   "source": [
    "vars_bin.append('acc_now_delinq')\n",
    "col_vs_tgt(df,'acc_now_delinq')"
   ],
   "outputs": [
    {
     "output_type": "execute_result",
     "data": {
      "text/html": [
       "<style  type=\"text/css\" >\n",
       "#T_30505_row0_col0,#T_30505_row0_col1{\n",
       "            background-color:  #08306b;\n",
       "            color:  #f1f1f1;\n",
       "        }#T_30505_row1_col0,#T_30505_row1_col1{\n",
       "            background-color:  #f7fbff;\n",
       "            color:  #000000;\n",
       "        }</style><table id=\"T_30505_\" ><thead>    <tr>        <th class=\"blank level0\" ></th>        <th class=\"col_heading level0 col0\" colspan=\"2\">id</th>    </tr>    <tr>        <th class=\"index_name level1\" >loan_status</th>        <th class=\"col_heading level1 col0\" >Charged Off</th>        <th class=\"col_heading level1 col1\" >Fully Paid</th>    </tr>    <tr>        <th class=\"index_name level0\" >grouped</th>        <th class=\"blank\" ></th>        <th class=\"blank\" ></th>    </tr></thead><tbody>\n",
       "                <tr>\n",
       "                        <th id=\"T_30505_level0_row0\" class=\"row_heading level0 row0\" >0</th>\n",
       "                        <td id=\"T_30505_row0_col0\" class=\"data row0 col0\" >99.6%</td>\n",
       "                        <td id=\"T_30505_row0_col1\" class=\"data row0 col1\" >99.7%</td>\n",
       "            </tr>\n",
       "            <tr>\n",
       "                        <th id=\"T_30505_level0_row1\" class=\"row_heading level0 row1\" >1</th>\n",
       "                        <td id=\"T_30505_row1_col0\" class=\"data row1 col0\" >0.4%</td>\n",
       "                        <td id=\"T_30505_row1_col1\" class=\"data row1 col1\" >0.3%</td>\n",
       "            </tr>\n",
       "    </tbody></table>"
      ],
      "text/plain": [
       "<pandas.io.formats.style.Styler at 0x7fedf8925dc0>"
      ]
     },
     "metadata": {},
     "execution_count": 11
    }
   ],
   "metadata": {}
  },
  {
   "cell_type": "markdown",
   "source": [
    "#### 2.\taddr state: El estado proporcionado por el prestatario en la solicitud de préstamo"
   ],
   "metadata": {}
  },
  {
   "cell_type": "code",
   "execution_count": 12,
   "source": [
    "df['addr_state'].value_counts(1, dropna=False)"
   ],
   "outputs": [
    {
     "output_type": "execute_result",
     "data": {
      "text/plain": [
       "CA    0.170415\n",
       "NY    0.084350\n",
       "TX    0.076463\n",
       "FL    0.069356\n",
       "NJ    0.037953\n",
       "IL    0.036577\n",
       "PA    0.033201\n",
       "GA    0.031680\n",
       "VA    0.031395\n",
       "OH    0.030588\n",
       "NC    0.027351\n",
       "MA    0.024268\n",
       "AZ    0.024023\n",
       "MD    0.023746\n",
       "MI    0.023702\n",
       "WA    0.023382\n",
       "CO    0.022188\n",
       "MN    0.017630\n",
       "MO    0.015630\n",
       "NV    0.015057\n",
       "CT    0.014551\n",
       "OR    0.013254\n",
       "AL    0.012440\n",
       "WI    0.012167\n",
       "LA    0.011669\n",
       "SC    0.011140\n",
       "IN    0.011068\n",
       "TN    0.009590\n",
       "KY    0.008965\n",
       "OK    0.008424\n",
       "UT    0.008349\n",
       "KS    0.008234\n",
       "AR    0.006934\n",
       "HI    0.005843\n",
       "NM    0.005443\n",
       "NH    0.004538\n",
       "WV    0.004495\n",
       "RI    0.004297\n",
       "DC    0.003309\n",
       "MT    0.002909\n",
       "DE    0.002637\n",
       "AK    0.002621\n",
       "WY    0.002380\n",
       "SD    0.002150\n",
       "VT    0.001692\n",
       "MS    0.001664\n",
       "NE    0.000150\n",
       "ME    0.000051\n",
       "ND    0.000032\n",
       "IA    0.000024\n",
       "ID    0.000024\n",
       "Name: addr_state, dtype: float64"
      ]
     },
     "metadata": {},
     "execution_count": 12
    }
   ],
   "metadata": {}
  },
  {
   "cell_type": "code",
   "execution_count": 13,
   "source": [
    "df['addr_state'] = group_lowfreq(df['addr_state'])\n",
    "df['addr_state'].value_counts(1, dropna=False)"
   ],
   "outputs": [
    {
     "output_type": "execute_result",
     "data": {
      "text/plain": [
       "other    0.599417\n",
       "CA       0.170415\n",
       "NY       0.084350\n",
       "TX       0.076463\n",
       "FL       0.069356\n",
       "Name: addr_state, dtype: float64"
      ]
     },
     "metadata": {},
     "execution_count": 13
    }
   ],
   "metadata": {}
  },
  {
   "cell_type": "code",
   "execution_count": 14,
   "source": [
    "vars_cat.append('addr_state')\n",
    "col_vs_tgt(df,'addr_state')"
   ],
   "outputs": [
    {
     "output_type": "execute_result",
     "data": {
      "text/html": [
       "<style  type=\"text/css\" >\n",
       "#T_3c2a7_row0_col0{\n",
       "            background-color:  #d4e4f4;\n",
       "            color:  #000000;\n",
       "        }#T_3c2a7_row0_col1{\n",
       "            background-color:  #d0e2f2;\n",
       "            color:  #000000;\n",
       "        }#T_3c2a7_row1_col0,#T_3c2a7_row3_col1{\n",
       "            background-color:  #f3f8fe;\n",
       "            color:  #000000;\n",
       "        }#T_3c2a7_row1_col1,#T_3c2a7_row3_col0{\n",
       "            background-color:  #f7fbff;\n",
       "            color:  #000000;\n",
       "        }#T_3c2a7_row2_col0{\n",
       "            background-color:  #eef5fc;\n",
       "            color:  #000000;\n",
       "        }#T_3c2a7_row2_col1{\n",
       "            background-color:  #f2f7fd;\n",
       "            color:  #000000;\n",
       "        }#T_3c2a7_row4_col0,#T_3c2a7_row4_col1{\n",
       "            background-color:  #08306b;\n",
       "            color:  #f1f1f1;\n",
       "        }</style><table id=\"T_3c2a7_\" ><thead>    <tr>        <th class=\"blank level0\" ></th>        <th class=\"col_heading level0 col0\" colspan=\"2\">id</th>    </tr>    <tr>        <th class=\"index_name level1\" >loan_status</th>        <th class=\"col_heading level1 col0\" >Charged Off</th>        <th class=\"col_heading level1 col1\" >Fully Paid</th>    </tr>    <tr>        <th class=\"index_name level0\" >grouped</th>        <th class=\"blank\" ></th>        <th class=\"blank\" ></th>    </tr></thead><tbody>\n",
       "                <tr>\n",
       "                        <th id=\"T_3c2a7_level0_row0\" class=\"row_heading level0 row0\" >CA</th>\n",
       "                        <td id=\"T_3c2a7_row0_col0\" class=\"data row0 col0\" >16.2%</td>\n",
       "                        <td id=\"T_3c2a7_row0_col1\" class=\"data row0 col1\" >17.2%</td>\n",
       "            </tr>\n",
       "            <tr>\n",
       "                        <th id=\"T_3c2a7_level0_row1\" class=\"row_heading level0 row1\" >FL</th>\n",
       "                        <td id=\"T_3c2a7_row1_col0\" class=\"data row1 col0\" >7.8%</td>\n",
       "                        <td id=\"T_3c2a7_row1_col1\" class=\"data row1 col1\" >6.7%</td>\n",
       "            </tr>\n",
       "            <tr>\n",
       "                        <th id=\"T_3c2a7_level0_row2\" class=\"row_heading level0 row2\" >NY</th>\n",
       "                        <td id=\"T_3c2a7_row2_col0\" class=\"data row2 col0\" >9.1%</td>\n",
       "                        <td id=\"T_3c2a7_row2_col1\" class=\"data row2 col1\" >8.3%</td>\n",
       "            </tr>\n",
       "            <tr>\n",
       "                        <th id=\"T_3c2a7_level0_row3\" class=\"row_heading level0 row3\" >TX</th>\n",
       "                        <td id=\"T_3c2a7_row3_col0\" class=\"data row3 col0\" >6.7%</td>\n",
       "                        <td id=\"T_3c2a7_row3_col1\" class=\"data row3 col1\" >7.9%</td>\n",
       "            </tr>\n",
       "            <tr>\n",
       "                        <th id=\"T_3c2a7_level0_row4\" class=\"row_heading level0 row4\" >other</th>\n",
       "                        <td id=\"T_3c2a7_row4_col0\" class=\"data row4 col0\" >60.2%</td>\n",
       "                        <td id=\"T_3c2a7_row4_col1\" class=\"data row4 col1\" >59.9%</td>\n",
       "            </tr>\n",
       "    </tbody></table>"
      ],
      "text/plain": [
       "<pandas.io.formats.style.Styler at 0x7fed87e109a0>"
      ]
     },
     "metadata": {},
     "execution_count": 14
    }
   ],
   "metadata": {}
  },
  {
   "cell_type": "markdown",
   "source": [
    "#### 3.\tall util: Límite de saldo a crédito en todas las operaciones"
   ],
   "metadata": {}
  },
  {
   "cell_type": "code",
   "execution_count": 15,
   "source": [
    "df['all_util'].hist()"
   ],
   "outputs": [
    {
     "output_type": "execute_result",
     "data": {
      "text/plain": [
       "<AxesSubplot:>"
      ]
     },
     "metadata": {},
     "execution_count": 15
    },
    {
     "output_type": "display_data",
     "data": {
      "image/png": "[encoded data removed]",
      "text/plain": [
       "<Figure size 432x288 with 1 Axes>"
      ]
     },
     "metadata": {
      "needs_background": "light"
     }
    }
   ],
   "metadata": {}
  },
  {
   "cell_type": "code",
   "execution_count": 16,
   "source": [
    "df['all_util'].value_counts(1, dropna=False)"
   ],
   "outputs": [
    {
     "output_type": "execute_result",
     "data": {
      "text/plain": [
       "NaN     0.999431\n",
       "58.3    0.000012\n",
       "63.9    0.000008\n",
       "74.3    0.000008\n",
       "50.0    0.000008\n",
       "          ...   \n",
       "54.0    0.000004\n",
       "64.7    0.000004\n",
       "37.7    0.000004\n",
       "72.7    0.000004\n",
       "86.0    0.000004\n",
       "Name: all_util, Length: 127, dtype: float64"
      ]
     },
     "metadata": {},
     "execution_count": 16
    }
   ],
   "metadata": {}
  },
  {
   "cell_type": "code",
   "execution_count": 17,
   "source": [
    "df['all_util'] = (df['all_util'].notnull())*1\n",
    "df['all_util'].value_counts(1, dropna=False)"
   ],
   "outputs": [
    {
     "output_type": "execute_result",
     "data": {
      "text/plain": [
       "0    0.999431\n",
       "1    0.000569\n",
       "Name: all_util, dtype: float64"
      ]
     },
     "metadata": {},
     "execution_count": 17
    }
   ],
   "metadata": {}
  },
  {
   "cell_type": "code",
   "execution_count": 18,
   "source": [
    "vars_bin.append('all_util')\n",
    "col_vs_tgt(df, 'all_util')"
   ],
   "outputs": [
    {
     "output_type": "execute_result",
     "data": {
      "text/html": [
       "<style  type=\"text/css\" >\n",
       "#T_16094_row0_col0,#T_16094_row1_col0,#T_16094_row1_col1{\n",
       "            background-color:  #f7fbff;\n",
       "            color:  #000000;\n",
       "        }#T_16094_row0_col1{\n",
       "            background-color:  #08306b;\n",
       "            color:  #f1f1f1;\n",
       "        }</style><table id=\"T_16094_\" ><thead>    <tr>        <th class=\"blank level0\" ></th>        <th class=\"col_heading level0 col0\" colspan=\"2\">id</th>    </tr>    <tr>        <th class=\"index_name level1\" >loan_status</th>        <th class=\"col_heading level1 col0\" >Charged Off</th>        <th class=\"col_heading level1 col1\" >Fully Paid</th>    </tr>    <tr>        <th class=\"index_name level0\" >grouped</th>        <th class=\"blank\" ></th>        <th class=\"blank\" ></th>    </tr></thead><tbody>\n",
       "                <tr>\n",
       "                        <th id=\"T_16094_level0_row0\" class=\"row_heading level0 row0\" >0</th>\n",
       "                        <td id=\"T_16094_row0_col0\" class=\"data row0 col0\" >100.0%</td>\n",
       "                        <td id=\"T_16094_row0_col1\" class=\"data row0 col1\" >99.9%</td>\n",
       "            </tr>\n",
       "            <tr>\n",
       "                        <th id=\"T_16094_level0_row1\" class=\"row_heading level0 row1\" >1</th>\n",
       "                        <td id=\"T_16094_row1_col0\" class=\"data row1 col0\" >nan%</td>\n",
       "                        <td id=\"T_16094_row1_col1\" class=\"data row1 col1\" >0.1%</td>\n",
       "            </tr>\n",
       "    </tbody></table>"
      ],
      "text/plain": [
       "<pandas.io.formats.style.Styler at 0x7fedf66ab400>"
      ]
     },
     "metadata": {},
     "execution_count": 18
    }
   ],
   "metadata": {}
  },
  {
   "cell_type": "markdown",
   "source": [
    "#### 4.\tannual inc: Los ingresos anuales autoinformadas proporcionados por el prestatario durante el registro"
   ],
   "metadata": {}
  },
  {
   "cell_type": "code",
   "execution_count": 19,
   "source": [
    "df['annual_inc'].isnull().sum()"
   ],
   "outputs": [
    {
     "output_type": "execute_result",
     "data": {
      "text/plain": [
       "0"
      ]
     },
     "metadata": {},
     "execution_count": 19
    }
   ],
   "metadata": {}
  },
  {
   "cell_type": "code",
   "execution_count": 20,
   "source": [
    "df['annual_inc'].describe([i/10 for i in range(10)])"
   ],
   "outputs": [
    {
     "output_type": "execute_result",
     "data": {
      "text/plain": [
       "count    2.529710e+05\n",
       "mean     7.253825e+04\n",
       "std      5.881181e+04\n",
       "min      3.000000e+03\n",
       "0%       3.000000e+03\n",
       "10%      3.350000e+04\n",
       "20%      4.100000e+04\n",
       "30%      4.803400e+04\n",
       "40%      5.500000e+04\n",
       "50%      6.200000e+04\n",
       "60%      7.000000e+04\n",
       "70%      8.000000e+04\n",
       "80%      9.500000e+04\n",
       "90%      1.200000e+05\n",
       "max      8.706582e+06\n",
       "Name: annual_inc, dtype: float64"
      ]
     },
     "metadata": {},
     "execution_count": 20
    }
   ],
   "metadata": {}
  },
  {
   "cell_type": "code",
   "execution_count": 21,
   "source": [
    "df['annual_inc'], df_bins['annual_inc'] = pd.qcut(df['annual_inc'], q=5, retbins=True)\n",
    "vars_cat.append('annual_inc')\n",
    "col_vs_tgt(df, 'annual_inc')"
   ],
   "outputs": [
    {
     "output_type": "execute_result",
     "data": {
      "text/html": [
       "<style  type=\"text/css\" >\n",
       "#T_ddaa0_row0_col0,#T_ddaa0_row4_col1{\n",
       "            background-color:  #08306b;\n",
       "            color:  #f1f1f1;\n",
       "        }#T_ddaa0_row0_col1,#T_ddaa0_row4_col0{\n",
       "            background-color:  #f7fbff;\n",
       "            color:  #000000;\n",
       "        }#T_ddaa0_row1_col0{\n",
       "            background-color:  #1b69af;\n",
       "            color:  #f1f1f1;\n",
       "        }#T_ddaa0_row1_col1{\n",
       "            background-color:  #084990;\n",
       "            color:  #f1f1f1;\n",
       "        }#T_ddaa0_row2_col0{\n",
       "            background-color:  #81badb;\n",
       "            color:  #000000;\n",
       "        }#T_ddaa0_row2_col1{\n",
       "            background-color:  #f2f7fd;\n",
       "            color:  #000000;\n",
       "        }#T_ddaa0_row3_col0{\n",
       "            background-color:  #bad6eb;\n",
       "            color:  #000000;\n",
       "        }#T_ddaa0_row3_col1{\n",
       "            background-color:  #083370;\n",
       "            color:  #f1f1f1;\n",
       "        }</style><table id=\"T_ddaa0_\" ><thead>    <tr>        <th class=\"blank level0\" ></th>        <th class=\"col_heading level0 col0\" colspan=\"2\">id</th>    </tr>    <tr>        <th class=\"index_name level1\" >loan_status</th>        <th class=\"col_heading level1 col0\" >Charged Off</th>        <th class=\"col_heading level1 col1\" >Fully Paid</th>    </tr>    <tr>        <th class=\"index_name level0\" >grouped</th>        <th class=\"blank\" ></th>        <th class=\"blank\" ></th>    </tr></thead><tbody>\n",
       "                <tr>\n",
       "                        <th id=\"T_ddaa0_level0_row0\" class=\"row_heading level0 row0\" >(2999.999, 41000.0]</th>\n",
       "                        <td id=\"T_ddaa0_row0_col0\" class=\"data row0 col0\" >26.0%</td>\n",
       "                        <td id=\"T_ddaa0_row0_col1\" class=\"data row0 col1\" >19.0%</td>\n",
       "            </tr>\n",
       "            <tr>\n",
       "                        <th id=\"T_ddaa0_level0_row1\" class=\"row_heading level0 row1\" >(41000.0, 55000.0]</th>\n",
       "                        <td id=\"T_ddaa0_row1_col0\" class=\"data row1 col0\" >23.3%</td>\n",
       "                        <td id=\"T_ddaa0_row1_col1\" class=\"data row1 col1\" >20.6%</td>\n",
       "            </tr>\n",
       "            <tr>\n",
       "                        <th id=\"T_ddaa0_level0_row2\" class=\"row_heading level0 row2\" >(55000.0, 70000.0]</th>\n",
       "                        <td id=\"T_ddaa0_row2_col0\" class=\"data row2 col0\" >19.3%</td>\n",
       "                        <td id=\"T_ddaa0_row2_col1\" class=\"data row2 col1\" >19.0%</td>\n",
       "            </tr>\n",
       "            <tr>\n",
       "                        <th id=\"T_ddaa0_level0_row3\" class=\"row_heading level0 row3\" >(70000.0, 95000.0]</th>\n",
       "                        <td id=\"T_ddaa0_row3_col0\" class=\"data row3 col0\" >17.4%</td>\n",
       "                        <td id=\"T_ddaa0_row3_col1\" class=\"data row3 col1\" >20.7%</td>\n",
       "            </tr>\n",
       "            <tr>\n",
       "                        <th id=\"T_ddaa0_level0_row4\" class=\"row_heading level0 row4\" >(95000.0, 8706582.0]</th>\n",
       "                        <td id=\"T_ddaa0_row4_col0\" class=\"data row4 col0\" >14.0%</td>\n",
       "                        <td id=\"T_ddaa0_row4_col1\" class=\"data row4 col1\" >20.7%</td>\n",
       "            </tr>\n",
       "    </tbody></table>"
      ],
      "text/plain": [
       "<pandas.io.formats.style.Styler at 0x7fed7ff69040>"
      ]
     },
     "metadata": {},
     "execution_count": 21
    }
   ],
   "metadata": {}
  },
  {
   "cell_type": "markdown",
   "source": [
    "#### 5.\tannual inc joint: Los ingresos anuales autoinformadas combinados proporcionados por los co-prestatarios durante el registro"
   ],
   "metadata": {}
  },
  {
   "cell_type": "code",
   "execution_count": 22,
   "source": [
    "df['annual_inc_joint'].isnull().mean()"
   ],
   "outputs": [
    {
     "output_type": "execute_result",
     "data": {
      "text/plain": [
       "0.9999960469777168"
      ]
     },
     "metadata": {},
     "execution_count": 22
    }
   ],
   "metadata": {}
  },
  {
   "cell_type": "code",
   "execution_count": 23,
   "source": [
    "df.drop('annual_inc_joint', axis=1, inplace=True)"
   ],
   "outputs": [],
   "metadata": {}
  },
  {
   "cell_type": "markdown",
   "source": [
    "#### 6.\tcollection recovery fee: cargo posterior a la tarifa de cobro.\n"
   ],
   "metadata": {}
  },
  {
   "cell_type": "code",
   "execution_count": 24,
   "source": [
    "df['collection_recovery_fee'].isnull().sum()"
   ],
   "outputs": [
    {
     "output_type": "execute_result",
     "data": {
      "text/plain": [
       "0"
      ]
     },
     "metadata": {},
     "execution_count": 24
    }
   ],
   "metadata": {}
  },
  {
   "cell_type": "code",
   "execution_count": 25,
   "source": [
    "df['collection_recovery_fee'] = (df['collection_recovery_fee']>0)*1\n",
    "df['collection_recovery_fee'].value_counts(1, dropna=False)"
   ],
   "outputs": [
    {
     "output_type": "execute_result",
     "data": {
      "text/plain": [
       "0    0.908942\n",
       "1    0.091058\n",
       "Name: collection_recovery_fee, dtype: float64"
      ]
     },
     "metadata": {},
     "execution_count": 25
    }
   ],
   "metadata": {}
  },
  {
   "cell_type": "code",
   "execution_count": 26,
   "source": [
    "vars_bin.append('collection_recovery_fee')\n",
    "col_vs_tgt(df, 'collection_recovery_fee')"
   ],
   "outputs": [
    {
     "output_type": "execute_result",
     "data": {
      "text/html": [
       "<style  type=\"text/css\" >\n",
       "#T_92ee4_row0_col0,#T_92ee4_row0_col1,#T_92ee4_row1_col1{\n",
       "            background-color:  #f7fbff;\n",
       "            color:  #000000;\n",
       "        }#T_92ee4_row1_col0{\n",
       "            background-color:  #08306b;\n",
       "            color:  #f1f1f1;\n",
       "        }</style><table id=\"T_92ee4_\" ><thead>    <tr>        <th class=\"blank level0\" ></th>        <th class=\"col_heading level0 col0\" colspan=\"2\">id</th>    </tr>    <tr>        <th class=\"index_name level1\" >loan_status</th>        <th class=\"col_heading level1 col0\" >Charged Off</th>        <th class=\"col_heading level1 col1\" >Fully Paid</th>    </tr>    <tr>        <th class=\"index_name level0\" >grouped</th>        <th class=\"blank\" ></th>        <th class=\"blank\" ></th>    </tr></thead><tbody>\n",
       "                <tr>\n",
       "                        <th id=\"T_92ee4_level0_row0\" class=\"row_heading level0 row0\" >0</th>\n",
       "                        <td id=\"T_92ee4_row0_col0\" class=\"data row0 col0\" >49.1%</td>\n",
       "                        <td id=\"T_92ee4_row0_col1\" class=\"data row0 col1\" >100.0%</td>\n",
       "            </tr>\n",
       "            <tr>\n",
       "                        <th id=\"T_92ee4_level0_row1\" class=\"row_heading level0 row1\" >1</th>\n",
       "                        <td id=\"T_92ee4_row1_col0\" class=\"data row1 col0\" >50.9%</td>\n",
       "                        <td id=\"T_92ee4_row1_col1\" class=\"data row1 col1\" >nan%</td>\n",
       "            </tr>\n",
       "    </tbody></table>"
      ],
      "text/plain": [
       "<pandas.io.formats.style.Styler at 0x7fed8021baf0>"
      ]
     },
     "metadata": {},
     "execution_count": 26
    }
   ],
   "metadata": {}
  },
  {
   "cell_type": "markdown",
   "source": [
    "#### 7.\tcollections 12 mths ex med: Número de colecciones en 12 meses, excluidas las colecciones médicas.\n"
   ],
   "metadata": {}
  },
  {
   "cell_type": "code",
   "execution_count": 27,
   "source": [
    "df['collections_12_mths_ex_med'].value_counts(1, dropna=False)"
   ],
   "outputs": [
    {
     "output_type": "execute_result",
     "data": {
      "text/plain": [
       "0.0    0.993557\n",
       "1.0    0.005795\n",
       "2.0    0.000379\n",
       "NaN    0.000221\n",
       "3.0    0.000032\n",
       "4.0    0.000008\n",
       "5.0    0.000004\n",
       "6.0    0.000004\n",
       "Name: collections_12_mths_ex_med, dtype: float64"
      ]
     },
     "metadata": {},
     "execution_count": 27
    }
   ],
   "metadata": {}
  },
  {
   "cell_type": "code",
   "execution_count": 28,
   "source": [
    "aux = df.copy()\n",
    "aux['g'] = (aux['collections_12_mths_ex_med']>0)*1\n",
    "col_vs_tgt(aux, 'g')"
   ],
   "outputs": [
    {
     "output_type": "execute_result",
     "data": {
      "text/html": [
       "<style  type=\"text/css\" >\n",
       "#T_3f0aa_row0_col0,#T_3f0aa_row0_col1{\n",
       "            background-color:  #08306b;\n",
       "            color:  #f1f1f1;\n",
       "        }#T_3f0aa_row1_col0,#T_3f0aa_row1_col1{\n",
       "            background-color:  #f7fbff;\n",
       "            color:  #000000;\n",
       "        }</style><table id=\"T_3f0aa_\" ><thead>    <tr>        <th class=\"blank level0\" ></th>        <th class=\"col_heading level0 col0\" colspan=\"2\">id</th>    </tr>    <tr>        <th class=\"index_name level1\" >loan_status</th>        <th class=\"col_heading level1 col0\" >Charged Off</th>        <th class=\"col_heading level1 col1\" >Fully Paid</th>    </tr>    <tr>        <th class=\"index_name level0\" >grouped</th>        <th class=\"blank\" ></th>        <th class=\"blank\" ></th>    </tr></thead><tbody>\n",
       "                <tr>\n",
       "                        <th id=\"T_3f0aa_level0_row0\" class=\"row_heading level0 row0\" >0</th>\n",
       "                        <td id=\"T_3f0aa_row0_col0\" class=\"data row0 col0\" >99.2%</td>\n",
       "                        <td id=\"T_3f0aa_row0_col1\" class=\"data row0 col1\" >99.4%</td>\n",
       "            </tr>\n",
       "            <tr>\n",
       "                        <th id=\"T_3f0aa_level0_row1\" class=\"row_heading level0 row1\" >1</th>\n",
       "                        <td id=\"T_3f0aa_row1_col0\" class=\"data row1 col0\" >0.8%</td>\n",
       "                        <td id=\"T_3f0aa_row1_col1\" class=\"data row1 col1\" >0.6%</td>\n",
       "            </tr>\n",
       "    </tbody></table>"
      ],
      "text/plain": [
       "<pandas.io.formats.style.Styler at 0x7fed8021bee0>"
      ]
     },
     "metadata": {},
     "execution_count": 28
    }
   ],
   "metadata": {}
  },
  {
   "cell_type": "code",
   "execution_count": 29,
   "source": [
    "df.drop(columns=['collections_12_mths_ex_med'], inplace=True)"
   ],
   "outputs": [],
   "metadata": {}
  },
  {
   "cell_type": "markdown",
   "source": [
    "#### 8.\tdelinq 2yrs: El número de más de 30 días de incidencias vencidas de morosidad en el archivo de crédito del prestatario durante los últimos 2 años.\n"
   ],
   "metadata": {}
  },
  {
   "cell_type": "code",
   "execution_count": 30,
   "source": [
    "df['delinq_2yrs'].value_counts(1, dropna=False)"
   ],
   "outputs": [
    {
     "output_type": "execute_result",
     "data": {
      "text/plain": [
       "0.0     0.838985\n",
       "1.0     0.111392\n",
       "2.0     0.030671\n",
       "3.0     0.010167\n",
       "4.0     0.004111\n",
       "5.0     0.002139\n",
       "6.0     0.001040\n",
       "7.0     0.000557\n",
       "8.0     0.000340\n",
       "9.0     0.000198\n",
       "10.0    0.000119\n",
       "12.0    0.000095\n",
       "11.0    0.000079\n",
       "14.0    0.000032\n",
       "18.0    0.000016\n",
       "13.0    0.000016\n",
       "15.0    0.000016\n",
       "17.0    0.000008\n",
       "16.0    0.000008\n",
       "19.0    0.000004\n",
       "22.0    0.000004\n",
       "29.0    0.000004\n",
       "Name: delinq_2yrs, dtype: float64"
      ]
     },
     "metadata": {},
     "execution_count": 30
    }
   ],
   "metadata": {}
  },
  {
   "cell_type": "code",
   "execution_count": 31,
   "source": [
    "df['delinq_2yrs'] = (df['delinq_2yrs']>0)*1\n",
    "df['delinq_2yrs'].value_counts(1, dropna=False)"
   ],
   "outputs": [
    {
     "output_type": "execute_result",
     "data": {
      "text/plain": [
       "0    0.838985\n",
       "1    0.161015\n",
       "Name: delinq_2yrs, dtype: float64"
      ]
     },
     "metadata": {},
     "execution_count": 31
    }
   ],
   "metadata": {}
  },
  {
   "cell_type": "code",
   "execution_count": 32,
   "source": [
    "vars_bin.append('delinq_2yrs')\n",
    "col_vs_tgt(df, 'delinq_2yrs')"
   ],
   "outputs": [
    {
     "output_type": "execute_result",
     "data": {
      "text/html": [
       "<style  type=\"text/css\" >\n",
       "#T_8ca61_row0_col0,#T_8ca61_row0_col1{\n",
       "            background-color:  #08306b;\n",
       "            color:  #f1f1f1;\n",
       "        }#T_8ca61_row1_col0,#T_8ca61_row1_col1{\n",
       "            background-color:  #f7fbff;\n",
       "            color:  #000000;\n",
       "        }</style><table id=\"T_8ca61_\" ><thead>    <tr>        <th class=\"blank level0\" ></th>        <th class=\"col_heading level0 col0\" colspan=\"2\">id</th>    </tr>    <tr>        <th class=\"index_name level1\" >loan_status</th>        <th class=\"col_heading level1 col0\" >Charged Off</th>        <th class=\"col_heading level1 col1\" >Fully Paid</th>    </tr>    <tr>        <th class=\"index_name level0\" >grouped</th>        <th class=\"blank\" ></th>        <th class=\"blank\" ></th>    </tr></thead><tbody>\n",
       "                <tr>\n",
       "                        <th id=\"T_8ca61_level0_row0\" class=\"row_heading level0 row0\" >0</th>\n",
       "                        <td id=\"T_8ca61_row0_col0\" class=\"data row0 col0\" >82.8%</td>\n",
       "                        <td id=\"T_8ca61_row0_col1\" class=\"data row0 col1\" >84.1%</td>\n",
       "            </tr>\n",
       "            <tr>\n",
       "                        <th id=\"T_8ca61_level0_row1\" class=\"row_heading level0 row1\" >1</th>\n",
       "                        <td id=\"T_8ca61_row1_col0\" class=\"data row1 col0\" >17.2%</td>\n",
       "                        <td id=\"T_8ca61_row1_col1\" class=\"data row1 col1\" >15.9%</td>\n",
       "            </tr>\n",
       "    </tbody></table>"
      ],
      "text/plain": [
       "<pandas.io.formats.style.Styler at 0x7fed87e060a0>"
      ]
     },
     "metadata": {},
     "execution_count": 32
    }
   ],
   "metadata": {}
  },
  {
   "cell_type": "markdown",
   "source": [
    "#### 9.\tdesc: Descripción del préstamo proporcionada por el prestatario.\n"
   ],
   "metadata": {}
  },
  {
   "cell_type": "code",
   "execution_count": 33,
   "source": [
    "df['desc'].astype(str).str.split().str[0].value_counts(1, dropna=False).to_frame().head(22)"
   ],
   "outputs": [
    {
     "output_type": "execute_result",
     "data": {
      "text/html": [
       "<div>\n",
       "<style scoped>\n",
       "    .dataframe tbody tr th:only-of-type {\n",
       "        vertical-align: middle;\n",
       "    }\n",
       "\n",
       "    .dataframe tbody tr th {\n",
       "        vertical-align: top;\n",
       "    }\n",
       "\n",
       "    .dataframe thead th {\n",
       "        text-align: right;\n",
       "    }\n",
       "</style>\n",
       "<table border=\"1\" class=\"dataframe\">\n",
       "  <thead>\n",
       "    <tr style=\"text-align: right;\">\n",
       "      <th></th>\n",
       "      <th>desc</th>\n",
       "    </tr>\n",
       "  </thead>\n",
       "  <tbody>\n",
       "    <tr>\n",
       "      <th>nan</th>\n",
       "      <td>0.650873</td>\n",
       "    </tr>\n",
       "    <tr>\n",
       "      <th>Borrower</th>\n",
       "      <td>0.321515</td>\n",
       "    </tr>\n",
       "    <tr>\n",
       "      <th>I</th>\n",
       "      <td>0.008712</td>\n",
       "    </tr>\n",
       "    <tr>\n",
       "      <th>This</th>\n",
       "      <td>0.001135</td>\n",
       "    </tr>\n",
       "    <tr>\n",
       "      <th>My</th>\n",
       "      <td>0.000889</td>\n",
       "    </tr>\n",
       "    <tr>\n",
       "      <th>NaN</th>\n",
       "      <td>0.000854</td>\n",
       "    </tr>\n",
       "    <tr>\n",
       "      <th>I'm</th>\n",
       "      <td>0.000652</td>\n",
       "    </tr>\n",
       "    <tr>\n",
       "      <th>The</th>\n",
       "      <td>0.000609</td>\n",
       "    </tr>\n",
       "    <tr>\n",
       "      <th>To</th>\n",
       "      <td>0.000502</td>\n",
       "    </tr>\n",
       "    <tr>\n",
       "      <th>We</th>\n",
       "      <td>0.000498</td>\n",
       "    </tr>\n",
       "    <tr>\n",
       "      <th>Looking</th>\n",
       "      <td>0.000427</td>\n",
       "    </tr>\n",
       "    <tr>\n",
       "      <th>Loan</th>\n",
       "      <td>0.000376</td>\n",
       "    </tr>\n",
       "    <tr>\n",
       "      <th>Need</th>\n",
       "      <td>0.000360</td>\n",
       "    </tr>\n",
       "    <tr>\n",
       "      <th>Hello,</th>\n",
       "      <td>0.000336</td>\n",
       "    </tr>\n",
       "    <tr>\n",
       "      <th>i</th>\n",
       "      <td>0.000210</td>\n",
       "    </tr>\n",
       "    <tr>\n",
       "      <th>Hello</th>\n",
       "      <td>0.000182</td>\n",
       "    </tr>\n",
       "    <tr>\n",
       "      <th>Purpose</th>\n",
       "      <td>0.000182</td>\n",
       "    </tr>\n",
       "    <tr>\n",
       "      <th>Hi,</th>\n",
       "      <td>0.000178</td>\n",
       "    </tr>\n",
       "    <tr>\n",
       "      <th>Dear</th>\n",
       "      <td>0.000174</td>\n",
       "    </tr>\n",
       "    <tr>\n",
       "      <th>Hi</th>\n",
       "      <td>0.000166</td>\n",
       "    </tr>\n",
       "    <tr>\n",
       "      <th>Consolidate</th>\n",
       "      <td>0.000150</td>\n",
       "    </tr>\n",
       "    <tr>\n",
       "      <th>Thank</th>\n",
       "      <td>0.000146</td>\n",
       "    </tr>\n",
       "  </tbody>\n",
       "</table>\n",
       "</div>"
      ],
      "text/plain": [
       "                 desc\n",
       "nan          0.650873\n",
       "Borrower     0.321515\n",
       "I            0.008712\n",
       "This         0.001135\n",
       "My           0.000889\n",
       "NaN          0.000854\n",
       "I'm          0.000652\n",
       "The          0.000609\n",
       "To           0.000502\n",
       "We           0.000498\n",
       "Looking      0.000427\n",
       "Loan         0.000376\n",
       "Need         0.000360\n",
       "Hello,       0.000336\n",
       "i            0.000210\n",
       "Hello        0.000182\n",
       "Purpose      0.000182\n",
       "Hi,          0.000178\n",
       "Dear         0.000174\n",
       "Hi           0.000166\n",
       "Consolidate  0.000150\n",
       "Thank        0.000146"
      ]
     },
     "metadata": {},
     "execution_count": 33
    }
   ],
   "metadata": {}
  },
  {
   "cell_type": "code",
   "execution_count": 34,
   "source": [
    "df['desc'] = df['desc'].notnull()*1\n",
    "df['desc'].value_counts(1, dropna=False)"
   ],
   "outputs": [
    {
     "output_type": "execute_result",
     "data": {
      "text/plain": [
       "0    0.650873\n",
       "1    0.349127\n",
       "Name: desc, dtype: float64"
      ]
     },
     "metadata": {},
     "execution_count": 34
    }
   ],
   "metadata": {}
  },
  {
   "cell_type": "code",
   "execution_count": 35,
   "source": [
    "vars_bin.append('desc')\n",
    "col_vs_tgt(df, 'desc')"
   ],
   "outputs": [
    {
     "output_type": "execute_result",
     "data": {
      "text/html": [
       "<style  type=\"text/css\" >\n",
       "#T_e4a69_row0_col0,#T_e4a69_row0_col1{\n",
       "            background-color:  #08306b;\n",
       "            color:  #f1f1f1;\n",
       "        }#T_e4a69_row1_col0,#T_e4a69_row1_col1{\n",
       "            background-color:  #f7fbff;\n",
       "            color:  #000000;\n",
       "        }</style><table id=\"T_e4a69_\" ><thead>    <tr>        <th class=\"blank level0\" ></th>        <th class=\"col_heading level0 col0\" colspan=\"2\">id</th>    </tr>    <tr>        <th class=\"index_name level1\" >loan_status</th>        <th class=\"col_heading level1 col0\" >Charged Off</th>        <th class=\"col_heading level1 col1\" >Fully Paid</th>    </tr>    <tr>        <th class=\"index_name level0\" >grouped</th>        <th class=\"blank\" ></th>        <th class=\"blank\" ></th>    </tr></thead><tbody>\n",
       "                <tr>\n",
       "                        <th id=\"T_e4a69_level0_row0\" class=\"row_heading level0 row0\" >0</th>\n",
       "                        <td id=\"T_e4a69_row0_col0\" class=\"data row0 col0\" >66.5%</td>\n",
       "                        <td id=\"T_e4a69_row0_col1\" class=\"data row0 col1\" >64.8%</td>\n",
       "            </tr>\n",
       "            <tr>\n",
       "                        <th id=\"T_e4a69_level0_row1\" class=\"row_heading level0 row1\" >1</th>\n",
       "                        <td id=\"T_e4a69_row1_col0\" class=\"data row1 col0\" >33.5%</td>\n",
       "                        <td id=\"T_e4a69_row1_col1\" class=\"data row1 col1\" >35.2%</td>\n",
       "            </tr>\n",
       "    </tbody></table>"
      ],
      "text/plain": [
       "<pandas.io.formats.style.Styler at 0x7fed801d5fa0>"
      ]
     },
     "metadata": {},
     "execution_count": 35
    }
   ],
   "metadata": {}
  },
  {
   "cell_type": "markdown",
   "source": [
    "#### 10.\tdti: Una relación calculada utilizando los pagos mensuales totales de la deuda del prestatario sobre las obligaciones totales de la deuda, excluyendo la hipoteca y el préstamo LC solicitado, dividido por los ingresos mensuales autoinformadas del prestatario\n"
   ],
   "metadata": {}
  },
  {
   "cell_type": "code",
   "execution_count": 36,
   "source": [
    "df['dti'].hist()"
   ],
   "outputs": [
    {
     "output_type": "execute_result",
     "data": {
      "text/plain": [
       "<AxesSubplot:>"
      ]
     },
     "metadata": {},
     "execution_count": 36
    },
    {
     "output_type": "display_data",
     "data": {
      "image/png": "[encoded data removed]",
      "text/plain": [
       "<Figure size 432x288 with 1 Axes>"
      ]
     },
     "metadata": {
      "needs_background": "light"
     }
    }
   ],
   "metadata": {}
  },
  {
   "cell_type": "code",
   "execution_count": 37,
   "source": [
    "vars_num.append('dti')"
   ],
   "outputs": [],
   "metadata": {}
  },
  {
   "cell_type": "markdown",
   "source": [
    "#### 11.\tdti joint: Una relación calculada utilizando los pagos mensuales totales de los co-prestatarios sobre las obligaciones totales de deuda, excluyendo las hipotecas y el préstamo LC solicitado, dividido por los ingresos mensuales autoinformadas\n"
   ],
   "metadata": {}
  },
  {
   "cell_type": "code",
   "execution_count": 38,
   "source": [
    "df['dti_joint'].value_counts(1, dropna=False)"
   ],
   "outputs": [
    {
     "output_type": "execute_result",
     "data": {
      "text/plain": [
       "NaN     0.999996\n",
       "17.6    0.000004\n",
       "Name: dti_joint, dtype: float64"
      ]
     },
     "metadata": {},
     "execution_count": 38
    }
   ],
   "metadata": {}
  },
  {
   "cell_type": "code",
   "execution_count": 39,
   "source": [
    "df.drop('dti_joint', axis=1, inplace=True)"
   ],
   "outputs": [],
   "metadata": {}
  },
  {
   "cell_type": "markdown",
   "source": [
    "#### 12.\tearliest cr line: El mes en que se abrió la línea de crédito reportada más temprana del prestatario.\n"
   ],
   "metadata": {}
  },
  {
   "cell_type": "code",
   "execution_count": 40,
   "source": [
    "df['earliest_cr_line'].value_counts(1, dropna=False)"
   ],
   "outputs": [
    {
     "output_type": "execute_result",
     "data": {
      "text/plain": [
       "Oct-2000    0.008349\n",
       "Oct-1999    0.007768\n",
       "Oct-2001    0.007740\n",
       "Nov-2000    0.007610\n",
       "Aug-2000    0.007598\n",
       "              ...   \n",
       "Dec-1950    0.000004\n",
       "Jan-1959    0.000004\n",
       "Oct-2012    0.000004\n",
       "Mar-1965    0.000004\n",
       "Aug-1960    0.000004\n",
       "Name: earliest_cr_line, Length: 644, dtype: float64"
      ]
     },
     "metadata": {},
     "execution_count": 40
    }
   ],
   "metadata": {}
  },
  {
   "cell_type": "code",
   "execution_count": 41,
   "source": [
    "df['earliest_cr_line'] = pd.to_datetime(df['earliest_cr_line'], format=r'%b-%Y')\n",
    "vars_date.append('earliest_cr_line')"
   ],
   "outputs": [],
   "metadata": {}
  },
  {
   "cell_type": "markdown",
   "source": [
    "#### 13.\temp length: Duración del empleo en años. Los valores posibles están entre 0 y 10, donde 0 significa menos de un año y 10 significa diez o más años.\n"
   ],
   "metadata": {}
  },
  {
   "cell_type": "code",
   "execution_count": 42,
   "source": [
    "df['emp_length'].value_counts(0, dropna=False).sort_index()"
   ],
   "outputs": [
    {
     "output_type": "execute_result",
     "data": {
      "text/plain": [
       "1 year       16856\n",
       "10+ years    76881\n",
       "2 years      23561\n",
       "3 years      20380\n",
       "4 years      16197\n",
       "5 years      18059\n",
       "6 years      14753\n",
       "7 years      14085\n",
       "8 years      11849\n",
       "9 years       9567\n",
       "< 1 year     20886\n",
       "NaN           9897\n",
       "Name: emp_length, dtype: int64"
      ]
     },
     "metadata": {},
     "execution_count": 42
    }
   ],
   "metadata": {}
  },
  {
   "cell_type": "code",
   "execution_count": 43,
   "source": [
    "import numpy as np\n",
    "\n",
    "df_replace['emp_length'] = {np.nan: '00-02',\n",
    "                            '< 1 year': '00-02',\n",
    "                            '1 year': '00-02',\n",
    "                            '2 years': '00-02',\n",
    "                            '3 years': '03-05',\n",
    "                            '4 years': '03-05',\n",
    "                            '5 years': '03-05',\n",
    "                            '6 years': '06-08',\n",
    "                            '7 years': '06-08',\n",
    "                            '8 years': '06-08',\n",
    "                            '9 years': '09-99',\n",
    "                            '10+ years': '09-99'}\n",
    "\n",
    "df['emp_length'] = df['emp_length'].map(df_replace['emp_length'])\n",
    "df['emp_length'].value_counts(1, dropna=False)"
   ],
   "outputs": [
    {
     "output_type": "execute_result",
     "data": {
      "text/plain": [
       "09-99    0.341731\n",
       "00-02    0.281455\n",
       "03-05    0.215977\n",
       "06-08    0.160837\n",
       "Name: emp_length, dtype: float64"
      ]
     },
     "metadata": {},
     "execution_count": 43
    }
   ],
   "metadata": {}
  },
  {
   "cell_type": "code",
   "execution_count": 44,
   "source": [
    "vars_cat.append('emp_length')\n",
    "col_vs_tgt(df, 'emp_length')"
   ],
   "outputs": [
    {
     "output_type": "execute_result",
     "data": {
      "text/html": [
       "<style  type=\"text/css\" >\n",
       "#T_53751_row0_col0{\n",
       "            background-color:  #1865ac;\n",
       "            color:  #f1f1f1;\n",
       "        }#T_53751_row0_col1{\n",
       "            background-color:  #3d8dc4;\n",
       "            color:  #000000;\n",
       "        }#T_53751_row1_col0{\n",
       "            background-color:  #bed8ec;\n",
       "            color:  #000000;\n",
       "        }#T_53751_row1_col1{\n",
       "            background-color:  #b3d3e8;\n",
       "            color:  #000000;\n",
       "        }#T_53751_row2_col0,#T_53751_row2_col1{\n",
       "            background-color:  #f7fbff;\n",
       "            color:  #000000;\n",
       "        }#T_53751_row3_col0,#T_53751_row3_col1{\n",
       "            background-color:  #08306b;\n",
       "            color:  #f1f1f1;\n",
       "        }</style><table id=\"T_53751_\" ><thead>    <tr>        <th class=\"blank level0\" ></th>        <th class=\"col_heading level0 col0\" colspan=\"2\">id</th>    </tr>    <tr>        <th class=\"index_name level1\" >loan_status</th>        <th class=\"col_heading level1 col0\" >Charged Off</th>        <th class=\"col_heading level1 col1\" >Fully Paid</th>    </tr>    <tr>        <th class=\"index_name level0\" >grouped</th>        <th class=\"blank\" ></th>        <th class=\"blank\" ></th>    </tr></thead><tbody>\n",
       "                <tr>\n",
       "                        <th id=\"T_53751_level0_row0\" class=\"row_heading level0 row0\" >00-02</th>\n",
       "                        <td id=\"T_53751_row0_col0\" class=\"data row0 col0\" >29.6%</td>\n",
       "                        <td id=\"T_53751_row0_col1\" class=\"data row0 col1\" >27.8%</td>\n",
       "            </tr>\n",
       "            <tr>\n",
       "                        <th id=\"T_53751_level0_row1\" class=\"row_heading level0 row1\" >03-05</th>\n",
       "                        <td id=\"T_53751_row1_col0\" class=\"data row1 col0\" >21.0%</td>\n",
       "                        <td id=\"T_53751_row1_col1\" class=\"data row1 col1\" >21.7%</td>\n",
       "            </tr>\n",
       "            <tr>\n",
       "                        <th id=\"T_53751_level0_row2\" class=\"row_heading level0 row2\" >06-08</th>\n",
       "                        <td id=\"T_53751_row2_col0\" class=\"data row2 col0\" >16.5%</td>\n",
       "                        <td id=\"T_53751_row2_col1\" class=\"data row2 col1\" >16.0%</td>\n",
       "            </tr>\n",
       "            <tr>\n",
       "                        <th id=\"T_53751_level0_row3\" class=\"row_heading level0 row3\" >09-99</th>\n",
       "                        <td id=\"T_53751_row3_col0\" class=\"data row3 col0\" >33.0%</td>\n",
       "                        <td id=\"T_53751_row3_col1\" class=\"data row3 col1\" >34.4%</td>\n",
       "            </tr>\n",
       "    </tbody></table>"
      ],
      "text/plain": [
       "<pandas.io.formats.style.Styler at 0x7fed87e06280>"
      ]
     },
     "metadata": {},
     "execution_count": 44
    }
   ],
   "metadata": {}
  },
  {
   "cell_type": "markdown",
   "source": [
    "#### 14.\temp title: El título del trabajo proporcionado por el Prestatario al solicitar el préstamo.*\n"
   ],
   "metadata": {}
  },
  {
   "cell_type": "code",
   "execution_count": 45,
   "source": [
    "df['emp_title'].fillna('unknown', inplace=True)\n",
    "df['emp_title'].value_counts(1, dropna=False)"
   ],
   "outputs": [
    {
     "output_type": "execute_result",
     "data": {
      "text/plain": [
       "unknown                                    0.055070\n",
       "Manager                                    0.007673\n",
       "Teacher                                    0.007546\n",
       "Supervisor                                 0.003368\n",
       "RN                                         0.003324\n",
       "                                             ...   \n",
       "Payless Drug                               0.000004\n",
       "Empress                                    0.000004\n",
       "California State University Los Angeles    0.000004\n",
       "SIGMAnet                                   0.000004\n",
       "Union County                               0.000004\n",
       "Name: emp_title, Length: 132762, dtype: float64"
      ]
     },
     "metadata": {},
     "execution_count": 45
    }
   ],
   "metadata": {}
  },
  {
   "cell_type": "code",
   "execution_count": 46,
   "source": [
    "df['emp_title'], count_v['emp_title'] = replace_top_words(df, 'emp_title', max_features=10, stop_words=['and','of','us','inc','the','city','county','country','group','center'])\n",
    "df['emp_title'].value_counts(1, dropna=False)"
   ],
   "outputs": [
    {
     "output_type": "execute_result",
     "data": {
      "text/plain": [
       "other         0.762874\n",
       "manager       0.068158\n",
       "unknown       0.055070\n",
       "assistant     0.016749\n",
       "director      0.016678\n",
       "analyst       0.014421\n",
       "service       0.014282\n",
       "specialist    0.013124\n",
       "supervisor    0.013057\n",
       "services      0.012958\n",
       "sales         0.012630\n",
       "Name: emp_title, dtype: float64"
      ]
     },
     "metadata": {},
     "execution_count": 46
    }
   ],
   "metadata": {}
  },
  {
   "cell_type": "code",
   "execution_count": 47,
   "source": [
    "vars_cat.append('emp_title')\n",
    "col_vs_tgt(df, 'emp_title')"
   ],
   "outputs": [
    {
     "output_type": "execute_result",
     "data": {
      "text/html": [
       "<style  type=\"text/css\" >\n",
       "#T_041a5_row0_col0,#T_041a5_row2_col0,#T_041a5_row5_col1,#T_041a5_row6_col1,#T_041a5_row7_col1,#T_041a5_row8_col0,#T_041a5_row8_col1,#T_041a5_row9_col1{\n",
       "            background-color:  #f7fbff;\n",
       "            color:  #000000;\n",
       "        }#T_041a5_row0_col1,#T_041a5_row1_col1,#T_041a5_row2_col1,#T_041a5_row5_col0,#T_041a5_row7_col0,#T_041a5_row9_col0{\n",
       "            background-color:  #f6faff;\n",
       "            color:  #000000;\n",
       "        }#T_041a5_row1_col0,#T_041a5_row6_col0{\n",
       "            background-color:  #f5fafe;\n",
       "            color:  #000000;\n",
       "        }#T_041a5_row3_col0{\n",
       "            background-color:  #e9f2fa;\n",
       "            color:  #000000;\n",
       "        }#T_041a5_row3_col1{\n",
       "            background-color:  #e8f1fa;\n",
       "            color:  #000000;\n",
       "        }#T_041a5_row4_col0,#T_041a5_row4_col1{\n",
       "            background-color:  #08306b;\n",
       "            color:  #f1f1f1;\n",
       "        }#T_041a5_row10_col0{\n",
       "            background-color:  #e6f0f9;\n",
       "            color:  #000000;\n",
       "        }#T_041a5_row10_col1{\n",
       "            background-color:  #edf4fc;\n",
       "            color:  #000000;\n",
       "        }</style><table id=\"T_041a5_\" ><thead>    <tr>        <th class=\"blank level0\" ></th>        <th class=\"col_heading level0 col0\" colspan=\"2\">id</th>    </tr>    <tr>        <th class=\"index_name level1\" >loan_status</th>        <th class=\"col_heading level1 col0\" >Charged Off</th>        <th class=\"col_heading level1 col1\" >Fully Paid</th>    </tr>    <tr>        <th class=\"index_name level0\" >grouped</th>        <th class=\"blank\" ></th>        <th class=\"blank\" ></th>    </tr></thead><tbody>\n",
       "                <tr>\n",
       "                        <th id=\"T_041a5_level0_row0\" class=\"row_heading level0 row0\" >analyst</th>\n",
       "                        <td id=\"T_041a5_row0_col0\" class=\"data row0 col0\" >1.0%</td>\n",
       "                        <td id=\"T_041a5_row0_col1\" class=\"data row0 col1\" >1.5%</td>\n",
       "            </tr>\n",
       "            <tr>\n",
       "                        <th id=\"T_041a5_level0_row1\" class=\"row_heading level0 row1\" >assistant</th>\n",
       "                        <td id=\"T_041a5_row1_col0\" class=\"data row1 col0\" >1.7%</td>\n",
       "                        <td id=\"T_041a5_row1_col1\" class=\"data row1 col1\" >1.7%</td>\n",
       "            </tr>\n",
       "            <tr>\n",
       "                        <th id=\"T_041a5_level0_row2\" class=\"row_heading level0 row2\" >director</th>\n",
       "                        <td id=\"T_041a5_row2_col0\" class=\"data row2 col0\" >1.1%</td>\n",
       "                        <td id=\"T_041a5_row2_col1\" class=\"data row2 col1\" >1.8%</td>\n",
       "            </tr>\n",
       "            <tr>\n",
       "                        <th id=\"T_041a5_level0_row3\" class=\"row_heading level0 row3\" >manager</th>\n",
       "                        <td id=\"T_041a5_row3_col0\" class=\"data row3 col0\" >6.2%</td>\n",
       "                        <td id=\"T_041a5_row3_col1\" class=\"data row3 col1\" >6.9%</td>\n",
       "            </tr>\n",
       "            <tr>\n",
       "                        <th id=\"T_041a5_level0_row4\" class=\"row_heading level0 row4\" >other</th>\n",
       "                        <td id=\"T_041a5_row4_col0\" class=\"data row4 col0\" >75.4%</td>\n",
       "                        <td id=\"T_041a5_row4_col1\" class=\"data row4 col1\" >76.5%</td>\n",
       "            </tr>\n",
       "            <tr>\n",
       "                        <th id=\"T_041a5_level0_row5\" class=\"row_heading level0 row5\" >sales</th>\n",
       "                        <td id=\"T_041a5_row5_col0\" class=\"data row5 col0\" >1.5%</td>\n",
       "                        <td id=\"T_041a5_row5_col1\" class=\"data row5 col1\" >1.2%</td>\n",
       "            </tr>\n",
       "            <tr>\n",
       "                        <th id=\"T_041a5_level0_row6\" class=\"row_heading level0 row6\" >service</th>\n",
       "                        <td id=\"T_041a5_row6_col0\" class=\"data row6 col0\" >1.7%</td>\n",
       "                        <td id=\"T_041a5_row6_col1\" class=\"data row6 col1\" >1.4%</td>\n",
       "            </tr>\n",
       "            <tr>\n",
       "                        <th id=\"T_041a5_level0_row7\" class=\"row_heading level0 row7\" >services</th>\n",
       "                        <td id=\"T_041a5_row7_col0\" class=\"data row7 col0\" >1.3%</td>\n",
       "                        <td id=\"T_041a5_row7_col1\" class=\"data row7 col1\" >1.3%</td>\n",
       "            </tr>\n",
       "            <tr>\n",
       "                        <th id=\"T_041a5_level0_row8\" class=\"row_heading level0 row8\" >specialist</th>\n",
       "                        <td id=\"T_041a5_row8_col0\" class=\"data row8 col0\" >1.0%</td>\n",
       "                        <td id=\"T_041a5_row8_col1\" class=\"data row8 col1\" >1.4%</td>\n",
       "            </tr>\n",
       "            <tr>\n",
       "                        <th id=\"T_041a5_level0_row9\" class=\"row_heading level0 row9\" >supervisor</th>\n",
       "                        <td id=\"T_041a5_row9_col0\" class=\"data row9 col0\" >1.4%</td>\n",
       "                        <td id=\"T_041a5_row9_col1\" class=\"data row9 col1\" >1.3%</td>\n",
       "            </tr>\n",
       "            <tr>\n",
       "                        <th id=\"T_041a5_level0_row10\" class=\"row_heading level0 row10\" >unknown</th>\n",
       "                        <td id=\"T_041a5_row10_col0\" class=\"data row10 col0\" >7.6%</td>\n",
       "                        <td id=\"T_041a5_row10_col1\" class=\"data row10 col1\" >5.1%</td>\n",
       "            </tr>\n",
       "    </tbody></table>"
      ],
      "text/plain": [
       "<pandas.io.formats.style.Styler at 0x7fed8022cb20>"
      ]
     },
     "metadata": {},
     "execution_count": 47
    }
   ],
   "metadata": {}
  },
  {
   "cell_type": "markdown",
   "source": [
    "#### 15.\tfunded amnt: El importe total comprometido para ese préstamo en ese momento.\n"
   ],
   "metadata": {}
  },
  {
   "cell_type": "code",
   "execution_count": 48,
   "source": [
    "df['funded_amnt'].isnull().sum()"
   ],
   "outputs": [
    {
     "output_type": "execute_result",
     "data": {
      "text/plain": [
       "0"
      ]
     },
     "metadata": {},
     "execution_count": 48
    }
   ],
   "metadata": {}
  },
  {
   "cell_type": "code",
   "execution_count": 49,
   "source": [
    "df['funded_amnt'].hist()"
   ],
   "outputs": [
    {
     "output_type": "execute_result",
     "data": {
      "text/plain": [
       "<AxesSubplot:>"
      ]
     },
     "metadata": {},
     "execution_count": 49
    },
    {
     "output_type": "display_data",
     "data": {
      "image/png": "[encoded data removed]",
      "text/plain": [
       "<Figure size 432x288 with 1 Axes>"
      ]
     },
     "metadata": {
      "needs_background": "light"
     }
    }
   ],
   "metadata": {}
  },
  {
   "cell_type": "code",
   "execution_count": 50,
   "source": [
    "vars_num.append('funded_amnt')"
   ],
   "outputs": [],
   "metadata": {}
  },
  {
   "cell_type": "markdown",
   "source": [
    "#### 16.\tfunded amnt inv: La cantidad total comprometida por los inversores para ese préstamo en ese momento.\n"
   ],
   "metadata": {}
  },
  {
   "cell_type": "code",
   "execution_count": 51,
   "source": [
    "df['funded_amnt_inv'].isnull().sum()"
   ],
   "outputs": [
    {
     "output_type": "execute_result",
     "data": {
      "text/plain": [
       "0"
      ]
     },
     "metadata": {},
     "execution_count": 51
    }
   ],
   "metadata": {}
  },
  {
   "cell_type": "code",
   "execution_count": 52,
   "source": [
    "df[['funded_amnt_inv','funded_amnt']].corr()"
   ],
   "outputs": [
    {
     "output_type": "execute_result",
     "data": {
      "text/html": [
       "<div>\n",
       "<style scoped>\n",
       "    .dataframe tbody tr th:only-of-type {\n",
       "        vertical-align: middle;\n",
       "    }\n",
       "\n",
       "    .dataframe tbody tr th {\n",
       "        vertical-align: top;\n",
       "    }\n",
       "\n",
       "    .dataframe thead th {\n",
       "        text-align: right;\n",
       "    }\n",
       "</style>\n",
       "<table border=\"1\" class=\"dataframe\">\n",
       "  <thead>\n",
       "    <tr style=\"text-align: right;\">\n",
       "      <th></th>\n",
       "      <th>funded_amnt_inv</th>\n",
       "      <th>funded_amnt</th>\n",
       "    </tr>\n",
       "  </thead>\n",
       "  <tbody>\n",
       "    <tr>\n",
       "      <th>funded_amnt_inv</th>\n",
       "      <td>1.000000</td>\n",
       "      <td>0.994612</td>\n",
       "    </tr>\n",
       "    <tr>\n",
       "      <th>funded_amnt</th>\n",
       "      <td>0.994612</td>\n",
       "      <td>1.000000</td>\n",
       "    </tr>\n",
       "  </tbody>\n",
       "</table>\n",
       "</div>"
      ],
      "text/plain": [
       "                 funded_amnt_inv  funded_amnt\n",
       "funded_amnt_inv         1.000000     0.994612\n",
       "funded_amnt             0.994612     1.000000"
      ]
     },
     "metadata": {},
     "execution_count": 52
    }
   ],
   "metadata": {}
  },
  {
   "cell_type": "code",
   "execution_count": 53,
   "source": [
    "vars_num.append('funded_amnt_inv')"
   ],
   "outputs": [],
   "metadata": {}
  },
  {
   "cell_type": "markdown",
   "source": [
    "#### 17.\tgrade: LC asignó grado de préstamo.\n"
   ],
   "metadata": {}
  },
  {
   "cell_type": "code",
   "execution_count": 54,
   "source": [
    "df['grade'].value_counts(1, dropna=False)"
   ],
   "outputs": [
    {
     "output_type": "execute_result",
     "data": {
      "text/plain": [
       "B    0.300687\n",
       "C    0.258211\n",
       "A    0.167197\n",
       "D    0.160121\n",
       "E    0.075843\n",
       "F    0.030280\n",
       "G    0.007661\n",
       "Name: grade, dtype: float64"
      ]
     },
     "metadata": {},
     "execution_count": 54
    }
   ],
   "metadata": {}
  },
  {
   "cell_type": "code",
   "execution_count": 55,
   "source": [
    "vars_cat.append('grade')\n",
    "col_vs_tgt(df, 'grade')"
   ],
   "outputs": [
    {
     "output_type": "execute_result",
     "data": {
      "text/html": [
       "<style  type=\"text/css\" >\n",
       "#T_ef283_row0_col0{\n",
       "            background-color:  #d9e7f5;\n",
       "            color:  #000000;\n",
       "        }#T_ef283_row0_col1{\n",
       "            background-color:  #4e9acb;\n",
       "            color:  #000000;\n",
       "        }#T_ef283_row1_col0{\n",
       "            background-color:  #2474b7;\n",
       "            color:  #f1f1f1;\n",
       "        }#T_ef283_row1_col1,#T_ef283_row2_col0{\n",
       "            background-color:  #08306b;\n",
       "            color:  #f1f1f1;\n",
       "        }#T_ef283_row2_col1{\n",
       "            background-color:  #1967ad;\n",
       "            color:  #f1f1f1;\n",
       "        }#T_ef283_row3_col0{\n",
       "            background-color:  #135fa7;\n",
       "            color:  #f1f1f1;\n",
       "        }#T_ef283_row3_col1{\n",
       "            background-color:  #82bbdb;\n",
       "            color:  #000000;\n",
       "        }#T_ef283_row4_col0{\n",
       "            background-color:  #7ab6d9;\n",
       "            color:  #000000;\n",
       "        }#T_ef283_row4_col1,#T_ef283_row5_col0{\n",
       "            background-color:  #d3e4f3;\n",
       "            color:  #000000;\n",
       "        }#T_ef283_row5_col1{\n",
       "            background-color:  #ecf4fb;\n",
       "            color:  #000000;\n",
       "        }#T_ef283_row6_col0,#T_ef283_row6_col1{\n",
       "            background-color:  #f7fbff;\n",
       "            color:  #000000;\n",
       "        }</style><table id=\"T_ef283_\" ><thead>    <tr>        <th class=\"blank level0\" ></th>        <th class=\"col_heading level0 col0\" colspan=\"2\">id</th>    </tr>    <tr>        <th class=\"index_name level1\" >loan_status</th>        <th class=\"col_heading level1 col0\" >Charged Off</th>        <th class=\"col_heading level1 col1\" >Fully Paid</th>    </tr>    <tr>        <th class=\"index_name level0\" >grouped</th>        <th class=\"blank\" ></th>        <th class=\"blank\" ></th>    </tr></thead><tbody>\n",
       "                <tr>\n",
       "                        <th id=\"T_ef283_level0_row0\" class=\"row_heading level0 row0\" >A</th>\n",
       "                        <td id=\"T_ef283_row0_col0\" class=\"data row0 col0\" >5.8%</td>\n",
       "                        <td id=\"T_ef283_row0_col1\" class=\"data row0 col1\" >19.1%</td>\n",
       "            </tr>\n",
       "            <tr>\n",
       "                        <th id=\"T_ef283_level0_row1\" class=\"row_heading level0 row1\" >B</th>\n",
       "                        <td id=\"T_ef283_row1_col0\" class=\"data row1 col0\" >21.0%</td>\n",
       "                        <td id=\"T_ef283_row1_col1\" class=\"data row1 col1\" >32.0%</td>\n",
       "            </tr>\n",
       "            <tr>\n",
       "                        <th id=\"T_ef283_level0_row2\" class=\"row_heading level0 row2\" >C</th>\n",
       "                        <td id=\"T_ef283_row2_col0\" class=\"data row2 col0\" >27.9%</td>\n",
       "                        <td id=\"T_ef283_row2_col1\" class=\"data row2 col1\" >25.4%</td>\n",
       "            </tr>\n",
       "            <tr>\n",
       "                        <th id=\"T_ef283_level0_row3\" class=\"row_heading level0 row3\" >D</th>\n",
       "                        <td id=\"T_ef283_row3_col0\" class=\"data row3 col0\" >23.2%</td>\n",
       "                        <td id=\"T_ef283_row3_col1\" class=\"data row3 col1\" >14.5%</td>\n",
       "            </tr>\n",
       "            <tr>\n",
       "                        <th id=\"T_ef283_level0_row4\" class=\"row_heading level0 row4\" >E</th>\n",
       "                        <td id=\"T_ef283_row4_col0\" class=\"data row4 col0\" >13.8%</td>\n",
       "                        <td id=\"T_ef283_row4_col1\" class=\"data row4 col1\" >6.2%</td>\n",
       "            </tr>\n",
       "            <tr>\n",
       "                        <th id=\"T_ef283_level0_row5\" class=\"row_heading level0 row5\" >F</th>\n",
       "                        <td id=\"T_ef283_row5_col0\" class=\"data row5 col0\" >6.5%</td>\n",
       "                        <td id=\"T_ef283_row5_col1\" class=\"data row5 col1\" >2.3%</td>\n",
       "            </tr>\n",
       "            <tr>\n",
       "                        <th id=\"T_ef283_level0_row6\" class=\"row_heading level0 row6\" >G</th>\n",
       "                        <td id=\"T_ef283_row6_col0\" class=\"data row6 col0\" >1.8%</td>\n",
       "                        <td id=\"T_ef283_row6_col1\" class=\"data row6 col1\" >0.6%</td>\n",
       "            </tr>\n",
       "    </tbody></table>"
      ],
      "text/plain": [
       "<pandas.io.formats.style.Styler at 0x7feda11f06d0>"
      ]
     },
     "metadata": {},
     "execution_count": 55
    }
   ],
   "metadata": {}
  },
  {
   "cell_type": "markdown",
   "source": [
    "#### 18.\thome ownership: El estado de propiedad de la vivienda proporcionado por el prestatario durante el registro. Nuestros valores son: ALQUILER, PROPIO, HIPOTECA, OTRO.\n"
   ],
   "metadata": {}
  },
  {
   "cell_type": "code",
   "execution_count": 56,
   "source": [
    "df['home_ownership'].value_counts(1, dropna=False)"
   ],
   "outputs": [
    {
     "output_type": "execute_result",
     "data": {
      "text/plain": [
       "MORTGAGE    0.493511\n",
       "RENT        0.418850\n",
       "OWN         0.086907\n",
       "OTHER       0.000557\n",
       "NONE        0.000170\n",
       "ANY         0.000004\n",
       "Name: home_ownership, dtype: float64"
      ]
     },
     "metadata": {},
     "execution_count": 56
    }
   ],
   "metadata": {}
  },
  {
   "cell_type": "code",
   "execution_count": 57,
   "source": [
    "df_replace['home_ownership'] = {'MORTGAGE': 'MORTGAGE',\n",
    "                                'RENT': 'RENT',\n",
    "                                'OWN': 'OTHER',\n",
    "                                'OTHER': 'OTHER',\n",
    "                                'NONE': 'OTHER',\n",
    "                                'ANY': 'OTHER'}\n",
    "                                \n",
    "df['home_ownership'] = df['home_ownership'].map(df_replace['home_ownership'])\n",
    "df['home_ownership'].value_counts(1, dropna=False)"
   ],
   "outputs": [
    {
     "output_type": "execute_result",
     "data": {
      "text/plain": [
       "MORTGAGE    0.493511\n",
       "RENT        0.418850\n",
       "OTHER       0.087639\n",
       "Name: home_ownership, dtype: float64"
      ]
     },
     "metadata": {},
     "execution_count": 57
    }
   ],
   "metadata": {}
  },
  {
   "cell_type": "code",
   "execution_count": 58,
   "source": [
    "vars_cat.append('home_ownership')\n",
    "col_vs_tgt(df, 'home_ownership')"
   ],
   "outputs": [
    {
     "output_type": "execute_result",
     "data": {
      "text/html": [
       "<style  type=\"text/css\" >\n",
       "#T_2e2cf_row0_col0{\n",
       "            background-color:  #08468b;\n",
       "            color:  #f1f1f1;\n",
       "        }#T_2e2cf_row0_col1,#T_2e2cf_row2_col0{\n",
       "            background-color:  #08306b;\n",
       "            color:  #f1f1f1;\n",
       "        }#T_2e2cf_row1_col0,#T_2e2cf_row1_col1{\n",
       "            background-color:  #f7fbff;\n",
       "            color:  #000000;\n",
       "        }#T_2e2cf_row2_col1{\n",
       "            background-color:  #1d6cb1;\n",
       "            color:  #f1f1f1;\n",
       "        }</style><table id=\"T_2e2cf_\" ><thead>    <tr>        <th class=\"blank level0\" ></th>        <th class=\"col_heading level0 col0\" colspan=\"2\">id</th>    </tr>    <tr>        <th class=\"index_name level1\" >loan_status</th>        <th class=\"col_heading level1 col0\" >Charged Off</th>        <th class=\"col_heading level1 col1\" >Fully Paid</th>    </tr>    <tr>        <th class=\"index_name level0\" >grouped</th>        <th class=\"blank\" ></th>        <th class=\"blank\" ></th>    </tr></thead><tbody>\n",
       "                <tr>\n",
       "                        <th id=\"T_2e2cf_level0_row0\" class=\"row_heading level0 row0\" >MORTGAGE</th>\n",
       "                        <td id=\"T_2e2cf_row0_col0\" class=\"data row0 col0\" >43.9%</td>\n",
       "                        <td id=\"T_2e2cf_row0_col1\" class=\"data row0 col1\" >50.5%</td>\n",
       "            </tr>\n",
       "            <tr>\n",
       "                        <th id=\"T_2e2cf_level0_row1\" class=\"row_heading level0 row1\" >OTHER</th>\n",
       "                        <td id=\"T_2e2cf_row1_col0\" class=\"data row1 col0\" >9.0%</td>\n",
       "                        <td id=\"T_2e2cf_row1_col1\" class=\"data row1 col1\" >8.7%</td>\n",
       "            </tr>\n",
       "            <tr>\n",
       "                        <th id=\"T_2e2cf_level0_row2\" class=\"row_heading level0 row2\" >RENT</th>\n",
       "                        <td id=\"T_2e2cf_row2_col0\" class=\"data row2 col0\" >47.1%</td>\n",
       "                        <td id=\"T_2e2cf_row2_col1\" class=\"data row2 col1\" >40.7%</td>\n",
       "            </tr>\n",
       "    </tbody></table>"
      ],
      "text/plain": [
       "<pandas.io.formats.style.Styler at 0x7fed7ff55b20>"
      ]
     },
     "metadata": {},
     "execution_count": 58
    }
   ],
   "metadata": {}
  },
  {
   "cell_type": "markdown",
   "source": [
    "#### 19.\tid: Una LC única asignada ID para el listado de préstamos.\n"
   ],
   "metadata": {}
  },
  {
   "cell_type": "code",
   "execution_count": 59,
   "source": [
    "df['id'].isnull().sum()"
   ],
   "outputs": [
    {
     "output_type": "execute_result",
     "data": {
      "text/plain": [
       "0"
      ]
     },
     "metadata": {},
     "execution_count": 59
    }
   ],
   "metadata": {}
  },
  {
   "cell_type": "markdown",
   "source": [
    "#### 20.\til util: Relación entre el saldo corriente total y el límite de crédito/crédito alto en todos los valores de la instalación.\n"
   ],
   "metadata": {}
  },
  {
   "cell_type": "code",
   "execution_count": 60,
   "source": [
    "df['il_util'].value_counts(1, dropna=False)"
   ],
   "outputs": [
    {
     "output_type": "execute_result",
     "data": {
      "text/plain": [
       "NaN      0.999502\n",
       "78.7     0.000008\n",
       "88.3     0.000008\n",
       "77.6     0.000008\n",
       "97.5     0.000008\n",
       "           ...   \n",
       "96.6     0.000004\n",
       "87.0     0.000004\n",
       "101.3    0.000004\n",
       "74.8     0.000004\n",
       "99.5     0.000004\n",
       "Name: il_util, Length: 117, dtype: float64"
      ]
     },
     "metadata": {},
     "execution_count": 60
    }
   ],
   "metadata": {}
  },
  {
   "cell_type": "code",
   "execution_count": 61,
   "source": [
    "aux = df.copy()\n",
    "aux['grouped'] = (df['il_util'].notnull())*1\n",
    "col_vs_tgt(aux, 'grouped')"
   ],
   "outputs": [
    {
     "output_type": "execute_result",
     "data": {
      "text/html": [
       "<style  type=\"text/css\" >\n",
       "#T_96892_row0_col0,#T_96892_row1_col0,#T_96892_row1_col1{\n",
       "            background-color:  #f7fbff;\n",
       "            color:  #000000;\n",
       "        }#T_96892_row0_col1{\n",
       "            background-color:  #08306b;\n",
       "            color:  #f1f1f1;\n",
       "        }</style><table id=\"T_96892_\" ><thead>    <tr>        <th class=\"blank level0\" ></th>        <th class=\"col_heading level0 col0\" colspan=\"2\">id</th>    </tr>    <tr>        <th class=\"index_name level1\" >loan_status</th>        <th class=\"col_heading level1 col0\" >Charged Off</th>        <th class=\"col_heading level1 col1\" >Fully Paid</th>    </tr>    <tr>        <th class=\"index_name level0\" >grouped</th>        <th class=\"blank\" ></th>        <th class=\"blank\" ></th>    </tr></thead><tbody>\n",
       "                <tr>\n",
       "                        <th id=\"T_96892_level0_row0\" class=\"row_heading level0 row0\" >0</th>\n",
       "                        <td id=\"T_96892_row0_col0\" class=\"data row0 col0\" >100.0%</td>\n",
       "                        <td id=\"T_96892_row0_col1\" class=\"data row0 col1\" >99.9%</td>\n",
       "            </tr>\n",
       "            <tr>\n",
       "                        <th id=\"T_96892_level0_row1\" class=\"row_heading level0 row1\" >1</th>\n",
       "                        <td id=\"T_96892_row1_col0\" class=\"data row1 col0\" >nan%</td>\n",
       "                        <td id=\"T_96892_row1_col1\" class=\"data row1 col1\" >0.1%</td>\n",
       "            </tr>\n",
       "    </tbody></table>"
      ],
      "text/plain": [
       "<pandas.io.formats.style.Styler at 0x7fed7f928bb0>"
      ]
     },
     "metadata": {},
     "execution_count": 61
    }
   ],
   "metadata": {}
  },
  {
   "cell_type": "code",
   "execution_count": 62,
   "source": [
    "df.drop('il_util', axis=1, inplace=True)"
   ],
   "outputs": [],
   "metadata": {}
  },
  {
   "cell_type": "markdown",
   "source": [
    "#### 21.\tinitial list status: El estado de listado inicial del préstamo. Los valores posibles son – W, F.\n"
   ],
   "metadata": {}
  },
  {
   "cell_type": "code",
   "execution_count": 63,
   "source": [
    "df['initial_list_status'].value_counts(1, dropna=False)"
   ],
   "outputs": [
    {
     "output_type": "execute_result",
     "data": {
      "text/plain": [
       "f    0.719762\n",
       "w    0.280238\n",
       "Name: initial_list_status, dtype: float64"
      ]
     },
     "metadata": {},
     "execution_count": 63
    }
   ],
   "metadata": {}
  },
  {
   "cell_type": "code",
   "execution_count": 64,
   "source": [
    "df_replace['initial_list_status'] = {'f':0, 'w':1}\n",
    "\n",
    "df['initial_list_status'] = df['initial_list_status'].map(df_replace['initial_list_status'])\n",
    "\n",
    "vars_bin.append('initial_list_status')\n",
    "col_vs_tgt(df, 'initial_list_status')"
   ],
   "outputs": [
    {
     "output_type": "execute_result",
     "data": {
      "text/html": [
       "<style  type=\"text/css\" >\n",
       "#T_78ec5_row0_col0,#T_78ec5_row0_col1{\n",
       "            background-color:  #08306b;\n",
       "            color:  #f1f1f1;\n",
       "        }#T_78ec5_row1_col0,#T_78ec5_row1_col1{\n",
       "            background-color:  #f7fbff;\n",
       "            color:  #000000;\n",
       "        }</style><table id=\"T_78ec5_\" ><thead>    <tr>        <th class=\"blank level0\" ></th>        <th class=\"col_heading level0 col0\" colspan=\"2\">id</th>    </tr>    <tr>        <th class=\"index_name level1\" >loan_status</th>        <th class=\"col_heading level1 col0\" >Charged Off</th>        <th class=\"col_heading level1 col1\" >Fully Paid</th>    </tr>    <tr>        <th class=\"index_name level0\" >grouped</th>        <th class=\"blank\" ></th>        <th class=\"blank\" ></th>    </tr></thead><tbody>\n",
       "                <tr>\n",
       "                        <th id=\"T_78ec5_level0_row0\" class=\"row_heading level0 row0\" >0</th>\n",
       "                        <td id=\"T_78ec5_row0_col0\" class=\"data row0 col0\" >72.8%</td>\n",
       "                        <td id=\"T_78ec5_row0_col1\" class=\"data row0 col1\" >71.8%</td>\n",
       "            </tr>\n",
       "            <tr>\n",
       "                        <th id=\"T_78ec5_level0_row1\" class=\"row_heading level0 row1\" >1</th>\n",
       "                        <td id=\"T_78ec5_row1_col0\" class=\"data row1 col0\" >27.2%</td>\n",
       "                        <td id=\"T_78ec5_row1_col1\" class=\"data row1 col1\" >28.2%</td>\n",
       "            </tr>\n",
       "    </tbody></table>"
      ],
      "text/plain": [
       "<pandas.io.formats.style.Styler at 0x7feda0f62460>"
      ]
     },
     "metadata": {},
     "execution_count": 64
    }
   ],
   "metadata": {}
  },
  {
   "cell_type": "markdown",
   "source": [
    "#### 22.\tinq fi: Número de consultas de finanzas personales.\n"
   ],
   "metadata": {}
  },
  {
   "cell_type": "code",
   "execution_count": 65,
   "source": [
    "df['inq_fi'].value_counts(1, dropna=False)"
   ],
   "outputs": [
    {
     "output_type": "execute_result",
     "data": {
      "text/plain": [
       "NaN    0.999431\n",
       "0.0    0.000245\n",
       "1.0    0.000186\n",
       "2.0    0.000047\n",
       "3.0    0.000028\n",
       "4.0    0.000020\n",
       "7.0    0.000016\n",
       "5.0    0.000016\n",
       "6.0    0.000008\n",
       "9.0    0.000004\n",
       "Name: inq_fi, dtype: float64"
      ]
     },
     "metadata": {},
     "execution_count": 65
    }
   ],
   "metadata": {}
  },
  {
   "cell_type": "code",
   "execution_count": 66,
   "source": [
    "aux = df.copy()\n",
    "aux['grouped'] = (df['inq_fi'].notnull())*1\n",
    "col_vs_tgt(aux, 'grouped')"
   ],
   "outputs": [
    {
     "output_type": "execute_result",
     "data": {
      "text/html": [
       "<style  type=\"text/css\" >\n",
       "#T_886b3_row0_col0,#T_886b3_row1_col0,#T_886b3_row1_col1{\n",
       "            background-color:  #f7fbff;\n",
       "            color:  #000000;\n",
       "        }#T_886b3_row0_col1{\n",
       "            background-color:  #08306b;\n",
       "            color:  #f1f1f1;\n",
       "        }</style><table id=\"T_886b3_\" ><thead>    <tr>        <th class=\"blank level0\" ></th>        <th class=\"col_heading level0 col0\" colspan=\"2\">id</th>    </tr>    <tr>        <th class=\"index_name level1\" >loan_status</th>        <th class=\"col_heading level1 col0\" >Charged Off</th>        <th class=\"col_heading level1 col1\" >Fully Paid</th>    </tr>    <tr>        <th class=\"index_name level0\" >grouped</th>        <th class=\"blank\" ></th>        <th class=\"blank\" ></th>    </tr></thead><tbody>\n",
       "                <tr>\n",
       "                        <th id=\"T_886b3_level0_row0\" class=\"row_heading level0 row0\" >0</th>\n",
       "                        <td id=\"T_886b3_row0_col0\" class=\"data row0 col0\" >100.0%</td>\n",
       "                        <td id=\"T_886b3_row0_col1\" class=\"data row0 col1\" >99.9%</td>\n",
       "            </tr>\n",
       "            <tr>\n",
       "                        <th id=\"T_886b3_level0_row1\" class=\"row_heading level0 row1\" >1</th>\n",
       "                        <td id=\"T_886b3_row1_col0\" class=\"data row1 col0\" >nan%</td>\n",
       "                        <td id=\"T_886b3_row1_col1\" class=\"data row1 col1\" >0.1%</td>\n",
       "            </tr>\n",
       "    </tbody></table>"
      ],
      "text/plain": [
       "<pandas.io.formats.style.Styler at 0x7fed80247190>"
      ]
     },
     "metadata": {},
     "execution_count": 66
    }
   ],
   "metadata": {}
  },
  {
   "cell_type": "code",
   "execution_count": 67,
   "source": [
    "df.drop('inq_fi', axis=1, inplace=True)"
   ],
   "outputs": [],
   "metadata": {}
  },
  {
   "cell_type": "markdown",
   "source": [
    "#### 23.\tinq last 12m: Número de consultas de crédito en los últimos 12 meses.\n"
   ],
   "metadata": {}
  },
  {
   "cell_type": "code",
   "execution_count": 68,
   "source": [
    "df['inq_last_12m'].value_counts(1, dropna=False)"
   ],
   "outputs": [
    {
     "output_type": "execute_result",
     "data": {
      "text/plain": [
       " NaN     0.999431\n",
       " 2.0     0.000119\n",
       " 1.0     0.000099\n",
       " 0.0     0.000075\n",
       " 3.0     0.000075\n",
       "-4.0     0.000055\n",
       " 6.0     0.000032\n",
       " 4.0     0.000024\n",
       " 7.0     0.000024\n",
       " 10.0    0.000016\n",
       " 5.0     0.000016\n",
       " 12.0    0.000012\n",
       " 8.0     0.000004\n",
       " 19.0    0.000004\n",
       " 16.0    0.000004\n",
       " 13.0    0.000004\n",
       " 11.0    0.000004\n",
       " 15.0    0.000004\n",
       "Name: inq_last_12m, dtype: float64"
      ]
     },
     "metadata": {},
     "execution_count": 68
    }
   ],
   "metadata": {}
  },
  {
   "cell_type": "code",
   "execution_count": 69,
   "source": [
    "aux = df.copy()\n",
    "aux['aux'] = (aux['inq_last_12m'].notnull())*1\n",
    "col_vs_tgt(aux, 'aux')"
   ],
   "outputs": [
    {
     "output_type": "execute_result",
     "data": {
      "text/html": [
       "<style  type=\"text/css\" >\n",
       "#T_06466_row0_col0,#T_06466_row1_col0,#T_06466_row1_col1{\n",
       "            background-color:  #f7fbff;\n",
       "            color:  #000000;\n",
       "        }#T_06466_row0_col1{\n",
       "            background-color:  #08306b;\n",
       "            color:  #f1f1f1;\n",
       "        }</style><table id=\"T_06466_\" ><thead>    <tr>        <th class=\"blank level0\" ></th>        <th class=\"col_heading level0 col0\" colspan=\"2\">id</th>    </tr>    <tr>        <th class=\"index_name level1\" >loan_status</th>        <th class=\"col_heading level1 col0\" >Charged Off</th>        <th class=\"col_heading level1 col1\" >Fully Paid</th>    </tr>    <tr>        <th class=\"index_name level0\" >grouped</th>        <th class=\"blank\" ></th>        <th class=\"blank\" ></th>    </tr></thead><tbody>\n",
       "                <tr>\n",
       "                        <th id=\"T_06466_level0_row0\" class=\"row_heading level0 row0\" >0</th>\n",
       "                        <td id=\"T_06466_row0_col0\" class=\"data row0 col0\" >100.0%</td>\n",
       "                        <td id=\"T_06466_row0_col1\" class=\"data row0 col1\" >99.9%</td>\n",
       "            </tr>\n",
       "            <tr>\n",
       "                        <th id=\"T_06466_level0_row1\" class=\"row_heading level0 row1\" >1</th>\n",
       "                        <td id=\"T_06466_row1_col0\" class=\"data row1 col0\" >nan%</td>\n",
       "                        <td id=\"T_06466_row1_col1\" class=\"data row1 col1\" >0.1%</td>\n",
       "            </tr>\n",
       "    </tbody></table>"
      ],
      "text/plain": [
       "<pandas.io.formats.style.Styler at 0x7feda0f468e0>"
      ]
     },
     "metadata": {},
     "execution_count": 69
    }
   ],
   "metadata": {}
  },
  {
   "cell_type": "code",
   "execution_count": 70,
   "source": [
    "df.drop('inq_last_12m', axis=1, inplace=True)"
   ],
   "outputs": [],
   "metadata": {}
  },
  {
   "cell_type": "markdown",
   "source": [
    "#### 24.\tinq last 6mths: El número de consultas en los últimos 6 meses (excluyendo las consultas de automóviles e hipotecas).\n"
   ],
   "metadata": {}
  },
  {
   "cell_type": "code",
   "execution_count": 71,
   "source": [
    "df['inq_last_6mths'].value_counts(1, dropna=False)"
   ],
   "outputs": [
    {
     "output_type": "execute_result",
     "data": {
      "text/plain": [
       "0.0    0.489234\n",
       "1.0    0.287523\n",
       "2.0    0.137439\n",
       "3.0    0.063482\n",
       "4.0    0.014595\n",
       "5.0    0.005431\n",
       "6.0    0.002044\n",
       "7.0    0.000182\n",
       "8.0    0.000071\n",
       "Name: inq_last_6mths, dtype: float64"
      ]
     },
     "metadata": {},
     "execution_count": 71
    }
   ],
   "metadata": {}
  },
  {
   "cell_type": "code",
   "execution_count": 72,
   "source": [
    "df_replace['inq_last_6mths'] = {x:str(x) if x<3 else '>2' for x in range(11)}\n",
    "\n",
    "df['inq_last_6mths'] = df['inq_last_6mths'].map(df_replace['inq_last_6mths'])\n",
    "df['inq_last_6mths'].value_counts(1, dropna=False)"
   ],
   "outputs": [
    {
     "output_type": "execute_result",
     "data": {
      "text/plain": [
       "0     0.489234\n",
       "1     0.287523\n",
       "2     0.137439\n",
       ">2    0.085804\n",
       "Name: inq_last_6mths, dtype: float64"
      ]
     },
     "metadata": {},
     "execution_count": 72
    }
   ],
   "metadata": {}
  },
  {
   "cell_type": "code",
   "execution_count": 73,
   "source": [
    "vars_cat.append('inq_last_6mths')\n",
    "col_vs_tgt(df, 'inq_last_6mths')"
   ],
   "outputs": [
    {
     "output_type": "execute_result",
     "data": {
      "text/html": [
       "<style  type=\"text/css\" >\n",
       "#T_3af3f_row0_col0,#T_3af3f_row0_col1{\n",
       "            background-color:  #08306b;\n",
       "            color:  #f1f1f1;\n",
       "        }#T_3af3f_row1_col0{\n",
       "            background-color:  #4f9bcb;\n",
       "            color:  #000000;\n",
       "        }#T_3af3f_row1_col1{\n",
       "            background-color:  #71b1d7;\n",
       "            color:  #000000;\n",
       "        }#T_3af3f_row2_col0{\n",
       "            background-color:  #d9e8f5;\n",
       "            color:  #000000;\n",
       "        }#T_3af3f_row2_col1{\n",
       "            background-color:  #dfebf7;\n",
       "            color:  #000000;\n",
       "        }#T_3af3f_row3_col0,#T_3af3f_row3_col1{\n",
       "            background-color:  #f7fbff;\n",
       "            color:  #000000;\n",
       "        }</style><table id=\"T_3af3f_\" ><thead>    <tr>        <th class=\"blank level0\" ></th>        <th class=\"col_heading level0 col0\" colspan=\"2\">id</th>    </tr>    <tr>        <th class=\"index_name level1\" >loan_status</th>        <th class=\"col_heading level1 col0\" >Charged Off</th>        <th class=\"col_heading level1 col1\" >Fully Paid</th>    </tr>    <tr>        <th class=\"index_name level0\" >grouped</th>        <th class=\"blank\" ></th>        <th class=\"blank\" ></th>    </tr></thead><tbody>\n",
       "                <tr>\n",
       "                        <th id=\"T_3af3f_level0_row0\" class=\"row_heading level0 row0\" >0</th>\n",
       "                        <td id=\"T_3af3f_row0_col0\" class=\"data row0 col0\" >43.4%</td>\n",
       "                        <td id=\"T_3af3f_row0_col1\" class=\"data row0 col1\" >50.1%</td>\n",
       "            </tr>\n",
       "            <tr>\n",
       "                        <th id=\"T_3af3f_level0_row1\" class=\"row_heading level0 row1\" >1</th>\n",
       "                        <td id=\"T_3af3f_row1_col0\" class=\"data row1 col0\" >29.9%</td>\n",
       "                        <td id=\"T_3af3f_row1_col1\" class=\"data row1 col1\" >28.5%</td>\n",
       "            </tr>\n",
       "            <tr>\n",
       "                        <th id=\"T_3af3f_level0_row2\" class=\"row_heading level0 row2\" >2</th>\n",
       "                        <td id=\"T_3af3f_row2_col0\" class=\"data row2 col0\" >15.8%</td>\n",
       "                        <td id=\"T_3af3f_row2_col1\" class=\"data row2 col1\" >13.3%</td>\n",
       "            </tr>\n",
       "            <tr>\n",
       "                        <th id=\"T_3af3f_level0_row3\" class=\"row_heading level0 row3\" >>2</th>\n",
       "                        <td id=\"T_3af3f_row3_col0\" class=\"data row3 col0\" >10.9%</td>\n",
       "                        <td id=\"T_3af3f_row3_col1\" class=\"data row3 col1\" >8.1%</td>\n",
       "            </tr>\n",
       "    </tbody></table>"
      ],
      "text/plain": [
       "<pandas.io.formats.style.Styler at 0x7fed7ebe01c0>"
      ]
     },
     "metadata": {},
     "execution_count": 73
    }
   ],
   "metadata": {}
  },
  {
   "cell_type": "markdown",
   "source": [
    "#### 25.\tinstallment: El pago mensual adeudado por el prestatario si el préstamo se origina.\n"
   ],
   "metadata": {}
  },
  {
   "cell_type": "code",
   "execution_count": 74,
   "source": [
    "df['installment'].hist()"
   ],
   "outputs": [
    {
     "output_type": "execute_result",
     "data": {
      "text/plain": [
       "<AxesSubplot:>"
      ]
     },
     "metadata": {},
     "execution_count": 74
    },
    {
     "output_type": "display_data",
     "data": {
      "image/png": "[encoded data removed]",
      "text/plain": [
       "<Figure size 432x288 with 1 Axes>"
      ]
     },
     "metadata": {
      "needs_background": "light"
     }
    }
   ],
   "metadata": {}
  },
  {
   "cell_type": "code",
   "execution_count": 75,
   "source": [
    "vars_num.append('installment')"
   ],
   "outputs": [],
   "metadata": {}
  },
  {
   "cell_type": "markdown",
   "source": [
    "#### 26.\tint rate: Tasa de interés del préstamo.\n"
   ],
   "metadata": {}
  },
  {
   "cell_type": "code",
   "execution_count": 76,
   "source": [
    "df['int_rate'].hist()"
   ],
   "outputs": [
    {
     "output_type": "execute_result",
     "data": {
      "text/plain": [
       "<AxesSubplot:>"
      ]
     },
     "metadata": {},
     "execution_count": 76
    },
    {
     "output_type": "display_data",
     "data": {
      "image/png": "[encoded data removed]",
      "text/plain": [
       "<Figure size 432x288 with 1 Axes>"
      ]
     },
     "metadata": {
      "needs_background": "light"
     }
    }
   ],
   "metadata": {}
  },
  {
   "cell_type": "code",
   "execution_count": 77,
   "source": [
    "vars_num.append('int_rate')"
   ],
   "outputs": [],
   "metadata": {}
  },
  {
   "cell_type": "markdown",
   "source": [
    "#### 27.\tissue d: El mes en que se financió el préstamo\n"
   ],
   "metadata": {}
  },
  {
   "cell_type": "code",
   "execution_count": 78,
   "source": [
    "df['issue_d'].value_counts(1, dropna=False)"
   ],
   "outputs": [
    {
     "output_type": "execute_result",
     "data": {
      "text/plain": [
       "Oct-2014    0.034498\n",
       "Jul-2014    0.033707\n",
       "Apr-2014    0.026493\n",
       "Nov-2013    0.026256\n",
       "Oct-2013    0.026232\n",
       "              ...   \n",
       "Aug-2007    0.000130\n",
       "Sep-2008    0.000126\n",
       "Jul-2007    0.000119\n",
       "Sep-2007    0.000071\n",
       "Jun-2007    0.000004\n",
       "Name: issue_d, Length: 103, dtype: float64"
      ]
     },
     "metadata": {},
     "execution_count": 78
    }
   ],
   "metadata": {}
  },
  {
   "cell_type": "code",
   "execution_count": 79,
   "source": [
    "df['issue_d'] = pd.to_datetime(df['issue_d'], format=r'%b-%Y')\n",
    "vars_date.append('issue_d')"
   ],
   "outputs": [],
   "metadata": {}
  },
  {
   "cell_type": "markdown",
   "source": [
    "#### 28.\tlast credit pull d: El mes más reciente LC sacó crédito para este préstamo.\n"
   ],
   "metadata": {}
  },
  {
   "cell_type": "code",
   "execution_count": 80,
   "source": [
    "df['last_credit_pull_d'].value_counts(1, dropna=False)"
   ],
   "outputs": [
    {
     "output_type": "execute_result",
     "data": {
      "text/plain": [
       "Jan-2016    0.403418\n",
       "Dec-2015    0.073087\n",
       "Nov-2015    0.043226\n",
       "Oct-2015    0.039277\n",
       "Sep-2015    0.038336\n",
       "              ...   \n",
       "Jul-2008    0.000004\n",
       "Jun-2008    0.000004\n",
       "May-2007    0.000004\n",
       "Jul-2007    0.000004\n",
       "May-2008    0.000004\n",
       "Name: last_credit_pull_d, Length: 103, dtype: float64"
      ]
     },
     "metadata": {},
     "execution_count": 80
    }
   ],
   "metadata": {}
  },
  {
   "cell_type": "code",
   "execution_count": 81,
   "source": [
    "df['last_credit_pull_d'] = pd.to_datetime(df['last_credit_pull_d'], format=r'%b-%Y')\n",
    "vars_date.append('last_credit_pull_d')"
   ],
   "outputs": [],
   "metadata": {}
  },
  {
   "cell_type": "markdown",
   "source": [
    "#### 29.\tlast pymnt amnt: Último importe total de pago recibido.\n"
   ],
   "metadata": {}
  },
  {
   "cell_type": "code",
   "execution_count": 82,
   "source": [
    "df['last_pymnt_amnt'].hist()"
   ],
   "outputs": [
    {
     "output_type": "execute_result",
     "data": {
      "text/plain": [
       "<AxesSubplot:>"
      ]
     },
     "metadata": {},
     "execution_count": 82
    },
    {
     "output_type": "display_data",
     "data": {
      "image/png": "[encoded data removed]",
      "text/plain": [
       "<Figure size 432x288 with 1 Axes>"
      ]
     },
     "metadata": {
      "needs_background": "light"
     }
    }
   ],
   "metadata": {}
  },
  {
   "cell_type": "code",
   "execution_count": 83,
   "source": [
    "vars_num.append('last_pymnt_amnt')"
   ],
   "outputs": [],
   "metadata": {}
  },
  {
   "cell_type": "markdown",
   "source": [
    "#### 30.\tlast pymnt d: El mes pasado se recibió el pago.\n"
   ],
   "metadata": {}
  },
  {
   "cell_type": "code",
   "execution_count": 84,
   "source": [
    "df['last_pymnt_d'].value_counts(1, dropna=False)"
   ],
   "outputs": [
    {
     "output_type": "execute_result",
     "data": {
      "text/plain": [
       "Jul-2015    0.057208\n",
       "Oct-2015    0.049425\n",
       "Dec-2015    0.048065\n",
       "Aug-2015    0.047480\n",
       "Jun-2015    0.047341\n",
       "              ...   \n",
       "Jun-2008    0.000040\n",
       "Nov-2008    0.000040\n",
       "Mar-2008    0.000020\n",
       "Jan-2008    0.000016\n",
       "Feb-2008    0.000004\n",
       "Name: last_pymnt_d, Length: 98, dtype: float64"
      ]
     },
     "metadata": {},
     "execution_count": 84
    }
   ],
   "metadata": {}
  },
  {
   "cell_type": "code",
   "execution_count": 85,
   "source": [
    "df['last_pymnt_d'] = pd.to_datetime(df['last_pymnt_d'], format=r'%b-%Y')\n",
    "vars_date.append('last_pymnt_d')"
   ],
   "outputs": [],
   "metadata": {}
  },
  {
   "cell_type": "markdown",
   "source": [
    "#### 31.\tloan amnt: El monto indicado del préstamo solicitado por el prestatario. Si en algún momento, el departamento de crédito reduce el monto del préstamo, entonces se reflejará en este valor.\n"
   ],
   "metadata": {}
  },
  {
   "cell_type": "code",
   "execution_count": 86,
   "source": [
    "df['loan_amnt'].hist()"
   ],
   "outputs": [
    {
     "output_type": "execute_result",
     "data": {
      "text/plain": [
       "<AxesSubplot:>"
      ]
     },
     "metadata": {},
     "execution_count": 86
    },
    {
     "output_type": "display_data",
     "data": {
      "image/png": "[encoded data removed]",
      "text/plain": [
       "<Figure size 432x288 with 1 Axes>"
      ]
     },
     "metadata": {
      "needs_background": "light"
     }
    }
   ],
   "metadata": {}
  },
  {
   "cell_type": "code",
   "execution_count": 87,
   "source": [
    "vars_num.append('loan_amnt')"
   ],
   "outputs": [],
   "metadata": {}
  },
  {
   "cell_type": "markdown",
   "source": [
    "#### 32.\tloan status: Estado actual del préstamo.\n"
   ],
   "metadata": {}
  },
  {
   "cell_type": "code",
   "execution_count": 88,
   "source": [
    "df['loan_status'].value_counts(1, dropna=False)"
   ],
   "outputs": [
    {
     "output_type": "execute_result",
     "data": {
      "text/plain": [
       "Fully Paid     0.821134\n",
       "Charged Off    0.178866\n",
       "Name: loan_status, dtype: float64"
      ]
     },
     "metadata": {},
     "execution_count": 88
    }
   ],
   "metadata": {}
  },
  {
   "cell_type": "markdown",
   "source": [
    "#### 33.\tmax bal bc: Saldo corriente máximo adeudado en todas las cuentas rotativas.\n"
   ],
   "metadata": {}
  },
  {
   "cell_type": "code",
   "execution_count": 89,
   "source": [
    "df['max_bal_bc'].value_counts(1, dropna=False)"
   ],
   "outputs": [
    {
     "output_type": "execute_result",
     "data": {
      "text/plain": [
       "NaN        0.999431\n",
       "0.0        0.000024\n",
       "2317.0     0.000004\n",
       "4502.0     0.000004\n",
       "2760.0     0.000004\n",
       "             ...   \n",
       "5705.0     0.000004\n",
       "5134.0     0.000004\n",
       "1525.0     0.000004\n",
       "17177.0    0.000004\n",
       "10656.0    0.000004\n",
       "Name: max_bal_bc, Length: 140, dtype: float64"
      ]
     },
     "metadata": {},
     "execution_count": 89
    }
   ],
   "metadata": {}
  },
  {
   "cell_type": "code",
   "execution_count": 90,
   "source": [
    "aux = df.copy()\n",
    "aux['grouped'] = (df['max_bal_bc'].notnull())*1\n",
    "col_vs_tgt(aux, 'grouped')"
   ],
   "outputs": [
    {
     "output_type": "execute_result",
     "data": {
      "text/html": [
       "<style  type=\"text/css\" >\n",
       "#T_a2ce7_row0_col0,#T_a2ce7_row1_col0,#T_a2ce7_row1_col1{\n",
       "            background-color:  #f7fbff;\n",
       "            color:  #000000;\n",
       "        }#T_a2ce7_row0_col1{\n",
       "            background-color:  #08306b;\n",
       "            color:  #f1f1f1;\n",
       "        }</style><table id=\"T_a2ce7_\" ><thead>    <tr>        <th class=\"blank level0\" ></th>        <th class=\"col_heading level0 col0\" colspan=\"2\">id</th>    </tr>    <tr>        <th class=\"index_name level1\" >loan_status</th>        <th class=\"col_heading level1 col0\" >Charged Off</th>        <th class=\"col_heading level1 col1\" >Fully Paid</th>    </tr>    <tr>        <th class=\"index_name level0\" >grouped</th>        <th class=\"blank\" ></th>        <th class=\"blank\" ></th>    </tr></thead><tbody>\n",
       "                <tr>\n",
       "                        <th id=\"T_a2ce7_level0_row0\" class=\"row_heading level0 row0\" >0</th>\n",
       "                        <td id=\"T_a2ce7_row0_col0\" class=\"data row0 col0\" >100.0%</td>\n",
       "                        <td id=\"T_a2ce7_row0_col1\" class=\"data row0 col1\" >99.9%</td>\n",
       "            </tr>\n",
       "            <tr>\n",
       "                        <th id=\"T_a2ce7_level0_row1\" class=\"row_heading level0 row1\" >1</th>\n",
       "                        <td id=\"T_a2ce7_row1_col0\" class=\"data row1 col0\" >nan%</td>\n",
       "                        <td id=\"T_a2ce7_row1_col1\" class=\"data row1 col1\" >0.1%</td>\n",
       "            </tr>\n",
       "    </tbody></table>"
      ],
      "text/plain": [
       "<pandas.io.formats.style.Styler at 0x7feda10b5130>"
      ]
     },
     "metadata": {},
     "execution_count": 90
    }
   ],
   "metadata": {}
  },
  {
   "cell_type": "code",
   "execution_count": 91,
   "source": [
    "df.drop('max_bal_bc', axis=1, inplace=True)"
   ],
   "outputs": [],
   "metadata": {}
  },
  {
   "cell_type": "markdown",
   "source": [
    "#### 34.\tmember id: Una LC única asignada id para el miembro prestatario.\n"
   ],
   "metadata": {}
  },
  {
   "cell_type": "code",
   "execution_count": 92,
   "source": [
    "len(df) , len(df['member_id'].unique())"
   ],
   "outputs": [
    {
     "output_type": "execute_result",
     "data": {
      "text/plain": [
       "(252971, 252971)"
      ]
     },
     "metadata": {},
     "execution_count": 92
    }
   ],
   "metadata": {}
  },
  {
   "cell_type": "markdown",
   "source": [
    "#### 35.\tmths since last delinq: El número de meses desde la última morosidad del prestatario.\n"
   ],
   "metadata": {}
  },
  {
   "cell_type": "code",
   "execution_count": 93,
   "source": [
    "df['mths_since_last_delinq'].value_counts(1, dropna=False)"
   ],
   "outputs": [
    {
     "output_type": "execute_result",
     "data": {
      "text/plain": [
       "NaN      0.556665\n",
       "12.0     0.008112\n",
       "9.0      0.008096\n",
       "14.0     0.008048\n",
       "15.0     0.007981\n",
       "           ...   \n",
       "100.0    0.000004\n",
       "148.0    0.000004\n",
       "140.0    0.000004\n",
       "151.0    0.000004\n",
       "135.0    0.000004\n",
       "Name: mths_since_last_delinq, Length: 128, dtype: float64"
      ]
     },
     "metadata": {},
     "execution_count": 93
    }
   ],
   "metadata": {}
  },
  {
   "cell_type": "code",
   "execution_count": 94,
   "source": [
    "df['mths_since_last_delinq']= (df['mths_since_last_delinq'].notnull())*1\n",
    "vars_bin.append('mths_since_last_delinq')\n",
    "col_vs_tgt(df, 'mths_since_last_delinq')"
   ],
   "outputs": [
    {
     "output_type": "execute_result",
     "data": {
      "text/html": [
       "<style  type=\"text/css\" >\n",
       "#T_f29d1_row0_col0,#T_f29d1_row0_col1{\n",
       "            background-color:  #08306b;\n",
       "            color:  #f1f1f1;\n",
       "        }#T_f29d1_row1_col0,#T_f29d1_row1_col1{\n",
       "            background-color:  #f7fbff;\n",
       "            color:  #000000;\n",
       "        }</style><table id=\"T_f29d1_\" ><thead>    <tr>        <th class=\"blank level0\" ></th>        <th class=\"col_heading level0 col0\" colspan=\"2\">id</th>    </tr>    <tr>        <th class=\"index_name level1\" >loan_status</th>        <th class=\"col_heading level1 col0\" >Charged Off</th>        <th class=\"col_heading level1 col1\" >Fully Paid</th>    </tr>    <tr>        <th class=\"index_name level0\" >grouped</th>        <th class=\"blank\" ></th>        <th class=\"blank\" ></th>    </tr></thead><tbody>\n",
       "                <tr>\n",
       "                        <th id=\"T_f29d1_level0_row0\" class=\"row_heading level0 row0\" >0</th>\n",
       "                        <td id=\"T_f29d1_row0_col0\" class=\"data row0 col0\" >55.4%</td>\n",
       "                        <td id=\"T_f29d1_row0_col1\" class=\"data row0 col1\" >55.7%</td>\n",
       "            </tr>\n",
       "            <tr>\n",
       "                        <th id=\"T_f29d1_level0_row1\" class=\"row_heading level0 row1\" >1</th>\n",
       "                        <td id=\"T_f29d1_row1_col0\" class=\"data row1 col0\" >44.6%</td>\n",
       "                        <td id=\"T_f29d1_row1_col1\" class=\"data row1 col1\" >44.3%</td>\n",
       "            </tr>\n",
       "    </tbody></table>"
      ],
      "text/plain": [
       "<pandas.io.formats.style.Styler at 0x7feda1022e20>"
      ]
     },
     "metadata": {},
     "execution_count": 94
    }
   ],
   "metadata": {}
  },
  {
   "cell_type": "markdown",
   "source": [
    "#### 36.\tmths since last major derog: Meses desde la calificación más reciente de 90 días o peor.\n"
   ],
   "metadata": {}
  },
  {
   "cell_type": "code",
   "execution_count": 95,
   "source": [
    "df['mths_since_last_major_derog'].value_counts(1, dropna=False)"
   ],
   "outputs": [
    {
     "output_type": "execute_result",
     "data": {
      "text/plain": [
       "NaN      0.812054\n",
       "45.0     0.003162\n",
       "43.0     0.003119\n",
       "48.0     0.003060\n",
       "46.0     0.003020\n",
       "           ...   \n",
       "141.0    0.000004\n",
       "145.0    0.000004\n",
       "139.0    0.000004\n",
       "136.0    0.000004\n",
       "129.0    0.000004\n",
       "Name: mths_since_last_major_derog, Length: 150, dtype: float64"
      ]
     },
     "metadata": {},
     "execution_count": 95
    }
   ],
   "metadata": {}
  },
  {
   "cell_type": "code",
   "execution_count": 96,
   "source": [
    "df['mths_since_last_major_derog']= (df['mths_since_last_major_derog'].notnull())*1\n",
    "vars_bin.append('mths_since_last_major_derog')\n",
    "col_vs_tgt(df, 'mths_since_last_major_derog')"
   ],
   "outputs": [
    {
     "output_type": "execute_result",
     "data": {
      "text/html": [
       "<style  type=\"text/css\" >\n",
       "#T_3d9d3_row0_col0,#T_3d9d3_row0_col1{\n",
       "            background-color:  #08306b;\n",
       "            color:  #f1f1f1;\n",
       "        }#T_3d9d3_row1_col0,#T_3d9d3_row1_col1{\n",
       "            background-color:  #f7fbff;\n",
       "            color:  #000000;\n",
       "        }</style><table id=\"T_3d9d3_\" ><thead>    <tr>        <th class=\"blank level0\" ></th>        <th class=\"col_heading level0 col0\" colspan=\"2\">id</th>    </tr>    <tr>        <th class=\"index_name level1\" >loan_status</th>        <th class=\"col_heading level1 col0\" >Charged Off</th>        <th class=\"col_heading level1 col1\" >Fully Paid</th>    </tr>    <tr>        <th class=\"index_name level0\" >grouped</th>        <th class=\"blank\" ></th>        <th class=\"blank\" ></th>    </tr></thead><tbody>\n",
       "                <tr>\n",
       "                        <th id=\"T_3d9d3_level0_row0\" class=\"row_heading level0 row0\" >0</th>\n",
       "                        <td id=\"T_3d9d3_row0_col0\" class=\"data row0 col0\" >80.7%</td>\n",
       "                        <td id=\"T_3d9d3_row0_col1\" class=\"data row0 col1\" >81.3%</td>\n",
       "            </tr>\n",
       "            <tr>\n",
       "                        <th id=\"T_3d9d3_level0_row1\" class=\"row_heading level0 row1\" >1</th>\n",
       "                        <td id=\"T_3d9d3_row1_col0\" class=\"data row1 col0\" >19.3%</td>\n",
       "                        <td id=\"T_3d9d3_row1_col1\" class=\"data row1 col1\" >18.7%</td>\n",
       "            </tr>\n",
       "    </tbody></table>"
      ],
      "text/plain": [
       "<pandas.io.formats.style.Styler at 0x7feda26a97f0>"
      ]
     },
     "metadata": {},
     "execution_count": 96
    }
   ],
   "metadata": {}
  },
  {
   "cell_type": "markdown",
   "source": [
    "#### 37.\tmths since last record: El número de meses transcurridos desde el último registro público.\n"
   ],
   "metadata": {}
  },
  {
   "cell_type": "code",
   "execution_count": 97,
   "source": [
    "df['mths_since_last_record'].value_counts(1, dropna=False)"
   ],
   "outputs": [
    {
     "output_type": "execute_result",
     "data": {
      "text/plain": [
       "NaN      0.875092\n",
       "0.0      0.002660\n",
       "104.0    0.001866\n",
       "105.0    0.001858\n",
       "111.0    0.001846\n",
       "           ...   \n",
       "3.0      0.000043\n",
       "1.0      0.000032\n",
       "120.0    0.000008\n",
       "129.0    0.000004\n",
       "121.0    0.000004\n",
       "Name: mths_since_last_record, Length: 124, dtype: float64"
      ]
     },
     "metadata": {},
     "execution_count": 97
    }
   ],
   "metadata": {}
  },
  {
   "cell_type": "code",
   "execution_count": 98,
   "source": [
    "df['mths_since_last_record']= (df['mths_since_last_record'].notnull())*1\n",
    "vars_bin.append('mths_since_last_record')\n",
    "col_vs_tgt(df, 'mths_since_last_record')"
   ],
   "outputs": [
    {
     "output_type": "execute_result",
     "data": {
      "text/html": [
       "<style  type=\"text/css\" >\n",
       "#T_dbd40_row0_col0,#T_dbd40_row0_col1{\n",
       "            background-color:  #08306b;\n",
       "            color:  #f1f1f1;\n",
       "        }#T_dbd40_row1_col0,#T_dbd40_row1_col1{\n",
       "            background-color:  #f7fbff;\n",
       "            color:  #000000;\n",
       "        }</style><table id=\"T_dbd40_\" ><thead>    <tr>        <th class=\"blank level0\" ></th>        <th class=\"col_heading level0 col0\" colspan=\"2\">id</th>    </tr>    <tr>        <th class=\"index_name level1\" >loan_status</th>        <th class=\"col_heading level1 col0\" >Charged Off</th>        <th class=\"col_heading level1 col1\" >Fully Paid</th>    </tr>    <tr>        <th class=\"index_name level0\" >grouped</th>        <th class=\"blank\" ></th>        <th class=\"blank\" ></th>    </tr></thead><tbody>\n",
       "                <tr>\n",
       "                        <th id=\"T_dbd40_level0_row0\" class=\"row_heading level0 row0\" >0</th>\n",
       "                        <td id=\"T_dbd40_row0_col0\" class=\"data row0 col0\" >87.6%</td>\n",
       "                        <td id=\"T_dbd40_row0_col1\" class=\"data row0 col1\" >87.5%</td>\n",
       "            </tr>\n",
       "            <tr>\n",
       "                        <th id=\"T_dbd40_level0_row1\" class=\"row_heading level0 row1\" >1</th>\n",
       "                        <td id=\"T_dbd40_row1_col0\" class=\"data row1 col0\" >12.4%</td>\n",
       "                        <td id=\"T_dbd40_row1_col1\" class=\"data row1 col1\" >12.5%</td>\n",
       "            </tr>\n",
       "    </tbody></table>"
      ],
      "text/plain": [
       "<pandas.io.formats.style.Styler at 0x7feda0ecf6d0>"
      ]
     },
     "metadata": {},
     "execution_count": 98
    }
   ],
   "metadata": {}
  },
  {
   "cell_type": "markdown",
   "source": [
    "#### 38.\tmths since rcnt il: Meses desde que se abrieron las cuentas a plazos más recientes.\n"
   ],
   "metadata": {}
  },
  {
   "cell_type": "code",
   "execution_count": 99,
   "source": [
    "df['mths_since_rcnt_il'].value_counts(1, dropna=False)"
   ],
   "outputs": [
    {
     "output_type": "execute_result",
     "data": {
      "text/plain": [
       "NaN      0.999447\n",
       "4.0      0.000055\n",
       "3.0      0.000040\n",
       "1.0      0.000036\n",
       "6.0      0.000032\n",
       "7.0      0.000028\n",
       "13.0     0.000024\n",
       "5.0      0.000020\n",
       "20.0     0.000020\n",
       "15.0     0.000020\n",
       "18.0     0.000016\n",
       "8.0      0.000016\n",
       "19.0     0.000016\n",
       "14.0     0.000016\n",
       "2.0      0.000012\n",
       "16.0     0.000012\n",
       "12.0     0.000012\n",
       "21.0     0.000012\n",
       "11.0     0.000008\n",
       "10.0     0.000008\n",
       "26.0     0.000008\n",
       "17.0     0.000008\n",
       "29.0     0.000008\n",
       "31.0     0.000008\n",
       "27.0     0.000008\n",
       "22.0     0.000008\n",
       "9.0      0.000008\n",
       "43.0     0.000008\n",
       "0.0      0.000004\n",
       "88.0     0.000004\n",
       "103.0    0.000004\n",
       "42.0     0.000004\n",
       "37.0     0.000004\n",
       "35.0     0.000004\n",
       "141.0    0.000004\n",
       "121.0    0.000004\n",
       "63.0     0.000004\n",
       "33.0     0.000004\n",
       "90.0     0.000004\n",
       "81.0     0.000004\n",
       "110.0    0.000004\n",
       "72.0     0.000004\n",
       "51.0     0.000004\n",
       "23.0     0.000004\n",
       "112.0    0.000004\n",
       "54.0     0.000004\n",
       "79.0     0.000004\n",
       "49.0     0.000004\n",
       "137.0    0.000004\n",
       "38.0     0.000004\n",
       "32.0     0.000004\n",
       "Name: mths_since_rcnt_il, dtype: float64"
      ]
     },
     "metadata": {},
     "execution_count": 99
    }
   ],
   "metadata": {}
  },
  {
   "cell_type": "code",
   "execution_count": 100,
   "source": [
    "aux = df.copy()\n",
    "aux['aux'] = (aux['mths_since_rcnt_il'].notnull())*1\n",
    "col_vs_tgt(aux, 'aux')"
   ],
   "outputs": [
    {
     "output_type": "execute_result",
     "data": {
      "text/html": [
       "<style  type=\"text/css\" >\n",
       "#T_0add6_row0_col0,#T_0add6_row1_col0,#T_0add6_row1_col1{\n",
       "            background-color:  #f7fbff;\n",
       "            color:  #000000;\n",
       "        }#T_0add6_row0_col1{\n",
       "            background-color:  #08306b;\n",
       "            color:  #f1f1f1;\n",
       "        }</style><table id=\"T_0add6_\" ><thead>    <tr>        <th class=\"blank level0\" ></th>        <th class=\"col_heading level0 col0\" colspan=\"2\">id</th>    </tr>    <tr>        <th class=\"index_name level1\" >loan_status</th>        <th class=\"col_heading level1 col0\" >Charged Off</th>        <th class=\"col_heading level1 col1\" >Fully Paid</th>    </tr>    <tr>        <th class=\"index_name level0\" >grouped</th>        <th class=\"blank\" ></th>        <th class=\"blank\" ></th>    </tr></thead><tbody>\n",
       "                <tr>\n",
       "                        <th id=\"T_0add6_level0_row0\" class=\"row_heading level0 row0\" >0</th>\n",
       "                        <td id=\"T_0add6_row0_col0\" class=\"data row0 col0\" >100.0%</td>\n",
       "                        <td id=\"T_0add6_row0_col1\" class=\"data row0 col1\" >99.9%</td>\n",
       "            </tr>\n",
       "            <tr>\n",
       "                        <th id=\"T_0add6_level0_row1\" class=\"row_heading level0 row1\" >1</th>\n",
       "                        <td id=\"T_0add6_row1_col0\" class=\"data row1 col0\" >nan%</td>\n",
       "                        <td id=\"T_0add6_row1_col1\" class=\"data row1 col1\" >0.1%</td>\n",
       "            </tr>\n",
       "    </tbody></table>"
      ],
      "text/plain": [
       "<pandas.io.formats.style.Styler at 0x7feda1147ee0>"
      ]
     },
     "metadata": {},
     "execution_count": 100
    }
   ],
   "metadata": {}
  },
  {
   "cell_type": "code",
   "execution_count": 101,
   "source": [
    "df.drop('mths_since_rcnt_il', axis=1, inplace=True)"
   ],
   "outputs": [],
   "metadata": {}
  },
  {
   "cell_type": "markdown",
   "source": [
    "#### 39.\tnext pymnt d: Próxima fecha de pago programada.\n"
   ],
   "metadata": {}
  },
  {
   "cell_type": "code",
   "execution_count": 102,
   "source": [
    "df['next_pymnt_d'].value_counts(1, dropna=False)"
   ],
   "outputs": [
    {
     "output_type": "execute_result",
     "data": {
      "text/plain": [
       "NaN    1.0\n",
       "Name: next_pymnt_d, dtype: float64"
      ]
     },
     "metadata": {},
     "execution_count": 102
    }
   ],
   "metadata": {}
  },
  {
   "cell_type": "code",
   "execution_count": 103,
   "source": [
    "df.drop('next_pymnt_d', axis=1, inplace=True)"
   ],
   "outputs": [],
   "metadata": {}
  },
  {
   "cell_type": "markdown",
   "source": [
    "#### 40.\topen acc: El número de líneas de crédito abiertas en el archivo de crédito del prestatario.\n"
   ],
   "metadata": {}
  },
  {
   "cell_type": "code",
   "execution_count": 104,
   "source": [
    "df['open_acc'].hist()"
   ],
   "outputs": [
    {
     "output_type": "execute_result",
     "data": {
      "text/plain": [
       "<AxesSubplot:>"
      ]
     },
     "metadata": {},
     "execution_count": 104
    },
    {
     "output_type": "display_data",
     "data": {
      "image/png": "[encoded data removed]",
      "text/plain": [
       "<Figure size 432x288 with 1 Axes>"
      ]
     },
     "metadata": {
      "needs_background": "light"
     }
    }
   ],
   "metadata": {}
  },
  {
   "cell_type": "code",
   "execution_count": 105,
   "source": [
    "vars_num.append('open_acc')"
   ],
   "outputs": [],
   "metadata": {}
  },
  {
   "cell_type": "markdown",
   "source": [
    "#### 41.\topen acc 6m: Número de operaciones abiertas en los últimos 6 meses\n"
   ],
   "metadata": {}
  },
  {
   "cell_type": "code",
   "execution_count": 106,
   "source": [
    "df['open_acc_6m'].value_counts(1, dropna=False)"
   ],
   "outputs": [
    {
     "output_type": "execute_result",
     "data": {
      "text/plain": [
       "NaN    0.999431\n",
       "0.0    0.000182\n",
       "2.0    0.000150\n",
       "1.0    0.000142\n",
       "3.0    0.000055\n",
       "4.0    0.000020\n",
       "5.0    0.000012\n",
       "6.0    0.000008\n",
       "Name: open_acc_6m, dtype: float64"
      ]
     },
     "metadata": {},
     "execution_count": 106
    }
   ],
   "metadata": {}
  },
  {
   "cell_type": "code",
   "execution_count": 107,
   "source": [
    "df['open_acc_6m'] = df['open_acc_6m'].notnull()*1\n",
    "df['open_acc_6m'].value_counts(1, dropna=False)"
   ],
   "outputs": [
    {
     "output_type": "execute_result",
     "data": {
      "text/plain": [
       "0    0.999431\n",
       "1    0.000569\n",
       "Name: open_acc_6m, dtype: float64"
      ]
     },
     "metadata": {},
     "execution_count": 107
    }
   ],
   "metadata": {}
  },
  {
   "cell_type": "code",
   "execution_count": 108,
   "source": [
    "col_vs_tgt(df, 'open_acc_6m')"
   ],
   "outputs": [
    {
     "output_type": "execute_result",
     "data": {
      "text/html": [
       "<style  type=\"text/css\" >\n",
       "#T_67046_row0_col0,#T_67046_row1_col0,#T_67046_row1_col1{\n",
       "            background-color:  #f7fbff;\n",
       "            color:  #000000;\n",
       "        }#T_67046_row0_col1{\n",
       "            background-color:  #08306b;\n",
       "            color:  #f1f1f1;\n",
       "        }</style><table id=\"T_67046_\" ><thead>    <tr>        <th class=\"blank level0\" ></th>        <th class=\"col_heading level0 col0\" colspan=\"2\">id</th>    </tr>    <tr>        <th class=\"index_name level1\" >loan_status</th>        <th class=\"col_heading level1 col0\" >Charged Off</th>        <th class=\"col_heading level1 col1\" >Fully Paid</th>    </tr>    <tr>        <th class=\"index_name level0\" >grouped</th>        <th class=\"blank\" ></th>        <th class=\"blank\" ></th>    </tr></thead><tbody>\n",
       "                <tr>\n",
       "                        <th id=\"T_67046_level0_row0\" class=\"row_heading level0 row0\" >0</th>\n",
       "                        <td id=\"T_67046_row0_col0\" class=\"data row0 col0\" >100.0%</td>\n",
       "                        <td id=\"T_67046_row0_col1\" class=\"data row0 col1\" >99.9%</td>\n",
       "            </tr>\n",
       "            <tr>\n",
       "                        <th id=\"T_67046_level0_row1\" class=\"row_heading level0 row1\" >1</th>\n",
       "                        <td id=\"T_67046_row1_col0\" class=\"data row1 col0\" >nan%</td>\n",
       "                        <td id=\"T_67046_row1_col1\" class=\"data row1 col1\" >0.1%</td>\n",
       "            </tr>\n",
       "    </tbody></table>"
      ],
      "text/plain": [
       "<pandas.io.formats.style.Styler at 0x7fed80247b80>"
      ]
     },
     "metadata": {},
     "execution_count": 108
    }
   ],
   "metadata": {}
  },
  {
   "cell_type": "code",
   "execution_count": 109,
   "source": [
    "df.drop('open_acc_6m', axis=1, inplace=True)"
   ],
   "outputs": [],
   "metadata": {}
  },
  {
   "cell_type": "markdown",
   "source": [
    "#### 42.\topen il 12m: Número de cuentas a plazos abiertas en los últimos 12 meses.\n"
   ],
   "metadata": {}
  },
  {
   "cell_type": "code",
   "execution_count": 110,
   "source": [
    "df['open_il_12m'].isnull().mean()"
   ],
   "outputs": [
    {
     "output_type": "execute_result",
     "data": {
      "text/plain": [
       "0.9994307647912212"
      ]
     },
     "metadata": {},
     "execution_count": 110
    }
   ],
   "metadata": {}
  },
  {
   "cell_type": "code",
   "execution_count": 111,
   "source": [
    "aux = df.copy()\n",
    "aux['aux'] = (aux['open_il_12m'].notnull())*1\n",
    "col_vs_tgt(aux, 'aux')"
   ],
   "outputs": [
    {
     "output_type": "execute_result",
     "data": {
      "text/html": [
       "<style  type=\"text/css\" >\n",
       "#T_b3901_row0_col0,#T_b3901_row1_col0,#T_b3901_row1_col1{\n",
       "            background-color:  #f7fbff;\n",
       "            color:  #000000;\n",
       "        }#T_b3901_row0_col1{\n",
       "            background-color:  #08306b;\n",
       "            color:  #f1f1f1;\n",
       "        }</style><table id=\"T_b3901_\" ><thead>    <tr>        <th class=\"blank level0\" ></th>        <th class=\"col_heading level0 col0\" colspan=\"2\">id</th>    </tr>    <tr>        <th class=\"index_name level1\" >loan_status</th>        <th class=\"col_heading level1 col0\" >Charged Off</th>        <th class=\"col_heading level1 col1\" >Fully Paid</th>    </tr>    <tr>        <th class=\"index_name level0\" >grouped</th>        <th class=\"blank\" ></th>        <th class=\"blank\" ></th>    </tr></thead><tbody>\n",
       "                <tr>\n",
       "                        <th id=\"T_b3901_level0_row0\" class=\"row_heading level0 row0\" >0</th>\n",
       "                        <td id=\"T_b3901_row0_col0\" class=\"data row0 col0\" >100.0%</td>\n",
       "                        <td id=\"T_b3901_row0_col1\" class=\"data row0 col1\" >99.9%</td>\n",
       "            </tr>\n",
       "            <tr>\n",
       "                        <th id=\"T_b3901_level0_row1\" class=\"row_heading level0 row1\" >1</th>\n",
       "                        <td id=\"T_b3901_row1_col0\" class=\"data row1 col0\" >nan%</td>\n",
       "                        <td id=\"T_b3901_row1_col1\" class=\"data row1 col1\" >0.1%</td>\n",
       "            </tr>\n",
       "    </tbody></table>"
      ],
      "text/plain": [
       "<pandas.io.formats.style.Styler at 0x7feda10b6e80>"
      ]
     },
     "metadata": {},
     "execution_count": 111
    }
   ],
   "metadata": {}
  },
  {
   "cell_type": "code",
   "execution_count": 112,
   "source": [
    "df.drop('open_il_12m', axis=1, inplace=True)"
   ],
   "outputs": [],
   "metadata": {}
  },
  {
   "cell_type": "markdown",
   "source": [
    "#### 43.\topen il 24m: Número de cuentas a plazos abiertas en los últimos 24 meses.\n"
   ],
   "metadata": {}
  },
  {
   "cell_type": "code",
   "execution_count": 113,
   "source": [
    "df['open_il_24m'].value_counts(1, dropna=False)"
   ],
   "outputs": [
    {
     "output_type": "execute_result",
     "data": {
      "text/plain": [
       "NaN     0.999431\n",
       "1.0     0.000166\n",
       "0.0     0.000138\n",
       "2.0     0.000107\n",
       "3.0     0.000083\n",
       "4.0     0.000036\n",
       "7.0     0.000016\n",
       "5.0     0.000012\n",
       "14.0    0.000004\n",
       "11.0    0.000004\n",
       "6.0     0.000004\n",
       "Name: open_il_24m, dtype: float64"
      ]
     },
     "metadata": {},
     "execution_count": 113
    }
   ],
   "metadata": {}
  },
  {
   "cell_type": "code",
   "execution_count": 114,
   "source": [
    "aux = df.copy()\n",
    "aux['aux'] = (aux['open_il_24m'].notnull())*1\n",
    "col_vs_tgt(aux, 'aux')"
   ],
   "outputs": [
    {
     "output_type": "execute_result",
     "data": {
      "text/html": [
       "<style  type=\"text/css\" >\n",
       "#T_b9636_row0_col0,#T_b9636_row1_col0,#T_b9636_row1_col1{\n",
       "            background-color:  #f7fbff;\n",
       "            color:  #000000;\n",
       "        }#T_b9636_row0_col1{\n",
       "            background-color:  #08306b;\n",
       "            color:  #f1f1f1;\n",
       "        }</style><table id=\"T_b9636_\" ><thead>    <tr>        <th class=\"blank level0\" ></th>        <th class=\"col_heading level0 col0\" colspan=\"2\">id</th>    </tr>    <tr>        <th class=\"index_name level1\" >loan_status</th>        <th class=\"col_heading level1 col0\" >Charged Off</th>        <th class=\"col_heading level1 col1\" >Fully Paid</th>    </tr>    <tr>        <th class=\"index_name level0\" >grouped</th>        <th class=\"blank\" ></th>        <th class=\"blank\" ></th>    </tr></thead><tbody>\n",
       "                <tr>\n",
       "                        <th id=\"T_b9636_level0_row0\" class=\"row_heading level0 row0\" >0</th>\n",
       "                        <td id=\"T_b9636_row0_col0\" class=\"data row0 col0\" >100.0%</td>\n",
       "                        <td id=\"T_b9636_row0_col1\" class=\"data row0 col1\" >99.9%</td>\n",
       "            </tr>\n",
       "            <tr>\n",
       "                        <th id=\"T_b9636_level0_row1\" class=\"row_heading level0 row1\" >1</th>\n",
       "                        <td id=\"T_b9636_row1_col0\" class=\"data row1 col0\" >nan%</td>\n",
       "                        <td id=\"T_b9636_row1_col1\" class=\"data row1 col1\" >0.1%</td>\n",
       "            </tr>\n",
       "    </tbody></table>"
      ],
      "text/plain": [
       "<pandas.io.formats.style.Styler at 0x7feda11e4760>"
      ]
     },
     "metadata": {},
     "execution_count": 114
    }
   ],
   "metadata": {}
  },
  {
   "cell_type": "code",
   "execution_count": 115,
   "source": [
    "df.drop('open_il_24m', axis=1, inplace=True)"
   ],
   "outputs": [],
   "metadata": {}
  },
  {
   "cell_type": "markdown",
   "source": [
    "#### 44.\topen il 6m: Número de operaciones a plazos actualmente activas.\n"
   ],
   "metadata": {}
  },
  {
   "cell_type": "code",
   "execution_count": 116,
   "source": [
    "df['open_il_6m'].isnull().mean()"
   ],
   "outputs": [
    {
     "output_type": "execute_result",
     "data": {
      "text/plain": [
       "0.9994307647912212"
      ]
     },
     "metadata": {},
     "execution_count": 116
    }
   ],
   "metadata": {}
  },
  {
   "cell_type": "code",
   "execution_count": 117,
   "source": [
    "aux = df.copy()\n",
    "aux['aux'] = (aux['open_il_6m'].notnull())*1\n",
    "col_vs_tgt(aux, 'aux')"
   ],
   "outputs": [
    {
     "output_type": "execute_result",
     "data": {
      "text/html": [
       "<style  type=\"text/css\" >\n",
       "#T_3fafa_row0_col0,#T_3fafa_row1_col0,#T_3fafa_row1_col1{\n",
       "            background-color:  #f7fbff;\n",
       "            color:  #000000;\n",
       "        }#T_3fafa_row0_col1{\n",
       "            background-color:  #08306b;\n",
       "            color:  #f1f1f1;\n",
       "        }</style><table id=\"T_3fafa_\" ><thead>    <tr>        <th class=\"blank level0\" ></th>        <th class=\"col_heading level0 col0\" colspan=\"2\">id</th>    </tr>    <tr>        <th class=\"index_name level1\" >loan_status</th>        <th class=\"col_heading level1 col0\" >Charged Off</th>        <th class=\"col_heading level1 col1\" >Fully Paid</th>    </tr>    <tr>        <th class=\"index_name level0\" >grouped</th>        <th class=\"blank\" ></th>        <th class=\"blank\" ></th>    </tr></thead><tbody>\n",
       "                <tr>\n",
       "                        <th id=\"T_3fafa_level0_row0\" class=\"row_heading level0 row0\" >0</th>\n",
       "                        <td id=\"T_3fafa_row0_col0\" class=\"data row0 col0\" >100.0%</td>\n",
       "                        <td id=\"T_3fafa_row0_col1\" class=\"data row0 col1\" >99.9%</td>\n",
       "            </tr>\n",
       "            <tr>\n",
       "                        <th id=\"T_3fafa_level0_row1\" class=\"row_heading level0 row1\" >1</th>\n",
       "                        <td id=\"T_3fafa_row1_col0\" class=\"data row1 col0\" >nan%</td>\n",
       "                        <td id=\"T_3fafa_row1_col1\" class=\"data row1 col1\" >0.1%</td>\n",
       "            </tr>\n",
       "    </tbody></table>"
      ],
      "text/plain": [
       "<pandas.io.formats.style.Styler at 0x7feda1203160>"
      ]
     },
     "metadata": {},
     "execution_count": 117
    }
   ],
   "metadata": {}
  },
  {
   "cell_type": "code",
   "execution_count": 118,
   "source": [
    "df.drop('open_il_6m', axis=1, inplace=True)"
   ],
   "outputs": [],
   "metadata": {}
  },
  {
   "cell_type": "markdown",
   "source": [
    "#### 45.\topen rv 12m: Número de operaciones rotativas abiertas en los últimos 12 meses.\n"
   ],
   "metadata": {}
  },
  {
   "cell_type": "code",
   "execution_count": 119,
   "source": [
    "df['open_rv_12m'].isnull().mean()"
   ],
   "outputs": [
    {
     "output_type": "execute_result",
     "data": {
      "text/plain": [
       "0.9994307647912212"
      ]
     },
     "metadata": {},
     "execution_count": 119
    }
   ],
   "metadata": {}
  },
  {
   "cell_type": "code",
   "execution_count": 120,
   "source": [
    "aux = df.copy()\n",
    "aux['aux'] = (aux['open_rv_12m'].notnull())*1\n",
    "col_vs_tgt(aux, 'aux')"
   ],
   "outputs": [
    {
     "output_type": "execute_result",
     "data": {
      "text/html": [
       "<style  type=\"text/css\" >\n",
       "#T_7b450_row0_col0,#T_7b450_row1_col0,#T_7b450_row1_col1{\n",
       "            background-color:  #f7fbff;\n",
       "            color:  #000000;\n",
       "        }#T_7b450_row0_col1{\n",
       "            background-color:  #08306b;\n",
       "            color:  #f1f1f1;\n",
       "        }</style><table id=\"T_7b450_\" ><thead>    <tr>        <th class=\"blank level0\" ></th>        <th class=\"col_heading level0 col0\" colspan=\"2\">id</th>    </tr>    <tr>        <th class=\"index_name level1\" >loan_status</th>        <th class=\"col_heading level1 col0\" >Charged Off</th>        <th class=\"col_heading level1 col1\" >Fully Paid</th>    </tr>    <tr>        <th class=\"index_name level0\" >grouped</th>        <th class=\"blank\" ></th>        <th class=\"blank\" ></th>    </tr></thead><tbody>\n",
       "                <tr>\n",
       "                        <th id=\"T_7b450_level0_row0\" class=\"row_heading level0 row0\" >0</th>\n",
       "                        <td id=\"T_7b450_row0_col0\" class=\"data row0 col0\" >100.0%</td>\n",
       "                        <td id=\"T_7b450_row0_col1\" class=\"data row0 col1\" >99.9%</td>\n",
       "            </tr>\n",
       "            <tr>\n",
       "                        <th id=\"T_7b450_level0_row1\" class=\"row_heading level0 row1\" >1</th>\n",
       "                        <td id=\"T_7b450_row1_col0\" class=\"data row1 col0\" >nan%</td>\n",
       "                        <td id=\"T_7b450_row1_col1\" class=\"data row1 col1\" >0.1%</td>\n",
       "            </tr>\n",
       "    </tbody></table>"
      ],
      "text/plain": [
       "<pandas.io.formats.style.Styler at 0x7fed87e101c0>"
      ]
     },
     "metadata": {},
     "execution_count": 120
    }
   ],
   "metadata": {}
  },
  {
   "cell_type": "code",
   "execution_count": 121,
   "source": [
    "df.drop('open_rv_12m', axis=1, inplace=True)"
   ],
   "outputs": [],
   "metadata": {}
  },
  {
   "cell_type": "markdown",
   "source": [
    "#### 46.\topen rv 24m: Número de operaciones rotativas abiertas en los últimos 24 meses.\n"
   ],
   "metadata": {}
  },
  {
   "cell_type": "code",
   "execution_count": 122,
   "source": [
    "df['open_rv_24m'].isnull().mean()"
   ],
   "outputs": [
    {
     "output_type": "execute_result",
     "data": {
      "text/plain": [
       "0.9994307647912212"
      ]
     },
     "metadata": {},
     "execution_count": 122
    }
   ],
   "metadata": {}
  },
  {
   "cell_type": "code",
   "execution_count": 123,
   "source": [
    "aux = df.copy()\n",
    "aux['aux'] = (aux['open_rv_24m'].notnull())*1\n",
    "col_vs_tgt(aux, 'aux')"
   ],
   "outputs": [
    {
     "output_type": "execute_result",
     "data": {
      "text/html": [
       "<style  type=\"text/css\" >\n",
       "#T_55976_row0_col0,#T_55976_row1_col0,#T_55976_row1_col1{\n",
       "            background-color:  #f7fbff;\n",
       "            color:  #000000;\n",
       "        }#T_55976_row0_col1{\n",
       "            background-color:  #08306b;\n",
       "            color:  #f1f1f1;\n",
       "        }</style><table id=\"T_55976_\" ><thead>    <tr>        <th class=\"blank level0\" ></th>        <th class=\"col_heading level0 col0\" colspan=\"2\">id</th>    </tr>    <tr>        <th class=\"index_name level1\" >loan_status</th>        <th class=\"col_heading level1 col0\" >Charged Off</th>        <th class=\"col_heading level1 col1\" >Fully Paid</th>    </tr>    <tr>        <th class=\"index_name level0\" >grouped</th>        <th class=\"blank\" ></th>        <th class=\"blank\" ></th>    </tr></thead><tbody>\n",
       "                <tr>\n",
       "                        <th id=\"T_55976_level0_row0\" class=\"row_heading level0 row0\" >0</th>\n",
       "                        <td id=\"T_55976_row0_col0\" class=\"data row0 col0\" >100.0%</td>\n",
       "                        <td id=\"T_55976_row0_col1\" class=\"data row0 col1\" >99.9%</td>\n",
       "            </tr>\n",
       "            <tr>\n",
       "                        <th id=\"T_55976_level0_row1\" class=\"row_heading level0 row1\" >1</th>\n",
       "                        <td id=\"T_55976_row1_col0\" class=\"data row1 col0\" >nan%</td>\n",
       "                        <td id=\"T_55976_row1_col1\" class=\"data row1 col1\" >0.1%</td>\n",
       "            </tr>\n",
       "    </tbody></table>"
      ],
      "text/plain": [
       "<pandas.io.formats.style.Styler at 0x7feda268fd90>"
      ]
     },
     "metadata": {},
     "execution_count": 123
    }
   ],
   "metadata": {}
  },
  {
   "cell_type": "code",
   "execution_count": 124,
   "source": [
    "df.drop('open_rv_24m', axis=1, inplace=True)"
   ],
   "outputs": [],
   "metadata": {}
  },
  {
   "cell_type": "markdown",
   "source": [
    "#### 47.\tout prncp: Capital pendiente restante para el monto total financiado.\n"
   ],
   "metadata": {}
  },
  {
   "cell_type": "code",
   "execution_count": 125,
   "source": [
    "df['out_prncp'].value_counts(1, dropna=False)"
   ],
   "outputs": [
    {
     "output_type": "execute_result",
     "data": {
      "text/plain": [
       "0.0    1.0\n",
       "Name: out_prncp, dtype: float64"
      ]
     },
     "metadata": {},
     "execution_count": 125
    }
   ],
   "metadata": {}
  },
  {
   "cell_type": "code",
   "execution_count": 126,
   "source": [
    "df.drop('out_prncp', axis=1, inplace=True)"
   ],
   "outputs": [],
   "metadata": {}
  },
  {
   "cell_type": "markdown",
   "source": [
    "#### 48.\tout prncp inv: Capital pendiente restante por parte del importe total financiado por los inversores.\n"
   ],
   "metadata": {}
  },
  {
   "cell_type": "code",
   "execution_count": 127,
   "source": [
    "df['out_prncp_inv'].value_counts(1, dropna=False)"
   ],
   "outputs": [
    {
     "output_type": "execute_result",
     "data": {
      "text/plain": [
       "0.0    1.0\n",
       "Name: out_prncp_inv, dtype: float64"
      ]
     },
     "metadata": {},
     "execution_count": 127
    }
   ],
   "metadata": {}
  },
  {
   "cell_type": "code",
   "execution_count": 128,
   "source": [
    "df.drop('out_prncp_inv', axis=1, inplace=True)"
   ],
   "outputs": [],
   "metadata": {}
  },
  {
   "cell_type": "markdown",
   "source": [
    "#### 49.\tpolicy code: disponible públicamente policy code=1 nuevos productos no disponibles públicamente policy code=2.\n"
   ],
   "metadata": {}
  },
  {
   "cell_type": "code",
   "execution_count": 129,
   "source": [
    "df['policy_code'].value_counts(1, dropna=False)"
   ],
   "outputs": [
    {
     "output_type": "execute_result",
     "data": {
      "text/plain": [
       "1.0    1.0\n",
       "Name: policy_code, dtype: float64"
      ]
     },
     "metadata": {},
     "execution_count": 129
    }
   ],
   "metadata": {}
  },
  {
   "cell_type": "code",
   "execution_count": 130,
   "source": [
    "df.drop('policy_code', axis=1, inplace=True)"
   ],
   "outputs": [],
   "metadata": {}
  },
  {
   "cell_type": "markdown",
   "source": [
    "#### 50.\tpub rec: Número de registros públicos despectivos.\n"
   ],
   "metadata": {}
  },
  {
   "cell_type": "code",
   "execution_count": 131,
   "source": [
    "df['pub_rec'].value_counts(1, dropna=False)"
   ],
   "outputs": [
    {
     "output_type": "execute_result",
     "data": {
      "text/plain": [
       "0.0     0.877741\n",
       "1.0     0.108044\n",
       "2.0     0.010068\n",
       "3.0     0.002672\n",
       "4.0     0.000799\n",
       "5.0     0.000364\n",
       "6.0     0.000154\n",
       "7.0     0.000075\n",
       "8.0     0.000032\n",
       "9.0     0.000020\n",
       "10.0    0.000020\n",
       "11.0    0.000004\n",
       "15.0    0.000004\n",
       "12.0    0.000004\n",
       "Name: pub_rec, dtype: float64"
      ]
     },
     "metadata": {},
     "execution_count": 131
    }
   ],
   "metadata": {}
  },
  {
   "cell_type": "code",
   "execution_count": 132,
   "source": [
    "df['pub_rec'] = (df['pub_rec']>0)*1\n",
    "df['pub_rec'].value_counts(1, dropna=False)"
   ],
   "outputs": [
    {
     "output_type": "execute_result",
     "data": {
      "text/plain": [
       "0    0.877741\n",
       "1    0.122259\n",
       "Name: pub_rec, dtype: float64"
      ]
     },
     "metadata": {},
     "execution_count": 132
    }
   ],
   "metadata": {}
  },
  {
   "cell_type": "code",
   "execution_count": 133,
   "source": [
    "vars_bin.append('pub_rec')\n",
    "col_vs_tgt(df, 'pub_rec')"
   ],
   "outputs": [
    {
     "output_type": "execute_result",
     "data": {
      "text/html": [
       "<style  type=\"text/css\" >\n",
       "#T_765a0_row0_col0,#T_765a0_row0_col1{\n",
       "            background-color:  #08306b;\n",
       "            color:  #f1f1f1;\n",
       "        }#T_765a0_row1_col0,#T_765a0_row1_col1{\n",
       "            background-color:  #f7fbff;\n",
       "            color:  #000000;\n",
       "        }</style><table id=\"T_765a0_\" ><thead>    <tr>        <th class=\"blank level0\" ></th>        <th class=\"col_heading level0 col0\" colspan=\"2\">id</th>    </tr>    <tr>        <th class=\"index_name level1\" >loan_status</th>        <th class=\"col_heading level1 col0\" >Charged Off</th>        <th class=\"col_heading level1 col1\" >Fully Paid</th>    </tr>    <tr>        <th class=\"index_name level0\" >grouped</th>        <th class=\"blank\" ></th>        <th class=\"blank\" ></th>    </tr></thead><tbody>\n",
       "                <tr>\n",
       "                        <th id=\"T_765a0_level0_row0\" class=\"row_heading level0 row0\" >0</th>\n",
       "                        <td id=\"T_765a0_row0_col0\" class=\"data row0 col0\" >87.8%</td>\n",
       "                        <td id=\"T_765a0_row0_col1\" class=\"data row0 col1\" >87.8%</td>\n",
       "            </tr>\n",
       "            <tr>\n",
       "                        <th id=\"T_765a0_level0_row1\" class=\"row_heading level0 row1\" >1</th>\n",
       "                        <td id=\"T_765a0_row1_col0\" class=\"data row1 col0\" >12.2%</td>\n",
       "                        <td id=\"T_765a0_row1_col1\" class=\"data row1 col1\" >12.2%</td>\n",
       "            </tr>\n",
       "    </tbody></table>"
      ],
      "text/plain": [
       "<pandas.io.formats.style.Styler at 0x7feda268cc10>"
      ]
     },
     "metadata": {},
     "execution_count": 133
    }
   ],
   "metadata": {}
  },
  {
   "cell_type": "markdown",
   "source": [
    "#### 51.\tpurpose: Una categoría proporcionada por el prestatario para la solicitud de préstamo.\n"
   ],
   "metadata": {}
  },
  {
   "cell_type": "code",
   "execution_count": 134,
   "source": [
    "df['purpose'].value_counts(1, dropna=False)"
   ],
   "outputs": [
    {
     "output_type": "execute_result",
     "data": {
      "text/plain": [
       "debt_consolidation    0.586482\n",
       "credit_card           0.197952\n",
       "home_improvement      0.059015\n",
       "other                 0.056437\n",
       "major_purchase        0.024766\n",
       "small_business        0.018761\n",
       "car                   0.014413\n",
       "medical               0.011282\n",
       "moving                0.008017\n",
       "wedding               0.007728\n",
       "house                 0.006530\n",
       "vacation              0.006277\n",
       "educational           0.001285\n",
       "renewable_energy      0.001055\n",
       "Name: purpose, dtype: float64"
      ]
     },
     "metadata": {},
     "execution_count": 134
    }
   ],
   "metadata": {}
  },
  {
   "cell_type": "code",
   "execution_count": 135,
   "source": [
    "df['purpose'] = group_lowfreq(df['purpose'], p=0.022)\n",
    "df['purpose'].value_counts(1, dropna=False)"
   ],
   "outputs": [
    {
     "output_type": "execute_result",
     "data": {
      "text/plain": [
       "debt_consolidation    0.586482\n",
       "credit_card           0.197952\n",
       "other                 0.131786\n",
       "home_improvement      0.059015\n",
       "major_purchase        0.024766\n",
       "Name: purpose, dtype: float64"
      ]
     },
     "metadata": {},
     "execution_count": 135
    }
   ],
   "metadata": {}
  },
  {
   "cell_type": "code",
   "execution_count": 136,
   "source": [
    "vars_cat.append('purpose')\n",
    "col_vs_tgt(df, 'purpose')"
   ],
   "outputs": [
    {
     "output_type": "execute_result",
     "data": {
      "text/html": [
       "<style  type=\"text/css\" >\n",
       "#T_1e9c9_row0_col0{\n",
       "            background-color:  #c3daee;\n",
       "            color:  #000000;\n",
       "        }#T_1e9c9_row0_col1{\n",
       "            background-color:  #b0d2e7;\n",
       "            color:  #000000;\n",
       "        }#T_1e9c9_row1_col0,#T_1e9c9_row1_col1{\n",
       "            background-color:  #08306b;\n",
       "            color:  #f1f1f1;\n",
       "        }#T_1e9c9_row2_col0{\n",
       "            background-color:  #edf4fc;\n",
       "            color:  #000000;\n",
       "        }#T_1e9c9_row2_col1{\n",
       "            background-color:  #eaf3fb;\n",
       "            color:  #000000;\n",
       "        }#T_1e9c9_row3_col0,#T_1e9c9_row3_col1{\n",
       "            background-color:  #f7fbff;\n",
       "            color:  #000000;\n",
       "        }#T_1e9c9_row4_col0{\n",
       "            background-color:  #cddff1;\n",
       "            color:  #000000;\n",
       "        }#T_1e9c9_row4_col1{\n",
       "            background-color:  #d3e3f3;\n",
       "            color:  #000000;\n",
       "        }</style><table id=\"T_1e9c9_\" ><thead>    <tr>        <th class=\"blank level0\" ></th>        <th class=\"col_heading level0 col0\" colspan=\"2\">id</th>    </tr>    <tr>        <th class=\"index_name level1\" >loan_status</th>        <th class=\"col_heading level1 col0\" >Charged Off</th>        <th class=\"col_heading level1 col1\" >Fully Paid</th>    </tr>    <tr>        <th class=\"index_name level0\" >grouped</th>        <th class=\"blank\" ></th>        <th class=\"blank\" ></th>    </tr></thead><tbody>\n",
       "                <tr>\n",
       "                        <th id=\"T_1e9c9_level0_row0\" class=\"row_heading level0 row0\" >credit_card</th>\n",
       "                        <td id=\"T_1e9c9_row0_col0\" class=\"data row0 col0\" >17.3%</td>\n",
       "                        <td id=\"T_1e9c9_row0_col1\" class=\"data row0 col1\" >20.3%</td>\n",
       "            </tr>\n",
       "            <tr>\n",
       "                        <th id=\"T_1e9c9_level0_row1\" class=\"row_heading level0 row1\" >debt_consolidation</th>\n",
       "                        <td id=\"T_1e9c9_row1_col0\" class=\"data row1 col0\" >61.0%</td>\n",
       "                        <td id=\"T_1e9c9_row1_col1\" class=\"data row1 col1\" >58.1%</td>\n",
       "            </tr>\n",
       "            <tr>\n",
       "                        <th id=\"T_1e9c9_level0_row2\" class=\"row_heading level0 row2\" >home_improvement</th>\n",
       "                        <td id=\"T_1e9c9_row2_col0\" class=\"data row2 col0\" >5.0%</td>\n",
       "                        <td id=\"T_1e9c9_row2_col1\" class=\"data row2 col1\" >6.1%</td>\n",
       "            </tr>\n",
       "            <tr>\n",
       "                        <th id=\"T_1e9c9_level0_row3\" class=\"row_heading level0 row3\" >major_purchase</th>\n",
       "                        <td id=\"T_1e9c9_row3_col0\" class=\"data row3 col0\" >1.9%</td>\n",
       "                        <td id=\"T_1e9c9_row3_col1\" class=\"data row3 col1\" >2.6%</td>\n",
       "            </tr>\n",
       "            <tr>\n",
       "                        <th id=\"T_1e9c9_level0_row4\" class=\"row_heading level0 row4\" >other</th>\n",
       "                        <td id=\"T_1e9c9_row4_col0\" class=\"data row4 col0\" >14.8%</td>\n",
       "                        <td id=\"T_1e9c9_row4_col1\" class=\"data row4 col1\" >12.8%</td>\n",
       "            </tr>\n",
       "    </tbody></table>"
      ],
      "text/plain": [
       "<pandas.io.formats.style.Styler at 0x7feda10b5460>"
      ]
     },
     "metadata": {},
     "execution_count": 136
    }
   ],
   "metadata": {}
  },
  {
   "cell_type": "markdown",
   "source": [
    "#### 52.\tpymnt plan: Indica si se ha establecido un plan de pago para el préstamo.\n"
   ],
   "metadata": {}
  },
  {
   "cell_type": "code",
   "execution_count": 137,
   "source": [
    "df['pymnt_plan'].value_counts(1, dropna=False)"
   ],
   "outputs": [
    {
     "output_type": "execute_result",
     "data": {
      "text/plain": [
       "n    0.999992\n",
       "y    0.000008\n",
       "Name: pymnt_plan, dtype: float64"
      ]
     },
     "metadata": {},
     "execution_count": 137
    }
   ],
   "metadata": {}
  },
  {
   "cell_type": "code",
   "execution_count": 138,
   "source": [
    "df.drop('pymnt_plan', axis=1, inplace=True)"
   ],
   "outputs": [],
   "metadata": {}
  },
  {
   "cell_type": "markdown",
   "source": [
    "#### 53.\trecoveries: cargo posterior a la recuperación bruta.\n"
   ],
   "metadata": {}
  },
  {
   "cell_type": "code",
   "execution_count": 139,
   "source": [
    "df['recoveries'].value_counts(1, dropna=False)"
   ],
   "outputs": [
    {
     "output_type": "execute_result",
     "data": {
      "text/plain": [
       "0.00       0.904388\n",
       "200.00     0.000040\n",
       "11.70      0.000036\n",
       "14.28      0.000036\n",
       "10.40      0.000032\n",
       "             ...   \n",
       "2350.08    0.000004\n",
       "136.41     0.000004\n",
       "280.05     0.000004\n",
       "253.27     0.000004\n",
       "339.26     0.000004\n",
       "Name: recoveries, Length: 22627, dtype: float64"
      ]
     },
     "metadata": {},
     "execution_count": 139
    }
   ],
   "metadata": {}
  },
  {
   "cell_type": "code",
   "execution_count": 140,
   "source": [
    "df['recoveries'] = (df['recoveries']>0)*1\n",
    "df['recoveries'].value_counts(1, dropna=False)"
   ],
   "outputs": [
    {
     "output_type": "execute_result",
     "data": {
      "text/plain": [
       "0    0.904388\n",
       "1    0.095612\n",
       "Name: recoveries, dtype: float64"
      ]
     },
     "metadata": {},
     "execution_count": 140
    }
   ],
   "metadata": {}
  },
  {
   "cell_type": "code",
   "execution_count": 141,
   "source": [
    "vars_bin.append('recoveries')\n",
    "col_vs_tgt(df, 'recoveries')"
   ],
   "outputs": [
    {
     "output_type": "execute_result",
     "data": {
      "text/html": [
       "<style  type=\"text/css\" >\n",
       "#T_80423_row0_col0,#T_80423_row0_col1,#T_80423_row1_col1{\n",
       "            background-color:  #f7fbff;\n",
       "            color:  #000000;\n",
       "        }#T_80423_row1_col0{\n",
       "            background-color:  #08306b;\n",
       "            color:  #f1f1f1;\n",
       "        }</style><table id=\"T_80423_\" ><thead>    <tr>        <th class=\"blank level0\" ></th>        <th class=\"col_heading level0 col0\" colspan=\"2\">id</th>    </tr>    <tr>        <th class=\"index_name level1\" >loan_status</th>        <th class=\"col_heading level1 col0\" >Charged Off</th>        <th class=\"col_heading level1 col1\" >Fully Paid</th>    </tr>    <tr>        <th class=\"index_name level0\" >grouped</th>        <th class=\"blank\" ></th>        <th class=\"blank\" ></th>    </tr></thead><tbody>\n",
       "                <tr>\n",
       "                        <th id=\"T_80423_level0_row0\" class=\"row_heading level0 row0\" >0</th>\n",
       "                        <td id=\"T_80423_row0_col0\" class=\"data row0 col0\" >46.5%</td>\n",
       "                        <td id=\"T_80423_row0_col1\" class=\"data row0 col1\" >100.0%</td>\n",
       "            </tr>\n",
       "            <tr>\n",
       "                        <th id=\"T_80423_level0_row1\" class=\"row_heading level0 row1\" >1</th>\n",
       "                        <td id=\"T_80423_row1_col0\" class=\"data row1 col0\" >53.5%</td>\n",
       "                        <td id=\"T_80423_row1_col1\" class=\"data row1 col1\" >nan%</td>\n",
       "            </tr>\n",
       "    </tbody></table>"
      ],
      "text/plain": [
       "<pandas.io.formats.style.Styler at 0x7fed8022c400>"
      ]
     },
     "metadata": {},
     "execution_count": 141
    }
   ],
   "metadata": {}
  },
  {
   "cell_type": "markdown",
   "source": [
    "#### 54.\trevol bal: Saldo rotatorio de crédito total.\n"
   ],
   "metadata": {}
  },
  {
   "cell_type": "code",
   "execution_count": 142,
   "source": [
    "df['revol_bal'].describe([i/10 for i in range(10)])"
   ],
   "outputs": [
    {
     "output_type": "execute_result",
     "data": {
      "text/plain": [
       "count    2.529710e+05\n",
       "mean     1.516798e+04\n",
       "std      1.874300e+04\n",
       "min      0.000000e+00\n",
       "0%       0.000000e+00\n",
       "10%      2.914000e+03\n",
       "20%      4.947000e+03\n",
       "30%      6.789000e+03\n",
       "40%      8.746000e+03\n",
       "50%      1.093700e+04\n",
       "60%      1.354300e+04\n",
       "70%      1.691500e+04\n",
       "80%      2.175600e+04\n",
       "90%      3.037000e+04\n",
       "max      1.746716e+06\n",
       "Name: revol_bal, dtype: float64"
      ]
     },
     "metadata": {},
     "execution_count": 142
    }
   ],
   "metadata": {}
  },
  {
   "cell_type": "code",
   "execution_count": 143,
   "source": [
    "df['revol_bal'], df_bins['revol_bal'] = pd.qcut(df['revol_bal'], q=5, retbins=True)\n",
    "vars_cat.append('revol_bal')\n",
    "col_vs_tgt(df, 'revol_bal')"
   ],
   "outputs": [
    {
     "output_type": "execute_result",
     "data": {
      "text/html": [
       "<style  type=\"text/css\" >\n",
       "#T_6a495_row0_col0,#T_6a495_row3_col1{\n",
       "            background-color:  #f7fbff;\n",
       "            color:  #000000;\n",
       "        }#T_6a495_row0_col1,#T_6a495_row3_col0{\n",
       "            background-color:  #08306b;\n",
       "            color:  #f1f1f1;\n",
       "        }#T_6a495_row1_col0{\n",
       "            background-color:  #63a8d3;\n",
       "            color:  #000000;\n",
       "        }#T_6a495_row1_col1{\n",
       "            background-color:  #7cb7da;\n",
       "            color:  #000000;\n",
       "        }#T_6a495_row2_col0{\n",
       "            background-color:  #1d6cb1;\n",
       "            color:  #f1f1f1;\n",
       "        }#T_6a495_row2_col1{\n",
       "            background-color:  #caddf0;\n",
       "            color:  #000000;\n",
       "        }#T_6a495_row4_col0{\n",
       "            background-color:  #64a9d3;\n",
       "            color:  #000000;\n",
       "        }#T_6a495_row4_col1{\n",
       "            background-color:  #77b5d9;\n",
       "            color:  #000000;\n",
       "        }</style><table id=\"T_6a495_\" ><thead>    <tr>        <th class=\"blank level0\" ></th>        <th class=\"col_heading level0 col0\" colspan=\"2\">id</th>    </tr>    <tr>        <th class=\"index_name level1\" >loan_status</th>        <th class=\"col_heading level1 col0\" >Charged Off</th>        <th class=\"col_heading level1 col1\" >Fully Paid</th>    </tr>    <tr>        <th class=\"index_name level0\" >grouped</th>        <th class=\"blank\" ></th>        <th class=\"blank\" ></th>    </tr></thead><tbody>\n",
       "                <tr>\n",
       "                        <th id=\"T_6a495_level0_row0\" class=\"row_heading level0 row0\" >(-0.001, 4947.0]</th>\n",
       "                        <td id=\"T_6a495_row0_col0\" class=\"data row0 col0\" >18.1%</td>\n",
       "                        <td id=\"T_6a495_row0_col1\" class=\"data row0 col1\" >20.4%</td>\n",
       "            </tr>\n",
       "            <tr>\n",
       "                        <th id=\"T_6a495_level0_row1\" class=\"row_heading level0 row1\" >(4947.0, 8746.0]</th>\n",
       "                        <td id=\"T_6a495_row1_col0\" class=\"data row1 col0\" >19.9%</td>\n",
       "                        <td id=\"T_6a495_row1_col1\" class=\"data row1 col1\" >20.0%</td>\n",
       "            </tr>\n",
       "            <tr>\n",
       "                        <th id=\"T_6a495_level0_row2\" class=\"row_heading level0 row2\" >(8746.0, 13543.0]</th>\n",
       "                        <td id=\"T_6a495_row2_col0\" class=\"data row2 col0\" >20.7%</td>\n",
       "                        <td id=\"T_6a495_row2_col1\" class=\"data row2 col1\" >19.9%</td>\n",
       "            </tr>\n",
       "            <tr>\n",
       "                        <th id=\"T_6a495_level0_row3\" class=\"row_heading level0 row3\" >(13543.0, 21756.0]</th>\n",
       "                        <td id=\"T_6a495_row3_col0\" class=\"data row3 col0\" >21.5%</td>\n",
       "                        <td id=\"T_6a495_row3_col1\" class=\"data row3 col1\" >19.7%</td>\n",
       "            </tr>\n",
       "            <tr>\n",
       "                        <th id=\"T_6a495_level0_row4\" class=\"row_heading level0 row4\" >(21756.0, 1746716.0]</th>\n",
       "                        <td id=\"T_6a495_row4_col0\" class=\"data row4 col0\" >19.9%</td>\n",
       "                        <td id=\"T_6a495_row4_col1\" class=\"data row4 col1\" >20.0%</td>\n",
       "            </tr>\n",
       "    </tbody></table>"
      ],
      "text/plain": [
       "<pandas.io.formats.style.Styler at 0x7fed84fe1bb0>"
      ]
     },
     "metadata": {},
     "execution_count": 143
    }
   ],
   "metadata": {}
  },
  {
   "cell_type": "markdown",
   "source": [
    "#### 55.\trevol util: Tasa de utilización de la línea rotativa, o la cantidad de crédito que el prestatario está utilizando en relación con todo el crédito rotatorio disponible.\n"
   ],
   "metadata": {}
  },
  {
   "cell_type": "code",
   "execution_count": 144,
   "source": [
    "df['revol_util'].isnull().mean()"
   ],
   "outputs": [
    {
     "output_type": "execute_result",
     "data": {
      "text/plain": [
       "0.0007866514343541354"
      ]
     },
     "metadata": {},
     "execution_count": 144
    }
   ],
   "metadata": {}
  },
  {
   "cell_type": "code",
   "execution_count": 145,
   "source": [
    "df.dropna(subset=['revol_util'], inplace=True)\n",
    "df['revol_util'].describe([i/10 for i in range(10)])"
   ],
   "outputs": [
    {
     "output_type": "execute_result",
     "data": {
      "text/plain": [
       "count    252772.000000\n",
       "mean         54.312093\n",
       "std          24.790577\n",
       "min           0.000000\n",
       "0%            0.000000\n",
       "10%          19.200000\n",
       "20%          31.500000\n",
       "30%          40.600000\n",
       "40%          48.500000\n",
       "50%          55.800000\n",
       "60%          62.900000\n",
       "70%          70.100000\n",
       "80%          77.800000\n",
       "90%          86.800000\n",
       "max         892.300000\n",
       "Name: revol_util, dtype: float64"
      ]
     },
     "metadata": {},
     "execution_count": 145
    }
   ],
   "metadata": {}
  },
  {
   "cell_type": "code",
   "execution_count": 146,
   "source": [
    "df['revol_util'], df_bins['revol_util'] = pd.qcut(df['revol_util'], q=5, retbins=True)\n",
    "vars_cat.append('revol_util')\n",
    "col_vs_tgt(df, 'revol_util')"
   ],
   "outputs": [
    {
     "output_type": "execute_result",
     "data": {
      "text/html": [
       "<style  type=\"text/css\" >\n",
       "#T_be17f_row0_col0,#T_be17f_row4_col1{\n",
       "            background-color:  #f7fbff;\n",
       "            color:  #000000;\n",
       "        }#T_be17f_row0_col1,#T_be17f_row4_col0{\n",
       "            background-color:  #08306b;\n",
       "            color:  #f1f1f1;\n",
       "        }#T_be17f_row1_col0{\n",
       "            background-color:  #9dcae1;\n",
       "            color:  #000000;\n",
       "        }#T_be17f_row1_col1{\n",
       "            background-color:  #4896c8;\n",
       "            color:  #000000;\n",
       "        }#T_be17f_row2_col0{\n",
       "            background-color:  #4b98ca;\n",
       "            color:  #000000;\n",
       "        }#T_be17f_row2_col1{\n",
       "            background-color:  #9ac8e0;\n",
       "            color:  #000000;\n",
       "        }#T_be17f_row3_col0{\n",
       "            background-color:  #1865ac;\n",
       "            color:  #f1f1f1;\n",
       "        }#T_be17f_row3_col1{\n",
       "            background-color:  #d2e3f3;\n",
       "            color:  #000000;\n",
       "        }</style><table id=\"T_be17f_\" ><thead>    <tr>        <th class=\"blank level0\" ></th>        <th class=\"col_heading level0 col0\" colspan=\"2\">id</th>    </tr>    <tr>        <th class=\"index_name level1\" >loan_status</th>        <th class=\"col_heading level1 col0\" >Charged Off</th>        <th class=\"col_heading level1 col1\" >Fully Paid</th>    </tr>    <tr>        <th class=\"index_name level0\" >grouped</th>        <th class=\"blank\" ></th>        <th class=\"blank\" ></th>    </tr></thead><tbody>\n",
       "                <tr>\n",
       "                        <th id=\"T_be17f_level0_row0\" class=\"row_heading level0 row0\" >(-0.001, 31.5]</th>\n",
       "                        <td id=\"T_be17f_row0_col0\" class=\"data row0 col0\" >13.5%</td>\n",
       "                        <td id=\"T_be17f_row0_col1\" class=\"data row0 col1\" >21.5%</td>\n",
       "            </tr>\n",
       "            <tr>\n",
       "                        <th id=\"T_be17f_level0_row1\" class=\"row_heading level0 row1\" >(31.5, 48.5]</th>\n",
       "                        <td id=\"T_be17f_row1_col0\" class=\"data row1 col0\" >17.9%</td>\n",
       "                        <td id=\"T_be17f_row1_col1\" class=\"data row1 col1\" >20.5%</td>\n",
       "            </tr>\n",
       "            <tr>\n",
       "                        <th id=\"T_be17f_level0_row2\" class=\"row_heading level0 row2\" >(48.5, 62.9]</th>\n",
       "                        <td id=\"T_be17f_row2_col0\" class=\"data row2 col0\" >20.5%</td>\n",
       "                        <td id=\"T_be17f_row2_col1\" class=\"data row2 col1\" >19.9%</td>\n",
       "            </tr>\n",
       "            <tr>\n",
       "                        <th id=\"T_be17f_level0_row3\" class=\"row_heading level0 row3\" >(62.9, 77.8]</th>\n",
       "                        <td id=\"T_be17f_row3_col0\" class=\"data row3 col0\" >22.8%</td>\n",
       "                        <td id=\"T_be17f_row3_col1\" class=\"data row3 col1\" >19.3%</td>\n",
       "            </tr>\n",
       "            <tr>\n",
       "                        <th id=\"T_be17f_level0_row4\" class=\"row_heading level0 row4\" >(77.8, 892.3]</th>\n",
       "                        <td id=\"T_be17f_row4_col0\" class=\"data row4 col0\" >25.2%</td>\n",
       "                        <td id=\"T_be17f_row4_col1\" class=\"data row4 col1\" >18.8%</td>\n",
       "            </tr>\n",
       "    </tbody></table>"
      ],
      "text/plain": [
       "<pandas.io.formats.style.Styler at 0x7fed8022c640>"
      ]
     },
     "metadata": {},
     "execution_count": 146
    }
   ],
   "metadata": {}
  },
  {
   "cell_type": "markdown",
   "source": [
    "#### 56.\tsub grade: Subsuelo de préstamo asignado LC.\n"
   ],
   "metadata": {}
  },
  {
   "cell_type": "code",
   "execution_count": 147,
   "source": [
    "df[['grade','sub_grade']].value_counts().to_frame().sort_index()"
   ],
   "outputs": [
    {
     "output_type": "execute_result",
     "data": {
      "text/html": [
       "<div>\n",
       "<style scoped>\n",
       "    .dataframe tbody tr th:only-of-type {\n",
       "        vertical-align: middle;\n",
       "    }\n",
       "\n",
       "    .dataframe tbody tr th {\n",
       "        vertical-align: top;\n",
       "    }\n",
       "\n",
       "    .dataframe thead th {\n",
       "        text-align: right;\n",
       "    }\n",
       "</style>\n",
       "<table border=\"1\" class=\"dataframe\">\n",
       "  <thead>\n",
       "    <tr style=\"text-align: right;\">\n",
       "      <th></th>\n",
       "      <th></th>\n",
       "      <th>0</th>\n",
       "    </tr>\n",
       "    <tr>\n",
       "      <th>grade</th>\n",
       "      <th>sub_grade</th>\n",
       "      <th></th>\n",
       "    </tr>\n",
       "  </thead>\n",
       "  <tbody>\n",
       "    <tr>\n",
       "      <th rowspan=\"5\" valign=\"top\">A</th>\n",
       "      <th>A1</th>\n",
       "      <td>5868</td>\n",
       "    </tr>\n",
       "    <tr>\n",
       "      <th>A2</th>\n",
       "      <td>6202</td>\n",
       "    </tr>\n",
       "    <tr>\n",
       "      <th>A3</th>\n",
       "      <td>7171</td>\n",
       "    </tr>\n",
       "    <tr>\n",
       "      <th>A4</th>\n",
       "      <td>11054</td>\n",
       "    </tr>\n",
       "    <tr>\n",
       "      <th>A5</th>\n",
       "      <td>11991</td>\n",
       "    </tr>\n",
       "    <tr>\n",
       "      <th rowspan=\"5\" valign=\"top\">B</th>\n",
       "      <th>B1</th>\n",
       "      <td>12093</td>\n",
       "    </tr>\n",
       "    <tr>\n",
       "      <th>B2</th>\n",
       "      <td>14624</td>\n",
       "    </tr>\n",
       "    <tr>\n",
       "      <th>B3</th>\n",
       "      <td>18062</td>\n",
       "    </tr>\n",
       "    <tr>\n",
       "      <th>B4</th>\n",
       "      <td>16922</td>\n",
       "    </tr>\n",
       "    <tr>\n",
       "      <th>B5</th>\n",
       "      <td>14339</td>\n",
       "    </tr>\n",
       "    <tr>\n",
       "      <th rowspan=\"5\" valign=\"top\">C</th>\n",
       "      <th>C1</th>\n",
       "      <td>14949</td>\n",
       "    </tr>\n",
       "    <tr>\n",
       "      <th>C2</th>\n",
       "      <td>14326</td>\n",
       "    </tr>\n",
       "    <tr>\n",
       "      <th>C3</th>\n",
       "      <td>12769</td>\n",
       "    </tr>\n",
       "    <tr>\n",
       "      <th>C4</th>\n",
       "      <td>12044</td>\n",
       "    </tr>\n",
       "    <tr>\n",
       "      <th>C5</th>\n",
       "      <td>11179</td>\n",
       "    </tr>\n",
       "    <tr>\n",
       "      <th rowspan=\"5\" valign=\"top\">D</th>\n",
       "      <th>D1</th>\n",
       "      <td>10030</td>\n",
       "    </tr>\n",
       "    <tr>\n",
       "      <th>D2</th>\n",
       "      <td>9035</td>\n",
       "    </tr>\n",
       "    <tr>\n",
       "      <th>D3</th>\n",
       "      <td>7981</td>\n",
       "    </tr>\n",
       "    <tr>\n",
       "      <th>D4</th>\n",
       "      <td>7374</td>\n",
       "    </tr>\n",
       "    <tr>\n",
       "      <th>D5</th>\n",
       "      <td>6026</td>\n",
       "    </tr>\n",
       "    <tr>\n",
       "      <th rowspan=\"5\" valign=\"top\">E</th>\n",
       "      <th>E1</th>\n",
       "      <td>4702</td>\n",
       "    </tr>\n",
       "    <tr>\n",
       "      <th>E2</th>\n",
       "      <td>4522</td>\n",
       "    </tr>\n",
       "    <tr>\n",
       "      <th>E3</th>\n",
       "      <td>3790</td>\n",
       "    </tr>\n",
       "    <tr>\n",
       "      <th>E4</th>\n",
       "      <td>3326</td>\n",
       "    </tr>\n",
       "    <tr>\n",
       "      <th>E5</th>\n",
       "      <td>2814</td>\n",
       "    </tr>\n",
       "    <tr>\n",
       "      <th rowspan=\"5\" valign=\"top\">F</th>\n",
       "      <th>F1</th>\n",
       "      <td>2227</td>\n",
       "    </tr>\n",
       "    <tr>\n",
       "      <th>F2</th>\n",
       "      <td>1741</td>\n",
       "    </tr>\n",
       "    <tr>\n",
       "      <th>F3</th>\n",
       "      <td>1531</td>\n",
       "    </tr>\n",
       "    <tr>\n",
       "      <th>F4</th>\n",
       "      <td>1189</td>\n",
       "    </tr>\n",
       "    <tr>\n",
       "      <th>F5</th>\n",
       "      <td>959</td>\n",
       "    </tr>\n",
       "    <tr>\n",
       "      <th rowspan=\"5\" valign=\"top\">G</th>\n",
       "      <th>G1</th>\n",
       "      <td>687</td>\n",
       "    </tr>\n",
       "    <tr>\n",
       "      <th>G2</th>\n",
       "      <td>496</td>\n",
       "    </tr>\n",
       "    <tr>\n",
       "      <th>G3</th>\n",
       "      <td>330</td>\n",
       "    </tr>\n",
       "    <tr>\n",
       "      <th>G4</th>\n",
       "      <td>233</td>\n",
       "    </tr>\n",
       "    <tr>\n",
       "      <th>G5</th>\n",
       "      <td>186</td>\n",
       "    </tr>\n",
       "  </tbody>\n",
       "</table>\n",
       "</div>"
      ],
      "text/plain": [
       "                     0\n",
       "grade sub_grade       \n",
       "A     A1          5868\n",
       "      A2          6202\n",
       "      A3          7171\n",
       "      A4         11054\n",
       "      A5         11991\n",
       "B     B1         12093\n",
       "      B2         14624\n",
       "      B3         18062\n",
       "      B4         16922\n",
       "      B5         14339\n",
       "C     C1         14949\n",
       "      C2         14326\n",
       "      C3         12769\n",
       "      C4         12044\n",
       "      C5         11179\n",
       "D     D1         10030\n",
       "      D2          9035\n",
       "      D3          7981\n",
       "      D4          7374\n",
       "      D5          6026\n",
       "E     E1          4702\n",
       "      E2          4522\n",
       "      E3          3790\n",
       "      E4          3326\n",
       "      E5          2814\n",
       "F     F1          2227\n",
       "      F2          1741\n",
       "      F3          1531\n",
       "      F4          1189\n",
       "      F5           959\n",
       "G     G1           687\n",
       "      G2           496\n",
       "      G3           330\n",
       "      G4           233\n",
       "      G5           186"
      ]
     },
     "metadata": {},
     "execution_count": 147
    }
   ],
   "metadata": {}
  },
  {
   "cell_type": "code",
   "execution_count": 148,
   "source": [
    "vars_cat.append('sub_grade')\n",
    "col_vs_tgt(df, 'sub_grade')"
   ],
   "outputs": [
    {
     "output_type": "execute_result",
     "data": {
      "text/html": [
       "<style  type=\"text/css\" >\n",
       "#T_e3913_row0_col0{\n",
       "            background-color:  #eff6fc;\n",
       "            color:  #000000;\n",
       "        }#T_e3913_row0_col1{\n",
       "            background-color:  #a4cce3;\n",
       "            color:  #000000;\n",
       "        }#T_e3913_row1_col0{\n",
       "            background-color:  #e7f1fa;\n",
       "            color:  #000000;\n",
       "        }#T_e3913_row1_col1{\n",
       "            background-color:  #a0cbe2;\n",
       "            color:  #000000;\n",
       "        }#T_e3913_row2_col0,#T_e3913_row23_col1{\n",
       "            background-color:  #ddeaf7;\n",
       "            color:  #000000;\n",
       "        }#T_e3913_row2_col1,#T_e3913_row16_col1{\n",
       "            background-color:  #8abfdd;\n",
       "            color:  #000000;\n",
       "        }#T_e3913_row3_col0{\n",
       "            background-color:  #bcd7eb;\n",
       "            color:  #000000;\n",
       "        }#T_e3913_row3_col1{\n",
       "            background-color:  #3c8cc3;\n",
       "            color:  #000000;\n",
       "        }#T_e3913_row4_col0{\n",
       "            background-color:  #a1cbe2;\n",
       "            color:  #000000;\n",
       "        }#T_e3913_row4_col1{\n",
       "            background-color:  #3080bd;\n",
       "            color:  #000000;\n",
       "        }#T_e3913_row5_col0{\n",
       "            background-color:  #7cb7da;\n",
       "            color:  #000000;\n",
       "        }#T_e3913_row5_col1{\n",
       "            background-color:  #3282be;\n",
       "            color:  #000000;\n",
       "        }#T_e3913_row6_col0{\n",
       "            background-color:  #4695c8;\n",
       "            color:  #000000;\n",
       "        }#T_e3913_row6_col1{\n",
       "            background-color:  #125ea6;\n",
       "            color:  #f1f1f1;\n",
       "        }#T_e3913_row7_col0{\n",
       "            background-color:  #08509b;\n",
       "            color:  #f1f1f1;\n",
       "        }#T_e3913_row7_col1,#T_e3913_row13_col0{\n",
       "            background-color:  #08306b;\n",
       "            color:  #f1f1f1;\n",
       "        }#T_e3913_row8_col0{\n",
       "            background-color:  #084990;\n",
       "            color:  #f1f1f1;\n",
       "        }#T_e3913_row8_col1{\n",
       "            background-color:  #084488;\n",
       "            color:  #f1f1f1;\n",
       "        }#T_e3913_row9_col0{\n",
       "            background-color:  #125da6;\n",
       "            color:  #f1f1f1;\n",
       "        }#T_e3913_row9_col1{\n",
       "            background-color:  #1c6bb0;\n",
       "            color:  #f1f1f1;\n",
       "        }#T_e3913_row10_col0{\n",
       "            background-color:  #083877;\n",
       "            color:  #f1f1f1;\n",
       "        }#T_e3913_row10_col1,#T_e3913_row17_col0{\n",
       "            background-color:  #1967ad;\n",
       "            color:  #f1f1f1;\n",
       "        }#T_e3913_row11_col0{\n",
       "            background-color:  #083370;\n",
       "            color:  #f1f1f1;\n",
       "        }#T_e3913_row11_col1{\n",
       "            background-color:  #2272b6;\n",
       "            color:  #f1f1f1;\n",
       "        }#T_e3913_row12_col0{\n",
       "            background-color:  #08316d;\n",
       "            color:  #f1f1f1;\n",
       "        }#T_e3913_row12_col1{\n",
       "            background-color:  #3d8dc4;\n",
       "            color:  #000000;\n",
       "        }#T_e3913_row13_col1{\n",
       "            background-color:  #4b98ca;\n",
       "            color:  #000000;\n",
       "        }#T_e3913_row14_col0{\n",
       "            background-color:  #083573;\n",
       "            color:  #f1f1f1;\n",
       "        }#T_e3913_row14_col1{\n",
       "            background-color:  #5ca4d0;\n",
       "            color:  #000000;\n",
       "        }#T_e3913_row15_col0{\n",
       "            background-color:  #08458a;\n",
       "            color:  #f1f1f1;\n",
       "        }#T_e3913_row15_col1{\n",
       "            background-color:  #72b2d8;\n",
       "            color:  #000000;\n",
       "        }#T_e3913_row16_col0{\n",
       "            background-color:  #084f99;\n",
       "            color:  #f1f1f1;\n",
       "        }#T_e3913_row17_col1{\n",
       "            background-color:  #9fcae1;\n",
       "            color:  #000000;\n",
       "        }#T_e3913_row18_col0{\n",
       "            background-color:  #1562a9;\n",
       "            color:  #f1f1f1;\n",
       "        }#T_e3913_row18_col1{\n",
       "            background-color:  #add0e6;\n",
       "            color:  #000000;\n",
       "        }#T_e3913_row19_col0{\n",
       "            background-color:  #3888c1;\n",
       "            color:  #000000;\n",
       "        }#T_e3913_row19_col1{\n",
       "            background-color:  #c1d9ed;\n",
       "            color:  #000000;\n",
       "        }#T_e3913_row20_col0{\n",
       "            background-color:  #64a9d3;\n",
       "            color:  #000000;\n",
       "        }#T_e3913_row20_col1{\n",
       "            background-color:  #cfe1f2;\n",
       "            color:  #000000;\n",
       "        }#T_e3913_row21_col0{\n",
       "            background-color:  #56a0ce;\n",
       "            color:  #000000;\n",
       "        }#T_e3913_row21_col1{\n",
       "            background-color:  #d3e3f3;\n",
       "            color:  #000000;\n",
       "        }#T_e3913_row22_col0{\n",
       "            background-color:  #79b5d9;\n",
       "            color:  #000000;\n",
       "        }#T_e3913_row22_col1{\n",
       "            background-color:  #d9e7f5;\n",
       "            color:  #000000;\n",
       "        }#T_e3913_row23_col0{\n",
       "            background-color:  #89bedc;\n",
       "            color:  #000000;\n",
       "        }#T_e3913_row24_col0{\n",
       "            background-color:  #9cc9e1;\n",
       "            color:  #000000;\n",
       "        }#T_e3913_row24_col1{\n",
       "            background-color:  #e2edf8;\n",
       "            color:  #000000;\n",
       "        }#T_e3913_row25_col0{\n",
       "            background-color:  #bdd7ec;\n",
       "            color:  #000000;\n",
       "        }#T_e3913_row25_col1,#T_e3913_row30_col0{\n",
       "            background-color:  #e6f0f9;\n",
       "            color:  #000000;\n",
       "        }#T_e3913_row26_col0{\n",
       "            background-color:  #ccdff1;\n",
       "            color:  #000000;\n",
       "        }#T_e3913_row26_col1{\n",
       "            background-color:  #eaf3fb;\n",
       "            color:  #000000;\n",
       "        }#T_e3913_row27_col0{\n",
       "            background-color:  #cddff1;\n",
       "            color:  #000000;\n",
       "        }#T_e3913_row27_col1{\n",
       "            background-color:  #edf4fc;\n",
       "            color:  #000000;\n",
       "        }#T_e3913_row28_col0{\n",
       "            background-color:  #d6e5f4;\n",
       "            color:  #000000;\n",
       "        }#T_e3913_row28_col1{\n",
       "            background-color:  #f0f6fd;\n",
       "            color:  #000000;\n",
       "        }#T_e3913_row29_col0{\n",
       "            background-color:  #dce9f6;\n",
       "            color:  #000000;\n",
       "        }#T_e3913_row29_col1{\n",
       "            background-color:  #f2f7fd;\n",
       "            color:  #000000;\n",
       "        }#T_e3913_row30_col1{\n",
       "            background-color:  #f4f9fe;\n",
       "            color:  #000000;\n",
       "        }#T_e3913_row31_col0{\n",
       "            background-color:  #eef5fc;\n",
       "            color:  #000000;\n",
       "        }#T_e3913_row31_col1{\n",
       "            background-color:  #f5f9fe;\n",
       "            color:  #000000;\n",
       "        }#T_e3913_row32_col0{\n",
       "            background-color:  #f2f8fd;\n",
       "            color:  #000000;\n",
       "        }#T_e3913_row32_col1{\n",
       "            background-color:  #f6faff;\n",
       "            color:  #000000;\n",
       "        }#T_e3913_row33_col0,#T_e3913_row33_col1,#T_e3913_row34_col0,#T_e3913_row34_col1{\n",
       "            background-color:  #f7fbff;\n",
       "            color:  #000000;\n",
       "        }</style><table id=\"T_e3913_\" ><thead>    <tr>        <th class=\"blank level0\" ></th>        <th class=\"col_heading level0 col0\" colspan=\"2\">id</th>    </tr>    <tr>        <th class=\"index_name level1\" >loan_status</th>        <th class=\"col_heading level1 col0\" >Charged Off</th>        <th class=\"col_heading level1 col1\" >Fully Paid</th>    </tr>    <tr>        <th class=\"index_name level0\" >grouped</th>        <th class=\"blank\" ></th>        <th class=\"blank\" ></th>    </tr></thead><tbody>\n",
       "                <tr>\n",
       "                        <th id=\"T_e3913_level0_row0\" class=\"row_heading level0 row0\" >A1</th>\n",
       "                        <td id=\"T_e3913_row0_col0\" class=\"data row0 col0\" >0.4%</td>\n",
       "                        <td id=\"T_e3913_row0_col1\" class=\"data row0 col1\" >2.7%</td>\n",
       "            </tr>\n",
       "            <tr>\n",
       "                        <th id=\"T_e3913_level0_row1\" class=\"row_heading level0 row1\" >A2</th>\n",
       "                        <td id=\"T_e3913_row1_col0\" class=\"data row1 col0\" >0.6%</td>\n",
       "                        <td id=\"T_e3913_row1_col1\" class=\"data row1 col1\" >2.9%</td>\n",
       "            </tr>\n",
       "            <tr>\n",
       "                        <th id=\"T_e3913_level0_row2\" class=\"row_heading level0 row2\" >A3</th>\n",
       "                        <td id=\"T_e3913_row2_col0\" class=\"data row2 col0\" >0.9%</td>\n",
       "                        <td id=\"T_e3913_row2_col1\" class=\"data row2 col1\" >3.3%</td>\n",
       "            </tr>\n",
       "            <tr>\n",
       "                        <th id=\"T_e3913_level0_row3\" class=\"row_heading level0 row3\" >A4</th>\n",
       "                        <td id=\"T_e3913_row3_col0\" class=\"data row3 col0\" >1.7%</td>\n",
       "                        <td id=\"T_e3913_row3_col1\" class=\"data row3 col1\" >5.0%</td>\n",
       "            </tr>\n",
       "            <tr>\n",
       "                        <th id=\"T_e3913_level0_row4\" class=\"row_heading level0 row4\" >A5</th>\n",
       "                        <td id=\"T_e3913_row4_col0\" class=\"data row4 col0\" >2.2%</td>\n",
       "                        <td id=\"T_e3913_row4_col1\" class=\"data row4 col1\" >5.3%</td>\n",
       "            </tr>\n",
       "            <tr>\n",
       "                        <th id=\"T_e3913_level0_row5\" class=\"row_heading level0 row5\" >B1</th>\n",
       "                        <td id=\"T_e3913_row5_col0\" class=\"data row5 col0\" >2.7%</td>\n",
       "                        <td id=\"T_e3913_row5_col1\" class=\"data row5 col1\" >5.2%</td>\n",
       "            </tr>\n",
       "            <tr>\n",
       "                        <th id=\"T_e3913_level0_row6\" class=\"row_heading level0 row6\" >B2</th>\n",
       "                        <td id=\"T_e3913_row6_col0\" class=\"data row6 col0\" >3.5%</td>\n",
       "                        <td id=\"T_e3913_row6_col1\" class=\"data row6 col1\" >6.3%</td>\n",
       "            </tr>\n",
       "            <tr>\n",
       "                        <th id=\"T_e3913_level0_row7\" class=\"row_heading level0 row7\" >B3</th>\n",
       "                        <td id=\"T_e3913_row7_col0\" class=\"data row7 col0\" >5.0%</td>\n",
       "                        <td id=\"T_e3913_row7_col1\" class=\"data row7 col1\" >7.6%</td>\n",
       "            </tr>\n",
       "            <tr>\n",
       "                        <th id=\"T_e3913_level0_row8\" class=\"row_heading level0 row8\" >B4</th>\n",
       "                        <td id=\"T_e3913_row8_col0\" class=\"data row8 col0\" >5.1%</td>\n",
       "                        <td id=\"T_e3913_row8_col1\" class=\"data row8 col1\" >7.0%</td>\n",
       "            </tr>\n",
       "            <tr>\n",
       "                        <th id=\"T_e3913_level0_row9\" class=\"row_heading level0 row9\" >B5</th>\n",
       "                        <td id=\"T_e3913_row9_col0\" class=\"data row9 col0\" >4.7%</td>\n",
       "                        <td id=\"T_e3913_row9_col1\" class=\"data row9 col1\" >5.9%</td>\n",
       "            </tr>\n",
       "            <tr>\n",
       "                        <th id=\"T_e3913_level0_row10\" class=\"row_heading level0 row10\" >C1</th>\n",
       "                        <td id=\"T_e3913_row10_col0\" class=\"data row10 col0\" >5.5%</td>\n",
       "                        <td id=\"T_e3913_row10_col1\" class=\"data row10 col1\" >6.0%</td>\n",
       "            </tr>\n",
       "            <tr>\n",
       "                        <th id=\"T_e3913_level0_row11\" class=\"row_heading level0 row11\" >C2</th>\n",
       "                        <td id=\"T_e3913_row11_col0\" class=\"data row11 col0\" >5.6%</td>\n",
       "                        <td id=\"T_e3913_row11_col1\" class=\"data row11 col1\" >5.7%</td>\n",
       "            </tr>\n",
       "            <tr>\n",
       "                        <th id=\"T_e3913_level0_row12\" class=\"row_heading level0 row12\" >C3</th>\n",
       "                        <td id=\"T_e3913_row12_col0\" class=\"data row12 col0\" >5.6%</td>\n",
       "                        <td id=\"T_e3913_row12_col1\" class=\"data row12 col1\" >4.9%</td>\n",
       "            </tr>\n",
       "            <tr>\n",
       "                        <th id=\"T_e3913_level0_row13\" class=\"row_heading level0 row13\" >C4</th>\n",
       "                        <td id=\"T_e3913_row13_col0\" class=\"data row13 col0\" >5.7%</td>\n",
       "                        <td id=\"T_e3913_row13_col1\" class=\"data row13 col1\" >4.6%</td>\n",
       "            </tr>\n",
       "            <tr>\n",
       "                        <th id=\"T_e3913_level0_row14\" class=\"row_heading level0 row14\" >C5</th>\n",
       "                        <td id=\"T_e3913_row14_col0\" class=\"data row14 col0\" >5.6%</td>\n",
       "                        <td id=\"T_e3913_row14_col1\" class=\"data row14 col1\" >4.2%</td>\n",
       "            </tr>\n",
       "            <tr>\n",
       "                        <th id=\"T_e3913_level0_row15\" class=\"row_heading level0 row15\" >D1</th>\n",
       "                        <td id=\"T_e3913_row15_col0\" class=\"data row15 col0\" >5.2%</td>\n",
       "                        <td id=\"T_e3913_row15_col1\" class=\"data row15 col1\" >3.7%</td>\n",
       "            </tr>\n",
       "            <tr>\n",
       "                        <th id=\"T_e3913_level0_row16\" class=\"row_heading level0 row16\" >D2</th>\n",
       "                        <td id=\"T_e3913_row16_col0\" class=\"data row16 col0\" >5.0%</td>\n",
       "                        <td id=\"T_e3913_row16_col1\" class=\"data row16 col1\" >3.3%</td>\n",
       "            </tr>\n",
       "            <tr>\n",
       "                        <th id=\"T_e3913_level0_row17\" class=\"row_heading level0 row17\" >D3</th>\n",
       "                        <td id=\"T_e3913_row17_col0\" class=\"data row17 col0\" >4.5%</td>\n",
       "                        <td id=\"T_e3913_row17_col1\" class=\"data row17 col1\" >2.9%</td>\n",
       "            </tr>\n",
       "            <tr>\n",
       "                        <th id=\"T_e3913_level0_row18\" class=\"row_heading level0 row18\" >D4</th>\n",
       "                        <td id=\"T_e3913_row18_col0\" class=\"data row18 col0\" >4.6%</td>\n",
       "                        <td id=\"T_e3913_row18_col1\" class=\"data row18 col1\" >2.6%</td>\n",
       "            </tr>\n",
       "            <tr>\n",
       "                        <th id=\"T_e3913_level0_row19\" class=\"row_heading level0 row19\" >D5</th>\n",
       "                        <td id=\"T_e3913_row19_col0\" class=\"data row19 col0\" >3.8%</td>\n",
       "                        <td id=\"T_e3913_row19_col1\" class=\"data row19 col1\" >2.1%</td>\n",
       "            </tr>\n",
       "            <tr>\n",
       "                        <th id=\"T_e3913_level0_row20\" class=\"row_heading level0 row20\" >E1</th>\n",
       "                        <td id=\"T_e3913_row20_col0\" class=\"data row20 col0\" >3.0%</td>\n",
       "                        <td id=\"T_e3913_row20_col1\" class=\"data row20 col1\" >1.6%</td>\n",
       "            </tr>\n",
       "            <tr>\n",
       "                        <th id=\"T_e3913_level0_row21\" class=\"row_heading level0 row21\" >E2</th>\n",
       "                        <td id=\"T_e3913_row21_col0\" class=\"data row21 col0\" >3.3%</td>\n",
       "                        <td id=\"T_e3913_row21_col1\" class=\"data row21 col1\" >1.5%</td>\n",
       "            </tr>\n",
       "            <tr>\n",
       "                        <th id=\"T_e3913_level0_row22\" class=\"row_heading level0 row22\" >E3</th>\n",
       "                        <td id=\"T_e3913_row22_col0\" class=\"data row22 col0\" >2.7%</td>\n",
       "                        <td id=\"T_e3913_row22_col1\" class=\"data row22 col1\" >1.2%</td>\n",
       "            </tr>\n",
       "            <tr>\n",
       "                        <th id=\"T_e3913_level0_row23\" class=\"row_heading level0 row23\" >E4</th>\n",
       "                        <td id=\"T_e3913_row23_col0\" class=\"data row23 col0\" >2.5%</td>\n",
       "                        <td id=\"T_e3913_row23_col1\" class=\"data row23 col1\" >1.1%</td>\n",
       "            </tr>\n",
       "            <tr>\n",
       "                        <th id=\"T_e3913_level0_row24\" class=\"row_heading level0 row24\" >E5</th>\n",
       "                        <td id=\"T_e3913_row24_col0\" class=\"data row24 col0\" >2.3%</td>\n",
       "                        <td id=\"T_e3913_row24_col1\" class=\"data row24 col1\" >0.9%</td>\n",
       "            </tr>\n",
       "            <tr>\n",
       "                        <th id=\"T_e3913_level0_row25\" class=\"row_heading level0 row25\" >F1</th>\n",
       "                        <td id=\"T_e3913_row25_col0\" class=\"data row25 col0\" >1.7%</td>\n",
       "                        <td id=\"T_e3913_row25_col1\" class=\"data row25 col1\" >0.7%</td>\n",
       "            </tr>\n",
       "            <tr>\n",
       "                        <th id=\"T_e3913_level0_row26\" class=\"row_heading level0 row26\" >F2</th>\n",
       "                        <td id=\"T_e3913_row26_col0\" class=\"data row26 col0\" >1.4%</td>\n",
       "                        <td id=\"T_e3913_row26_col1\" class=\"data row26 col1\" >0.5%</td>\n",
       "            </tr>\n",
       "            <tr>\n",
       "                        <th id=\"T_e3913_level0_row27\" class=\"row_heading level0 row27\" >F3</th>\n",
       "                        <td id=\"T_e3913_row27_col0\" class=\"data row27 col0\" >1.4%</td>\n",
       "                        <td id=\"T_e3913_row27_col1\" class=\"data row27 col1\" >0.4%</td>\n",
       "            </tr>\n",
       "            <tr>\n",
       "                        <th id=\"T_e3913_level0_row28\" class=\"row_heading level0 row28\" >F4</th>\n",
       "                        <td id=\"T_e3913_row28_col0\" class=\"data row28 col0\" >1.1%</td>\n",
       "                        <td id=\"T_e3913_row28_col1\" class=\"data row28 col1\" >0.3%</td>\n",
       "            </tr>\n",
       "            <tr>\n",
       "                        <th id=\"T_e3913_level0_row29\" class=\"row_heading level0 row29\" >F5</th>\n",
       "                        <td id=\"T_e3913_row29_col0\" class=\"data row29 col0\" >0.9%</td>\n",
       "                        <td id=\"T_e3913_row29_col1\" class=\"data row29 col1\" >0.3%</td>\n",
       "            </tr>\n",
       "            <tr>\n",
       "                        <th id=\"T_e3913_level0_row30\" class=\"row_heading level0 row30\" >G1</th>\n",
       "                        <td id=\"T_e3913_row30_col0\" class=\"data row30 col0\" >0.6%</td>\n",
       "                        <td id=\"T_e3913_row30_col1\" class=\"data row30 col1\" >0.2%</td>\n",
       "            </tr>\n",
       "            <tr>\n",
       "                        <th id=\"T_e3913_level0_row31\" class=\"row_heading level0 row31\" >G2</th>\n",
       "                        <td id=\"T_e3913_row31_col0\" class=\"data row31 col0\" >0.4%</td>\n",
       "                        <td id=\"T_e3913_row31_col1\" class=\"data row31 col1\" >0.1%</td>\n",
       "            </tr>\n",
       "            <tr>\n",
       "                        <th id=\"T_e3913_level0_row32\" class=\"row_heading level0 row32\" >G3</th>\n",
       "                        <td id=\"T_e3913_row32_col0\" class=\"data row32 col0\" >0.3%</td>\n",
       "                        <td id=\"T_e3913_row32_col1\" class=\"data row32 col1\" >0.1%</td>\n",
       "            </tr>\n",
       "            <tr>\n",
       "                        <th id=\"T_e3913_level0_row33\" class=\"row_heading level0 row33\" >G4</th>\n",
       "                        <td id=\"T_e3913_row33_col0\" class=\"data row33 col0\" >0.2%</td>\n",
       "                        <td id=\"T_e3913_row33_col1\" class=\"data row33 col1\" >0.1%</td>\n",
       "            </tr>\n",
       "            <tr>\n",
       "                        <th id=\"T_e3913_level0_row34\" class=\"row_heading level0 row34\" >G5</th>\n",
       "                        <td id=\"T_e3913_row34_col0\" class=\"data row34 col0\" >0.2%</td>\n",
       "                        <td id=\"T_e3913_row34_col1\" class=\"data row34 col1\" >0.0%</td>\n",
       "            </tr>\n",
       "    </tbody></table>"
      ],
      "text/plain": [
       "<pandas.io.formats.style.Styler at 0x7fed84fd9370>"
      ]
     },
     "metadata": {},
     "execution_count": 148
    }
   ],
   "metadata": {}
  },
  {
   "cell_type": "markdown",
   "source": [
    "#### 57.\tterm: El número de pagos del préstamo. Los valores están en meses y pueden ser 36 o 60.\n"
   ],
   "metadata": {}
  },
  {
   "cell_type": "code",
   "execution_count": 149,
   "source": [
    "df['term'].value_counts(1, dropna=False)"
   ],
   "outputs": [
    {
     "output_type": "execute_result",
     "data": {
      "text/plain": [
       " 36 months    0.777365\n",
       " 60 months    0.222635\n",
       "Name: term, dtype: float64"
      ]
     },
     "metadata": {},
     "execution_count": 149
    }
   ],
   "metadata": {}
  },
  {
   "cell_type": "code",
   "execution_count": 150,
   "source": [
    "df_replace['term'] = {' 36 months':0, ' 60 months':1}\n",
    "df['term'] = df['term'].map(df_replace['term'])\n",
    "df['term'].value_counts(1, dropna=False)"
   ],
   "outputs": [
    {
     "output_type": "execute_result",
     "data": {
      "text/plain": [
       "0    0.777365\n",
       "1    0.222635\n",
       "Name: term, dtype: float64"
      ]
     },
     "metadata": {},
     "execution_count": 150
    }
   ],
   "metadata": {}
  },
  {
   "cell_type": "code",
   "execution_count": 151,
   "source": [
    "vars_bin.append('term')\n",
    "col_vs_tgt(df, 'term')"
   ],
   "outputs": [
    {
     "output_type": "execute_result",
     "data": {
      "text/html": [
       "<style  type=\"text/css\" >\n",
       "#T_29895_row0_col0,#T_29895_row0_col1{\n",
       "            background-color:  #08306b;\n",
       "            color:  #f1f1f1;\n",
       "        }#T_29895_row1_col0,#T_29895_row1_col1{\n",
       "            background-color:  #f7fbff;\n",
       "            color:  #000000;\n",
       "        }</style><table id=\"T_29895_\" ><thead>    <tr>        <th class=\"blank level0\" ></th>        <th class=\"col_heading level0 col0\" colspan=\"2\">id</th>    </tr>    <tr>        <th class=\"index_name level1\" >loan_status</th>        <th class=\"col_heading level1 col0\" >Charged Off</th>        <th class=\"col_heading level1 col1\" >Fully Paid</th>    </tr>    <tr>        <th class=\"index_name level0\" >grouped</th>        <th class=\"blank\" ></th>        <th class=\"blank\" ></th>    </tr></thead><tbody>\n",
       "                <tr>\n",
       "                        <th id=\"T_29895_level0_row0\" class=\"row_heading level0 row0\" >0</th>\n",
       "                        <td id=\"T_29895_row0_col0\" class=\"data row0 col0\" >64.3%</td>\n",
       "                        <td id=\"T_29895_row0_col1\" class=\"data row0 col1\" >80.7%</td>\n",
       "            </tr>\n",
       "            <tr>\n",
       "                        <th id=\"T_29895_level0_row1\" class=\"row_heading level0 row1\" >1</th>\n",
       "                        <td id=\"T_29895_row1_col0\" class=\"data row1 col0\" >35.7%</td>\n",
       "                        <td id=\"T_29895_row1_col1\" class=\"data row1 col1\" >19.3%</td>\n",
       "            </tr>\n",
       "    </tbody></table>"
      ],
      "text/plain": [
       "<pandas.io.formats.style.Styler at 0x7fed8022c430>"
      ]
     },
     "metadata": {},
     "execution_count": 151
    }
   ],
   "metadata": {}
  },
  {
   "cell_type": "markdown",
   "source": [
    "#### 58.\ttitle: El título del préstamo proporcionado por el prestatario.\n"
   ],
   "metadata": {}
  },
  {
   "cell_type": "code",
   "execution_count": 152,
   "source": [
    "df['title'].value_counts(1, dropna=False)"
   ],
   "outputs": [
    {
     "output_type": "execute_result",
     "data": {
      "text/plain": [
       "Debt consolidation         0.284992\n",
       "Credit card refinancing    0.090144\n",
       "Debt Consolidation         0.043858\n",
       "Home improvement           0.026641\n",
       "Other                      0.023836\n",
       "                             ...   \n",
       "Trust1                     0.000004\n",
       "Debt cos                   0.000004\n",
       "dream house                0.000004\n",
       "1st loan cc                0.000004\n",
       "Dbet Consolidation         0.000004\n",
       "Name: title, Length: 47873, dtype: float64"
      ]
     },
     "metadata": {},
     "execution_count": 152
    }
   ],
   "metadata": {}
  },
  {
   "cell_type": "code",
   "execution_count": 153,
   "source": [
    "df['title'].fillna('unknown', inplace=True)\n",
    "df['title'], count_v['title'] = replace_top_words(df, 'title', max_features=10, stop_words=['and','of','us','the','to'])\n",
    "df['title'].value_counts(1, dropna=False)"
   ],
   "outputs": [
    {
     "output_type": "execute_result",
     "data": {
      "text/plain": [
       "consolidation    0.416648\n",
       "other            0.236696\n",
       "card             0.149997\n",
       "loan             0.064347\n",
       "home             0.050342\n",
       "debt             0.049432\n",
       "credit           0.022827\n",
       "payoff           0.008272\n",
       "improvement      0.000882\n",
       "refinancing      0.000558\n",
       "Name: title, dtype: float64"
      ]
     },
     "metadata": {},
     "execution_count": 153
    }
   ],
   "metadata": {}
  },
  {
   "cell_type": "code",
   "execution_count": 154,
   "source": [
    "df_replace['title'] = {'consolidation': 'consolidation',\n",
    "                        'other': 'other',\n",
    "                        'card': 'credit',\n",
    "                        'loan': 'loan',\n",
    "                        'home': 'home',\n",
    "                        'debt': 'consolidation',\n",
    "                        'credit': 'credit',\n",
    "                        'payoff': 'consolidation',\n",
    "                        'improvement': 'home',\n",
    "                        'refinancing': 'loan'}\n",
    "df['title'] = df['title'].map(df_replace['title'])\n",
    "df['title'].value_counts(1, dropna=False)"
   ],
   "outputs": [
    {
     "output_type": "execute_result",
     "data": {
      "text/plain": [
       "consolidation    0.474352\n",
       "other            0.236696\n",
       "credit           0.172824\n",
       "loan             0.064904\n",
       "home             0.051224\n",
       "Name: title, dtype: float64"
      ]
     },
     "metadata": {},
     "execution_count": 154
    }
   ],
   "metadata": {}
  },
  {
   "cell_type": "code",
   "execution_count": 155,
   "source": [
    "vars_cat.append('title')\n",
    "col_vs_tgt(df, 'title')"
   ],
   "outputs": [
    {
     "output_type": "execute_result",
     "data": {
      "text/html": [
       "<style  type=\"text/css\" >\n",
       "#T_e4f14_row0_col0,#T_e4f14_row0_col1{\n",
       "            background-color:  #08306b;\n",
       "            color:  #f1f1f1;\n",
       "        }#T_e4f14_row1_col0{\n",
       "            background-color:  #c9ddf0;\n",
       "            color:  #000000;\n",
       "        }#T_e4f14_row1_col1{\n",
       "            background-color:  #b7d4ea;\n",
       "            color:  #000000;\n",
       "        }#T_e4f14_row2_col0,#T_e4f14_row2_col1{\n",
       "            background-color:  #f7fbff;\n",
       "            color:  #000000;\n",
       "        }#T_e4f14_row3_col0,#T_e4f14_row3_col1{\n",
       "            background-color:  #f1f7fd;\n",
       "            color:  #000000;\n",
       "        }#T_e4f14_row4_col0{\n",
       "            background-color:  #7cb7da;\n",
       "            color:  #000000;\n",
       "        }#T_e4f14_row4_col1{\n",
       "            background-color:  #87bddc;\n",
       "            color:  #000000;\n",
       "        }</style><table id=\"T_e4f14_\" ><thead>    <tr>        <th class=\"blank level0\" ></th>        <th class=\"col_heading level0 col0\" colspan=\"2\">id</th>    </tr>    <tr>        <th class=\"index_name level1\" >loan_status</th>        <th class=\"col_heading level1 col0\" >Charged Off</th>        <th class=\"col_heading level1 col1\" >Fully Paid</th>    </tr>    <tr>        <th class=\"index_name level0\" >grouped</th>        <th class=\"blank\" ></th>        <th class=\"blank\" ></th>    </tr></thead><tbody>\n",
       "                <tr>\n",
       "                        <th id=\"T_e4f14_level0_row0\" class=\"row_heading level0 row0\" >consolidation</th>\n",
       "                        <td id=\"T_e4f14_row0_col0\" class=\"data row0 col0\" >48.9%</td>\n",
       "                        <td id=\"T_e4f14_row0_col1\" class=\"data row0 col1\" >47.1%</td>\n",
       "            </tr>\n",
       "            <tr>\n",
       "                        <th id=\"T_e4f14_level0_row1\" class=\"row_heading level0 row1\" >credit</th>\n",
       "                        <td id=\"T_e4f14_row1_col0\" class=\"data row1 col0\" >15.1%</td>\n",
       "                        <td id=\"T_e4f14_row1_col1\" class=\"data row1 col1\" >17.7%</td>\n",
       "            </tr>\n",
       "            <tr>\n",
       "                        <th id=\"T_e4f14_level0_row2\" class=\"row_heading level0 row2\" >home</th>\n",
       "                        <td id=\"T_e4f14_row2_col0\" class=\"data row2 col0\" >4.8%</td>\n",
       "                        <td id=\"T_e4f14_row2_col1\" class=\"data row2 col1\" >5.2%</td>\n",
       "            </tr>\n",
       "            <tr>\n",
       "                        <th id=\"T_e4f14_level0_row3\" class=\"row_heading level0 row3\" >loan</th>\n",
       "                        <td id=\"T_e4f14_row3_col0\" class=\"data row3 col0\" >6.1%</td>\n",
       "                        <td id=\"T_e4f14_row3_col1\" class=\"data row3 col1\" >6.6%</td>\n",
       "            </tr>\n",
       "            <tr>\n",
       "                        <th id=\"T_e4f14_level0_row4\" class=\"row_heading level0 row4\" >other</th>\n",
       "                        <td id=\"T_e4f14_row4_col0\" class=\"data row4 col0\" >25.1%</td>\n",
       "                        <td id=\"T_e4f14_row4_col1\" class=\"data row4 col1\" >23.4%</td>\n",
       "            </tr>\n",
       "    </tbody></table>"
      ],
      "text/plain": [
       "<pandas.io.formats.style.Styler at 0x7feda11351c0>"
      ]
     },
     "metadata": {},
     "execution_count": 155
    }
   ],
   "metadata": {}
  },
  {
   "cell_type": "markdown",
   "source": [
    "#### 59.\ttot coll amt: Montos totales de cobro adeudados.\n"
   ],
   "metadata": {}
  },
  {
   "cell_type": "code",
   "execution_count": 156,
   "source": [
    "df['tot_coll_amt'].value_counts(1, dropna=False)"
   ],
   "outputs": [
    {
     "output_type": "execute_result",
     "data": {
      "text/plain": [
       "0.0        0.662443\n",
       "NaN        0.251725\n",
       "50.0       0.001381\n",
       "100.0      0.001199\n",
       "75.0       0.000934\n",
       "             ...   \n",
       "1981.0     0.000004\n",
       "10604.0    0.000004\n",
       "1709.0     0.000004\n",
       "2675.0     0.000004\n",
       "1674.0     0.000004\n",
       "Name: tot_coll_amt, Length: 4029, dtype: float64"
      ]
     },
     "metadata": {},
     "execution_count": 156
    }
   ],
   "metadata": {}
  },
  {
   "cell_type": "code",
   "execution_count": 157,
   "source": [
    "import numpy as np\n",
    "\n",
    "df_replace['tot_coll_amt'] = {np.nan:'unknown', 0:'00'}\n",
    "df['tot_coll_amt'] = df['tot_coll_amt'].map(df_replace['tot_coll_amt']).fillna('>0')\n",
    "df['tot_coll_amt'].value_counts(1, dropna=False)"
   ],
   "outputs": [
    {
     "output_type": "execute_result",
     "data": {
      "text/plain": [
       "00         0.662443\n",
       "unknown    0.251725\n",
       ">0         0.085832\n",
       "Name: tot_coll_amt, dtype: float64"
      ]
     },
     "metadata": {},
     "execution_count": 157
    }
   ],
   "metadata": {}
  },
  {
   "cell_type": "code",
   "execution_count": 158,
   "source": [
    "vars_cat.append('tot_coll_amt')\n",
    "col_vs_tgt(df, 'tot_coll_amt')"
   ],
   "outputs": [
    {
     "output_type": "execute_result",
     "data": {
      "text/html": [
       "<style  type=\"text/css\" >\n",
       "#T_e3630_row0_col0,#T_e3630_row0_col1{\n",
       "            background-color:  #08306b;\n",
       "            color:  #f1f1f1;\n",
       "        }#T_e3630_row1_col0,#T_e3630_row1_col1{\n",
       "            background-color:  #f7fbff;\n",
       "            color:  #000000;\n",
       "        }#T_e3630_row2_col0{\n",
       "            background-color:  #cddff1;\n",
       "            color:  #000000;\n",
       "        }#T_e3630_row2_col1{\n",
       "            background-color:  #b5d4e9;\n",
       "            color:  #000000;\n",
       "        }</style><table id=\"T_e3630_\" ><thead>    <tr>        <th class=\"blank level0\" ></th>        <th class=\"col_heading level0 col0\" colspan=\"2\">id</th>    </tr>    <tr>        <th class=\"index_name level1\" >loan_status</th>        <th class=\"col_heading level1 col0\" >Charged Off</th>        <th class=\"col_heading level1 col1\" >Fully Paid</th>    </tr>    <tr>        <th class=\"index_name level0\" >grouped</th>        <th class=\"blank\" ></th>        <th class=\"blank\" ></th>    </tr></thead><tbody>\n",
       "                <tr>\n",
       "                        <th id=\"T_e3630_level0_row0\" class=\"row_heading level0 row0\" >00</th>\n",
       "                        <td id=\"T_e3630_row0_col0\" class=\"data row0 col0\" >68.6%</td>\n",
       "                        <td id=\"T_e3630_row0_col1\" class=\"data row0 col1\" >65.7%</td>\n",
       "            </tr>\n",
       "            <tr>\n",
       "                        <th id=\"T_e3630_level0_row1\" class=\"row_heading level0 row1\" >>0</th>\n",
       "                        <td id=\"T_e3630_row1_col0\" class=\"data row1 col0\" >9.3%</td>\n",
       "                        <td id=\"T_e3630_row1_col1\" class=\"data row1 col1\" >8.4%</td>\n",
       "            </tr>\n",
       "            <tr>\n",
       "                        <th id=\"T_e3630_level0_row2\" class=\"row_heading level0 row2\" >unknown</th>\n",
       "                        <td id=\"T_e3630_row2_col0\" class=\"data row2 col0\" >22.1%</td>\n",
       "                        <td id=\"T_e3630_row2_col1\" class=\"data row2 col1\" >25.8%</td>\n",
       "            </tr>\n",
       "    </tbody></table>"
      ],
      "text/plain": [
       "<pandas.io.formats.style.Styler at 0x7feda268caf0>"
      ]
     },
     "metadata": {},
     "execution_count": 158
    }
   ],
   "metadata": {}
  },
  {
   "cell_type": "markdown",
   "source": [
    "#### 60.\ttot cur bal: Saldo corriente total de todas las cuentas.\n"
   ],
   "metadata": {}
  },
  {
   "cell_type": "code",
   "execution_count": 159,
   "source": [
    "df['tot_cur_bal'].value_counts(1, dropna=False)"
   ],
   "outputs": [
    {
     "output_type": "execute_result",
     "data": {
      "text/plain": [
       "NaN         0.251725\n",
       "0.0         0.000166\n",
       "19376.0     0.000036\n",
       "28674.0     0.000036\n",
       "25341.0     0.000036\n",
       "              ...   \n",
       "204299.0    0.000004\n",
       "8041.0      0.000004\n",
       "269868.0    0.000004\n",
       "50045.0     0.000004\n",
       "12547.0     0.000004\n",
       "Name: tot_cur_bal, Length: 134673, dtype: float64"
      ]
     },
     "metadata": {},
     "execution_count": 159
    }
   ],
   "metadata": {}
  },
  {
   "cell_type": "code",
   "execution_count": 160,
   "source": [
    "df['tot_cur_bal'] = (df['tot_cur_bal'].notnull())*1\n",
    "vars_bin.append('tot_cur_bal')\n",
    "col_vs_tgt(df, 'tot_cur_bal')"
   ],
   "outputs": [
    {
     "output_type": "execute_result",
     "data": {
      "text/html": [
       "<style  type=\"text/css\" >\n",
       "#T_5e730_row0_col0,#T_5e730_row0_col1{\n",
       "            background-color:  #f7fbff;\n",
       "            color:  #000000;\n",
       "        }#T_5e730_row1_col0,#T_5e730_row1_col1{\n",
       "            background-color:  #08306b;\n",
       "            color:  #f1f1f1;\n",
       "        }</style><table id=\"T_5e730_\" ><thead>    <tr>        <th class=\"blank level0\" ></th>        <th class=\"col_heading level0 col0\" colspan=\"2\">id</th>    </tr>    <tr>        <th class=\"index_name level1\" >loan_status</th>        <th class=\"col_heading level1 col0\" >Charged Off</th>        <th class=\"col_heading level1 col1\" >Fully Paid</th>    </tr>    <tr>        <th class=\"index_name level0\" >grouped</th>        <th class=\"blank\" ></th>        <th class=\"blank\" ></th>    </tr></thead><tbody>\n",
       "                <tr>\n",
       "                        <th id=\"T_5e730_level0_row0\" class=\"row_heading level0 row0\" >0</th>\n",
       "                        <td id=\"T_5e730_row0_col0\" class=\"data row0 col0\" >22.1%</td>\n",
       "                        <td id=\"T_5e730_row0_col1\" class=\"data row0 col1\" >25.8%</td>\n",
       "            </tr>\n",
       "            <tr>\n",
       "                        <th id=\"T_5e730_level0_row1\" class=\"row_heading level0 row1\" >1</th>\n",
       "                        <td id=\"T_5e730_row1_col0\" class=\"data row1 col0\" >77.9%</td>\n",
       "                        <td id=\"T_5e730_row1_col1\" class=\"data row1 col1\" >74.2%</td>\n",
       "            </tr>\n",
       "    </tbody></table>"
      ],
      "text/plain": [
       "<pandas.io.formats.style.Styler at 0x7fed7f89c790>"
      ]
     },
     "metadata": {},
     "execution_count": 160
    }
   ],
   "metadata": {}
  },
  {
   "cell_type": "markdown",
   "source": [
    "#### 61.\ttotal bal il: Saldo actual total de todas las cuentas a plazos.\n"
   ],
   "metadata": {}
  },
  {
   "cell_type": "code",
   "execution_count": 161,
   "source": [
    "df['total_bal_il'].value_counts(1, dropna=False)"
   ],
   "outputs": [
    {
     "output_type": "execute_result",
     "data": {
      "text/plain": [
       "NaN        0.999430\n",
       "0.0        0.000067\n",
       "42905.0    0.000004\n",
       "31510.0    0.000004\n",
       "9769.0     0.000004\n",
       "             ...   \n",
       "14149.0    0.000004\n",
       "17946.0    0.000004\n",
       "73207.0    0.000004\n",
       "19836.0    0.000004\n",
       "7218.0     0.000004\n",
       "Name: total_bal_il, Length: 129, dtype: float64"
      ]
     },
     "metadata": {},
     "execution_count": 161
    }
   ],
   "metadata": {}
  },
  {
   "cell_type": "code",
   "execution_count": 162,
   "source": [
    "aux = df.copy()\n",
    "aux['aux'] = (aux['total_bal_il'].notnull())*1\n",
    "col_vs_tgt(aux, 'aux')"
   ],
   "outputs": [
    {
     "output_type": "execute_result",
     "data": {
      "text/html": [
       "<style  type=\"text/css\" >\n",
       "#T_98eb2_row0_col0,#T_98eb2_row1_col0,#T_98eb2_row1_col1{\n",
       "            background-color:  #f7fbff;\n",
       "            color:  #000000;\n",
       "        }#T_98eb2_row0_col1{\n",
       "            background-color:  #08306b;\n",
       "            color:  #f1f1f1;\n",
       "        }</style><table id=\"T_98eb2_\" ><thead>    <tr>        <th class=\"blank level0\" ></th>        <th class=\"col_heading level0 col0\" colspan=\"2\">id</th>    </tr>    <tr>        <th class=\"index_name level1\" >loan_status</th>        <th class=\"col_heading level1 col0\" >Charged Off</th>        <th class=\"col_heading level1 col1\" >Fully Paid</th>    </tr>    <tr>        <th class=\"index_name level0\" >grouped</th>        <th class=\"blank\" ></th>        <th class=\"blank\" ></th>    </tr></thead><tbody>\n",
       "                <tr>\n",
       "                        <th id=\"T_98eb2_level0_row0\" class=\"row_heading level0 row0\" >0</th>\n",
       "                        <td id=\"T_98eb2_row0_col0\" class=\"data row0 col0\" >100.0%</td>\n",
       "                        <td id=\"T_98eb2_row0_col1\" class=\"data row0 col1\" >99.9%</td>\n",
       "            </tr>\n",
       "            <tr>\n",
       "                        <th id=\"T_98eb2_level0_row1\" class=\"row_heading level0 row1\" >1</th>\n",
       "                        <td id=\"T_98eb2_row1_col0\" class=\"data row1 col0\" >nan%</td>\n",
       "                        <td id=\"T_98eb2_row1_col1\" class=\"data row1 col1\" >0.1%</td>\n",
       "            </tr>\n",
       "    </tbody></table>"
      ],
      "text/plain": [
       "<pandas.io.formats.style.Styler at 0x7feda268f670>"
      ]
     },
     "metadata": {},
     "execution_count": 162
    }
   ],
   "metadata": {}
  },
  {
   "cell_type": "code",
   "execution_count": 163,
   "source": [
    "df.drop('total_bal_il', axis=1, inplace=True)"
   ],
   "outputs": [],
   "metadata": {}
  },
  {
   "cell_type": "markdown",
   "source": [
    "#### 62.\ttotal cu tl: Número de operaciones financieras.\n"
   ],
   "metadata": {}
  },
  {
   "cell_type": "code",
   "execution_count": 164,
   "source": [
    "df['total_cu_tl'].value_counts(1, dropna=False)"
   ],
   "outputs": [
    {
     "output_type": "execute_result",
     "data": {
      "text/plain": [
       "NaN     0.999430\n",
       "0.0     0.000309\n",
       "1.0     0.000067\n",
       "2.0     0.000063\n",
       "3.0     0.000032\n",
       "4.0     0.000020\n",
       "7.0     0.000012\n",
       "12.0    0.000012\n",
       "8.0     0.000008\n",
       "5.0     0.000008\n",
       "6.0     0.000008\n",
       "9.0     0.000004\n",
       "10.0    0.000004\n",
       "15.0    0.000004\n",
       "13.0    0.000004\n",
       "18.0    0.000004\n",
       "17.0    0.000004\n",
       "11.0    0.000004\n",
       "21.0    0.000004\n",
       "Name: total_cu_tl, dtype: float64"
      ]
     },
     "metadata": {},
     "execution_count": 164
    }
   ],
   "metadata": {}
  },
  {
   "cell_type": "code",
   "execution_count": 165,
   "source": [
    "aux = df.copy()\n",
    "aux['aux'] = (aux['total_cu_tl'].notnull())*1\n",
    "col_vs_tgt(aux, 'aux')"
   ],
   "outputs": [
    {
     "output_type": "execute_result",
     "data": {
      "text/html": [
       "<style  type=\"text/css\" >\n",
       "#T_da63f_row0_col0,#T_da63f_row1_col0,#T_da63f_row1_col1{\n",
       "            background-color:  #f7fbff;\n",
       "            color:  #000000;\n",
       "        }#T_da63f_row0_col1{\n",
       "            background-color:  #08306b;\n",
       "            color:  #f1f1f1;\n",
       "        }</style><table id=\"T_da63f_\" ><thead>    <tr>        <th class=\"blank level0\" ></th>        <th class=\"col_heading level0 col0\" colspan=\"2\">id</th>    </tr>    <tr>        <th class=\"index_name level1\" >loan_status</th>        <th class=\"col_heading level1 col0\" >Charged Off</th>        <th class=\"col_heading level1 col1\" >Fully Paid</th>    </tr>    <tr>        <th class=\"index_name level0\" >grouped</th>        <th class=\"blank\" ></th>        <th class=\"blank\" ></th>    </tr></thead><tbody>\n",
       "                <tr>\n",
       "                        <th id=\"T_da63f_level0_row0\" class=\"row_heading level0 row0\" >0</th>\n",
       "                        <td id=\"T_da63f_row0_col0\" class=\"data row0 col0\" >100.0%</td>\n",
       "                        <td id=\"T_da63f_row0_col1\" class=\"data row0 col1\" >99.9%</td>\n",
       "            </tr>\n",
       "            <tr>\n",
       "                        <th id=\"T_da63f_level0_row1\" class=\"row_heading level0 row1\" >1</th>\n",
       "                        <td id=\"T_da63f_row1_col0\" class=\"data row1 col0\" >nan%</td>\n",
       "                        <td id=\"T_da63f_row1_col1\" class=\"data row1 col1\" >0.1%</td>\n",
       "            </tr>\n",
       "    </tbody></table>"
      ],
      "text/plain": [
       "<pandas.io.formats.style.Styler at 0x7feda1022f40>"
      ]
     },
     "metadata": {},
     "execution_count": 165
    }
   ],
   "metadata": {}
  },
  {
   "cell_type": "code",
   "execution_count": 166,
   "source": [
    "df.drop('total_cu_tl', axis=1, inplace=True)"
   ],
   "outputs": [],
   "metadata": {}
  },
  {
   "cell_type": "markdown",
   "source": [
    "#### 63.\ttotal pymnt: Pagos recibidos hasta la fecha por el importe total financiado.\n"
   ],
   "metadata": {}
  },
  {
   "cell_type": "code",
   "execution_count": 167,
   "source": [
    "df['total_pymnt'].hist()"
   ],
   "outputs": [
    {
     "output_type": "execute_result",
     "data": {
      "text/plain": [
       "<AxesSubplot:>"
      ]
     },
     "metadata": {},
     "execution_count": 167
    },
    {
     "output_type": "display_data",
     "data": {
      "image/png": "[encoded data removed]",
      "text/plain": [
       "<Figure size 432x288 with 1 Axes>"
      ]
     },
     "metadata": {
      "needs_background": "light"
     }
    }
   ],
   "metadata": {}
  },
  {
   "cell_type": "code",
   "execution_count": 168,
   "source": [
    "vars_num.append('total_pymnt')"
   ],
   "outputs": [],
   "metadata": {}
  },
  {
   "cell_type": "markdown",
   "source": [
    "#### 64.\ttotal pymnt inv: Pagos recibidos hasta la fecha por una parte del importe total financiado por los inversores.\n"
   ],
   "metadata": {}
  },
  {
   "cell_type": "code",
   "execution_count": 169,
   "source": [
    "df['total_pymnt_inv'].hist()"
   ],
   "outputs": [
    {
     "output_type": "execute_result",
     "data": {
      "text/plain": [
       "<AxesSubplot:>"
      ]
     },
     "metadata": {},
     "execution_count": 169
    },
    {
     "output_type": "display_data",
     "data": {
      "image/png": "[encoded data removed]",
      "text/plain": [
       "<Figure size 432x288 with 1 Axes>"
      ]
     },
     "metadata": {
      "needs_background": "light"
     }
    }
   ],
   "metadata": {}
  },
  {
   "cell_type": "code",
   "execution_count": 170,
   "source": [
    "df[['total_pymnt_inv','total_pymnt']].corr()"
   ],
   "outputs": [
    {
     "output_type": "execute_result",
     "data": {
      "text/html": [
       "<div>\n",
       "<style scoped>\n",
       "    .dataframe tbody tr th:only-of-type {\n",
       "        vertical-align: middle;\n",
       "    }\n",
       "\n",
       "    .dataframe tbody tr th {\n",
       "        vertical-align: top;\n",
       "    }\n",
       "\n",
       "    .dataframe thead th {\n",
       "        text-align: right;\n",
       "    }\n",
       "</style>\n",
       "<table border=\"1\" class=\"dataframe\">\n",
       "  <thead>\n",
       "    <tr style=\"text-align: right;\">\n",
       "      <th></th>\n",
       "      <th>total_pymnt_inv</th>\n",
       "      <th>total_pymnt</th>\n",
       "    </tr>\n",
       "  </thead>\n",
       "  <tbody>\n",
       "    <tr>\n",
       "      <th>total_pymnt_inv</th>\n",
       "      <td>1.000000</td>\n",
       "      <td>0.995737</td>\n",
       "    </tr>\n",
       "    <tr>\n",
       "      <th>total_pymnt</th>\n",
       "      <td>0.995737</td>\n",
       "      <td>1.000000</td>\n",
       "    </tr>\n",
       "  </tbody>\n",
       "</table>\n",
       "</div>"
      ],
      "text/plain": [
       "                 total_pymnt_inv  total_pymnt\n",
       "total_pymnt_inv         1.000000     0.995737\n",
       "total_pymnt             0.995737     1.000000"
      ]
     },
     "metadata": {},
     "execution_count": 170
    }
   ],
   "metadata": {}
  },
  {
   "cell_type": "code",
   "execution_count": 171,
   "source": [
    "vars_num.append('total_pymnt_inv')"
   ],
   "outputs": [],
   "metadata": {}
  },
  {
   "cell_type": "markdown",
   "source": [
    "#### 65.\ttotal rec int: Intereses recibidos hasta la fecha.\n"
   ],
   "metadata": {}
  },
  {
   "cell_type": "code",
   "execution_count": 172,
   "source": [
    "df['total_rec_int'].hist()"
   ],
   "outputs": [
    {
     "output_type": "execute_result",
     "data": {
      "text/plain": [
       "<AxesSubplot:>"
      ]
     },
     "metadata": {},
     "execution_count": 172
    },
    {
     "output_type": "display_data",
     "data": {
      "image/png": "[encoded data removed]",
      "text/plain": [
       "<Figure size 432x288 with 1 Axes>"
      ]
     },
     "metadata": {
      "needs_background": "light"
     }
    }
   ],
   "metadata": {}
  },
  {
   "cell_type": "code",
   "execution_count": 173,
   "source": [
    "df['total_rec_int'].describe()"
   ],
   "outputs": [
    {
     "output_type": "execute_result",
     "data": {
      "text/plain": [
       "count    252772.000000\n",
       "mean       1947.117125\n",
       "std        2065.767080\n",
       "min           0.000000\n",
       "25%         629.747500\n",
       "50%        1310.575000\n",
       "75%        2486.650000\n",
       "max       22777.580000\n",
       "Name: total_rec_int, dtype: float64"
      ]
     },
     "metadata": {},
     "execution_count": 173
    }
   ],
   "metadata": {}
  },
  {
   "cell_type": "code",
   "execution_count": 174,
   "source": [
    "df['total_rec_int'], df_bins['total_rec_int'] = pd.qcut(df['total_rec_int'], q=5, retbins=True)\n",
    "vars_cat.append('total_rec_int')\n",
    "col_vs_tgt(df, 'total_rec_int')"
   ],
   "outputs": [
    {
     "output_type": "execute_result",
     "data": {
      "text/html": [
       "<style  type=\"text/css\" >\n",
       "#T_25a5f_row0_col0,#T_25a5f_row4_col1{\n",
       "            background-color:  #f7fbff;\n",
       "            color:  #000000;\n",
       "        }#T_25a5f_row0_col1,#T_25a5f_row4_col0{\n",
       "            background-color:  #08306b;\n",
       "            color:  #f1f1f1;\n",
       "        }#T_25a5f_row1_col0{\n",
       "            background-color:  #d9e8f5;\n",
       "            color:  #000000;\n",
       "        }#T_25a5f_row1_col1{\n",
       "            background-color:  #0e58a2;\n",
       "            color:  #f1f1f1;\n",
       "        }#T_25a5f_row2_col0{\n",
       "            background-color:  #c7dcef;\n",
       "            color:  #000000;\n",
       "        }#T_25a5f_row2_col1{\n",
       "            background-color:  #206fb4;\n",
       "            color:  #f1f1f1;\n",
       "        }#T_25a5f_row3_col0{\n",
       "            background-color:  #a6cee4;\n",
       "            color:  #000000;\n",
       "        }#T_25a5f_row3_col1{\n",
       "            background-color:  #3b8bc2;\n",
       "            color:  #000000;\n",
       "        }</style><table id=\"T_25a5f_\" ><thead>    <tr>        <th class=\"blank level0\" ></th>        <th class=\"col_heading level0 col0\" colspan=\"2\">id</th>    </tr>    <tr>        <th class=\"index_name level1\" >loan_status</th>        <th class=\"col_heading level1 col0\" >Charged Off</th>        <th class=\"col_heading level1 col1\" >Fully Paid</th>    </tr>    <tr>        <th class=\"index_name level0\" >grouped</th>        <th class=\"blank\" ></th>        <th class=\"blank\" ></th>    </tr></thead><tbody>\n",
       "                <tr>\n",
       "                        <th id=\"T_25a5f_level0_row0\" class=\"row_heading level0 row0\" >(-0.001, 512.7]</th>\n",
       "                        <td id=\"T_25a5f_row0_col0\" class=\"data row0 col0\" >18.0%</td>\n",
       "                        <td id=\"T_25a5f_row0_col1\" class=\"data row0 col1\" >20.4%</td>\n",
       "            </tr>\n",
       "            <tr>\n",
       "                        <th id=\"T_25a5f_level0_row1\" class=\"row_heading level0 row1\" >(512.7, 1008.604]</th>\n",
       "                        <td id=\"T_25a5f_row1_col0\" class=\"data row1 col0\" >18.9%</td>\n",
       "                        <td id=\"T_25a5f_row1_col1\" class=\"data row1 col1\" >20.2%</td>\n",
       "            </tr>\n",
       "            <tr>\n",
       "                        <th id=\"T_25a5f_level0_row2\" class=\"row_heading level0 row2\" >(1008.604, 1688.92]</th>\n",
       "                        <td id=\"T_25a5f_row2_col0\" class=\"data row2 col0\" >19.4%</td>\n",
       "                        <td id=\"T_25a5f_row2_col1\" class=\"data row2 col1\" >20.1%</td>\n",
       "            </tr>\n",
       "            <tr>\n",
       "                        <th id=\"T_25a5f_level0_row3\" class=\"row_heading level0 row3\" >(1688.92, 2891.008]</th>\n",
       "                        <td id=\"T_25a5f_row3_col0\" class=\"data row3 col0\" >20.0%</td>\n",
       "                        <td id=\"T_25a5f_row3_col1\" class=\"data row3 col1\" >20.0%</td>\n",
       "            </tr>\n",
       "            <tr>\n",
       "                        <th id=\"T_25a5f_level0_row4\" class=\"row_heading level0 row4\" >(2891.008, 22777.58]</th>\n",
       "                        <td id=\"T_25a5f_row4_col0\" class=\"data row4 col0\" >23.6%</td>\n",
       "                        <td id=\"T_25a5f_row4_col1\" class=\"data row4 col1\" >19.2%</td>\n",
       "            </tr>\n",
       "    </tbody></table>"
      ],
      "text/plain": [
       "<pandas.io.formats.style.Styler at 0x7feda3529c10>"
      ]
     },
     "metadata": {},
     "execution_count": 174
    }
   ],
   "metadata": {}
  },
  {
   "cell_type": "markdown",
   "source": [
    "#### 66.\ttotal rec prncp: Principal recibido hasta la fecha.\n"
   ],
   "metadata": {}
  },
  {
   "cell_type": "code",
   "execution_count": 175,
   "source": [
    "df['total_rec_prncp'].hist()"
   ],
   "outputs": [
    {
     "output_type": "execute_result",
     "data": {
      "text/plain": [
       "<AxesSubplot:>"
      ]
     },
     "metadata": {},
     "execution_count": 175
    },
    {
     "output_type": "display_data",
     "data": {
      "image/png": "[encoded data removed]",
      "text/plain": [
       "<Figure size 432x288 with 1 Axes>"
      ]
     },
     "metadata": {
      "needs_background": "light"
     }
    }
   ],
   "metadata": {}
  },
  {
   "cell_type": "code",
   "execution_count": 176,
   "source": [
    "vars_num.append('total_rec_prncp')"
   ],
   "outputs": [],
   "metadata": {}
  },
  {
   "cell_type": "markdown",
   "source": [
    "#### 67.\ttotal rev hi lim: Límite de crédito/crédito revolving total alto.\n"
   ],
   "metadata": {}
  },
  {
   "cell_type": "code",
   "execution_count": 177,
   "source": [
    "df['total_rev_hi_lim'].isnull().mean()"
   ],
   "outputs": [
    {
     "output_type": "execute_result",
     "data": {
      "text/plain": [
       "0.2517248745905401"
      ]
     },
     "metadata": {},
     "execution_count": 177
    }
   ],
   "metadata": {}
  },
  {
   "cell_type": "code",
   "execution_count": 178,
   "source": [
    "df['total_rev_hi_lim'].describe([i/10 for i in range(10)])"
   ],
   "outputs": [
    {
     "output_type": "execute_result",
     "data": {
      "text/plain": [
       "count    1.891430e+05\n",
       "mean     2.971858e+04\n",
       "std      2.950545e+04\n",
       "min      1.000000e+02\n",
       "0%       1.000000e+02\n",
       "10%      8.200000e+03\n",
       "20%      1.170000e+04\n",
       "30%      1.490000e+04\n",
       "40%      1.840000e+04\n",
       "50%      2.230000e+04\n",
       "60%      2.700000e+04\n",
       "70%      3.300000e+04\n",
       "80%      4.160000e+04\n",
       "90%      5.740000e+04\n",
       "max      2.013133e+06\n",
       "Name: total_rev_hi_lim, dtype: float64"
      ]
     },
     "metadata": {},
     "execution_count": 178
    }
   ],
   "metadata": {}
  },
  {
   "cell_type": "code",
   "execution_count": 179,
   "source": [
    "df['total_rev_hi_lim'], df_bins['total_rev_hi_lim'] = pd.qcut(df['total_rev_hi_lim'], q=5, retbins=True)\n",
    "vars_cat.append('total_rev_hi_lim')\n",
    "col_vs_tgt(df, 'total_rev_hi_lim')"
   ],
   "outputs": [
    {
     "output_type": "execute_result",
     "data": {
      "text/html": [
       "<style  type=\"text/css\" >\n",
       "#T_f07e1_row0_col0,#T_f07e1_row4_col1{\n",
       "            background-color:  #08306b;\n",
       "            color:  #f1f1f1;\n",
       "        }#T_f07e1_row0_col1{\n",
       "            background-color:  #f0f6fd;\n",
       "            color:  #000000;\n",
       "        }#T_f07e1_row1_col0{\n",
       "            background-color:  #1562a9;\n",
       "            color:  #f1f1f1;\n",
       "        }#T_f07e1_row1_col1,#T_f07e1_row4_col0{\n",
       "            background-color:  #f7fbff;\n",
       "            color:  #000000;\n",
       "        }#T_f07e1_row2_col0{\n",
       "            background-color:  #3181bd;\n",
       "            color:  #000000;\n",
       "        }#T_f07e1_row2_col1{\n",
       "            background-color:  #d6e6f4;\n",
       "            color:  #000000;\n",
       "        }#T_f07e1_row3_col0{\n",
       "            background-color:  #64a9d3;\n",
       "            color:  #000000;\n",
       "        }#T_f07e1_row3_col1{\n",
       "            background-color:  #cddff1;\n",
       "            color:  #000000;\n",
       "        }</style><table id=\"T_f07e1_\" ><thead>    <tr>        <th class=\"blank level0\" ></th>        <th class=\"col_heading level0 col0\" colspan=\"2\">id</th>    </tr>    <tr>        <th class=\"index_name level1\" >loan_status</th>        <th class=\"col_heading level1 col0\" >Charged Off</th>        <th class=\"col_heading level1 col1\" >Fully Paid</th>    </tr>    <tr>        <th class=\"index_name level0\" >grouped</th>        <th class=\"blank\" ></th>        <th class=\"blank\" ></th>    </tr></thead><tbody>\n",
       "                <tr>\n",
       "                        <th id=\"T_f07e1_level0_row0\" class=\"row_heading level0 row0\" >(99.999, 11700.0]</th>\n",
       "                        <td id=\"T_f07e1_row0_col0\" class=\"data row0 col0\" >22.8%</td>\n",
       "                        <td id=\"T_f07e1_row0_col1\" class=\"data row0 col1\" >19.7%</td>\n",
       "            </tr>\n",
       "            <tr>\n",
       "                        <th id=\"T_f07e1_level0_row1\" class=\"row_heading level0 row1\" >(11700.0, 18400.0]</th>\n",
       "                        <td id=\"T_f07e1_row1_col0\" class=\"data row1 col0\" >21.4%</td>\n",
       "                        <td id=\"T_f07e1_row1_col1\" class=\"data row1 col1\" >19.6%</td>\n",
       "            </tr>\n",
       "            <tr>\n",
       "                        <th id=\"T_f07e1_level0_row2\" class=\"row_heading level0 row2\" >(18400.0, 27000.0]</th>\n",
       "                        <td id=\"T_f07e1_row2_col0\" class=\"data row2 col0\" >20.6%</td>\n",
       "                        <td id=\"T_f07e1_row2_col1\" class=\"data row2 col1\" >19.8%</td>\n",
       "            </tr>\n",
       "            <tr>\n",
       "                        <th id=\"T_f07e1_level0_row3\" class=\"row_heading level0 row3\" >(27000.0, 41600.0]</th>\n",
       "                        <td id=\"T_f07e1_row3_col0\" class=\"data row3 col0\" >19.4%</td>\n",
       "                        <td id=\"T_f07e1_row3_col1\" class=\"data row3 col1\" >19.9%</td>\n",
       "            </tr>\n",
       "            <tr>\n",
       "                        <th id=\"T_f07e1_level0_row4\" class=\"row_heading level0 row4\" >(41600.0, 2013133.0]</th>\n",
       "                        <td id=\"T_f07e1_row4_col0\" class=\"data row4 col0\" >15.8%</td>\n",
       "                        <td id=\"T_f07e1_row4_col1\" class=\"data row4 col1\" >20.9%</td>\n",
       "            </tr>\n",
       "    </tbody></table>"
      ],
      "text/plain": [
       "<pandas.io.formats.style.Styler at 0x7fedbbf80f40>"
      ]
     },
     "metadata": {},
     "execution_count": 179
    }
   ],
   "metadata": {}
  },
  {
   "cell_type": "markdown",
   "source": [
    "#### 68.\turl: Dirección URL de la página lc con datos de listado.\n"
   ],
   "metadata": {}
  },
  {
   "cell_type": "code",
   "execution_count": 180,
   "source": [
    "df['url'].str.split('/').str[-1].str.split('=').str[-1].value_counts(dropna=False)"
   ],
   "outputs": [
    {
     "output_type": "execute_result",
     "data": {
      "text/plain": [
       "845130      1\n",
       "584657      1\n",
       "1111232     1\n",
       "3694667     1\n",
       "28734416    1\n",
       "           ..\n",
       "504692      1\n",
       "39760370    1\n",
       "50829376    1\n",
       "44985994    1\n",
       "43540041    1\n",
       "Name: url, Length: 252772, dtype: int64"
      ]
     },
     "metadata": {},
     "execution_count": 180
    }
   ],
   "metadata": {}
  },
  {
   "cell_type": "markdown",
   "source": [
    "#### 69.\tverification status: Indica si lc verificó los ingresos, no los verificó o si se verificó la fuente de ingresos.\n"
   ],
   "metadata": {}
  },
  {
   "cell_type": "code",
   "execution_count": 181,
   "source": [
    "df['verification_status'].value_counts(1, dropna=False)"
   ],
   "outputs": [
    {
     "output_type": "execute_result",
     "data": {
      "text/plain": [
       "Verified           0.367212\n",
       "Not Verified       0.340220\n",
       "Source Verified    0.292568\n",
       "Name: verification_status, dtype: float64"
      ]
     },
     "metadata": {},
     "execution_count": 181
    }
   ],
   "metadata": {}
  },
  {
   "cell_type": "code",
   "execution_count": 182,
   "source": [
    "vars_cat.append('verification_status')"
   ],
   "outputs": [],
   "metadata": {}
  },
  {
   "cell_type": "markdown",
   "source": [
    "#### 70.\tverified status joint: Indica si los ingresos conjuntos de los co-prestatariosMfueron verificados por LC, no verificados, o si la fuente de ingresos fue verificada.\n"
   ],
   "metadata": {}
  },
  {
   "cell_type": "code",
   "execution_count": 183,
   "source": [
    "df['verification_status_joint'].value_counts(1, dropna=False)"
   ],
   "outputs": [
    {
     "output_type": "execute_result",
     "data": {
      "text/plain": [
       "NaN                0.999996\n",
       "Source Verified    0.000004\n",
       "Name: verification_status_joint, dtype: float64"
      ]
     },
     "metadata": {},
     "execution_count": 183
    }
   ],
   "metadata": {}
  },
  {
   "cell_type": "code",
   "execution_count": 184,
   "source": [
    "df.drop('verification_status_joint', axis=1, inplace=True)"
   ],
   "outputs": [],
   "metadata": {}
  },
  {
   "cell_type": "markdown",
   "source": [
    "#### 71.\tzip code: Los primeros 3 números del código postal proporcionado por el prestatario en la solicitud de préstamo"
   ],
   "metadata": {}
  },
  {
   "cell_type": "code",
   "execution_count": 185,
   "source": [
    "df['zip_code'].value_counts(1, dropna=False).to_frame().sort_index()"
   ],
   "outputs": [
    {
     "output_type": "execute_result",
     "data": {
      "text/html": [
       "<div>\n",
       "<style scoped>\n",
       "    .dataframe tbody tr th:only-of-type {\n",
       "        vertical-align: middle;\n",
       "    }\n",
       "\n",
       "    .dataframe tbody tr th {\n",
       "        vertical-align: top;\n",
       "    }\n",
       "\n",
       "    .dataframe thead th {\n",
       "        text-align: right;\n",
       "    }\n",
       "</style>\n",
       "<table border=\"1\" class=\"dataframe\">\n",
       "  <thead>\n",
       "    <tr style=\"text-align: right;\">\n",
       "      <th></th>\n",
       "      <th>zip_code</th>\n",
       "    </tr>\n",
       "  </thead>\n",
       "  <tbody>\n",
       "    <tr>\n",
       "      <th>007xx</th>\n",
       "      <td>0.000008</td>\n",
       "    </tr>\n",
       "    <tr>\n",
       "      <th>008xx</th>\n",
       "      <td>0.000004</td>\n",
       "    </tr>\n",
       "    <tr>\n",
       "      <th>010xx</th>\n",
       "      <td>0.001689</td>\n",
       "    </tr>\n",
       "    <tr>\n",
       "      <th>011xx</th>\n",
       "      <td>0.000419</td>\n",
       "    </tr>\n",
       "    <tr>\n",
       "      <th>012xx</th>\n",
       "      <td>0.000352</td>\n",
       "    </tr>\n",
       "    <tr>\n",
       "      <th>...</th>\n",
       "      <td>...</td>\n",
       "    </tr>\n",
       "    <tr>\n",
       "      <th>995xx</th>\n",
       "      <td>0.001373</td>\n",
       "    </tr>\n",
       "    <tr>\n",
       "      <th>996xx</th>\n",
       "      <td>0.000506</td>\n",
       "    </tr>\n",
       "    <tr>\n",
       "      <th>997xx</th>\n",
       "      <td>0.000427</td>\n",
       "    </tr>\n",
       "    <tr>\n",
       "      <th>998xx</th>\n",
       "      <td>0.000206</td>\n",
       "    </tr>\n",
       "    <tr>\n",
       "      <th>999xx</th>\n",
       "      <td>0.000071</td>\n",
       "    </tr>\n",
       "  </tbody>\n",
       "</table>\n",
       "<p>886 rows × 1 columns</p>\n",
       "</div>"
      ],
      "text/plain": [
       "       zip_code\n",
       "007xx  0.000008\n",
       "008xx  0.000004\n",
       "010xx  0.001689\n",
       "011xx  0.000419\n",
       "012xx  0.000352\n",
       "...         ...\n",
       "995xx  0.001373\n",
       "996xx  0.000506\n",
       "997xx  0.000427\n",
       "998xx  0.000206\n",
       "999xx  0.000071\n",
       "\n",
       "[886 rows x 1 columns]"
      ]
     },
     "metadata": {},
     "execution_count": 185
    }
   ],
   "metadata": {}
  },
  {
   "cell_type": "code",
   "execution_count": 186,
   "source": [
    "df['zip_code'] = df['zip_code'].str[:1].str.zfill(2)\n",
    "df['zip_code'].value_counts(1, dropna=False)"
   ],
   "outputs": [
    {
     "output_type": "execute_result",
     "data": {
      "text/plain": [
       "09    0.215514\n",
       "03    0.124816\n",
       "01    0.120045\n",
       "07    0.103481\n",
       "02    0.101471\n",
       "00    0.087435\n",
       "08    0.077445\n",
       "04    0.074367\n",
       "06    0.060517\n",
       "05    0.034909\n",
       "Name: zip_code, dtype: float64"
      ]
     },
     "metadata": {},
     "execution_count": 186
    }
   ],
   "metadata": {}
  },
  {
   "cell_type": "code",
   "execution_count": 187,
   "source": [
    "vars_cat.append('zip_code')\n",
    "col_vs_tgt(df, 'zip_code')"
   ],
   "outputs": [
    {
     "output_type": "execute_result",
     "data": {
      "text/html": [
       "<style  type=\"text/css\" >\n",
       "#T_8b2a7_row0_col0{\n",
       "            background-color:  #b4d3e9;\n",
       "            color:  #000000;\n",
       "        }#T_8b2a7_row0_col1{\n",
       "            background-color:  #bad6eb;\n",
       "            color:  #000000;\n",
       "        }#T_8b2a7_row1_col0{\n",
       "            background-color:  #5aa2cf;\n",
       "            color:  #000000;\n",
       "        }#T_8b2a7_row1_col1{\n",
       "            background-color:  #7db8da;\n",
       "            color:  #000000;\n",
       "        }#T_8b2a7_row2_col0{\n",
       "            background-color:  #99c7e0;\n",
       "            color:  #000000;\n",
       "        }#T_8b2a7_row2_col1,#T_8b2a7_row7_col0{\n",
       "            background-color:  #a1cbe2;\n",
       "            color:  #000000;\n",
       "        }#T_8b2a7_row3_col0{\n",
       "            background-color:  #4896c8;\n",
       "            color:  #000000;\n",
       "        }#T_8b2a7_row3_col1{\n",
       "            background-color:  #75b4d8;\n",
       "            color:  #000000;\n",
       "        }#T_8b2a7_row4_col0{\n",
       "            background-color:  #bdd7ec;\n",
       "            color:  #000000;\n",
       "        }#T_8b2a7_row4_col1{\n",
       "            background-color:  #cfe1f2;\n",
       "            color:  #000000;\n",
       "        }#T_8b2a7_row5_col0,#T_8b2a7_row5_col1{\n",
       "            background-color:  #f7fbff;\n",
       "            color:  #000000;\n",
       "        }#T_8b2a7_row6_col0{\n",
       "            background-color:  #d9e8f5;\n",
       "            color:  #000000;\n",
       "        }#T_8b2a7_row6_col1{\n",
       "            background-color:  #dce9f6;\n",
       "            color:  #000000;\n",
       "        }#T_8b2a7_row7_col1{\n",
       "            background-color:  #9cc9e1;\n",
       "            color:  #000000;\n",
       "        }#T_8b2a7_row8_col0{\n",
       "            background-color:  #caddf0;\n",
       "            color:  #000000;\n",
       "        }#T_8b2a7_row8_col1{\n",
       "            background-color:  #c9ddf0;\n",
       "            color:  #000000;\n",
       "        }#T_8b2a7_row9_col0,#T_8b2a7_row9_col1{\n",
       "            background-color:  #08306b;\n",
       "            color:  #f1f1f1;\n",
       "        }</style><table id=\"T_8b2a7_\" ><thead>    <tr>        <th class=\"blank level0\" ></th>        <th class=\"col_heading level0 col0\" colspan=\"2\">id</th>    </tr>    <tr>        <th class=\"index_name level1\" >loan_status</th>        <th class=\"col_heading level1 col0\" >Charged Off</th>        <th class=\"col_heading level1 col1\" >Fully Paid</th>    </tr>    <tr>        <th class=\"index_name level0\" >grouped</th>        <th class=\"blank\" ></th>        <th class=\"blank\" ></th>    </tr></thead><tbody>\n",
       "                <tr>\n",
       "                        <th id=\"T_8b2a7_level0_row0\" class=\"row_heading level0 row0\" >00</th>\n",
       "                        <td id=\"T_8b2a7_row0_col0\" class=\"data row0 col0\" >8.6%</td>\n",
       "                        <td id=\"T_8b2a7_row0_col1\" class=\"data row0 col1\" >8.8%</td>\n",
       "            </tr>\n",
       "            <tr>\n",
       "                        <th id=\"T_8b2a7_level0_row1\" class=\"row_heading level0 row1\" >01</th>\n",
       "                        <td id=\"T_8b2a7_row1_col0\" class=\"data row1 col0\" >12.8%</td>\n",
       "                        <td id=\"T_8b2a7_row1_col1\" class=\"data row1 col1\" >11.8%</td>\n",
       "            </tr>\n",
       "            <tr>\n",
       "                        <th id=\"T_8b2a7_level0_row2\" class=\"row_heading level0 row2\" >02</th>\n",
       "                        <td id=\"T_8b2a7_row2_col0\" class=\"data row2 col0\" >10.0%</td>\n",
       "                        <td id=\"T_8b2a7_row2_col1\" class=\"data row2 col1\" >10.2%</td>\n",
       "            </tr>\n",
       "            <tr>\n",
       "                        <th id=\"T_8b2a7_level0_row3\" class=\"row_heading level0 row3\" >03</th>\n",
       "                        <td id=\"T_8b2a7_row3_col0\" class=\"data row3 col0\" >13.7%</td>\n",
       "                        <td id=\"T_8b2a7_row3_col1\" class=\"data row3 col1\" >12.2%</td>\n",
       "            </tr>\n",
       "            <tr>\n",
       "                        <th id=\"T_8b2a7_level0_row4\" class=\"row_heading level0 row4\" >04</th>\n",
       "                        <td id=\"T_8b2a7_row4_col0\" class=\"data row4 col0\" >8.1%</td>\n",
       "                        <td id=\"T_8b2a7_row4_col1\" class=\"data row4 col1\" >7.3%</td>\n",
       "            </tr>\n",
       "            <tr>\n",
       "                        <th id=\"T_8b2a7_level0_row5\" class=\"row_heading level0 row5\" >05</th>\n",
       "                        <td id=\"T_8b2a7_row5_col0\" class=\"data row5 col0\" >3.4%</td>\n",
       "                        <td id=\"T_8b2a7_row5_col1\" class=\"data row5 col1\" >3.5%</td>\n",
       "            </tr>\n",
       "            <tr>\n",
       "                        <th id=\"T_8b2a7_level0_row6\" class=\"row_heading level0 row6\" >06</th>\n",
       "                        <td id=\"T_8b2a7_row6_col0\" class=\"data row6 col0\" >5.9%</td>\n",
       "                        <td id=\"T_8b2a7_row6_col1\" class=\"data row6 col1\" >6.1%</td>\n",
       "            </tr>\n",
       "            <tr>\n",
       "                        <th id=\"T_8b2a7_level0_row7\" class=\"row_heading level0 row7\" >07</th>\n",
       "                        <td id=\"T_8b2a7_row7_col0\" class=\"data row7 col0\" >9.6%</td>\n",
       "                        <td id=\"T_8b2a7_row7_col1\" class=\"data row7 col1\" >10.5%</td>\n",
       "            </tr>\n",
       "            <tr>\n",
       "                        <th id=\"T_8b2a7_level0_row8\" class=\"row_heading level0 row8\" >08</th>\n",
       "                        <td id=\"T_8b2a7_row8_col0\" class=\"data row8 col0\" >7.4%</td>\n",
       "                        <td id=\"T_8b2a7_row8_col1\" class=\"data row8 col1\" >7.8%</td>\n",
       "            </tr>\n",
       "            <tr>\n",
       "                        <th id=\"T_8b2a7_level0_row9\" class=\"row_heading level0 row9\" >09</th>\n",
       "                        <td id=\"T_8b2a7_row9_col0\" class=\"data row9 col0\" >20.4%</td>\n",
       "                        <td id=\"T_8b2a7_row9_col1\" class=\"data row9 col1\" >21.8%</td>\n",
       "            </tr>\n",
       "    </tbody></table>"
      ],
      "text/plain": [
       "<pandas.io.formats.style.Styler at 0x7fed84fdb820>"
      ]
     },
     "metadata": {},
     "execution_count": 187
    }
   ],
   "metadata": {}
  },
  {
   "cell_type": "markdown",
   "source": [
    "## Ingeniería de variables"
   ],
   "metadata": {}
  },
  {
   "cell_type": "code",
   "execution_count": 188,
   "source": [
    "# df.to_csv(BASE_DIR.joinpath(f'checkpoint_{FILE_NAME}'), index=False)\n",
    "\n",
    "import pandas as pd\n",
    "from pathlib import Path\n",
    "BASE_DIR = Path(BASE_DIR)\n",
    "df = pd.read_csv(BASE_DIR.joinpath(f'checkpoint_{FILE_NAME}'), low_memory=False)"
   ],
   "outputs": [],
   "metadata": {}
  },
  {
   "cell_type": "code",
   "execution_count": 190,
   "source": [
    "df[vars_date+vars_bin+vars_cat+vars_num].sample()"
   ],
   "outputs": [
    {
     "output_type": "execute_result",
     "data": {
      "text/html": [
       "<div>\n",
       "<style scoped>\n",
       "    .dataframe tbody tr th:only-of-type {\n",
       "        vertical-align: middle;\n",
       "    }\n",
       "\n",
       "    .dataframe tbody tr th {\n",
       "        vertical-align: top;\n",
       "    }\n",
       "\n",
       "    .dataframe thead th {\n",
       "        text-align: right;\n",
       "    }\n",
       "</style>\n",
       "<table border=\"1\" class=\"dataframe\">\n",
       "  <thead>\n",
       "    <tr style=\"text-align: right;\">\n",
       "      <th></th>\n",
       "      <th>earliest_cr_line</th>\n",
       "      <th>issue_d</th>\n",
       "      <th>last_credit_pull_d</th>\n",
       "      <th>last_pymnt_d</th>\n",
       "      <th>acc_now_delinq</th>\n",
       "      <th>all_util</th>\n",
       "      <th>collection_recovery_fee</th>\n",
       "      <th>delinq_2yrs</th>\n",
       "      <th>desc</th>\n",
       "      <th>initial_list_status</th>\n",
       "      <th>...</th>\n",
       "      <th>funded_amnt</th>\n",
       "      <th>funded_amnt_inv</th>\n",
       "      <th>installment</th>\n",
       "      <th>int_rate</th>\n",
       "      <th>last_pymnt_amnt</th>\n",
       "      <th>loan_amnt</th>\n",
       "      <th>open_acc</th>\n",
       "      <th>total_pymnt</th>\n",
       "      <th>total_pymnt_inv</th>\n",
       "      <th>total_rec_prncp</th>\n",
       "    </tr>\n",
       "  </thead>\n",
       "  <tbody>\n",
       "    <tr>\n",
       "      <th>197329</th>\n",
       "      <td>2001-08-01</td>\n",
       "      <td>2012-09-01</td>\n",
       "      <td>2013-05-01</td>\n",
       "      <td>2013-05-01</td>\n",
       "      <td>0</td>\n",
       "      <td>0</td>\n",
       "      <td>0</td>\n",
       "      <td>0</td>\n",
       "      <td>0</td>\n",
       "      <td>0</td>\n",
       "      <td>...</td>\n",
       "      <td>8875.0</td>\n",
       "      <td>8875.0</td>\n",
       "      <td>291.15</td>\n",
       "      <td>11.14</td>\n",
       "      <td>7443.17</td>\n",
       "      <td>8875.0</td>\n",
       "      <td>7.0</td>\n",
       "      <td>9479.83</td>\n",
       "      <td>9479.83</td>\n",
       "      <td>8875.0</td>\n",
       "    </tr>\n",
       "  </tbody>\n",
       "</table>\n",
       "<p>1 rows × 45 columns</p>\n",
       "</div>"
      ],
      "text/plain": [
       "       earliest_cr_line    issue_d last_credit_pull_d last_pymnt_d  \\\n",
       "197329       2001-08-01 2012-09-01         2013-05-01   2013-05-01   \n",
       "\n",
       "        acc_now_delinq  all_util  collection_recovery_fee  delinq_2yrs  desc  \\\n",
       "197329               0         0                        0            0     0   \n",
       "\n",
       "        initial_list_status  ...  funded_amnt  funded_amnt_inv  installment  \\\n",
       "197329                    0  ...       8875.0           8875.0       291.15   \n",
       "\n",
       "        int_rate  last_pymnt_amnt  loan_amnt  open_acc total_pymnt  \\\n",
       "197329     11.14          7443.17     8875.0       7.0     9479.83   \n",
       "\n",
       "       total_pymnt_inv total_rec_prncp  \n",
       "197329         9479.83          8875.0  \n",
       "\n",
       "[1 rows x 45 columns]"
      ]
     },
     "metadata": {},
     "execution_count": 190
    }
   ],
   "metadata": {}
  },
  {
   "cell_type": "markdown",
   "source": [
    "## Modelo"
   ],
   "metadata": {}
  },
  {
   "cell_type": "markdown",
   "source": [
    "### Pre-procesamiento"
   ],
   "metadata": {}
  },
  {
   "cell_type": "code",
   "execution_count": 194,
   "source": [
    "from sklearn.preprocessing import MinMaxScaler\n",
    "from sklearn.model_selection import train_test_split\n",
    "\n",
    "X = df.iloc[:,:-1].copy()\n",
    "y = df.iloc[:,-1].values\n",
    "\n",
    "X_train, X_test, y_train, y_test = train_test_split(X,y,\n",
    "                                                    train_size=0.77,\n",
    "                                                    random_state=22)\n",
    "mm_x = MinMaxScaler()"
   ],
   "outputs": [],
   "metadata": {}
  },
  {
   "cell_type": "markdown",
   "source": [
    "### Arquitectura"
   ],
   "metadata": {}
  },
  {
   "cell_type": "code",
   "execution_count": 195,
   "source": [
    "from sklearn.pipeline import Pipeline\n",
    "from sklearn.linear_model import LinearRegression\n",
    "\n",
    "linear_reg = LinearRegression()\n",
    "\n",
    "model_reg = Pipeline(steps=[('scaler', mm_x),\n",
    "                            ('model', linear_reg)])\n",
    "\n",
    "print(f\"Score: {'{:.2%}'.format(model_reg.fit(X_train,y_train).score(X_test,y_test))}\")\n",
    "print(f\"Training score: {'{:.2%}'.format(model_reg.score(X_train,y_train))}\")\n",
    "print(\"\\nThese are the most influential variables:\")\n",
    "coef = pd.DataFrame(zip(X.columns,model_reg[1].coef_)).sort_values(1,0,0).reset_index(drop=True)\n",
    "coef.head().append(coef.tail())"
   ],
   "outputs": [
    {
     "output_type": "stream",
     "name": "stdout",
     "text": [
      "Score: 67.39%\n",
      "Training score: 67.11%\n",
      "\n",
      "These are the most influential variables:\n"
     ]
    },
    {
     "output_type": "execute_result",
     "data": {
      "text/html": [
       "<div>\n",
       "<style scoped>\n",
       "    .dataframe tbody tr th:only-of-type {\n",
       "        vertical-align: middle;\n",
       "    }\n",
       "\n",
       "    .dataframe tbody tr th {\n",
       "        vertical-align: top;\n",
       "    }\n",
       "\n",
       "    .dataframe thead th {\n",
       "        text-align: right;\n",
       "    }\n",
       "</style>\n",
       "<table border=\"1\" class=\"dataframe\">\n",
       "  <thead>\n",
       "    <tr style=\"text-align: right;\">\n",
       "      <th></th>\n",
       "      <th>0</th>\n",
       "      <th>1</th>\n",
       "    </tr>\n",
       "  </thead>\n",
       "  <tbody>\n",
       "    <tr>\n",
       "      <th>0</th>\n",
       "      <td>funded_amnt</td>\n",
       "      <td>1.703470</td>\n",
       "    </tr>\n",
       "    <tr>\n",
       "      <th>1</th>\n",
       "      <td>total_pymnt_inv</td>\n",
       "      <td>0.379810</td>\n",
       "    </tr>\n",
       "    <tr>\n",
       "      <th>2</th>\n",
       "      <td>installment</td>\n",
       "      <td>0.210918</td>\n",
       "    </tr>\n",
       "    <tr>\n",
       "      <th>3</th>\n",
       "      <td>loan_amnt</td>\n",
       "      <td>0.121097</td>\n",
       "    </tr>\n",
       "    <tr>\n",
       "      <th>4</th>\n",
       "      <td>int_rate</td>\n",
       "      <td>0.095894</td>\n",
       "    </tr>\n",
       "    <tr>\n",
       "      <th>6</th>\n",
       "      <td>open_acc</td>\n",
       "      <td>-0.054354</td>\n",
       "    </tr>\n",
       "    <tr>\n",
       "      <th>7</th>\n",
       "      <td>last_pymnt_amnt</td>\n",
       "      <td>-0.095962</td>\n",
       "    </tr>\n",
       "    <tr>\n",
       "      <th>8</th>\n",
       "      <td>funded_amnt_inv</td>\n",
       "      <td>-0.249948</td>\n",
       "    </tr>\n",
       "    <tr>\n",
       "      <th>9</th>\n",
       "      <td>total_pymnt</td>\n",
       "      <td>-0.297873</td>\n",
       "    </tr>\n",
       "    <tr>\n",
       "      <th>10</th>\n",
       "      <td>total_rec_prncp</td>\n",
       "      <td>-2.071609</td>\n",
       "    </tr>\n",
       "  </tbody>\n",
       "</table>\n",
       "</div>"
      ],
      "text/plain": [
       "                  0         1\n",
       "0       funded_amnt  1.703470\n",
       "1   total_pymnt_inv  0.379810\n",
       "2       installment  0.210918\n",
       "3         loan_amnt  0.121097\n",
       "4          int_rate  0.095894\n",
       "6          open_acc -0.054354\n",
       "7   last_pymnt_amnt -0.095962\n",
       "8   funded_amnt_inv -0.249948\n",
       "9       total_pymnt -0.297873\n",
       "10  total_rec_prncp -2.071609"
      ]
     },
     "metadata": {},
     "execution_count": 195
    }
   ],
   "metadata": {}
  },
  {
   "cell_type": "markdown",
   "source": [
    "## Predicción"
   ],
   "metadata": {}
  },
  {
   "cell_type": "code",
   "execution_count": null,
   "source": [
    "import numpy as np\n",
    "val['2018_26'] = np.clip(model_reg.predict(val), 0, 1e10).round()\n",
    "val.head()"
   ],
   "outputs": [],
   "metadata": {}
  },
  {
   "cell_type": "code",
   "execution_count": null,
   "source": [
    "val[['2018_26']].to_csv(BASE_DIR.joinpath(f\"Bren_{VALID_NAME_SUB}_final.csv\"))"
   ],
   "outputs": [],
   "metadata": {}
  }
 ],
 "metadata": {
  "orig_nbformat": 4,
  "language_info": {
   "name": "python",
   "version": "3.9.1",
   "mimetype": "text/x-python",
   "codemirror_mode": {
    "name": "ipython",
    "version": 3
   },
   "pygments_lexer": "ipython3",
   "nbconvert_exporter": "python",
   "file_extension": ".py"
  },
  "kernelspec": {
   "name": "python3",
   "display_name": "Python 3.9.1 64-bit ('venv': venv)"
  },
  "interpreter": {
   "hash": "013d70d4f05822e765a66e6ee7180d5796e8d1da1ac4dcc2c5920d594c5a85a6"
  }
 },
 "nbformat": 4,
 "nbformat_minor": 2
}
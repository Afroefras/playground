{
 "cells": [
  {
   "cell_type": "code",
   "execution_count": 125,
   "metadata": {},
   "outputs": [],
   "source": [
    "import geopandas as gpd\n",
    "import matplotlib.pyplot as plt\n",
    "from shapely.geometry import Point, Polygon\n",
    "import shapely.speedups\n",
    "shapely.speedups.enable()\n",
    "gpd.io.file.fiona.drvsupport.supported_drivers['KML'] = 'rw'\n",
    "\n",
    "input_path='/Users/ivanjardon/Downloads/'\n",
    "output_path='/Users/ivanjardon/Documents/'"
   ]
  },
  {
   "cell_type": "code",
   "execution_count": 152,
   "metadata": {},
   "outputs": [
    {
     "data": {
      "image/svg+xml": [
       "<svg xmlns=\"http://www.w3.org/2000/svg\" xmlns:xlink=\"http://www.w3.org/1999/xlink\" width=\"100.0\" height=\"100.0\" viewBox=\"24.95079456 60.16905356 0.0028198800000041047 0.0011548800000014126\" preserveAspectRatio=\"xMinYMin meet\"><g transform=\"matrix(1,0,0,-1,0,120.339262)\"><path fill-rule=\"evenodd\" fill=\"#66cc99\" stroke=\"#555555\" stroke-width=\"5.639760000008209e-05\" opacity=\"0.6\" d=\"M 24.950899,60.169158 L 24.953492,60.169158 L 24.95351,60.170104 L 24.950958,60.16999 L 24.950899,60.169158 z\" /></g></svg>"
      ],
      "text/plain": [
       "<shapely.geometry.polygon.Polygon at 0x7feb9d7013d0>"
      ]
     },
     "execution_count": 152,
     "metadata": {},
     "output_type": "execute_result"
    }
   ],
   "source": [
    "# Create Point objects\n",
    "p1 = Point(24.952242, 60.1696017)\n",
    "p2 = Point(24.976567, 60.1612500)\n",
    "\n",
    "# Create a Polygon\n",
    "coords = [(24.950899, 60.169158), (24.953492, 60.169158), (24.953510, 60.170104), (24.950958, 60.169990)]\n",
    "poly = Polygon(coords)\n",
    "poly"
   ]
  },
  {
   "cell_type": "code",
   "execution_count": 127,
   "metadata": {},
   "outputs": [
    {
     "name": "stdout",
     "output_type": "stream",
     "text": [
      "POINT (24.952242 60.1696017)\n",
      "POINT (24.976567 60.16125)\n",
      "POLYGON ((24.950899 60.169158, 24.953492 60.169158, 24.95351 60.170104, 24.950958 60.16999, 24.950899 60.169158))\n",
      "True\n",
      "False\n",
      "True\n",
      "False\n"
     ]
    }
   ],
   "source": [
    "# Let's check what we have\n",
    "print(p1)\n",
    "print(p2)\n",
    "print(poly)\n",
    "# Does p1 & p2 are within the polygon?\n",
    "print(p1.within(poly))\n",
    "print(p2.within(poly))\n",
    "# Does polygon contain p1 & p2?\n",
    "print(poly.contains(p1))\n",
    "print(poly.contains(p2))"
   ]
  },
  {
   "cell_type": "code",
   "execution_count": 153,
   "metadata": {},
   "outputs": [
    {
     "name": "stderr",
     "output_type": "stream",
     "text": [
      "/Users/ivanjardon/python_programs/lib/python3.8/site-packages/geopandas/geodataframe.py:422: RuntimeWarning: Sequential read of iterator was interrupted. Resetting iterator. This can negatively impact the performance.\n",
      "  for feature in features_lst:\n"
     ]
    },
    {
     "data": {
      "text/html": [
       "<div>\n",
       "<style scoped>\n",
       "    .dataframe tbody tr th:only-of-type {\n",
       "        vertical-align: middle;\n",
       "    }\n",
       "\n",
       "    .dataframe tbody tr th {\n",
       "        vertical-align: top;\n",
       "    }\n",
       "\n",
       "    .dataframe thead th {\n",
       "        text-align: right;\n",
       "    }\n",
       "</style>\n",
       "<table border=\"1\" class=\"dataframe\">\n",
       "  <thead>\n",
       "    <tr style=\"text-align: right;\">\n",
       "      <th></th>\n",
       "      <th>Name</th>\n",
       "      <th>Description</th>\n",
       "      <th>geometry</th>\n",
       "    </tr>\n",
       "  </thead>\n",
       "  <tbody>\n",
       "    <tr>\n",
       "      <th>0</th>\n",
       "      <td>Zona de Cobertura Cornershop</td>\n",
       "      <td>Bodega_Name: &lt;br&gt;Adress:</td>\n",
       "      <td>POLYGON Z ((-99.23882 19.63788 0.00000, -99.30...</td>\n",
       "    </tr>\n",
       "  </tbody>\n",
       "</table>\n",
       "</div>"
      ],
      "text/plain": [
       "                           Name                Description  \\\n",
       "0  Zona de Cobertura Cornershop  Bodega_Name: <br>Adress:    \n",
       "\n",
       "                                            geometry  \n",
       "0  POLYGON Z ((-99.23882 19.63788 0.00000, -99.30...  "
      ]
     },
     "execution_count": 153,
     "metadata": {},
     "output_type": "execute_result"
    }
   ],
   "source": [
    "#OBTENER ZONA DE COBERTURA\n",
    "cobertura = gpd.read_file(input_path+\"Zona de Cobertura.kml\", driver='KML')\n",
    "cobertura"
   ]
  },
  {
   "cell_type": "code",
   "execution_count": 154,
   "metadata": {},
   "outputs": [
    {
     "data": {
      "image/png": "[encoded data removed]",
      "text/plain": [
       "<Figure size 432x288 with 1 Axes>"
      ]
     },
     "metadata": {
      "needs_background": "light"
     },
     "output_type": "display_data"
    }
   ],
   "source": [
    "#PLOT ZONA DE COBERTURA\n",
    "fig, ax = plt.subplots()\n",
    "cobertura.plot(ax=ax, facecolor='red')\n",
    "plt.tight_layout()"
   ]
  },
  {
   "cell_type": "code",
   "execution_count": 130,
   "metadata": {},
   "outputs": [
    {
     "name": "stderr",
     "output_type": "stream",
     "text": [
      "/Users/ivanjardon/python_programs/lib/python3.8/site-packages/geopandas/geodataframe.py:422: RuntimeWarning: Sequential read of iterator was interrupted. Resetting iterator. This can negatively impact the performance.\n",
      "  for feature in features_lst:\n"
     ]
    },
    {
     "data": {
      "text/html": [
       "<div>\n",
       "<style scoped>\n",
       "    .dataframe tbody tr th:only-of-type {\n",
       "        vertical-align: middle;\n",
       "    }\n",
       "\n",
       "    .dataframe tbody tr th {\n",
       "        vertical-align: top;\n",
       "    }\n",
       "\n",
       "    .dataframe thead th {\n",
       "        text-align: right;\n",
       "    }\n",
       "</style>\n",
       "<table border=\"1\" class=\"dataframe\">\n",
       "  <thead>\n",
       "    <tr style=\"text-align: right;\">\n",
       "      <th></th>\n",
       "      <th>Name</th>\n",
       "      <th>Description</th>\n",
       "      <th>geometry</th>\n",
       "    </tr>\n",
       "  </thead>\n",
       "  <tbody>\n",
       "    <tr>\n",
       "      <th>0</th>\n",
       "      <td>50011</td>\n",
       "      <td>NOMBRE_TIENDA: Malinalli MEX&lt;br&gt;LATITUD: 19.42...</td>\n",
       "      <td>POINT Z (-98.96534 19.42677 0.00000)</td>\n",
       "    </tr>\n",
       "    <tr>\n",
       "      <th>1</th>\n",
       "      <td>50042</td>\n",
       "      <td>NOMBRE_TIENDA: Real Granada MEX&lt;br&gt;LATITUD: 19...</td>\n",
       "      <td>POINT Z (-98.95954 19.73912 0.00000)</td>\n",
       "    </tr>\n",
       "    <tr>\n",
       "      <th>2</th>\n",
       "      <td>5005D</td>\n",
       "      <td>NOMBRE_TIENDA: San Antonio  MEX&lt;br&gt;LATITUD: 19...</td>\n",
       "      <td>POINT Z (-99.13441 19.41540 0.00000)</td>\n",
       "    </tr>\n",
       "    <tr>\n",
       "      <th>3</th>\n",
       "      <td>50069</td>\n",
       "      <td>NOMBRE_TIENDA: Malitzin MEX&lt;br&gt;LATITUD: 19.321...</td>\n",
       "      <td>POINT Z (-98.89320 19.32110 0.00000)</td>\n",
       "    </tr>\n",
       "    <tr>\n",
       "      <th>4</th>\n",
       "      <td>5007I</td>\n",
       "      <td>NOMBRE_TIENDA: Patio Ayotla MEX&lt;br&gt;LATITUD: 19...</td>\n",
       "      <td>POINT Z (-98.91961 19.30955 0.00000)</td>\n",
       "    </tr>\n",
       "  </tbody>\n",
       "</table>\n",
       "</div>"
      ],
      "text/plain": [
       "    Name                                        Description  \\\n",
       "0  50011  NOMBRE_TIENDA: Malinalli MEX<br>LATITUD: 19.42...   \n",
       "1  50042  NOMBRE_TIENDA: Real Granada MEX<br>LATITUD: 19...   \n",
       "2  5005D  NOMBRE_TIENDA: San Antonio  MEX<br>LATITUD: 19...   \n",
       "3  50069  NOMBRE_TIENDA: Malitzin MEX<br>LATITUD: 19.321...   \n",
       "4  5007I  NOMBRE_TIENDA: Patio Ayotla MEX<br>LATITUD: 19...   \n",
       "\n",
       "                               geometry  \n",
       "0  POINT Z (-98.96534 19.42677 0.00000)  \n",
       "1  POINT Z (-98.95954 19.73912 0.00000)  \n",
       "2  POINT Z (-99.13441 19.41540 0.00000)  \n",
       "3  POINT Z (-98.89320 19.32110 0.00000)  \n",
       "4  POINT Z (-98.91961 19.30955 0.00000)  "
      ]
     },
     "execution_count": 130,
     "metadata": {},
     "output_type": "execute_result"
    }
   ],
   "source": [
    "oxxos = gpd.read_file(input_path+\"mkt oxxo.xlsx.kml\", driver='KML')\n",
    "oxxos.head()"
   ]
  },
  {
   "cell_type": "code",
   "execution_count": 137,
   "metadata": {},
   "outputs": [
    {
     "data": {
      "image/png": "[encoded data removed]",
      "text/plain": [
       "<Figure size 432x288 with 1 Axes>"
      ]
     },
     "metadata": {
      "needs_background": "light"
     },
     "output_type": "display_data"
    }
   ],
   "source": [
    "#Verificar puntos dentro del mapa\n",
    "evaluacion = oxxos.within(cobertura.loc[0, 'geometry'])\n",
    "oxxos_within = oxxos.loc[evaluacion]\n",
    "fig, ax = plt.subplots()\n",
    "cobertura.plot(ax=ax, facecolor='red');\n",
    "oxxos_within.plot(ax=ax, color='gold', markersize=2);\n",
    "plt.tight_layout()\n",
    "\n",
    "oxxos_within.to_file(output_path+'oxxos.kml', driver='KML')"
   ]
  },
  {
   "cell_type": "code",
   "execution_count": 132,
   "metadata": {},
   "outputs": [
    {
     "data": {
      "text/html": [
       "<div>\n",
       "<style scoped>\n",
       "    .dataframe tbody tr th:only-of-type {\n",
       "        vertical-align: middle;\n",
       "    }\n",
       "\n",
       "    .dataframe tbody tr th {\n",
       "        vertical-align: top;\n",
       "    }\n",
       "\n",
       "    .dataframe thead th {\n",
       "        text-align: right;\n",
       "    }\n",
       "</style>\n",
       "<table border=\"1\" class=\"dataframe\">\n",
       "  <thead>\n",
       "    <tr style=\"text-align: right;\">\n",
       "      <th></th>\n",
       "      <th>Name</th>\n",
       "      <th>Description</th>\n",
       "      <th>geometry</th>\n",
       "      <th>within coverage area</th>\n",
       "    </tr>\n",
       "  </thead>\n",
       "  <tbody>\n",
       "    <tr>\n",
       "      <th>0</th>\n",
       "      <td>50011</td>\n",
       "      <td>NOMBRE_TIENDA: Malinalli MEX&lt;br&gt;LATITUD: 19.42...</td>\n",
       "      <td>POINT Z (-98.96534 19.42677 0.00000)</td>\n",
       "      <td>False</td>\n",
       "    </tr>\n",
       "    <tr>\n",
       "      <th>1</th>\n",
       "      <td>50042</td>\n",
       "      <td>NOMBRE_TIENDA: Real Granada MEX&lt;br&gt;LATITUD: 19...</td>\n",
       "      <td>POINT Z (-98.95954 19.73912 0.00000)</td>\n",
       "      <td>False</td>\n",
       "    </tr>\n",
       "    <tr>\n",
       "      <th>2</th>\n",
       "      <td>5005D</td>\n",
       "      <td>NOMBRE_TIENDA: San Antonio  MEX&lt;br&gt;LATITUD: 19...</td>\n",
       "      <td>POINT Z (-99.13441 19.41540 0.00000)</td>\n",
       "      <td>True</td>\n",
       "    </tr>\n",
       "    <tr>\n",
       "      <th>3</th>\n",
       "      <td>50069</td>\n",
       "      <td>NOMBRE_TIENDA: Malitzin MEX&lt;br&gt;LATITUD: 19.321...</td>\n",
       "      <td>POINT Z (-98.89320 19.32110 0.00000)</td>\n",
       "      <td>False</td>\n",
       "    </tr>\n",
       "    <tr>\n",
       "      <th>4</th>\n",
       "      <td>5007I</td>\n",
       "      <td>NOMBRE_TIENDA: Patio Ayotla MEX&lt;br&gt;LATITUD: 19...</td>\n",
       "      <td>POINT Z (-98.91961 19.30955 0.00000)</td>\n",
       "      <td>False</td>\n",
       "    </tr>\n",
       "  </tbody>\n",
       "</table>\n",
       "</div>"
      ],
      "text/plain": [
       "    Name                                        Description  \\\n",
       "0  50011  NOMBRE_TIENDA: Malinalli MEX<br>LATITUD: 19.42...   \n",
       "1  50042  NOMBRE_TIENDA: Real Granada MEX<br>LATITUD: 19...   \n",
       "2  5005D  NOMBRE_TIENDA: San Antonio  MEX<br>LATITUD: 19...   \n",
       "3  50069  NOMBRE_TIENDA: Malitzin MEX<br>LATITUD: 19.321...   \n",
       "4  5007I  NOMBRE_TIENDA: Patio Ayotla MEX<br>LATITUD: 19...   \n",
       "\n",
       "                               geometry  within coverage area  \n",
       "0  POINT Z (-98.96534 19.42677 0.00000)                 False  \n",
       "1  POINT Z (-98.95954 19.73912 0.00000)                 False  \n",
       "2  POINT Z (-99.13441 19.41540 0.00000)                  True  \n",
       "3  POINT Z (-98.89320 19.32110 0.00000)                 False  \n",
       "4  POINT Z (-98.91961 19.30955 0.00000)                 False  "
      ]
     },
     "execution_count": 132,
     "metadata": {},
     "output_type": "execute_result"
    }
   ],
   "source": [
    "#Etiquetar oxxos dentro del area de cobertura con true or false\n",
    "oxxos['within coverage area'] = oxxos.within(cobertura.loc[0, 'geometry'])\n",
    "oxxos.head()\n",
    "\n"
   ]
  },
  {
   "cell_type": "code",
   "execution_count": null,
   "metadata": {},
   "outputs": [],
   "source": [
    "#Exportar a excel los que si estan dentro del area\n",
    "oxxos.to_excel(output_path+'oxxos.xlsx',index=False)"
   ]
  }
 ],
 "metadata": {
  "kernelspec": {
   "display_name": "Python 3",
   "language": "python",
   "name": "python3"
  },
  "language_info": {
   "codemirror_mode": {
    "name": "ipython",
    "version": 3
   },
   "file_extension": ".py",
   "mimetype": "text/x-python",
   "name": "python",
   "nbconvert_exporter": "python",
   "pygments_lexer": "ipython3",
   "version": "3.9.1"
  },
  "toc": {
   "base_numbering": 1,
   "nav_menu": {},
   "number_sections": true,
   "sideBar": true,
   "skip_h1_title": true,
   "title_cell": "Table of Contents",
   "title_sidebar": "Contents",
   "toc_cell": false,
   "toc_position": {},
   "toc_section_display": true,
   "toc_window_display": false
  },
  "varInspector": {
   "cols": {
    "lenName": 16,
    "lenType": 16,
    "lenVar": 40
   },
   "kernels_config": {
    "python": {
     "delete_cmd_postfix": "",
     "delete_cmd_prefix": "del ",
     "library": "var_list.py",
     "varRefreshCmd": "print(var_dic_list())"
    },
    "r": {
     "delete_cmd_postfix": ") ",
     "delete_cmd_prefix": "rm(",
     "library": "var_list.r",
     "varRefreshCmd": "cat(var_dic_list()) "
    }
   },
   "types_to_exclude": [
    "module",
    "function",
    "builtin_function_or_method",
    "instance",
    "_Feature"
   ],
   "window_display": false
  }
 },
 "nbformat": 4,
 "nbformat_minor": 4
}

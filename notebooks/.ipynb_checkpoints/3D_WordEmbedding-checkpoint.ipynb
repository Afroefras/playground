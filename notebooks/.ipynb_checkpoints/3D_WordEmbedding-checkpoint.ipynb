{
 "cells": [
  {
   "cell_type": "markdown",
   "id": "0fcf5b7c",
   "metadata": {},
   "source": [
    "# 3D Word Embedding"
   ]
  },
  {
   "cell_type": "markdown",
   "id": "0476dd38",
   "metadata": {
    "heading_collapsed": true
   },
   "source": [
    "## Parameters"
   ]
  },
  {
   "cell_type": "code",
   "execution_count": 1,
   "id": "373ee206",
   "metadata": {
    "ExecuteTime": {
     "end_time": "2021-05-25T22:15:19.989096Z",
     "start_time": "2021-05-25T22:15:19.985102Z"
    },
    "hidden": true
   },
   "outputs": [],
   "source": [
    "import sys\n",
    "#Define the path of packages\n",
    "sys.path.append('/Users/efraflores/Desktop/hub/playground/venv/lib/python3.9/site-packages')"
   ]
  },
  {
   "cell_type": "code",
   "execution_count": 2,
   "id": "8fbae64f",
   "metadata": {
    "ExecuteTime": {
     "end_time": "2021-05-25T22:15:20.663378Z",
     "start_time": "2021-05-25T22:15:20.226730Z"
    },
    "hidden": true
   },
   "outputs": [
    {
     "name": "stdout",
     "output_type": "stream",
     "text": [
      "['.DS_Store', '3D_WordEmbedding.csv', '3D_WordEmbedding.png', 'The_Last_Question.pdf', 'asimov_features.csv', 'corpus.txt', 'doc', 'glove.6B.100d.txt', 'glove.6B.200d.txt', 'glove.6B.300d.txt', 'glove.6B.50d.txt', 'glove.6B.zip', 'project', 'rnn_asimov_architecture.json', 'rnn_asimov_tokenizer.pickle', 'rnn_asimov_weights.h5']\n"
     ]
    }
   ],
   "source": [
    "import os\n",
    "import pandas as pd\n",
    "\n",
    "BASE_DIR = '/Users/efraflores/Desktop/EF/Diplo/Asimov'\n",
    "print(sorted(os.listdir(BASE_DIR)))\n",
    "EMBEDDING_DIM = 300"
   ]
  },
  {
   "cell_type": "markdown",
   "id": "37607865",
   "metadata": {
    "heading_collapsed": true
   },
   "source": [
    "## GloVe"
   ]
  },
  {
   "cell_type": "code",
   "execution_count": 3,
   "id": "936dca50",
   "metadata": {
    "ExecuteTime": {
     "end_time": "2021-05-24T18:39:45.245208Z",
     "start_time": "2021-05-24T18:39:08.612952Z"
    },
    "hidden": true
   },
   "outputs": [
    {
     "data": {
      "text/html": [
       "<div>\n",
       "<style scoped>\n",
       "    .dataframe tbody tr th:only-of-type {\n",
       "        vertical-align: middle;\n",
       "    }\n",
       "\n",
       "    .dataframe tbody tr th {\n",
       "        vertical-align: top;\n",
       "    }\n",
       "\n",
       "    .dataframe thead th {\n",
       "        text-align: right;\n",
       "    }\n",
       "</style>\n",
       "<table border=\"1\" class=\"dataframe\">\n",
       "  <thead>\n",
       "    <tr style=\"text-align: right;\">\n",
       "      <th></th>\n",
       "      <th>0</th>\n",
       "      <th>1</th>\n",
       "      <th>2</th>\n",
       "      <th>3</th>\n",
       "      <th>4</th>\n",
       "      <th>5</th>\n",
       "      <th>6</th>\n",
       "      <th>7</th>\n",
       "      <th>8</th>\n",
       "      <th>9</th>\n",
       "      <th>...</th>\n",
       "      <th>290</th>\n",
       "      <th>291</th>\n",
       "      <th>292</th>\n",
       "      <th>293</th>\n",
       "      <th>294</th>\n",
       "      <th>295</th>\n",
       "      <th>296</th>\n",
       "      <th>297</th>\n",
       "      <th>298</th>\n",
       "      <th>299</th>\n",
       "    </tr>\n",
       "  </thead>\n",
       "  <tbody>\n",
       "    <tr>\n",
       "      <th>eyo</th>\n",
       "      <td>-0.14179</td>\n",
       "      <td>-0.1476</td>\n",
       "      <td>-0.51338</td>\n",
       "      <td>0.27316</td>\n",
       "      <td>-0.075388</td>\n",
       "      <td>0.14448</td>\n",
       "      <td>0.92536</td>\n",
       "      <td>-0.11734</td>\n",
       "      <td>-0.034651</td>\n",
       "      <td>0.59225</td>\n",
       "      <td>...</td>\n",
       "      <td>0.31893</td>\n",
       "      <td>0.39141</td>\n",
       "      <td>-0.58556</td>\n",
       "      <td>0.31501</td>\n",
       "      <td>-0.30712</td>\n",
       "      <td>-0.83642</td>\n",
       "      <td>-0.14884</td>\n",
       "      <td>0.16472</td>\n",
       "      <td>0.16469</td>\n",
       "      <td>-0.11288</td>\n",
       "    </tr>\n",
       "  </tbody>\n",
       "</table>\n",
       "<p>1 rows × 300 columns</p>\n",
       "</div>"
      ],
      "text/plain": [
       "         0       1        2        3         4        5        6        7    \\\n",
       "eyo -0.14179 -0.1476 -0.51338  0.27316 -0.075388  0.14448  0.92536 -0.11734   \n",
       "\n",
       "          8        9    ...      290      291      292      293      294  \\\n",
       "eyo -0.034651  0.59225  ...  0.31893  0.39141 -0.58556  0.31501 -0.30712   \n",
       "\n",
       "         295      296      297      298      299  \n",
       "eyo -0.83642 -0.14884  0.16472  0.16469 -0.11288  \n",
       "\n",
       "[1 rows x 300 columns]"
      ]
     },
     "execution_count": 3,
     "metadata": {},
     "output_type": "execute_result"
    }
   ],
   "source": [
    "import numpy as np\n",
    "\n",
    "#Get the pre-trained vectors as a dict\n",
    "emb_dict = {}\n",
    "with open(os.path.join(BASE_DIR,f'glove.6B.{EMBEDDING_DIM}d.txt')) as f:\n",
    "    for line in f:\n",
    "        #Each line is a word with its coef sep by \\s\n",
    "        word, coefs = line.split(maxsplit=1)\n",
    "        #Like .split() transforming strings into an array\n",
    "        coefs = np.fromstring(coefs,'f',sep=' ')\n",
    "        #Update the dict with a new word and its coef\n",
    "        emb_dict[word] = coefs\n",
    "        \n",
    "df = pd.DataFrame(emb_dict).T\n",
    "df.sample()"
   ]
  },
  {
   "cell_type": "markdown",
   "id": "4c1e1c9b",
   "metadata": {
    "ExecuteTime": {
     "end_time": "2021-05-24T17:20:49.737386Z",
     "start_time": "2021-05-24T17:20:49.688739Z"
    },
    "heading_collapsed": true
   },
   "source": [
    "## Dim reduction"
   ]
  },
  {
   "cell_type": "code",
   "execution_count": 4,
   "id": "3d5fe520",
   "metadata": {
    "ExecuteTime": {
     "end_time": "2021-05-24T18:39:50.352803Z",
     "start_time": "2021-05-24T18:39:45.248303Z"
    },
    "hidden": true
   },
   "outputs": [
    {
     "data": {
      "text/html": [
       "<div>\n",
       "<style scoped>\n",
       "    .dataframe tbody tr th:only-of-type {\n",
       "        vertical-align: middle;\n",
       "    }\n",
       "\n",
       "    .dataframe tbody tr th {\n",
       "        vertical-align: top;\n",
       "    }\n",
       "\n",
       "    .dataframe thead th {\n",
       "        text-align: right;\n",
       "    }\n",
       "</style>\n",
       "<table border=\"1\" class=\"dataframe\">\n",
       "  <thead>\n",
       "    <tr style=\"text-align: right;\">\n",
       "      <th></th>\n",
       "      <th>0</th>\n",
       "      <th>1</th>\n",
       "      <th>2</th>\n",
       "    </tr>\n",
       "  </thead>\n",
       "  <tbody>\n",
       "    <tr>\n",
       "      <th>mahur</th>\n",
       "      <td>-0.564124</td>\n",
       "      <td>-0.743216</td>\n",
       "      <td>-0.323968</td>\n",
       "    </tr>\n",
       "    <tr>\n",
       "      <th>dakroub</th>\n",
       "      <td>-0.196920</td>\n",
       "      <td>-0.708499</td>\n",
       "      <td>0.480787</td>\n",
       "    </tr>\n",
       "    <tr>\n",
       "      <th>rodenberg</th>\n",
       "      <td>-0.012771</td>\n",
       "      <td>1.505456</td>\n",
       "      <td>-0.104460</td>\n",
       "    </tr>\n",
       "    <tr>\n",
       "      <th>grinstein</th>\n",
       "      <td>0.424480</td>\n",
       "      <td>1.255726</td>\n",
       "      <td>0.145018</td>\n",
       "    </tr>\n",
       "  </tbody>\n",
       "</table>\n",
       "</div>"
      ],
      "text/plain": [
       "                  0         1         2\n",
       "mahur     -0.564124 -0.743216 -0.323968\n",
       "dakroub   -0.196920 -0.708499  0.480787\n",
       "rodenberg -0.012771  1.505456 -0.104460\n",
       "grinstein  0.424480  1.255726  0.145018"
      ]
     },
     "execution_count": 4,
     "metadata": {},
     "output_type": "execute_result"
    }
   ],
   "source": [
    "from sklearn.decomposition import PCA\n",
    "\n",
    "pca = PCA(3)\n",
    "X = pd.DataFrame(pca.fit_transform(df),index=df.index)\n",
    "X.sample(4)"
   ]
  },
  {
   "cell_type": "markdown",
   "id": "8c0ed749",
   "metadata": {
    "heading_collapsed": true
   },
   "source": [
    "## Clustering"
   ]
  },
  {
   "cell_type": "code",
   "execution_count": 5,
   "id": "1ca46a07",
   "metadata": {
    "ExecuteTime": {
     "end_time": "2021-05-24T18:39:56.874920Z",
     "start_time": "2021-05-24T18:39:50.355742Z"
    },
    "hidden": true
   },
   "outputs": [
    {
     "data": {
      "text/plain": [
       "2    0.145363\n",
       "6    0.143885\n",
       "1    0.139253\n",
       "7    0.134405\n",
       "8    0.125685\n",
       "5    0.116795\n",
       "0    0.074203\n",
       "4    0.062043\n",
       "3    0.058370\n",
       "Name: cluster, dtype: float64"
      ]
     },
     "execution_count": 5,
     "metadata": {},
     "output_type": "execute_result"
    }
   ],
   "source": [
    "'''!pip install sklearn'''\n",
    "from sklearn.cluster import KMeans\n",
    "from sklearn.pipeline import Pipeline\n",
    "from sklearn.preprocessing import MinMaxScaler\n",
    "\n",
    "clustering = Pipeline(steps=[('MinMax',MinMaxScaler()),('PCA', KMeans(9, random_state=22))])\n",
    "X['cluster'] = clustering.fit_predict(X[[x for x in X.columns if x not in ['cluster']]])\n",
    "X['cluster'].value_counts(1)"
   ]
  },
  {
   "cell_type": "code",
   "execution_count": 6,
   "id": "0489d26a",
   "metadata": {
    "ExecuteTime": {
     "end_time": "2021-05-24T18:39:58.140589Z",
     "start_time": "2021-05-24T18:39:56.878962Z"
    },
    "hidden": true
   },
   "outputs": [],
   "source": [
    "X.to_csv(os.path.join(BASE_DIR,'3D_WordEmbedding.csv'))"
   ]
  },
  {
   "cell_type": "markdown",
   "id": "8efdd334",
   "metadata": {
    "heading_collapsed": true
   },
   "source": [
    "## 3D plot"
   ]
  },
  {
   "cell_type": "code",
   "execution_count": 3,
   "id": "1a5ac532",
   "metadata": {
    "ExecuteTime": {
     "end_time": "2021-05-25T22:15:25.782474Z",
     "start_time": "2021-05-25T22:15:25.186950Z"
    },
    "hidden": true
   },
   "outputs": [
    {
     "data": {
      "text/html": [
       "<div>\n",
       "<style scoped>\n",
       "    .dataframe tbody tr th:only-of-type {\n",
       "        vertical-align: middle;\n",
       "    }\n",
       "\n",
       "    .dataframe tbody tr th {\n",
       "        vertical-align: top;\n",
       "    }\n",
       "\n",
       "    .dataframe thead th {\n",
       "        text-align: right;\n",
       "    }\n",
       "</style>\n",
       "<table border=\"1\" class=\"dataframe\">\n",
       "  <thead>\n",
       "    <tr style=\"text-align: right;\">\n",
       "      <th></th>\n",
       "      <th>0</th>\n",
       "      <th>1</th>\n",
       "      <th>2</th>\n",
       "      <th>cluster</th>\n",
       "    </tr>\n",
       "  </thead>\n",
       "  <tbody>\n",
       "    <tr>\n",
       "      <th>kjøbenhavns</th>\n",
       "      <td>-0.338083</td>\n",
       "      <td>-0.388978</td>\n",
       "      <td>-0.312897</td>\n",
       "      <td>5</td>\n",
       "    </tr>\n",
       "  </tbody>\n",
       "</table>\n",
       "</div>"
      ],
      "text/plain": [
       "                    0         1         2  cluster\n",
       "kjøbenhavns -0.338083 -0.388978 -0.312897        5"
      ]
     },
     "execution_count": 3,
     "metadata": {},
     "output_type": "execute_result"
    }
   ],
   "source": [
    "X = pd.read_csv(os.path.join(BASE_DIR,'3D_WordEmbedding.csv'),index_col=0)\n",
    "X.sample()"
   ]
  },
  {
   "cell_type": "code",
   "execution_count": 4,
   "id": "438cbe75",
   "metadata": {
    "ExecuteTime": {
     "end_time": "2021-05-25T22:15:29.920166Z",
     "start_time": "2021-05-25T22:15:28.606670Z"
    },
    "hidden": true
   },
   "outputs": [],
   "source": [
    "'''!pip install ipympl'''\n",
    "'''!pip install seaborn'''\n",
    "import seaborn as sns\n",
    "import matplotlib.pyplot as plt\n",
    "from mpl_toolkits.mplot3d import Axes3D\n",
    "from matplotlib.colors import ListedColormap\n",
    "#%matplotlib widget"
   ]
  },
  {
   "cell_type": "code",
   "execution_count": 8,
   "id": "8d23073c",
   "metadata": {
    "ExecuteTime": {
     "end_time": "2021-05-25T22:22:17.990834Z",
     "start_time": "2021-05-25T22:22:17.006458Z"
    },
    "hidden": true
   },
   "outputs": [
    {
     "data": {
      "image/png": "[encoded data removed]",
      "text/plain": [
       "<Figure size 504x432 with 1 Axes>"
      ]
     },
     "metadata": {
      "needs_background": "light"
     },
     "output_type": "display_data"
    }
   ],
   "source": [
    "X_sample = X.sample(frac=.0002)\n",
    "\n",
    "cmap = ListedColormap(sns.color_palette(\"husl\", 256).as_hex())\n",
    "\n",
    "fig = plt.figure(figsize=(7,6))\n",
    "ax = fig.add_subplot(111, projection='3d')\n",
    "sc = ax.scatter(X_sample['0'].values,\n",
    "                X_sample['1'].values,\n",
    "                X_sample['2'].values,\n",
    "                cmap=cmap,\n",
    "                c=X_sample['cluster'],\n",
    "                marker='x')\n",
    "plt.legend(*sc.legend_elements(), bbox_to_anchor=(1.05, 1), loc=2)\n",
    "for i,x in enumerate(X_sample.index):\n",
    "    ax.text(X_sample['0'].values[i],X_sample['1'].values[i],X_sample['2'].values[i],\n",
    "            '%s' % (str(x)), size=5, zorder=3, color='k')\n",
    "\n",
    "plt.savefig(os.path.join(BASE_DIR,'3D_WordEmbedding.png'), transparent=True)\n",
    "plt.show()"
   ]
  },
  {
   "cell_type": "markdown",
   "id": "57115cd3",
   "metadata": {
    "heading_collapsed": true
   },
   "source": [
    "## Nicer look"
   ]
  },
  {
   "cell_type": "code",
   "execution_count": 7,
   "id": "11a1c4a5",
   "metadata": {
    "ExecuteTime": {
     "end_time": "2021-05-25T22:17:12.362199Z",
     "start_time": "2021-05-25T22:17:12.155764Z"
    },
    "hidden": true
   },
   "outputs": [
    {
     "data": {
      "image/png": "[encoded data removed]",
      "text/plain": [
       "<Figure size 432x432 with 1 Axes>"
      ]
     },
     "metadata": {
      "needs_background": "dark"
     },
     "output_type": "display_data"
    }
   ],
   "source": [
    "import matplotlib\n",
    "matplotlib.rc('axes',edgecolor='w')\n",
    "\n",
    "X_sample = X.sample(frac=.00015)\n",
    "X_sample.index = X_sample['cluster'].map(dict(zip(range(len(set(X_sample['cluster']))),\n",
    "                                                       ['pets','numbers','months','jobs',\n",
    "                                                        'tools','sports','minerals',\n",
    "                                                        'countries','verbs','travel',\n",
    "                                                        'home'])))\n",
    "\n",
    "cmap = ListedColormap(sns.color_palette(\"husl\", 256).as_hex())\n",
    "\n",
    "fig = plt.figure(figsize=(6,6))\n",
    "ax = fig.add_subplot(111)\n",
    "sc = ax.scatter(X_sample['0'].values,\n",
    "                X_sample['1'].values,\n",
    "                cmap=cmap,\n",
    "                c=X_sample['cluster'],\n",
    "                marker='o')\n",
    "ax.tick_params(axis='x', colors='white')    #setting up X-axis tick color to red\n",
    "ax.tick_params(axis='y', colors='white')\n",
    "#plt.legend(*sc.legend_elements(), bbox_to_anchor=(1.05, 1), loc=2)\n",
    "'''for i,x in enumerate(X_sample.index):\n",
    "    ax.text(X_sample['0'].values[i],X_sample['1'].values[i],\n",
    "            '%s' % (str(x)), size=7, zorder=3, color='k')'''\n",
    "#ax.set_facecolor('#C2D5D5')\n",
    "plt.savefig(os.path.join(BASE_DIR,'3D_WordEmbedding.png'), transparent=True)\n",
    "plt.show()"
   ]
  }
 ],
 "metadata": {
  "kernelspec": {
   "display_name": "Python 3",
   "language": "python",
   "name": "python3"
  },
  "language_info": {
   "codemirror_mode": {
    "name": "ipython",
    "version": 3
   },
   "file_extension": ".py",
   "mimetype": "text/x-python",
   "name": "python",
   "nbconvert_exporter": "python",
   "pygments_lexer": "ipython3",
   "version": "3.9.1"
  },
  "toc": {
   "base_numbering": 1,
   "nav_menu": {},
   "number_sections": true,
   "sideBar": true,
   "skip_h1_title": true,
   "title_cell": "Table of Contents",
   "title_sidebar": "Contents",
   "toc_cell": false,
   "toc_position": {},
   "toc_section_display": true,
   "toc_window_display": false
  },
  "varInspector": {
   "cols": {
    "lenName": 16,
    "lenType": 16,
    "lenVar": 40
   },
   "kernels_config": {
    "python": {
     "delete_cmd_postfix": "",
     "delete_cmd_prefix": "del ",
     "library": "var_list.py",
     "varRefreshCmd": "print(var_dic_list())"
    },
    "r": {
     "delete_cmd_postfix": ") ",
     "delete_cmd_prefix": "rm(",
     "library": "var_list.r",
     "varRefreshCmd": "cat(var_dic_list()) "
    }
   },
   "types_to_exclude": [
    "module",
    "function",
    "builtin_function_or_method",
    "instance",
    "_Feature"
   ],
   "window_display": false
  }
 },
 "nbformat": 4,
 "nbformat_minor": 5
}
